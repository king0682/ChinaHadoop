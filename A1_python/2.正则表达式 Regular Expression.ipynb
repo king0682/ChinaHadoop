{
 "cells": [
  {
   "cell_type": "markdown",
   "metadata": {},
   "source": [
    "## 正则表达式语法\n",
    "**[小象学院](http://www.chinahadoop.cn/course/landpage/15)《机器学习集训营》课程资料 by [@寒小阳](https://blog.csdn.net/han_xiaoyang)**\n",
    "\n",
    "正则表达书是一个包含众多语法的技能，相对于“闭卷考试”，大家一定也更喜欢“开卷考试”，这里我们为大家准备了一张**python正则表达式速查表**，一起来学习一下。\n",
    "\n",
    "当你要匹配 **一个/多个/任意个 数字/字母/非数字/非字母/某几个字符/任意字符**，想要 **贪婪/非贪婪** 匹配，想要捕获匹配出来的 **第一个/所有** 内容的时候，记得这里有个小手册供你参考。\n",
    "\n",
    "在线检测平台：http://regexr.com/ ，可以<font color=##FF0000>**学习、练习题、巩固、验证**</font>。"
   ]
  },
  {
   "cell_type": "markdown",
   "metadata": {},
   "source": [
    "![](./regular_expression.jpg)"
   ]
  },
  {
   "cell_type": "markdown",
   "metadata": {},
   "source": [
    "### 具体补充案例\n",
    "\n",
    "匹配单个字符：\n",
    "1. 想匹配全文的某几个单个字母或字母，如a,b,d；0,2,5,8  \n",
    "语法：`[abd]`, `[0258]`, `[a-c]`(注意这里不是{a-c}), `[0-5]`  \n",
    "2. 匹配所有数字：`\\d`, 匹配所有非数字`\\D`  \n",
    "3. 匹配空格,Tab等看起来空白的字符：`\\s`, 匹配所有非空格的：`\\S`  \n",
    "4. 匹配字母数字下划线(有点像标识符)[A-Za-z0-9_]：`\\w`, 匹配空格符号等：`\\W`\n",
    "\n",
    "匹配多个字符：\n",
    "1. 匹配三个m：`m{3}`\n",
    "2. 找出mm,mmm,mmmm的组合：`m{2,4}`\n",
    "3. 贪婪匹配\n",
    "    * (0个或者更多个)：`*`  \n",
    "    * (1个或者更多个，至少一个)：`+` \n",
    "    * (0个或者1个)：`?`\n",
    "4. 只匹配字符串开头出现的某个组合，如文中有多次出现The，但是我只想匹配到段首的The：`^`（如`^The`），如果只想匹配段尾的The：`$`（如`The$`）\n",
    "5. 几个没讲的案例\n",
    "    * `\\A`：不会\n",
    "    * `\\b`：不太会用，只知道匹配**字符&非字符**，案例：`see\\b.matches` 匹配 **see matches** 和 **see?matches**\n",
    "    * `\\b`：不会\n",
    "    * `\\B`：不会"
   ]
  },
  {
   "cell_type": "markdown",
   "metadata": {},
   "source": [
    "### 进阶练习\n",
    "https://alf.nu/RegexGolf"
   ]
  },
  {
   "cell_type": "markdown",
   "metadata": {},
   "source": [
    "## Python正则表达式\n",
    "### re模块\n",
    "Python通过re模块提供对正则表达式的支持。\n",
    "\n",
    "使用re的一般步骤是\n",
    "* 1.**编译模板**：将正则表达式的字符串形式编译为Pattern实例\n",
    "* 2.**模板匹配文字**：使用Pattern实例处理文本并获得匹配结果（一个Match实例）\n",
    "* 3.**提取匹配结果**：使用Match实例获得信息，进行其他的操作。"
   ]
  },
  {
   "cell_type": "code",
   "execution_count": 15,
   "metadata": {},
   "outputs": [
    {
     "name": "stdout",
     "output_type": "stream",
     "text": [
      "hello, hanxiaoyang! How are you?\n",
      "hello, hanxiaoyang!\n"
     ]
    }
   ],
   "source": [
    "# encoding: UTF-8\n",
    "import re\n",
    " \n",
    "# 将正则表达式编译成Pattern对象\n",
    "pattern = re.compile(r'hello.*\\!')\n",
    " \n",
    "# 使用Pattern匹配文本，获得匹配结果，无法匹配时将返回None\n",
    "match = pattern.match('hello, hanxiaoyang! How are you?')\n",
    "\n",
    "# 也可以一步到位\n",
    "match = re.match(r'hello.*\\!', 'hello, hanxiaoyang! How are you?')\n",
    "\n",
    "if match:\n",
    "    # 使用Match获得分组信息\n",
    "    print(match.string)\n",
    "    print(match.group())"
   ]
  },
  {
   "cell_type": "markdown",
   "metadata": {},
   "source": [
    "### 模块说明（还是不懂怎么用）\n",
    "`re.compile(strPattern[, flag])`:\n",
    "\n",
    "这个方法是Pattern类的工厂方法，用于将字符串形式的正则表达式编译为Pattern对象。 \n",
    "\n",
    "第二个参数`flag`是匹配模式，取值可以使用按位或运算符'|'表示同时生效，比如`re.I | re.M`。\n",
    "\n",
    "当然，你也可以在regex字符串中指定模式，比如`re.compile('pattern', re.I | re.M)`等价于`re.compile('(?im)pattern')`  \n",
    "\n",
    "`flag`可选值有：\n",
    "\n",
    "* `re.I(re.IGNORECASE)`: 忽略大小写（括号内是完整写法，下同）\n",
    "* `re.M(MULTILINE)`: 多行模式，改变'^'和'$'的行为（参见上图）\n",
    "* `re.S(DOTALL)`: 点任意匹配模式，改变'.'的行为\n",
    "* `re.L(LOCALE)`: 使预定字符类 \\w \\W \\b \\B \\s \\S 取决于当前区域设定\n",
    "* `re.U(UNICODE)`: 使预定字符类 \\w \\W \\b \\B \\s \\S \\d \\D 取决于unicode定义的字符属性\n",
    "* `re.X(VERBOSE)`: 详细模式（用正则表达式做注解）。这个模式下正则表达式可以是多行，忽略空白字符，并可以加入注释。以下两个正则表达式是等价的："
   ]
  },
  {
   "cell_type": "code",
   "execution_count": null,
   "metadata": {},
   "outputs": [],
   "source": [
    "regex_1 = re.compile(r\"\"\"\\d +  # 数字部分\n",
    "                         \\.    # 小数点部分\n",
    "                         \\d *  # 小数的数字部分\"\"\", re.X)\n",
    "regex_2 = re.compile(r\"\\d+\\.\\d*\")"
   ]
  },
  {
   "cell_type": "markdown",
   "metadata": {},
   "source": [
    "### Match\n",
    "Match对象是**一次匹配的结果**，而且是**从头匹配**，包含了很多关于此次匹配的信息，可以使用Match提供的可读属性或方法来获取这些信息。\n",
    "\n",
    "**match属性：**\n",
    "\n",
    "* **string**: 匹配时使用的文本。\n",
    "* **re**: 匹配时使用的Pattern对象。\n",
    "* **pos**: 文本中正则表达式开始搜索的索引。值与`Pattern.match()` 和 `Pattern.seach()`方法的同名参数相同。\n",
    "* **endpos**: 文本中正则表达式结束搜索的索引。值与`Pattern.match()` 和 `Pattern.seach()`方法的同名参数相同。\n",
    "* **lastindex**: 最后一个被捕获的分组在文本中的索引。如果没有被捕获的分组，将为None。\n",
    "* **lastgroup**: 最后一个被捕获的分组的别名。如果这个分组没有别名或者没有被捕获的分组，将为None。\n",
    "\n",
    "**match方法：**\n",
    "\n",
    "* **group([group1, …])**: <br>\n",
    "获得一个或多个分组截获的字符串；指定多个参数时将以元组形式返回。group1可以使用编号也可以使用别名；编号0代表整个匹配的子串；不填写参数时，返回group(0)；没有截获字符串的组返回None；截获了多次的组返回最后一次截获的子串。\n",
    "* **groups([default])**: <br>\n",
    "以元组形式返回全部分组截获的字符串。相当于调用group(1,2,…last)。default表示没有截获字符串的组以这个值替代，默认为None。\n",
    "* **groupdict([default])**: <br>\n",
    "返回以有别名的组的别名为键、以该组截获的子串为值的字典，没有别名的组不包含在内。default含义同上。\n",
    "* **start([group])**: <br>\n",
    "返回指定的组截获的子串在string中的起始索引（子串第一个字符的索引）。group默认值为0。\n",
    "* **end([group])**: <br>\n",
    "返回指定的组截获的子串在string中的结束索引（子串最后一个字符的索引+1）。group默认值为0。\n",
    "* **span([group])**: <br>\n",
    "返回`(start(group), end(group))`。\n",
    "* **expand(template)**: <br>\n",
    "将匹配到的分组代入template中然后返回。template中可以使用\\id或\\g<id>、\\g<name>引用分组，但不能使用编号0。\\id与\\g<id>是等价的；但\\10将被认为是第10个分组，如果你想表达\\1之后是字符'0'，只能使用\\g<1>0。"
   ]
  },
  {
   "cell_type": "code",
   "execution_count": 42,
   "metadata": {},
   "outputs": [
    {
     "name": "stdout",
     "output_type": "stream",
     "text": [
      "m.string: hello hanxiaoyang!\n",
      "m.re: re.compile('(\\\\w+) (\\\\w+)(?P<sign>.*)')\n",
      "m.pos: 0\n",
      "m.endpos: 18\n",
      "m.lastindex: 3\n",
      "m.lastgroup: sign\n",
      "m.group(1,2): ('hello', 'hanxiaoyang')\n",
      "m.groups(): ('hello', 'hanxiaoyang', '!')\n",
      "m.groupdict(): {'sign': '!'}\n",
      "m.start(2): 6\n",
      "m.end(2): 17\n",
      "m.span(2): (6, 17)\n",
      "m.expand(r'\\2 \\1\\3'): hanxiaoyang hello!\n"
     ]
    }
   ],
   "source": [
    "import re\n",
    "# pattern解读：字母/数字/下划线若干(至少1个)，遇见1个空格，字母/数字/下划线若干(至少1个)，遇见一个标点 \n",
    "m = re.match(r'(\\w+) (\\w+)(?P<sign>.*)', 'hello hanxiaoyang!')\n",
    "\n",
    "# 显示原始文本\n",
    "print(\"m.string:\", m.string)\n",
    "# 匹配模板\n",
    "print(\"m.re:\", m.re)\n",
    "\n",
    "# 指针：前闭后开（指的pos应该是单词之间的缝隙）\n",
    "# 原始文本起始指针\n",
    "print(\"m.pos:\", m.pos)\n",
    "# 原始位置终止指针\n",
    "print(\"m.endpos:\", m.endpos)\n",
    "\n",
    "# 最后一个提取元素的索引\n",
    "print(\"m.lastindex:\", m.lastindex)\n",
    "\n",
    "# 最后一个提取元素的名称(名称设置：提取括号刚开始用?P<name>命名)\n",
    "print(\"m.lastgroup:\", m.lastgroup)\n",
    "\n",
    "# 第一个、第二个提取元素的内容tuple\n",
    "print(\"m.group(1,2):\", m.group(1, 2))\n",
    "\n",
    "# 所有提取元素的tuple\n",
    "print(\"m.groups():\", m.groups())\n",
    "\n",
    "# dict形式显示提取元素名称&提取元素内容\n",
    "print(\"m.groupdict():\", m.groupdict())\n",
    "\n",
    "# 第二个元素的起始位置、终止位置、跨度\n",
    "print(\"m.start(2):\", m.start(2))\n",
    "print(\"m.end(2):\", m.end(2))\n",
    "print(\"m.span(2):\", m.span(2))\n",
    "\n",
    "# 将提取元素按照213位置进行显示\n",
    "print(r\"m.expand(r'\\2 \\1\\3'):\", m.expand(r'\\2 \\1\\3'))"
   ]
  },
  {
   "cell_type": "code",
   "execution_count": 46,
   "metadata": {},
   "outputs": [
    {
     "name": "stdout",
     "output_type": "stream",
     "text": [
      "m.string: hello han apple huawei\n",
      "m.pos: 0\n",
      "m.endpos: 22\n",
      "m.lastindex: 4\n",
      "m.groups(): ('hello', 'han', 'apple', 'huawei')\n",
      "m.lastgroup: qqt\n",
      "m.groupdict: {'cnmb': 'apple', 'qqt': 'huawei'}\n"
     ]
    }
   ],
   "source": [
    "# 上面的扩展举例测试\n",
    "import re\n",
    "m = re.match(r'(\\w+) (\\w+) (?P<cnmb>\\w+) (?P<qqt>\\w+)','hello han apple huawei')\n",
    "print(\"m.string:\", m.string)\n",
    "print(\"m.pos:\", m.pos)\n",
    "print(\"m.endpos:\", m.endpos)\n",
    "print(\"m.lastindex:\", m.lastindex)\n",
    "print(\"m.groups():\", m.groups())\n",
    "print(\"m.lastgroup:\", m.lastgroup)\n",
    "print(\"m.groupdict:\", m.groupdict())"
   ]
  },
  {
   "cell_type": "markdown",
   "metadata": {},
   "source": [
    "### Pattern\n",
    "Pattern对象是一个编译好的正则表达式，通过Pattern提供的一系列方法可以对文本进行匹配查找。\n",
    "\n",
    "Pattern不能直接实例化，必须使用`re.compile()`进行构造。（**氨基酸**通过compile()变成了有活性的**蛋白质**）\n",
    "\n",
    "Pattern提供了几个可读属性用于获取表达式的相关信息：\n",
    "* pattern: 编译时用的表达式字符串。\n",
    "* flags: 编译时用的匹配模式。数字形式。\n",
    "* groups: 表达式中分组的数量。\n",
    "* groupindex: 以表达式中有别名的组的别名为键、以该组对应的编号为值的字典，没有别名的组不包含在内。"
   ]
  },
  {
   "cell_type": "code",
   "execution_count": 51,
   "metadata": {},
   "outputs": [
    {
     "name": "stdout",
     "output_type": "stream",
     "text": [
      "p.pattern: (\\w+) (?P<name>\\w+)(?P<sign>.*)\n",
      "p.flags: 48\n",
      "p.groups: 3\n",
      "p.groupindex: {'name': 2, 'sign': 3}\n"
     ]
    }
   ],
   "source": [
    "import re\n",
    "# re.DOTALL使得'.'可以匹配换行符\n",
    "p = re.compile(r'(\\w+) (?P<name>\\w+)(?P<sign>.*)', re.DOTALL)\n",
    "\n",
    "# 编译的匹配字符串\n",
    "print(\"p.pattern:\", p.pattern)\n",
    "\n",
    "# 编译模式（不同模式有不同的数字代号：MULTILINE-40, DOTALL-48）\n",
    "print(\"p.flags:\", p.flags)\n",
    "\n",
    "# 这组表达式一共提取几个元素(有几个小括号)\n",
    "print(\"p.groups:\", p.groups)\n",
    "\n",
    "# 不同表达式命名的id\n",
    "print(\"p.groupindex:\", p.groupindex)"
   ]
  },
  {
   "cell_type": "markdown",
   "metadata": {},
   "source": [
    "### pattern匹配与替换（没太懂@）\n",
    "\n",
    "* <font color=#FF0000>**从头开始匹配：**</font>\n",
    "* `match(string[, pos[, endpos]])` 或者 `re.match(pattern, string[, flags])`: <br>\n",
    "**这个方法将从string的pos下标处起尝试匹配pattern**:\n",
    "    * 如果不指定pos，则默认从头开始匹配\n",
    "    * 如果pattern结束时仍可匹配，则返回一个Match对象\n",
    "    * 如果匹配过程中pattern无法匹配，或者匹配未结束就已到达endpos，则返回None。 \n",
    "    * pos和endpos的默认值分别为0和len(string)。 <br>\n",
    "    \n",
    "**注意：这个方法并不是完全匹配。当pattern结束时若string还有剩余字符，仍然视为成功。想要完全匹配，可以在表达式末尾加上边界匹配符'$'。 **\n",
    "\n",
    "\n",
    "* <font color=##FF0000>**从某个位置开始匹配(检索遍历)：**</font>\n",
    "* `search(string[, pos[, endpos]])` 或者 `re.search(pattern, string[, flags])`: <br>\n",
    "**这个方法从string的pos下标处起尝试匹配pattern**\n",
    "    * 如果pattern结束时仍可匹配，则返回一个Match对象\n",
    "    * 若无法匹配，则将pos加1后重新尝试匹配，直到pos=endpos时仍无法匹配则返回None。 \n",
    "    * pos和endpos的默认值分别为0和len(string))\n",
    "    * search只能找到一个匹配的结果，而findall可以找到所有结果\n",
    "    \n",
    "<font color=#FF0000>**总结一下:**</font>\n",
    "* **match** : 必须是从头开始的才能返回，即span从0开始，否则返回None\n",
    "* **search** : 哪怕是字符串中有符合规则的字符串也能找回来，不用一定是从头开始\n",
    "\n",
    "**例子：**\n",
    "* 以下用match和search都可以识别出来：  \n",
    "    ```\n",
    "    username = 'jerry_friend'  \n",
    "    m = re.match(r'\\w{8,20}', username)\n",
    "    ```\n",
    "* 以下只能用search才能识别出来：\n",
    "    ```\n",
    "    username = '#jerry_friend'\n",
    "    m = re.search(r'\\w{8,20}', username)\n",
    "    ```"
   ]
  },
  {
   "cell_type": "code",
   "execution_count": 65,
   "metadata": {},
   "outputs": [
    {
     "name": "stdout",
     "output_type": "stream",
     "text": [
      "Hanxiaoyang\n"
     ]
    }
   ],
   "source": [
    "# encoding: UTF-8 \n",
    "import re \n",
    " \n",
    "# 将正则表达式编译成Pattern对象 \n",
    "pattern = re.compile(r'H.*g') \n",
    " \n",
    "# 使用search()查找匹配的子串，不存在能匹配的子串时将返回None \n",
    "match = pattern.search('hello Hanxiaoyang!') \n",
    "\n",
    "# 这个例子中使用match()无法成功匹配：\n",
    "# match = pattern.match('hello Hanxiaoyang!')\n",
    "\n",
    "if match: \n",
    "    # 使用Match获得分组信息 \n",
    "    print(match.group())"
   ]
  },
  {
   "cell_type": "markdown",
   "metadata": {},
   "source": [
    "#### split函数\n",
    "* `split(string[, maxsplit])` 或者 `re.split(pattern, string[, maxsplit])`: \n",
    "    * 按照能够匹配的子串将string分割后返回列表。\n",
    "    * maxsplit用于指定最大分割次数，不指定将全部分割。 "
   ]
  },
  {
   "cell_type": "code",
   "execution_count": 64,
   "metadata": {},
   "outputs": [
    {
     "name": "stdout",
     "output_type": "stream",
     "text": [
      "['one', 'two', 'three', 'four', '']\n"
     ]
    }
   ],
   "source": [
    "# 以下这个案例使用1个或若干个数字作为分隔符~正则表达式分割：\n",
    "import re\n",
    " \n",
    "p = re.compile(r'\\d+')\n",
    "print(p.split('one12306two2three3four4'))"
   ]
  },
  {
   "cell_type": "code",
   "execution_count": null,
   "metadata": {},
   "outputs": [],
   "source": []
  },
  {
   "cell_type": "code",
   "execution_count": null,
   "metadata": {},
   "outputs": [],
   "source": []
  },
  {
   "cell_type": "markdown",
   "metadata": {},
   "source": [
    "#### 找出所有的匹配结果findall\n",
    "* `findall(string[, pos[, endpos]])` 或者 `re.findall(pattern, string[, flags])`: \n",
    "    * 搜索string，以列表形式返回全部能匹配的子串。"
   ]
  },
  {
   "cell_type": "code",
   "execution_count": 67,
   "metadata": {},
   "outputs": [
    {
     "name": "stdout",
     "output_type": "stream",
     "text": [
      "['12306', '2', '3', '4']\n"
     ]
    }
   ],
   "source": [
    "import re\n",
    " \n",
    "p = re.compile(r'\\d+')\n",
    "print(p.findall('one12306two2three3four4'))"
   ]
  },
  {
   "cell_type": "markdown",
   "metadata": {},
   "source": [
    "#### 找出所有结果finditer\n",
    "* `finditer(string[, pos[, endpos]])` 或者 `re.finditer(pattern, string[, flags])`:\n",
    "    * 搜索string，返回一个顺序访问每一个匹配结果（Match对象）的迭代器。 "
   ]
  },
  {
   "cell_type": "code",
   "execution_count": 69,
   "metadata": {},
   "outputs": [
    {
     "name": "stdout",
     "output_type": "stream",
     "text": [
      "1\n",
      "2\n",
      "3\n",
      "4\n"
     ]
    }
   ],
   "source": [
    "import re\n",
    " \n",
    "p = re.compile(r'\\d+')\n",
    "for m in p.finditer('one1two2three3four4'):\n",
    "    print(m.group())"
   ]
  },
  {
   "cell_type": "markdown",
   "metadata": {},
   "source": [
    "#### 匹配后替换sub( )\n",
    "* `sub(repl, string[, count])` 或者 `re.sub(pattern, repl, string[, count])`: \n",
    "    * 使用repl替换string中每一个匹配的子串后返回替换后的字符串。 \n",
    "        * 当repl是一个字符串时，可以使用\\id或\\g<id>、\\g<name>引用分组，但不能使用编号0。 \n",
    "        * 当repl是一个方法时，这个方法应当只接受一个参数（Match对象），并返回一个字符串用于替换（返回的字符串中不能再引用分组）。 \n",
    "count用于指定最多替换次数，不指定时全部替换。"
   ]
  },
  {
   "cell_type": "code",
   "execution_count": 72,
   "metadata": {},
   "outputs": [
    {
     "name": "stdout",
     "output_type": "stream",
     "text": [
      "say i, hanxiaoyang hello!\n",
      "I Say, Hello Hanxiaoyang!\n"
     ]
    }
   ],
   "source": [
    "# 任务：匹配到将相邻的两个单词，并将其调换顺序\n",
    "import re\n",
    " \n",
    "p = re.compile(r'(\\w+) (\\w+)')\n",
    "s = 'i say, hello hanxiaoyang!'\n",
    "\n",
    "# 原来sub也是可以findall的，而不是匹配到一个就结束\n",
    "print(p.sub(r'\\2 \\1', s))\n",
    " \n",
    "def func(m):\n",
    "    return m.group(1).title() + ' ' + m.group(2).title()\n",
    " \n",
    "print(p.sub(func, s))"
   ]
  },
  {
   "cell_type": "markdown",
   "metadata": {},
   "source": [
    "#### 匹配后替换subn( )\n",
    "* `subn(repl, string[, count])` 或者 `re.sub(pattern, repl, string[, count])`: \n",
    "    * 返回 `(sub(repl, string[, count]), 替换次数)`，是个tuple，而`sub()`返回的是调换后的字符串。"
   ]
  },
  {
   "cell_type": "code",
   "execution_count": 76,
   "metadata": {},
   "outputs": [
    {
     "name": "stdout",
     "output_type": "stream",
     "text": [
      "('say i, hanxiaoyang hello!', 2)\n",
      "('I Say, Hello Hanxiaoyang!', 2)\n"
     ]
    }
   ],
   "source": [
    "# 与上面的不同：一共返回多少次替换\n",
    "import re\n",
    " \n",
    "p = re.compile(r'(\\w+) (\\w+)')\n",
    "s = 'i say, hello hanxiaoyang!'\n",
    " \n",
    "print(p.subn(r'\\2 \\1', s))\n",
    " \n",
    "def func(m):\n",
    "    return m.group(1).title() + ' ' + m.group(2).title()\n",
    "\n",
    "# 这个m是哪个变量传进func()的？\n",
    "print(p.subn(func, s))"
   ]
  }
 ],
 "metadata": {
  "kernelspec": {
   "display_name": "Python 3",
   "language": "python",
   "name": "python3"
  },
  "language_info": {
   "codemirror_mode": {
    "name": "ipython",
    "version": 3
   },
   "file_extension": ".py",
   "mimetype": "text/x-python",
   "name": "python",
   "nbconvert_exporter": "python",
   "pygments_lexer": "ipython3",
   "version": "3.6.4"
  },
  "toc": {
   "base_numbering": 1,
   "nav_menu": {},
   "number_sections": true,
   "sideBar": true,
   "skip_h1_title": false,
   "title_cell": "Table of Contents",
   "title_sidebar": "Contents",
   "toc_cell": false,
   "toc_position": {
    "height": "calc(100% - 180px)",
    "left": "10px",
    "top": "150px",
    "width": "165px"
   },
   "toc_section_display": true,
   "toc_window_display": true
  }
 },
 "nbformat": 4,
 "nbformat_minor": 2
}
