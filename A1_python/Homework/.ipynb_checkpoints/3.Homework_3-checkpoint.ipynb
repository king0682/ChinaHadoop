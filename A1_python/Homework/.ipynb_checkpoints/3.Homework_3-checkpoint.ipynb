{
 "cells": [
  {
   "cell_type": "markdown",
   "metadata": {},
   "source": [
    "## 代码题"
   ]
  },
  {
   "cell_type": "markdown",
   "metadata": {},
   "source": [
    "### 文件读写练习题\n",
    "请对“Shanghai.txt”文件进行读取，并统计其中每个单词(小写后)出现的词频，并以词频从高到低以如下形式写入\"word_count.txt\"中：\n",
    "```\n",
    "单词1:频次\n",
    "单词2:频次\n",
    "...\n",
    "```\n",
    "最后请输出10行结果"
   ]
  },
  {
   "cell_type": "code",
   "execution_count": 174,
   "metadata": {},
   "outputs": [
    {
     "ename": "TypeError",
     "evalue": "'str' object is not callable",
     "output_type": "error",
     "traceback": [
      "\u001b[0;31m---------------------------------------------------------------------------\u001b[0m",
      "\u001b[0;31mTypeError\u001b[0m                                 Traceback (most recent call last)",
      "\u001b[0;32m<ipython-input-174-bc29b8a0f3d2>\u001b[0m in \u001b[0;36m<module>\u001b[0;34m()\u001b[0m\n\u001b[1;32m     36\u001b[0m             \u001b[0mprint\u001b[0m\u001b[0;34m(\u001b[0m\u001b[0mf2\u001b[0m\u001b[0;34m.\u001b[0m\u001b[0mreadline\u001b[0m\u001b[0;34m(\u001b[0m\u001b[0;34m)\u001b[0m\u001b[0;34m.\u001b[0m\u001b[0mstrip\u001b[0m\u001b[0;34m(\u001b[0m\u001b[0;34m)\u001b[0m\u001b[0;34m)\u001b[0m\u001b[0;34m\u001b[0m\u001b[0m\n\u001b[1;32m     37\u001b[0m \u001b[0;34m\u001b[0m\u001b[0m\n\u001b[0;32m---> 38\u001b[0;31m \u001b[0mget_words\u001b[0m\u001b[0;34m(\u001b[0m\u001b[0;34m'./ShangHai.txt'\u001b[0m\u001b[0;34m,\u001b[0m \u001b[0;34m'./word_count.txt'\u001b[0m\u001b[0;34m)\u001b[0m\u001b[0;34m\u001b[0m\u001b[0m\n\u001b[0m",
      "\u001b[0;32m<ipython-input-174-bc29b8a0f3d2>\u001b[0m in \u001b[0;36mget_words\u001b[0;34m(in_file, out_file)\u001b[0m\n\u001b[1;32m     29\u001b[0m     \u001b[0;32mwith\u001b[0m \u001b[0mopen\u001b[0m\u001b[0;34m(\u001b[0m\u001b[0mout_file\u001b[0m\u001b[0;34m,\u001b[0m \u001b[0;34m'w'\u001b[0m\u001b[0;34m)\u001b[0m \u001b[0;32mas\u001b[0m \u001b[0mf1\u001b[0m\u001b[0;34m:\u001b[0m\u001b[0;34m\u001b[0m\u001b[0m\n\u001b[1;32m     30\u001b[0m         \u001b[0;32mfor\u001b[0m \u001b[0mi\u001b[0m \u001b[0;32min\u001b[0m \u001b[0mvalue_dict\u001b[0m\u001b[0;34m.\u001b[0m\u001b[0mitems\u001b[0m\u001b[0;34m(\u001b[0m\u001b[0;34m)\u001b[0m\u001b[0;34m:\u001b[0m\u001b[0;34m\u001b[0m\u001b[0m\n\u001b[0;32m---> 31\u001b[0;31m             \u001b[0mf1\u001b[0m\u001b[0;34m.\u001b[0m\u001b[0mwrite\u001b[0m\u001b[0;34m(\u001b[0m\u001b[0mstr\u001b[0m\u001b[0;34m(\u001b[0m\u001b[0mi\u001b[0m\u001b[0;34m[\u001b[0m\u001b[0;36m0\u001b[0m\u001b[0;34m]\u001b[0m\u001b[0;34m)\u001b[0m\u001b[0;34m+\u001b[0m\u001b[0;34m':'\u001b[0m\u001b[0;34m+\u001b[0m\u001b[0mstr\u001b[0m\u001b[0;34m(\u001b[0m\u001b[0mi\u001b[0m\u001b[0;34m[\u001b[0m\u001b[0;36m1\u001b[0m\u001b[0;34m]\u001b[0m\u001b[0;34m)\u001b[0m\u001b[0;34m+\u001b[0m\u001b[0;34m'\\n'\u001b[0m\u001b[0;34m)\u001b[0m\u001b[0;34m\u001b[0m\u001b[0m\n\u001b[0m\u001b[1;32m     32\u001b[0m         \u001b[0mf1\u001b[0m\u001b[0;34m.\u001b[0m\u001b[0mclose\u001b[0m\u001b[0;34m(\u001b[0m\u001b[0;34m)\u001b[0m\u001b[0;34m\u001b[0m\u001b[0m\n\u001b[1;32m     33\u001b[0m \u001b[0;34m\u001b[0m\u001b[0m\n",
      "\u001b[0;31mTypeError\u001b[0m: 'str' object is not callable"
     ]
    }
   ],
   "source": [
    "import re,collections\n",
    "\n",
    "def get_words(in_file, out_file):\n",
    "    # 请完成题目要求\n",
    "    # your code here\n",
    "    f = open(in_file, 'r')\n",
    "    in_file_txt = f.read().lower()\n",
    "    f.close()\n",
    "    get_list = []\n",
    "    get_dict = {}\n",
    "    pattern = '\\w+[\\-\\’\\%\\.\\,]?\\w*[\\-\\’]?\\w*'\n",
    "    temp_list = re.findall(pattern, in_file_txt)\n",
    "    \n",
    "    for i in temp_list:\n",
    "        if i.endswith(\".\") or i.endswith(\",\"):\n",
    "            get_list.append(i[:-1])\n",
    "        else:\n",
    "            get_list.append(i)\n",
    "    \n",
    "    for i in get_list:\n",
    "        get_dict[i] = []\n",
    "    for i in get_list:\n",
    "        get_dict[i].append('+')\n",
    "    for i in get_dict:\n",
    "        get_dict[i] = len(get_dict[i])\n",
    "    \n",
    "    value_dict = collections.OrderedDict(sorted(get_dict.items(), key=lambda x:x[1], reverse=True))\n",
    "\n",
    "    with open(out_file, 'w') as f1:\n",
    "        for i in value_dict.items():\n",
    "            f1.write(str(i[0])+':'+str(i[1])+'\\n')\n",
    "        f1.close()\n",
    "    \n",
    "    with open(out_file, 'r') as f2:\n",
    "        for i in range(10):\n",
    "            print(f2.readline().strip())\n",
    "            \n",
    "get_words('./ShangHai.txt', './word_count.txt')"
   ]
  },
  {
   "cell_type": "markdown",
   "metadata": {},
   "source": [
    "#### 参考答案"
   ]
  },
  {
   "cell_type": "code",
   "execution_count": 170,
   "metadata": {},
   "outputs": [
    {
     "ename": "TypeError",
     "evalue": "'str' object is not callable",
     "output_type": "error",
     "traceback": [
      "\u001b[0;31m---------------------------------------------------------------------------\u001b[0m",
      "\u001b[0;31mTypeError\u001b[0m                                 Traceback (most recent call last)",
      "\u001b[0;32m<ipython-input-170-ff07aead7f70>\u001b[0m in \u001b[0;36m<module>\u001b[0;34m()\u001b[0m\n\u001b[1;32m     15\u001b[0m     \u001b[0mout\u001b[0m\u001b[0;34m.\u001b[0m\u001b[0mclose\u001b[0m\u001b[0;34m(\u001b[0m\u001b[0;34m)\u001b[0m\u001b[0;34m\u001b[0m\u001b[0m\n\u001b[1;32m     16\u001b[0m \u001b[0;34m\u001b[0m\u001b[0m\n\u001b[0;32m---> 17\u001b[0;31m \u001b[0mget_words\u001b[0m\u001b[0;34m(\u001b[0m\u001b[0;34m\"./ShangHai.txt\"\u001b[0m\u001b[0;34m,\u001b[0m \u001b[0;34m'./word_count.txt'\u001b[0m\u001b[0;34m)\u001b[0m\u001b[0;34m\u001b[0m\u001b[0m\n\u001b[0m",
      "\u001b[0;32m<ipython-input-170-ff07aead7f70>\u001b[0m in \u001b[0;36mget_words\u001b[0;34m(in_file, out_file)\u001b[0m\n\u001b[1;32m     12\u001b[0m     \u001b[0mout\u001b[0m \u001b[0;34m=\u001b[0m \u001b[0mopen\u001b[0m\u001b[0;34m(\u001b[0m\u001b[0mout_file\u001b[0m\u001b[0;34m,\u001b[0m \u001b[0;34m'w'\u001b[0m\u001b[0;34m)\u001b[0m\u001b[0;34m\u001b[0m\u001b[0m\n\u001b[1;32m     13\u001b[0m     \u001b[0;32mfor\u001b[0m \u001b[0mword\u001b[0m \u001b[0;32min\u001b[0m \u001b[0mword_count\u001b[0m\u001b[0;34m:\u001b[0m\u001b[0;34m\u001b[0m\u001b[0m\n\u001b[0;32m---> 14\u001b[0;31m         \u001b[0mout\u001b[0m\u001b[0;34m.\u001b[0m\u001b[0mwrite\u001b[0m\u001b[0;34m(\u001b[0m\u001b[0mword\u001b[0m\u001b[0;34m[\u001b[0m\u001b[0;36m0\u001b[0m\u001b[0;34m]\u001b[0m\u001b[0;34m+\u001b[0m\u001b[0;34m\":\"\u001b[0m\u001b[0;34m+\u001b[0m\u001b[0mstr\u001b[0m\u001b[0;34m(\u001b[0m\u001b[0mword\u001b[0m\u001b[0;34m[\u001b[0m\u001b[0;36m1\u001b[0m\u001b[0;34m]\u001b[0m\u001b[0;34m)\u001b[0m\u001b[0;34m+\u001b[0m\u001b[0;34m\"\\n\"\u001b[0m\u001b[0;34m)\u001b[0m\u001b[0;34m\u001b[0m\u001b[0m\n\u001b[0m\u001b[1;32m     15\u001b[0m     \u001b[0mout\u001b[0m\u001b[0;34m.\u001b[0m\u001b[0mclose\u001b[0m\u001b[0;34m(\u001b[0m\u001b[0;34m)\u001b[0m\u001b[0;34m\u001b[0m\u001b[0m\n\u001b[1;32m     16\u001b[0m \u001b[0;34m\u001b[0m\u001b[0m\n",
      "\u001b[0;31mTypeError\u001b[0m: 'str' object is not callable"
     ]
    }
   ],
   "source": [
    "import re,collections\n",
    "\n",
    "def get_words(in_file, out_file):\n",
    "    with open (in_file, encoding='utf-8') as f:\n",
    "        words_box=[]\n",
    "        for line in f:                         \n",
    "            words = line.strip().strip(\",\").strip(\".\").split()\n",
    "            words = list(map(lambda x:x.lower(), words))\n",
    "            words_box.extend(words)               \n",
    "    word_dic = dict(collections.Counter(words_box))\n",
    "    word_count = sorted(word_dic.items(), key=lambda d: d[1], reverse=True)\n",
    "    out = open(out_file, 'w')\n",
    "    for word in word_count:\n",
    "        out.write(word[0]+\":\"+str(word[1])+\"\\n\")\n",
    "    out.close()\n",
    "\n",
    "get_words(\"./ShangHai.txt\", './word_count.txt')"
   ]
  },
  {
   "cell_type": "markdown",
   "metadata": {},
   "source": [
    "### 正则表达式练习题"
   ]
  },
  {
   "cell_type": "markdown",
   "metadata": {},
   "source": [
    "给出一段`XX音乐`中的HTML内容，用正则表达式取出html中所有的歌手名和歌名。"
   ]
  },
  {
   "cell_type": "code",
   "execution_count": 161,
   "metadata": {
    "scrolled": true
   },
   "outputs": [
    {
     "name": "stdout",
     "output_type": "stream",
     "text": [
      "[('任贤齐', '沧海一声笑'), ('齐秦', '往事随风'), ('beyond', '光辉岁月'), ('陈慧琳', '记事本'), ('邓丽君', '但愿人长久')]\n"
     ]
    }
   ],
   "source": [
    "# 取出html中的歌手名和歌名\n",
    "html = '''<div id=\"songs-list\">\n",
    "    <h2 class=\"title\">经典老歌</h2>\n",
    "    <p class=\"introduction\">\n",
    "        经典老歌列表\n",
    "    </p>\n",
    "    <ul id=\"list\" class=\"list-group\">\n",
    "        <li data-view=\"2\">一路上有你</li>\n",
    "        <li data-view=\"7\">\n",
    "            <a href=\"/2.mp3\" singer=\"任贤齐\">沧海一声笑</a>\n",
    "        </li>\n",
    "        <li data-view=\"4\" class=\"active\">\n",
    "            <a href=\"/3.mp3\" singer=\"齐秦\">往事随风</a>\n",
    "        </li>\n",
    "        <li data-view=\"6\"><a href=\"/4.mp3\" singer=\"beyond\">光辉岁月</a></li>\n",
    "        <li data-view=\"5\"><a href=\"/5.mp3\" singer=\"陈慧琳\">记事本</a></li>\n",
    "        <li data-view=\"5\">\n",
    "            <a href=\"/6.mp3\" singer=\"邓丽君\">但愿人长久</a>\n",
    "        </li>\n",
    "    </ul>\n",
    "</div>'''\n",
    "\n",
    "import re\n",
    "def get_singer_songs(html_content):\n",
    "    # 请完成题目要求\n",
    "    # your code here\n",
    "    pattern = r'singer=\"(.*)\">(.*)</a>'\n",
    "    song_list = re.findall(pattern, html_content)\n",
    "    return song_list\n",
    "\n",
    "r = get_singer_songs(html)\n",
    "print(r)"
   ]
  },
  {
   "cell_type": "markdown",
   "metadata": {},
   "source": [
    "#### 参考答案"
   ]
  },
  {
   "cell_type": "code",
   "execution_count": 171,
   "metadata": {},
   "outputs": [
    {
     "name": "stdout",
     "output_type": "stream",
     "text": [
      "[('任贤齐', '沧海一声笑'), ('齐秦', '往事随风'), ('beyond', '光辉岁月'), ('陈慧琳', '记事本'), ('邓丽君', '但愿人长久')]\n"
     ]
    }
   ],
   "source": [
    "# 取出html中的歌手名和歌名\n",
    "html = '''<div id=\"songs-list\">\n",
    "    <h2 class=\"title\">经典老歌</h2>\n",
    "    <p class=\"introduction\">\n",
    "        经典老歌列表\n",
    "    </p>\n",
    "    <ul id=\"list\" class=\"list-group\">\n",
    "        <li data-view=\"2\">一路上有你</li>\n",
    "        <li data-view=\"7\">\n",
    "            <a href=\"/2.mp3\" singer=\"任贤齐\">沧海一声笑</a>\n",
    "        </li>\n",
    "        <li data-view=\"4\" class=\"active\">\n",
    "            <a href=\"/3.mp3\" singer=\"齐秦\">往事随风</a>\n",
    "        </li>\n",
    "        <li data-view=\"6\"><a href=\"/4.mp3\" singer=\"beyond\">光辉岁月</a></li>\n",
    "        <li data-view=\"5\"><a href=\"/5.mp3\" singer=\"陈慧琳\">记事本</a></li>\n",
    "        <li data-view=\"5\">\n",
    "            <a href=\"/6.mp3\" singer=\"邓丽君\">但愿人长久</a>\n",
    "        </li>\n",
    "    </ul>\n",
    "</div>'''\n",
    "\n",
    "import re\n",
    "def get_singer_songs(html_content):\n",
    "    result = re.findall('<a.*?singer=\"(.*?)\">(.*?)</a>', html)\n",
    "    return result\n",
    "\n",
    "r = get_singer_songs(html)\n",
    "print(r)"
   ]
  },
  {
   "cell_type": "markdown",
   "metadata": {},
   "source": [
    "### 第三方工具库练习题"
   ]
  },
  {
   "cell_type": "markdown",
   "metadata": {},
   "source": [
    "查阅[THULAC中文词法分析工具包](http://thulac.thunlp.org/)相关说明，完成**工具库的安装**及**以下文本的中文分词与词性标注任务**。"
   ]
  },
  {
   "cell_type": "code",
   "execution_count": 162,
   "metadata": {},
   "outputs": [
    {
     "name": "stdout",
     "output_type": "stream",
     "text": [
      "Collecting thulac\n",
      "  Downloading thulac-0.2.1.tar.gz (52.9 MB)\n",
      "\u001b[K     |████████████████████████████████| 52.9 MB 110 kB/s eta 0:00:01\n",
      "\u001b[?25hBuilding wheels for collected packages: thulac\n",
      "  Building wheel for thulac (setup.py) ... \u001b[?25ldone\n",
      "\u001b[?25h  Created wheel for thulac: filename=thulac-0.2.1-py3-none-any.whl size=53141672 sha256=1120f914d98fb7b13426d5160f8b296b59864f24ec47ceca798b7d80c3950d6e\n",
      "  Stored in directory: /Users/ye/Library/Caches/pip/wheels/06/dc/13/cfa71eaa7b40ff66c0ec54e5a27156db5c21950aa538d1c342\n",
      "Successfully built thulac\n",
      "Installing collected packages: thulac\n",
      "Successfully installed thulac-0.2.1\n"
     ]
    }
   ],
   "source": [
    "!pip install thulac"
   ]
  },
  {
   "cell_type": "code",
   "execution_count": 172,
   "metadata": {
    "scrolled": true
   },
   "outputs": [
    {
     "name": "stdout",
     "output_type": "stream",
     "text": [
      "Model loaded succeed\n",
      "请_v 大_a 家_n 围绕_v 以下_f 内容_n 进行_v 回答_v ：_w\n",
      "自身_r 总结_v ：_w 您_r 自己_r 在_p 本周_t 课程_n 的_u 学习_v ，_w 收获_v ，_w 技能_n 掌握_v 等_u 方面_n 进行_v 总结_v ，_w 包括_v 自身_r 在_v 哪_u 些_q 方面_n 存在_v 哪_v 些_q 不_d 足_a ，_w 欠缺_v ，_w 困惑_a 。_w 作为_p 将_p 来_np 回顾_v 学习_v 路径_n 时_g 的_u 依据_n 。_w\n",
      "课程_n 反馈_v ：_w 也_d 可以_v 就_p 知识点_n ，_w 进度_n ，_w 难_a 易度_n ，_w 辅导_v 方式_n ，_w 考试_v 难度_n 等等_u 进行_v 意见_n 反馈_v ，_w 督促_v 我们_r 进行_v 更_d 有效_a 的_u 改进_v ，_w 为_p 大_a 家_n 提供_v 更_d 优质_a 的_u 服务_v 。_w\n"
     ]
    }
   ],
   "source": [
    "ch_text = '''\n",
    "请大家围绕以下内容进行回答：\n",
    "\n",
    "自身总结：您自己在本周课程的学习，收获，技能掌握等方面进行总结，包括自身在哪些方面存在哪些不足，欠缺，困惑。作为将来回顾学习路径时的依据。\n",
    "课程反馈：也可以就知识点，进度，难易度，辅导方式，考试难度等等进行意见反馈，督促我们进行更有效的改进，为大家提供更优质的服务。\n",
    "'''\n",
    "# 请完成题目要求对ch_text进行分词和词性标注\n",
    "# your code here\n",
    "import thulac\n",
    "thu1 = thulac.thulac()\n",
    "text = thu1.cut(ch_text, text=True)\n",
    "print(text)"
   ]
  },
  {
   "cell_type": "markdown",
   "metadata": {},
   "source": [
    "#### 参考答案"
   ]
  },
  {
   "cell_type": "code",
   "execution_count": 173,
   "metadata": {},
   "outputs": [
    {
     "name": "stdout",
     "output_type": "stream",
     "text": [
      "Model loaded succeed\n",
      "请_v 大_a 家_n 围绕_v 以下_f 内容_n 进行_v 回答_v ：_w\n",
      "自身_r 总结_v ：_w 您_r 自己_r 在_p 本周_t 课程_n 的_u 学习_v ，_w 收获_v ，_w 技能_n 掌握_v 等_u 方面_n 进行_v 总结_v ，_w 包括_v 自身_r 在_v 哪_u 些_q 方面_n 存在_v 哪_v 些_q 不_d 足_a ，_w 欠缺_v ，_w 困惑_a 。_w 作为_p 将_p 来_np 回顾_v 学习_v 路径_n 时_g 的_u 依据_n 。_w\n",
      "课程_n 反馈_v ：_w 也_d 可以_v 就_p 知识点_n ，_w 进度_n ，_w 难_a 易度_n ，_w 辅导_v 方式_n ，_w 考试_v 难度_n 等等_u 进行_v 意见_n 反馈_v ，_w 督促_v 我们_r 进行_v 更_d 有效_a 的_u 改进_v ，_w 为_p 大_a 家_n 提供_v 更_d 优质_a 的_u 服务_v 。_w\n"
     ]
    }
   ],
   "source": [
    "ch_text = '''\n",
    "请大家围绕以下内容进行回答：\n",
    "\n",
    "自身总结：您自己在本周课程的学习，收获，技能掌握等方面进行总结，包括自身在哪些方面存在哪些不足，欠缺，困惑。作为将来回顾学习路径时的依据。\n",
    "课程反馈：也可以就知识点，进度，难易度，辅导方式，考试难度等等进行意见反馈，督促我们进行更有效的改进，为大家提供更优质的服务。\n",
    "'''\n",
    "import thulac   \n",
    "\n",
    "thu1 = thulac.thulac()  #默认模式\n",
    "text = thu1.cut(ch_text, text=True)  #进行一句话分词\n",
    "print(text)"
   ]
  }
 ],
 "metadata": {
  "kernelspec": {
   "display_name": "Python 3",
   "language": "python",
   "name": "python3"
  },
  "language_info": {
   "codemirror_mode": {
    "name": "ipython",
    "version": 3
   },
   "file_extension": ".py",
   "mimetype": "text/x-python",
   "name": "python",
   "nbconvert_exporter": "python",
   "pygments_lexer": "ipython3",
   "version": "3.6.4"
  },
  "toc": {
   "base_numbering": 1,
   "nav_menu": {},
   "number_sections": true,
   "sideBar": true,
   "skip_h1_title": false,
   "title_cell": "Table of Contents",
   "title_sidebar": "Contents",
   "toc_cell": false,
   "toc_position": {},
   "toc_section_display": true,
   "toc_window_display": true
  }
 },
 "nbformat": 4,
 "nbformat_minor": 2
}
