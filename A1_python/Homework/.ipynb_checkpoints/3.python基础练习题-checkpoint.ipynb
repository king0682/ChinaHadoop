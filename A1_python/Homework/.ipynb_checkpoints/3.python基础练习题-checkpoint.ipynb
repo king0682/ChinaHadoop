{
 "cells": [
  {
   "cell_type": "markdown",
   "metadata": {},
   "source": [
    "机器学习集训营---python基础练习"
   ]
  },
  {
   "cell_type": "markdown",
   "metadata": {},
   "source": [
    "1.实现一个功能，用户输入一个字符串，修改字符串中哪个位置，程序就会输出修改后的结果。（输入用input函数）\n",
    "\t比如输入： 'fkjava.ipg'\n",
    "\t\t 6 -\n",
    "\t程序输出：'fkjana-ipg'"
   ]
  },
  {
   "cell_type": "code",
   "execution_count": null,
   "metadata": {},
   "outputs": [],
   "source": [
    "def modify():\n",
    "    # 1.输入函数(内容，位置，修改内容)\n",
    "    command = str(input(\"请输入内容：\"))\n",
    "    pos = int(input(\"请输入修改位置（0为起始位置）：\"))\n",
    "    changes = str(input(\"请输入修改内容：\"))\n",
    "    \n",
    "    # 2.处理函数（先转成字符串List，在List中修改，再拼接回str）\n",
    "    command = list(command)\n",
    "    command[pos] = changes\n",
    "    command = ''.join(command)\n",
    "    \n",
    "    print(\"修改后的内容为：%s\" %command)\n",
    "    \n",
    "modify()"
   ]
  },
  {
   "cell_type": "markdown",
   "metadata": {},
   "source": [
    "<details>\n",
    "  <summary>点击展开答案（答案不唯一）</summary>\n",
    "  <pre><code> \n",
    "    s = input('请输入一个字符串：')\n",
    "    k = input('请输入要修改的位置和要修改成的符号，用空格分开：')\n",
    "    num = int(k[0])   # 要修改的index\n",
    "    sub = k[2]        # 要替换的字符\n",
    "    list_s = list(s)  # 因为字符串是不可变的数据类型，我们字符串变成列表\n",
    "    list_s[num] = sub  # 替换对应位置的字符\n",
    "    s = ''.join(list_s)\n",
    "    print('结果是：', s)\n",
    "  </code></pre>\n",
    "</details>"
   ]
  },
  {
   "cell_type": "markdown",
   "metadata": {},
   "source": [
    "2.用户输入一个字符串和一个子串，程序会输出给定的子串在目标字符串中出现的次数。字符串遍历从左到右，而不是从右到左。\n",
    "\t例如给定 'ABCDCDC' 和 'CDC' ，程序输出 '2'"
   ]
  },
  {
   "cell_type": "code",
   "execution_count": null,
   "metadata": {},
   "outputs": [],
   "source": [
    "# 我的答案：\n",
    "string = input(\"请输入一个字符串：\")\n",
    "sub_str = input(\"请输入要查询的子串\")\n",
    "sub_len = len(sub_str)\n",
    "num = 0\n",
    "for i in range(len(string)):\n",
    "    if string[i:sub_len+i]==sub_str:\n",
    "        num+=1\n",
    "print(num)"
   ]
  },
  {
   "cell_type": "markdown",
   "metadata": {},
   "source": [
    "<details>\n",
    "  <summary>点击展开答案（答案不唯一）</summary>\n",
    "  <pre><code> \n",
    "    s = input('请输入一个字符串：')\n",
    "    ss = input('请输入要查找的字串：')\n",
    "    num = 0                              # 创建最后输出用的变量\n",
    "    len_ss = len(ss)                     # 我们的思路是通过切片来取出 s 中的一部分判断是否和子串 ss 一致，所以这里要先知道 ss 的长度\n",
    "    for i in range(len(s) - len_ss + 1): # 防止后面做切片的时候索引超出上界，这里我们先减掉 ss 的长度，最后一位数不被包括，所以 +1\n",
    "        if s[i] == ss[0]:                # 判断每个字符和 ss 开头字符是否匹配\n",
    "            if s[i:i+len_ss] == ss:      # 判断接下来的 len_ss 长度的字符是否与 ss 一致\n",
    "                num += 1\n",
    "    print(num)\n",
    "  </code></pre>\n",
    "</details>"
   ]
  },
  {
   "cell_type": "markdown",
   "metadata": {},
   "source": [
    "3.提示用户输入N个字符串（N自己定义），将他们封装成元组，然后计算该元组乘以3再加上（'hello','world'）的结果。"
   ]
  },
  {
   "cell_type": "code",
   "execution_count": null,
   "metadata": {},
   "outputs": [],
   "source": [
    "# 我的答案：\n",
    "str = input(\"请输入多个字符串，并以,隔开\")\n",
    "# str = list(str) 无需转化成字符串列表\n",
    "new_str = str.split(\",\")\n",
    "new_tuple = tuple(new_str*3 + ['hello','world'])\n",
    "print(new_tuple)"
   ]
  },
  {
   "cell_type": "markdown",
   "metadata": {},
   "source": [
    "<details>\n",
    "  <summary>点击展开答案（答案不唯一）</summary>\n",
    "  <pre><code>\n",
    "    s = input('请输入一些字符串，用空格隔开：')\n",
    "    list_s = s.split(' ')\n",
    "    tuple_s = tuple(list_s)\n",
    "    result = tuple_s * 3 + ('hello', 'world')\n",
    "    print(result)                                # 主要观察结果的呈现形式，重点理解 元组 * 数字 的含义以及元组之间加法的用法\n",
    "  </code></pre>\n",
    "</details>"
   ]
  },
  {
   "cell_type": "markdown",
   "metadata": {},
   "source": [
    "4.用户输入一个整数n，生成长度为n的列表，并将n个随机数放入列表中。（随机数可以参考random库，百度搜索 python random 即可）"
   ]
  },
  {
   "cell_type": "code",
   "execution_count": null,
   "metadata": {},
   "outputs": [],
   "source": [
    "# 我的答案：\n",
    "import random\n",
    "num = int(input(\"请输入一个整数\"))\n",
    "ran_list=[]\n",
    "for i in range(num):\n",
    "    ran_list.append(random.random())\n",
    "print(ran_list)"
   ]
  },
  {
   "cell_type": "markdown",
   "metadata": {},
   "source": [
    "<details>\n",
    "  <summary>点击展开答案（答案不唯一）</summary>\n",
    "  <pre><code> \n",
    "    num = int(input('请用户输入一个整数：'))  # 这里要注意input函数返回的是字符串类型，需要转成整型\n",
    "    l = []                                # 定义一个空列表，用来装后面生成的随机数\n",
    "    for i in range(num):                  # 循环n次\n",
    "        l.append(r.random())              # 这里数字范围不限，可以用random库里不同的函数来实现\n",
    "    print(l)\n",
    "  </code></pre>\n",
    "</details>"
   ]
  },
  {
   "cell_type": "markdown",
   "metadata": {},
   "source": [
    "5.用户输入一个整数n，生成长度为n的列表，并将n个随机的奇数放入列表中。"
   ]
  },
  {
   "cell_type": "code",
   "execution_count": null,
   "metadata": {},
   "outputs": [],
   "source": [
    "# 我的答案：\n",
    "import random\n",
    "num = int(input(\"请输入一个整数\"))\n",
    "ran_list=[]\n",
    "count=0\n",
    "\n",
    "while count<=num-1:\n",
    "    random_num = int(random.random()*100)\n",
    "    if random_num%2 != 0:\n",
    "        ran_list.append(random_num)\n",
    "        count+=1\n",
    "        \n",
    "print(ran_list)"
   ]
  },
  {
   "cell_type": "markdown",
   "metadata": {},
   "source": [
    "<details>\n",
    "  <summary>点击展开答案（答案不唯一）</summary>\n",
    "  <pre><code> \n",
    "    num = int(input('请用户输入一个整数：'))\n",
    "    l = [0] * num                           # 这道题我们换一个思路，先生成列表，用0站位，然后我们替换里面的数字\n",
    "    for i in range(num):                    # 遍历l，对每个0做替换\n",
    "        while True:                         # while True 为死循环，当满足条件时我们用break打破循环\n",
    "            n = r.randint(1, 100)           # 生成1-100之间的随机整数\n",
    "            if n%2 == 1:\n",
    "                l[i] = n\n",
    "                break\n",
    "    print(l)\n",
    "  </code></pre>\n",
    "</details>"
   ]
  },
  {
   "cell_type": "markdown",
   "metadata": {},
   "source": [
    "6.用户输入一个整数n，生成长度为n的列表，并将n个随机的大写字符放入列表中。"
   ]
  },
  {
   "cell_type": "code",
   "execution_count": null,
   "metadata": {},
   "outputs": [],
   "source": [
    "# 我的答案\n",
    "import random\n",
    "import string\n",
    "num = int(input(\"请输入一个整数\"))\n",
    "ran_list=[]\n",
    "for i in range(num):\n",
    "    salt = ''.join(random.sample(string.ascii_letters , num))\n",
    "    ran_list.append(salt.upper())\n",
    "    \n",
    "print(ran_list)"
   ]
  },
  {
   "cell_type": "markdown",
   "metadata": {},
   "source": [
    "<details>\n",
    "  <summary>点击展开答案（答案不唯一）</summary>\n",
    "  <pre><code> \n",
    "    num = int(input('请用户输入一个整数：')) \n",
    "    l = []                                \n",
    "    for i in range(num):                  \n",
    "        l.append(r.choice('abcdefghijklmnopqrstuvwxyz').upper())   # 用upper()变成大写，可以思考还有其他生成随机字符的方式吗？\n",
    "    print(l)\n",
    "  </code></pre>\n",
    "</details>"
   ]
  },
  {
   "cell_type": "markdown",
   "metadata": {},
   "source": [
    "7.用户输入以空格分隔的多个整数，输出这些整数的最大值。"
   ]
  },
  {
   "cell_type": "code",
   "execution_count": null,
   "metadata": {},
   "outputs": [],
   "source": [
    "# 我的答案：\n",
    "int_num = input(\"请输入多个整数，以空格隔开：\")\n",
    "splited = int_num.split(\" \")\n",
    "after_sort = sorted(splited, reverse = True)\n",
    "print(\"这些整数的最大值为：\" + after_sort[0])"
   ]
  },
  {
   "cell_type": "markdown",
   "metadata": {},
   "source": [
    "<details>\n",
    "  <summary>点击展开答案（答案不唯一）</summary>\n",
    "  <pre><code> \n",
    "    nums = input('请输入一些整数，以空格分隔：')\n",
    "    list_nums = nums.split(' ')\n",
    "    list_int_nums = []\n",
    "    for i in range(len(list_nums)):    # 第一个循环，我们把所有数字从字符串变成整型\n",
    "        num = int(list_nums[i])\n",
    "        list_int_nums.append(num)\n",
    "    a = -99999999\n",
    "    for i in list_int_nums:            # 第二个循环，a为目前最大数，遍历列表，如果当前数字比a大，把当前值赋值给a\n",
    "        if i > a:\n",
    "            a = i\n",
    "    print('最大的数为：', a)\n",
    "  </code></pre>\n",
    "</details>"
   ]
  },
  {
   "cell_type": "markdown",
   "metadata": {},
   "source": [
    "8.用户输入N个大写字母，使用dict统计用户输入的每个字母的次数。"
   ]
  },
  {
   "cell_type": "code",
   "execution_count": null,
   "metadata": {},
   "outputs": [],
   "source": [
    "# 参考答案\n",
    "# Note:给的参考答案中，利用先else再if的技巧，先判断是否重复出现，再看是否第一次出现。\n",
    "# 思路：先将输入字符逐个遍历，再将每个字符进行判断是否有备案。\n",
    "s = input('请输入一些大写字母：')\n",
    "# 新建一个空dict()\n",
    "d = dict()\n",
    "for i in s:\n",
    "# 如果dict的keys中有i，那么value再+1\n",
    "    if i in d.keys():\n",
    "        d[i] += 1\n",
    "    else:\n",
    "# 如果keys中还没有出现i，则新建一个key-value，记录value为1，表示第一次出现。\n",
    "        d[i] = 1\n",
    "print(d)"
   ]
  },
  {
   "cell_type": "markdown",
   "metadata": {},
   "source": [
    "<details>\n",
    "  <summary>点击展开答案（答案不唯一）</summary>\n",
    "  <pre><code> \n",
    "    s = input('请输入一些大写字母：')\n",
    "    d = dict()\n",
    "    for i in s:\n",
    "        if i in d.keys():\n",
    "            d[i] += 1\n",
    "        else:\n",
    "            d[i] = 1\n",
    "    print(d)\n",
    "  </code></pre>\n",
    "</details>"
   ]
  },
  {
   "cell_type": "markdown",
   "metadata": {},
   "source": [
    "9.使用循环输出等腰三角形，层数由用户输入（input），输出结果如下（输入3）：\n",
    "\t  *\n",
    "\t ***\n",
    "\t*****"
   ]
  },
  {
   "cell_type": "code",
   "execution_count": null,
   "metadata": {},
   "outputs": [],
   "source": [
    "# 我的答案：\n",
    "n = int(input(\"请输入等腰三角形层数：\"))\n",
    "for i in range(n):\n",
    "    print(\" \"*(n-i+1)+\"*\"*(2*i+1))"
   ]
  },
  {
   "cell_type": "markdown",
   "metadata": {},
   "source": [
    "<details>\n",
    "  <summary>点击展开答案（答案不唯一）</summary>\n",
    "  <pre><code> \n",
    "    n = int(input('请输入三角形的层数：'))\n",
    "    for i in range(1, n+1):\n",
    "        print((n-i+1)*' ' + (2*i-1)*'*' + (n-i+1)*' ')\n",
    "  </code></pre>\n",
    "</details>"
   ]
  },
  {
   "cell_type": "markdown",
   "metadata": {},
   "source": [
    "10.使用循环输出九九乘法表。输入结果如下：\n",
    "\t1 * 1 = 1\n",
    "\t1 * 2 = 2  2 * 2 = 4\n",
    "\t......."
   ]
  },
  {
   "cell_type": "code",
   "execution_count": null,
   "metadata": {},
   "outputs": [],
   "source": [
    "# 我的答案：\n",
    "# 管第二个数：\n",
    "for i in range(1,10):\n",
    "# 管第一个数：\n",
    "    print(\"\\n\")\n",
    "    for j in range(i):\n",
    "#       print((j+1)+\"*\"+(i)+\"=\"(j+1)*i)\n",
    "        string = '{} * {} = {}'.format(j+1,i,(j+1)*i)\n",
    "#         string\n",
    "        print(string, end=\"  \")"
   ]
  },
  {
   "cell_type": "markdown",
   "metadata": {},
   "source": [
    "<details>\n",
    "  <summary>点击展开答案（答案不唯一）</summary>\n",
    "  <pre><code> \n",
    "    for i in range(1, 10):\n",
    "        for j in range(1, i+1):\n",
    "            print('{}x{}={}\\t'.format(j, i, i*j), end='')      # \\t为制表符\n",
    "        print()\n",
    "  </code></pre>\n",
    "</details>"
   ]
  }
 ],
 "metadata": {
  "kernelspec": {
   "display_name": "Python 3",
   "language": "python",
   "name": "python3"
  },
  "language_info": {
   "codemirror_mode": {
    "name": "ipython",
    "version": 3
   },
   "file_extension": ".py",
   "mimetype": "text/x-python",
   "name": "python",
   "nbconvert_exporter": "python",
   "pygments_lexer": "ipython3",
   "version": "3.6.4"
  },
  "toc": {
   "base_numbering": 1,
   "nav_menu": {},
   "number_sections": true,
   "sideBar": true,
   "skip_h1_title": false,
   "title_cell": "Table of Contents",
   "title_sidebar": "Contents",
   "toc_cell": false,
   "toc_position": {},
   "toc_section_display": true,
   "toc_window_display": false
  }
 },
 "nbformat": 4,
 "nbformat_minor": 2
}
