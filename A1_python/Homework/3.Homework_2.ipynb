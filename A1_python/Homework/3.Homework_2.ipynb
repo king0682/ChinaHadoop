{
 "cells": [
  {
   "cell_type": "markdown",
   "metadata": {},
   "source": [
    "## 列表练习题\n",
    "完成下列列表相关的编程题，先运行下列的test函数，在完成每道题之后，都可以通过调用test函数检测所写函数对错。"
   ]
  },
  {
   "cell_type": "code",
   "execution_count": 51,
   "metadata": {},
   "outputs": [],
   "source": [
    "def test(got, expected):\n",
    "    if got == expected:\n",
    "        prefix = '正确!'\n",
    "    else:\n",
    "        prefix = '错误!'\n",
    "    print('%s 你的结果: %s 应该返回的结果: %s' % (prefix, repr(got), repr(expected)))"
   ]
  },
  {
   "cell_type": "markdown",
   "metadata": {},
   "source": [
    "### 习题1\n",
    "输入一个字符串列表，返回同时满足以下两个条件的字符串的个数：\n",
    "- 1.字符串长度大等于2\n",
    "- 2.字符串的第一个字符等于最后一个字符\n",
    "\n",
    "注意：python语言中没有 ++ 操作符，但是有 += 操作符。"
   ]
  },
  {
   "cell_type": "code",
   "execution_count": 52,
   "metadata": {},
   "outputs": [],
   "source": [
    "def match_ends(words):\n",
    "    # +++your code here+++\n",
    "    list_len = len(words)\n",
    "    num = 0\n",
    "    for i in words:\n",
    "        if len(i) >= 2:\n",
    "            if i[0] == i[-1]:\n",
    "                num += 1\n",
    "        else:\n",
    "            continue\n",
    "    return num"
   ]
  },
  {
   "cell_type": "code",
   "execution_count": 53,
   "metadata": {},
   "outputs": [
    {
     "name": "stdout",
     "output_type": "stream",
     "text": [
      "正确! 你的结果: 3 应该返回的结果: 3\n",
      "正确! 你的结果: 2 应该返回的结果: 2\n",
      "正确! 你的结果: 1 应该返回的结果: 1\n"
     ]
    }
   ],
   "source": [
    "# 可运行代码自测\n",
    "test(match_ends(['aba', 'xyz', 'aa', 'x', 'bbb']), 3)\n",
    "test(match_ends(['', 'x', 'xy', 'xyx', 'xx']), 2)\n",
    "test(match_ends(['aaa', 'be', 'abc', 'hello']), 1)"
   ]
  },
  {
   "cell_type": "markdown",
   "metadata": {},
   "source": [
    "#### 参考答案"
   ]
  },
  {
   "cell_type": "code",
   "execution_count": 374,
   "metadata": {},
   "outputs": [],
   "source": [
    "def match_ends(words):\n",
    "# +++your code here+++\n",
    "# LAB(begin solution)\n",
    "    count = 0\n",
    "    for word in words:\n",
    "        if len(word) >= 2 and word[0] == word[-1]:\n",
    "            count = count + 1\n",
    "    return count"
   ]
  },
  {
   "cell_type": "code",
   "execution_count": 375,
   "metadata": {},
   "outputs": [
    {
     "name": "stdout",
     "output_type": "stream",
     "text": [
      "正确! 你的结果: 3 应该返回的结果: 3\n",
      "正确! 你的结果: 2 应该返回的结果: 2\n",
      "正确! 你的结果: 1 应该返回的结果: 1\n"
     ]
    }
   ],
   "source": [
    "# 可运行代码自测\n",
    "test(match_ends(['aba', 'xyz', 'aa', 'x', 'bbb']), 3)\n",
    "test(match_ends(['', 'x', 'xy', 'xyx', 'xx']), 2)\n",
    "test(match_ends(['aaa', 'be', 'abc', 'hello']), 1)"
   ]
  },
  {
   "cell_type": "markdown",
   "metadata": {},
   "source": [
    "### 习题2\n",
    "输入一个字符串列表，返回满足以下条件的字符串列表：\n",
    "- 1.按字母顺序从小到大排序\n",
    "- 2.第一个字母是'x'的字符串排列在最前面\n",
    "\n",
    "例如：输入 ['mix', 'xyz', 'apple', 'xanadu', 'aardvark']应该返回 ['xanadu', 'xyz', 'aardvark', 'apple', 'mix']\n",
    "\n",
    "提示：可以通过生成两个列表并对它们分别进行排序，然后再把它们连接起来。"
   ]
  },
  {
   "cell_type": "code",
   "execution_count": 54,
   "metadata": {},
   "outputs": [],
   "source": [
    "def front_x(words):\n",
    "    # +++your code here+++\n",
    "    len_w = len(words)\n",
    "    temp = sorted(words)\n",
    "    x_list = []\n",
    "    other_list = []\n",
    "    for i in temp:\n",
    "        if i[0] == 'x':\n",
    "            x_list.append(i)\n",
    "        else:\n",
    "            other_list.append(i)\n",
    "    return x_list + other_list"
   ]
  },
  {
   "cell_type": "code",
   "execution_count": 55,
   "metadata": {},
   "outputs": [
    {
     "name": "stdout",
     "output_type": "stream",
     "text": [
      "正确! 你的结果: ['xaa', 'xzz', 'axx', 'bbb', 'ccc'] 应该返回的结果: ['xaa', 'xzz', 'axx', 'bbb', 'ccc']\n",
      "正确! 你的结果: ['xaa', 'xcc', 'aaa', 'bbb', 'ccc'] 应该返回的结果: ['xaa', 'xcc', 'aaa', 'bbb', 'ccc']\n",
      "正确! 你的结果: ['xanadu', 'xyz', 'aardvark', 'apple', 'mix'] 应该返回的结果: ['xanadu', 'xyz', 'aardvark', 'apple', 'mix']\n"
     ]
    }
   ],
   "source": [
    "# 可运行代码自测\n",
    "test(front_x(['bbb', 'ccc', 'axx', 'xzz', 'xaa']),['xaa', 'xzz', 'axx', 'bbb', 'ccc'])\n",
    "test(front_x(['ccc', 'bbb', 'aaa', 'xcc', 'xaa']),['xaa', 'xcc', 'aaa', 'bbb', 'ccc'])\n",
    "test(front_x(['mix', 'xyz', 'apple', 'xanadu', 'aardvark']),['xanadu', 'xyz', 'aardvark', 'apple', 'mix'])"
   ]
  },
  {
   "cell_type": "markdown",
   "metadata": {},
   "source": [
    "#### 参考答案"
   ]
  },
  {
   "cell_type": "code",
   "execution_count": 376,
   "metadata": {},
   "outputs": [],
   "source": [
    "def front_x(words):\n",
    "# +++your code here+++\n",
    "# LAB(begin solution)\n",
    "# Put each word into the x_list or the other_list.\n",
    "    x_list = []\n",
    "    other_list = []\n",
    "    for w in words:\n",
    "        if w.startswith('x'):\n",
    "            x_list.append(w)\n",
    "        else:\n",
    "            other_list.append(w)\n",
    "    return sorted(x_list) + sorted(other_list)"
   ]
  },
  {
   "cell_type": "code",
   "execution_count": 377,
   "metadata": {},
   "outputs": [
    {
     "name": "stdout",
     "output_type": "stream",
     "text": [
      "正确! 你的结果: ['xaa', 'xzz', 'axx', 'bbb', 'ccc'] 应该返回的结果: ['xaa', 'xzz', 'axx', 'bbb', 'ccc']\n",
      "正确! 你的结果: ['xaa', 'xcc', 'aaa', 'bbb', 'ccc'] 应该返回的结果: ['xaa', 'xcc', 'aaa', 'bbb', 'ccc']\n",
      "正确! 你的结果: ['xanadu', 'xyz', 'aardvark', 'apple', 'mix'] 应该返回的结果: ['xanadu', 'xyz', 'aardvark', 'apple', 'mix']\n"
     ]
    }
   ],
   "source": [
    "# 可运行代码自测\n",
    "test(front_x(['bbb', 'ccc', 'axx', 'xzz', 'xaa']),['xaa', 'xzz', 'axx', 'bbb', 'ccc'])\n",
    "test(front_x(['ccc', 'bbb', 'aaa', 'xcc', 'xaa']),['xaa', 'xcc', 'aaa', 'bbb', 'ccc'])\n",
    "test(front_x(['mix', 'xyz', 'apple', 'xanadu', 'aardvark']),['xanadu', 'xyz', 'aardvark', 'apple', 'mix'])"
   ]
  },
  {
   "cell_type": "markdown",
   "metadata": {},
   "source": [
    "### 习题3\n",
    "输入一个非空的元组列表，返回按列表中元组的最后一个元素从小到大排序后的元组列表\n",
    "\n",
    "例如：输入：[(1, 7), (1, 3), (3, 4, 5), (2, 2)]应该返回：[(2, 2), (1, 3), (3, 4, 5), (1, 7)]\n",
    "\n",
    "提示：使用自定义键=函数从每个元组提取最后一个元素。"
   ]
  },
  {
   "cell_type": "code",
   "execution_count": 56,
   "metadata": {},
   "outputs": [],
   "source": [
    "def sort_last(tuples):\n",
    "    # +++your code here+++\n",
    "    sorted_list = sorted(tuples, key=lambda y:y[-1])\n",
    "    return sorted_list"
   ]
  },
  {
   "cell_type": "code",
   "execution_count": 57,
   "metadata": {},
   "outputs": [
    {
     "name": "stdout",
     "output_type": "stream",
     "text": [
      "正确! 你的结果: [(2, 1), (3, 2), (1, 3)] 应该返回的结果: [(2, 1), (3, 2), (1, 3)]\n",
      "正确! 你的结果: [(3, 1), (1, 2), (2, 3)] 应该返回的结果: [(3, 1), (1, 2), (2, 3)]\n",
      "正确! 你的结果: [(2, 2), (1, 3), (3, 4, 5), (1, 7)] 应该返回的结果: [(2, 2), (1, 3), (3, 4, 5), (1, 7)]\n"
     ]
    }
   ],
   "source": [
    "# 可运行代码自测\n",
    "test(sort_last([(1, 3), (3, 2), (2, 1)]),[(2, 1), (3, 2), (1, 3)])\n",
    "test(sort_last([(2, 3), (1, 2), (3, 1)]),[(3, 1), (1, 2), (2, 3)])\n",
    "test(sort_last([(1, 7), (1, 3), (3, 4, 5), (2, 2)]),[(2, 2), (1, 3), (3, 4, 5), (1, 7)])"
   ]
  },
  {
   "cell_type": "markdown",
   "metadata": {},
   "source": [
    "#### 参考答案"
   ]
  },
  {
   "cell_type": "code",
   "execution_count": 378,
   "metadata": {},
   "outputs": [],
   "source": [
    "def last(a):\n",
    "    return a[-1]\n",
    "\n",
    "def sort_last(tuples):\n",
    "    # +++your code here+++\n",
    "    # LAB(begin solution)\n",
    "    return sorted(tuples, key=last)"
   ]
  },
  {
   "cell_type": "code",
   "execution_count": 379,
   "metadata": {},
   "outputs": [
    {
     "name": "stdout",
     "output_type": "stream",
     "text": [
      "正确! 你的结果: [(2, 1), (3, 2), (1, 3)] 应该返回的结果: [(2, 1), (3, 2), (1, 3)]\n",
      "正确! 你的结果: [(3, 1), (1, 2), (2, 3)] 应该返回的结果: [(3, 1), (1, 2), (2, 3)]\n",
      "正确! 你的结果: [(2, 2), (1, 3), (3, 4, 5), (1, 7)] 应该返回的结果: [(2, 2), (1, 3), (3, 4, 5), (1, 7)]\n"
     ]
    }
   ],
   "source": [
    "# 可运行代码自测\n",
    "test(sort_last([(1, 3), (3, 2), (2, 1)]),[(2, 1), (3, 2), (1, 3)])\n",
    "test(sort_last([(2, 3), (1, 2), (3, 1)]),[(3, 1), (1, 2), (2, 3)])\n",
    "test(sort_last([(1, 7), (1, 3), (3, 4, 5), (2, 2)]),[(2, 2), (1, 3), (3, 4, 5), (1, 7)])"
   ]
  },
  {
   "cell_type": "markdown",
   "metadata": {},
   "source": [
    "### 习题4\n",
    "输入一个数字列表，将所有相邻且相同的元素去重保留一个元素后返回\n",
    "\n",
    "例如：输入[1, 2, 2, 3] 返回 [1, 2, 3]；输入[1, 1, 2, 2, 3, 3, 3] 返回 [1, 2, 3]\n",
    "\n",
    "新建一个列表或者修改原来的列表返回均可。"
   ]
  },
  {
   "cell_type": "code",
   "execution_count": 58,
   "metadata": {},
   "outputs": [],
   "source": [
    "def remove_adjacent(nums):\n",
    "    # +++your code here+++\n",
    "    num_list=[]\n",
    "    for i in nums:\n",
    "        if i in num_list:\n",
    "            continue\n",
    "        else:\n",
    "            num_list.append(i)\n",
    "    return num_list"
   ]
  },
  {
   "cell_type": "code",
   "execution_count": 59,
   "metadata": {},
   "outputs": [
    {
     "name": "stdout",
     "output_type": "stream",
     "text": [
      "正确! 你的结果: [1, 2, 3] 应该返回的结果: [1, 2, 3]\n",
      "正确! 你的结果: [2, 3] 应该返回的结果: [2, 3]\n",
      "正确! 你的结果: [] 应该返回的结果: []\n"
     ]
    }
   ],
   "source": [
    "# 可运行代码自测\n",
    "test(remove_adjacent([1, 2, 2, 3]), [1, 2, 3])\n",
    "test(remove_adjacent([2, 2, 3, 3, 3]), [2, 3])\n",
    "test(remove_adjacent([]), [])"
   ]
  },
  {
   "cell_type": "markdown",
   "metadata": {},
   "source": [
    "#### 参考答案"
   ]
  },
  {
   "cell_type": "code",
   "execution_count": 382,
   "metadata": {},
   "outputs": [],
   "source": [
    "def remove_adjacent(nums):\n",
    "    # +++your code here+++\n",
    "    # LAB(begin solution)\n",
    "    result = []\n",
    "    for num in nums:\n",
    "        if len(result) == 0 or num != result[-1]:\n",
    "            result.append(num)\n",
    "    return result"
   ]
  },
  {
   "cell_type": "code",
   "execution_count": 383,
   "metadata": {},
   "outputs": [
    {
     "name": "stdout",
     "output_type": "stream",
     "text": [
      "正确! 你的结果: [1, 2, 3] 应该返回的结果: [1, 2, 3]\n",
      "正确! 你的结果: [2, 3] 应该返回的结果: [2, 3]\n",
      "正确! 你的结果: [] 应该返回的结果: []\n"
     ]
    }
   ],
   "source": [
    "# 可运行代码自测\n",
    "test(remove_adjacent([1, 2, 2, 3]), [1, 2, 3])\n",
    "test(remove_adjacent([2, 2, 3, 3, 3]), [2, 3])\n",
    "test(remove_adjacent([]), [])"
   ]
  },
  {
   "cell_type": "markdown",
   "metadata": {},
   "source": [
    "### 习题5\n",
    "给定两个按递增顺序排序的列表,创建并返回一个合并的按排序排列的所有元素的列表。\n",
    "\n",
    "例如输入 ['aa', 'xx', 'zz'], ['bb', 'cc']，应该返回['aa', 'bb', 'cc', 'xx', 'zz']\n",
    "\n",
    "希望你提供的解决方案在“线性”时间内工作，使两个列表都可以一次完成。"
   ]
  },
  {
   "cell_type": "code",
   "execution_count": 60,
   "metadata": {},
   "outputs": [],
   "source": [
    "def linear_merge(list1, list2):\n",
    "    # +++your code here+++\n",
    "    list_sorted = sorted(list1 + list2)\n",
    "    return list_sorted"
   ]
  },
  {
   "cell_type": "code",
   "execution_count": 61,
   "metadata": {},
   "outputs": [
    {
     "name": "stdout",
     "output_type": "stream",
     "text": [
      "正确! 你的结果: ['aa', 'bb', 'cc', 'xx', 'zz'] 应该返回的结果: ['aa', 'bb', 'cc', 'xx', 'zz']\n",
      "正确! 你的结果: ['aa', 'bb', 'cc', 'xx', 'zz'] 应该返回的结果: ['aa', 'bb', 'cc', 'xx', 'zz']\n",
      "正确! 你的结果: ['aa', 'aa', 'aa', 'bb', 'bb'] 应该返回的结果: ['aa', 'aa', 'aa', 'bb', 'bb']\n"
     ]
    }
   ],
   "source": [
    "# 可运行代码自测\n",
    "test(linear_merge(['aa', 'xx', 'zz'], ['bb', 'cc']),['aa', 'bb', 'cc', 'xx', 'zz'])\n",
    "test(linear_merge(['aa', 'xx'], ['bb', 'cc', 'zz']),['aa', 'bb', 'cc', 'xx', 'zz'])\n",
    "test(linear_merge(['aa', 'aa'], ['aa', 'bb', 'bb']),['aa', 'aa', 'aa', 'bb', 'bb'])"
   ]
  },
  {
   "cell_type": "markdown",
   "metadata": {},
   "source": [
    "#### 参考答案"
   ]
  },
  {
   "cell_type": "code",
   "execution_count": 384,
   "metadata": {},
   "outputs": [],
   "source": [
    "def linear_merge(list1, list2):\n",
    "    # +++your code here+++\n",
    "    # LAB(begin solution)\n",
    "    result = []\n",
    "    # Look at the two lists so long as both are non-empty.\n",
    "    # Take whichever element [0] is smaller.\n",
    "    while len(list1) and len(list2):\n",
    "        if list1[0] < list2[0]:\n",
    "            result.append(list1.pop(0))\n",
    "        else:\n",
    "            result.append(list2.pop(0))\n",
    "\n",
    "  # Now tack on what's left\n",
    "    result.extend(list1)\n",
    "    result.extend(list2)\n",
    "    return result"
   ]
  },
  {
   "cell_type": "code",
   "execution_count": 385,
   "metadata": {},
   "outputs": [
    {
     "name": "stdout",
     "output_type": "stream",
     "text": [
      "正确! 你的结果: ['aa', 'bb', 'cc', 'xx', 'zz'] 应该返回的结果: ['aa', 'bb', 'cc', 'xx', 'zz']\n",
      "正确! 你的结果: ['aa', 'bb', 'cc', 'xx', 'zz'] 应该返回的结果: ['aa', 'bb', 'cc', 'xx', 'zz']\n",
      "正确! 你的结果: ['aa', 'aa', 'aa', 'bb', 'bb'] 应该返回的结果: ['aa', 'aa', 'aa', 'bb', 'bb']\n"
     ]
    }
   ],
   "source": [
    "# 可运行代码自测\n",
    "test(linear_merge(['aa', 'xx', 'zz'], ['bb', 'cc']),['aa', 'bb', 'cc', 'xx', 'zz'])\n",
    "test(linear_merge(['aa', 'xx'], ['bb', 'cc', 'zz']),['aa', 'bb', 'cc', 'xx', 'zz'])\n",
    "test(linear_merge(['aa', 'aa'], ['aa', 'bb', 'bb']),['aa', 'aa', 'aa', 'bb', 'bb'])"
   ]
  },
  {
   "cell_type": "markdown",
   "metadata": {},
   "source": [
    "## 字符串练习题"
   ]
  },
  {
   "cell_type": "markdown",
   "metadata": {},
   "source": [
    "### 习题1\n",
    "输入一个字符串s，返回由字符串的最前面两个字母和最后两个字母组成的字符串。\n",
    "\n",
    "例如： 'spring' 返回 'spng'， 'is' 返回 'is'\n",
    "\n",
    "当输入的字符串长度小于2时，返回空字符串"
   ]
  },
  {
   "cell_type": "code",
   "execution_count": 65,
   "metadata": {},
   "outputs": [],
   "source": [
    "def both_ends(s):\n",
    "    # +++your code here+++\n",
    "    len_str = len(s)\n",
    "    if len_str < 2:\n",
    "        return ''\n",
    "    else:\n",
    "        return s[:2]+s[-2:]"
   ]
  },
  {
   "cell_type": "code",
   "execution_count": 66,
   "metadata": {},
   "outputs": [
    {
     "name": "stdout",
     "output_type": "stream",
     "text": [
      "正确! 你的结果: 'spng' 应该返回的结果: 'spng'\n",
      "正确! 你的结果: 'Helo' 应该返回的结果: 'Helo'\n",
      "正确! 你的结果: '' 应该返回的结果: ''\n",
      "正确! 你的结果: 'xyyz' 应该返回的结果: 'xyyz'\n"
     ]
    }
   ],
   "source": [
    "# 可运行代码自测\n",
    "test(both_ends('spring'), 'spng')\n",
    "test(both_ends('Hello'), 'Helo')\n",
    "test(both_ends('a'), '')\n",
    "test(both_ends('xyz'), 'xyyz')"
   ]
  },
  {
   "cell_type": "markdown",
   "metadata": {},
   "source": [
    "#### 参考答案"
   ]
  },
  {
   "cell_type": "code",
   "execution_count": 386,
   "metadata": {},
   "outputs": [],
   "source": [
    "def both_ends(s):\n",
    "    # +++your code here+++\n",
    "    # LAB(begin solution)\n",
    "    if len(s) < 2:\n",
    "        return ''\n",
    "    first2 = s[0:2]\n",
    "    last2 = s[-2:]\n",
    "    return first2 + last2"
   ]
  },
  {
   "cell_type": "code",
   "execution_count": 387,
   "metadata": {},
   "outputs": [
    {
     "name": "stdout",
     "output_type": "stream",
     "text": [
      "正确! 你的结果: 'spng' 应该返回的结果: 'spng'\n",
      "正确! 你的结果: 'Helo' 应该返回的结果: 'Helo'\n",
      "正确! 你的结果: '' 应该返回的结果: ''\n",
      "正确! 你的结果: 'xyyz' 应该返回的结果: 'xyyz'\n"
     ]
    }
   ],
   "source": [
    "# 可运行代码自测\n",
    "test(both_ends('spring'), 'spng')\n",
    "test(both_ends('Hello'), 'Helo')\n",
    "test(both_ends('a'), '')\n",
    "test(both_ends('xyz'), 'xyyz')"
   ]
  },
  {
   "cell_type": "markdown",
   "metadata": {},
   "source": [
    "### 习题2\n",
    "输入一个字符串s， 返回满足以下条件的字符串\n",
    "- 1.找出与字符串的第一个字母相同的字母，把它们替换成 '*'，除了第一个字母本身以外\n",
    "\n",
    "例如: 输入'babble'， 返回 'ba**le'\n",
    "\n",
    "提示：使用 s.replace(stra, strb) 函数，可以将字符串 s 中的所有 子字符串stra 替换为 子字符串strb"
   ]
  },
  {
   "cell_type": "code",
   "execution_count": 75,
   "metadata": {},
   "outputs": [],
   "source": [
    "def fix_start(s):\n",
    "    # +++your code here+++\n",
    "    first_char = s[0]\n",
    "    s_ = s.replace(first_char, '*')\n",
    "    return first_char + s_[1:]"
   ]
  },
  {
   "cell_type": "code",
   "execution_count": 76,
   "metadata": {},
   "outputs": [
    {
     "name": "stdout",
     "output_type": "stream",
     "text": [
      "正确! 你的结果: 'ba**le' 应该返回的结果: 'ba**le'\n",
      "正确! 你的结果: 'a*rdv*rk' 应该返回的结果: 'a*rdv*rk'\n",
      "正确! 你的结果: 'goo*le' 应该返回的结果: 'goo*le'\n",
      "正确! 你的结果: 'donut' 应该返回的结果: 'donut'\n"
     ]
    }
   ],
   "source": [
    "# 可运行代码自测\n",
    "test(fix_start('babble'), 'ba**le')\n",
    "test(fix_start('aardvark'), 'a*rdv*rk')\n",
    "test(fix_start('google'), 'goo*le')\n",
    "test(fix_start('donut'), 'donut')"
   ]
  },
  {
   "cell_type": "markdown",
   "metadata": {},
   "source": [
    "#### 参考答案"
   ]
  },
  {
   "cell_type": "code",
   "execution_count": 388,
   "metadata": {},
   "outputs": [],
   "source": [
    "def fix_start(s):\n",
    "    # +++your code here+++\n",
    "    # LAB(begin solution)\n",
    "    front = s[0]\n",
    "    back = s[1:]\n",
    "    fixed_back = back.replace(front, '*')\n",
    "    return front + fixed_back"
   ]
  },
  {
   "cell_type": "code",
   "execution_count": 389,
   "metadata": {},
   "outputs": [
    {
     "name": "stdout",
     "output_type": "stream",
     "text": [
      "正确! 你的结果: 'ba**le' 应该返回的结果: 'ba**le'\n",
      "正确! 你的结果: 'a*rdv*rk' 应该返回的结果: 'a*rdv*rk'\n",
      "正确! 你的结果: 'goo*le' 应该返回的结果: 'goo*le'\n",
      "正确! 你的结果: 'donut' 应该返回的结果: 'donut'\n"
     ]
    }
   ],
   "source": [
    "# 可运行代码自测\n",
    "test(fix_start('babble'), 'ba**le')\n",
    "test(fix_start('aardvark'), 'a*rdv*rk')\n",
    "test(fix_start('google'), 'goo*le')\n",
    "test(fix_start('donut'), 'donut')"
   ]
  },
  {
   "cell_type": "markdown",
   "metadata": {},
   "source": [
    "### 习题3\n",
    "输入字符串 a 和 b， 返回添加以下条件的字符串\n",
    "- 1.使用空格把两个字符串分隔后合并成一个字符串\n",
    "- 2.交换两个字符串的最前面的两个字母\n",
    "- 3.字符串 a 和 b 的长度都大等于2\n",
    "\n",
    "例如： \n",
    "- 'mix, pod' -> 'pox mid'\n",
    "- 'dog', 'dinner' -> 'dig donner'"
   ]
  },
  {
   "cell_type": "code",
   "execution_count": 81,
   "metadata": {},
   "outputs": [],
   "source": [
    "def mix_up(a, b):\n",
    "    # +++your code here+++\n",
    "    if len(a)>=2 and len(b)>=2:\n",
    "        letter_a = a[:2]\n",
    "        letter_b = b[:2]\n",
    "        a = a.replace(letter_a, letter_b)\n",
    "        b = b.replace(letter_b, letter_a)\n",
    "        string = a + ' ' + b\n",
    "    return string"
   ]
  },
  {
   "cell_type": "code",
   "execution_count": 82,
   "metadata": {},
   "outputs": [
    {
     "name": "stdout",
     "output_type": "stream",
     "text": [
      "正确! 你的结果: 'pox mid' 应该返回的结果: 'pox mid'\n",
      "正确! 你的结果: 'dig donner' 应该返回的结果: 'dig donner'\n",
      "正确! 你的结果: 'spash gnort' 应该返回的结果: 'spash gnort'\n",
      "正确! 你的结果: 'fizzy perm' 应该返回的结果: 'fizzy perm'\n"
     ]
    }
   ],
   "source": [
    "# 可运行代码自测\n",
    "test(mix_up('mix', 'pod'), 'pox mid')\n",
    "test(mix_up('dog', 'dinner'), 'dig donner')\n",
    "test(mix_up('gnash', 'sport'), 'spash gnort')\n",
    "test(mix_up('pezzy', 'firm'), 'fizzy perm')"
   ]
  },
  {
   "cell_type": "markdown",
   "metadata": {},
   "source": [
    "#### 参考答案"
   ]
  },
  {
   "cell_type": "code",
   "execution_count": 390,
   "metadata": {},
   "outputs": [],
   "source": [
    "def mix_up(a, b):\n",
    "    # +++your code here+++\n",
    "    # LAB(begin solution)\n",
    "    a_swapped = b[:2] + a[2:]\n",
    "    b_swapped = a[:2] + b[2:]\n",
    "    return a_swapped + ' ' + b_swapped"
   ]
  },
  {
   "cell_type": "code",
   "execution_count": 391,
   "metadata": {},
   "outputs": [
    {
     "name": "stdout",
     "output_type": "stream",
     "text": [
      "正确! 你的结果: 'pox mid' 应该返回的结果: 'pox mid'\n",
      "正确! 你的结果: 'dig donner' 应该返回的结果: 'dig donner'\n",
      "正确! 你的结果: 'spash gnort' 应该返回的结果: 'spash gnort'\n",
      "正确! 你的结果: 'fizzy perm' 应该返回的结果: 'fizzy perm'\n"
     ]
    }
   ],
   "source": [
    "# 可运行代码自测\n",
    "test(mix_up('mix', 'pod'), 'pox mid')\n",
    "test(mix_up('dog', 'dinner'), 'dig donner')\n",
    "test(mix_up('gnash', 'sport'), 'spash gnort')\n",
    "test(mix_up('pezzy', 'firm'), 'fizzy perm')"
   ]
  },
  {
   "cell_type": "markdown",
   "metadata": {},
   "source": [
    "### 习题4\n",
    "输入一个字符串，返回满足以下条件的字符串\n",
    "- 1. 如果字符串长度大等于3，添加 'ing' 到字符串的末尾\n",
    "- 2. 如果字符串是以 'ing' 结尾的，就在末尾添加 'ly'\n",
    "- 3. 如果字符串长度小于3，返回原字符串"
   ]
  },
  {
   "cell_type": "code",
   "execution_count": 83,
   "metadata": {},
   "outputs": [],
   "source": [
    "def verbing(s):\n",
    "    # +++your code here+++\n",
    "    if len(s)>=3:\n",
    "        if s[-3:] == 'ing':\n",
    "            return s+'ly'\n",
    "        else:\n",
    "            return s+'ing'\n",
    "    else:\n",
    "        return s\n",
    "    return"
   ]
  },
  {
   "cell_type": "code",
   "execution_count": 84,
   "metadata": {},
   "outputs": [
    {
     "name": "stdout",
     "output_type": "stream",
     "text": [
      "正确! 你的结果: 'hailing' 应该返回的结果: 'hailing'\n",
      "正确! 你的结果: 'swimingly' 应该返回的结果: 'swimingly'\n",
      "正确! 你的结果: 'do' 应该返回的结果: 'do'\n"
     ]
    }
   ],
   "source": [
    "# 可运行代码自测\n",
    "test(verbing('hail'), 'hailing')\n",
    "test(verbing('swiming'), 'swimingly')\n",
    "test(verbing('do'), 'do')"
   ]
  },
  {
   "cell_type": "markdown",
   "metadata": {},
   "source": [
    "#### 参考答案"
   ]
  },
  {
   "cell_type": "code",
   "execution_count": 394,
   "metadata": {},
   "outputs": [],
   "source": [
    "def verbing(s):\n",
    "    # +++your code here+++\n",
    "    # LAB(begin solution)\n",
    "    if len(s) >= 3:\n",
    "        if s[-3:] != 'ing': s = s + 'ing'\n",
    "        else: s = s + 'ly'\n",
    "    return s"
   ]
  },
  {
   "cell_type": "code",
   "execution_count": 395,
   "metadata": {},
   "outputs": [
    {
     "name": "stdout",
     "output_type": "stream",
     "text": [
      "正确! 你的结果: 'hailing' 应该返回的结果: 'hailing'\n",
      "正确! 你的结果: 'swimingly' 应该返回的结果: 'swimingly'\n",
      "正确! 你的结果: 'do' 应该返回的结果: 'do'\n"
     ]
    }
   ],
   "source": [
    "# 可运行代码自测\n",
    "test(verbing('hail'), 'hailing')\n",
    "test(verbing('swiming'), 'swimingly')\n",
    "test(verbing('do'), 'do')"
   ]
  },
  {
   "cell_type": "markdown",
   "metadata": {},
   "source": [
    "### 习题5\n",
    "考虑把一个字符串拆分成两个等分\n",
    "- 1.如果字符串长度是偶数，前一半和后一半的长度是相同的\n",
    "- 2.如果字符串长度是奇数，则多出的一个字符加到前一半，如：'abcde'，前一半是'abc'，后一半是'de'\n",
    "- 3.输入两个字符串, a 和 b,按以下格式返回结果\n",
    "    - a-front + b-front + a-back + b-back"
   ]
  },
  {
   "cell_type": "code",
   "execution_count": 112,
   "metadata": {},
   "outputs": [],
   "source": [
    "def front_back(a, b):\n",
    "    # +++your code here+++\n",
    "    len_a, len_b = len(a), len(b)\n",
    "    a_front=a[:int(len_a/2)] if len_a%2==0 else a[:int(len_a/2)+1]\n",
    "    a_back=a[int(len_a/2):] if len_a%2==0 else a[int(len_a/2)+1:]\n",
    "    b_front=b[:int(len_b/2)] if len_b%2==0 else b[:int(len_b/2)+1]\n",
    "    b_back=b[int(len_b/2):] if len_b%2==0 else b[int(len_b/2)+1:]\n",
    "    return a_front+b_front+a_back+b_back"
   ]
  },
  {
   "cell_type": "code",
   "execution_count": 113,
   "metadata": {},
   "outputs": [
    {
     "name": "stdout",
     "output_type": "stream",
     "text": [
      "正确! 你的结果: 'abxcdy' 应该返回的结果: 'abxcdy'\n",
      "正确! 你的结果: 'abcxydez' 应该返回的结果: 'abcxydez'\n",
      "正确! 你的结果: 'KitDontenut' 应该返回的结果: 'KitDontenut'\n"
     ]
    }
   ],
   "source": [
    "# 可运行代码自测\n",
    "test(front_back('abcd', 'xy'), 'abxcdy')\n",
    "test(front_back('abcde', 'xyz'), 'abcxydez')\n",
    "test(front_back('Kitten', 'Donut'), 'KitDontenut')"
   ]
  },
  {
   "cell_type": "markdown",
   "metadata": {},
   "source": [
    "#### 参考答案"
   ]
  },
  {
   "cell_type": "code",
   "execution_count": 396,
   "metadata": {},
   "outputs": [],
   "source": [
    "def front_back(a, b):\n",
    "    # +++your code here+++\n",
    "    # LAB(begin solution)\n",
    "    # Figure out the middle position of each string.\n",
    "    a_middle = len(a) // 2\n",
    "    b_middle = len(b) // 2\n",
    "    if len(a) % 2 == 1:  # add 1 if length is odd\n",
    "        a_middle = a_middle + 1\n",
    "    if len(b) % 2 == 1:\n",
    "        b_middle = b_middle + 1 \n",
    "    return a[:a_middle] + b[:b_middle] + a[a_middle:] + b[b_middle:]"
   ]
  },
  {
   "cell_type": "code",
   "execution_count": 397,
   "metadata": {},
   "outputs": [
    {
     "name": "stdout",
     "output_type": "stream",
     "text": [
      "正确! 你的结果: 'abxcdy' 应该返回的结果: 'abxcdy'\n",
      "正确! 你的结果: 'abcxydez' 应该返回的结果: 'abcxydez'\n",
      "正确! 你的结果: 'KitDontenut' 应该返回的结果: 'KitDontenut'\n"
     ]
    }
   ],
   "source": [
    "# 可运行代码自测\n",
    "test(front_back('abcd', 'xy'), 'abxcdy')\n",
    "test(front_back('abcde', 'xyz'), 'abcxydez')\n",
    "test(front_back('Kitten', 'Donut'), 'KitDontenut')"
   ]
  },
  {
   "cell_type": "markdown",
   "metadata": {},
   "source": [
    "## 综合练习题"
   ]
  },
  {
   "cell_type": "markdown",
   "metadata": {},
   "source": [
    "编写程序完成以下任务：<br>\n",
    "读取指定的文件，并使用split()函数以空白为字符串分隔得到文件中所有的单词。\n",
    "\n",
    "完成一个名为mimic_dict的函数：\n",
    "- 以出现在文件中的单词(全都小写化)为键(key)，文件中所有紧跟在单词后面的一个单词组成的列表为值(value)。单词列表可以是任意顺序的，也可以包含重复的值。\n",
    "\n",
    "例如，键“and”可能有列表[\"then\", \"best\", \"then\", \"after\", ...]，此列表包括了所有的文件中在'and'后面的单词。"
   ]
  },
  {
   "cell_type": "code",
   "execution_count": 369,
   "metadata": {},
   "outputs": [],
   "source": [
    "import random\n",
    "def mimic_dict(filename):\n",
    "    \"\"\"Returns mimic dict mapping each word to list of words which follow it.\"\"\"\n",
    "    # +++your code here+++\n",
    "    dict_ = {}\n",
    "    f = open(filename, 'r')\n",
    "    file_list = f.read().split(' ')\n",
    "    lower_list = [item.lower() for item in file_list]\n",
    "    lower_gene = iter(lower_list)\n",
    "    next(lower_gene)\n",
    "    for i in lower_list:\n",
    "        dict_[i] = []\n",
    "    try:\n",
    "        for i in lower_list:\n",
    "            dict_[i].append(next(lower_gene))\n",
    "    except StopIteration:\n",
    "        pass\n",
    "    return dict_"
   ]
  },
  {
   "cell_type": "code",
   "execution_count": 370,
   "metadata": {},
   "outputs": [],
   "source": [
    "import random\n",
    "def print_mimic(mimic_dict, word):\n",
    "    \"\"\"Given mimic dict and start word, prints 200 random words.\"\"\"\n",
    "    # +++your code here+++\n",
    "    for i in range(10):\n",
    "        word = random.choice(mimic_dict[word])\n",
    "    return word"
   ]
  },
  {
   "cell_type": "markdown",
   "metadata": {},
   "source": [
    "- 第一问的结构类似 {\"and\":[\"then\",\"best\",...], \"then\":[...] }\n",
    "- 第二问是在第一问的基础上，比如给定初始词为and，然后从and后面跟着的列表中随机抽一个词输出出来，假设为then，输出then后，再从字典中then后面跟着的列表中随机抽一个词，重复200次这样的操作"
   ]
  },
  {
   "cell_type": "code",
   "execution_count": 372,
   "metadata": {},
   "outputs": [
    {
     "data": {
      "text/plain": [
       "'it'"
      ]
     },
     "execution_count": 372,
     "metadata": {},
     "output_type": "execute_result"
    }
   ],
   "source": [
    "filename = './sample_text.txt'\n",
    "mimic_dict_ = mimic_dict(filename)\n",
    "print_mimic(mimic_dict_, 'and')"
   ]
  },
  {
   "cell_type": "markdown",
   "metadata": {},
   "source": [
    "#### 参考答案"
   ]
  },
  {
   "cell_type": "code",
   "execution_count": 398,
   "metadata": {},
   "outputs": [],
   "source": [
    "import random\n",
    "def mimic_dict(filename):\n",
    "    \"\"\"Returns mimic dict mapping each word to list of words which follow it.\"\"\"\n",
    "    # +++your code here+++\n",
    "    # LAB(begin solution)\n",
    "    mimic_dict = {}\n",
    "    f = open(filename, 'r', encoding='utf-8')\n",
    "    text = f.read()\n",
    "    f.close()\n",
    "    words = text.split()\n",
    "    prev = ''\n",
    "    for word in words:\n",
    "        if not prev in mimic_dict:\n",
    "            mimic_dict[prev] = [word]\n",
    "        else:\n",
    "            mimic_dict[prev].append(word)\n",
    "        # Could write as: mimic_dict[prev] = mimic_dict.get(prev, []) + [word]\n",
    "        # It's one line, but not totally satisfying.\n",
    "        prev = word\n",
    "    return mimic_dict\n",
    "\n",
    "def print_mimic(mimic_dict, word):\n",
    "    \"\"\"Given mimic dict and start word, prints 200 random words.\"\"\"\n",
    "    # +++your code here+++\n",
    "    # LAB(begin solution)\n",
    "    for unused_i in range(200):\n",
    "        print(word,)\n",
    "        nexts = mimic_dict.get(word)          # Returns None if not found\n",
    "        if not nexts:\n",
    "            nexts = mimic_dict['']  # Fallback to '' if not found\n",
    "        word = random.choice(nexts)"
   ]
  },
  {
   "cell_type": "code",
   "execution_count": 399,
   "metadata": {},
   "outputs": [
    {
     "name": "stdout",
     "output_type": "stream",
     "text": [
      "and\n",
      "so\n",
      "excited\n",
      "that\n",
      "she\n",
      "flew\n",
      "with\n",
      "me?\n",
      "I\n",
      "shall\n",
      "I\n",
      "remain\n",
      "in\n",
      "the\n",
      "filth\n",
      "thing.\n",
      "But\n",
      "the\n",
      "Mayor\n",
      "if\n",
      "eating.\n",
      "It\n",
      "was\n",
      "locked\n",
      "and\n",
      "paws\n",
      "of\n",
      "bread\n",
      "and\n",
      "the\n",
      "raven\n",
      "and\n",
      "brighter\n",
      "and\n",
      "The\n",
      "farmers\n",
      "plunged\n",
      "in\n",
      "the\n",
      "parson\n",
      "went\n",
      "to\n",
      "me\".\n",
      "The\n",
      "farmer\n",
      "exclaimed,\n",
      "\"Oh!\n",
      "Gracious!\n",
      "That\n",
      "is\n",
      "not\n",
      "all\n",
      "their\n",
      "goats\n",
      "and\n",
      "invites\n",
      "you\n",
      "home\n",
      "and\n",
      "paws\n",
      "of\n",
      "the\n",
      "lost\n",
      "lamb.\n",
      "Now\n",
      "the\n",
      "bottom\n",
      "where\n",
      "I\n",
      "can\n",
      "about\n",
      "her\n",
      "imagination\n",
      "and\n",
      "drove\n",
      "it\n",
      "is\n",
      "there\n",
      "to\n",
      "the\n",
      "woman\n",
      "had\n",
      "not\n",
      "listening\n",
      "to\n",
      "see\n",
      "a\n",
      "pond.\n",
      "The\n",
      "old\n",
      "servant\n",
      "shook\n",
      "Mona\n",
      "thought\n",
      "he\n",
      "went\n",
      "to\n",
      "the\n",
      "cask\n",
      "and\n",
      "became\n",
      "tired.\n",
      "When\n",
      "they\n",
      "had\n",
      "no\n",
      "air\n",
      "and\n",
      "out\n",
      "with\n",
      "plenty\n",
      "of\n",
      "the\n",
      "market.\n",
      "He\n",
      "was\n",
      "frightened.\n",
      "It\n",
      "was\n",
      "all\n",
      "his\n",
      "meal.\n",
      "The\n",
      "old\n",
      "woman\n",
      "and\n",
      "opening\n",
      "the\n",
      "pond.\n",
      "The\n",
      "old\n",
      "woman\n",
      "listened\n",
      "carefully\n",
      "and\n",
      "the\n",
      "entrance\n",
      "of\n",
      "them\n",
      "to\n",
      "walk\n",
      "upon\n",
      "your\n",
      "thoughts\n",
      "and\n",
      "said,\n",
      "he\n",
      "went\n",
      "together\n",
      "down\n",
      "near\n",
      "the\n",
      "poor\n",
      "farmer\n",
      "made\n",
      "the\n",
      "shepherd,\n",
      "\"if\n",
      "nothing\n",
      "else\n",
      "is\n",
      "under\n",
      "the\n",
      "young\n",
      "girl\n",
      "who\n",
      "was\n",
      "led\n",
      "away.\n",
      "Higher\n",
      "and\n",
      "the\n",
      "miller\n",
      "and\n",
      "rain\n",
      "and\n",
      "the\n",
      "mass\n",
      "for\n",
      "all\n",
      "the\n",
      "wide\n",
      "oceans,\n",
      "the\n",
      "raven\n",
      "croak\n",
      "once\n",
      "bolted\n",
      "out\n",
      "and\n",
      "when\n",
      "he\n",
      "say?\"\n",
      "The\n",
      "sight\n",
      "astounded\n",
      "the\n",
      "ground\n",
      "below\n",
      "the\n"
     ]
    }
   ],
   "source": [
    "filename = './sample_text.txt'\n",
    "mimic_dict_ = mimic_dict(filename)\n",
    "print_mimic(mimic_dict_, 'and')"
   ]
  },
  {
   "cell_type": "code",
   "execution_count": null,
   "metadata": {},
   "outputs": [],
   "source": []
  }
 ],
 "metadata": {
  "kernelspec": {
   "display_name": "Python 3",
   "language": "python",
   "name": "python3"
  },
  "language_info": {
   "codemirror_mode": {
    "name": "ipython",
    "version": 3
   },
   "file_extension": ".py",
   "mimetype": "text/x-python",
   "name": "python",
   "nbconvert_exporter": "python",
   "pygments_lexer": "ipython3",
   "version": "3.6.4"
  },
  "toc": {
   "base_numbering": 1,
   "nav_menu": {},
   "number_sections": true,
   "sideBar": true,
   "skip_h1_title": false,
   "title_cell": "Table of Contents",
   "title_sidebar": "Contents",
   "toc_cell": false,
   "toc_position": {},
   "toc_section_display": true,
   "toc_window_display": true
  }
 },
 "nbformat": 4,
 "nbformat_minor": 2
}
