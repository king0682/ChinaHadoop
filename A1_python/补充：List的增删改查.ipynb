{
 "cells": [
  {
   "cell_type": "markdown",
   "metadata": {},
   "source": [
    "定义和创建列表：\n",
    "\n",
    "列表：是python以及其他语言中最常用的数据结构之一。python用 [] 来解析列表\n",
    "列表是可变的。--可以改变列表的内容\n",
    "可以用切片\n"
   ]
  },
  {
   "cell_type": "code",
   "execution_count": 1,
   "metadata": {},
   "outputs": [],
   "source": [
    "a=['张三','李四','王五','赵六']"
   ]
  },
  {
   "cell_type": "markdown",
   "metadata": {},
   "source": [
    "* <font color='red'>对列表的增删改查：</font>"
   ]
  },
  {
   "cell_type": "code",
   "execution_count": 10,
   "metadata": {},
   "outputs": [
    {
     "name": "stdout",
     "output_type": "stream",
     "text": [
      "['李四', '王五']\n",
      "赵六\n",
      "['赵六', '王五']\n"
     ]
    }
   ],
   "source": [
    "# 1：查（ [] ）\n",
    "a=['张三','李四','王五','赵六']\n",
    "\n",
    "print(a[1:3])#左边取到，右边取不到\n",
    "print(a[-1])\n",
    "print(a[3:1:-1])"
   ]
  },
  {
   "cell_type": "code",
   "execution_count": 11,
   "metadata": {},
   "outputs": [
    {
     "name": "stdout",
     "output_type": "stream",
     "text": [
      "['张三', '李四', 'zheng', '王五', '赵六', 'chen']\n"
     ]
    }
   ],
   "source": [
    "# 2:增（append,inserrt）\n",
    "# append只能将对象插入到列表末尾\n",
    "# insert可以指定对象插入的位置\n",
    "a=['张三','李四','王五','赵六']\n",
    "a.append('chen')\n",
    "a.insert(2,'zheng')\n",
    "print(a)"
   ]
  },
  {
   "cell_type": "code",
   "execution_count": 12,
   "metadata": {},
   "outputs": [
    {
     "name": "stdout",
     "output_type": "stream",
     "text": [
      "['chen', 'zheng', '刘六', '赵六']\n"
     ]
    }
   ],
   "source": [
    "# 3:改（重新赋值）\n",
    "a=['张三','李四','王五','赵六']\n",
    "a[2]='刘六'\n",
    "a[0:2]=['chen','zheng']\n",
    "print(a)"
   ]
  },
  {
   "cell_type": "code",
   "execution_count": 13,
   "metadata": {},
   "outputs": [
    {
     "name": "stdout",
     "output_type": "stream",
     "text": [
      "赵六\n",
      "['张三']\n"
     ]
    }
   ],
   "source": [
    "# 4:删（remove , del , pop）\n",
    "a=['张三','李四','王五','赵六']\n",
    "a.remove('王五')\n",
    "del a[1]\n",
    "print(a.pop(1)) #pop是有一个返回值的\n",
    "print(a)"
   ]
  },
  {
   "cell_type": "markdown",
   "metadata": {},
   "source": [
    "* <font color='red'>常用操作：</font>"
   ]
  },
  {
   "cell_type": "code",
   "execution_count": 14,
   "metadata": {},
   "outputs": [
    {
     "name": "stdout",
     "output_type": "stream",
     "text": [
      "2\n"
     ]
    }
   ],
   "source": [
    "#count统计某个元素在列表中出现的次数\n",
    "a=['to','too','or','not','to'].count('to')\n",
    "print(a)"
   ]
  },
  {
   "cell_type": "code",
   "execution_count": 18,
   "metadata": {},
   "outputs": [
    {
     "name": "stdout",
     "output_type": "stream",
     "text": [
      "['to', 'too', 'or', 'not', 'to', 1, 2, 3, 4, 5]\n"
     ]
    }
   ],
   "source": [
    "#extend在列表的末尾一次性追加另一个列表中多个值。\n",
    "a=['to','too','or','not','to']\n",
    "b=[1,2,3,4,5]\n",
    "a.extend(b)\n",
    "print(a)\n"
   ]
  },
  {
   "cell_type": "code",
   "execution_count": 17,
   "metadata": {},
   "outputs": [
    {
     "name": "stdout",
     "output_type": "stream",
     "text": [
      "2\n"
     ]
    }
   ],
   "source": [
    "#index用于从列表中找到某个值第一个匹配项的索引位置\n",
    "a=['张三','李四','王五','赵六']\n",
    "print(a.index('王五'))\n"
   ]
  },
  {
   "cell_type": "code",
   "execution_count": 16,
   "metadata": {},
   "outputs": [
    {
     "name": "stdout",
     "output_type": "stream",
     "text": [
      "['赵六', '王五', '李四', '张三']\n"
     ]
    }
   ],
   "source": [
    "#reverse将列表反向存放\n",
    "a=['张三','李四','王五','赵六']\n",
    "a.reverse()\n",
    "print(a)"
   ]
  },
  {
   "cell_type": "code",
   "execution_count": 15,
   "metadata": {},
   "outputs": [
    {
     "name": "stdout",
     "output_type": "stream",
     "text": [
      "[3, 4, 25, 46, 54, 63]\n"
     ]
    }
   ],
   "source": [
    "#sort用于在原位置对列表进行排序\n",
    "a=[4,3,63,25,46,54]\n",
    "a.sort()\n",
    "print(a)\n",
    "\n",
    "# 1、浅拷贝只能拷贝最外层，修改内层则原列表和新列表都会变化。\n",
    "# 2、深拷贝是指将原列表完全克隆一份新的。"
   ]
  },
  {
   "cell_type": "code",
   "execution_count": null,
   "metadata": {},
   "outputs": [],
   "source": []
  }
 ],
 "metadata": {
  "kernelspec": {
   "display_name": "Python 3",
   "language": "python",
   "name": "python3"
  },
  "language_info": {
   "codemirror_mode": {
    "name": "ipython",
    "version": 3
   },
   "file_extension": ".py",
   "mimetype": "text/x-python",
   "name": "python",
   "nbconvert_exporter": "python",
   "pygments_lexer": "ipython3",
   "version": "3.6.4"
  },
  "toc": {
   "base_numbering": 1,
   "nav_menu": {},
   "number_sections": true,
   "sideBar": true,
   "skip_h1_title": false,
   "title_cell": "Table of Contents",
   "title_sidebar": "Contents",
   "toc_cell": false,
   "toc_position": {},
   "toc_section_display": true,
   "toc_window_display": false
  }
 },
 "nbformat": 4,
 "nbformat_minor": 2
}
