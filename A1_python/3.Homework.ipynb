{
 "cells": [
  {
   "cell_type": "markdown",
   "metadata": {},
   "source": [
    "## 简答题\n",
    "### 请谈谈Python中is 和 == 的区别(写代码演示)\n",
    "\n",
    "**is作用：**  \n",
    "* is 表示的是对象标示符（object identity），作用是用来检查对象的标示符是否一致，也就是比较两个变量/对象在内存中的地址是否一样。\n",
    "\n",
    "**==作用：**  \n",
    "* ==用于比较两个变量的值是否相等,== 表示的是相等（equality），是用来检查两个对象是否相等。\n",
    "\n",
    "**总结：**\n",
    "* is ：检查两个对象是否指向同一块内存空间\n",
    "* == ：检查他们的值是否相等\n",
    "\n",
    "可以看出，is 是比 == 更严格的检查，is 返回True表明这两个对象指向同一块内存，值也一定相同。"
   ]
  },
  {
   "cell_type": "code",
   "execution_count": 49,
   "metadata": {},
   "outputs": [
    {
     "name": "stdout",
     "output_type": "stream",
     "text": [
      "a_num == b_num: True\n",
      "a_str == b_str: True\n",
      "a_num is b_num: True\n",
      "a_str is b_str: True\n",
      "\n",
      "\n",
      "a_tuple is b_tuple: False\n",
      "a_list is b_list: False\n",
      "a_tuple == b_tuple: True\n",
      "a_list == b_list: True\n",
      "\n",
      "\n",
      "xiaoming\n",
      "xiaoming\n",
      "4489081016\n",
      "4489081912\n",
      "False\n"
     ]
    }
   ],
   "source": [
    "# case 1:对于（比较小）数值型和（比较短）字符串型对象, python的存储机制使得a和b其实指向同一个地址，所以is和==都是True\n",
    "a_num = 123\n",
    "b_num = 123\n",
    "a_str = 'string'\n",
    "b_str = \"string\"\n",
    "# 地址：\n",
    "print(\"a_num == b_num:\", a_num == b_num)\n",
    "print(\"a_str == b_str:\", a_str == b_str)\n",
    "# 值：\n",
    "print(\"a_num is b_num:\", a_num is b_num)\n",
    "print(\"a_str is b_str:\", a_str is b_str)\n",
    "print('\\n')\n",
    "\n",
    "# case 2:对于list、tuple等容器，a和b虽然内容一样，但是是两个不同的对象引用，指向两个不同的内存地址\n",
    "a_tuple = (1,2,3)\n",
    "b_tuple = (1,2,3)\n",
    "a_list = [1,2,3]\n",
    "b_list = [1,2,3]\n",
    "# 地址：\n",
    "print(\"a_tuple is b_tuple:\", a_tuple is b_tuple)\n",
    "print(\"a_list is b_list:\", a_list is b_list)\n",
    "# 值：\n",
    "print(\"a_tuple == b_tuple:\", a_tuple == b_tuple)\n",
    "print(\"a_list == b_list:\", a_list == b_list)\n",
    "print('\\n')\n",
    "\n",
    "# case 3：实际上可以通过修改对象的__eq__方法改变==的比较方式：自定义一个类，定义两个相同的实例，并尝试重写__eq__方法让==一定返回False\n",
    "class Student(object):\n",
    "    \"改变__eq__方法，使得==返回值一定为False\"\n",
    "    def __init__(self, name, age):\n",
    "        self.name = name\n",
    "        self.age = age\n",
    "#     注意：以下的self是当前自身的实例化对象，而other则是其他实例化对象：如果当前对象名与其他对象名相等，或者当前对象age与其他age相等\n",
    "    def __eq__(self, other):\n",
    "        if self.name == other.name or self.age == other.age :\n",
    "            return False\n",
    "        \n",
    "S1 = Student('xiaoming',16)\n",
    "S2 = Student('xiaoming',16)\n",
    "\n",
    "print(S1.name)\n",
    "print(S2.name)\n",
    "\n",
    "print(id(S1))\n",
    "print(id(S2))\n",
    "\n",
    "print(S1==S2)"
   ]
  },
  {
   "cell_type": "markdown",
   "metadata": {},
   "source": [
    "### Python中的高阶函数是指什么？\n",
    "\n",
    "提示：我们指的是map、reduce、filter这类函数"
   ]
  },
  {
   "cell_type": "markdown",
   "metadata": {},
   "source": [
    "高阶函数：能够接收函数作为参数的方法\n",
    "\n",
    "计算处理型：  \n",
    "* map：Python内置的映射函数，接收一个单参函数f(a)和一个list，将函数f以此作用在list的每个元素，将结果输出到一个新的list返回，是单个元素处理。\n",
    "* reduce：与map()类似，但接收一个双参函数f(a,b)和一个list，处理时将一对数据输入函数f，第一个参数为上次函数返回值，第二个参数为list中下一个需要处理的值，两个参数共同输入函数f得到下一个结果。\n",
    "\n",
    "规则逻辑判断型：  \n",
    "* filter：接收一个函数f和一个list，函数f返回值为布尔值，filter将返回值为True的值提取出来，作为结果list返回。"
   ]
  },
  {
   "cell_type": "markdown",
   "metadata": {},
   "source": [
    "### Python类中有哪些的成员，如何分类他们，他们各自又有哪些用途？\n",
    "\n",
    "提示：成员变量，成员函数..."
   ]
  },
  {
   "cell_type": "markdown",
   "metadata": {},
   "source": [
    "* 成员变量  \n",
    "    * 类变量：\n",
    "        * 说明：定义在类中，但在类方法之外的变量\n",
    "        * 作用：是所有对象共有的方法\n",
    "    * 实例变量/实例属性：\n",
    "        * 说明：定义在init方法中的变量\n",
    "        * 作用：每个对象都会有属于自己的不同属性值\n",
    "        \n",
    "    * **举例：**\n",
    "        * 说明：虽然每个成员的名称和区号不同（实例变量），但是它们的共同属性是都属于中国（类变量共享属性）。  \n",
    "        定义一个类，即在内存中开辟了空间，类也是对象（类对象）。类对象是模板，实例对象是通过模板的具体化。<font color='red'>创建对象即开辟空间：对该空间用__init__()初始化，并用self指向创建的空间，赋值。</font>\n",
    "        ![](./class.png)\n",
    "        * 实例对象使用__class__指向类对象\n",
    "        ```\n",
    "        class A:\n",
    "            country=\"中国\"\n",
    "\n",
    "            def __init__(self,a,b):\n",
    "                self.a=a\n",
    "                self.b=b\n",
    "\n",
    "        a = A(\"吉林省长春市\",\"0431\")\n",
    "        b = A(\"北京市\",\"010\")\n",
    "\n",
    "        print(a.a)  #实例变量\n",
    "        print(b.a)\n",
    "\n",
    "        print(a.country) #实例读取类变量（但一般类变量用类获取，实例变量用实例获取，此处应该是print(A.country)）\n",
    "        print(b.country)\n",
    "        ```\n",
    "        **注意**：  \n",
    "        * 如果修改`a.country=\"xxx\"`，并没有改变类变量country的值，而是在a的空间中新建了一个country的属性，值为xxx。后来再通过a.country访问的空间是a所在的实例对象的变量，而不是类对象中的变量。（总结：如果访问一个实例属性，但是在实例对象中没有，就会根据__class__所指向的类去类属性中寻找。）\n",
    "        * 但是，如果通过`a.__class__.country=\"xxx\"`就会在实例对象中修改类变量，但是这种方法是小路，正规方法是：通过类方法去修改类属性。\n",
    "\n",
    "\n",
    "* 成员函数\n",
    "    * 实例方法：\n",
    "        * 说明：类对象中修改实例变量的方法(self)，调用此方法时，指向相应实例对象空间。\n",
    "        * 调用格式：\n",
    "        ```\n",
    "        def instance_func(self, ...):\n",
    "            return ...\n",
    "        ```\n",
    "    * 类方法：\n",
    "        * 说明：类对象中修改类变量的方法，调用此方法时，指向类对象空间。       \n",
    "        * 调用格式：\n",
    "        ```\n",
    "        @classmethod\n",
    "        def class_func(cls, ...):\n",
    "            return ...\n",
    "        ```\n",
    "    * 静态方法：\n",
    "        * 说明：类对象中的普通函数（放在与类并列的位置功能相同），只是封装起来供自己类调用相关方法时更方便，与其他类的同名函数相隔离，避免冲突。使用`@staticmethod`装饰器只是为了防止解释器传入类对象/实例对象引用。\n",
    "        * 调用格式：\n",
    "        ```\n",
    "        @staticmethod\n",
    "        def static_func(...):\n",
    "            return ...\n",
    "        # 调用时使用\n",
    "        self.static_func()\n",
    "        ```\n",
    "    * 注意：<u>实例对象</u>可以调用**类方法，实例方法，静态方法**。但是<u>类对象</u>只能调用**类方法和静态方法**。\n",
    "        * 类对象（负责定义）\n",
    "            * 类变量\n",
    "            * 所有方法\n",
    "                * 实例方法self\n",
    "                * 类方法cls\n",
    "                * 静态方法\n",
    "        * 实例对象（使用时根据传参不同 去调用）\n",
    "            * 实例变量\n",
    "            * 类对象指针"
   ]
  },
  {
   "cell_type": "code",
   "execution_count": 53,
   "metadata": {},
   "outputs": [
    {
     "name": "stdout",
     "output_type": "stream",
     "text": [
      "吉林省\n",
      "河南省\n",
      "中国\n",
      "中国\n"
     ]
    }
   ],
   "source": [
    "class A:\n",
    "    country=\"中国\"\n",
    "\n",
    "    def __init__(self,a):\n",
    "        self.a=a\n",
    "\n",
    "a = A(\"吉林省\")\n",
    "b = A(\"河南省\")\n",
    "\n",
    "print(a.a)  #实例变量\n",
    "print(b.a)\n",
    "\n",
    "print(a.country) #实例读取类变量\n",
    "print(b.country)"
   ]
  },
  {
   "cell_type": "markdown",
   "metadata": {},
   "source": [
    "### Python中列表，元组的相同之处及区别都有哪些？集合与字典呢？"
   ]
  },
  {
   "cell_type": "markdown",
   "metadata": {},
   "source": [
    "* 列表与元组\n",
    "    * 相同\n",
    "        * 都是容器，也都是序列（有序的）\n",
    "        * 都可以存储任何数据类型\n",
    "        * 可以通过索引访问\n",
    "    * 区别\n",
    "        * 创建符号不同，列表[]，元组()\n",
    "        * 列表可变，元组不可变。可以使用元组作为字典的key\n",
    "        \n",
    "* 集合与字典\n",
    "    * 相同\n",
    "        * 都可以修改，可读可写\n",
    "        * 都不能有重复的key值，且key应该为不可改变的对象\n",
    "        * 存储元素都是无序的\n",
    "    * 区别\n",
    "        * set是一组只有key的集合，dict由键值对组成\n",
    "        * set不可以有重复值，而dict可以重复"
   ]
  },
  {
   "cell_type": "markdown",
   "metadata": {},
   "source": [
    "### Python中的模块和包是什么，如何自定义并使用？\n",
    "\n",
    "提示：可检索“python模块”和“python包”关键词。"
   ]
  },
  {
   "cell_type": "markdown",
   "metadata": {},
   "source": [
    "** 1.介绍：**\n",
    "* **Python模块**：一个python文件就是一个模块，用来封装反复调用的常量、变量、函数、类等。可以被其他python文件(模块)使用`import`关键词导入并使用。\n",
    "* **Python包**：包含多个python模块，并且有`__init__.py`声明文件的文件夹，称为python模块包，用来管理功能大量彼此相关的python模块，也可以使用`import`导入并使用。\n",
    "* 作用：通过有效整理代码，提高代码复用性，也方便其他模块进行访问\n",
    "\n",
    "** 2.定义： **\n",
    "* ** 模块定义：**  \n",
    "\n",
    "<font color=#FF0000>定义`utils.py`模块</font>\n",
    "\n",
    "```\n",
    "# coding:utf-8\n",
    "# 测试变量\n",
    "test_msg = \"hello\"\n",
    "\n",
    "# 测试函数\n",
    "def test_func():\n",
    "    print(\"test 函数操作\")\n",
    "\n",
    "# 测试类\n",
    "class Test:\n",
    "    pass\n",
    "```\n",
    "\n",
    "<font color=#FF0000>同目录下，定义`main.py`模块</font>\n",
    "\n",
    "```\n",
    "from . import utils\n",
    "\n",
    "# utils.py模块被调用时，会自动执行该模块所有代码。但是如果加\"__main__\"入口，就不会在引入模块时运行main中的代码。（也被称为测试代码）\n",
    "if __name__ == \"__main__\":\n",
    "\n",
    "    # 调用变量\n",
    "    print(utils.test_mag)\n",
    "\n",
    "    # 调用函数\n",
    "    utils.test_func()\n",
    "\n",
    "    # 调用类\n",
    "    t = utils.Test()\n",
    "\n",
    "```\n",
    "\n",
    "* ** 包定义：**  \n",
    "\n",
    "<font color=#FF0000>定义`packages`包</font>  \n",
    "\n",
    "文件目录：  \n",
    "```\n",
    "  ./test\n",
    "    /packages/  \n",
    "      __init__.py  \n",
    "      utils.py  \n",
    "    main.py\n",
    "    ...\n",
    "```\n",
    "\n",
    "<font color=#FF0000>定义packages包中所有指定模块`__init__.py`</font>  \n",
    "\n",
    "```\n",
    "__all__ = ['utils.py','others module'...]\n",
    "```\n",
    "\n",
    "** 3.导入方法：**\n",
    "* **import 包名/模块名**\n",
    "\n",
    "```\n",
    "import packages/modules\n",
    "import packages.modules\n",
    "import packages.modules.function\n",
    "import packages.modules.class as np\n",
    "\n",
    "# 以下用modules做演示\n",
    "modules.variable\n",
    "modules.function()\n",
    "modules.class\n",
    "```\n",
    "\n",
    "**路径检查方式**：当前文件夹，系统环境变量PYTHONPATH，系统路径sys.path中查询是否存在该名称的包/模块\n",
    "\n",
    "* **from 包名/模块名 import 具体对象**\n",
    "\n",
    "```\n",
    "# 从当前路径引入modules\n",
    "from . import modules\n",
    "\n",
    "# 从上层路径引入modules\n",
    "from .. import modules\n",
    "\n",
    "# 从包中导出模块\n",
    "from packages import modules\n",
    "\n",
    "# 从模块中导出变量，函数，类\n",
    "from packages.modules import vars, func, class\n",
    "from packages.modules import class as np\n",
    "```\n",
    "\n",
    "参考：http://www.imooc.com/article/247114"
   ]
  },
  {
   "cell_type": "markdown",
   "metadata": {},
   "source": [
    "## 代码题"
   ]
  },
  {
   "cell_type": "markdown",
   "metadata": {},
   "source": [
    "### 创建一个函数，接收一个字符串参数，判断其做为Python标识符是否合法。\n",
    "\n",
    "具体要求： \n",
    "- 如果合法则输出 True，否则输出 False。\n",
    "- 如果该字符串与Python内置的关键字，或Bifs冲突，则打印'conflict'\n",
    "- 注:Python标识符的规则，关键字和Bifs可搜索得到\n",
    "\n",
    "Bifs--内置函数：\n",
    "\n",
    "```\n",
    "查看： dir(_builtins_)\n",
    "IO：print(), open(), input()\n",
    "列表与帮助：dir()与help()\n",
    "类型与身份：type()，id()，memoryview（）,isinstance(), issubclass(),\n",
    "数学运算类：sum,pow,round,min,max,hash等\n",
    "类型转换：int,bin,hex,oct,str,float,list,bytes等\n",
    "序列： len(), range(), zip(), map(),reduce(),filter(), reversed() , sorted(), enumerate()\n",
    "\n",
    "['ArithmeticError', 'AssertionError', 'AttributeError', 'BaseException', 'BlockingIOError', 'BrokenPipeError', 'BufferError', 'BytesWarning', 'ChildProcessError', 'ConnectionAbortedError', 'ConnectionError', 'ConnectionRefusedError', 'ConnectionResetError', 'DeprecationWarning', 'EOFError', 'Ellipsis', 'EnvironmentError', 'Exception', 'False', 'FileExistsError', 'FileNotFoundError', 'FloatingPointError', 'FutureWarning', 'GeneratorExit', 'IOError', 'ImportError', 'ImportWarning', 'IndentationError', 'IndexError', 'InterruptedError', 'IsADirectoryError', 'KeyError', 'KeyboardInterrupt', 'LookupError', 'MemoryError', 'ModuleNotFoundError', 'NameError', 'None', 'NotADirectoryError', 'NotImplemented', 'NotImplementedError', 'OSError', 'OverflowError', 'PendingDeprecationWarning', 'PermissionError', 'ProcessLookupError', 'RecursionError', 'ReferenceError', 'ResourceWarning', 'RuntimeError', 'RuntimeWarning', 'StopAsyncIteration', 'StopIteration', 'SyntaxError', 'SyntaxWarning', 'SystemError', 'SystemExit', 'TabError', 'TimeoutError', 'True', 'TypeError', 'UnboundLocalError', 'UnicodeDecodeError', 'UnicodeEncodeError', 'UnicodeError', 'UnicodeTranslateError', 'UnicodeWarning', 'UserWarning', 'ValueError', 'Warning', 'ZeroDivisionError', '__IPYTHON__', '__build_class__', '__debug__', '__doc__', '__import__', '__loader__', '__name__', '__package__', '__spec__', 'abs', 'all', 'any', 'ascii', 'bin', 'bool', 'bytearray', 'bytes', 'callable', 'chr', 'classmethod', 'compile', 'complex', 'copyright', 'credits', 'delattr', 'dict', 'dir', 'display', 'divmod', 'enumerate', 'eval', 'exec', 'filter', 'float', 'format', 'frozenset', 'get_ipython', 'getattr', 'globals', 'hasattr', 'hash', 'help', 'hex', 'id', 'input', 'int', 'isinstance', 'issubclass', 'iter', 'len', 'license', 'list', 'locals', 'map', 'max', 'memoryview', 'min', 'next', 'object', 'oct', 'open', 'ord', 'pow', 'print', 'property', 'range', 'repr', 'reversed', 'round', 'set', 'setattr', 'slice', 'sorted', 'staticmethod', 'str', 'sum', 'super', 'tuple', 'type', 'vars', 'zip']\n",
    "\n",
    "```\n",
    "\n",
    "Python内置的关键字：\n",
    "\n",
    "`print(keyword.kwlist)`\n",
    "\n",
    "```\n",
    "['False', 'None', 'True', 'and', 'as', 'assert', 'break', 'class', 'continue', 'def', 'del', 'elif', 'else', 'except', 'finally', 'for', 'from', 'global', 'if', 'import', 'in', 'is', 'lambda', 'nonlocal', 'not', 'or', 'pass', 'raise', 'return', 'try', 'while', 'with', 'yield']\n",
    "```"
   ]
  },
  {
   "cell_type": "code",
   "execution_count": 220,
   "metadata": {},
   "outputs": [
    {
     "name": "stdout",
     "output_type": "stream",
     "text": [
      "conflict\n",
      "False\n",
      "False\n",
      "True\n"
     ]
    }
   ],
   "source": [
    "import keyword,string\n",
    "import re\n",
    "\n",
    "def Identifier(s):\n",
    "    kw = keyword.kwlist #内置关键字\n",
    "    bifs = dir(__builtins__) # Bifs\n",
    "    #请用if-else完成检测，打印conflict或者False\n",
    "    #your code here\n",
    "    if s in kw or s in bifs:\n",
    "        print('conflict')\n",
    "    elif re.match('.*\\W+.*', s):\n",
    "        print('False')        \n",
    "    elif re.match('[a-zA-Z_]\\w*', s):\n",
    "        print('True')\n",
    "    else:\n",
    "        print('False')\n",
    "    return None\n",
    "\n",
    "Identifier('while')\n",
    "Identifier(\"a#bc\")\n",
    "Identifier(\"1a\")\n",
    "Identifier(\"number_var\")"
   ]
  },
  {
   "cell_type": "markdown",
   "metadata": {},
   "source": [
    "### 编写一个函数，能生成包含20个随机整数的列表，然后将前10个元素升序排列，后10个元素降序排列，并分别打印输出\n",
    "提示：本题考察对列表的切片和排序操作，注意切片下标。"
   ]
  },
  {
   "cell_type": "code",
   "execution_count": 234,
   "metadata": {},
   "outputs": [
    {
     "name": "stdout",
     "output_type": "stream",
     "text": [
      "generate_list: [14, 79, 37, 95, 83, 20, 54, 59, 85, 82, 5, 88, 76, 41, 5, 97, 75, 94, 42, 72]\n",
      "sorted_list: [14, 20, 37, 54, 59, 79, 82, 83, 85, 95, 97, 94, 88, 76, 75, 72, 42, 41, 5]\n"
     ]
    }
   ],
   "source": [
    "import random\n",
    "def sort2part():\n",
    "    # 用random生成20个随机数并完成本题要求\n",
    "    #your code here\n",
    "    generate_list = []\n",
    "    sorted_list = []\n",
    "    for i in range(20):\n",
    "        generate_list.append(int(random.random()*100))\n",
    "    print(\"generate_list:\", generate_list)\n",
    "    sorted_list = sorted(generate_list[0:10])\n",
    "    sorted_list += sorted(generate_list[11:], reverse=True)\n",
    "    print(\"sorted_list:\", sorted_list)\n",
    "    return None\n",
    "\n",
    "sort2part()"
   ]
  },
  {
   "cell_type": "markdown",
   "metadata": {},
   "source": [
    "### 有一分数序列为：2/1，3/2，5/3，8/5，13/8，21/13,请使用Python代码出生成并打印该数列的前30项并求和返回\n",
    "提示：观察分数的分子和分母，每1项都和前2项有关系，也可检索“斐波那契数列”"
   ]
  },
  {
   "cell_type": "code",
   "execution_count": 262,
   "metadata": {},
   "outputs": [
    {
     "name": "stdout",
     "output_type": "stream",
     "text": [
      "该数列的前30项和:  18.458634675922156\n"
     ]
    }
   ],
   "source": [
    "def fab(max): \n",
    "    # 完成分子分母的生成并计算求和返回结果\n",
    "    # your code here\n",
    "    fib = []\n",
    "    frac = []\n",
    "    temp = 0\n",
    "    a,b = 1,2\n",
    "    for i in range(max+1):\n",
    "        fib.append(a)\n",
    "        a,b = b,a+b\n",
    "#     print(fib)\n",
    "    \n",
    "    for j in range(max):\n",
    "        temp = fib[j]/fib[j+1]\n",
    "        frac.append(temp)\n",
    "    return sum(frac)\n",
    "\n",
    "print(\"该数列的前30项和: \",fab(30))"
   ]
  },
  {
   "cell_type": "markdown",
   "metadata": {},
   "source": [
    "### BMI编写\n",
    "身体质量指数（BMI）是根据人的体重和身高计算得出的一个数字，BMI是可靠的身体肥胖指标，其计算公式：BMI=Weight/High2，其中体重单位为公斤，身高单位为米。\n",
    "\n",
    "- 计算公式为：$BMI=体重（kg）÷身高^2（m）$\n",
    "\n",
    "- 提示用户输入体重（kg）和身高的数字(m)(注意单位），然后计算BMI。\n",
    "\n",
    "- 根据BMI指数范围，定义当前健康状态。BMI指数在18至25之间定义为健康的标准体重,小于该范围定义为偏瘦，超过该范围定义为偏重。\n",
    "\n",
    "- 将BMI指数和其所代表状态输出 "
   ]
  },
  {
   "cell_type": "code",
   "execution_count": 274,
   "metadata": {},
   "outputs": [
    {
     "name": "stdout",
     "output_type": "stream",
     "text": [
      "请输入您的体重(kg)：95\n",
      "请输入您的身高(m)：1.8\n",
      "您的BMI值为：29.320987654320987\n",
      "健康状态为：偏重\n"
     ]
    }
   ],
   "source": [
    "weight = float(input('请输入您的体重(kg)：'))\n",
    "high = float(input('请输入您的身高(m)：'))\n",
    "# 完成BMI计算并返回结果提示信息\n",
    "# your code here\n",
    "bmi_value = weight/(high**2)\n",
    "print(\"您的BMI值为：%s\"%bmi_value)\n",
    "if bmi_value >=25:\n",
    "    print(\"健康状态为：偏重\")\n",
    "elif bmi_value < 18:\n",
    "    print(\"健康状态为：偏瘦\")\n",
    "else:\n",
    "    print(\"健康状态为：标准体重\")"
   ]
  },
  {
   "cell_type": "markdown",
   "metadata": {},
   "source": [
    "### 字符统计\n",
    "- 创建一个函数，接收字符串输入，分别统计出其中英文字母、空格、数字和其它字符的个数后打印。\n",
    "- 提示：\n",
    "  - ord('a') 能将字符 'a' 转化为 ASCII 码表上对应的数值，\n",
    "  - 例如，空格为32  \n",
    "  - 数字 0-9 对应的码值为 48-57\n",
    "  - 大写字母 A-Z 对应 65-90\n",
    "  - 小写字母 a-z 对应 97-122\n",
    "  - 比122高的都是其它。"
   ]
  },
  {
   "cell_type": "code",
   "execution_count": 334,
   "metadata": {},
   "outputs": [
    {
     "name": "stdout",
     "output_type": "stream",
     "text": [
      "空格个数：2个\n",
      "数字个数：2个\n",
      "英文字母个数：12个\n",
      "其他字符个数：5个\n"
     ]
    }
   ],
   "source": [
    "def num_count(x):\n",
    "    return x>=48 and x<=57\n",
    "\n",
    "def char_count(x):\n",
    "    return (x>=65 and x<=90) or (x>=97 and x<=122)\n",
    "\n",
    "def other_count(x):\n",
    "    return x>122\n",
    "\n",
    "def str_count(s):  \n",
    "    # 完成对应要求的统计，并返回对应的数量\n",
    "    # your code here\n",
    "    str_list = list(s)\n",
    "    # 用列表推导式一次性取出ASCII码：\n",
    "    ascii_num = [ord(item) for item in str_list]\n",
    "    count_s = ascii_num.count(32)\n",
    "    count_z = len(list(filter(num_count, ascii_num)))\n",
    "    count_a = len(list(filter(char_count, ascii_num)))\n",
    "    count_o = len(list(filter(other_count, ascii_num)))\n",
    "\n",
    "    print(\"空格个数：%d个\"%count_s)  \n",
    "    print(\"数字个数：%d个\"%count_z)\n",
    "    print(\"英文字母个数：%d个\"%count_a)\n",
    "    print(\"其他字符个数：%d个\"%count_o)  # 题目要求这里比122高的都是其它\n",
    "    \n",
    "str_count(\"我是xiao ming ming,今年27岁\")"
   ]
  },
  {
   "cell_type": "markdown",
   "metadata": {},
   "source": [
    "### 创建一个函数，可以将去除给定列表中中相邻且重复的元素(只保留一个)后，打印输出结果。\n",
    "- 说明\n",
    "  - 输入参数为 l1=[1,2,3,4,4,4,4,4,4,5,6,6,8,8,12,12,12,12,13]\n",
    "  - 操作后，保证原有整体排序不变，仅处理相邻且重复的元素\n",
    "  - 请勿使用set，否则该题不计分。"
   ]
  },
  {
   "cell_type": "code",
   "execution_count": 341,
   "metadata": {},
   "outputs": [
    {
     "name": "stdout",
     "output_type": "stream",
     "text": [
      "[1, 2, 3, 4, 5, 6, 8, 12, 13]\n"
     ]
    }
   ],
   "source": [
    "def remove_same(ll):\n",
    "    # 完成题目要求的任务，并返回结果\n",
    "    # your code here\n",
    "    temp = []\n",
    "    for i in range(len(ll)):\n",
    "        if ll[i] in temp:\n",
    "            continue\n",
    "        else:\n",
    "            temp.append(ll[i])\n",
    "    ll = temp.copy()\n",
    "    return ll\n",
    "\n",
    "lst=[1,2,3,4,4,4,4,4,4,5,6,6,8,8,12,12,12,12,13]\n",
    "\n",
    "print(remove_same(lst))"
   ]
  },
  {
   "cell_type": "markdown",
   "metadata": {},
   "source": [
    "### 创建一个函数，接收一个由整数组成的列表（需对输入列表做检查，长度最少为2,数据类型为整型），并检验后下列条件后输出：\n",
    "- 如列表是升序排列的,则输出\"ASC\";   \n",
    "- 如列表是降序排列的,则输出\"DESC\";   \n",
    "- 如列表无序，则输出\"WRONG\"。   "
   ]
  },
  {
   "cell_type": "code",
   "execution_count": 441,
   "metadata": {},
   "outputs": [
    {
     "name": "stdout",
     "output_type": "stream",
     "text": [
      "Don't meet the requirement.\n",
      "Don't meet the requirement.\n",
      "ASC\n",
      "DESC\n",
      "WRONG\n"
     ]
    }
   ],
   "source": [
    "def check_data(l):\n",
    "    # 请完成题目要求的任务，并输出对应信息\n",
    "    # your code here\n",
    "    if len(l)<2 or False in[isinstance(item, int) for item in l]:\n",
    "        print(\"Don't meet the requirement.\")\n",
    "    else:\n",
    "        if l==sorted(l):\n",
    "            print(\"ASC\")\n",
    "        elif l==sorted(l, reverse = True):\n",
    "            print(\"DESC\")\n",
    "        else:\n",
    "            print(\"WRONG\")\n",
    "    \n",
    "check_data([1])\n",
    "check_data([1,\"2\"])\n",
    "check_data([1,2,3,4])\n",
    "check_data([4,3,2,1])\n",
    "check_data([1,3,2,4])\n"
   ]
  },
  {
   "cell_type": "code",
   "execution_count": 437,
   "metadata": {},
   "outputs": [
    {
     "name": "stdout",
     "output_type": "stream",
     "text": [
      "[4, 3, 2, 1]\n",
      "False\n"
     ]
    }
   ],
   "source": [
    "s = [1,2,3,4]\n",
    "print(sorted(s, reverse=True))\n",
    "print(s == sorted(s, reverse=True))\n",
    "# print(type(sorted(s)))"
   ]
  },
  {
   "cell_type": "markdown",
   "metadata": {},
   "source": [
    "### 高阶函数综合运用\n",
    "\n",
    "`l1=[1,3,6,8,10,11,17]`\n",
    "\n",
    "请仅使用map,reduce,filter对上方数组依次进行如下三次操作：\n",
    "\n",
    "\n",
    "- 剔除掉所有的偶数后打印\n",
    "\n",
    "- 对剩下的数字每个数字进行平方后打印\n",
    "\n",
    "- 对数组求和后打印\n",
    "\n",
    "注意：每一题都是在上一问的基础上操作"
   ]
  },
  {
   "cell_type": "code",
   "execution_count": 453,
   "metadata": {},
   "outputs": [
    {
     "name": "stdout",
     "output_type": "stream",
     "text": [
      "[1, 3, 11, 17]\n"
     ]
    }
   ],
   "source": [
    "# 剔除掉所有的偶数后打印\n",
    "# your code here\n",
    "def select_odd(x):\n",
    "    return x%2!=0\n",
    "l1=[1,3,6,8,10,11,17]\n",
    "odd_list = list(filter(select_odd, l1))\n",
    "print(odd_list)"
   ]
  },
  {
   "cell_type": "code",
   "execution_count": 455,
   "metadata": {},
   "outputs": [
    {
     "name": "stdout",
     "output_type": "stream",
     "text": [
      "[1, 9, 121, 289]\n"
     ]
    }
   ],
   "source": [
    "# 对剩下的数字每个数字进行平方后打印\n",
    "# your code here\n",
    "def sqrt_item(x):\n",
    "    return x**2\n",
    "after_sqrt = list(map(sqrt_item, odd_list))\n",
    "print(after_sqrt)"
   ]
  },
  {
   "cell_type": "code",
   "execution_count": 459,
   "metadata": {},
   "outputs": [
    {
     "name": "stdout",
     "output_type": "stream",
     "text": [
      "420\n"
     ]
    }
   ],
   "source": [
    "from functools import reduce\n",
    "# 对数组求和后打印\n",
    "# your code here\n",
    "def add_list(x,y):\n",
    "    return x + y\n",
    "\n",
    "sum_1 = reduce(add_list, after_sqrt)\n",
    "print(sum_1)"
   ]
  },
  {
   "cell_type": "markdown",
   "metadata": {},
   "source": [
    "### Python类设计\n",
    "设计一个公司类，完成以下要求，<font color=red>并实例化不同对象进行验证</font>\n",
    "\n",
    "类变量\n",
    " - 类下公司的总个数，类下公司实例的名称列表\n",
    "\n",
    "类方法\n",
    " - 返回公司类共有多少个公司实例\n",
    " - 返回公司类的公司实例有名称列表\n",
    "\n",
    "实例变量  \n",
    " - 公司名，简介，利润，销售额，总成本，雇员姓名列表，雇员详细信息列表(这里可能会考察到*号对参数解包)\n",
    "\n",
    "实例方法：\n",
    "- <u>招聘人才（每招一个人会有成本产生，影响该实例雇员列表、人数、总成本，默认成本cost=10000）</u>\n",
    "- 解雇人员（每解雇一个人会有成本产生，影响该实例雇员列表、人数 、总成本，默认成本cost=5000）\n",
    "- 公司广告推广(影响该实例总成本，自定义成本cost)\n",
    "- 交社保(按公司雇员总人数计算，影响该实例总成本，默认单人社保缴纳1000)\n",
    "- 交税(按公司雇员总人数计算，影响该实例总成本，默认单人税费缴纳500)\n",
    "- 销售（按销售件数\\*价格计算销售额，利润按销售额\\*利润率进行计算利润。默认利润率50%）\n",
    "- 获取公司雇员列表\n",
    "- 获取公司净利润\n",
    "\n",
    "提示：具体的函数方法与变量定义，请参考下述实例化代码确定。初始化雇员的地方，大家看到调用的时候会包含年龄等信息，这里可能会用到不定长参数输入，详细可以参考[python参数说明](https://blog.csdn.net/qinyilang/article/details/5484415)\n",
    "\n",
    "提示：写不出来的同学可以看一下上方的说明，实际上代码的结构跟上方说明结构基本一致\n",
    "\n",
    "http://www.manongjc.com/article/11926.html"
   ]
  },
  {
   "cell_type": "code",
   "execution_count": 466,
   "metadata": {},
   "outputs": [],
   "source": [
    "class Company():\n",
    "    # 完成题目对应的要求\n",
    "    # your code here\n",
    "    companyNum = 0\n",
    "    companyList = []\n",
    "    \n",
    "    def __init__(self, companyName, intro, profit=0, sales=0, cost=0, name_list=[], stuff_info=[]):\n",
    "#     公司名，简介，利润，销售额，总成本，雇员姓名列表，雇员详细信息列表\n",
    "#     1.想在后面通过实例调用输出的输入参数，都要通过self定义一个实例变量，与输入参数绑定（e.g.这个intro就不用写），先挑出来实例方法中需要的变量\n",
    "#     2.实例变量中定义list，在init中初始化为[]\n",
    "        # 公司名\n",
    "        self.companyName = companyName\n",
    "        # 简介\n",
    "        self.intro = intro\n",
    "        # 利润\n",
    "        self.profit = profit\n",
    "        # 销售额\n",
    "        self.sales = sales\n",
    "        # 成本\n",
    "        self.cost = cost\n",
    "        # 员工姓名\n",
    "        self.name_list = name_list\n",
    "        # 员工详细信息列表\n",
    "        self.stuff_info = stuff_info\n",
    "        \n",
    "        # 每实例化一个对象，公司数+1\n",
    "        Company.companyNum += 1\n",
    "        # 每实例化一个对象，将公司名称加入公司名List\n",
    "        Company.companyList.append(self.companyName)\n",
    "        \n",
    "    def recruit(self, stuffName, *stuffInfo, cost=10000):\n",
    "#     招聘人才（每招一个人会有成本产生，影响该实例雇员列表、人数、总成本，默认成本cost=10000）\n",
    "        self.name_list.append(stuffName)\n",
    "        self.stuff_info.append(stuffInfo)\n",
    "        self.cost += cost\n",
    "        \n",
    "    def dismiss(self, stuffName, cost=5000):\n",
    "#     解雇人员（每解雇一个人会有成本产生，影响该实例雇员列表、人数 、总成本，默认成本cost=5000）\n",
    "        self.name_list.remove(stuffName)\n",
    "        self.cost -= cost\n",
    "        \n",
    "    def adPromotion(self, cost):\n",
    "#     公司广告推广(影响该实例总成本，自定义成本cost)\n",
    "        self.cost += cost\n",
    "        \n",
    "    def payInsurance(self):\n",
    "#     交社保(按公司雇员总人数计算，影响该实例总成本，默认单人社保缴纳1000)\n",
    "        self.cost += 1000 * len(self.name_list)\n",
    "    \n",
    "    def payTax(self):\n",
    "#     交税(按公司雇员总人数计算，影响该实例总成本，默认单人税费缴纳500)\n",
    "        self.cost += 500 * len(self.name_list)\n",
    "        \n",
    "    def sale(self, pieceNum, piecePrice):\n",
    "#     销售（按销售件数*价格计算销售额，利润按销售额*利润率进行计算利润。默认利润率50%）\n",
    "        self.sales = pieceNum * piecePrice\n",
    "        self.profit += self.sales * 0.5\n",
    "        \n",
    "    def getEmployeeList(self):\n",
    "#     获取公司雇员列表\n",
    "        return self.name_list\n",
    "\n",
    "    def getProfit(self):\n",
    "#     获取公司净利润\n",
    "        return self.profit - self.cost\n",
    "    \n",
    "    @classmethod\n",
    "    def return_CompanyInstanceNum(cls):\n",
    "        return len(cls.companyNum)\n",
    "        \n",
    "    @classmethod\n",
    "    def return_CompanyInstanceName(cls):\n",
    "        return cls.companyList\n",
    "    "
   ]
  },
  {
   "cell_type": "code",
   "execution_count": 467,
   "metadata": {},
   "outputs": [
    {
     "name": "stdout",
     "output_type": "stream",
     "text": [
      "小象学院公司员工详细信息列表:['HanXiaoyang', 'Eric']\n",
      "小象学院公司员工详细信息列表:['HanXiaoyang']\n",
      "小象学院公司当前利润：-29000.0\n",
      "百度公司员工详细信息列表:['HanXiaoyang', 'liyanhong', 'likaifu']\n",
      "公司名列表： ['小象学院', '百度']\n",
      "公司总个数： 2\n"
     ]
    }
   ],
   "source": [
    "#功能验证\n",
    "c0 = Company('小象学院','大数据AI在线教育')\n",
    "c0.recruit('HanXiaoyang',18, cost=20000)\n",
    "c0.recruit('Eric',20, cost=10000)\n",
    "print('{}公司员工详细信息列表:{}'.format(c0.companyName,c0.getEmployeeList()))\n",
    "\n",
    "c0.dismiss('Eric')\n",
    "\n",
    "c0.adPromotion(5000)\n",
    "c0.payInsurance()\n",
    "c0.payTax()\n",
    "c0.sale(50,100)\n",
    "print('{}公司员工详细信息列表:{}'.format(c0.companyName,c0.getEmployeeList()))\n",
    "print('{}公司当前利润：{}'.format(c0.companyName,c0.getProfit()))\n",
    "\n",
    "c1 = Company('百度','搜索引擎')\n",
    "c1.recruit('liyanhong',30, cost=50000)\n",
    "c1.recruit('likaifu',50, cost=40000)\n",
    "print('{}公司员工详细信息列表:{}'.format(c1.companyName,c1.getEmployeeList()))\n",
    "\n",
    "print('公司名列表：',Company.companyList)\n",
    "print('公司总个数：',Company.companyNum)"
   ]
  },
  {
   "cell_type": "markdown",
   "metadata": {},
   "source": [
    "### 结合PIL库，制作一个能生成5位随机数验证码图片的函数。\n",
    "生成5位随机数验证码并存储为verify.png名称的图片。\n",
    "\n",
    "提示：PIL库的使用方法可以参考[python中PIL库的使用](https://blog.csdn.net/weixin_41656968/article/details/80856019)和[PIL库简易教程与验证码生成](https://www.liaoxuefeng.com/wiki/001374738125095c955c1e6d8bb493182103fac9270762a000/00140767171357714f87a053a824ffd811d98a83b58ec13000)"
   ]
  },
  {
   "cell_type": "code",
   "execution_count": 489,
   "metadata": {},
   "outputs": [],
   "source": [
    "%matplotlib inline\n",
    "from PIL import Image\n",
    "from PIL import ImageDraw\n",
    "from PIL import ImageFont\n",
    "import random\n",
    "# 获取一个font字体对象参数是ttf的字体文件的目录，以及字体的大小\n",
    "font = ImageFont.truetype(\"../data/Arial.ttf\", size=22)\n",
    "# 完成题目指定的任务\n",
    "# your code here\n",
    "# 随机数字\n",
    "def rndNum():\n",
    "    return chr(random.randint(48,57))\n",
    "\n",
    "# 随机背景颜色(浅色为主)\n",
    "def rndBackgroundColor():\n",
    "    return (random.randint(64, 255), random.randint(64, 255), random.randint(64, 255))\n",
    "\n",
    "# 随机字体颜色(深色为主)\n",
    "def rndFontColor():\n",
    "    return (random.randint(32, 127), random.randint(32, 127), random.randint(32, 127))\n",
    "\n",
    "# Draw创建空白画布对象 240*60\n",
    "width = 60 * 4\n",
    "height = 60\n",
    "image = Image.new('RGB', (width, height), (255, 255, 255))\n",
    "draw = ImageDraw.Draw(image)\n",
    "\n",
    "# 在画布上填充背景(draw.point)\n",
    "for x in range(width):\n",
    "    for y in range(height):\n",
    "        draw.point((x, y), fill=rndBackgroundColor())\n",
    "        \n",
    "# 在画布上填写数字(draw.text)\n",
    "for i in range(5):\n",
    "    draw.text((10+50*i, 10), rndNum(), font=font, fill=rndFontColor())\n",
    "\n",
    "# 保存到硬盘，名为verify.png格式为png的图片\n",
    "image.save(open('./verify.png', 'wb'), 'png')"
   ]
  },
  {
   "cell_type": "code",
   "execution_count": 490,
   "metadata": {},
   "outputs": [
    {
     "data": {
      "text/html": [
       "# 图片展示\n",
       "<img src=\"./verify.png\" width=\"40%\"> "
      ],
      "text/plain": [
       "<IPython.core.display.HTML object>"
      ]
     },
     "metadata": {},
     "output_type": "display_data"
    }
   ],
   "source": [
    "%%html\n",
    "# 图片展示\n",
    "<img src=\"./verify.png\" width=\"40%\"> "
   ]
  },
  {
   "cell_type": "markdown",
   "metadata": {},
   "source": [
    "### 关于函数定义中的\\*args和\\**kwargs\n",
    "* \\*args：接收多个常量输入，组成tuple返回\n",
    "* \\**kwargs：接收多个键值对输入，组成dict返回"
   ]
  },
  {
   "cell_type": "code",
   "execution_count": 460,
   "metadata": {},
   "outputs": [
    {
     "name": "stdout",
     "output_type": "stream",
     "text": [
      "args =  (1, 2, 3, 4)\n",
      "kwargs =  {}\n",
      "---------------------------------------\n",
      "args =  ()\n",
      "kwargs =  {'a': 1, 'b': 2, 'c': 3}\n",
      "---------------------------------------\n",
      "args =  (1, 2, 3, 4)\n",
      "kwargs =  {'a': 1, 'b': 2, 'c': 3}\n",
      "---------------------------------------\n",
      "args =  ('a', 1, None)\n",
      "kwargs =  {'a': 1, 'b': '2', 'c': 3}\n",
      "---------------------------------------\n"
     ]
    }
   ],
   "source": [
    "def foo(*args, **kwargs):\n",
    "    print('args = ', args)\n",
    "    print('kwargs = ', kwargs)\n",
    "    print('---------------------------------------')\n",
    "    \n",
    "if __name__ == '__main__':\n",
    "    foo(1,2,3,4)\n",
    "    foo(a=1,b=2,c=3)\n",
    "    foo(1,2,3,4, a=1,b=2,c=3)\n",
    "    foo('a', 1, None, a=1, b='2', c=3)"
   ]
  },
  {
   "cell_type": "code",
   "execution_count": null,
   "metadata": {},
   "outputs": [],
   "source": []
  }
 ],
 "metadata": {
  "kernelspec": {
   "display_name": "Python 3",
   "language": "python",
   "name": "python3"
  },
  "language_info": {
   "codemirror_mode": {
    "name": "ipython",
    "version": 3
   },
   "file_extension": ".py",
   "mimetype": "text/x-python",
   "name": "python",
   "nbconvert_exporter": "python",
   "pygments_lexer": "ipython3",
   "version": "3.6.4"
  },
  "toc": {
   "base_numbering": 1,
   "nav_menu": {},
   "number_sections": true,
   "sideBar": true,
   "skip_h1_title": false,
   "title_cell": "Table of Contents",
   "title_sidebar": "Contents",
   "toc_cell": false,
   "toc_position": {},
   "toc_section_display": true,
   "toc_window_display": true
  }
 },
 "nbformat": 4,
 "nbformat_minor": 2
}
