{
 "cells": [
  {
   "cell_type": "markdown",
   "metadata": {},
   "source": [
    "## Jupyter的使用\n",
    "### 核心提炼\n",
    "* 问题：\n",
    "    * 怎么在jupyter notebook中安装py2和py3\n",
    "    * \n",
    "* 补遗：\n",
    "    * 保存为各种格式的文件：`file -> download as -> .ipynb/.py/.tex/.md/.html/.pdf`\n",
    "    * 可以通过以下命令切换内核：`change->kernel`实现py2与py3之间的切换\n",
    "    * 运行kernel：`ctrl + enter`(不是cmd+shift) 或者 `shift + enter`\n",
    "    * 增加kernel：`alt option + enter`"
   ]
  },
  {
   "cell_type": "markdown",
   "metadata": {},
   "source": [
    "### 文章中给的框架\n",
    "#### Notebook使用,and [More...](https://mybinder.org/v2/gh/ipython/ipython-in-depth/master?filepath=binder/Index.ipynb)\n",
    "- 目录\n",
    "- 文件新建及导入导出\n",
    "- 菜单\n",
    "- 快捷键 [esc+h]\n",
    "\n",
    "#### Notebook中[Cell](https://ipython.org/ipython-doc/3/notebook/nbformat.html)详解\n",
    "* Markdown CELL &* Latex in markdown cell\n",
    "* Magic"
   ]
  },
  {
   "cell_type": "markdown",
   "metadata": {},
   "source": [
    "### 给出的Markdown & LaTeX参考案例\n",
    "\n",
    "LaTeX实现的原理类似于HTML，Notebook中的Markdown格式解释器中内置Latex渲染器，可以将由\\$与\\$包裹的内容进行渲染并产生最终效果。\n",
    "\n",
    "\n",
    "#### 希腊字母   \n",
    "|希腊字母小写/大写|LaTeX形式|希腊字母小写/大写|LaTeX形式|\n",
    "|:---|:---|:---|:---|\n",
    "|α A|\\alpha A\t|μ N|\t\\mu N|\n",
    "|β B|\\beta B|ξ Ξ|\\xi \\Xi|\n",
    "|γ Γ\t|\\gamma \\Gamma\t|o O|o O|\n",
    "|δ Δ\t|\\delta \\ Delta\t|π Π|\t\\pi \\Pi|\n",
    "|ϵ ε E\t|\\epsilon \\varepsilon E\t|ρ ϱ P\t|\\rho \\varrho P|\n",
    "|ζ Z\t|\\zeta Z\t|σ Σ|\t\\sigma \\Sigma|\n",
    "|η H\t|\\eta H\t|τ T\t|\\tau T|\n",
    "|θ ϑ Θ\t|\\theta \\vartheta \\Theta|\tυ Υ|\t\\upsilon \\Upsilon|\n",
    "|ι I\t|\\iota I\t|ϕ φ Φ|\t\\phi \\varphi \\Phi|\n",
    "|κ K\t|\\kappa K\t|χ X\t|\\chi X|\n",
    "|λ Λ\t|\\lambda \\Lambda\t|ψ Ψ|\t\\psi \\Psi|\n",
    "\n",
    "#### 不同字体\n",
    "mathbb:$\\mathbb{ABCDEFGHIJKLMNOPQRSTUVWXYZ,abcdefghijklmnopqrstuvwxyz}$   \n",
    "mathscr:$\\mathscr{ABCDEFGHIJKLMNOPQRSTUVWXYZ,abcdefghijklmnopqrstuvwxyz}$   \n",
    "mathcal:$\\mathcal{ABCDEFGHIJKLMNOPQRSTUVWXYZ,abcdefghijklmnopqrstuvwxyz}$   \n",
    "mathbf:$\\mathbf{ABCDEFGHIJKLMNOPQRSTUVWXYZ,abcdefghijklmnopqrstuvwxyz}$\n",
    "\n",
    "#### 取消默认斜体\n",
    "默认倾斜：$ x_{z}$   \n",
    "取消默认倾斜$\\rm x_{z}$\n",
    "\n",
    "#### 特殊符号\n",
    "$\\bigcap_{i=1}^{n} \\bigcup_{i=1}^n  \\binom{5}{3}$   \n",
    "$\\forall$- 全称量词,表示任意的，$\\exists$- 存在量词,表示存在/至少一个   \n",
    "$\\partial$ 偏导符号， $\\propto$ 正比符号，$\\mathop{\\lim}_{n \\to \\infty }f(x)$无穷符号及极限\n",
    "\n",
    "#### 简单公式\n",
    ">$y=x^2$\n",
    "\n",
    ">$e^{i\\pi} + 1 = 0$\n",
    "\n",
    ">$e^x=\\sum_{i=0}^\\infty \\frac{1}{i!}x^i$\n",
    "\n",
    ">独占一行：$$\\frac{n!}{k!(n-k)!} = {n \\choose k}$$\n",
    "\n",
    "#### 矩阵\n",
    "$A_{m,n} =\n",
    " \\begin{pmatrix}\n",
    "  a_{1,1} & a_{1,2} & \\cdots & a_{1,n} \\\\\n",
    "  a_{2,1} & a_{2,2} & \\cdots & a_{2,n} \\\\\n",
    "  \\vdots  & \\vdots  & \\ddots & \\vdots  \\\\\n",
    "  a_{m,1} & a_{m,2} & \\cdots & a_{m,n}\n",
    " \\end{pmatrix}$"
   ]
  },
  {
   "cell_type": "markdown",
   "metadata": {},
   "source": [
    "### 关于magic开关\n",
    "- 作用：实现一些快捷操作，提升效率。\n",
    "- Magic 开关分为两大类：\n",
    "    - `%line magic`  \n",
    "    - `%%cell magic`\n",
    "    \n",
    "#### Magic开关总览\n"
   ]
  },
  {
   "cell_type": "code",
   "execution_count": 139,
   "metadata": {},
   "outputs": [],
   "source": [
    "# 所有开关命令&内容说明查询\n",
    "%quickref"
   ]
  },
  {
   "cell_type": "code",
   "execution_count": 125,
   "metadata": {},
   "outputs": [
    {
     "data": {
      "application/json": {
       "cell": {
        "!": "OSMagics",
        "HTML": "Other",
        "SVG": "Other",
        "bash": "Other",
        "capture": "ExecutionMagics",
        "debug": "ExecutionMagics",
        "file": "Other",
        "html": "DisplayMagics",
        "javascript": "DisplayMagics",
        "js": "DisplayMagics",
        "latex": "DisplayMagics",
        "markdown": "DisplayMagics",
        "perl": "Other",
        "prun": "ExecutionMagics",
        "pypy": "Other",
        "python": "Other",
        "python2": "Other",
        "python3": "Other",
        "ruby": "Other",
        "script": "ScriptMagics",
        "sh": "Other",
        "svg": "DisplayMagics",
        "sx": "OSMagics",
        "system": "OSMagics",
        "time": "ExecutionMagics",
        "timeit": "ExecutionMagics",
        "writefile": "OSMagics"
       },
       "line": {
        "alias": "OSMagics",
        "alias_magic": "BasicMagics",
        "autocall": "AutoMagics",
        "automagic": "AutoMagics",
        "autosave": "KernelMagics",
        "bookmark": "OSMagics",
        "cat": "Other",
        "cd": "OSMagics",
        "clear": "KernelMagics",
        "colors": "BasicMagics",
        "config": "ConfigMagics",
        "connect_info": "KernelMagics",
        "cp": "Other",
        "debug": "ExecutionMagics",
        "dhist": "OSMagics",
        "dirs": "OSMagics",
        "doctest_mode": "BasicMagics",
        "ed": "Other",
        "edit": "KernelMagics",
        "env": "OSMagics",
        "gui": "BasicMagics",
        "hist": "Other",
        "history": "HistoryMagics",
        "killbgscripts": "ScriptMagics",
        "ldir": "Other",
        "less": "KernelMagics",
        "lf": "Other",
        "lk": "Other",
        "ll": "Other",
        "load": "CodeMagics",
        "load_ext": "ExtensionMagics",
        "loadpy": "CodeMagics",
        "logoff": "LoggingMagics",
        "logon": "LoggingMagics",
        "logstart": "LoggingMagics",
        "logstate": "LoggingMagics",
        "logstop": "LoggingMagics",
        "ls": "Other",
        "lsmagic": "BasicMagics",
        "lx": "Other",
        "macro": "ExecutionMagics",
        "magic": "BasicMagics",
        "man": "KernelMagics",
        "matplotlib": "PylabMagics",
        "mkdir": "Other",
        "more": "KernelMagics",
        "mv": "Other",
        "notebook": "BasicMagics",
        "page": "BasicMagics",
        "pastebin": "CodeMagics",
        "pdb": "ExecutionMagics",
        "pdef": "NamespaceMagics",
        "pdoc": "NamespaceMagics",
        "pfile": "NamespaceMagics",
        "pinfo": "NamespaceMagics",
        "pinfo2": "NamespaceMagics",
        "pip": "BasicMagics",
        "popd": "OSMagics",
        "pprint": "BasicMagics",
        "precision": "BasicMagics",
        "profile": "BasicMagics",
        "prun": "ExecutionMagics",
        "psearch": "NamespaceMagics",
        "psource": "NamespaceMagics",
        "pushd": "OSMagics",
        "pwd": "OSMagics",
        "pycat": "OSMagics",
        "pylab": "PylabMagics",
        "qtconsole": "KernelMagics",
        "quickref": "BasicMagics",
        "recall": "HistoryMagics",
        "rehashx": "OSMagics",
        "reload_ext": "ExtensionMagics",
        "rep": "Other",
        "rerun": "HistoryMagics",
        "reset": "NamespaceMagics",
        "reset_selective": "NamespaceMagics",
        "rm": "Other",
        "rmdir": "Other",
        "run": "ExecutionMagics",
        "save": "CodeMagics",
        "sc": "OSMagics",
        "set_env": "OSMagics",
        "store": "StoreMagics",
        "sx": "OSMagics",
        "system": "OSMagics",
        "tb": "ExecutionMagics",
        "time": "ExecutionMagics",
        "timeit": "ExecutionMagics",
        "unalias": "OSMagics",
        "unload_ext": "ExtensionMagics",
        "who": "NamespaceMagics",
        "who_ls": "NamespaceMagics",
        "whos": "NamespaceMagics",
        "xdel": "NamespaceMagics",
        "xmode": "BasicMagics"
       }
      },
      "text/plain": [
       "Available line magics:\n",
       "%alias  %alias_magic  %autocall  %automagic  %autosave  %bookmark  %cat  %cd  %clear  %colors  %config  %connect_info  %cp  %debug  %dhist  %dirs  %doctest_mode  %ed  %edit  %env  %gui  %hist  %history  %killbgscripts  %ldir  %less  %lf  %lk  %ll  %load  %load_ext  %loadpy  %logoff  %logon  %logstart  %logstate  %logstop  %ls  %lsmagic  %lx  %macro  %magic  %man  %matplotlib  %mkdir  %more  %mv  %notebook  %page  %pastebin  %pdb  %pdef  %pdoc  %pfile  %pinfo  %pinfo2  %popd  %pprint  %precision  %profile  %prun  %psearch  %psource  %pushd  %pwd  %pycat  %pylab  %qtconsole  %quickref  %recall  %rehashx  %reload_ext  %rep  %rerun  %reset  %reset_selective  %rm  %rmdir  %run  %save  %sc  %set_env  %store  %sx  %system  %tb  %time  %timeit  %unalias  %unload_ext  %who  %who_ls  %whos  %xdel  %xmode\n",
       "\n",
       "Available cell magics:\n",
       "%%!  %%HTML  %%SVG  %%bash  %%capture  %%debug  %%file  %%html  %%javascript  %%js  %%latex  %%markdown  %%perl  %%prun  %%pypy  %%python  %%python2  %%python3  %%ruby  %%script  %%sh  %%svg  %%sx  %%system  %%time  %%timeit  %%writefile\n",
       "\n",
       "Automagic is ON, % prefix IS NOT needed for line magics."
      ]
     },
     "execution_count": 125,
     "metadata": {},
     "output_type": "execute_result"
    }
   ],
   "source": [
    "# 当前可用的line magic（需要开启开关）\n",
    "%lsmagic"
   ]
  },
  {
   "cell_type": "markdown",
   "metadata": {},
   "source": [
    "#### line magic\n",
    "将每个变量结果都输出的开关"
   ]
  },
  {
   "cell_type": "code",
   "execution_count": 144,
   "metadata": {},
   "outputs": [
    {
     "name": "stdout",
     "output_type": "stream",
     "text": [
      "Pretty printing has been turned ON\n"
     ]
    }
   ],
   "source": [
    "%config ZMQInteractiveShell.ast_node_interactivity='all'\n",
    "%pprint # 美化打印"
   ]
  },
  {
   "cell_type": "code",
   "execution_count": 126,
   "metadata": {},
   "outputs": [
    {
     "data": {
      "text/plain": [
       "2"
      ]
     },
     "execution_count": 126,
     "metadata": {},
     "output_type": "execute_result"
    },
    {
     "data": {
      "text/plain": [
       "4"
      ]
     },
     "execution_count": 126,
     "metadata": {},
     "output_type": "execute_result"
    }
   ],
   "source": [
    "%config ZMQInteractiveShell.ast_node_interactivity='all'\n",
    "a=2\n",
    "n=4\n",
    "a\n",
    "n"
   ]
  },
  {
   "cell_type": "markdown",
   "metadata": {},
   "source": [
    "#### cell magic\n",
    "整个单元格的内容都会用magic来处理\n",
    "\n",
    "案例1：以HTML模式输出"
   ]
  },
  {
   "cell_type": "code",
   "execution_count": 127,
   "metadata": {},
   "outputs": [
    {
     "data": {
      "text/html": [
       "print('this is python3')\n",
       "<hr>"
      ],
      "text/plain": [
       "<IPython.core.display.HTML object>"
      ]
     },
     "metadata": {},
     "output_type": "display_data"
    }
   ],
   "source": [
    "%%html\n",
    "print('this is python3')\n",
    "<hr>"
   ]
  },
  {
   "cell_type": "markdown",
   "metadata": {},
   "source": [
    "案例2：快速编辑文本命令（用途：想把某个cell文件快速变成`.py`文件）"
   ]
  },
  {
   "cell_type": "code",
   "execution_count": 156,
   "metadata": {
    "scrolled": true
   },
   "outputs": [
    {
     "name": "stdout",
     "output_type": "stream",
     "text": [
      "Overwriting test.py\n"
     ]
    }
   ],
   "source": [
    "%%writefile test.py \n",
    "for item in range(100):\n",
    "    print(item)"
   ]
  },
  {
   "cell_type": "markdown",
   "metadata": {},
   "source": [
    "案例3：代码运行的计时"
   ]
  },
  {
   "cell_type": "code",
   "execution_count": 132,
   "metadata": {},
   "outputs": [
    {
     "name": "stdout",
     "output_type": "stream",
     "text": [
      "434 ns ± 7.1 ns per loop (mean ± std. dev. of 7 runs, 1000000 loops each)\n"
     ]
    }
   ],
   "source": [
    "%%timeit 100\n",
    "for item in range(10):\n",
    "    a=item\n",
    "    del a"
   ]
  },
  {
   "cell_type": "markdown",
   "metadata": {},
   "source": [
    "案例4：图形展示"
   ]
  },
  {
   "cell_type": "code",
   "execution_count": 133,
   "metadata": {},
   "outputs": [
    {
     "data": {
      "image/svg+xml": [
       "<svg height=\"200\" viewBox=\"0 0 450 400\" width=\"500\" xmlns=\"http://www.w3.org/2000/svg\">\n",
       "  <rect height=\"250\" rx=\"20\" style=\"fill:red; stroke:black; fill-opacity:0.7\" width=\"250\" x=\"80\" y=\"60\"/>\n",
       "  <rect height=\"250\" rx=\"40\" style=\"fill:blue; stroke:black; fill-opacity:0.5;\" width=\"250\" x=\"280\" y=\"110\"/>\n",
       "</svg>"
      ],
      "text/plain": [
       "<IPython.core.display.SVG object>"
      ]
     },
     "metadata": {},
     "output_type": "display_data"
    }
   ],
   "source": [
    "%%SVG\n",
    "<svg xmlns=\"http://www.w3.org/2000/svg\" viewBox=\"0 0 450 400\" width=\"500\" height=\"200\">\n",
    "  <rect x=\"80\" y=\"60\" width=\"250\" height=\"250\" rx=\"20\" style=\"fill:red; stroke:black; fill-opacity:0.7\" />\n",
    "  <rect x=\"280\" y=\"110\" width=\"250\" height=\"250\" rx=\"40\" style=\"fill:blue; stroke:black; fill-opacity:0.5;\" />\n",
    "</svg>"
   ]
  },
  {
   "cell_type": "markdown",
   "metadata": {},
   "source": [
    "#### 补充说明"
   ]
  },
  {
   "cell_type": "markdown",
   "metadata": {},
   "source": [
    "### 使用jupyter进行命令行操作\n",
    "使用`!`符号在terminal命令前"
   ]
  },
  {
   "cell_type": "code",
   "execution_count": 163,
   "metadata": {},
   "outputs": [
    {
     "name": "stdout",
     "output_type": "stream",
     "text": [
      "Requirement already satisfied: jupyter_contrib_nbextensions in /Users/ye/.local/lib/python3.6/site-packages (0.5.1)\n",
      "Requirement already satisfied: jupyter-contrib-core>=0.3.3 in /Users/ye/.local/lib/python3.6/site-packages (from jupyter_contrib_nbextensions) (0.3.3)\n",
      "Requirement already satisfied: tornado in /Users/ye/anaconda3/lib/python3.6/site-packages (from jupyter_contrib_nbextensions) (4.5.3)\n",
      "Requirement already satisfied: lxml in /Users/ye/anaconda3/lib/python3.6/site-packages (from jupyter_contrib_nbextensions) (4.1.1)\n",
      "Requirement already satisfied: jupyter-highlight-selected-word>=0.1.1 in /Users/ye/.local/lib/python3.6/site-packages (from jupyter_contrib_nbextensions) (0.2.0)\n",
      "Requirement already satisfied: notebook>=4.0 in /Users/ye/anaconda3/lib/python3.6/site-packages (from jupyter_contrib_nbextensions) (5.4.0)\n",
      "Requirement already satisfied: nbconvert>=4.2 in /Users/ye/anaconda3/lib/python3.6/site-packages (from jupyter_contrib_nbextensions) (5.3.1)\n",
      "Requirement already satisfied: pyyaml in /Users/ye/anaconda3/lib/python3.6/site-packages (from jupyter_contrib_nbextensions) (3.12)\n",
      "Requirement already satisfied: jupyter-latex-envs>=1.3.8 in /Users/ye/.local/lib/python3.6/site-packages (from jupyter_contrib_nbextensions) (1.4.6)\n",
      "Requirement already satisfied: jupyter-core in /Users/ye/anaconda3/lib/python3.6/site-packages (from jupyter_contrib_nbextensions) (4.4.0)\n",
      "Requirement already satisfied: ipython-genutils in /Users/ye/anaconda3/lib/python3.6/site-packages (from jupyter_contrib_nbextensions) (0.2.0)\n",
      "Requirement already satisfied: jupyter-nbextensions-configurator>=0.4.0 in /Users/ye/.local/lib/python3.6/site-packages (from jupyter_contrib_nbextensions) (0.4.1)\n",
      "Requirement already satisfied: traitlets>=4.1 in /Users/ye/anaconda3/lib/python3.6/site-packages (from jupyter_contrib_nbextensions) (4.3.2)\n",
      "Requirement already satisfied: setuptools in /Users/ye/.local/lib/python3.6/site-packages (from jupyter-contrib-core>=0.3.3->jupyter_contrib_nbextensions) (39.1.0)\n",
      "Requirement already satisfied: jinja2 in /Users/ye/anaconda3/lib/python3.6/site-packages (from notebook>=4.0->jupyter_contrib_nbextensions) (2.10)\n",
      "Requirement already satisfied: jupyter_client>=5.2.0 in /Users/ye/anaconda3/lib/python3.6/site-packages (from notebook>=4.0->jupyter_contrib_nbextensions) (5.2.2)\n",
      "Requirement already satisfied: nbformat in /Users/ye/anaconda3/lib/python3.6/site-packages (from notebook>=4.0->jupyter_contrib_nbextensions) (4.4.0)\n",
      "Requirement already satisfied: ipykernel in /Users/ye/anaconda3/lib/python3.6/site-packages (from notebook>=4.0->jupyter_contrib_nbextensions) (4.8.0)\n",
      "Requirement already satisfied: Send2Trash in /Users/ye/anaconda3/lib/python3.6/site-packages (from notebook>=4.0->jupyter_contrib_nbextensions) (1.4.2)\n",
      "Requirement already satisfied: terminado>=0.8.1 in /Users/ye/anaconda3/lib/python3.6/site-packages (from notebook>=4.0->jupyter_contrib_nbextensions) (0.8.1)\n",
      "Requirement already satisfied: mistune>=0.7.4 in /Users/ye/anaconda3/lib/python3.6/site-packages (from nbconvert>=4.2->jupyter_contrib_nbextensions) (0.8.3)\n",
      "Requirement already satisfied: pygments in /Users/ye/anaconda3/lib/python3.6/site-packages (from nbconvert>=4.2->jupyter_contrib_nbextensions) (2.2.0)\n",
      "Requirement already satisfied: entrypoints>=0.2.2 in /Users/ye/anaconda3/lib/python3.6/site-packages (from nbconvert>=4.2->jupyter_contrib_nbextensions) (0.2.3)\n",
      "Requirement already satisfied: bleach in /Users/ye/anaconda3/lib/python3.6/site-packages (from nbconvert>=4.2->jupyter_contrib_nbextensions) (2.1.2)\n",
      "Requirement already satisfied: pandocfilters>=1.4.1 in /Users/ye/anaconda3/lib/python3.6/site-packages (from nbconvert>=4.2->jupyter_contrib_nbextensions) (1.4.2)\n",
      "Requirement already satisfied: testpath in /Users/ye/anaconda3/lib/python3.6/site-packages (from nbconvert>=4.2->jupyter_contrib_nbextensions) (0.3.1)\n",
      "Requirement already satisfied: ipython in /Users/ye/anaconda3/lib/python3.6/site-packages (from jupyter-latex-envs>=1.3.8->jupyter_contrib_nbextensions) (6.2.1)\n",
      "Requirement already satisfied: six in /Users/ye/.local/lib/python3.6/site-packages (from traitlets>=4.1->jupyter_contrib_nbextensions) (1.12.0)\n",
      "Requirement already satisfied: decorator in /Users/ye/anaconda3/lib/python3.6/site-packages (from traitlets>=4.1->jupyter_contrib_nbextensions) (4.2.1)\n",
      "Requirement already satisfied: MarkupSafe>=0.23 in /Users/ye/anaconda3/lib/python3.6/site-packages (from jinja2->notebook>=4.0->jupyter_contrib_nbextensions) (1.0)\n",
      "Requirement already satisfied: pyzmq>=13 in /Users/ye/anaconda3/lib/python3.6/site-packages (from jupyter_client>=5.2.0->notebook>=4.0->jupyter_contrib_nbextensions) (16.0.3)\n",
      "Requirement already satisfied: python-dateutil>=2.1 in /Users/ye/anaconda3/lib/python3.6/site-packages (from jupyter_client>=5.2.0->notebook>=4.0->jupyter_contrib_nbextensions) (2.6.1)\n",
      "Requirement already satisfied: jsonschema!=2.5.0,>=2.4 in /Users/ye/anaconda3/lib/python3.6/site-packages (from nbformat->notebook>=4.0->jupyter_contrib_nbextensions) (2.6.0)\n",
      "Requirement already satisfied: html5lib!=1.0b1,!=1.0b2,!=1.0b3,!=1.0b4,!=1.0b5,!=1.0b6,!=1.0b7,!=1.0b8,>=0.99999999pre in /Users/ye/anaconda3/lib/python3.6/site-packages (from bleach->nbconvert>=4.2->jupyter_contrib_nbextensions) (1.0.1)\n",
      "Requirement already satisfied: jedi>=0.10 in /Users/ye/anaconda3/lib/python3.6/site-packages (from ipython->jupyter-latex-envs>=1.3.8->jupyter_contrib_nbextensions) (0.11.1)\n",
      "Requirement already satisfied: pickleshare in /Users/ye/anaconda3/lib/python3.6/site-packages (from ipython->jupyter-latex-envs>=1.3.8->jupyter_contrib_nbextensions) (0.7.4)\n",
      "Requirement already satisfied: simplegeneric>0.8 in /Users/ye/anaconda3/lib/python3.6/site-packages (from ipython->jupyter-latex-envs>=1.3.8->jupyter_contrib_nbextensions) (0.8.1)\n",
      "Requirement already satisfied: prompt_toolkit<2.0.0,>=1.0.4 in /Users/ye/anaconda3/lib/python3.6/site-packages (from ipython->jupyter-latex-envs>=1.3.8->jupyter_contrib_nbextensions) (1.0.15)\n",
      "Requirement already satisfied: appnope in /Users/ye/anaconda3/lib/python3.6/site-packages (from ipython->jupyter-latex-envs>=1.3.8->jupyter_contrib_nbextensions) (0.1.0)\n",
      "Requirement already satisfied: pexpect in /Users/ye/anaconda3/lib/python3.6/site-packages (from ipython->jupyter-latex-envs>=1.3.8->jupyter_contrib_nbextensions) (4.3.1)\n",
      "Requirement already satisfied: webencodings in /Users/ye/anaconda3/lib/python3.6/site-packages (from html5lib!=1.0b1,!=1.0b2,!=1.0b3,!=1.0b4,!=1.0b5,!=1.0b6,!=1.0b7,!=1.0b8,>=0.99999999pre->bleach->nbconvert>=4.2->jupyter_contrib_nbextensions) (0.5.1)\n",
      "Requirement already satisfied: parso==0.1.* in /Users/ye/anaconda3/lib/python3.6/site-packages (from jedi>=0.10->ipython->jupyter-latex-envs>=1.3.8->jupyter_contrib_nbextensions) (0.1.1)\n",
      "Requirement already satisfied: wcwidth in /Users/ye/anaconda3/lib/python3.6/site-packages (from prompt_toolkit<2.0.0,>=1.0.4->ipython->jupyter-latex-envs>=1.3.8->jupyter_contrib_nbextensions) (0.1.7)\n"
     ]
    }
   ],
   "source": [
    "# 下载和安装extensions\n",
    "!python -m pip install jupyter_contrib_nbextensions --user"
   ]
  },
  {
   "cell_type": "code",
   "execution_count": 164,
   "metadata": {},
   "outputs": [
    {
     "name": "stdout",
     "output_type": "stream",
     "text": [
      "Error executing Jupyter command 'contrib': [Errno 2] No such file or directory\r\n"
     ]
    }
   ],
   "source": [
    "!jupyter contrib nbextension install --user --skip-running-check"
   ]
  },
  {
   "cell_type": "code",
   "execution_count": 138,
   "metadata": {},
   "outputs": [],
   "source": [
    "# 新建test_folder文件夹\n",
    "!mkdir 'test_folder'"
   ]
  },
  {
   "cell_type": "code",
   "execution_count": null,
   "metadata": {},
   "outputs": [],
   "source": []
  },
  {
   "cell_type": "markdown",
   "metadata": {},
   "source": [
    "## 操作符和优先级\n",
    "操作符及优先级如下：\n",
    "```\n",
    "第1名 - 函数调用、寻址、下标\n",
    "第2名 - 幂运算 **\n",
    "第3名 - 翻转运算符 ~\n",
    "第4名 - 正负号\n",
    "第5名 - *、/、%\n",
    "第6名 - +、-\n",
    "```"
   ]
  },
  {
   "cell_type": "code",
   "execution_count": 118,
   "metadata": {},
   "outputs": [
    {
     "name": "stdout",
     "output_type": "stream",
     "text": [
      ".net not in it\n"
     ]
    }
   ],
   "source": [
    "#成员运算符in,not in\n",
    "\n",
    "websiteUrl='chinahadoop.cn'\n",
    "if '.net' not in websiteUrl:\n",
    "    print ('.net not in it')"
   ]
  },
  {
   "cell_type": "code",
   "execution_count": 6,
   "metadata": {},
   "outputs": [
    {
     "name": "stdout",
     "output_type": "stream",
     "text": [
      "100 200 200\n",
      "200 100\n"
     ]
    }
   ],
   "source": [
    "#赋值\n",
    "c = 1000\n",
    "\n",
    "#多重赋值\n",
    "#a=100;b=100\n",
    "a=b=100\n",
    "\n",
    "#多元赋值\n",
    "#a=100;b=200\n",
    "a,b,c=100,200,200\n",
    "print(a,b,c)\n",
    "\n",
    "#交换赋值\n",
    "a,b=b,a\n",
    "print(a,b)"
   ]
  },
  {
   "cell_type": "code",
   "execution_count": 7,
   "metadata": {},
   "outputs": [
    {
     "name": "stdout",
     "output_type": "stream",
     "text": [
      "1 2 [3, 4, 5] 6\n",
      "1 [2, 3, 4, 5] 6\n"
     ]
    }
   ],
   "source": [
    "# 使用*进行unpack解包\n",
    "#unpack解包\n",
    "l1=[1,2,3,4,5,'6']\n",
    "a,b,*c,d=l1\n",
    "print(a,b,c,d)\n",
    "\n",
    "#*号收集\n",
    "a,*b,c=l1\n",
    "print(a,b,c)"
   ]
  },
  {
   "cell_type": "code",
   "execution_count": 10,
   "metadata": {},
   "outputs": [
    {
     "data": {
      "text/plain": [
       "[1, 2, 3, 4, 'c', 'h', 'i', 'n', 'a', 'h', 'a', 'd', 'o', 'o', 'p', '.', 'c', 'n']"
      ]
     },
     "execution_count": 10,
     "metadata": {},
     "output_type": "execute_result"
    }
   ],
   "source": [
    "#使用*号对List和字符串进行展开（针对序列）\n",
    "l1=[1,2,3,4]\n",
    "s1='chinahadoop.cn'\n",
    "[*l1,*s1]"
   ]
  },
  {
   "cell_type": "code",
   "execution_count": 11,
   "metadata": {},
   "outputs": [
    {
     "data": {
      "text/plain": [
       "(['name', 'add'], {'name': 'machine learning 5th', 'add': 'BJ,SH,*', 'date': '2019-3-30'})"
      ]
     },
     "execution_count": 11,
     "metadata": {},
     "output_type": "execute_result"
    }
   ],
   "source": [
    "#*号展开,针对字典\n",
    "d1={'name':'machine learning 5th','add':'BJ,SH,*'}\n",
    "[*d1],{**d1,'date':'2019-3-30'}"
   ]
  },
  {
   "cell_type": "code",
   "execution_count": 12,
   "metadata": {},
   "outputs": [
    {
     "name": "stdout",
     "output_type": "stream",
     "text": [
      "[[3, 4, 5]] [3, 4, 5]\n"
     ]
    }
   ],
   "source": [
    "# ,号放在最后的解包\n",
    "l1=[[3,4,5]]\n",
    "a=l1\n",
    "b,=l1\n",
    "print(a,b)"
   ]
  },
  {
   "cell_type": "markdown",
   "metadata": {},
   "source": [
    "## Python基本数据类型与数据结构\n",
    "### 基本数据类型：数值型"
   ]
  },
  {
   "cell_type": "code",
   "execution_count": 17,
   "metadata": {
    "scrolled": true
   },
   "outputs": [
    {
     "name": "stdout",
     "output_type": "stream",
     "text": [
      "50000000000000.0\n"
     ]
    },
    {
     "data": {
      "text/plain": [
       "inf"
      ]
     },
     "execution_count": 17,
     "metadata": {},
     "output_type": "execute_result"
    },
    {
     "data": {
      "text/plain": [
       "-inf"
      ]
     },
     "execution_count": 17,
     "metadata": {},
     "output_type": "execute_result"
    },
    {
     "name": "stdout",
     "output_type": "stream",
     "text": [
      "you win!\n"
     ]
    },
    {
     "data": {
      "text/plain": [
       "<class 'complex'>"
      ]
     },
     "execution_count": 17,
     "metadata": {},
     "output_type": "execute_result"
    },
    {
     "name": "stdout",
     "output_type": "stream",
     "text": [
      "(4.3+22j)\n"
     ]
    },
    {
     "data": {
      "text/plain": [
       "3.142"
      ]
     },
     "execution_count": 17,
     "metadata": {},
     "output_type": "execute_result"
    }
   ],
   "source": [
    "#科学计算法\n",
    "c=5e13\n",
    "print(c)\n",
    "\n",
    "#数字的正负无穷\n",
    "float('inf') #正无穷\n",
    "float('-inf') #负无穷\n",
    "if 99999999999999999<float('inf'):\n",
    "    print('you win!')\n",
    "    \n",
    "#复数\n",
    "a=4.3+22j\n",
    "type(a)\n",
    "print(a)\n",
    "\n",
    "# 保留n位小数四舍五入\n",
    "pi=3.1415\n",
    "round(pi,3)"
   ]
  },
  {
   "cell_type": "markdown",
   "metadata": {},
   "source": [
    "### 基本数据类型：字符串型"
   ]
  },
  {
   "cell_type": "code",
   "execution_count": 21,
   "metadata": {},
   "outputs": [
    {
     "data": {
      "text/plain": [
       "'chin'"
      ]
     },
     "execution_count": 21,
     "metadata": {},
     "output_type": "execute_result"
    },
    {
     "data": {
      "text/plain": [
       "'ciaaopc'"
      ]
     },
     "execution_count": 21,
     "metadata": {},
     "output_type": "execute_result"
    }
   ],
   "source": [
    "##字符串型 单引号 双引号（转义） 三引号(跨行定义)\n",
    "#初始化及转义\n",
    "str1='''AI'''\n",
    "str2='chinahadoop.cn'\n",
    "\n",
    "#访问,索引及切片访问（即stride为光标后移步长，光标移动到哪里就取什么值）\n",
    "#str2[start:end:stride]\n",
    "str2[0:4] #从index为0取到index为4(不包括4)\n",
    "str2[0::2] #从index为0到结尾，每隔2-1=1个字符取一次"
   ]
  },
  {
   "cell_type": "markdown",
   "metadata": {},
   "source": [
    "#### 格式化访问"
   ]
  },
  {
   "cell_type": "code",
   "execution_count": 25,
   "metadata": {},
   "outputs": [
    {
     "name": "stdout",
     "output_type": "stream",
     "text": [
      "http://chinahadoop.cn\n",
      "Company name is chinahadoop\n"
     ]
    },
    {
     "data": {
      "text/plain": [
       "'fstring is new feature of Python 3.6'"
      ]
     },
     "execution_count": 25,
     "metadata": {},
     "output_type": "execute_result"
    }
   ],
   "source": [
    "#格式化访问1\n",
    "companyName='chinahadoop'\n",
    "str3='http://{}.cn'\n",
    "print(str3.format(companyName))\n",
    "\n",
    "#格式化访问2\n",
    "print(\"Company name is %s\" %companyName)\n",
    "\n",
    "#格式化访问3\n",
    "_='Python 3.6'#fstring only can be used under version 3.6\n",
    "str4=f\"fstring is new feature of {_}\"\n",
    "str4"
   ]
  },
  {
   "cell_type": "code",
   "execution_count": 26,
   "metadata": {},
   "outputs": [
    {
     "data": {
      "text/plain": [
       "'http://{}.cn'"
      ]
     },
     "execution_count": 26,
     "metadata": {},
     "output_type": "execute_result"
    },
    {
     "data": {
      "text/plain": [
       "-1"
      ]
     },
     "execution_count": 26,
     "metadata": {},
     "output_type": "execute_result"
    },
    {
     "data": {
      "text/plain": [
       "'http://{}.net'"
      ]
     },
     "execution_count": 26,
     "metadata": {},
     "output_type": "execute_result"
    },
    {
     "data": {
      "text/plain": [
       "1"
      ]
     },
     "execution_count": 26,
     "metadata": {},
     "output_type": "execute_result"
    }
   ],
   "source": [
    "#查找与替换\n",
    "str3\n",
    "str3.find('o')\n",
    "str3.replace('.cn','.net')\n",
    "\n",
    "#统计\n",
    "str3.count('cn')"
   ]
  },
  {
   "cell_type": "markdown",
   "metadata": {},
   "source": [
    "### Python数据结构\n",
    "#### 列表/List"
   ]
  },
  {
   "cell_type": "code",
   "execution_count": 34,
   "metadata": {},
   "outputs": [
    {
     "data": {
      "text/plain": [
       "[1, 'china', ['AI', 'chinahadoop.cn'], '机器学习集训营']"
      ]
     },
     "execution_count": 34,
     "metadata": {},
     "output_type": "execute_result"
    }
   ],
   "source": [
    "#列表[]:任意元素类型对象的序列\n",
    "l1=['AI','chinahadoop.cn']\n",
    "l2=[1,'china',l1,'机器学习集训营']\n",
    "l2"
   ]
  },
  {
   "cell_type": "code",
   "execution_count": 35,
   "metadata": {},
   "outputs": [
    {
     "data": {
      "text/plain": [
       "'ciaaopc'"
      ]
     },
     "execution_count": 35,
     "metadata": {},
     "output_type": "execute_result"
    },
    {
     "data": {
      "text/plain": [
       "[1, ['AI', 'chinahadoop.cn']]"
      ]
     },
     "execution_count": 35,
     "metadata": {},
     "output_type": "execute_result"
    }
   ],
   "source": [
    "# 注意这里取List和取字符串的值是一样方式\n",
    "# 取字符串（索引指的是“字符”位置）\n",
    "str2='chinahadoop.cn'\n",
    "str2[0::2] #从index为0到结尾，每隔2-1=1个字符取一次（取索引为偶数的字符）\n",
    "\n",
    "# 取List（索引指的是“元素”位置）\n",
    "l2[::2] #从最左开始每隔1个（取索引为0和索引为2的元素）"
   ]
  },
  {
   "cell_type": "code",
   "execution_count": 36,
   "metadata": {},
   "outputs": [
    {
     "data": {
      "text/plain": [
       "[1, 'china', ['AI', 'chinahadoop.cn'], '机器学习集训营', ['last', 'elem']]"
      ]
     },
     "execution_count": 36,
     "metadata": {},
     "output_type": "execute_result"
    },
    {
     "data": {
      "text/plain": [
       "[1, 'china', ['AI', 'chinahadoop.cn'], '机器学习集训营', ['last', 'elem'], 'new', 'item']"
      ]
     },
     "execution_count": 36,
     "metadata": {},
     "output_type": "execute_result"
    },
    {
     "data": {
      "text/plain": [
       "[1, 'china', ['AI', 'chinahadoop.cn'], '机器学习集训营', ['last', 'elem'], 'new', 'item', 'AI', 'chinahadoop.cn']"
      ]
     },
     "execution_count": 36,
     "metadata": {},
     "output_type": "execute_result"
    }
   ],
   "source": [
    "# 列表追加\n",
    "# # append法：追加1个元素，即List拼接由List组成的元素（List+元素）\n",
    "# 将所追加的List当成一个元素添加到整体List后面\n",
    "l2.append(['last', 'elem'])\n",
    "l2\n",
    "\n",
    "# extend和＋法：（List+List）\n",
    "# 直接将所加List中元素提取出来，加入原来的List\n",
    "l2.extend(['new', 'item']) #追加列表\n",
    "l2\n",
    "\n",
    "l2 + l1 #追加列表"
   ]
  },
  {
   "cell_type": "code",
   "execution_count": 37,
   "metadata": {},
   "outputs": [
    {
     "data": {
      "text/plain": [
       "[1, 'china', ['AI', 'chinahadoop.cn'], '机器学习集训营', ['last', 'elem'], 'new', 'item']"
      ]
     },
     "execution_count": 37,
     "metadata": {},
     "output_type": "execute_result"
    },
    {
     "data": {
      "text/plain": [
       "'item'"
      ]
     },
     "execution_count": 37,
     "metadata": {},
     "output_type": "execute_result"
    },
    {
     "data": {
      "text/plain": [
       "[1, 'china', ['AI', 'chinahadoop.cn'], '机器学习集训营', ['last', 'elem'], 'new']"
      ]
     },
     "execution_count": 37,
     "metadata": {},
     "output_type": "execute_result"
    },
    {
     "data": {
      "text/plain": [
       "[1, ['AI', 'chinahadoop.cn'], '机器学习集训营', ['last', 'elem'], 'new']"
      ]
     },
     "execution_count": 37,
     "metadata": {},
     "output_type": "execute_result"
    }
   ],
   "source": [
    "# 列表删除元素\n",
    "l2\n",
    "l2.pop() #返回最尾部元素，并删除该元素\n",
    "l2\n",
    "l2.remove('china') #移除列表中的某个值的第一个匹配项，没有返回值\n",
    "l2"
   ]
  },
  {
   "cell_type": "code",
   "execution_count": 56,
   "metadata": {},
   "outputs": [
    {
     "name": "stdout",
     "output_type": "stream",
     "text": [
      "<class 'str'>\n"
     ]
    },
    {
     "data": {
      "text/plain": [
       "['I', 'love', 'China']"
      ]
     },
     "execution_count": 56,
     "metadata": {},
     "output_type": "execute_result"
    }
   ],
   "source": [
    "# 字符串List的拼接与分割\n",
    "# 拼接方式：拼接符(\"_\"或者“*”) + join(List_name)\n",
    "l3 = ['I', 'love', 'China']\n",
    "\"_\".join(l3) #用下划线拼接列表元素(需要是字符串)\n",
    "a = \"#\".join(l3)\n",
    "# print(type(a)) \n",
    "a\n",
    "\n",
    "# 以指定分割字符（\"#\"）将 字符串 用split分割为 字符串List\n",
    "a.split(\"#\") #用井号切分字符串生成列表"
   ]
  },
  {
   "cell_type": "code",
   "execution_count": 47,
   "metadata": {},
   "outputs": [
    {
     "data": {
      "text/plain": [
       "[1, 2, 3, 4, 5]"
      ]
     },
     "execution_count": 47,
     "metadata": {},
     "output_type": "execute_result"
    },
    {
     "data": {
      "text/plain": [
       "[1, 2, 3, 4, 5]"
      ]
     },
     "execution_count": 47,
     "metadata": {},
     "output_type": "execute_result"
    },
    {
     "data": {
      "text/plain": [
       "[5, 1, 2, 4, 3]"
      ]
     },
     "execution_count": 47,
     "metadata": {},
     "output_type": "execute_result"
    }
   ],
   "source": [
    "# 列表排序\n",
    "# 排序方式1：以改变List本身的方式进行排序（不可逆，无返回值）\n",
    "my_list = [5,1,2,4,3]\n",
    "my_list.sort() #对my_list排序，直接改变my_list\n",
    "my_list\n",
    "\n",
    "# 排序方式2：将排序结果以返回值的形式输出，List本身并不改变（有返回值）\n",
    "new_list = [5,1,2,4,3]\n",
    "sorted(new_list) #对new_list排序，以返回值返回排序结果，并不改变new_list\n",
    "new_list"
   ]
  },
  {
   "cell_type": "code",
   "execution_count": 9,
   "metadata": {},
   "outputs": [
    {
     "data": {
      "text/plain": [
       "['BBc', 'CCdd', 'aa', 'zzmm']"
      ]
     },
     "execution_count": 9,
     "metadata": {},
     "output_type": "execute_result"
    },
    {
     "data": {
      "text/plain": [
       "['zzmm', 'aa', 'CCdd', 'BBc']"
      ]
     },
     "execution_count": 9,
     "metadata": {},
     "output_type": "execute_result"
    },
    {
     "data": {
      "text/plain": [
       "['aa', 'BBc', 'zzmm', 'CCdd']"
      ]
     },
     "execution_count": 9,
     "metadata": {},
     "output_type": "execute_result"
    },
    {
     "data": {
      "text/plain": [
       "['aa', 'BBc', 'CCdd', 'zzmm']"
      ]
     },
     "execution_count": 9,
     "metadata": {},
     "output_type": "execute_result"
    }
   ],
   "source": [
    "# sorted高级用法\n",
    "tmp_strs = ['aa', 'BBc', 'zzmm', 'CCdd']\n",
    "sorted(tmp_strs) #按照字母序ASCII排序：先大写后小写(大写字母A:65,小写字母a:97)\n",
    "sorted(tmp_strs, reverse=True) #按照字母序降序排序(reverse默认为FALSE,默认从小打大的顺序)\n",
    "sorted(tmp_strs, key=len) #根据key所连接的函数对元素做处理，对原序列结果进行排序：按照字符串长度从小到大排序（这里的len是函数，返回字符串长度）\n",
    "sorted(tmp_strs, key=str.lower) #将List中的字符串小写后，将结果按照第一个字母进行排序\n",
    "\n",
    "# 补充一个将字符串都小写的函数\n",
    "# str = \"THIS IS STRING EXAMPLE....WOW!!!\";\n",
    "# print(str)\n",
    "# print(str.lower())"
   ]
  },
  {
   "cell_type": "markdown",
   "metadata": {},
   "source": [
    "#### 集合/set"
   ]
  },
  {
   "cell_type": "code",
   "execution_count": 56,
   "metadata": {},
   "outputs": [
    {
     "data": {
      "text/plain": [
       "{1, 2, 3, 4, 5, 234}"
      ]
     },
     "execution_count": 56,
     "metadata": {},
     "output_type": "execute_result"
    },
    {
     "data": {
      "text/plain": [
       "[1, 234, 1, 1, 2, 3, 4, 5, 2, 4]"
      ]
     },
     "execution_count": 56,
     "metadata": {},
     "output_type": "execute_result"
    },
    {
     "data": {
      "text/plain": [
       "{1, 2, 3, 4, 5, 234}"
      ]
     },
     "execution_count": 56,
     "metadata": {},
     "output_type": "execute_result"
    }
   ],
   "source": [
    "# 集合{}set：\n",
    "# 需要取出一组List中不重复的对象，可以将List内容装入{}，也可以将List变量用set()函数进行集合改造\n",
    "# List：无序的重复元素\n",
    "# set：有序的不重复元素,集合中的对象，通常叫key\n",
    "\n",
    "# List改造1：装入{}\n",
    "s1={1,234,1,1,2,3,4,5,2,4}\n",
    "s1\n",
    "\n",
    "# List改造2：对List变量使用set()函数\n",
    "l2=[1,234,1,1,2,3,4,5,2,4]\n",
    "l2\n",
    "set(l2)"
   ]
  },
  {
   "cell_type": "markdown",
   "metadata": {},
   "source": [
    "#### 字典"
   ]
  },
  {
   "cell_type": "code",
   "execution_count": 14,
   "metadata": {
    "scrolled": true
   },
   "outputs": [
    {
     "data": {
      "text/plain": [
       "dict_keys(['HanXiaoyang', 'Jason', 'David'])"
      ]
     },
     "execution_count": 14,
     "metadata": {},
     "output_type": "execute_result"
    },
    {
     "data": {
      "text/plain": [
       "dict_values([1234, 4567, 6789])"
      ]
     },
     "execution_count": 14,
     "metadata": {},
     "output_type": "execute_result"
    },
    {
     "data": {
      "text/plain": [
       "1234"
      ]
     },
     "execution_count": 14,
     "metadata": {},
     "output_type": "execute_result"
    },
    {
     "data": {
      "text/plain": [
       "{'HanXiaoyang': 7890, 'Jason': 4567, 'David': 6789}"
      ]
     },
     "execution_count": 14,
     "metadata": {},
     "output_type": "execute_result"
    },
    {
     "data": {
      "text/plain": [
       "'NG'"
      ]
     },
     "execution_count": 14,
     "metadata": {},
     "output_type": "execute_result"
    },
    {
     "data": {
      "text/plain": [
       "False"
      ]
     },
     "execution_count": 14,
     "metadata": {},
     "output_type": "execute_result"
    },
    {
     "name": "stdout",
     "output_type": "stream",
     "text": [
      "False\n",
      "\n",
      "\n",
      "HanXiaoyang 7890\n",
      "Jason 4567\n",
      "David 6789\n",
      "\n",
      "\n",
      "HanXiaoyang\n",
      "Jason\n",
      "David\n",
      "\n",
      "\n",
      "7890\n",
      "4567\n",
      "6789\n",
      "\n",
      "\n",
      "HanXiaoyang 7890\n",
      "Jason 4567\n",
      "David 6789\n"
     ]
    }
   ],
   "source": [
    "#定义字典\n",
    "my_dict = {'HanXiaoyang': 1234, 'Jason': 4567, 'David': 6789} \n",
    "\n",
    "#取出所有的key\n",
    "ks = my_dict.keys() \n",
    "ks\n",
    "\n",
    "#取出所有的values\n",
    "vs = my_dict.values() \n",
    "vs\n",
    "\n",
    "#由key取value方法①：value = Dict['key'](确定key在字典中存在时)\n",
    "Hv = my_dict['HanXiaoyang'] \n",
    "Hv\n",
    "\n",
    "#改变字典中key对应的value值\n",
    "my_dict['HanXiaoyang'] = 7890\n",
    "my_dict\n",
    "\n",
    "\n",
    "#由key取value方法②：value = Dict.get['key',default]（不确定查找的key在字典中是否存在时，采用搜索的办法，不存在则返回定义好的提示信息：定义默认值'404','NG'等）\n",
    "Dv = my_dict.get('XiaoMing', 'NG') \n",
    "Dv\n",
    "\n",
    "#判断是否有某个key\n",
    "flag = 'DaDa' in my_dict \n",
    "flag\n",
    "\n",
    "# 手动实现取value值方法②\n",
    "if 'DaDa' in my_dict:\n",
    "    value = my_dict['Dada']\n",
    "else:\n",
    "    print('False')\n",
    "    print('\\n')\n",
    "\n",
    "# for遍历字典元素：\n",
    "# 方法①：直接遍历字典法。默认取出来key，值需要套着Dict[key]取出来\n",
    "for key in my_dict:\n",
    "    print(key, my_dict[key])\n",
    "print('\\n')\n",
    "\n",
    "# 方法②：分别指定取键，指定取值，一次取出\n",
    "for key in my_dict.keys():\n",
    "    print(key)\n",
    "print('\\n')    \n",
    "\n",
    "for value in my_dict.values():\n",
    "    print(value)\n",
    "print('\\n')\n",
    "\n",
    "for key,value in my_dict.items():\n",
    "    print(key,value)"
   ]
  },
  {
   "cell_type": "code",
   "execution_count": 25,
   "metadata": {},
   "outputs": [
    {
     "name": "stdout",
     "output_type": "stream",
     "text": [
      "True\n",
      "False\n"
     ]
    }
   ],
   "source": [
    "# 无序字典 & 有序字典\n",
    "# 注意，字典是一种键值对数据结构，本身是无序的\n",
    "\n",
    "from collections import OrderedDict\n",
    "# 无序字典：用{}初始化字典（不同顺序放入，只要键值对内容相同，最终就是同一个字典）\n",
    "d2={}\n",
    "d2['a']='A'\n",
    "d2['b']='B'\n",
    "d2['c']='C'\n",
    "\n",
    "d3={}\n",
    "d3['c']='C'\n",
    "d3['a']='A'\n",
    "d3['b']='B'\n",
    "\n",
    "print(d2 == d3)\n",
    "\n",
    "# 有序字典：用OrderedDict初始化字典（不同顺序放入，即使键值对内容相同，也是不同字典：当需要顺序作为辨别不同字典的依据时）\n",
    "d4=OrderedDict()\n",
    "d4['a']='A'\n",
    "d4['b']='B'\n",
    "d4['c']='C'\n",
    "\n",
    "d5=OrderedDict()\n",
    "d5['c']='C'\n",
    "d5['a']='A'\n",
    "d5['b']='B'\n",
    "\n",
    "print(d4 == d5)"
   ]
  },
  {
   "cell_type": "markdown",
   "metadata": {},
   "source": [
    "## 声明Statement与Expression表达式"
   ]
  },
  {
   "cell_type": "code",
   "execution_count": 26,
   "metadata": {},
   "outputs": [
    {
     "data": {
      "text/plain": [
       "(100, 200, '小象学院 is amazing', <module 'builtins' (built-in)>)"
      ]
     },
     "execution_count": 26,
     "metadata": {},
     "output_type": "execute_result"
    }
   ],
   "source": [
    "# statement声明：通常为赋值语句（声明变量）\n",
    "a='小象学院'\n",
    "b=100\n",
    "c=a\n",
    "\n",
    "# expression表达式：值、变量和运算符共同组成的整体。通常有：值表达式、变量表达式、计算表达式、字符串表达式,\n",
    "b, b+100, a+' is amazing', __builtins__"
   ]
  },
  {
   "cell_type": "markdown",
   "metadata": {},
   "source": [
    "### exec执行声明语句,eval执行表达式"
   ]
  },
  {
   "cell_type": "code",
   "execution_count": 32,
   "metadata": {},
   "outputs": [
    {
     "data": {
      "text/plain": [
       "5"
      ]
     },
     "execution_count": 32,
     "metadata": {},
     "output_type": "execute_result"
    },
    {
     "data": {
      "text/plain": [
       "13"
      ]
     },
     "execution_count": 32,
     "metadata": {},
     "output_type": "execute_result"
    }
   ],
   "source": [
    "# exec()执行声明：变量定义/赋值（必须有等号）\n",
    "exec('a=5')\n",
    "\n",
    "# eval()执行运算表达式（没有等号，只是表达式）\n",
    "a\n",
    "b=3\n",
    "eval('a+b+5')"
   ]
  },
  {
   "cell_type": "markdown",
   "metadata": {},
   "source": [
    "## 判断，循环与循环控制\n",
    "### 判断逻辑"
   ]
  },
  {
   "cell_type": "code",
   "execution_count": 36,
   "metadata": {},
   "outputs": [
    {
     "name": "stdout",
     "output_type": "stream",
     "text": [
      "adult\n",
      "elder\n"
     ]
    },
    {
     "data": {
      "text/plain": [
       "'b'"
      ]
     },
     "execution_count": 36,
     "metadata": {},
     "output_type": "execute_result"
    }
   ],
   "source": [
    "# elif：if以外的其他选项；else最后一个选项。\n",
    "age=88\n",
    "if age<18:\n",
    "    print('teenage')\n",
    "else:\n",
    "    print('adult')\n",
    "\n",
    "\n",
    "#if elif\n",
    "if age<18:\n",
    "    print('teenage')\n",
    "elif age >18 and age <60:\n",
    "    print('adult')\n",
    "elif age>60:\n",
    "    print('elder')\n",
    "\n",
    "\n",
    "#三元表达式(if age>50, 则输出'a'；if age<50，则输出'b')\n",
    "age = 50\n",
    "'a' if age>50 else 'b'"
   ]
  },
  {
   "cell_type": "markdown",
   "metadata": {},
   "source": [
    "### 循环逻辑\n",
    "for循环作用：  \n",
    "进行遍历：字典、字符串、列表、集合set等容器\n",
    "\n",
    "while循环：  \n",
    "强调条件：什么时候停，重在循环条件。"
   ]
  },
  {
   "cell_type": "code",
   "execution_count": null,
   "metadata": {},
   "outputs": [],
   "source": [
    "#### break与continue循环控制（continue跳过本次循环以进行下次循环，break终止循环）     \n",
    "i=0\n",
    "while True:\n",
    "    i+=1\n",
    "    if i==3:\n",
    "        continue\n",
    "    if i>5:\n",
    "        break\n",
    "    print(i)"
   ]
  },
  {
   "cell_type": "markdown",
   "metadata": {},
   "source": [
    "### 扩展：列表推导式List Comprehensions，可迭代对象Iterable与迭代器iterator,生成器generator\n",
    "\n",
    "#### 列表推导式List Comprehensions"
   ]
  },
  {
   "cell_type": "code",
   "execution_count": 47,
   "metadata": {},
   "outputs": [
    {
     "name": "stdout",
     "output_type": "stream",
     "text": [
      "[1, 4, 9, 16, 25, 36, 49, 64, 81]\n",
      "[1, 4, 9, 16, 25, 36, 49, 64, 81]\n",
      "[4, 16, 36, 64]\n"
     ]
    }
   ],
   "source": [
    "#列表推导式：从一个列表中生成一个新的列表，简化了循环的写法\n",
    "#任务：将原来list中的item平方，以一个新的列表形式输出。\n",
    "# 传统的for循环实现\n",
    "a = [1,2,3,4,5,6,7,8,9]\n",
    "b = []\n",
    "for item in a:\n",
    "    b.append(item**2)\n",
    "print(b)\n",
    "\n",
    "\n",
    "# 使用列表推导式进行简化\n",
    "# 讲解：新的b列表(b_new)是由a中每个item元素(for item in a)通过平方后(item**2)得到的\n",
    "b_new = [item**2 for item in a]\n",
    "print(b_new)\n",
    "\n",
    "\n",
    "# 列表推导式也可以添加条件\n",
    "b_even = [item**2 for item in a if item%2==0]\n",
    "print(b_even)"
   ]
  },
  {
   "cell_type": "code",
   "execution_count": 68,
   "metadata": {},
   "outputs": [
    {
     "data": {
      "text/plain": [
       "list"
      ]
     },
     "execution_count": 68,
     "metadata": {},
     "output_type": "execute_result"
    }
   ],
   "source": [
    "# 另外一个包含条件的例子：找出0-29之中能被3整除的数，并+1返回\n",
    "l1= [x+1 for x in range(30) if x%3==0]\n",
    "type(l1)"
   ]
  },
  {
   "cell_type": "markdown",
   "metadata": {},
   "source": [
    "#### Python3中流行的 可迭代对象Iterable，迭代器iterator，生成器generator\n",
    "\n",
    "<img src=\"data:image/png;base64,iVBORw0KGgoAAAANSUhEUgAABcYAAAKuCAYAAACL9M8BAAAAAXNSR0IArs4c6QAAAARnQU1BAACxjwv8YQUAAAAJcEhZcwAADsQAAA7EAZUrDhsAAP+lSURBVHhe7N0FYF3l+QbwJ+7SpI03aZu6u1OjQou724D/2JCNIWOMbTDGhstwH67FSovV3d3btEljjbvb/zxvckta2lKgQEueHzvL7b3H773fPec973k/twYHRERERERERERERERaCPemvyIiIiIiIiIiIiIiLYIC4yIiIiIiIiIiIiLSoigwLiIiIiIiIiIiIiItigLjIiIiIiIiIiIiItKiKDAuIiIiIiIiIiIiIi2KAuMiIiIiIiIiIiIi0qIoMC4iIiIiIiIiIiIiLYoC4yIiIiIiIiIiIiLSoigwLiIiIiIiIiIiIiItigLjIiIiIiIiIiIiItKiKDAuIiIiIiIiIiIiIi2KAuMiIiIiIiIiIiIi0qIoMC4iIiIiIiIiIiIiLYoC4yIiIiIiIiIiIiLSoigwLiIiIiIiIiIiIiItigLjIiIiIiIiIiIiItKiKDAuIiIiIiIiIiIiIi2KAuMiIiIiIiIiIiIi0qIoMC4iIiIiIiIiIiIiLYoC4yIiIiIiIiIiIiLSoigwLiIiIiIiIiIiIiItigLjIiIiIiIiIiIiItKiKDAuIiIiIiIiIiIiIi2KAuMiIiIiIiIiIiIi0qIoMC4iIiIiIiIiIiIiLYoC4yIiIiIiIiIiIiLSoigwLiIiIiIiIiIiIiItigLjIiIiIiIiIiIiItKiKDAuIiIiIiIiIiIiIi2KAuMiIiIiIiIiIiIi0qIoMC4/mYaGBlRXVyMnJwcVFRX2bxEREREREREREZFfmgLj8pMpKyvDgoUL8eSTT2L27FkWHBcRERERERERERH5pSkwLj+ZkpISfP7553j44Yfx2bRpFigXERERERERERER+aUpMC4/qYb6enh5ecHT0xNubm5Nz4qIiIiIiIiIiIj8ctwajqPCz66a1VVVVaipqbF/u7u7w9fXF35+fj848Mr5sMxHZWWlzZdBXG9vb5v3N3unwZm/O/z9v72c2tpaWydOX1tTCy9vL/j4+B50XOL43A5n9zvjecPDwwP19fW2DrZt1c46eHkiMDDQed2ncaLDsGmdZVeUl6Ourg7eXl7wdfYH98vBls9xXPvPtZ18rrS01JbPf4eGhlpA24Wvu7bR1s/TAx7OfgoKCrL1b47jcvuSk5Nx77/+hc+mT8eFF1yAv/zlDoS3Drflct4cuKzmXPth/33pY9ty4HJcOD+Ob9vubI9rvblPykpL7D0MCAhw3g//H/wZERERERERERERkV+PYz4wztXjwEBrcXExNm3ahHXr1yNtzx5UVlYgMCgI/fr1xwknnICIiAgLah8p13wLCgowb958rF61EinJKYiOjUGnTp0tmOraPfzLwOoZZ5y+L1jN5xiQTUpKwuo1q7F29VpkpKUhvl0C+vUfgDFjRqN169bfypZOTU3FqlWrnOfcMWzYUAQHByM7OxsLFy7CWmc+e5x1iIqNxSmnnIwhQ4bYehwYQHatF5efkZGJpcuXYdH8BbYtHTq0x4CBgzB06BBbPgPFzZefk5OLNWvWWKC7/4ABCA9rhW3btmH6jBlYv2YdwluH4ZZbb0G7du0tgM6SKBkZGdi8ZTPWrV2HpO07ERUTieiYWJx++ulo37697RPXMjgu579t6zZ8Nu0zLF+5HKNHjsIUZ3v4fjGA3atXT/To0cP2KXF7uD6ZmZnOfljoLGcNUlOcfdm+Hfr27YMB/fsjoV27gwb7GUz/4osvnGn3YuDAgejWrSuKiooxb/48fD79M9TVNuD0M0/HlClTjuhCg4iIiIiIiIiIiPy6HfOBcQY9CwuLMGPGDLz88svYtm2rBVCJq+4aGBi/77770K1bN3vtuzKDOQ0zkxcsWIAHHngAmzdvbsrixr4gNJfN+bi7M1O5AdHR0Zg/fz5CQkL2Tf/ySy/jFWe9kvek2LichhiM7tmzJx577DFbp+YB+y9mfI677robbh5uuOOOvzrzd8NDDz2ErVsbt42BY86nTZs2uPqaa/C73/0OrUJDm6ZuxNe5vq+9+j+88OJLFpx34XowgNyvXz/cdtttFlxnJrVrnyxatMjZV/ejoLAAt916K1q1aoWbb74Zu3btQm1tHeLj2+L111+39Z83bx6eevppzHf+unu4o855nevn0rFjR9zzr39hzOjRtkyaO3cu7vnnPVi7bq0F7rmeDEgzq5/7lhnzN9xwA6677jrbRu5LBt9nzZpl9ci3b99uAXni+Hy9U2JH/OY3V+HCiy+0LPXm7y/3xRVXXIHp06fjD3/4o128eOedd/Dcc8/Zspj9fpUzLYP9rkC8iIiIiIiIiIiItFwedzmaHh+TGNhcu24dbrjheuzYsR3du3bD+AnjcfHFF2PSxEmMAiMpaYdlYTOYOmHCBAumNg+cHgyDqQxE//Wvf7Xs5u7duuNvf/s7brn1Vpw8ZYoFdDdu3GhB8LPOOhOnnnoaRo4ciQED+luQm8Hau+++G88+8yxy8nIxZswY/PGmP+HCCy9ETHSMBfB37txp8xg9erQFn122bN6CL774HHv37kV+bh5e/t8rqKmuxuAhQ3D2WWejY2IHpKalISUlxdYjvm0cunTp0jR1IwanH7zvATz73HPYsnWLBb9/e+21uPiii9CrZy+k7UnF8hXLsXTpUkyaNAlhYWH79snu3bvx9cyZyM3Jtvm89tprFliffNIkjBk71tZ36NChSE5OwaOPPmIBZwawzzrzTJx77rk47bTTEBEZaVnvzPAuyCtAn759EOk8R1xnZsO3btMaWc42lpeXIzY2FqedfrqtZ58+fZxtHYrEDokWTGcJl88++8yC8yy/wmWdedZZuPKKK9C3Xz97bsPGDTZw3iNGjNivrArfSwbC169fj7bx8Vgwfz4+/vhjdOveHWc66zx40CB77zp06HDIciwiIiIiIiIiIiLSchzzgXEGc1nL2tPDE5dfcSWuuPxyTJg4Af3797dSHIMHD0ZFRaVlcjOI3qdPX8TExFhw/HDy8vLw/gcf4IP337eALjO2TzxxHOLj49G2bVskJCQgJycH69etQ+/effCnP91kGdTMOGZQfNbs2RaUTktLw7XXXovbb78dAwcOQKeOHW38AQMGWEkQZj937twFiYkd9mVU73CeY1Z1ckoKcp316Nm9B+5/8AErSzJ82HAMGToUXl6eFsBmcL1VqzCcdNJJNi0xmM35/uc//8bGTRtx/fU34I47/mJZ88xO79mrpzP0QkZGOjas34CQ4CBbJ2Zs0549e7Bw0SJn29bbfLiv/vvEE7jg/PMx0plHv759LZAeGBhgQW0G7G+66SYrRcLt4n7v64zDQDMD75xH165dLXjPzHDWRue/28bFYdWKVcjJzcGE8ePxxz/+EWPHjsWwYcOcfdLJxuOyV69ejX/+85+2vSeMGIkHH3oQp516qmW89+ndG8OHD7f3duWKFcjNzUVkRBsLejc3depUC+4ziM4LCqeccgr+1ZTJPmjQICv3crAyLCIiIiIiIiIiItLyHD56fAxg4DQqMgJXX32Vlcjo3ac34uLiLJObtbk7deqEsaPHoF18O6vTvXr1Sgtcf5fCggIsXbwE9XV1GDRwgGUxM1BLLIPSq1cve66ktBQ7du501sPDSnIwsMpyJ889+yy2btmCU0891bLXExMTbXoGX6OiIi1D+cILL7IM5a++/BJZWVk2bxeuo6+Pr9UB/9e//2VZ0JwHs6y5fQyEM7jMwDSndZV5IWZNP/XUU9iZlIQTTzwRF1xwAXr37o2wVq0scB8eHm7B54svvgRuzv6bOXOWlSppjtvBUjCsX/7b3/4WkydPRgdn+THR0fvqorNkyRlnnIGrrrrK5hcbG2f7gM/zwsE555xj+7+8ohwpKXv2LYP7gFnfUZFRzjb62HvI6XjBguVo+JfvHzvw3JOaimnTpllwPMxZ7+tvvNH2BfcB31+uy7ChQy3zu0fPntji7PM333ob+c77d+D7zG3ixQxeIPjTn/5kFwm4PF744HujoLiIiIiIiIiIiIjQMR8YJwZp2bEmg6wHKi0rQ119vQVQK8rLkbI75YgC4yxdUpCXD08vL3Tu0nW/GuDEmtwMqDLQnJ+XZyVDWLKDQ3p6upVIYdCaJVSYQX2ggIBAK2HCLG12GMqOQ5vjOgYGBVppFnaAeWDQNi4u3tmmNvaYy2HAlzgd/z1z5kwLRLO0CTunPBCXO2jwYHu8dds2C4I31+BsB7eZGfcM4Ps423swDHC3cfbtgRioZwkUBtY5n/yCfJQ569Uc95UL17v5v12ys7KwedNGu4AwoKkT1QPLnXDfMDjOEi/cDmao79yx81vzYyZ9p04dccbpp9tFBREREREREREREZGDOS4C482xBMrXX36Fl156Gf/+97/xl7/8BS+/8grSM9ItUFpRXnFEgXEfPz9Ex8bYuEWFRU3PfoPBdgZhOU9mPAcENHbayH8z0M3AMDOaGdhlx5SzZ83ab5g1cyZ270qyEiB7UvdYMLs5LpcZ08yubt6ZpQsD8gzOE5dVVlZmjzluRkYGioqKbF2KCguxdOmSby1/zuzZWLVyhS2fQXlmWDdfTuPyPS34zwz378L1X7VyNd54/XWrrX7HHXfgb3/7mwWpOd/8vFyUlu6flX4k8nJzsTs5GUGBQejZs4ft54NldjNA37VLFwv4M2Of5VIOfJ+5P+LbtrV65iIiIiIiIiIiIiKHclwExhkAZTmRTz75BI899hjuvPNvePihh/D2229j6ZIl2JuZierqKuuIk0HVIymZwc4wBw8dasHvBQsWWC3v5oFW1gFfsniJBX0T4hOsJAfny+Drjh07rJwJA8sfTP3AWZ878be/7T/84x9/w3+f+K8F8jnugcHv71pHBs09PBrfnubbxA5GWYub68Hn3njjDfzN2R8HLv9OZ3jowQctoM7AOgPbnMbFNb8Dg8sHYlCd9dAfffRRqwP+97/9Hc88/TS++vpry5zntlFZaSmqq5z34HvK3LvX2fdJ8PXzRcR3BOh5EYEZ6pXOcrKy9jY9+w1uE7ex+XaKiIiIiIiIiIiIHOiYD4wzoJyamooXXnjBOm986aWX4OntgZMmTcItt9yCBx96GDfecIN1/MjyIEcqOCQEo044Ab1697YOLJ9//nlMm/YZVixfgVkzZ+HJJ57E7NmzrU41S3Ow7jgDrwwkV1VWWvCVwWYvbx+bV0irsG8N4eGtrXb3pZdeaoH1o4HLr6ys2hfQ9vP3R0ho6LeXH9IKUdEx1gnlaaedZrXDDyxR8l0YFP/88y9w2223WVA8OWU3BgwaaPv93/feaxcp2CGpqwyNK9j+fTDQz8A9s/IZ+D4SrAtfVdUYkBcRERERERERERH5vo75wDiDs8wUv+eeeyz7+eqrr8brr7+Ohx99BJdffjnGjB6Fbj26Wr3uhoYjD8x6enigY8dEXHTBhRYw/uCDD/Dn227FbbfcimuuuQZvv/M2IqMjccUVV+DCiy9qmsrZYe7uaJuQAB8fH8te/tudd2LGjBmYMX36t4bpzsCOJRnMP1o1rxmEbts2ztaZwXGWM+FyvrX8Gd8s/6OPPkL37t1t3b+PRYsW4ZFHHsbmzZtxyqmn4oknn8Q777yDW2691QLunTt3tvXhevyQoDixNnxsTIxdbMjK/HYWeHMMonPw8fVFRGRU07MiIiIiIiIiIiIi388xHxhnCZWPpn5k9bZPHDsOv//979G+fYemVxs1JU87Dl8WpDlmfOdk5+CLzz9HcFAQrrzickwcPxHBocEYMngwbrzhRjz55FP4wx/+sF/QlwHpnj16WK1rlknZs2ePZTz/XJi5zoA0s6u5Xqx3npuT2/Tq0cP9w8D6unXrMGzYMPzhxhtxwsiRFlx3Zau7uDLpD8TnXANrnR9sHNYDZ9Z5eXkF9qSkWuD7YOOxrnhaWprVVvdztj02JvYHB+NFRERERERERESkZTvmA+OsYZ2WkWYB6a7du1m2MAOirqAoA66sE86A6vcJlDL7fOmypVi9dg3OOON03HLrbbj/oQfwzrvv4uX/vYLb/3I7hg4ZYoHg5vPl48TERISGhtprc+bOxdp16w5a15oBXnbiebBA7w/F5TNbnaVjGBz/+KOPLTjO/XAgW37dD1s+y8Qw6M+ANDvoZACby3btC25vRUX5voB3833kwue4j1gOJyMtA7U1317HqKgodOveA6VlpViwaAG279j5reA4l7V8+XIsXrLEPgcRERHo3bvXQZcpIiIiIiIiIiIi8l2O+cC4CwOwGzdstE4eGWjlwADqqtWr8cILL2Lx4iVwcz/yQGmpM5/NW7bYfF3Bb5YFYWY6B1fdbC6nedCb47GEylVXX40OiYlWtuTtt96yjii5Pq5143wZVN6T0hhcPprBcWars853TEyMs/2r8Orrr2HT5s22zObL5wWDlD17DpmFfTj+/v6WnU7siHTd2jX75s+/+fn5eOyxx7Fh/fpDZsx7+3gjKibSxl+0ZDGKS4rtsWs+XCcG3MeNG2vbwn14+59vQ0pKis3TNS4D9CyfM/Prr9Gla1dcceWVCAsLU2BcREREREREREREfhCPuxxNj49J5WVl2LhxI7Zs3WqlNDLS01FdU2P/fuH55/Hkk09iq/OYQdj6unr07tkLk06aZJnFh8Ng997MTKvBnZS0C6kpqcjcu9eZ7xYrH8Is8J07diA3N9fGZSCWGIzl0KlTJ2Rl7LVlr169GsuWLsOelBTszc62QO6cOXNx//334emnn8aQIYMt8OsK5G7fth2zZs1CZVWlZaUPGzbcgvPNMXD8xRdfYNWqVbYsduIZHh5ur3FcZnHn5mRj67atWL9uPbZt2WqB5b3ZWdi9ezdmz5mDV1562dk/T1gHoly+K9jPwPP8+fNtPfv164eTTz7Znm+O68p5cv7JzvgZmRkWYOd78N677+Kpp57CZ599Zp1/MvDfrl0CxowZg7i4uKY5NM6jrKzctqOissLex4KCAmxv2q9BQUE2BAcH27gzZ8600jkbNmxA8u5dSHKGxYsW4b//fdw6AaUpU6bgj3/4w75SMsQAO2vEb9u2zeqvjx49Bu3at7fXRERERERERERERA50zAfGGXiNjY3D5k2bkLQrCTuTkrB06VJ8/dVX2LJlC3r06IHLLrsMbSLaYNXKVejdqzcmTT7pOwPjzIZmQJbB7PUb1mPb9m1YsWIlFsyfj7lz52Le/HmYO2cuvnKWw8AuO6BMSEhAq1atLDDNciZdu3VFRGSEM+12rFyxwhlnExYuXIivZ87E7FmzLMAbExWNcSeOd7YhZt86bd2y1eZbVl6GIQyMD/92YJyZ0qzxzaB7+/btLSDsCowzIMz179atuwWC16/fYJnjXN6CBQvw9ddfY87s2RaIjouOxZBhQxEfH78vAzw5eTfmzJljAXQGxtmR5sHEtW2LzMxMm29qairWrFljAf0lS5ZYRvdvf3utdWDKfdOmdWuMHTcOcXFtm6b+Zh/vdt63HTt2WiCeFx24f3Oysy3gz/ViBnzHjh3Rrl17Z3tX2fz4nixdstTZnwtsmrjYWFx3/fXOMn+L6OjopiU04oWLd99916bjeAyMt++wfx16ERERERERERERERe3hqNZ4+MnUlVZhRUrVmDBwgXYum2b1R2PjYlB79690bdvX8tS3r59uwWl+/Xrb6U5viswzixnBtivv/46FBYWYeLESaiuqbasaAaey8tKkZebh+TkZKRnZFgt7LPPPhsPPPCAlRlxYebz6jVrsGrlSuzatQvFJSWWmR3RJgI9enRHl85d0K17Nwuou9Zp546dmDN3jpVzYWB86NChBw2Mf/nll7bd7GzzpJNO2pe13hwzsFc6y2adcS6f60udu3RBx46d0NfZR+07tEfr1q33LZ/jLViwEHv2pNg+PP300+35A/GjwWDz7NmzsWzZMmdbcyxYPqD/QHTq1BF9+vSxwDkD3WFh4RgzZvR+GePEADoD6wzWM7ue711gYJBt88SJEyww7lJYWGhBd2bJb9+xHdl79zr7PQYdne3v6yxrwID+3wqKEwPjM2Z8bhcCoqOjMGrUKLuYICIiIiIiIiIiInIwx0Vg3CUvL89KbTBozCAxy4m4sqDZWSSDrn5+/vD19dlXZuNQmC19xx13WDY4k+YZGK9vqLcSJpy2yplXaUmJBYZff+MN6/yRnW5+8eVXSIhv+63AO4O62dnZtg7uzmshwcEWxHWVL2mOwffyigrUOdvh6+cHv2ZlQVz4trCDUNYJZ3Y665ofLtjP7efyGagnLrt16zbOtN727+Z4UcDVYSnrqYeEhDS9cnAlzn5g+ZXS0hKEhbe2zHkfZzpi4JvryW32d7bF9X4cqPl7xwxxrltwcNBBt8k1bnFREUJCQxEVFY3Q0JBDvqfcV1VV1dYZKC8w8C4D70Osh4iIiIiIiIiIiMhxFRg/Whi8ZkD8yiuvRNu2bS0jmhnVB1NUXGSde956yy0WiF+4aBHat2t32CC1iIiIiIiIiIiIiBy79q/f0UIwU9oykouLLcP5wDImzbGMS2lJqQXC42Ji0To8TEFxERERERERERERkeNYiwyM+/r6Ijo6xoLirMnN+tfs1JP1uisrq6wsCR+zbvlbb72Ft954AzExMbjgggudaf2a5iIiIiIiIiIiIiIix6MWWUqFtmzZgj/+8Y/W0WNQUBBOHD/eOnhkwJylVvLz87Fo0ULMmzcPwcHB1vnlv//9b+t487vql4uIiIiIiIiIiIjIsavFBsbr6+uxK2kX/vPvf2P+ggUoKy+zjjeJpVVc5VJ69uqF3//udzjxxBOt00gGxRUYFxERERERERERETl+tdjAODebQ0V5ObJzcrB69Rqkp6ejuqYarUJbITIyAvHx8WjrDIEBAfD09LTpFBQXEREREREREREROb612MC4Czef2ePskJMZ4/y3K2PcNSgYLiIiIiIiIiIiIvLr0eID4yIiIiIiIiIiIiLSsrg3/RURERERERERERERaREUGBcRERERERERERGRFkWBcRERERERERERERFpURQYFxEREREREREREZEWRYFxEREREREREREREWlRFBgXERERERERERERkRZFgXERERERERERERERaVEUGJcfpaGhoemRiIiIiIiIiIiIyPHBrUGRTfkB+LGprKxAUVEx/Pz8EBAQAE9Pz6ZXRURERERERERERI5dyhiXH6S8vByPPPIIThw3Dpddchk2btig7HERERERERERERE5LigwLj9IdXU15syZi6Rdu/Dl119i67ZtqK+vb3pVRERERERERERE5NilwLj8ID4+Ppg8eQpGDh+B008/Ax07doS7uz5OIiIiIiIiIiIicuxTjXH5Qerq6pCVlYXUPakICAxE+/btrM64iIiIiIiIiIiIyLFOgXERERERERERERERaVF+FYHxwsJCpKWlIS8vFx4eHggJCUX7Dh0QeEAGc05ODgryC+Dj6+uME4zQ0NCmV75RVVXtzCcPpaUl9npERIQ9z5raaWnpcHNzQ9u2beHp6YGSkhJkZmYi3Xm+qqoS4a3DndfiERUVZR1RctzmKioqUVCQ78yrBq1ahdh6VlZWYtOmTdibuReBQYHo378fgoKCm6ZoVFpahpSUZMvQrnLmER0bg+joaFu3A5fRXEZGBpJ27kRxcTH8A/yd9YpGXFycM/+gpjG+LTk5xZkuDYX5hfD28UYbZxnt2rW3/dUcM8Zzc3OtE06WVQkLC4Ovs18PhfMtKi7CXmed+B5FREY6822H4OD95+vC/Zefn++sewkCnHUPbdUK3l5etly+17t2JaGivHFfJCYmIvgw2yQiIiIiIiIiIiLS3HEdGGdgevny5Vi8eDG2bNmC9LRUeHh6ITIyEoMGDcYpp5yCDh3aw9PT08ZfuXIlpk+fgfz8PPTu3RuXX365BWmbB5e/+nom5syZjYb6ekw+6SSMHjPGnmeQ+b777nPm5YVbb70VezMzMW/ePKzfsB7bt21HRUU54trGoX//gTh5yhT0G9AP7m7u+817d3IKpn36iQXeTz55ChITO+Kjjz7C9BkzsDspCWHhYXj++efRsWMnG7+qqgpbt251ljPf2c5l2L1rF8pKy9CxS2d07dIFp512Gvr06WOB6eaKioqwcMFCzF8wHytWLEdudi6CQ4LRITERXbt2w6DBg9Cvb1+0bt3axudHgPty1qxZmDt3HrZu2WyBel8/XyS0a2f7ctSoE9C9e/d9QXUG9D91tmXZsuWIiY7BOeecbeM2x/kysL1qxQp8+tlnyMzMQNKOnfDy9rJxBw/mfEehR48e8PPza5qqETvy/Oqrr5z1mYtOnTpj4qRJqKmusn+vXr0a69aucfZFOTp17YL+/frjrLPORPv237zXIiIiIiIiIiIiIoficZej6fFxhcHlz7/4Av/617/wzjvvoLS0FB6enpbBvH37dkydOtWyi7t27WKZ3+wYsrCoCDNmzMBzzz2HXbt2YdjQoYiKjrbgNYO4DCjfffddePmllxAcHIQxo8egbXy8LS8lJQVXXXUVVq1aZYH3l198Ce+99y5S09LAKwvlFeWW+T1/3nzszci0YG5kVOR+HVLuSkrC008/jQUL5iM2Jtb+fccdd1iQncsvLS3HBRdcYAFrBsWXLFmCRx99FC+99CLSUtMQEBQIb28f7NixHZ999hlynX2QkJCANm3awMvLy5bB7Z87Zy5uu/U2fDrtU2fb3BEQGGD7gts8deoHyNy7F7169bLMdyorK8NXX36JP918s61bRUUFQlq1sv3CzGwGqJkdPnDgQISHh9s0HOedt9/CC8+/gOysHIwePQqxsbH2mkt2djbefvsdPPrII/jii8/tPfP180OZs45r1q7FzJkzsXv3bptnvLOfXdvgwosITz/zNNIzMmxd+N499dST9v7WM5hfWoJFixbZfLgPenTvYdsqIiIiIiIiIiIicjjHXWCcAWQO7733Hv5z330W7D1x3Im44Ybrce21v8NJkyejY8eO2Lljx76Aabdu3axjSD72cHfHmjVrLNBcXFSME8ePh7e3t81z2rRpePvtt+HvH4Abb7wRJ59yStNSG8uwvPzyy6itrbWM8rLyMowdMwZXX30Nzr/gAgwePAi+Pj7YmbQTO5xlMzh+4oTxlgntyhrfu3evZWSzFEhhXgGWLF2CVmFhuOo3V2LyySdjzNgxlsnNadauXYt//vOf+Prrr9GzZ09cc9XVuO3Pf8b5552PhHYJ2LNnjwWFmenNILer5AuD80888QQWLV6ETp07W+D96quvxllnnYWBgwahrLTUgukjRoywAD8lJSXhL3/+C5J2JWGQM841//d/uPnmm3HuOeegR/fuFgTneo4bNw4hISE2TU1NDRYuXOCs5zpn2ZGYPPkkxDQLjDPY/vHHH+P3v/8dikuKLTP8N1ddhf9z5s1ls4RKYX4BVqxYgW3btlnWOEurNLd82TLL8k9PT8fC+QuQ7uy3E8efiAvOPx/nOfuhuzPNtq1bbVn5efkYOmyYBeebZ+mLiIiIiIiIiIiIfEvDcaa+vr4hIyOjYfz48Q1eXl4Nl15yacPGjZsa6urq7DX+LSsra5g6dWpD27ZtG+Li4hpmz55tr1Fubm7D/fff3+Dr69vQvn37hs8//7yhsrKyIS8/v+H0009vCAgIaPjDH/7YsGvXLhvfZePGjTYNlzlgwICGDz74oKGwsNCW5xp27NjRcOONNzZ4eno2REZGNnz66acNFRUVTXNoaFi1alXDlClTmGDe4O3t3XDiiSc2rF+/vqGmpmbfPLie5eXlDTfccEODv79/w/gJExpmz5nTUFtba69xqKqqali6dGlD9+7dG6Kjoxvef/99e50+/vjjhqioKFv+P+++y+blmi//5uXlNZSUlOzbH/w7d+5c266QkNCGl1562dmuon3L4jRFRUUN+c7+cU1DnMftf76tITwsrGHEsBENK5Yvb3qlwaZZuGBBw5BBgxv8/PzsveK+qa6uttc48PG7b7/T0L9ff9uvF1xwge2r5uv16CMPNyQkJDS4u7vbeP975X+27dxWzoPr8MSTTza0adOmwc3NreHFl17ab3+LiIiIiIiIiIiIHMw3dT6OE84644P337NyGp06dsSpp55q5VJYsoSZwvzLjOvx48c7z3e1TO/dyclWmoRatWqFSRMnYsqUydaZ5UMPPWSZ3O++847Vru7ZvQdOP+00y6o+GGaXX3LJpRg9erRlPXN5roE1rs8991wrC8Is5nfeettKvDTnymZmtvO1v/ud1e1mnXPXPPj6F198iQULFzrL8sIEZztOGDlyXy10Diw50rdvX4wbPdayuZklXlBQYPN1jcNa28GhrVBbV2fPE+fP7Wf2PMch7k92LEru7m7WySZfcp62cTgN64qzHI1rmu/CzlAXLV6MlatX2fKuuupqy+TmOrm2k48nTZ6MU519zfdm/fr1lk1fX1/fNBeXBtvPl11+GS686ELbdtf+4vvMOvD+/v62HQX5+VZKRkRERERERERERORwjrvAOK1YucrqV/cfMBDdune35+rq6vYNDK4yeNo2Ns4Cqfl5eRZAJgZUGZRmCRSWEmHJksceexT3338/MjMzcenll1ktbY53IAZfGRxmZ5ec74GBYi6TJU369+9n65G0e5eVXjmYzp06WSedroB3c5s3bLRSLImJiejSuZO9fuD2UVR0JHy8vbFj507szcpqfM7Zpj59elvQ/7+PP443Xn/d9hXXg+tPzZfHx1xnXghgh5oPP/wwPvhgqtUD57Jc23zgOh4OLwbwggSnZ1B94sQJ8PX1/dZyWce9U6eOCAsLQ1FhIdavX/etwLhr+QyC86JE83nwPbLyOM4+pPz8gn3vs4iIiIiIiIiIiMihHJeB8eTkZAviJu/ahXfeehOPPfoIHn3k4f2GJ/77uAWMGZzNPyCTmEFtBr+vv/46y+x+/fU3kJGRgXPPOw9jx45FYFBg05j7O5LgMAPAMTGNtba57ENhQJvB3oPZk55qHUvW1tRi/rwFB90+BvPnLVjgrH858nJyUFxcZNP27NUL1/3+evTq0cs6DGXnpCeddBL+efdd2L5t27cCz9ymDomJuOdf9yIuLg7r1q3DP/7xd1x00YV44MEHrV7695WTk2013rmfmSnePEO9OT4X1ioMUZFRqHDez8z0jH3BexfXdIeansFx12vNLxqIiIiIiIiIiIiIHMpxFRhn0LSoqGhfVvDadWvx/Asv4MGHHsZDD+8/PPrY41ixcoWNW1lZhbq6/QOm7ESyZ8/e9pjZ0XTKyacgIaHdQYOwR4qBWi9vbwvSstPIQ2WMOwtpevBtqampKK8oR9KuXXjjzTcPvn2PPIqFCxeitKwUPn5+8PH2sWlZVoSdeD7x5BO4++67ERsdY8Hu555/AZdddhn+dudfsXHjBhvXJTAgAFMmT8bzzz9vnW4yYL9gwQLLOGcnpP/5z3+wfsP+0xxOUWExMjIy4efrh/bO/jyc4KAgREZG2Pu0x9nuAwPj3wfftx/z3omIiIiIiIiIiEjLcNxljLOMiSv4OXbcONx199144IEH8cCDD+03sHb4Cy+8gNdffx2XXHIJwsPDbBqX3NxcfD5jhgViw8PDLaC9ZNFiK7vyY9TU1KCooMDWMTAw8KAlWb4Lg9vubu7o1KkTfvf73x10+x50to+BbG7frbfcYlnfLlzuiJEjcM011zjjPmgB8o4dErFi5UpnmhfwkDP90sVLmsZuDCizrMmYMWPw299ei//+97+4+eZb0Lp1a8ybNw9PPPEEHn7oQSxcuKBpisPz8vKEr6+PXRxg4P5wuL944YLlUBigFxEREREREREREfmpHVeBcQZwWaqENakZcI6Ni7PONy+77FJcdun+w6XOwIA4B9b8ZjkPF5ZPYbb1hx9+iKioKPzu99dZlvQHU9+3QHBJSUnTmN8fO7LMzsq2ziXbxSfsq3/9fXTv3s3ZxlaWcX3CyBO+c/tGjBiBVqGhTVN/g7XDmT3++9//Hv/85z/xhz/8Ad4+vvjoo48xfcYMy74/UGxsjJVeueGG6/Hvf/8bF110Eerr6/Dxxx/jg/c/aBrr8MJbh1tHpBWVFdbxKR0qE7zY2des7c79H+MsWxnfIiIiIiIiIiIi8lM7LmuMd+nSGcHBwVixYgXWr1/f9OyR27BhA5577nkUFRfhwgsvxNVXX41x48ahsKgIL770ItasWdM05v5cwd3mda2bY/ZzSnIKNm7abIHxAQMGWIb799WrZy9ERkRh27atWL16zbfKwHxfzPweP3GClUkZPny4ZXGvW78Ou3fvbhrj23jBgBcdbrnlFowaNQrFxSXYvGWrXVT4LhERkUjs1NnqfbMTUL5HB6v9zTrxKal7sDd7r13waN+hgwLjIiIiIiIiIiIi8pM77gLjDJyeNGmSdeq4ccMGfD7jc+zetavp1f0xGMuhebZyTk4OZsyYjtmzZ6Fnjx4WFI+OisR1111npUuYMT71g6lIS01rmuIbXDbnl56WhtLSb5cI2eWsx9QPp2LX7iS0atUKk6ZMPmQHm4fTp29ftGvfHvkFBZg5ayaWL1/e9Mq3HdjhJDsa3bJly0HXj/uMJWWYxd5YwqTSni9wlrNqxUrrAPNAcXFt93Umyv3I6b5LSGgoenTv7kwXbfN+9tlnsXfv3qZXv8Ha57NmzkRdTR06deyEIUOG/qAMexEREREREREREZHv47jMGJ900mSMHj0a3t7e+OCD9/HkE09i7bp1VpKDge+0tDTs2LED06dPt6CyqzQKg7qLFi7EtGnTEB0djbPOOhvt2rWDl5eXZUWzhAjLtHz80cf46quvrCxKcwyMszNN1iZ/7733sWzpUiTvTkZKSooFed955x28++67VuObGegDBwywdfy+OnfujPHjT0RcXBzmzJmNBx643/k7B8nJyVYbnduYlLQTM2fOxJzZc+w5Ki8vx6xZs3Dvvf/C+++/j82bNtm+4PjMDp8zZ65lyzOYzlIniYmJtm+++OIL3HHHHZg69UNs3boVqWmpNk3qnj22D1evXm0Z3XFxMQg9SMmWA3l5ejrb3h8XXnCB7UPulzfffBMb1q+3jkW5HStXrsQrr7xiy2bA/rzzzkOfPr1/UE12ERERERERERERke/D4y5H0+PjAoPTHNq2jUdeXj62bduGlatXW6A1OzsbGzdusizraZ9+gocfeQRFhYXoP2CAdbC5fft265Bz9qxZGDZsGP7ubHpgYMC+eXbo0MHKfrDMCAPaPXv2RJs2bew1BorZ2SWDyjW1tZg1cxYWLVyE7Tt3YOnSJXjj9detbjcDwYMHD8Y//vEPC743z4DOyMjA7NmzsXPnTvTu3RtnnXVW0yvfFh8fb6VdGNBm0J0B6uysvdiTmopVq1bjg/ffs7rh3P5BzvLi4mKd+WdixozPLTjPgDOD4Em7dmHb1m34+KOP8MorL9v4CQkJVkKGZVXS09Mw9YP3MdNZr/ffew9pqXuwadNmbNu+A199+QWee/5ZbN68BUOHDsEVl1+Ort262fpVVVVh/vx5zn5f5ezb1jhp8kkW4HZh1nhkFMvBbEN+fp6z/jOQ6sx789atmD1zJv73v1ewaNFiBPgHYPLJk/GHP94EPz/fpqkbLV2yBEucgZ1zTpgwwUrTHIjr8cwzz6DQeZ9Za33w4EEICQlpelVERERERERERETk2467wLgLA9YDBzbW8GYWMgcGxxcvXoRNmzYhNS3NSqOccupp1vmmv78/pk6dakHj9u3a4YrLL8PIkSNtXgx8E7PFG+rrkJaebsFrBtMZ5GYWsyswztrh111/Pbp07IRdu3dh5epV2LR5i70eFBSEk08+GdylPXr0sKC4a97EcVatWmWZ7f3797dxD4VZ5ywt0i4hAfl5ecjKzrYA9/wFC7Bs2VIkp6RYFvfkk6dgzJgx1vlmSEgwOnfuZNvBIDy3gYH+hQsXYNv27ZZRziz0P970J8vQ9vH2RmhoK/Tq3dtKvvDCQXJyY/b7okULsXnzZlRVVWPY0KG48YYbcNrppzvb05jRzez7VatW2jJi49piwoTxiIqOttdc+B4xs7+u1tmnzvuxe3cy1q5di+07dqCgoBCdEjviTzfdhD/d/CeEBAfvt69YtmX9uvXYvGWzZfSPHz8effr0aXr1G1yP9957zwLkJ5xwgn0m+D6IiIiIiIiIiIiIHIpbQ/MC3McZ1tZmnWwGXRnMZW3t8rIy9OzVG9HRUZaVzU46GVhlCRTWAN+zZ4/V/2a5koNlFhcXF1sZFtbqjoiIsCxyBloZbB84cKAFu++//wGcc/ZZSM/IsEB3Tm6udVbZu1cvG5/zPVgHnUVFRUhKSrIAObOrmZF+OK6a3qw1vnNnEjZt2IAdO7cjKjrG6qNzem4LA+SuzHTuEwaJ8/LyLLCdmbnXWfcNCAlthe7dullAnuvKjHjX+rn2I6fhtm/YuBFpzn6Ka9vW2Yd90LlLZ7Rp3Xq/sjDcnwx0M+Oc8+6Y2LifmuP6c2BAfpczLt+fdWtWWwCdJWy6dOlif5uviwun27Mn1d4vL+f1RGe/tmnTuunVb3A9li1bZstgJnxbZ51/SF13ERERERERERERaTmO68C4C8ubsIQJB24OA60MFDcPuPJ5BlEZBGbQmpnfBwZj6cDxOB/+dQXGOd0DDzyIiy660LLQuUwu37W8Q82XOE9XZ5mcJwP2R4LrVFNT6yyrygLlXAaXdbCAsguXwXFra+tQ40zn7qwfl8cMey77YFzTcJu4D7gcjs+/B07DdXJtC9fBtZ8OhfPjvBm057hcFw58fDCcv2t/HW7+jfumxv5yHA6H2iciIiIiIiIiIiIi9KsIjP8cDgyMX3jhBUfUEaWIiIiIiIiIiIiIHFsOneIrh6WsZBEREREREREREZHjkwLjIiIiIiIiIiIiItKiKDB+hFjvmh1UVlRUWL1sVaAREREREREREREROT6pxvgRyszMxMMPP2wdQJ522ukYMKA//Pz8ml4VERERERERERERkeOFAuMiIiIiIiIiIiIi0qKolIqIiIiIiIiIiIiItCgKjIuIiIiIiIiIiIhIi6LAuIiIiIiIiIiIiIi0KAqMi4iIiIiIiIiIiEiLosC4iIiIiIiIiIiIiLQoCoyLiIiIiIiIiIiISIuiwLiIiIiIiIiIiIiItCgKjIuIiIiIiIiIiIhIi6LAuIiIiIiIiIiIiIi0KAqMi4iIiIiIiIiIiEiLosC4iIiIiIiIiIiIiLQoCoyLiIiIiIiIiIiISIuiwLiIiIiIiIiIiIiItCgKjIuIiIiIiIiIiIhIi+LW4Gh6LMcovkWuob6+vunZxuddfzm4ubnB3d3d/roeEx+LiIiIiIiIiIiISCMFxo8hB74Vrn+Xl5cjc+9eZGZkYPv27fYcX8nNzkZtbS0K8vJRWlqG6NgYdO7SBRERbRAZGYnY2FiEhobuC4wfGCBXwFxERERERERERERaIgXGjzG5eflYvnwZ1q5eg+XLlqGkrBRhYWGoqKiAt7cXOnToAHc3NwuMZ2Zkoram1oLmu3bvQmVlJaKiohATEwMvLy8bvL29ERsdAw8PDwweMgR9+vVzxolEYEDAvoxyERERERERERERkZZEgfFfWElJCVatWo3t27di/foN8PfzR1FhEerqauHm4Y6ammoUFRSioqISEVERCA0JQX5ePjIyM7F7924LhgcGBqHB+Y+Pw1qFWZZ4aVkpevfqhQ6JHVFdVYW83By4ubmjorICdfX1CA8LR88ePTH8hBHo2qWLssdFRERERERERESkxVBg/BdQUFCIFStWYNnSpUhO2W0Z3sm7U+Dt4w2Gp0uKSrAnbQ9qamsRFBSEAH9/+PsFwNvPG+UV5Vi6fDkKCgtQWVIO/5BAhIeHw9fX14LsVZVV8PL0Qn1Nrc2XrzFg7u/vh4rySnTr3h2BgYHOuMXw8vCEn38AfHy90aF9B4yfMN4yzv2d5YmIiIiIiIiIiIj8Wikw/jPKzs7Bxg0bMGv2bGzauAneXp6ora9D586dsXLFSkRERiA9PR11tbVIzUhHXkE+fP18Ede2LXrFdERnRAB1DajLL4cb/3N3s+xwT09PuDv/3pOXicLiQrgHeGNp/W401Degtq4OpSUlztLdUFBQgF7de6JVaCvncb4F4dvGtUVix0S0bh3hjFeM4OBgdO3eDX369kV4WJitt4iIiIiIiIiIiMiviQLjP4O9e/di1apVWLBgIZJ27ETm3gyr/53YIRGl5WUoLSvDqjWr4O3jg8LCQrSNiUW34Hh08I9EgKcvvH190CEkBr3dYi3LOzEsDnDVB69vevvcgILyQgu0uwf6YE7dNqtFXu+8zoD4ut1bkZ6Zjq3l6ShsqLAsctYYH9CvP04/9TRERERg3py5iI2Lc16rQExsLMaNHYfEjh2d8VRmRURERERERERERH49FBj/CeXn52P9+vWYOXOWM3yNNWvWIC42Dt27d7PX0zMzsHHLZvi4e6F3q/bo2a4LSuurUBPhhTODBmJycF+EBoQ0Bb8bUO/8x3eL9cQPxLeRgXCLkDuve2D/jjW3FaSipr4Wq+tSkYkilJWUIS09DXsK96K0tTt69uyJ3n364IzTTsd7776D4sJiDB4yFO06tIOvj491AMpBRERERERERERE5HinwPhPoLq6GikpKVi+bDkee/wxFBcXo7a21kqjtAoNtc4vUVGLAe17wM/TF8Gefrii7Yno16YjdhSkYYl/Kkb4dkY3tyjUNtQdlY4xG+fAAixN/8//uXlgW0UaXsqeA28vL8R0bofInu2xbftWDB08BO7uHsjKzoanhzu6deu+L6AvIiIiIiIiIiIicjxTYPwoqq+vtw4wmRn+v5dfRlFhMZJTU3DW2WdjxuczUJNbhk4JHSxzO7YmCJclnIg+ER2bpv42ZoY3hrJ/GnzrXUH3ytpqLN27Cc+lfAnf8ECUudXg3IsvwPBhw+Hn64OAwEAEBATYuCIiIiIiIiIiIiLHMwXGj5K6ujpkZmbio48+wnPPPYfS0jJ079IVe9JT4e/hg3HjxuFS/+FwyyhFgzsQ6OWP3IpC9Glz6MD4z4kfg3pnqKmvwdqcnfioYg1Cukajzq0egSHBGD1mLHr37gUvL2+rOX40sthFREREREREREREfgkKjB8FDIrv2rULzzzzLF599X8YOHAgrrv+Bvzz7ruxe0cS/j74MpzVdQwifULRwDIqDgaW6xvq4enuaf8+VvDjwPIt1c6wvTANnxSthEe31kjs1BHefr4YOXIkYqKjbP0VHBcREREREREREZHjkQLjP4Jr182dOxf//e/jWL58Bdzd3VFRUYFevXqjOK8AV0SPxVntRyLCvxXc3NydPW6THBeqa2tQ1lCJ1Io8bAnMx+425WgdGobLLr8cvr6+Co6LiIiIiIiIiIjIcUmB8R+BNcXffvttfP3FV/Dw9ERWbja++vJLePl4Y+Lwsfhz7OnoGBCNYG9/uLu5/+Q1w48m17q6O0NVbTV2lmZia+tiBJ6YiOg2UfB0trdbt27w8PBomkJERERERERERETk+KDA+I/w1ptvYdHChaipqYaHhxdKyktRm1uCgdVtMbbzIPQJSLDgMoPM3MnHY241Px7ubm6orK5CmVcdCuM9sCwiB4MHD0Z9TS3iYuOsU05myouIiIiIiIiIiIgcDxQY/wGKi0vw6KOPYO2qNYiMjkTm3gxkZmWjb1wXTAnpixF+ndHaNwR1aKwnfrzjR4QlU9wb3FCKKqQElyK+Uwdk9/dDTUMd4tu2teC4yqqIiIiIiIiIiIjI8UBpvt8DA8R5+fl48MEH8cgjjyAnJwdJSbuwYu1qRNUG4LzQYRjs1R5hvsG/mqA4uQLedW718Ic3ehaFwX91AaI2VMOjFiivrLAOSEVERERERERERESOB8oY/x6YKf7Jxx/jhhtvQFFRETp26Iga1KFXaDv8ocdZGB81AHX1NU2FU37l+LFx/lcxKgJ1QyPgHuSLHVu2wcfXB126doWXp2fTiCIiIiIiIiIiIiLHFmWMH4Ha2lrs3bsXs2bOxLPPPIuqqiqrqZ2Vl40R7frg7mG/wfjI/qipq2oZQXFiFrnzP9+5WQjYUIL6kmrMmj0L77/3Hnbv3t00koiIiIiIiIiIiMixR4HxI1BYWGiZ4g8+8ABWrFqB6upqePt4Y8qAMbi16zno79cONfXVLa/GtrO9bp7ucPtsN4I3l6J/996oqKrAksWLUFHRWF5FNySIiIjIz4nHHjwGKSgoQFZWliU06HhEREREREQOpMD4d6itrcP2bdvw2quvYcWqlaivr4e3tze6x3fCTQmnoo9fPGob6lpkx5M8yayorUKdhxvqPt2JE/174qSxE1DonIiuWL7CsuxFREREfk41NTXYsWMH3nzzLTz51FNYuWKlXbAXERERERFpToHxw2AJlZSUZEz7bDqWr1xhgWBfHx90a9cJN3Q+DR38o1D/K+pk8/uqRwM25e5GYVUp4OGOus92YnBNPGIS4vHq/17FrNmz7UKCsrRE5GDYPjCA5RrUVojI0ZCdlYWHHnoQd9zxFzz80EO46+//QPIBZd7Y3jCr3NX+/Frucmu+TTyOFRERERGRQ1Ng/BB4crR582Y88cQT+OCD9y2A4+Pjg7EjRuPmbmdhctvBCPUJcMZrmqAFcocberdORErJXuRWFsO9Hqgpr0Z82wRExURhxvTpyM3NVXBcRA4qLy8PS5cutWH16tUK4ojIUVFaWopVq1ZbCRWWv1uybCkKCgubXm3k6j9m6ZIlWLFyJVL27LGg8vEuNTUVixcvxhJnu7Zs2dL0rIiIiIiIHIwC4wfBIC5PmFatWoVp06Zhj3OyxFIpHh4eaBcfj1FxfRHmG+Q8544Gt5Yb8OU+8fbwQrewBLTyCUS9hxv8Vxege6o/evTpabcxP/Lgw1i/br0CXiLyLZs2bcKf/vQnXHzxxbjhhhtQXl7e9IqIyA/Xuk0bXHDBhejQoYOVvzv/wgsQGxvb9GqjsrIyfPbZZ7jIaX/+75pr8Pabb6Cy8vgvt/Lee+/hkksuwdVXX42XXnqp6VkRERERETkYBcYPoqS0FHPmzMG0Tz+xoDhvR/Xz88PQfoMwtDwOIe7+jUFxZ1w3578Wzdl8P08feLp7oMF57FHTYMHxEYWxOOWM0/D2e+/g7bfesn0oItIcM8bXrl1rGY5paWl2d4mIyI8VGhqKK6+8Am+//Ta++uor/P1vf0NMTEzTq43KysqRkrLH2h62Qeyo89fQBnE7XNuUn5/f9KyIiIiIiByMAuMHUVxU1Hhr/5o1lunc4PzX2jsId3W9GONCe8HH3aspKC77aWiAu4c78nPzkLNqFzrnBKJNeGt89PFHeO3VV+3WZhERF1cNXNcdOV5eXk2viIj8cJ6enoiIiEDfvn0xcuRIJCQkWOZ4cyyzUljUWF6F7Q+nOd7bINcdj+TaJhEREREROTQ35yBaxZ8PsHXrNvz73/fi3ffeQ3V1FWICWuOG/mfjloEXwt3NzTqdlG/jhYLsikLsKcrC5oJkzCvZgvygWqxZvxbdunXDvffeiz59+nzr5FTkh+I3kXd17Ni+HTnZ2UhOSbGLMa3CWqFX7952G/0PDQxkO/NbsWIF9iSnoKCoEBGt2yDUma+H+zfXE+sb6hESEoJOnbogISG+6dlGJaVl2Lxpo7NuO5CekY5WrUKd8TqjS5euiImJbhprf/Pnz0NWVhYiIiLRtWtXREZGWnkRlhzZtSvJGXbb9vXu2xd9+373d6m4pASLFy3C3oxMZOVkI8xZf65D167dEBUV2TRWI/4UMFC9cOFC5OfloU1EhI0XGRlhdXjXrFmD9NQ062vhxAkTbHp3Z19wOmYn7ty5E5kZGcjNzUNNbQ26dO6MDokd0b17t6YlNGK93927dyM5ORlffPE5HnvscZtPWFgYHn3kEQQEsO+GBiQmJiKxYycEBgY0TdmI5Q/4vuTn5WLHziQEBwYhvl079OzVC23j4px5ffuSJesGb968BSnJu1FZWYn+AwbYZ4P7drvz2Vm3di2ynPe7R/fumDhpkgL0It9DXX29dWyZlJSELKet2O18t9k2sQ3o268f2jnfT178OhAzm1myrqK8DAnt2ttxAr97yU6bu3PHdmzbvs35jlago9OO8Dt7YBt7OGxnUpz1YF8xDU47HRMb57RF3Z32JHBfRvUip2189dVXsWzZMvj7+2Ps2DG44IIL4O/nj/r6OgwdNvxb5VfYlrDt2rBuHfLy8pGdm2PtTgenverZsyeCg4ObxmzEDPSiwkJbVnVNtdP+d3HankT4+vrafmIt8DTnN6yz8xsyZtwY53cizNlXjfXP1znLyHDa1CJnfbNychr3qTM92/D27ds1LaGx7S5x2vodbIPT0/HiSy/ik08+td++QQMH4tZbb7UEDw93D3Tt1tV5P9pbO95ctjP/lStW2j4rKCxwfu8i0D6xvdOu9kZkRJumsfZXUVFh7Wpaaor9Fo8aNdra8aKiIuf5TVi7dp1t/4gRI+33SkRERETkWKTA+EG8+eZbuP/++7BhwwYEBgdiXKch+EvXc9E/sjPc3ZRkfyg87c2vLMHywh34rGAVVuRsQ3V5JYKcE8WUPSm44vIrcOMfbrQsLpEfg5l+mzZusiDu6rVr7GSet4zz1vHwsHCEhoagU+fOOOfcczF27Fi0Cg1tmvK7MVi6cuVKfPrpp9Z5WVpqmmUVtnbmy4A774owDCTX1lqg4orLr8RJk0+ypxkI2LJlK9566y2sW7cWybuTkbl3L0JCgiwg0b9/f5x+2mkYPmKEBYSbB4xY53bFyhWIj0/AVVddjY4dO+K99961jinTUvdgj7MuYaGt0KVbN5x/3rnOMiejdevWTVN/g8GbZcuX45OPP8aSxYstyJ+Tm2vBea7DgP4DcOYZZ2Do8GEWVOE6cL1z8/Lwp5v+iM2bNqNbt+743e9/b8F01qldtmw5sjIznXm0wnMvvIDExA7WsduC+fOxyfnL4A6D+vn5Bairr0P79u0t+Hz6qafh5FNPscAT5eTk4OWXX7bavnv3Zlqwn8tnQIxBdGY5cl3OPOtsXHLxJfuCYQzab926FZ988gnmzZuHwsIC7Hb2bVBgIGLj4px91Qnjxo3DxIkM2kfZNC4MhnMbPvrwQ/uc/PXOOzF69Bh8+eWX1rnyVmf9WULrzNNOxwMPP2Sls0Tk8NhWsi+RBQsWYOmyZU4blYpc5/udmpYGb+f73L5De+c73QOnnHIyxo+fYOVNmuPFtptuusn5bldj4MBBuNP5Xs6ePRszZ87ETme+u5N3o6KiEvFt4zHyhJG48MILMHjwkKapD48df/NOtQ8++MDao6FDhuGmP91kQfrZs2bjXaddXe60kQzmczvYFrNti4uLtTaIgekHHnjQWe/xTXOEBZ/nO+3du+++i21OW8S2Ljcv14Lnbdu2xagTRuGMM05Ht+7dm6ZoDNAzwH37n/+M4pJinHbqqbjiyiuxffsOS75gYDzD2V8MKj/3/PPw8fF22vtVtk9Xr15j7WVxYRFy8/PsNbbfDPCfefoZOHHC+H0XJ3m8+syzz2LD+vVISUlGRkamtau8ENClS2cbx9vbB9ddd53zfpyyL4DP4PbqVavwMX/vbF3SUVhcZL93cfHx6Oz8jk6ZMtlpL0fbReDmeMH0kYcfcX6HF9j8uf5sOz902tm5c+dgy+Ytzm9mGG688UZc6WyziIiIiMixyOMuR9NjcWzbthVPP/20BaJ4gB8dHY3hXftjZEAXhPoG7hfEkv3xxCjI2x959aVYU5mCkvpKpKWnIbF9B6RlpFvm7ZChQ63OJ088RX6onUlJeP75F/DE449j6bKllsHHoCy/nwwCZ2RmYuPGjRYwT+zQAfHOCf6RZI4zIMtg+2OPPWaBbc7Xw9PDgrxFRYXYvmOHZfBxYFAkJycX7Gegb9/e6N2nz77gLad/5pmn7XFhYSECA/xRXlFhgWRmJ3P6kNBQC6o398CDD2L58hWWBV9aWoblK5bj2Weften27s2yIEZ+Qb5lOTNw1KdvXyQktNsvS5oZ1fPmzrV1+N///oeUFOe7WFLirEOAs29yLJC1dt1a5OfmWzCHQWVXYJwZkI87+5SBHOcLjdbh4Vi8ZDH++9//Ovtit7PsApRVlOH3v/u983I9HnjgATz11FOWwb1r927b97xowYxBZmTyPeB6du/Rw9pSvgcM9Lz22mv44osvbB+yLeDyGYhiMIf7JtN5/2JiYzF06BC0adPGgku8WOHaJu4PjksMgPGCCC9CMEuRFy5inTaGQS4XTv/5jOn4dNpnlqXZwWmT+N6yrZ/r7CteEOAeHDp0OMadOE7lB0SOAL/zL774Ip584gkrP8e2ht9vBmuLi4vtu8y2hG0A7+CJbQo6u/BOmHvuucdpK9KRnp5ubQDbE9YE590/bEfYnmVkZlhbwo4xTzzxRLuI9l3HYrzr5Z133sYXX35p8/fz9rWLZrwT5ivnuRdfeAk7du6wNtsVXGa5t8zMvbbeDPpOnjwZvXr1svmxPwRezHvC2VZ2yp7ujFPhrE9QYJAF8HnHDPtL4F2FnTp32ncRgG0Pt/PJJ5+0O2UC/P3tgioTMN55+22704kX7nhcdMUVl9vdT//85z/xyiuv2N2LbEeZwc3gPX9LuI+5T7Oc34Nhw4cjJCTU9oUFxp951lmHNdbeu9owzpvbw/aS7SQD8L2d98LPz9d+T7ivH3Xa1fffew+7du2yi8CcH++gYZu/atVKe5/DWrdGnNMmN79oyLb35ZdewsJFi5xjvXSMGDECnzvtOtvV9evX2/sXGtoK48efiJ49G/ejiIiIiMixRoHxZphJ+PTTT+HTT6fZyUtkVBTcPNzRKzIRZ0cMhXO20DSmHAxPpni7rn+9F/zqPJBek4/iugo7MayqrnJOdJPRoUN7K1fAcgkiP9Qe5wT/s2nTkLQryYLLvF2ftWSHDRuG8PBwCyAwyMIAs5+vH3r26IHwg2RWH4gBWQaip06dap9bZmxfetlluOD889EuoR2ys7Ms4MMgSg9nnsxG58Wevv36WiYiAxCPPPKIZUQza5uZfRMnTsSECRPRz1k/3grPgMq2bdss8HLaaafZLe2uIA8Dxgx8cP4sAcCsxE6dOqFf//5WZoC3qTPwRHuzstC5S1f06tkT/v6NwQpOt237dvz1r3dYwIPzZYY6sx4njJ9g2YZl5WUWwGbgqaK8HJMmnwTPpmAVS6+8//57th9CgoOd/ZdqZQbY2TDLILFUQLeu3XHRRRdae/i6s74sncKyJwy2DHX2BZfHbMTysnJUVlVapjqzsUcMH27BIu5XtrUMSDFIxrIGxIALg17cTm4z6wL3dZbJLEVeCGBQ/I033rD3lfM54YQTLIuRtYM5HwaOuN5bt26xUggsveAqicJpFvHugjVrbLyq6krMmjnT2iS+RyzDws/PyaecbBmSunAn8t2ynTaInVu6vkf8DvH7P3jwYGur8vPznO9enbWLvMDFdrh51jEvTr3++usWmGYwlxepGNDlRUa2N2xT2Y4ywMp2o6ioGEOGDEGclUw6/N17ruzujZs2WTvYwWn7ppw8xdaD7U9tXS28vL2sPWDwmMvlHS6cP9sgtv1Tpkyx9oXLnjN7Nv7973/bnThss/lbM2HCBJw4bpzNk8vjxdmMTJbNCsMAp/3hOnL92aZ//PHHNh8fbx8sWLDQMtV5sZC/I9xvo0aNsjaNweuXXnzJ1oeZ52xXGXDmeL4+vnahwILkzj4JCwu35bCdY1C/uLiEzbIth+NwHsxm57zZrrH95l01bK/5W8SLGffddx++/vpr22e802bMmDHW9nLdGurrbT5cf76H7Z3909GZ1vV7xffli8+/sN8SqnW29bNPP7XfBr6HbMeHDxtu+1F3CoqIiIjIsUqBcQeDSTzZYOmE55573k4CIiOj7Pbe8sJSjG0/AIODOjaNLYfDfenv5Yso71ZAZR3m5W6wTCaeQFF9Xb2dBPKk67tObEUOhZ8fBlYZZLnmmqtx25//jMsuvdRuET/ppJOwafNm+x4zQFBRVmHB4+a3tx/KLN5i/+67Nm1YeDguvPBC3H/ffRb0YXae8wm3mrgMgjAw8uc/346LLrrIAjgMIDDAwHIADBwwyMDm9ZZbbsHESRNx4vjxVhIgaecuqxfOz3+P7j2s3IArEOvK8OZrvAV+9OhRVmqAy7n8ssssSMIyA/w+McM7sk0b9OrTe1/pED4//bPpFtxnUCTBWS/W7eat7MyEdt1C35hxnYG6hnqMHTsOrVuH2zozsPLuu+9YgJmZg7zjg6VaLr74Ytx22212Gz6D/NzvzED39HBHXEwcLr7kYtxy66245JJLcPrpp1sgJiU5xYLUDAwxc/7888+3IA23i/uOARhmjC9dusTWnYGTWbNm2S333KeDBg2y5TBoxQsVzzzzjL2fQUFBOP2MMywrkfWAOd8Y5/PAGse82FBQUGjT9GbN8bZtbd4MjC9csAArnffOlUHJusgTJ4zHn/50M/508812kYLvI2v/ugI/InJoriAzM4l/97vfWS1rfndPPfVUuyDIrGFenGQbUFhQ4HynB6NDYoemqWEZ1LwYyO8b20AGvC+//DL8+fbbrc3id5JtLWtfcx4ch6WTTnDaF9dFr0MpKS62QPt65/iDxyXt4hMwecpkW2euw6mnnWpB3tUrV1k7x3bx4osutIzwK664wraDdxpx3RjAZ9s8fcYMax/YNjED/KqrrsLoMaNxirO9XB7vKEpNTXPG8bPgMtsvtj2cnuVF2PZk52RbO33CiBPwf9f8H274w4248je/sYuAbNt4p0t5aTl69OiJ31/3e/v9OPvss3HmmWeiR7fullG+a/cum29ubo79RvGiItvPk0+egs5dutiFRAbeua4nn3yy/aZxe9hWMijOkiy8eMyLjTOcbeJvKfuz4PbwjiEu65xzzrEEBr6HvBic6ryPAQGB6Nuvv7NdjWVYuB0zps+wjHKuD9v5QGcbuP/4e/Gb31xlddv5+8TfIxERERGRY5Eikw4GmBgoYuYSb1vlCRczoHbuTkIXvxhM8PnugJo04kkks8ZDvAMwIKYrukS339dZIV+bPWcOvp45025LFvkxGBBgcOKMM8607GbiCT5PwJlJ7Kqhmp2bbZ1nHgmW+8nNbszIZlB16LBh9pjcnM/x5CmnWLCDdrJTzdRUe0wMaDPbmpiNd8H552HSpEkWCHZhcP2UU0+2x/wOfDj1QwsoHIhBIGai3377X3D22efY9jFYzkzGUSNP2FevmxmZ5aWl9pjY0eebr71u3zUGS2644QabjyuIxHkwe4/Ba2JgY8GC+dYGHojBJFew5N57/2UXtBhoYRDddVHrnHPPwz3//hfOOPNMyxDlNNwe7vvxE8fbPiOOz8xwbpcLl8nxietL/LdrcC1jx46d1nEd15XjMbBz1113W4DLNS4D5axHzqx+2pWUhM9nfG6PD8TxOR+WSbjzzr9ZEC+sVStbZw6udRGR73bttddaKQ62da47wVzt8BnO99L13GbnGCsrO8seHwzbzN/+9re46aY/2YVMliRhWzti2HC7gMjvbZ3TtrAE1NHCedLB2p/mGJifN2euPWbpqn/84y7LvnZNx3bxzLPOQu/ejR1MMtC+Zu0ae3wwbMOu/f21uOqaq9C5Uyf4O20120/i/vrLX/+C/9z/H7t4yHmzrWRQvW1CPIaN4AXaxot9LD/juoOJ7SX/srSLn1/j7wM13ybXeDTHORZbvmzZvsxy/mbefvvt9rvB8fibwYA9+8Jw/d7MnT0bs75qzC4/EPcF53P99TfgD3/4o/1etHF+K9i28r0VERERETlWNR4ht2CukwWeHDCziX8ZcGHmTmhwCAZ06IFu4d/0/i9HpsGtARHuQTjVpw98vRozMLmfeeK0ZPEiJCXttH+L/FDMHuTgqmnNbOE1a9fZnR87t2+z7GIGAZjR6CrX8V1Yn9oVOODns3kglxjwcX1u8wryUVr2TVCay2FnacSgwoCBgxozJQsL9w2skctAB3G90zLSDvk9iIqMtNv4+d1xDdzeqOiofYHuvNx8lJWW2WPi+qSmN86T4wweNMgCKM3XgfNxBTpKi4uxaV1jRuWB+Bxv4Z88eYrtk+brwYH4feZj13vATGzeIcISBqyDy3m4xmUQh+2ri+v55lzzbj6w01FmKxKDLCeMGIkYZx8cON6AgQOtti+xJAz7NThUwL9N6zaYfNJJFrw5cD4cROTIuNoAtreuuuIrV6620iHLly11nq/a951icPdgbQ2xjeGdOWybmn8XI2Oi0S6xvY3DadmmHmoeR8q1Pq6/zTVfNgcuiyW7tu/cYa8HBPijs9POcFubt6uhrcLsuJHKSkuRn9t4gfVAbJMuv/xya1sPXJYL224ulzXA+dvFDornzJmLzz6bbn1EuHBeBc6yuU8ONa8Dn3cNOdlZVn6F4mLjMGTQ4G/te74nEydNQnRMjI2Xk5frDAffLo6fEB9vGeKRkRH7zYeDiIiIiMixqsUHxollVB599FHLFmfgiR0KsYO7YeHdcU7syKax5PvgaWuQlz9GJfTD6GEj9wUDeav04iVLsXDhYuuMUOSHYlCAwfD33n0PF114Ifr164dTTz3Fbj1/7fU39mUYE4M2R6Jjp06Iiom2x3k5udi6ebMFwxl4qKqsxLx5c+3WfuratYt1JufCdoT1YYkBjYcffhjnnnuuZSS7BpYGYEeWXC8GPrgNhwryMCjhCtK7cLqIZrelc1rX9PzLLPT0jHQbj+vzxz/+EWecfvp+63DWWWfZ3TFUWVWFPemph1wHlhbp1KnjIQMbXP+srGy7Vf+cs8+294CZ2MwiffXVV+114vzZrlZWVtm/vw+WRuFFB2I7wgsDrkB9c2Hh3wSmGIBnBj/fq4NtW0SbCISHhVt7LyI/HNtGJhW8//77uPrqq6wNOOOM0/CXv/wF7773nvNd/OZ3vqSk1Nqcg+H3+WDf6+btYJXTjh/uYuJPoays3Gl/CmyZXA+WKOHdSmzLm7erl116iXXcTOWlZdb3wqGwM2dXhvjB8DcnJWUPnn3mGatjztJTl19+Gf7+979h+vTp+9otV7vqame/jw0bN1k/FcTfvI5dOh+0nefFCtcdWfxNZR31Q+1/vvfssNn1fomIiIiIHA9a/NEr68xmZ+dYxg9P8FgLkVkzDfUNaBcUiZ7hiT/rSdivRQND4845VrhnIC4IH4bzTj8TgUGBdsLE/bxmzWok7dzZNLbI9zd92me48oor8efb/4x58+bZCXuxc+Leq0dPTJl8kpXFcH13j/Q7PGTIYOvMk3jb/xtvvIl777nXOil79JGH8dCDD1ggggYOHITExG/6HmA2pCtAwb/sPJP1yFeuXLlvWLFihdXVPVSg+btwOgZFXNPzr+txdU0NioqL960DM8VZH7b58l3rwEAWp/Px9kZ0RGN98oPhslxB+IP54osvcMUVl+PPf/4zFi9ebB2DMguRZWhYH735etbVHfoiwOHk5echt6n0krevLyIiI/fNt7mQ0FZWA5e4nOrqGpRXVNq/D8TtUvBG5Md79513cOXlV1h9cbYH7Ni3orwC/fr0xaSJE600hwvbph9zPMVp2cHjj5nH91VSUrzvYijbHV5wXL169bfaVQ55eY2/DdxO9qdyKIdrf3hR77+PP2YXGv9z3312Bw5riQcHBmH0qNEY0L//vjae+6H+B+4P1wVfOlQ7z+31cp53rSuXw985Tnsgjuvt7aV2VURERESOOy3+CJb1r9m5HE8KeNDPW1idUzec1H4Izu9yIryd11kWRL4fN+c/Bsfdnb9+NR5YvHgJysvKLcOXZReWLVtmpRZEfoiPpn6ERx59FHPnzbVbzbv36IEHHnjQAjNPPPUkfn/d9QgPD98XQDhYIPVgQkNDLduZnZ3x5H938m48+/yz9tzTTz+D3buTLft8yskn47TTT7cOz1wYiGdNbvLx8bHO4x588EE88sgj+w3s8IwdvDFznJ1qctyjgQEMdkznwlq199xzz7eW71oH1md/6OGHccVVvzls8PtgGHRnR3T333//vosSXbt3t/eE7wE7qrv++uv3tavE9+BI34fmWKM9qCngXee8J+zk7mAqKsqdtuWbQDiDPYEB39TaFZGj67Npn+KFF1/E4iVLLJu4X7/+1q59/sXneNz5e/0NN9r3t3k7/EPaABfX9D9mHt8X2/WgoKb2p67OOuQ8WJvKgR1XPvXUU7j3vv9g8pQpNs33wQD8e++/j+eefwHrN6y3C41jx47Fi84+fue9d5329j6cf8EF32pTf8j+iGjTZl//F+VlpSgq/Ha5MS6H2fLN77hivfDv+3shIiIiInIsa9GBcR70N3ZglGZ1MdnRE2/Vr22ow4DILhgY3R11DfUW5JXvz7XfeEoc2SYKMTExdmLJk2SWrWFg3FUiQeRI8Xs7e85su7jCE/a+/frhn/+8B1dccYV1INajRw/Exyfsq8P9fTDAUFxUjLzcPAtYx8bGonVYa8uCjGgTiQknnoj//Oc+3HXXXejXt+9+y2CnZ23j2tpjZs1FRUVbp5QXXXTRt4aLL74Y559/Pk444QQL4B4NXGarVq32dYLJ4MWAAQNw3nnnHXIdzjn3XPQf0P97Z/mx3Zz6wQdYs3atXegaP36ClU64/LLLMHLkSPTq1cveg8MFbbiOHJo72JjMPo9PiLfHDL4xg/JgWMYmp6muL9871rl11cwVkaPvww8/sjtQamprMGTIEMsav+SSS61+drfu3SyI3Pzi2LHKtX7s8PNAzHhv3oEyH3P7LrjggkO2q+x0tGu3bk1THDm2b++9+67d0UNcxm23/dl+KwYOHIjEjh3trsbDObBdPVT7x4u6gU0do5aWlKIg/+D9cPAYzVX+hu0pf2OUFS4iIiIivyYt+uiWt4SuXLkKs2fPtvIIJ4waZYGuyrIKBHr5wd/b95g/oTvWebl7okt4PBJi26Jzp852YkXMxt21a9e+E0CRI8Xs5NS0VOdkvTE7mMGXSZMmoXXrcPs3ZWZmHvR27+/C7POvvvoSq1evQrdu3XD77bfjgQcfsAxvZuv9/R//wG9/+1sMGjhw32fZJSg4CJ06NXb+yGWzHnmt85cX3A42MBPRx8f7qAZuGbTo1q2rzZPtG+v+MvB+sOVzCA4Kgq+Pz/deh8ZySGtQ0dSZZv/+/TDaaT+b181lwPzAIE1zDF4zq504Di+YFR2kJjjf3/iEBHtcUlqKDRs32oXMAzFAt317Y8d0XI9uXbsetYsOIvINfkcLi4qxOzl5X4e6LEE1ceJEpw0KtX+Tq0TdsXpxytXucP14kXVn0i7nuaYXmzAIzIv67JeA+Pvz0UcfWVt7sDaVA+/cYVmR74tlWtiuutbplFNPw4gRw/cLzJeWfdOB8cHwd8nP75sOnpl1frA+NhLatXPWtfG9ytybZeVhDuykmvvn02mf7mtvY539wPZYREREROTXpEUHxhm82rp1qwWPWBeXWZDM2GFw3Nffj2cFx+wJ3fHCy8MTcUFtEBAcgLz8/P1O0Jg1nrx7d9O/RI4MgwbNg6cMviTtSrLHxSUlWLZ8OZ5//jkLCHzfzLadSUlYt369zYcBBmafTzl5imVdT5p8EoaPGLFf4Kc5llGZeNIkC3gzGMSa28899xw2btxo6+ySnJyMuXPnYIvT9jiNTOOTR0l827bW+SWXz8D41KlT7dZ+tnOudWCwZMuWLc46zLXnDwxEHynuW1f7mLw72Wqnc7lsSxctWmylWg4XFGMAqU2b1vaY43B9P/v0M+Tl5aPCecwOTDk9s/b79ulrnWXy3zt37rSyBazhzkA5x//www/xobOtGenpNr+EhARMnDTRHovI0dUYUN6/tjUDxuw3hM+VlpVhwYIFePrpp608yLF6HMULc63btLHHPDZZvWYNVqxcaQFqy5R22iEaMmQoxowZY4/ZwfHbb72Fqe9/gPSm9oas3Vu4EPPmzrPfnh+C/TAwOO1qq7c4bRzvViKWNPn002l45+23D7s/Q53fJ9cFRx7Tsr38fPoMZ/3KrMNzbhPnz7I3vKOIHRaXlpbg65kz8cwzz1inxXz/GAx/5ZVX8OUXX6DI+Y1lCRXug+HDhtm8RURERER+LTzuYk2AFoonCCtWrMTrr79u2YsMquQ7Jz1xiQk4tctI9PJva/XG5cdhaZrU2jxMW/gVispK9mVx8kS0Y8eOVk5C5EjxuzpnzhwrxcMgTI3zOcrOyUHqnj2YO28ePvjgA7zzzjuWycjgLcc58cQTj+hzxqDArFmzLMjL+Rbk51uggstau3atDbzTYdu2bRYI4kU0ZvMxUMEyTKxrznmw3AeDKwyKM8DCMh98vGTpUkz79FO8//57SM/IwPBhwy3g4Ap0sDY3p6c+ffpg3LhxFkB2YaCDwRsGnRiIiYmOxvjx45HYMdFeD3DWhYF5rieXyeAyMxBd67Bp0yarCf7Jxx/j408+sQAOgx2uCwjFxSV49913LOOeWBaF63Bg5jUDKwz8JyUl2feYgRMGjFJT07Bw4QK8+eabNh8Gsl0BdNbK7d+//76gDUssMLA0a+Ysy/7nuHucbS8sLrbOebl97P+Bdd8D/QOcdc22QD6f5/bx7/YdO53lLcQLLzxv28l1YakBljRgGQLXdnG/LXT22cpVq+xzERUZhXEnjkPnzp3tdRH5frydtm/mzJnYuWOHdYjJ4Gp6Rrrznc7AfOe79tZbb1k7zAtxrnZ40qSTMHDQQOsPgdjOvvbaa9Y+sB0866yzkJiYuF+JKvZLwu842y4+z9JKF154oY1/OOyLgBf/1jttMZfdLj4Bk6dMRpumQDi5OevFNmj+/Pm2DmwbePcgg8J8juOyPWHw3NPTw9p1BqpLS0qwdctW66CZbSA7OeZv0uuvve6s6yKEOb8D3bt3t2Ww7eHFUF684zEn1+Xcc8+1i64HKisrxVdffmkdDjujIc1pT1naa4ezj/m79PLLL9lFVa4rB1685T5r167dvrrfbKs3rN+A1U5bx+QPLnP3rt3Ic37HVq9abR3Os4xKG6dt9fXxtYukvAOLF5j5G1Xs7LfNm7c42zPbLuxy/7O9Z6mc6667DoMHD7blEBNJZkyfgV3O+8jt6tGju/N7Mta2X0RERETkeNGiA+M8Afjss2kWUGEwiScUzJSZ3G8UzugwEm3qA9BwbCY6HVca6upRmlWIGUlLUFJTAXe3xkAZA1vxzgndlClTVPJAjhg/KwzCJiXtsr88oV+1ahVmzJiBObNnIyU5GYMGDYaHu/N9dj5jPKlnUHbUqFFNczg0Brd37UqyYAEzkRnw+PTTT/HJJ5/sGxig+Pzzz7Fy5UoLogQHh1jwhMEfTs9sZQa3GWRhQJpBXHZIyflwHZcvX+68vgf+fn6YdNJkZ/og+z7QSy+9tK+8UM+ePS2g3zwwzkAHt5UBH86fHagxMN6xU8emMWAZgLzdnfNhUJ/BC7ZxXGeuw9dff23rxIAQAySnnnqqBZwY2Chy2sS33nzTgv40bNiwgwbGOW5tTbWzn7ZaXe+i4iK7eMDtZGmqgoJ8C+z7+fvbPmDQe+zYcRYYDwxsDIxzm7nPcrKzsXXbVgug7XWWO3/ePAu4cfs4PvdtRGSErSv3N7eH7zm3afbsWRbA4vpyXtz3l1xyCX7zm9/sV9aF+23+/Hl2NwEDRa3DW1tgnOUfROT7cX13qyqqsHPnDvve8nhq3br11s7MdtrIrL17LYha7/z+l7EddtqMCRMmNgbGmwLfvMj42muvWXvCNuZggXFepON3nNnTXG5cXNwRBcaLnXaC7cPateus/UloG293/7Rx2hEXXqTj78OSJUvst4RBbF70ZBvPZbI0Vu/eva1dZzsUGtoKycm7UeC0P6lpaTbd9OnTrV3lNLzjqNppF7t06WxtJ9eXbQ8vAPDORF6oJHbuzPb9QK79umnzJqedK7a2c/GSxfa7wfaL+4gX87jOzMTnReIDA+O86MD9yd8gBuTZru5J3WPvyddff2XbMmToUCujFevsS64f+9lh5+j8veDvE7eFFz7ZznI/93DW9Q833mi/NVymC1//bNo0Z7t32j7u3r2b/dbyArGIiIiIyPGiRQfG2dnQ685JGW81ZWCnd8/eKK+uwG+jJ2FixEDUOv+p480fjyfEuVXFmF+wGXllRWhwTup4AsiTuy6du2DU6NFWk1PkSHV2PjfsFI2BUgrw97fs4g4dOlhm+AMPPoigAN4iXgo/fz8LMLPzsu/CeZY4bQHrWOfn5VvGIAO5AQGB8PH2hq/zOgOrDEowsMzM7fLyMsumYwCbwQnWox09ZizcnbajqrrKmWdjzVcGrCMiIp3XozFo0CBccvFF1kkll8nvAzHrkPNnYIFBJXbyxulcGHxgMInBf2YLdu3S1VnWmP3qvjKQ0b59e/Tr18+CyJx3UFCwLYd10FnyJTo62vbT1ddcg/bt2u0LRFVUVmDpkiX23eQ68GLC0KFDvxUYZ/Cme48eqKuptbIz/DfXk9MwmMTO52677TZbL2Zfsh4vAyYMBjWvzc7xGZxhNjuDOQxUMUM8LDwMcTGxGDZ8mJVS4TZwXkOcfeLu7CpmtjNTn0GaUGfe3CbO+9prr8VVV11l70Fz3G9btm6x7EcunwFxtjsMKInID9OpSye7S4MBXLYhTDDgBSl+r1hv/L777rdjqPKKcvu+Tpw4Cb1699oXxOUFLWaD86IX2yRepOP33PU6MQjNYzQGbRmcZmDYdTHvcFg2hBc4uW78bejRoyfGjhu73wUztiv8N5fPeulsw9imsL3ic71790HXrl1su9h+st3gwHXhOtrzvr4IcdqsxvF74+RTTsEkZ9td7RbbUv5OuRIwuDy2j67+KJrjsjs521dRVm5JGt7OvxnA5u9Qj+7dceWVV+I3zuDp5WlBaV4kOMVZHpfVfJ9FOfvS3z8A2dmNFwy53GDn9yna2X/t2ibghFEn7Pu94sVH/o7wDie2wa59wPVkO8pyK/+85x5MnjzF9kFznGb9unVW+or7mPPiXVBsw0VEREREjhduzoFwi6wVYhk1ySn4v2uuwQLnxKy2rtYylRo83PDvXpfj7PgTUFtf2zS2/Bjc19UNdXig6ks89+HryHZOhhloY3YWg2X3OCddDACKHCl+pjgwSLxg/gJkZKSjXYcOGDnyBCsv4uHhjr1Z2RYYqHJO2hlsYeDluyQ7bQLrV7/xxuvomNgRp512igU2WCogZ2+OPU7PTLfAOYM6zMZjQPa2W2/BpZddbvNwNakcl52abd+2HevXr7HPe6dOne0WewY0mLnn4gqMM5DDoDsx0MDxmmdGMsCbkbkXOc52cX7sPC0mNuZbF5Zc+4dBK2ZAZjrTbN2yyWnT6m0devboYcGU5tl/xHlu377dAh7EfcbxGFxpzrWN/MtSAsxAZ/CHwSFmijNzmxiUYl8C3BcMsjDA03x7XOvJQNPCRYusTAH/zXrivGjWvkO7faVXXMvkNjFbkxmkGzdsQFBIiHW0yYsM3Gfcl6796cLlM0DPkjvsEJVBIq4Pg04i8sPwO8nvFtstZosXlxRbELZP797o6nwn+T1ke5Wbk22ZyWwX2Ea4vp+8cMf2iXhMwGMwTt+8vWGWNS9ouep2s81im3vgxboDVVVVW7mq/LxcW89WTpsS57SVzdtd4mscd09qqrUpmzZtsMxwdr7MgW2KK+jMcTnwguvWrY3ltDY74/sFBFobxPXi9rnWn9vJ/cM2ne0k21diUJzB9wNx3sR2nqVjWLqF/Shwv/V22je2x5wH20lm0vPiAPcZLzo032ecD+fBu4ZWrVqN/IJ8218sIdW3bx+7wNB8m6isvNyOiTdt2mi/AbzYyHIvHBgsP1i7yraYpXPy9u3jMMTGxNqFYBERERGR40WLDYzzpIG3irKjOmZo0vAhw1BUWYK/d7pAgfGjrLKuBrfseR3vzf3M6hHzJI4neL2cE8lbbr0FlzUFFUW+DwYd+F3mX36mePLvOnln0+Zq3vhc88DBwXAed955p3UY1yokFDfeeCN+f/11Ta9+E0DgeC+9+AL++8QT2LkzyTLrbrjhetx11932uotr+RyfA3EdOBwsyEAcr/k6Hziea56HG8fFNY5rnt+1Ds3Hdznc/F04Pt8DTs/xDvceHGxertftfeTjpvk0X8/mXPN0LffAcQ8cn1zTuJblGu9g44rIkXN9FznwMb9Tru+j6/VDfe9c07q4pmn+vXRN75oHub7rh3PgdAcuuznXeEfSprjm59reemd8Z4QjGt/lu9bftS6uZTSft+t113z5PB04P9c4zdtmDgdbR+I4rmVy4Otsyw81f3ItgwO55nuwcUVEREREjlWHjxT9ijEYzgxCnjQQD+RXrVltGY46qP8pNCAtPc0ybJvjCZjrPRD5vnjSzqw5ZhHyb/OTfj7miX3zk/vDKSwqxrbt2y2LkSVHwtuE75s3B2Yauh63jogES6RQXGwsOh/ktnjXOjAzj1nSHPjYtY4Hc+A6HzjewbbrUPPi8xw43pGsQ/Pxj2T+LhyH+4nz/q734GDzco1r69hsPpzmUONzXhyf78WR7FfXNN9nu0Tku/F7xO9U8zbA9d39ru+da1rX4JqmuQPn4Rrvuxw43eG+865xj6RN4b85cJ7WZn2P8V3DgeMcyDW+a582nzcHPm4+r4PNzzVe8/flUOtIfM61TNc+ONz8ybUM17ocat4iIiIiIseyFhsY93BOEIKCGzu144E8SxawJAFPBuSnERkRtd/+5X7n7cCuW6lFfkmBAf52ck/bd+zABx98aCVCml+44W39n06bhieffNJuNyfWhO0/4Lvrl4uIiIiIiIiIyLGjxQbGXZk0DM5y4GNmi4cGhyIwIJD3iDaNKUeDp5sHJgf0Qs/YjvDx87VMcb4HhUVFSEnZ0zSWyC+HbcDI4cPQrl2C3dkwf/4868iR5ZYuv/xyXHrppTj55JPxl9tvx6qVK20cdqJ20003WWeXIiIiIiIiIiJy/GixgfGK8nLsSUnZr/4is0F5q6mXMygwfnS5Of9FIgiVpeXWCZfrggQD5AeWVxH5JfDzeNZZZ+OPf7wJQ4cOtY7FmDH+9ddf45133rFh7ty5dofDsGHDcO+991pN8kGDBtmt5yIiIiIiIiIicvxosZ1vsoTHCy++iOefe856+Pf390dZWRn6DxyA+/pcibFBPVDboNrXR0tdfT2WZmzC/339ALYXpMLTw9OeZwecp5xyCt5++x0EBgbYcyK/JLYHGzZswLZt25GWloqSkhJnKEVoaAiio6Ot1njfvn3Ru3dvtGrVqmkqERERERERERE5nrTYwHh6ejqeePJJvP7aa8jNzUV8XFukZ2agV5/eCoz/BCwwnrkJf1n5ElalbUFtdY2VUmFg/MQTT8SLL75kJSxEjiVFRcUoKSlGeXk5goODERkZaZnlIiIiIiIiIiJyfGuxpVRcZTxycnKslEpgYKB1vNdCrxP8bFx13ZtjcLy8vKzpXyLHjpCQYOuYt3PnzoiKilJQXERERERERETkV6LFBsZZW7yqstICXXy8dv06K6XCLGb5iTQA2TnZtt+1n0VEREREREREROSX0mKjk+xYLz8vb1/Hm61CW1nHm/syxpU5fvS5NWbqO//X9EQjBsk9Pb2a/iUiIiIiIiIiIiLy02qxgXEGY318fK20BwPi/fr0RUBAAGpqaqzEyoHBWzkKGni9wf6v6YlGPj4+CFUnhiIiIiIiIiIiIvIzabGBcdYU796jB2JjY+3faZnpFhTPyslGcWmJPSdHmRvg4e5hFx2a13LnhQk/X5+mf4mIiIiIiIiIiIj8tFpsYLy0tBSbN21EWlqaZYhzYLDW9VcZ4z+NmJgY+Pv72z52Bce9vb0tW19ERERERERERETk59BiA+MMxLbvkIi6usageHp6Y8Z47t5slJaUOmMoMH5UNSWIZ2VnobKp01MGxhkkj4qKUmecIiIiIiIiIiIi8rNp0TXGfX19nUeNAVp2xskAeW1trf09sNyH/Dh1bg1Y3yoP+fVlqK+r2xcYJwXFRURERERERERE5OfUYiOSQUFB6NmzJxoa6uzfDNRyoD3FWcgtz4d707/lx2tAPXaXZaGyrgbOnraLDxFtInDylJMxefLkprFEREREREREREREfnotNjDu4+ODLl06Y+jQIfDy8twvO7y4uhwVNZVN/5Kjgfs3PTUNVVVVdgGCgfHRo0fjlltudt6DoU1jiYiIiIiIiIiIiPz0WnQNi8DAQAwfPhweHh4WqLXguBuwsSQFu8uz4eamEh9HTYMbkvekoKKywvZzfHxbTJg4HoOHDEFwcHDTSCIiIiIiIiIiIiI/vRYd+WXmsn9AIEJCQtGqVSsLkLPMx/yM9ViXlwR39/0zyeWHqauvR3ZpHnLycq2GO/dp27i2CHD2fWFh4b4SNiIiIiIiIiIiIiI/hxYdGPf09ERMdDRiYmIQEhJigXF/f39Ul1UguyDXyqkoaPvj1TTUYnH5dlQ2VNuFB2KAvLysHKWlpaira6zzfrQw+986UBURERERERERERE5iBZfSmXUqFGoqalBeno6qqurERoaCh9/X2wrTnOGVGcHKTD+YzQ4/9W41WN1UBYq3ev27c228QnoP6A/4uLi4O3t3fTs98fsc75vZWVlFmRnDfPKykoUFBZi7969NlRUNJZvEREREREREREREaEWHRh3d3eHn58fsrNZT9zNhqysLFSUlmN1dQqWV+6Cu5u7BXflh2GGeH19HVJTUu0CBPn6+lqWPi9C/FgMeOfk5GLr1m1Ys2YNduzYgfSMDGzcuAkfTv0Qr7/+mj2fumePM14OiouLLZCuQLmIiIiIiIiIiEjL5dbQwiOEDJaeeeaZFhzPyMiwbGPibrlhwDl4ePQNzuOjW+qjRXE+XZlleRj6zrXYW5qPhvp6TD5pEv5yxx0YPnyEXZz4Mfg+sWzK3qwsbNmyFampeyx7nMFvlseJaNMGq1avxvbNW+Hl5YWefXtjzJgx6NC+PXx8fKx8DkvqWH35posjIiIiIiIiIiIi8uvmcZej6XGLxMBqfkEB5s2bh+DgYKt3zaAqg60xga3Rt00iwv2Cm8aW76uirgqLMjZg6vZ5qKptzNS+7PLLMXHiJCtl82O5gtkBAQGIi41FfHw8vDy9kJmejuzsLMsenzF9uvMe56NtfBwqKyqwfft2vPzyy/j040+xbds21NTWWRDd28uLM2yac+O8RY51rmubrotE/Nt8cNXc52PXeC76jIuIHF7ztrN5m3rgwONH12PXeK5pmlO7KyIiIiJy7GjxGeMs77F6zRqcfdZZlj3uOpkhfw8fXNFzMh4f90fUKWv8e3NzPll7a4vwt51v4d05n6Kyqgpt2rTBM888g9NOO82ytI82vnfM+mfWODv4LCgowEcffYx5s+dg/aYNzolrrTOWm10EYRmd2JhYtI2Lg6+vH/z9nX+3jUXv3n1xwgknwNPz6K+fyNFWVFxid7zs2ZNiJYPc3N1R53z283JznO9DA3Kzc1FTW4MOHRMRn9AObVq3RlRUpDNE2QUlERE5NPZdwjY2MzPTSrdlZKRjy6bNqK9zjhXd3JCZlWkJFbm5uSgqKrIL7fFt4xEbG4PIyEhERkejW9euduE+PDz8R98pJyIiIiIiR0+LD4xz8xk8Pfnkk62USl5ennXWyBMXBlbHtxuEZ8ffgviQCKuXLUemwfnPEx7YVZyJMdNuwt7cbNvXZ59zDv7+t7+hR48eTWP+tPge8oJHZkYmNm3ZgjznxHXF8qXIyc5Fdm4O9u7NQmvnRLVjh0T4+vkiJjYafv7+yM7KRkREBNo4w5Ahg9G7dx8FEeUXl5G5F8uXL8OmDRucvyvg7eNtNfvLyssR5Hw+o6Kj+OVzPvc12JuRZRmMyQyYp+6Bh4cn2sa3RevWra2MEDu99Xc+65FtIu3fw0eOQNeuXREWFubM06dpiSIiLU9JaRmmvv8+knbuRMqePUhLT0NQUJCVg4uOika37t2bSrC5Y9PmDSgpKbH2dvXq1SgqKsaAvv3tmMLH28eOKRLax6OqvMou0LO9HTZ8OLp164Z2Ce3QqVNHK/UmIiIiIiI/vxYfGCdm+jz22ON44YXnsXv3bgvgMjDOk5y48Cj8btDZ+HP381Dv/CffjUFxD7gjq7YYT6ZMx0OfvYTa+saM+yefehoXXXiBZVT93Kqqqu2iR4Zzgpufn4/cvDxs2rQJybuTkZOdhbSMDAQE+MPdjZdA3JGQEI+g4CDsSU11pnZDx8REDB4yBAMGDGgs2aITWfmJMQNx/fr12LF9G3Ym7YKfrz/2ZmY6bVQdKp12q7q6CkUFhc7H0x3R0ZHO5zcQebl5yMjMQErKHruDwt/5TPNzz3aOd0i4u7vBw9MDPXr0dKaJsfJChQUFFrzhXR1eXp6IjIhE3759MWjwIGec6Ka1ERH5dcrKzsGqVSuxfcs2rF67GoWFRRa4Likqdo4Ld8HT2wMeHl7Id9pXNw939Ondx44hsrL2Ou10jtO+1jB53Dpw9/TwRGxsHHJzcuDpHCdER0U5xxMJdiEyOyfLji+7dOuO8LAwOxYpLS21i/AjR45Ev379Edbqx3dMLiIiIiIiR0aBcQcD4Dt27MSVV17h/N1hpTgYSLI6kJ5uGNNuAF4ZcxuiAlpZdpB8B+cTxXriMzNW44YVTyMzPcMuNjAY/tHHH2PkiB/f6ebRwHXiSWlaWhp27UrC1q3b7HOwbcsW1NTWWtCR2bPbtm+3LLFePXoitm0cwsNbo1PHjvD180NERBu0jU9AaGgIWrVqZSe+Ij9G5t69WLN6NVauXIni4mL4eHlZkNvdk5eb3FBcVIyMrEzLRvT384e3p5cFtb39vJGdnYM169aisKgQVaUVCAoLsVv32cFsUWERPNw97LPs7fw7IaGdfSfLy8vh4+ONstJy9OjZE9U11aitrkZIcAiCgoMRHByE7t26Y8iwoc7nPNQyzUVEjnds+9auWYsVK1ZaMNzHaduqneO/vMJC7ElOweDBg5GZkYGs7Kymu3HcUFNVjdSMNMRFx6LIaZ937tppFx1DQ0KR0C7ByquUl5WhzmlndybttGNJlm7j6yEhwY3tp3NoyUB4u/h4C4rv2ZNmd/P07tPXOeR0R2irUIwYOcI5voi0YwvVJBcRERER+ekoMO7gLmCt8fvuuw+LFy3G2nVrG7N+PD2dk5s6RPqH4f96n4o7hlwGD9WG/E4M3iVVZOGRzVPx3Lz37KTO3cMDZ55xBu6//360b9++acxjS6FzMrxu3XrnM7DQTmq3bNliAfzIKOeEuL4BSc5J7voNG+xEt2vnLggLD0N2Tg7ato23k1duV7duXdG3bz+bhhdcuO3WqafId0hLS8fWrVvwxRdfIC01FcXFJXbHQmREBLZt226BmZSUFNTX1mHLzm1WPoWBbX7ueoa1R7RbMKrLK1GZWwI3ZoV7eFpQnJ9BhlW2ZuyCR00Dcn0qsb0+G27OZ5rtXkV5hdPWeaGsrBSjR47idS3k5+VZ8DwiMgrx8W0R1irMvgsM5nTr3s1KrrBGv4jI8YbZ4GvXrsH8+Quwds0a65PBPzDAfqvLK8qddjcEezMykZ6ejpLiYmvr/AMC7OI3S59UVFWgX59+qKqqdB5XWl8OvJAYGR2JSqc9LXbm7xwsWjY52/KS0lK7e4fHmiztxna83DmOiI2ORqjThlfX1CI2LhbdunazY0yO165De6fN9UBiYqIdV0Q6bTHv5hERERERkaNLgfEm3A0sWfDUE0/hq6+/sgwhBo0YVKqtq0WnVnGYc94TaOMfAndljR8S96OXhzfm567HVYsfwe6duyygxhIOTzzxBMadOO6YzarmujODjHXm27ZtayfF7GwrJjYO2c7nYdqnnzon0+vsBNfPzxcVZWX4ZNq0pqlh2bSdOnXCmDFjkNCunV1YiWgTge7OSW10TIx18OntrSC57C81NRXr1q3DggULkbRjB3YmJSEuNgYxcbEWMNm7dy/WbVhnmYaFBYXo1D4Rib5RiPEPg4fzH4PnfYPaIdGtDYJ9AhAfGtM0Z0ez5n1PcSbCfAKxx7cEK+pSLDOxlvPPysL63VstC317RSZq3Oos6B4W2goTx0/ASZNOcv5dhqWLl1pZFTcPN/Ts0RMnjB5lHXmKiBwPeIcYy6ctXrIEs2fNwq7duy0w3T6hHQYNGYxZs2Zi48aN8PLyRlRkJGqcY7/uXbqhc+cu1l+Jn78fOnTqCD9fX/To3gOlzjEA76jhRUgeP5SWlqCqshK+fv4ICAywi5jsjJMX3V2H2uwgefOWzdi+fTtysnNQUVlh41RVVFrfK2PGjkXriAgk7dzhHEt5wsvHx4LkAwcMtPJuDN4rg1xERERE5OhRYLyJKyjKjOa5c+YiKSkJmXszrXMlZo1HBYThz4Muxv/1Ps1OVlhHW51x7o/7kBcN8mpK8dLGabhj9rMWFGe21bX/dy3+eudf0SqsVdPYxwfeIs0At6v0C0+O96SmYcO6dZg/dx5WrlllnxtmgfGkm68Ty/GwU8SOHTti4MABGOCc1IaFt0b7dglWnqVNmzYWSNcJbsvEiyusH84gzJdffoUZM6Zj69at6Nu7L+IT2trnaOu2bUhK3oVg7wB0D2+HxLh2KK4rh39cOK7wHY4R4d3g78Wsbac1cr579Zbrzb92p/5+2F7xTg6O0VhB/5sxquqqsSU/BXXOlHNqd6AMVcjNz8OelBRk1hQiKKENevfqiUFDhmKw8zn+3yuvWEmWCSdNskC5r4+vfab9/ZVBLiLHnsrKKmzctNGO7WbNnIklS5dYmzli5EhERkZi0cKF1uaWlpTYXTKdu3RG3z59EBgUiLjYOHTt2s1Kp1VVVlg2OaflcDh83fX73vx3no95PMFyK66+TtLT0rDZ+S1ISd2DKGf54a1b2x1Cw4cNs98BHmN06dIF4eFOO+vnjw4dOujYQY5J/Nzz+DclOQWxcXHWbw+Pd3gXLv/yWEEd2YuIiMixRoHxAyQnJ+PVV17F62+8jqRdSRYY5wkIg+MR/mGYds796NWqPTxZq9f5T8Hx/dU7n6Y3ds3ErYufRWFuvp0AtndO4j766GN06dzJgsy/FjzI54ktM37nzZuLJUuW2sE/A56sW84sMHbQyYFlVTiwA64B/ftj9Jgx6N27t92a7ePjg8DAQAuUM5guv24McvAz8/XXX+Opp55CVVWVPZ/jfG5iY2ORm5eLNv6hSIyMtwB2YkA0fpMwAYkhMViVvwNrQnNwgddAhLkFHPU2qCmMY//v4eaB6YWrMT1/tWVVduzbHa07xGDrli2YOGGCZbLn5OTaSS5r8cbFxdp0IiLHAv5G86L1xk2b8cD991mmdkLbBPud5l0wzAp3c45R2IYFBQWhY4dEjB43zjK3+bvMcitlpWVWziTCGfenwmNM/i7s3rXLfg8WLliI7j262x1rVdVVGD1qlP02rF+/zjr2POfccxUYl2MSP7/Lly3HY488itv+cjv69etrCSZPPfmkfe/OPe88DBs2rGlsERERkWODAuMHqK6pwUvPv2BlP3buSmoMitfV2WsMkvdI7Io3xtyOjv7RTRmYCo4TP0asjbm9MB0Pr3wbL66bZlmlzMb63bW/xR9v+pOdfP6aTuZcXx3+ZdkddpS4cNEiPPP001i9erVloPn6+iAkJNROFnhSQDxZ537gdL179bYa0u0TO+Dkk09G3759LZDO15lpz/IZvLigk+DjH9uRkpISzJs7Fx9OnYrc3DzkFxbirLPOwtNPP4XIgDAktI1HQXERhvt1xIUJY9E+NAr1/G41lW/iJ86V/f1zfCbqGxrz0AsqS/Bl+gq8nb0IrSPaoN7HHdfecJ0FkvgZ54UddcopIscC/rYyGJeZkYlXXv2flU0J8A9At+7dra8Q/hazzFmrUHaIGYre/fqge7duaO0850qG4MDfanL9+6fU/HiCxw6LFy/Cp59+iobaOkTHRGPQoEEYMHCg3aXTunVrW0+RYwk/u7zT7M6/3ekc58zHCy++gNGjR9sx7W9+8xtMmzYNt956K26++RaVFRQREZFjisddjqbH4mAQkh1F7s3aa4FOBntKS0vtNR70FZeXoiLRF7194xHi5vezBKeOB9wPtc7+eS91Hl7a9rllWYW1aoVzzzoHt91+u2VjucqR/Fo0P1nmSSoD2R0TEzF58mT0698f7RLi7XnWNOVnJ85uKw2wTHKecPM5ZgcnpyRbIH3mzJl2Aj9vzjzMmT3b6kuzPAVPKlzB9ObLlOMHg+K8G+WZZ57Bw488gvT0DLQKCUV2ThZSd6fgvNPPwT/jz0O3hgicH3cCOgRGw9P5vrT2a+zToPl77/4zfgZcy/P19EG30HicFNEfwdVeSK7NRWVNFRYuXICMjEzr5DMoOPhnXTcRkQPxd7WsrMzu4LrnrrsxfcZ0u0trT9OdXX369sENN/wBk6dMtkDz4KFDERzUeGEvICBwvwvR/OsafmrNl8V14PHC2LFjERrWCt4+PrZu7Ch05YqV6NS5s12QdK3Xz7F+0vLwu8SkD5ZG4WPXRaNDqaqqxuJFi/GIc4wzdtQY/Oaq3yDYOS7gNLwDg53X5+bkoEePnoiJiW6aSkREROSXp8D4AXgAx2yc/Lx87Ni+HcUlJfsC4ywDwmydtRvXo71vJDqERMPXw9uZyF5u0bjf/rv9Ezy2+n1k5WShob4BXbp2xX/uu89KLPyas565Xa6BJw4Mfrdv397KS0yYMAGnnXaaZXuxU641zoktTzR40suMNpZP4b7hZ4y3UrM8Bevbb966BXPnzsGCBQuwdPESrFy5wjlx97Xao65yNDxRae7Xun+Pd7yosX79Bvzzn/dg6tQP7M6A8y44H598+ikqc0twe/fzcHbQIES4ByHSrxVCfYIQ7hvs/A20oPgvzTLU+dl294C/pw/iAyIwMqgL3NLKsCpzG0Kiwy0DM7+g0OqHNg/YiIj8XPibWFBQYJnWbG9ZDu/6629Aemoa1qxdgyGDB+Hiiy9Ft27d4OfnD3//AAvYBQQG2r+PleMU17EEL4pHRkahU6fOqKyssNJtnt5etl27d+9GVFSUXZDn+Gpz5WhjEsfHH3+Mv//978jJzkb/AQMOWw4xJSUFLzz/nPPZTMYdd/7VvmeuOyDZoT2Pfz///HNERETghBNO0GdWREREjhkKjB8ET0gY2AwNDYG3c1DXoWNHy/qliooKlJWXY+XebYjwC0X7kBj4tfDgOMs8PLBlKp5d8xHSsjJRV1uHmJgYXHjhBTjjjDOdA+nDZ5n82nBbefLAeuHMluHFFHbCOXz4cJx99tno3LkzQkJC7EQ32znZ4J0JLsws5m3UNc7ArDcGHMudz1x6WrrdojpjxgzMmTsbyckpFkTnclinnCf0cmx6//33cO+992LDhvWNt/dnZmJPWir8azzwp25nY0rCELTyDLDyKAw+WxDa+U5xYKDnl/7uuDVr3LguXu6eCHD3RYR3CAYGdoBvVg1yaoqxZe8u1FRVoWOnTvo8isjPLs35nXzzzTcw9YOprBOIHTt3YuvWLdaB5RVXXImLL7kEic5vsSvz1TWwvTpWguLNsf3nbzyDizyWSGjXzhI3CgsKUVRY5Bwn1Fj/DwyOq82Voy0/vwBff/0VPvroI0RGRGLSpEn2WTyUlStWWDJMx46dcMstN9udoq7vFD/HxUWFWLNmtXMcVIMRI0bYcbCIiIjIsUCB8UPgiQZPnlgmIHVPKkpKS6w+sKveeFFVKbI8ytA/sgvaBUVb55zH2knVz8E5vcSuokw8tXoqVqdtQUNdvWVgjRs3Drfd9meEh4e1yP3SHE9YuU94EsALBp06dcKAAQMwYcJ4DBw4yILm4WHhljFeUFiwLxjKgdnGDJAzU2x3cjK2btmKzVu2WOmV+fPnY9asWVi+fDnS01Kd8Spsf/OW8ON9n9vFgZoaO5k6HvE9ZKdpzz7zLObOnovwNq2t/didkowGDzeMiO+DOzufh6FR3RDiHdj4fh3kLTtm30dntXw8vBDqGYCwBn/UFVTAOyIQwR2jUFFabp9ZXrAREfk5LF2yBG+/9TYyMzL4o4slzr+rq6rRuVNn/OaqKzF5yhTExbW147pj4YLjkXCtI9eXAUkelzLLPSQk2Hnsa7/1PEZgKStul8jRlJWdja9nzsS6NWvRtUtXKz90qL5E8vLyMH3GDMybOw+TT5qEU0459VtBdG9vHzuG3bJ1qzO/LlbzX0RERORYoMD4Yfj7+8PN3Q1r166x2ngM1vFExTVklxcgs7YQCcGRaBcQjbqGlhUcZ6eAb+QvxAcp87F49zoUl5c4J3CwEiJ33HEH+vXrZ+O1pH1yJPi5YsmJmJhYyx7v2bMnBg8ajNFjRjv7bojdZlpVUYnsnBw7IWaAmAPvVqiuqba/vF08x3md2ccMQpaXlWPlqpVYsnQpdiUl2a3hNTW1zvT1lrl+vGEWPbePwVVejDresuEYrHjp+Zewft1aeHh6wNc5IfT080bv0Pa4qO0YXNBhLPoGt4e3h3PieBx/Pdg1na+nN4IbfBHvGY7y6gokN+SjTZs2KCootM+6KztTROSnsHjxYrzyyitITUtDVGQUiguLnLbHD1deeSVOP/MMjBg50sqWsR06XoLizbnWl+vO9pTbFhQYZBfcN27cYL+PKSl7rIwbA+Zy/OCxnevuv8NlYx9McVER8vIL4OXt/ZMkEbCUJBMwNm/aZB3Fn+F8lw713dm2bRte+9+rzjTF+O2116Jr167fuljDz+cG51zqiy++sMennnpq0ysiIiIivywFxg+DmREMYPLgbs+ePUhNTbWDQteBYYhzYpJUlI4ij2p0bNMWMd7hv+rMcdYadrbe6h67NQA7C9Px5O7p+HrHMuQV5aO2tg5Dhgy1TPEJEyfYydqvdV8cLTwRYiY5y600ZpL3R5cuXdG7d2/07dfXeT7GbpXmyRMD4Ay4MtjIgWU5uI/5GkuysNxPaUmpM00UPJ35rl+zDitXrsTezL2orK6yzzGXd+DJyrGIgXEG/Zkdx1Iy1c42enuzVuWxHSBn4IJ3mdx3331YtmQpwlqHYUfSTmTmZKFncDzOixmJKREDkeDbBjWobZrq+MVvd73TLvh5+SKo2hPuhdUIKPdApEcwClvVo7S4xEoAqC0QkaOJbS2TFb7+6ms8/vhjqKisRGRUlAXoePGYZdxOPf10JCQk7Bc0PJ7bIde68y9/4z2c7WLZNR6ncpu5nQyMH693Wv1a8dzhw48+wqyZMxHsHM/x/Vq0aJHV737nnXcwbdo0zJkzB+np6WgdHo7Qw9xtxWPAObPn4K233rRpP//iC5uW9btZho21vJt/xr/84ku8+eabWLF8hR038lizOX6HPvnIWY9337HMcNatZ6b4Z59Nw7TPPrN+blhfnB1wsrb97Nmz8fXXX9t68AK4K/FixYoVeObpZxAWHmaJMc3LqLjw+DMlOcU6wfVwHp9z9jn23PH8nRQREZFfBwXGvwMP+nig2bp1OLZt3Yq8/Hw7ISM/5yCTGZ+p5bnIqMhHlG8o2gVGNWaOH89poAdhHfA521RbV4eU0iwsKN+BxYVbMXPLEmTs3Wu3LHfp0gU33fQnnHfeucdF8PVYxP3GjPHu3btb50Q9evRAr1490d35yw64eMs0X+ct1SzNERIcjNi4WMsga9OmNYICA+0Cxa5du+xEadXKlRYcX7V6lXUmy7qkhQUFFkznSdKxegLN7xhP9FkzNic312qqVzmfseDgoGN6nVnu5uGHHsaTTz6BhPgEC+6v3bQeoyN64+zWQ9HLpy1C/YJQi19PG+Hajnq3BgQ1+CCyyBueudXwCvFHcWA9fH18bNDJr4gcLWxPPvjgAzzx3yewbdtWCybyLiNeVGUt5JGjRtlFOdfx2q8R9wGDk9xOuwDp0Vi27VDlLuSXwbtOH3nkEavXHeG8X+yc8vH/Po433njDSous37AeS5cudcZbC3d3N7uYc2ApMn6OWa6E0zz15JP22efxBoPWDHovXrIYybt327i8E5HHSfx8rFu7zi4cTZv2KQIDAtG3b1879iPejcdgPJNZXn/9dfssjRkzBlu2bMajjzyKqVOnIss5vueyM/dmWnkiBvQ5REZGon///va543kBA+jvvveudbh53XXX2cXwg8nK2uscl66yJCIuizXzdWwgIiIivzQFxo8Ag+NxcbF28LZ8xQrLnCDWhOYBZkVpGdakbkVGbQE6h8ahbUDEr+pkjNvCLPG6+nrsKE7Hmylz8F7eEqzO3o6dybtQVVVl2c48GD7zzDMRGBjYNKX8WLwgwxrkLE8zdtyJ6N2nDzo7+7pDh/Z28tQxMRG9evZESEgo6p0Tje07dmLnzp0WkM3KzkJ+QYHd7bBm9WrL6NmxfQdWrlqBbdu3IyUlxYII9fUNznsWcEwFnHliz+A9T8AK8vOR7WzL5s2b0aVL52P288Ws/Xfeegf33vsvOylkMDg1Mx1j4/vjli5nY3B4V/g4+5gliH6NJ4IWIHf+1+CcD7tV1sI7oxK+Mc7nsrWvnThvWL8BTkMC/4AAy2wTEfkheEyyYf163HHHX7B4yRK0ad0Gaalp9ptx8cUX4/QzzkBw8K+/Yz/+jnBfNN495rStfn5WomL3rl12UZzHZryYrsDjL4sXbubNneMck+WguLAQX375pf1WDug/AGedeZYFmCsqK7BrV5Jz/JaEyIgIDHKO+Vz4HjOz+91338Xf/vY3K70yfvx457N+kfN3Avr26Wt15xctXGRJEEOHDbN5MNGiffv2dqy3Zu1aOx5s1y7BgtfE5AMG2t9//33ExsXhr3f+FQMHDrBzG3aQ6enhidLSUuvktX279hg/YTz6OMegTNg48cQTrVwKkzQKC4vw9dezsHLlCowbOxZTTj75kIHx/IJ8rF69BhkZGejdq5fVGdfnU0RERH5pCowfIXYaE9e2LVL27LHMW56A8aCTB5b22M0dWdVFSKrci3ZerRHk7W+1d4kh8uPxsM9VOsXT3QNF9RVYmrsV726dhXdTF6DCOXDeunWrnZBFRUfjxhtuwCWXXIKIiDZNU8vR5ul83qKiIu2kZujQoXZiwuC4u/N8WWkZduzcaRdt2sUn2GeT2UUMfPOkg7er8r3KyMywEy8GyT///HM7eWZWdm1drZ1E1zjjsF4lP7EeHr9s2RJ+t3Ym7cSePSm27SuddR4yZMgxd6LPuu+8EPGFsz9feP555Dr73YIVTrtwzqBJuKvnxejkH42a+lpGMlrGSaC7s53V9fDaXQav+FAUulXh6aefRElxKeLj21rwRkTk++CxVm5urgUG77vvP1i4aJEF8AqLCu238De/+Q1OPvmUpt+wloO/Kcz+ZfICEzn4W/nG629YNnG//v0ti1x+OQx4L1y4yDpOz3Q+uz169cK//nUv/vjHP2DU6FF2LOfr42vH1ExsiIyMwsSJE+24jfje7tq9G3+94w6kp2fgkosvxp133ul81k923t9+OGHUCejTty+y9mZj+YrlNv7IkSMtcYfz8PP1QXJKst09yKQD3o3Iz0RSUhJuu+02u/vwlptvtjst+NvMcivsQL9L5y5YvmyZfb9OmXIKXn7lZZx77rk455xzrG8cBsWJ50Wfz5huwe6zzjzD+so51HEO72jctGmz3dHYsWOi1f8/VBBdRERE5OeiwPgR4kEeOzTkbYgL5s+37FAGv/g8/7KeXlxMDApqy/Dh5rlo7R2MkKBgBHv67cuOdAWajxdc15q6WmSVFeCTvctw96Y38dmauagor7ADbgZSY5xt/r//+z87QI+Oitp3IC8/PWZ48wSG9ch5EnPS5Ml2C21Obo591lqFhVmHY3yveKLELCCeNPM9cn12GTxftWolZs2ahblz5iLFOXliRjPrtYa1arXv5OZQJzk/Ja53gDO8/uprdou8p6cXIqIiERsTCx/nRO9YkbInBW+/9TZefOFFbNi8sbGtcE4uLxh1Cu5sfw6ivVqhDvW/yD78RTnb61brbPemfPh1aYPcumKs37jOsjujnXaD+6PF7RMR+cGYvcrfqqkffoi3337b+t3gbxnvqrrmmmswecoUS2JoabgPLDBeV4/q6iq079AesXExyMvPc9pYdytXwd99tbe/DAag58+bb7XG2Sn9c889Z+cSzUsOtnPeM5ZE2bhxI9q1a7cvCYD4OX/WmearL7+0DPC//vWvlrndXFBwsB3zvf32W9bfzOWXX27lWPiet2vX3o7XGRhnYJ7HdgnOMt568y3rCJPrdOutt1rZyOaSk5NtmbzY361rN0yc9E2wvjl2ejvz66+t7N1JzneQmeCH+qzxc7p27TosWbwY3bv1sP6I9LkUERGRX5ou038PHu7uiHcOHP/xj7vQyznw40EtT0gYoGRmLrN1hwwYiIRuifjb2lfx99T3sLN8LypqqxrLJzQFxTnNsa66rtZun9xRnIbbFz+L6z76D7Zv3WaZHbylk4FKHkw/8cQT+N211zonXm2sEyj5ZfDEIiY6GmedeSaeffZZvPzKK7j5llswaeIkRLaJsOzr0NAQu5DBYDrfR34O+RlmBhE/vxs3bcQLL75oWXd//9udVsaEt+AWFhZaUJ0nVuxwidP9XJ9hrlu18zns3K0runTvijdff8NKqnA9jgXMYFy2ZBnefOMNbNy8yUoO+fn6YUCHHrgz7mxEeIYcdxfEjha2eVXMkq+th/vr23DZiDPQp2dv7ExKsvewqKioaUwRkcPjbw7bfQbHX3n5ZftN4u8es1ZPO+00jBh5QosMirsUFxU6v/PlqOSdX86x2ADnWLRH95547+138dVXX9tx2/Fw7Pnr1WDHMyw7yASGA4PBwUFB1nEqlZdXWHkSF55b8I40fubPP/8CJCS0s/JkzQcm4ERHRe7rfDM/P3+/4yQmrzDbm3XI//e//1lN8Ndff82SJW6++WbExcU1jfn9cTkMeHOLeJ50OH5+/pZIxGl4p6I+kyIiInIsUGD8e+DBJrMlJkwYj2eeeQaDBg2y55mVwQ4R2aHO1zNnWWc0k06aiPKGavx2+eN4d+ccZFcUoKa+DvUNx27mKA9Qa511rGqoxersbZiduhofFa3EuroMC3K5DrJ5IM0s5ccff9zqHDKrJSoywjp+lF8GP1McGOjmLbKsLzlxwgT85Y6/4ImnnsQ999yDkyZNsgxx3orO8XhBJz4+3upE8j3kc5wHs5PYEdTdd9+N5559FsuXL8dnn03HgvkLbFqenPFE7ac+oeG6MJD/j3/cjV07dmLd6rWYN38uFixagIKCgqaxfjkMNGzevAXTp0/H5q1bbH2Z5d4/sQf+0OE0hHgFOBvB0+GWeeLHC4Lrs3eiqq7GguMNr27Gqb3GoKCwEC+/9DLWrlunk2IR+U5sJxgsnO/8BjGI5wqK87fu0ksvtdIQfs5xSUsW2irMSnoxIMp9VV5RgZ69eqJP/74WAGWZCwYv1eb+Mrjf+ZnlwMQE/m3O9TxxXNf7xL+8AM8kBR5z8PwiKzsb27Zt329g/zLJKXvsOJ1DWlqaJTO4sLPMsaPHoFePnlZK78orrrCON8eNHmt92PC4/ocqKymxTt05j9bhrZuePTjXPuDnk6X95NjHzyA/eyzHyDbkWHTgOrq+P7I/tg3cR7pQKiLybQqMf088oGPWB7OlH3zwQYwaNcqCjfwhTkxMhIenB2bOnoVpn01HUvIu5FeV4O6l/8P1m5/HO+nzkFmS58zl58u4PRJcFwa+mSW+LGsLnqyYjf+kfYQb5v8XXyWvQKvwMLsVlz+oIc5B+fgTx+PkU06xg27XwfzBDvTll+F6T7y9vCxQy+ykK5yToAcfethum33++edxxeWXY9KEiTjjjDNx9jnn4Nprr8Wll1yKzh0728kNT6JYLuill1+2DPI//OFG/Pfx/1pA85NPPsX27Tu+lUHuGo4mftcSEzvYNoWFh8Ldwx2ffTLNanEe7WV9H1z2/AUL8Pjjj2He/Hm2H3gb86kjJuKmTmdgdGxf+Hh4WVC8JWaLk5+nN7qEJ2BDbhKq6qqByjrUVdWhV58+KCouxtw5c+xOhl/yfRSRYx/vWvr444/wz3/ebfWQiRd27733Xlxzzf+hS9du8PXza7Fties3n3eF1VRXoays1GlbK20f9erZCw119Xj0oUeQmZG57zdbfl5HcnzsGod/XY95bpG5N2tfIOuee/6JM04/DSefPGW/Ycrkk3DN1VdZAJ1vb05OrgXUXfj5GH7CSJzlHO/xeX6P2JH5zbfdgjDn2OVI1u9wXJ+p75pP88+ePofHB372Fi5ciDffegsbNmxsevbnx88L268D2zDX8/Pnz8drr7+OHTt26LN1ENwnbB+4j+bMmWvvq4iIfEM1xn8gZtcyeNivX38E+Adgx84ddhV2YP8BiI2LtTqBDPqc4ByIduiciIz8bHy5fiG+SF+BvPoyxPu2RphPcNPcfn78geQBrDvckI0SPF+zAB+nLcGT89/B7E1LUVZXCXc/L2TnZWPPnj1WaiM0JAQjR4zECaNG4fTTTrMLAbyN+cceUMtPiydEzKzj7atRUVHo0KGD1a+cMHGi8/kchYEDByDSeT4hId4yx1P3pCIzM8PG54k1P+sMkqempWLtGmZtz8Mnn3yCqVOnWoCat8Yyg5x3TnBZR1PjZ6vB+fyVoLS0xC5CbdmyBT179ESfPn2d9fumRufPidv72quv2j7gvuFBeVjrMEweOhbnBg9FoJevrXtLDYoTt9/b3RPBPgHw8/Rx/u0O7/RytO4Sh415uzB/1lzbj/xMsha+iMjBsC7yh05bO2PGDDt24W/S4IGDrKY4O0V31c9u6cci/J338/e3C8rG2R/sp4MlK3iR28vL0zrv5gXzlr6vfk5WY3z+fGRkZKJ79+4466yzml7Z37Rp07B69Wrn2Lqj9RsTGxtjn/e8vFy86hxvMBnhlFNPxYQJEzBo0GAMGDBgv4F3sY4ePcamHT16tHXWzmM4Fx6vffDBB1bKjPg5GDt2nHNM2H6/8Vx47P/VV19ZjfHu3bo737fJB60xztriy5Yvt05xhw4bjh49uh/y88VzifnOMeTqVavsfOKkk0466seNcnTxbpOvvvgSW7ZusVI9PPf7JZSUlmHu3Dn47LNpqKyqRvt27ZpeaTwmf/nFl7F65SoMGDjQ+e7Eqo07QJWzz9avX49pH3+C2toaDHbOAw/2vRcRaakUGP8RGoPjEc5BYA/rmCY/vwCLFy+ybIz+/fo5B8M77TkGzQL9AxEQGoSUgkws3bEWS3O2YB3SkRtaA6/CWrTxDYWnW9NtlDYc/UxT1/z4/x7uHiiqLMWC/M14JXM2Xl/wMdbs2ow6X3e0jY2zbBMGIXlg0bNXL8s4/r9rrsEJo0aj/4B+1tmVTq6OPzwB4Ukzg94MZAcFBVrWEB+zbEmXLl0wcNBA58BysPMeJ1ot/cqyCuvQi9OyREtubg72pKbaSRMzM5YsWWLlRBgsT9q+0+pdsnNM1tvmxaKy8nL7PLH+KZf1ffF7xlJF7OCS82F9e19n/t26dbWg6s/JTlLz861DKnZytXXrNsvoCo9ojRO6DcRkv17oFhin70UT7gdfj8agVYOzSzwq6+CXV4dWbSOwuSgFn0+bgfDwMAx0TmRERJpjsIO/M+9/8AFeeeUVC6rxRJ71kM8//3z07dtPxyHN8Deav5eNgcbGjuG9vb3Quk0bZGVn2R1jvLOJd5ExiC4/jx8TGOdnm8dRvNOP34dzzz0P5513PkaOHIEBA/p/a2CyDjv2jI2Ndt57XpBu/G7wrot3330Xr732qpXdYWLE5k2b7BiO9cdZouXA7xGzS3msw05cDxcYLy4pwRpnvbdv2+Ysv4+VZjnUd5Kl+hYvXoxVK1di0MBB1qGnvr/Htl27dmPZ0mWor6tHX+fcNj5+/05afy4sv/f59BnYsnmL0461cs6z+9vzPMfmecH/s3cegFkU6Rt/SEIq6QlJIB1C7713ROxi773cWa54f0+vn955xXJ659k9O1aqgtJ77wkJkN577z3/ed5k8QMDIgQM+v5wzffttzs7Ozs75Zl33vlq+Zdw9/Iw78Yk+JsyTzmWispKREcfwMGYGIRFRmDM6NEqjCuKotigwvgZwgYdG5QcQae7EY6sJycnyz4K5JyqlJmVdXQBw9LiYlQ11gI+zihCNdZEb8Hu9DgUeNYj1bUMTRV18O/qAUd7J7Hm5oI6vIbp6sh3+a9t34k2Hmkv8neryE7ML0gryxELzrLaKmRW5GNb4WG8Ev8FVh7ehoK8fPERXldbh/q6OvFh6O/nbxrx/XHlvCtx2623YviIEWINzwbHUYsk5QcBOzt0oULL3YiICBGdKZLTlzz9lE6aPFn8uI4yDamRJh9woU8KElwILT4+HhkZGfKX2779+7B+/Qbp5KWnpSA5KRmLFi3CBx98IB2i3OxccYni7Owi1/w22MnncRs2rEdTQ5NYT6WlpSMqqjdGmY7VuYRCA+91/vz5sjgpO3lkfM+B+NOYO9HPIQguXb/ujCrHwgG5rJxs1JZXo7yuCjuSY5BiOl1BQYEy2KbppiiKBQXBlJQULF/+pUzlJ6wL5l11FS66+BJpi1AIVr5JfX0tigoLJf0STL3MdPt86VIkJCbK2iIcXFBx/NxwpsI4LcU/+ugjGRjq168Ppk2bJouou7m5nWBzFcHLtj7loMiLL74on3/28M9w0dy5+PLLL0X8DjHt+n79+3+jPZafl2faOZuRlZWNQYMG4cK5F7YrjDN+Bw4cwO5duzHAhMP4tQ7OfBP6wGf7kDP/pkxunYF6omOVzkHcoTjs37cPPj7eGDN2zPcmOrM+oIGNf/fu4AwJWoUT9rP37z+A/Xv3oVdUlAwQeXp6ym/K13AdAD7HgvwCTJs+TXQLrT8VRVG+RoXxDoKNUFbSFBMpLmZlZopoSOGMAh79Paalp6GmtlYaqx7d3OHc1RGZuTnIbS5DRlMJtqTtx76kOOzMjEVySwGOIB+ltZUoqCvDxsZ4FDhUAZUNKK2rPOFGK/CM5hLE2OXAvrIJPk7uIo5nVRRgeek+xNRnIrouA1sKD+HL1B3YkLwX5SWlEn82eLmoIRfgpFXAZZddhqFDhmDgwEFHLYx4jFakHQ8HTbhYUkVFpTToKMB+XyIhr8uBD8aDluQUymVWRP8BiOwVKf71rY0uWcLCw+HWrRvsu9ghLSNdhOMjRw7LdF1aI9Gt0LatW03Ddb9Mnz1y+AhiDsZg585dyM/NR3lFeeusCoZxgrzF9GAepaUDB5k4dRfNLebdikIP03k8VzAe7OR++OGH8pfxHugbjp8MvgIXBY8Tv9ptY1LKcTBZOCCXVVmArcn7cagiA02udkhJTRFLOE5/5eDc95XvFUXpXLAsWLduHT76+GMReTkYO2niBMyafYHUR+2JdEorrKsqKyqQlJiE3bt3yoKLzo5O4g7BybQ9R40cJb6llbPPmQjjhLPSKE7HmPZPXl4+hg0bKi7xTlVQ5uDI66+/jtWrV4sblscff1wGRtje32PaZBTH6ZqFYrttG4zC+OYtm2VxTxdXF9x8y83tvnOMB9t5q1avQnh4BC697NITxo0zab/4/AuUlpVi3lXzMHjwEK3zOzl79+zGgX37pS8wwZS/rq5ubb+cWzjTlTNbo6L6ICIyAl3brJ0pmG/esgWJ8QkYOHiQuPLhAJFyLJmZGVKfNjU144I5c+Dv76eDUoqiKDaoMN6BsMHIxiYtK+irmY1M+hn38vaSEXaK5hERkfA236urqpBrGp08h5bgZSWlpuNXhP1ZR7C/PAUpKMKOoiPYl3YIO7NjsTh3O/YXJiIuJR7bzPet2QexJStGNn62ti1ZB7EmZx/Wl8WhHk0o6VIDh8YWLEjfjJVlMdhVnog9+UewMzMOh3OSUVNRJVac7ERRxKcYOmvmbNxxxx3i+4+CuK+vn2lkdFMr8bMEXdbQIu69994zndbDYo3N/NPZOgsUpumvlA1OWmzQwpdTdimO946KwqCBA9HL7PPz8xcXLS0tzcjJyTUduTx5D3g+B2nyC/JNR+uI6azvQqzpTB2MjZVOFTt99NdtZ9dFfNfb5jc23gICArE/er/p5KXKwlH0g04LJ8bhXDSC+Y5QCP/kk0/F0ooCvY+vDy7pNwlXh0+Gl5OJg/bvTkp5fRUO1mZiQ81hHChOQnN9o/io5wwAzlAZPGSwDrwpiiKkp6Xh7bffks483WlFmfrlwrlzMWTIUGmraKf+xNjbO0j6ZJt6kjO10lLSxPUYjTPoC5q+xsMjwrVddw44U2Gcz5HPbsf27YgxbSVajrPN4+vHtnlr24ftExpX0Gqb7ScOIvE8zlx9+513xOKc6yLdfffdGD9+vPQ9aMyzc8cOCZP1LmcI0hjCoqy0DHtMfPbs3SOD1zNmzjzqvs5a2JPXYNuO4jtd6nG27M033yzt1/basDt37sRHH34oBkT33XefvNcqjHde2ObduH6DDLCNGDlCZml+X2005jUa0LDst0RxQmGcdUR2VhYmTpwoBjNarn2T+CPxWGH6Lh4enrjo4rnqhkxRFOU4VBg/C7CyYeN3ypQpCA0LE0sPf9OA7W4apWyYjhgxHGHhYSgtLTeNzRppzNJimA3Shrp6eLl7ikVPTmY2DmUnI6k0G9npWUjNSkdsZQa2p8dgd85hxFakY2dOHHZnH8LuvMPYnWs28/dgdiJyC/NR5tWCNRl7kJ2Xi8/SNiG1KAvlJWXIysgUS5DGhsbWxZpMI5pT0YJ7BmPW7Fm48847MX36NPO9p7iHoVWRNjLOHomJifjvf/+L+fM/QFp6Onr36SOW+mwEng8w/0RGREijec6cOeKXvH+/fmLZwUEVvg/0Uc6BF3be2BDjvfFvcUmJdBrZGWTDllZt7DzS6py+ZevN+0Bfgux4ubg4o5u7O1auWiXvDDv4Tc1N6N07ShrCZxvGfd++vXjmmacljnx3Inv3wtSIERjmEgZ3J9e2I5X24KCIr7MHomvTkYRCFJQWy6KqHAhKSk5CcVERZpqONzs+50veVxTl7EAhjmLexx9/hAbTPoky5Xy/vv2kzKUfZdYJyolhfWVv0qikuBg7d+5A7169EXf4EIICA015myxtPgqhbJMqZxe28TasXy9uFemr+6qrrmr75Vi4Tsu+ffvEgKZVGG91FUEhksY1jfWNYvW5afNmcVtXWmba8yZMfqbgvHjxYrz/3vvw9PJE3759pN2+e/cePP/8v5AQn4Abrr9BhHG22RgmBUYeQ6txXpcLsHOGK93cETtzTFFRMdauXSNCeElpKcrMNemOIc/0K9g3oDDPtlxhQYG4O+J7e+21155QdKPV+qeffoqhQ4fi3nvvlfdYxbnOC41a1q1dh7LyUoyfMEGMpb6BKWvy8gvMlisCOtvnbO+L4ZdpyzHfs33H/GY9a+aT7JwcGaSjex0aCFmbfC82n81fWokzr9JdD41s6EucYTAPWzCsL5Z+bsq6EvGDHxwSLIJ+vjmWBmgsC5kf24MzuxkP5mvmxZP1dfmuFRYWmvtylPuiIQ/7Knwn+Zk+vDnr0erfWPD6DD/DpEtDfb28M5ytkZiYIOnV1NQoiyZbdRrLZt4n0y09PU3cDXIBXIbL+z5Z+5izSzirhO8nZ+zSvSsX2mR/heXQ5k2bERIaLAtXWwMcfLd5b0wH7rNNW8IwGV/+zmMZlnWuBe+Raw2kpaZKmqSYOob3YBKi3Tjz+fBZM69kZKQjx/SpaGzEOotrI9BASlEU5VyjwvhZhBUjp55RJPfy9sYu03DNyc5CaHDrqt49ewbDz9fbVPgNrDukEmEFxAYFKxGpgEwF0c1UohTOWRn5+fiiprpGKlYukknhkMexkuI53HhdbhTd4xPisT3zIIpNo6aqolKOZaXLSowVExsutNzwMg2Wq+ddhXvuvQfjxo09aoWinH34bLm4DRe1pJ9HTnXtFRkpz/B8hAvSDhg4EBMmTMTUqVNlBoWrq4u5HzvpSLGBas9Gkrk/5kViNZzYIGYHbc2aNbLYT3ZWNhwcu6KirFzyLi0Gt2/fLg0+nss8HBEWhkmTJ0k4Zwtehw3Mf/zjH9L5CwrsAXcPdziZ+5oeOBRTvAeiCc2gL3+lfZgyzabc8WpyRn1jPXIaS1Hb3IAWk7aV1ZWmE5ApQg1nIrBcUhTlxwnFGAp9XHAwjgutmTYKTP3ha+qPgaY+CTZtqOM75sqxsP3ANKLQw7Vq2B48cCAavt6+rQPSyUmy6DHbp8eLFkrHQuGMg/8cCB4xcqT4926PTRs3ymy6Pn36HvUjbsHn2X9Af3R16GrajFVITUnFunVr8cknn4jQvGLFitb1jTw9ZOF0zqRjrfv6q69j69YtGDJ4MG6+5RYMHTqkNUADhTjO8qNgRkMEDqIMHDRQZr7yemyXsb1Ga3D+xntYvGgR1qxeLe1WutOzLMjramvFTQrbsjT+oUuV499RnrN06VIxgLjwwjmy6Of52s79sUDBdPu27bBzsMfo0aMlb1iwH8k+KwXfFV+txIYNG7Bu7VrzfHeKwQvb/E2NTeaZf26OyZD2nSX+Zpn29MqVK6U9Hds2a/RgLGeOHsTePXtxYP8BpKamihtH5kH2j5nHt5t+AY0nQkJaFwBlm7KkpBSfm2s4dHXAnAsvFIMuCukbTXy4eKzkc9PntoVxZ95jf4PxYP5mXuaMh+Ox7nPRosXyDrAvzv7aWtNP2bplC3bs2CF/k5K4vlg3mTVr3SfhuXQlybzf3NwCVxdXGWz44ovPTfxWilEcjeg4A5YiPwe6Vq1aJcfQjc2G9ZvMdXejsrJ1Vjfv3zZ8wjhWmfcr/vBhc+5qqT/XrF6D3eZZ0BDO3KzM4E017/LQYUMxeswYKfd5HkX9RYsXS9+KA6U0arKFacnBOKaTk6lPmE5MAwta7LP82LJ5K5YvW4ZtprzZvGkromOixWUSNQamq1UesH5n/li/br08f2oj+w/sR3R062wY9hN5vJYNiqKca1QYPwew0qOgd8UVV2D69OlSSX3xxTIcPnJI/ASOGz8BleWVpuLPR30DRfIu0oBkZcMKiZ9ZgbFypQsJ/m41RlmJcL9tBcLP3MeRcDvTMOF363e66GCFyu+cwmhtl116Ga6/8QaxvGXlbBuecnZh/mAnYsSIUbjkkosxccKEowMc5zPMZ2zcME/NNR1BWkmxYc3v/j6tU4CtjntwcE/JdxS/SY+gHhg5YiQcu3bFrt27kJaciuLSUrEOdzDnsOFI6xEK1rQOGTdu3FkbzLEsG+hChUINLT8iwyKQZ95XVztHzAoZif4uPY8udKucmJYuLfBy7oYgO08UVZdhU+YBHDYNeQ4GMr93NZ2vCSb/s+GvZZCi/DihW63n//UvrF27FkGBQTJwzzVawiMiTDvqSlnTQsuHb4eiB+vFHj2DkRB/RASkmNgYESYowLAdSeHJ1n2G0vHQpy+XxefMupmzZp1whhstRz3c3aXtM2z4UBGULJjfKUZR0BoydCi6+/lLe55CGcUsLo5+w/XX4cEHHzLtyEulPVVcXCJtJS9PL1x/w41ybQpbFgyT7TQORrs4OYvoPmjwYFmc1Xq/KFLRXZ6zsxPoW5pi+ayZszDG7KPVt5V3GDdasFO8dHVxNn2dGUf7GhZcoPOzTz9Dc0sTbrzhBgwaNLjtF6WzQiF4z+49IjZzHRhr4U2WLWyvc9BkwYIF4sKnxvRVZWAlJERcg9JymAM4Mea5947qLfnFEkcL8vPFVVZtTTW6dnWQdj0H8MpNHoo/HC+GXH379ZMZqMzLFOjXr10nAjkHiMLDwiQcziZKTU3D9i1b0d9cm4uD0mqb19lr4r1pwwbJw1ysk9jmR/aRP1+6BIkJ8Rg2dLjEr71BQt4rLaaXff5Fq4V7aQn27d1n+vK58u4F9uiBvFxzPyYeXOiYhkF8d62wuHYUxd99e/aZsrgnYmPjZCZHd38/8z0IU6dNkwEHlsv7TVrR+n3fnr1iFMf3MSwiHCVFxdi/b79Y0XNQgPdk3QsHByrNNfbu24f577+H5MRkuHt0Q78BA8xz80VyUrIMMOeYuNMFzdRp002fM1zO572xjFi9YqV8Hz582FF9wYIaxPIvv0Rs9MHWuJo+l63IfciEvfCzBVi/bh26OnY18QvGgMGD5LnFxsSaMsMVIaEhUnawrb97926TZxaKT3gfPx+ER0YiMCgIuVnZ2Lp5iwyE9Ord66TW+4qiKGeDLqZQVD3nHMLkptBGX1/Lli9DZka6qcz2y8g4K7qM9AxZjPDbHott5X4qj5AVDDc2VCmEDzYN0ssvv0xG11l5sQIXy6K2itw2fOXsY+ULpruV9j+kZ2DlUf7loA0HdGgxwIY1LaQ4lY6fafFEH+L8TKuFn/zkp5g2bao0/ApNQ9vPdASzsjLx8ssvY9GiRWLFzX133HYH/vDnP0oe7uh0Y6Nw/fr1+M1vfiMirnUvjc2NuG/o5fi/kTcg1L27CuPfATvzb0XZAfx533vYuXfX0XKHgvirr74qlmT8rCjKjwerHnz11VfwwvMvINHUEZw9wvog1HSsf/rTn+KKK6+S8kLbKKdObU2NWEYu+mwBVqxaieqaVmMLtjn//Oc/45577jkqdCgdD/M0N+ZvpvuJ0pptI6sdyGNOlMdtw7M26504/t1gmNbvx/9GrPOt8KzrWsfZ/m4dY4VjG0fup+XsrbfeKtekJShFQx5LeO7/3ngTf/3rXzF67Fi8ZNpwfr66+Gtn5+NPPsHyz7/A8BHDcc1116FnmzUxZ2zSSvjll/6L3Ow8DBk+DFdffdVRS25aIS9fvtycu0zcIc4zv9HVIvugxDb/Ev6lmL5y5Qp8tfxL9BvQD/fc2+qDnvmM+enjDz+SWRQ33nLzUWGcwuymjZvw/rvvYeqM6aZ+uEJmFjE8Wji/+/Y7Mivmsd88fjTfWtdds2Y1Fn62SAaCrrrmanEjZOVnW3hsdHQ03nnrbRH6AwK7i7999p8p4jItjsTH41/PPCcLHt9w0w0yCGUNbCUmJuFTk45xsXHoa+7LzvQW5l19rbmHUEkPxovpsWnTJixcsBAN9Q2YfeEFuGD2bBGTef2MzCz8+1//Ercqt995By686EK4tLk8qjZpQCv7Tz/5COWlFbhg7oWYNWvm0UErvpeLFy1G/OEjYox35z13yYAor8t3deXKVVjwyaeI6tvXPONrZADPgtem+5i//+0p5Obk4S/m/eXaFEwnnsuwOdhFV0qjxozCddddf1S057PZuXMX+vSJEuHfKhfef/ddeLh74ubbbpF4WHmC/av/vf6muMy87obrzXPrL/sVRVHOFd8cGlXOKqwsWMn36dtHfHk/8NDDMg1y0eIluMN8v/iii6Tip1jNjVYY7Biy4uBfblblTlhpEWsf/1rHUSRkpcpR56mTpuCBBx+UxuhbpnJ/9rnncNXVV0sFxordEscZhhW2cm7gM2TDijME6Pfdeqa2cPodxQE2NDjizo2fOaPA6vh0Zqx8xTzGvMwG24gRI8QS6aabbsIvf/kIHnvscfz3vy/hzTffxEMmr44eNQqBgQGSj5k/AwO6m3PtRTD/v//7P9Oh/xNGjRopPgSXf/UlNprG8dlIB4ZJyxIOXjGteX2+X/7+3TEmbBBC3QNVFP8OtD6jFgx06IFpjn3Qxf7r8oZ5fM3qVWLZ2NnztKKcb/Cd4mYrSnSm94xxoR/T1OQ0mR1Hi1iKC4yvWMVOmaptlO8I09TJ1J9009bannQQt1asxzjoyyn+OSbNlbOH1e5hu4Ht/xPB33gMjz1ZHrcNj+0j236CbTuem+112wuT+2zDs863sP39+GsdfxzzFBfHZb5au3adzEqwKCktw5ZtW9Fk3uXJkybBx/tra3il82HVDUUF+fI86R7Ep01o5X6Wz5s2bkZ2Vi4GDRti2vE3isDMfMGNVsecIRoRGSkzEShw2+YX5inmSR7Lv+zL7Nq9Gyu/Wom+/fvhlltvE+t0HsfrJSYkyGxrdw9PmSVhwfMOxsVK27x7d3+ZZUp4LQ9znLfp4/IYxpfhEP5lf+tgTAzszOs4YdJ49Op1cveVNMyprq5BaFgorjd9lssuv1z8nzP+fCciwsMxdMQwsZimv3Ve06KyskLcV1E0L8jNx7yrKT6Hy3k8n/fIQYbtW7fJ4MC48WNxSZtxiJVGIcHBJvzh4iopPv6ISffWMpv3wkEIrtFUWlyGCy6cIzN0rdnh3MaMGSPrhrl1czPxczT9ft9j7jUvPw+1dbXi+tWaEWDBdKUwTot4/+5+cHb5ekY5/YMzzjnZ2Rg7bgxuNc+MMwt4Tcab8Z8yZbKUC4TGUPRxTh/tF158kcwGYJnCY7lRtPcy5UJxSTHKysvkHEVRlHOJCuPfE6wEKA6yMmWDYciQwbjj9tvx7L+ew8JFi/DRRx/jxRf/i0ceeQSXX3opLpw9BzebhsdV866UaY+swFipsoLixsqI4XGk95ZbbpYplffcfTeWLF2K1WvW4I3/vYFf/epXUtnS/1+PHkHHnG9tyrmHDbSlS5bi/nvvw7/+9S8UmIaRBRs93ApMw+TDD+fjvnvvlUVd6W7i+uuuw5N/ekJ8850P4rgF85nV0eLGfMgGJhtRzMNc3IeDNg899JBYenBQgI1GWq488/TTePN/b2KTaVy5u3uahlQvuW8u1HMw5oD4q+7IdGBYbPy98MILMhDB75xKSYu7q3pOxETfAeZ+Ope41Nnh8zdPCT1cfTGz3zgMHzZC9rNMZGdqiXkXYuPi0NDQ6n9eUZSOgeUU3R2wk8/PHJDlX2v7vmEctm3bhpWrV8rCaXRbxXUn6A4kPDxSBiO1nfLdsNp2bq6umDXnAlkY0bLoY5lL37hbTH3aGZ6/cn5DAezSSy4Rw43/mXYaDQqssmX9ujXYs2c3Ro4aidkXzJY2oNK5qa2tE2twRydH6TPSQIWwv5GWlobVK1eK+5PLL7tMBi5Znljw+XKhydLSEmnjW37rj4d5g30g5o2vvlwOTy8vXH3NtXI8w+M5PCY/L9/UB+Xw8vSAp40fcC4sybW7eAzPseJIeBz7FMyPbLdbYXGgdcuWrTh86AgGDx4qPv1t494e+TJAUIUhw4bJjGur/0z4l4NFdPvlYO8g7l6sQSFej8J4YX4+AoMCzb1dLf10Hm+dz2P27N6N2NiD4jpl1gUXfKN/bm9vh8CAQLk/to35DAjryN07d+FwbKwsqjnnwjnwNGlk+37xWhTqS0tK4eLiDP/uX7vDYZ+pIC9X1gjgDA7WE7bwvMyMTHNci3nGgRIW4bkHDuwX90gcEJk8eYoMWPC6tvHm8UxbOX7ffsSa/uqgwQPN8ZOk/2eFxY333D2wu8kPtea+SuU3RVGUc4m2TL5HWGmwYpDKw/ylP2aO1g43FS+nQV111Tw8+OCDePSxx/DThx7AY4//Bj//xS9k6utHH30k08TefvttWXyHbiXeeecdPPPMM/jd736HPz/xJH5tzps0caIskNPTNBi4gBWtw1lRaaO080AfeQeio2VAZMPGDd8QuYuKivHII7/Eb3/7OzmG7kboQuSrFSvw8muvyDTo//z739Jo+yHAd4IiubtpZGVmZeP999/Hrx55BE+YfP/if1/EM08/g9/85nE8/vhjWL16teRlrma+a/ce1NpYaXQEfDZsUNPHON/Tnj17yl82Eof79ka4R5C4eeE+5dRh/maHKsopALdGzsTcuXOk8cxnz5X9uXgPBzsURek4WE5xgC87Jxs5uXlSj3BgNTYuVmZrfN+wXGD8KKhRvGU9wHiFhYVhylRaix9rzaqcOmz3DTVtSzYtKGLRnRkFI7oA2LFrpwySKMqZwPq7f//+Mvhy8GCsWI1XVVWjzOQ1+hTm4qP0T07LUKXzwzKiprZWrK5pfW2VvaWlZbI4JgXmyaZcDu4Z3G6fkkI2wwjoESAWzO2V3SzzuVAkfVR3Mf+uuvoq8Udu9Y1JcUmplFUenu5iUWx7LQq3+Tn58PXzkXKN51nQ4Ib9XsbTEpIJ65h9+/ZwPWcxFDveSro9CgvyxYc63bRQeD4expV+0vnX08PzqIBMigqKxFqcfrNHjR4lv9mmBQerk5NS4OziimEjhiHoOB/fFrSIp3jMMtyi0PRNDsbGyv4p06bJPR+fzkw7PjMnJ0eTTr6iNxCmPd9NWp+7url+Q1AnrBe4nhOnGXUPCDyavnyXU5NTTVpWo2+/vmbrJ9c9/toWDINGRo4mnm7d3M39JrUuuGqzxcXFyewEhtFs87wURVHOFaqOdkIoEHFUmBWc+AMfPBgTJ06UVbWHDBmKCy+8UMRuWg1feeWVuOiii8QlxcyZM8WvWWhomPh5o/WGNU1J6bywcULrgsqqSmnA2DYu2Ch59rln8eXy5eZl7YJ77rkX7777ngyGUDC+5ZZbpCHBRVYcHL5uiJ3PMD3oa+5f5r4ff+wx/P3vf5NBIC7yk5eXL4vwcHDAdgFOTpPcunULPvjgfbE+6SjY0KXFidVYFGsU82huHXghxvcYCAfTsmZ8le8G8zfTzaWLI+zKG7DPdLIogHFKP/P8V199hSzTiFYUpePge8fp8K4uLmKdxinY8fEJ+PC9+UhPzwQXCfw+Yfys9grbLvze3b+7iGlsA2lZe/p0MXUYXevV19XD3sFBylmKRawv4w4dksF5RTlTKDJytt8DD/xUZsLyPWZ5M2vWbPzykV9h9pwLZJ/SuWFZS9cXHKT09fWTQUoLiqEZWZkixo4YNVLETqvPYkFBnQtWUkgNCGwVVI8/hsTGxmLVylUmzFpMnT4dY8aNkQVibY8tLi4SP9qhYWGyeKUF24yFhSVSlnU312D73PY8+qqmBbpYS5eWyW+0tt67dx8SDsfLYpsM01ZMPx6mA8X97MxsODo7ib/09gYBWJbSXQr/UsC2LNdrautQbvonzPMBQUFSBh+fDiXFxWL5Tbdhx1ve28L+Ie/Vw8Mdrq6t/sWrTNi0mHdxdRWtoL1z2T/ioqacWd47Kkquz419J/anGK6P+c3Fza3tjK9h/ZBXkG/u2V5m81r3VVpWKgZJ/v4BJsw+khdOBmd+MR0ryyuweeNmvPryq3jtldeO3cy+3Tt2w9PT26RhQNuZiqIo5w4Vxs8DOLrMqcSElSsFcwtagFsVEn9jpaucX1iNFGLb4GKDjA2/1avoc7lEfDfec8/duPTSSzDdNCCvueYa/PznP8ezzz6LSRMn/SA6G7TOpujPWREv/fclLF++TARwiv9MD2tjPqeblRtvvAF/+tOf8Yc//hFXXcUpipHtNlpPF0uspcU4BXI2Os3lcUmvCejtFSz+Mo9v5CqnBtOtid7Z7brA2zSE2WinJQ8b67QeOXTokDx3RVE6DnZsOfOF4sOihQtx5Mhh1Dc24IUXnhch5PuC5Trf/107d0rZwHiyrdO7dy/pkLP8pdsq5fRhukb0isSQwYNF6GKac9+huDhs2LCh7ShFOX3YHxk0aBDuvvtu9O3b1/RfWn2TX3bZZbjJtNfoPlLp/LBsyMjMkDaYj3fr7B0Lut0oyM+X9nBQUGC7Ymx1VZW4w3BxcRUXWO2RmpaGVatWizg7ZtxYTJs2Dd3cvrnoenFRMWqra0QspeW5BdvnRUUFMuhH8d3e/liBm/1m1iG8B7rm4j3x8+7du+Du5YUJEybKzKSTwfYo+wDlZeVyLGd2t9fmZ9i5ua2GHT4mjla/nH7Reb6bST9/v/Yt0ykaM14Uxm39p9vCa/Ieqqtr4WXqQor+hOJ0GQXq7n5HXWQdD2eIcXYYBwksf9+k9d5yJR179ep9dLFQW+iqJt/0y8wdijsdyxK+pLgElZVV0m6nmP9tMJ7sx9Jo7+JLLsYll12KS4/buO/2O27HDaaciIqKajtTURTl3KHCuKJ0cqxFY7joCsUBW8JNJ4Mrvbu7d2u3QdRZ4f2wMUY4DXDN6tV4/bXXxMf6yy+/LK6BUlJTxZKBsAEXHhqGSy65FI+JFfnfRTz/9a9/jZ/97GcyQPDQQw9j8pQpJ7X++C5wAUhO8dy8eZNYnEw1jXbGhxYUPs4ecHJwRIsKNacN/Yy7d3VBlH8oekf2QpRpmLcOPLR2XuhnnAMSiqJ0LBQM+vXtJ5aAO3bsgKNTV9NxLcHnS5eIP9HvAwoK69auwdq1a9HTdN4DTWeb+1ivUVxjuQBO11FOGw4a+/n7oam5SQQeGlYQCjdxph5uTWNFOTNYj1OA41+rXern5yuipq2LiR86LL/YjmT7ldv59n7RfUhtDQVp/2MEW7rHyc/NQxe7LvAwfQ878/d46OKDgjeNWCgIH98/oau81StX4cD+/ejfvx9mz54Nf1M2tUdKSrJYVHt6eh0VhAkHUpOSk02t0AUB3Y91o0LoMsRbXK90QUFBnrTj6a4jMT5eFqTkwqDfZlDEZ8byke1+LkBqGanZwudMNyE55n6dnZ1EQLaE8cLCApmZxbKW70B70Cd5VVWlDAY7t2N5zTjQLc2RQ4dNPmqUupG+wBknLmpLK3jG60RW+QX5BbLAJuPg7f31QADdQDJuPJ+Le7rb+G4nvC6tvCnu00qddYZleFRUVIjyinLxP897/jY4K5rPKzAoCDNnz8IFcy5od+OMkmHDhp1wgEBRFOVsosK4onRS2MBhQ4dWN2wsUTCY/8F8RB+IPma1//ON1kZembiCoRD+t7/9Dc899xyWLF2C9Rs2yGIubMCysUV/+3QddN999+H/Hn0Uv/3tb0UQf/jhh3H11VeLayEvL0/xIxgeHiaN0fYahqcDByS4ENyyZcvkO58Fp0pyCqO9gz1vRBrkyunR0iaMh3qaDo1zV2n4s/PI58cO15HDh2U1fEVROp7uAd1xxZVXiDCQk5WD8ePGY+nSz/HuO+8gN4cWYucOqwP+2YIFSE1NlUXT6GOUggE7716mM89jlDOHFpzp6a2WoFLWmo2D1LQo5KYoSsdB8TI+IcG8bzViWJGamiYWwmzrdFZY1rJMyM3JEVGZi0Zag2iEQmplRaV8bm76ZrlMoZiieFZmlrSXAwMDjim/afCwcsUq7NqxQxainHvRRbKOxPHwHJb/KUnJKCktEZH7WJcuNUhKSjRlGBd+pTXzscI4yzaxwjbn0YKdbmF27NiOro7O4o60PZH7eBiH/PwC1JnnSNemtte34OKamzZuRElxqVi+9+wZfFSkLy8vE0tpXutEltWtgyat/tK5tUd0TAySEhIRHhEuGweY6usbZIFUqxzndjy852zzLLjwpquL2zEW97y33LwcedbuHu7fGCRgnRwdfdCkXaugTeHeuoY10MP8fSr9URH9zcZ3gPW6oihKZ0SFcUXpxNDi5s4778T48eNFMKa/7aeeegoff/QxYg/GSiPjfIMLZNIS+y9/+Qt++ctfYv4HHyAjMxOTJk/FjBkzxFqAf2+44Qb8+teP4q9/fQovvvgifvLTn2CcaXSeO5cxLeLTfP/+A2IlQZc29Sbuffv3RTf31mnoyunDQYVm88/V3gnBXTwRdyhO/DNaDfyY6BjpXCmK0vHwHWNH/aabboKT6bDSBys7wv976y0sXLDgnM7WYCeb105OThFRJTExGQmJifK5V+/e6N07qlMLSecTHHTw8vSUwWmK45YFIC0H9+7dK58VRTlzKI5SzC0sKER6ejoyM7PETdy6teuQmpLadlTng23biopKFBeVwMfXR2aZ2LpLcXTsCmcXZzQ2NCLN3JdtW5htuJiYgyJ6l5aUwMXULaxnWN/wuCpT5mzfvg0b1q1Dd7P/qmuuxsCBA9vOPhY53vRxaHXP8yly21pUU0S2LNd79uh5VIy2hS5MvLy8UWbqN9YvSaZemThpggjptvd0MvLz89BQXy/iekPDsWsYidi+fTt2mvul//HZcy48xtqZgnRlRbmk44kW+ewZHCzn0DI7z5TDtjA9uUDy2jVrUN9QhwkTJyLYHE94vzQGorDN58VFPG1h2m3bug379+6Xct4/wB/dun09GNBi6tSyUvpFb5SBaFtZnfXxjh07zXNaL+nEhTfpssYiyKQ3XewUFhQgOyv7G/Uznw0HLhh/4t+9u8lH/uJu5sihQ0f328LBh/b2K4qinCtUGFeUTgwbJJdffjl+9rOHMW/eleJbbsmSxfjZz3+GP//pT1i4cKFphMaI2Hy+CLVsMB06fFj8iRP6xbviyitxySWXiB/Kxx9/HG+99RZeeullXHf9DbJqfHsN3rMNG4bZ2VnS8Gy1YGyWAnN233EI6KYWjB1Bs2mKu9c7on+Jt0nbr5vldl3skJSchIyMDBXEFOUsQes3Lt49Y9ZMmaHRv18/NDQ24PU3XsPKFSukY3uu4HvOuoHlatyROOkkR0ZGYsCA/mLdruXtmUNxiZaLHGhwN8/eNk0pYiUnJrZ9UxSlI2DbdfjwYTIThm48KERy9ueKFV91WldxtNJm3ChSckHGluaWYwRLGob06h0p9cOmTZtkYXxaAaelpWHXrt1YvWo1ovcdQH1DAzy9vI9am9O6+MD+A1i/bh3s7Ltg+MiRsmikWJe3bZlmY9/AavfRDQjrBbrmofBswbJLRPPCEvPZ7PimsbRAYdzD3QNJicnYuH4DHLs6YvKkSWK9/G3wGowzLedN0WmeXyz27NkjM2vo75uDGxzk+OSjT8zBXTB56hT07BFknnmr4M6BXQ4uMHJBZv+JrkmXmMEhwZKGB/bulbzC9OdgZUxMND6cP99cKwX9+vfH4MGDjlq6c1ZtoKkb3dy6IS0lTURsph1nWjIMznjduGGjCNdBJv3CIyPkPAvWB926ecDB9DNjY+Nw5MgRubeE+ASZvbtx00ZUVlRIHqZvcB5nERoagtCwUJSUFGPv3j04bNoPdDnDa3MQaOvWbdi+Y4cMHBAOXERERKDKfJfjDx2Se+TMXJ6TmJiArVu2ysCA1vWKonxf2P/J0PZZUZTvATYe2XjZsmWLNJCuuvpqGdVno8WiX7/+4l+7b98+Mm2NDYo407BYsGCBaYjuQl/ze8+erT4dOztsZFGQ2bB+vfisu+aaq3H3XXeLKEM/d7169RLrie9DDLcl/vARfPrJJ2IR02ie0cgRI0Q8+Gf/2xHl1gNNIuueoDWunDINzY1IrczDhoKDqK1vFcaY99kxmjhxkkx5dXI6/xeWVZTOCMvZqN69TYc6WwZYG0xnnrOR6LuU09uDgnqc9bKYokum6by/8srLYsnMaeJRvaMwdvRojB4zBj1Mp1o5c2g1yIHo5pZmaTdQiOE+lrl8xr0iemHWBbPlWNv2h6IopwffI7bL603bhpbF0dEHxOUHBUzO2OgdFXUOZ0GeGmx7UaTet2cvyspLxbK7R8+eR4Vdls+8p7jYOMQfOYIsLu6Yk4ON69dh08ZNGDR4IAICA8Q93viJE9Cvb18JMy8vDx+8/x7S09LF4ITCNq2hD0RHt20HZGYsxXEuEMy0o6uUfXv3ycyh0aNHHV0gknVGVmamWEQTDp5SvD3eh724dcnMwt49e0SEvXzeFRgwcOA3jmsPxpli74rlX4k7lu7mnmhxTgE5ISERK776Cls2bZJFLSdPm4orLr9cBgGssrO4uAS7d+8WtzPDR46QerY9mK6MJ4Vw+hFPSExArsxW3Y81q1ehqKAIY8ePw/XXXy8DBLZls4NDVzQ0Nchz4POoqamVRbRXm/My0tPQp09fUGZ2cHTAqFGjTH0e1HqigeW+dTzrfIrpieYznyHXGhk4aKBYehcVFuGyKy6TRUWtGUZ8fkyfgoJCJJtzDh85LC6DUpJTsH3bNqxdvcbcf6EJY5D05zjLgPEuMH3X5KRkJCcnmnOLJH33mudLi3jOJI6MiBSLeNt7VBRFOVeoMK4o3zOnIowT6bj26o1LL7sMM2fOlIYhLVCshbNoWU5Lgs7eoGD86BOci9/cf//9YiVO332dKd5sMKYkJ+Mr0/DNNY15TiFkQ9DD3R3Xhk+Dv7OnNDaVM8fJrqtYAuUEm/x8+LDka+YFNrqZ34cMGQJf368XDFIUpWPh+0ZrtJ07dqGirBzVtdUiUHDGRoTpqFoL6Z0tOBX8wIH9WLxoEaprahASHILsnGz0juqDGTNnwd1mwTXlzHHs2hUbNmwQ8YvPnhst++ge4cYbbxTxg/sURTlz+C75+fnJgNSKlSvh7OwCZycXsczlWitRUVGdyqiF8aXAm5GZLhbbtOoODQuTdjuhqOxr7qfFHEdr6rKSUlOG18HH7Lvo4kswcdJE1NZUi7U13aRQ6BRf6/HxUqdwIcdWq+cWNDbUH93oroSwPzBo0CCJBwXo8vISqQuionoftZbmb2wjJiYloqmhEc5urhg4YMA3rLKbm1vEVSMX+aQofOPNN51yP4mzpw7FHcKeXbsxeOhQXDj3InMeLcfjxEKbz27osCGYZ/ps06dPlz4CscLmwCP9e7uZ/tyAAQOlHj0RTKPAwCCU0aWYuWcK00WFhTLAMGXqVOnf0T84w7aNO/uK3j4+4gqNbltyTL3Z2FgvgxlXX30NQkJDxD87B0QpUlvPkDAcGiexD8lBmqrKKjECGjJ0MK6+5hpZoDszMwOOjg7mmU6Cq4vLMdfm/dASnmnMRUYz0zKRl5tr8osz+pj2xA033IiePXseFdPpSoZrQXEGQkFBvhgfHTkcL4uWhkVESDoOGtQ6aGF7HUVRlHNFlxYqQIqifG9UVlXhySeexD//+Q9MmzYN8z/8SKbHsWFg+3paDQXuo3jI6Weffvqp+On29vbG8i+/xDDTePu+La1PBeserA54Z2sE0XrjzTffxIMPPCidGTYIuTgdLSfeH/sr9PMIRpMWnWcMOxb2sEN6fRF+lvAmVq5fIx0o5gs+g9mzZuH3v/89Jk+Z0naGoigdDctjbvv27cPTTz+NurpaZKRnIObgQUycOBF//OMfMcl0jM+WYMoZUL/42S+waPFCEcY5QExRYerUqfjpgw9KB922LlROH6bjli2b8d5772LH9h1itWmVt3zWS5cuFatMS8xQFOXM4XvHAUAuHN/U1Izg4B7ihoNuS54w7f8pUyZ3mrawVR+IqxJZcN5VrH5trawpSrOtRkGVlticBepi2sk8hovT0/84yxR+58bw+J3i97eV5BwksERmphnP4z6GY1susQ/BAT3O5HR1c5N+kG3/h9eky5Mvln6OLZu34Mp5V2LuRXMlrFNJZ87O/eKLZVi6eAkuvexSzJo9S+6Rs5rqauvMNV0lbWjx316YjB/jz7Sy0uFEMK48nmnKdOfGsLnxPF7jRHHmeYxrbU2t6U9WSjpY5xCGSax4WljPmedyQVjzRVzPWM+R1+O5jD8HHPj9+DjIMzX3SLc6paWlEj4FfP7l9Y5vM1hpwnD57PiZ9Y0V31N9NoqiKGcDbfkqSifFarRYDSt+Jmw0sPFHqwpr0Ro2TiiU8+/5gHUPZ0toOVPY8OVU18amRomfLBi6exfq6q0V47Xh1hGYZrb8ZbqmZbb6E7fND2xEc1MU5ezBd47b4MGDcdttt7Wur5CTIx3WrVu34g9/+AM2b95ytE7qaPjes3NuhR0YEIhubt1EbHHvptbiHY2nJxexc5b61/Z50pcvfcwqitLxUPh78skn0ad3FDLS0mWmHN1Y/OUvT+LQoUNnrXz9rlj1ActfWjLT2vh4gxuWHRRLKcJax1giLteI4b1a3wnD42cK2LTYPtlmK8Ja4VAotxXFCUVUCvbBISFHxVhbKL7GHowRP919+/XB1GlTv1Ofg21PLrzZZPpVdCPi7OIicWPfiz7BeU3GjWnTXpiMD4+3TYcTwfMZDo/l7AK6haGFNZ8B7/1kceZ1mG5c4JPPglbgFLe5nxs/W99tYZhMD16T1t90l8PnyTjzWOsZ8/cTpRvjzLB5Hl2v8frWIAnDOP4c7mOYjGNgYKAcz2d4snRUFEU5V6gwriidEDaOKRZkZ+fghhtuwD+f/uc3Oqy0sqP7FashHWwaNd/W+FJODae2xiBhw5yNVF8/X9PgN42277/f8oOjq0NX+JvOALHyMxvI7DRSoFMU5ezC941l3ZQpU/DQQw+jb9++YkVGcYFuVd59912xCjsbHVeGaW18/7lAGjvi1qZ0HExfSyDhZ9vnSctPLoxtlcGKonQM1ntGsfOWW29BoPh67oJx48aJb+XnX3gBObl5nebds8pjqwy2LSds4f72BNBziSXiHh8H+upeu3YdWkxfavLkySLYfpd4sg+Wl5sjBkf+/n5wMvUjYRgnS5MzheGeTppa550O1nM+Xaxrf5fr83qnG19FUZSzgfoYV5TvmfZ8jLubBhwtxb/86ku8/PLLsoALfYLu27MPKSnJ2LBxg7j6WLJ0qRx3/Q034MorrhAx92w11n5McHorF/xZseIrsdagNQT99/UKj8TlgWPh7eCm+nhHYRKSnUG6b0ioyUV5VcVRy3G6GWLHcfz48W0HKyejrLxCxE1a37JcqaqslKnQlo9mTl3NzMxEY1OzTLulT+Ha2jrxa8k8zwWSmPYV5jjme362xLPKyirU1dfLtGX6pKyqrjYh0s9nE8rNdenbMjExCenpGeK7mNfh4lMU2yiwcgZGRkYmunZ1RFVVNfLycqVTVFtXL35MU1NTTNmWKufRSosiLM/jTJikpGSxQKJFa3lFJbrYtVqf0d0GfZBa07zZgU1PT5cOF9OAZSP/1plrtLQ0y+8Ueumug/Fg5uuM5SXjSWs1q9PItOC9VJhnwM9cMMuaTcH9PM66D1ux0/bzqcL8Q8sv+ho9fPiwDMDyGpxF4+3tJXUMy8Mz6UQfD6fjf/XlV4hPiJd7L68ol2nZfPfp3oNxUjoOPsPSkmIkmnen2LzPfJZ812l1OGBAf4wZM7ZDn6+iKF/Tzb0b/AMCkGfqvf3794nbDPrfLjH13dixY6Wu64z10vkA638uYsmFTr9Y+oXUW1OnTRMf2axHTjVdWR6y7bHs82WmLeSIWbNmiVW8oiiK8sNFfYwryvcMRag//uGP+Ne/nhMB8LMFCxEUGCCiR9yhQ9iwfj0WfPoZNm7eBHs7e/ToESSuJ4qKimVhk6uuuhp33HE7+vXr943pjsrpQRHvhRf+jb///W8iFjCduWjQzCnT8e8+dyG0qy9atN/SQbSguqEOK1N34Zc7XkZucYF0StiBoUj21FNP4fHHH2879txx8GAsamqqEX8kXv5ykSNCwbmyvNJ8onUr40kBiVOgaTXTagVDAbqsolymjPp4eqO+sQFFxUXw9/WDvb0DCosL5R328vCCm6srXFxd5J6TU1Kk8+bj7SMLJvH+WUV7e3mL6wOmCTeK0bxeU1MjikqK5Zp+Pr7IysluTTdTdvA8+vPsasqEyIheaGioR0ZWprjJKK+ogJenF3pFRkr5k5aehvq6ehNfJzmPAjTzPa9PKLxSjOV9UlimOEshmouI2dvbiXDKfRS8W58dO5YtYmXFhVMZV3b+WWb179+/Na7ZWebaFebcRhGvq6urTNgNbdezEzGfU4oJwyYR4ZHyHOjigyJ+TnaOCO/ssJaUceGpHBHTGXcK/b5mv4uLqzmmXK7PtOH9sWy1pidzQS7ei49J41q6SjJx5RRfpjEX7QoLCcOUaVPgYdLLzq4LsrOyERoaIuFwAID3GxAQINOqS0pK5T5YXpwOjDvTmmns0NUBNVU1eP+993AwLlau19honisjaHAwx/G5cz/jz433xfhYgjq/s07gPsJ0Y7paPkwpcPNYLmrG6e8enp7IzsxG7z695R4+++RTvPHmGyKe8hlwYaxLL74M11x3DaL6RMHJsdUP7JnCsnXOBXOQxIXUTFx7R/ZGbl6uWFb+9IEHzLM++VRy5bvBfPOff7+A+R98gLz8fMkDfNc5rf2hBx/AI798BPYmPymKcnZgmbxk8RK89NJ/ZdHD5NQUqTdvvvkWPPTwwwgx76KWeacO0zMtLQ0LTf+pwJRpbMOzvps1ezbGjR93tC1xqrANtHfvXrzw3PMIj4wwz+Sh067XFUVRlPMDFcYV5XuGIsjGjZuwdWurxfiV8+ahm9vXq6azgbZty1bsP3AABYUFYgFKwYPiDae7T5gwQc5TOo6DsbF48T//wUcffSSCEIU2/p01dYYI42GOfmhuE6iUM4O5vKqhFsuSt+Helf9EdWOdCDeEYg0X/vvNb37T4VajDJvWRBSKGTYtiGmpbBEfnyD7ExMSRFgltXW15nMlUhKS4ejkiMAeQcjNyoazKxcrcjAd3GoUlxSb97QQFVUV8HT3QK/wXnBzd0UDRUo7e1SUV6ChsV7EaR9vXxGjmxqbTHhdUVhUhOqqGnn/d+3dLZZj/n7+IqizY5edky1xjgiPQDd3NxGU9+7fL5ZNXh6esvAShXtilR+c/uvj4ythsvPNKp/WuBTBAgMCRNxOTk6WsDsayz8lr0nx3BJjKcqXlZeJNfLJ6NWrl/zlcYxzd//uch8DBw2En68vMjOyUFVdJemQkJQoIrktTD/GgddlOdsenF5NYdDTw6NNmG+Br0lvLrqbl5uHIFPOjhk3FkOHDJP8cCT+iAwoNDY2yOKUzEeR5rvMKjHPpqa6WkR3ivUcIGH5TX+aTAdroTLCjjzzua34QUs3S+zmAmYUTL5cthw5ebltR5weTAPeP8PmVH6K5fwe1TsKQT17IDQkRISYHmYrLixGeEQYxk9oXWyYC8QdPnIYK1d8ZcrFOPGPe8+9d+OOu+6S59gRcIDhisuvMOkZY96NBgwdPFQs/66/4XoRxplHlY6ji8kHz/zjH/jkk49R1DYYwzYFfefebZ7rn/78Zx1kV5SzTGZGBpYsWSJiblpGugi7FHPvuPNO3HfvfaYcDod9W1tIOTmsTzkwvm7deqm33NxcMWDAAAwZOkTq+O8K623OmNq9e48YI02YOFHaCIqiKMoPFxXGFeU8g1aF7MRSKFOLkrMDLUX+/Z//4POlS0UQpyCXX5B/1GJchfGOgzm4sqEWX6XuwKM7XkNOcb50cpi3KTr+/Oe/wO9+/zux/u1IGLblqqPV4rkWiYmJIkrSTQgF2MrycpS0rbRPC15aV6cmpyAuNs50nGrRMzQEWekZCOwRiIb6BpQUlyDP5BOG4dbNzdxbFzg7OsGvOxdTChVRu6SoBB6e7uLKpL6hVaytrqxGQ1Oj6RR7ormpWSy+afE0fPhwuLq4yGd7BwdkZKajqbEZY8aMljQqKqKbkRQTVg1Ky8tMnLuJhbhJPFTXVEvepVWvq6uL3BMH1Swo5FL8onV6aWmJWAWfyAcnBw+YXpwCTst1CtEUmy3aO4f7mA7crN+P32dt1j5uFJ9pac4FGB0cuopVOa2haa1dXVWNtPR09O7dGxHh4eKCpaC4SKag896s8CyOv9bx8Lem5iaxEm8PCslWXhw9chQcnZzkOi4uzpImjAvLYorNFMMpevM7RXwOpllpxHRm2lIYP5FAfzKsgSLb+7DuzRbb7zyH1uEU56OiolBcVIy8/DxJXwqgfP5Mw0suu0z+cnDVy+zjABEt9jk7iYM8fD/KSsuwaOECfDB/vtzb6FEj8fs//BGTJk06LdHhePLy8nD1vKuxe+9uSZ/Q0FAZJLj//p/gJz/96dH7VzoIk55vvfoa3nnvHZkVYc0qYJ646Yab8My/nm0tRxRFOaukpaXjzddfx6LFi3HocOsCnHwPaRBw0803m/rZu+1I5VSg+z3OQuvm9u0LXp4M1uNsPzWZ9piDQ+uCkWwHKoqiKD9c1Me4opxn0AqSokt7Qo/SMVCoWbdhA3bv2iWWniHBISgsKkREWDjm+o6Al72ryuIdBHNxfXMjksqysaX4EEoryqRzyPxNsWbYsGEyK4JWtx0JxTa+R5ZATEGO7xYttmj9TfEwLzdXxE26OwkMCpQ4NDc2wbWbG+zs7cQPs4enhwh57DTRJQpX96el0oD+A8TFBv14u7l1EwGR1+se0F2u7ePnKyIjO1wRvSLlnp1dXMVKzL+7P2bPmoV58+ahZ0gwHEwHjy5BIiIiTVqMQ/9+/eHk6AxHZydxoTRt6nT06t0LkyZOwpgxYzBixAgMGTwYffr2xWDzt1dEL3HNwnvy8HCXew4ICDT3SR/fdSberq1ic2QEvD3pbsNDjmndvMyzsIOLc2vaWM+hi/nHTjvj1WL+We48rM3yfc2Nojrvz9qI9ZnPmMdTWOZzYBrRQovp6GzukWnE7/Qj7mDnIO5YKECz00pf1BXl5SL+8npWeNyOuVbrBWV/68evP9Miv7tJbw6EePv4yHU83N1NPOiCpdW6m8+LonhNXY2cR3c4dEFh/U6xmfFnPJhmriZNmM6urgyTaR0g5QjvjVZnbma/f3c/c6wPvE2atpbprXnE3b2bLD5JP+o8h8cz/lYete6P12TeYdrxNx7LsBgO8yutgsNCw6RTP3z4CImXmwmf6crr0qK9m7nPKZOniP9UDrQyLFrC01qOg0SbNm2UmUwHDkQjx7wLfB/oj55+5PMLCjBkyBBxRXOmdRGf8R//9Ed5pgyL98bP06ZNE/diFCmUjoNpvHfPbhyIPiB5mPmb7wTz0JDBQzBnzgWyTzk5TDMOYtKq18qjTE+WBRYU6fhOEStN+X7xXEto4+f23iG+5/xNyhnzO90ncR+P5fvBgTaGxY1lAwcsufE7S2j+zvN5DuMhpbY5l2V+tanXrHOt4xkmN94L6xwey89WvBkWZzpxFpIVX4Ztle/8zGM588ZWRKQLqPM1P/G+SHvPpyPgYHh/01bIzc5BTGzrDCQ+g5KSYlPP95N6mmX42br+Dw3WHS4dIGIzv7bWsU7y93zNv4qiKMqpoxbjiqIox8HFTv/2979j4YIF0sBm55Cd3QumzcILfe5Ui/EOhN09y5XK/aufQWV9zdFOCDuJ999/P373u991Ov+OFCJaBQWIZS6xhAHC35hvKDYR63h2sug6giIop+pSFB06dKhYdFNAcOzqgLr6Bvj6tPp/PlUo4PPavKZYd5vwGZ/cvHzk5mQjJTVVvhcXtvpw7x3VB/l5eaC1uLuHhzneAzW11SjIzUNREa2v2wI2sFPOTVzEVLaKwbRO7+7nj7qGeuTk5oiAYHXe+ZcWv1aHklbH7XUsGQ+eR8GeaWg1R3gvFIPoUoMuXuiP3BJfeH+0bKaQXVZWjtraGjmX06gtKJJTpOY5jIt1LtOTftcJr0RhecqkKRg6fAhqqmtaf+tiJ8IPRfe169aJuES/11G9e0sYLAd69uiJ9LQ0pGdmws/PV4RvXofPctCAASguLoWPj5fEz8XN9ajPcrrRqautNXGrgq85j8nFWy4sKDwaV/6jv3QOxFFA9/X2QU5+rvzOe7TuhVbqfMbMM7xfiu6BJh27OnSVxUXzC/PRM6iHuWcHjBw1Ek4uzuJHnGklwot57ryXvn36iEsupg3TnII4p49vXL9BZiSUV5Zj69ZtkmY8hs+K/tQZxr///W/MmTPnO+XT46Evei4oPWrUKLHCZxow3/BdefTXvxarcT5zpQMx7+L/Xn0V77737jEW4xwsEYvx556RfecKXpt5jxufNfMW30GpHMz7QfdQLSafcMDSymt8f+Vn8y6IC6TWL/yp7Y/5n7xPrXAX8z9n/vB9sQbveL4c1XYtC+7nLJXWvMjFe1t/5CwfCtSczcIBnSoTV39fHykbmWZ8l/sP6C8zLuguiusOcKYRF/ALCgiU+KdlZKCpsUHeYYbL8o6DjoT5n2Ul04Lx4/X5TnqZcsDL0+Po/XMWEWcg2ZarPJfvNP9ykLXOlI09TBnAe+OMKN4zXURx1ku5OZfHWXANBQr4TaZ8oU9/L28vGSDkIB3LDK7pwOulpqYhIDBA4sFnRfdRrNskbR3spWwoNeWevynfLDdlhUXF8DHhcX0Ivu+cxcT9HFC13nfC8peDtCzXWG+2Ptt6iTeP4fX5mfAY5hOmubXvdGB5yjD4DJgPuQgmy3zC+2M5xHiwbOd1uI/3bpt27cHnYjtAQpinOcDK/VY43FrMdWnp/Oijj+LLL7+UcznAcdNNN+H666/H6NGjpdz9tmsqiqIoinL6qDCuKIpyHBs2rMeTTzyJNWvXSoeMHTn6vp09daYI47r4ZsfBZKQwvjxl+1Fh3OoAstP6wAMPiDBOcbGz0F61yTh/1+qUnXGeQxGgPeGYnEpn+Hytxtn5p9hgiT0WvB8KB/zLPEABm+lAkYJiCC0eS0vL0GyOoUV+aZsbFetcWpUfOhQr1uR24te93Ly/TXBzc0Fhfqtfc1r8BwR2x4CBgzB58mQRPg4dOiSiRWhomFhG8lrxRw6LkNSnT18RZjg7oJuHByrKSk0oXVotxF1bZ/Ecfx9nAtOGwpg16GIJOPzL/RRxmHZc8JTCG+/eydlJFmrloATdvVBsY3owb51KPuL9rV27Dn//+9+xa9dOuZ6Vt5guHJy6+aYbMXPWbMm7w4YNF7c3pxL2iaAl6549e3DppZdIOvN69C1P4e+2227TxTfPApxN8Mp/X8T7778vMwGYb5mfmJfPlisVPle+05Yoze8UPflc+Z5xVgJ92ZeVliIlKVncTfE3Hse1BJjv/Uxeo0BLIZvvL8Pjmg90qdRo8hHLUZ7DvMrfKZhzVo8VDvf7+vsgP7cAAUHdUVxUIi6tGDbjwnRgnies9ykiu3VzNcdwUV6KuHaylgHThu9ZSRkXpa2VmRpc+JhiOH31Uzime6yUtBQpq7hGAq/RJ6qPzCThIGVq20Clla9Zv3EwzyoP+Q7zfjiTgwOpjD+P5YwPvid8/2zrDP7OOPMd5WeeQ+E9IiwClVUVUkbw/W5vkJLH8745w4SznngujwvuGYzhQ4fJehrBIcHITM+UOKdmpMn1ObOOAj7D437GlzNICJ9NZmam/CXW4Ce/e7h7yKAq09fB3gH+Aa1lSEFeIcJ7RciMJ7p/4j6W7ZzJQ1dqm7dslcWc+RwH9O+PpKQkmfVirZtwMqwy0zqO98z6hOt6cAAgJSVFBPH//Oc/iI6OPpo3TweGzTqLz4rwmTKs0OAQhJh0DDZ1iDlK8hBn+NTUVOGaa69DVnYO7rrzDhmoTjgSL66vxowehUd+9StTPl4ueV9RFEVRlLODCuOKoijHsXnzJvz1L3/FylWrxJUBBaCdu3ZiyvhJeLHfPQh3Mp06W/My5bRh1/NkFuO//vWvRRinhdgPDdvq93Q74ecrJ7v39polPMZ2/8maLvyNIoiFdSyvYnsWw+RmCdqWUGV7Lf7lxn2k9e/XIVn7LY7/frocjbNNXE6E7bHENr4WJ4oXj+V90/p1wcKFeP5fz+PIkcNHj6eoQytQ+ru/6667MXv2LBF9yKkK7ieDQtmRI0dEBI+JiREBa/zY8UhKTsKV867EAw8+CLrrUToOCuN//MPvsXjRIhFjmf/5HPicb7npZvzz6X+KK42OhGU5xVbOeqDYy4Gqw4cOmfzlIAIlLZy9PD1llgIFysSkJMmX/C02Osb87iSDVyXFpZLnvH28ZACMC+AyzxQWFGDcmHFiEd63X1/4+vvLehDZWVlizcywmG89vT1QXFQKP38fSQeu+ZCRmYHUtDSZYcG41dTWoG/fPkhNScP+6AO4/LLLWgV5E86q1avEapoCK+PB3N9s3iHbd5AbhW4K4hSLee+MY1BgkCk1WgcEbMVuYpU9lsjMjc+F+6zvtsfbXo9Yvx3/O8OzPvOv9dmCx/Md52LM4WHhMiMoLS0VnO1CIZt5gu6lps+YgUMxsagzcc/MykRKaquQbIVx/PWJ7fWO/629z1YYFNfpsovCsY/ZeA/MBxTk+TmkZ4h5lk5IN8+Ngyrc920wvRlfPhc+D24czOR+Cu3cTyGf17HibRtHYt1Le/BZWb9baW49Qw6mMo0pjNPlWWhYGKL69JFZSHb2DmiorxNXZoT5kFb1b7z6Kj7+5GOZiXDHHXfgscceQ0RExNG6SlEURVGUjkWFcUVRlOOgUPPaa69j/vwPxCKKncY002HpHdkLn076Lfq491RhvINg15OLb36Zsh0/WfMsKuq+7myz8/r73/9ehHFrurWiKB0HxRsKln954kksXLJY/IizWWiJTVOnTsVf/vIXcbdCYZLv4fGC0ZnAa8lCm/fej1WrV6KmtlYEIO67/PIrxGKcrmqUjoPP709/+iMWLVx4jDBOC9cHTXr/6v/+71stcL8rzGcUhykKJyQkSNkeGxcnrn84G4uLBRcXFiPxSLws8hvZuxdycrLFrQ8FTX6mdTbzC+PP/Mk4MxzGlZbSzJtZmZkmvEaMHD5SKpfC4kKUl5WLhTNdxRQUFIh7Ebpo4rm8Z95/pMlzQ4cNFddT27dtE7GUv/N6vcIjxZ0R48+N16V7JS8PT/HnT2txW3GW53HGA+Nt+65YcaZIyvhaAirJzs4WEZ2zPLgoNGeMWLOkeE4G3a+Yv7bh8VwrPazvpwKP58ZnwvQfP3acDDznFxaI+5fw8DARc/Ny87B33z6xNOcsDj67TBMPiuOMi3U9Kw7Wdyt8fj/+N96zlVbWPgtb8Z/3zs9Mb36uq61Dalqq7OPzlgV6zbNivuHxFvzE9Rn4ieFZ17bCtr02f+N9EO7nMRb83TrG+s7Px1zLJmzG0cobFPYp2DOtOPjC+IaEhMgaNVdfew1mz54tVu62ceHxtFQvKCiUdUtiD8bivy/9Fwnx8RLejTfeKG7lLAFdURRFUZSORYVxRVGU4+CCc0899TesWLFCOtvsPLNjGhkegQVTfo9+niFoavm6E6WcPuxmUhhfmb4LT8TNR0JasggLhJ1MunWg703bDqmiKGeG1fSj6PXfF/+DV155VdxqEAo9LOuuu+F63HTTzYiK6i1i3tmA14qLi8OcC+YgvyBf3CuEhoSKWD99+nT89MEH0bdP36PxVc4clqWffvIRXn/9DfFfTeGOZW5kZCR+89vf4vZbb4V9Bwvj1vPjXwqs1l9bcZHlfX1dvbhBYb1LcZgbBUSKxXSbQr/ftGCmlXZpSSnoxojHMgxbMdvZybnV177JU3SlxHBoBU0RvP+AAXKt4qJC+PjQX361uPoICwuTOFKktGD8rPRhuNa+ktIy3ozEJz09XdoI/L2yqlraD/ThXVxcJGsK8Di6X2pqakbikYTWNkVwq8uR/LwCNDVSaG8SC/PK6lb3WkwPXteCoqt1fcI4ME24WQLrqcAwKMDTEpzW+xTo6b4mIDAQIT2DEZ+QgMKiAkk/DjAwLRgPCtG8ppUOPJcW5XyGdO1iK/LyeKYHxX4ez/MI05yuXYYPH2aelSMKC4qO/sb73bF7pwzUEArN1iABw4s05dHW7dskfF6LzyrYxN2p69d+vPkbLckDewTJQsNHDh2Gr58PigqLxdWOdS3Cz0xruitpDw5s2LqraQ271T2KFYfgoJ7IN2nFvMV8xQEFL0/6ZvdEn759cOTIIfj6d5fzy0pLTFz8MXv2BRg5YoT4W2d+LjFpz9k6q1auwKpVq9DPnLdy1Wq5b/pot94RDg7ed999YiigKIqiKErHo8K4oijKcdDX8D//+TTefvstEYTYkeUUWzcXV2y86t8Y7BepwniH0YLq+jp8lboDD2/6D4oqS6XjyY3Tqf/xj3/g3nvvbTtWUZSOgCJdcnISPv3kY7z2+hviUoDCFa1q58y5UBZ9GzN6NPy7f23ZeDbge85Bx7lz54olMQUyCpwUmyZPmoifPPAgxo4dJ/uVjoHP85//+Ds++eSTo8Iqn33//gOkvL3oormdzmUD8wkXmqW2aQnGFIsZTwqHzB+8D0v85PHM4w0N9fIbj6UIyYU0w8NCYWfOo/9xns97Z5is508VhslrELYNmGcJw6LQaV3TyrdWelZXVYtFs/iLNqe3DhJQqG39TDHauoeTwWMYviWY87qE17Hiw2O43/qd4fMvrcPpRoQW7RTJOTjG2SA8h/mBcWa7p7q6Ru6lsrJC0ofrOnDwhO8rz2l9Di3yOTUlFfm5uWLtnJeXLwsIe3t6ITc/Dz7e3iK085qjx4zBjJkz4Ofri/TMLHF1wzAZ1/T0NMSZtldlRQV8/fzEst/Ly9PE112ulZ2dJYI5nzNFebq54/oDHJwgfBr8jffBdKCw7WjuQxZvNWlwbKq2pk2daXsQpiOPt9p7vCf+zu/8Ky5bTJj+Jl5coJPhBQYGmd8dZHYLRXMOrjAdGTf6Uac1uwzaMHyT9hxs4n4O5jB+HDQ4ePAg/vfmm1i4eLEMUPDZcFCQ1+Q1RowYbt7Hi+Dn54/w8HBcfvnlEl9FURRFUToWFcYVRVGOg4s6Pfvsc3j55ZeOdmiJg509dt74Ggb790Jji+nAHtfVUr47TMHC5kq8WLgSz332uixWxs4tO41cDO7pp5/GXXfd1XqwoihnDC1cP/vsM+zffwDlJSXYe2C/+NeN6h2Fn/70p7hgzhxERISL2HMuoHuL22+7HevXrxM3DYTC0NDBg/GTBx7AhRddJFa1ypnDJj8FwL899VcsW7ZMLHRpgc39dPfw+uuvY/To0cfUez8UKDqzXnE5R/m6s8FnzI3164mgKG79Tl/XFNnr61v9bvMzB6uZZ/h+tkKBuVGsm2uqa2ShTgruIrq7uIq/dgrVDiY/0W89B97ox5376BqHeZFhciyA4nRpWZmIyF0dHeU5UWimON1ortdknh2FfIroJ7uH04X3xHAZPu+X8DNhviEU6CmaE4rejBsH8bifG88/lbgxnSmKv/3W/zB//ofIN2Ugr2UNpLDtc8011+Cqq67CoEGDpCzm79yvKIqiKErHo8K4oijKcbCT98orr8jCj61WUa3Yd7HDhxf/EbPDRsPZQX1edwRdTA2U2VSKX2d/gCWff95qAWf+BffoiZkzZ+G+n9yHsWPGth2tKMrpwgXz9u3dhy2btuCrlV8iLCQM06ZNw+rVa9BvQD9MnTIF06ZPFzcL5xK6YvjrX/+K1197DZVt7gsoRA3o1198jF96xeXiCkE5cyi8ZaSn44k//wlbtm6VdKZLij59+mLk6FF49P/+T8RLSxBUFKVjEdcpq1bJjI2tW7YgOydHyjx2x2l1ftvtt2PwoEEYO3asWNP/EAepFEVRFKWzcfbmxyqKopyn0IJp6NCh6NMn6qjlkGA+FlaXoq6poXXernLGUIDhdPesjCxJa27NTc247rrr8eCDD2JA/wFtRyqKcrrQqnHTpk144YUX8O5776KoqFjcGlx40Vzcfffd+OUvf4mrrr76nIvihNaQk6ZMQVCPHkcFIpYLVdXVIiLRT/Mx5bBy2jBdaaFfUFh41A0HXUJce+21uOvOO+X5qyiuKGePPbv34M0338TixYtFFCcs9yaMH2/K4V/gl7/4JW6+mWs7RKko/gOE5e6R+CPYuWuXDApbswQURVGU7xcVxhVFUdohOLgnRo4cddTXowi2aMG+8hSUNVTBTsWDM4aW4SKM1zcgNS1N0prfe/fqhUsvvxTDRwyXqdOKopwZdCMRE3MQ27ZtQ2FRoUzJnzFrpvitveqaq+Tv9wVdEgwdPET8B9NambN0WA4wnskpKSgvK1extoNgPVZQmI/6ulbfyiQiMkLygrX4pKIoHQ9nZ6xZswZvvPEGdu3aJd8pfAcHB+OGG27Ao79+FA888AACAloX7FR+mNBf/ZJFS/DxRx+LP3lFURSlc6DCuKIoSjs4OHSFu4eHWI9zQSQKM03NTfg0dSOyqgth18VOhF3l9KGP9oamRuRXFIsVIy1nmM5Dhw6hgiMdCBXEFOXMob/eHkFB4kea0/MvvPBCsVBk+fZ9WyXSWtLdvZuItpb/Yb739D+clpaGvLw8LQc6CKYxF0qkn2grTTlIwgUDs7Ky5buiKB0HLYS5YOfHn3yKl19+GStWrpBFTmUx0tGjRQx/6qmncNlll5t93drOUr4LLNeYzlyjhgMO/N4ZYRuXs6D2792HrIwMKYNZ/ymKoijfP1oaK4qitAPFmYCAAPTs2RNeXl7SeOWU/+LCQpRUlKGhuQldWlSsORMojJc0VmFXZQK/HBVquChXSXHpcYt8KYpyutAK+8or5+HxXz+OXz/6a/zpz3+WheM6A3zvWbb6+/uLuGH7zufn5yItNVXFgw6CaR0dHY2S0lL5zEER1nUciGw2dZqiKB0DBdqsrCxxYfWPv/8dv/3N4/D18caQwYOlXTl37oX405/+hMcee0ysxpXTRwb8TD2xY/sO5OXld1phnHkiL79Ayt2IyHCdEakoitKJ0J6GoihKO9CyctzYsaioqEBmZqY0tCmUOzo4YldRPHJritWdyhliZ/ouZQ512OuRL25qrM5MvwEDMGzEcBHKbBc/VRTl9AkLC8Vd99yFe+69Bx7u7m17Owd8z2fMmCFW4twIhduykjLkZOcc9YetnD5MP/prz87OFp/z/E5L8aCgIFn0r1evXm1HKopyJnBwj7Ndnn/hBTz00EOY/+GHmDJ5Mi6//Apccsml+P1vf4fnn38BF1xwQdsZyplAS+x169bhjddeQ1Ji4lEji84G67G83Fa/8gMGDFJhXFEUpROhwriiKEo70EKRVh2cxs+/FBEokLNhu6o2DimNBabx3bpQnPLdETc0pvNSU1sjU/iZjpblaM8ePeHq4iLfO2sHR1HON6z3qTO+V4wPfY1b5S7/csvIysSGjRuQmJDQ6eJ8vkGx7uDBg6iurpbvTF+6c2CZ2xnzhKKcr5SVlWH58uV45eWXxY0K37XBQ4YiJDQMd99zD+68+y4ZkNJ37sxh21EssfNy4enlAW8f706brnQPGBsbK0K+f3d/dHXsHLO2FEVRFBXGFUVR2oUNa1rTRURGyjRXdmys1eP37N+DTFp9qJhw2piUk/Sjr80dO3dI54auHeZdSYuqi2URPkVRfhzQYnzipMmyngMX4aRgyzKBW0pqCrZs2izH8btyelAYX7tqtfi4JfQt/vOf/xz33HOPfFcUpeOwyi8O+E2eOAkXX3wR+vfvB09PD2nrsE3Z2WH8WW5ws+6Hn2kgUl9ff9T1FfefCOscitfWOfzM9rTtefzMffyNW3th2v7OzwyXYWZkZiI7IxseHp5wdHI65pjjYbjcTnYMsY3P8fdo/Xb8fVnHWfuPD5v78nJaLcb9/Dgj8mth/ETXIvx+snCJ7TFHn4/ZrOOPD1NRFEU5Fvs/0cGZoiiK8g3YuKSPyJ07d4obFU7xl8ZwYxMG+kVggG8o3Lo6tx2tfBe6mDZ6cW0F1qTvwbKkbbKPvm4f/tnPMGrUKLFiVBTlxwMXCH3nnXdQ17aAGq3raD1Od1Zd7Lpg6tRpR62ble8O0/XpZ55GTpswEx4ajnlXzcPQoUPlu6IoHQPFcC4kXFpaIj7F2a4ZMGDA0YWFzxcKi4qxdt1a5Ofly/1wtsnOXbuwfNkyfPLhR4iJiUZZWYX4TOc9t0dJSQnWrVuPTZs348P352PXrh04fOSIlOU0gGAZTyjcsr29aPFiHD58GL179/7GOhhJSclYvWYNjpjz2T6nuxp+32rCzszIhJ29nayfcOjQISQkJMgi+XQTdTyM04oVKxAbFwdPT0/Zjofhx8TEYN369SgvK5O4ynoMBvYDOIN0w4YNcm8fz/8Q0dH7Ye/gINfjOXv27IGbq+sxRh5cZH7J4iXy+fIrL4eP99fW7UeOxMu9ZGRkmHN85VxbeM0VK1dK2E4m7dgnsYXpx3V5Nm/egs+XLsWCzxZg8xaTLiZNXUxYfH5adyqKopwYtRhXFEU5AWx4TpkyVfyx5ufniyUGYUP+zejPsTJ1F+ztuqolxmnADktaUxFW1R+SxjrTlJ2rIUOGqN9FRfmRwTKAQsns2bOkPC0vLxeLSu5nuZuZmYEd27dqWXuacKAhOSlJXDxY1oNDhw9DVFRU2xGKonQUbM+Eh4fjD3/4I37/+z9g9OjR5+Vgf0pKMjZv3CRC9J69e/HWW2/h4w8/QmJiAsory7Fv7358vmSp+Z6M+oaGtrNaYblNtyEvv/QSFi9ahMOH4hAcGgL7ro7Ys2sP5r//Pg4ejGk7urUO6GLK/OysbGzauFHcPnEwz4Jt8HVr1mDThk3ynQJ0cnIK4kwYh+MOtw6omjikJichev9+WSjfsR1XJSz7OENp7+692Lh+vbhLbA+2+1etXIk1K1fD2ckJLi4usp+C+a5du8Sf+fLPvzBxSIKzm6uI+h+89wG+/PIrrF+7Dvv27ROR3oLpU1hYhOamZvj6+0o711aoTk9LM+etRcyBmKN9DQvGuai4BDu378SuHTtQUlTU9ksrjY1NSE1Lx//+9yY+++QTc2wxQsLCxGXh5k2b8NH8D2VAQ1EURTkxKowriqKcADaE+/XtK1P7Oe3cmvrKxmx2ZSGiC5JQUF2ii3B+R9jI72LngJziPGyO24Uu5js7jbNmzRK/m+fDFGNFUToOlql87+fMuVBcWHVz7wYPDw8RcSkyUXRYsmTpMUKCcupQNKJYU1tTI2no5eWF6dOn6YKbinKWoLVzWFgYQs12vlmKW+Tm5KCkqBjbNm/ByhUrxPL4mmuvwV133oV7770Pkab8KC0pEQvt6rZFky2OHD5syuzFKC4uwtSpU3DLLbfguuuuxQ033IBJkyahoKAQB/ZHo9icT5g+dKUVHh6GstJyHDhwQMRpUlVdjdUrV2P79m3y+/jx40UYZzjXm/C6B3SXWUUXX3IJ7rjjTtxx5x246KKLxA3i8fA6FKVdXZ2Rl5sn8T8ezlbauXMXDh86IvfY04TD50lRfOfOHVi0YAGys3MwaswYua8777oTd919D/r264sN69cjIT4Bvj4+YhFuQbcmRUWFEs6AgQPh6NhqfW5RWFCArIxMtJg6z9vrWAt2xrnEpGNJcbEJ1w9e3l9boXPQk9bx/3v9DRn8nDZjhqTJtddea9LiDkyYOFEWXN6+dbsMOCuKoijto+qDoijKCaBQ06NHEC4xjW02iG2tONhQ3VAYg82FB2Fv59C6mKTyrYi1jp094mozsDhvB0qLSmQfO44Xzr1IRDGmraIoPy5Y3tKN0qiRo+Dk6CSiCMsCbjU1tTgSHy9T7CmWK6cGy1ZudOmwavVKVNfUyH5aivft21d8uSuKorRHYWGhKTOqZZHI/v0HYO7cuZg2bRqGDB2KESNHYtSY0dJ2S09PO7qoL0lLT8fKlauQnpaOyZOn4KKLL8awYcNFqO4VGYmJkybB29tHFibNyMxoOwviPmTYsGHw8HTHgX0HUF5eIeXX9m3bsGv3TkT2isTFl1ws4VBgDg0LRc/gUBGH6bt90ODBEjdei+sDtTf7kPUJB1tdXV2kTV9ZWSXn2yIuY3Zsh6NTV8yaPRO+fn6yn3XQ6q5iDAAAAP/0SURBVFWrxSJ78tQpuOzyyyS+fUx5Onz4cFw570oR3Gm5HhgQCG8bNyp0xZiUlCTuXjiboGtXh7ZfzPVMuVxWVm7i5QAfH++jLlssmAY8t6qqEj169jjGPQst6Vd89aV5VvkysDznwjkYPGiQSaOe6NOnL8ZPmICAgO7Iy81BUVFx21mKoijK8agwriiKchJoKX7llfNk6iWt7NigZiOVIk50fhI2ZR5AaW0lurSomHsqsFNSUVeFFcnbsTRhs6SjnUlT+j8cOmTICf1UKoryw4ZlA8vbyy+/HJGRkSJWsKwlLCe4UO8777yNsrJSFcdPAaueopXgwgULkJScLGnKtJs6dSoiIiLajlQURfkalh0sK/Jzc0U8njBpIubOvRDhYWFSpljHdPf3F6GX+1h+k7r6euzft1/cqPTt2x+Tp0yBr6+v/GYREhpi2tOe4tqpwsaKmWI3XerRv3hRURFysrOxd98+rF65SsTiWbMvQL9+/dqOhiwwmZmRgfKycviZuPD8U8XFrRscuzrKACwNXyxoLR57MBYpySkSj6ioPnJtHrd75y7Exyegf//+uGDOHJlNaktoaCj8u3eHvYO9+C239RNeXV2FlJQUSScuvMm+hIWkQ0WFnEux/3iY1impqeJDnHWkNaDJuNJa/2BMDIaNGIGp06cfY6VOKIpTpKfYT4t1RVEUpX1UGFcURTkJbBAPGjQQF1wwBwP6D5CGNxupbNzWV9difeJufJmyDfZ2XzdylRNjuk+Iq83C+ox9KMjOk7SkVc+0adNN58nnaKdL6TgohNXW1qG2bVFDprmidFamTJ2CGTNmiBsCDpRRmGG5UFFWjjWrV+NgTPQ3LPyUb8I6iumUkpyMjz76SD5zX1hYKGbOnIkePXq0HakoivI1bCPQWrywsBjd3N3Rv1+/b4jbzc0tqKqqNgcDgQEBR62cucBk/JEjUt6EhIVImdMa1tdbTXX10XYIf7fF2dkFI0eNQlcHB2zcsAELPv0MFRWVGDduvAjStm3EJnMNhmcCQXhkxFE/4KdCdxNnZ3N8tbkHy2ULoWuVrVu3SLzosoXuXRjDxMQkxMXGwdPDQ3zG9wgKaj2hDd4PhWqK9JYhja2hB9tg+bl5pg1s1yqe2wjjebm5Ilr7+/sjOORYYZzhcisw5zJ8L6+vhXEOFlPEb2xsRs+ewaiqrPxGWpeXVaDR1KEMo6lJB5QVRVFOhCoQiqIoJ4GNY1po0C+ij7ePNEgtq3EHewfsy0vAwoQNqGqslX3KiWH62Nk5YH9ZCvaUJUnasgPRJ6oPbrvtNrUWP0uwo/re++/j448/kem4KiqeOkwrTgtPS0sTP836jp99KA6MHjVKRBBa5FFgYLpzYTY+gyVLloiVIffp82if1rK21Vp8544dMoVerOzN/uuuux5DBg8+RphRFEWxYPnBOo9WxpzN59KOyyVaWaempsrApZ+/HxzbhHH6JWebgz61D8UdwuJFi7F0ydJvbBkZGXDr1u0bYjYXzIyIiJT24cYNG5GemoZxE8Zh4qSJsu6ELYxDWlqqlG1RvaPadZ1yIvzNfdGdCt1M0VqbUCDngp4Mc9CQQRg+YjicnFrbpQdjY5CdnYW+/fqhr6mbjodpRrcmBXkFYg3v4eHe9kvrQqQUzLm5uDqbvoTXMQJ/umljcBFQivBe3sf6F2e4HIAoLi5p6494HY0TF/dMTU2RdOBgxBeff/GNdF6+bLn5LV7Shs9SURRFaR8VxhVFUb4FWSxnQH+4dnOVqaSupiF/VJDpAqSV52Jd+h7Yd9Ei9UQwtexM+mTWFGFn/H5kpbX6laQIdvW8qzB69CgRyZWOh2L4vffcjYcfehBbtmwVcVH5dtjZPGw6m//+97/xr+efR3R0tKbdOaJP334ICQlFaHAo+kb1abMap6/xGvFdywXQ+CwoFBwti5WjMF2Yf2ktvnbNGpNGzbKvR8+euPyKKxCk1uKKopyE/IICKWN9fHxFsD2e+vo6xMUelHKGrkEsw4bS0lKUl5dJo6+spBSHYuO+scXGHIR7N3cZAA0JDpHzCEtyukehz3IKx2wT0up83Lhx0lY8nrq6WolDU1MjfE0cvosrFYrEtE7n4p/0ZU5yc3OxadNmdGmxw/TpM8w9tYr9rGOKCgtRb67H87y9vGS/LRTnuUg048/ylZb2FpytV2DOd3Z2Qmh4mNwXy2MLLqrJGVE8x8vz2LB57bz8fPFb3jO4Bzy9WgcHRDCvqJDFUVk35mTn4HDcoW+kdaqpA5ydnNDb1KO2vskVRVGUY1EVR1EU5VtgAzYgIACPPPIIhg0ZJh0ANkq50YXKrtzDeHbPx8iva+0MKN+ki0mrppZmvBD3GT5LMx0Pk6a0WOw/YABuueP2Y6xnlI6lNa1bO5lMZ9sOmXJiSkyH+dNPP8XLL7+MV8y2cNEisdpSzj79+vXFpEkT4Ws68rSWY55lecu/FB5eeOEFJCUmihhh/aa0wrTge56dnY0vvvgce/fvk32c7fTAgw+iT58+bUcqiqK0T0F+vgxE0sWdh43IS1ieVFfXoKigSMoaPz9fcX1CKirKxR0Jra3/9o+/4R/P/LPd7ennnsE1115zjBUzRfaEhAQsWbwYPYJ7wN3DXazPGR4HR21hHKqqGIdiaYf7mzicqnEFz+XCmM7OzjKrpqq6dQFOWsBnZKQhqm+U+DK3ZtU00GVLfiG6mrZ/9+7tC/AMk3GtN/dA3+S291Vr0rG4uEiE+AEDBx0TT95XUWGRiOe+Pt6yAL0trOO4cGZ9Qz2iovqa5/F1uKWlrb7JBw8ZhL//4+/tpjO3Z/71LO686w6xZFcURVHaR5UIRVGUb4HCCxv/bOzSooONZW6WmEtL6N3FiXh4z8uobFGXKu3BNDxQkIh9KYdQYRrz/B4VFYVrrr4KgQHd245SlM4DB8CCe/YUn6Kcwh3cM1gsvpSzD8uHyZMnIzgsBPGJ8eK/1hIpWL5mZmbio4/my8JrhMcrrWnDtOBfDhysW7dO9jP9Bg8ebMrbq2WwQdNLUZT2YNnBLT8vT9yh0CjkeBcmFH9pUU569AwSdyhWmcK/VhlEUZft5BNt1rGEAnFyUhLeevNNVJZX4qqrr8HkaVNRV1uPAwcOyGKctnCAlHHg+YFBrT7OrbC+DR7Hep31uTW4yoHE7dt2mM92mDZ9utQ33M/7oC9vWs9baXP8dbiPoj7DoCW9l7eP+C+3oEua/LwCEdS5GKbt+UUm7MrKKgSHhpj6LvSY3yTcxkbExsXJIAXFdlt3MXKs+Y/3YGIm39tLZ278zTZsRVEU5VhUGFcURTkF2KCkxd30GdMxeMgQRERESGfBaiTXmobvtvRovFK/AbUtDbJfaYVpQWvx9zLXYW9potkBERlvvvFm3HLLrUcb7YrSmeD7ffXVV+Ott97CO++8g+uuu078XSvnhqCgIEyeNBnTJk/FhLHj0bNHz6Ode/62fPmX2LBhA8pKS9vOUFrL0S6IiYnGksWLZACBYswQU2f9459Po2fP1jRUFEU5ERRyc3Ny4e7RDYFBgd+wkKZ1dVFhgbTdBg0efIyfcE8vb9koJtNPOdt/VnvY+my7j/Az/Wx/9tkCVJRX4robrpdZQ3RnQov1w0fixQe37TkUounehMKwf2DgKVuLW1BIDwgKMOHUo9zUIVmmrMzMTEOv3r0waNCgo+Uk/9IVCcMvLSkTtyvHx52i+b59+7B39x5ZzJPW6y7Ozm1HtC6SGX/kEOxNGL5+fseUway/amtrvtEOZri8R/piz8rMkIGAViv3r9Pahxbmpp2Sk52H4qKiVoH8uLhZm6IoinJyVBhXFEU5BdhgZcN1ytQpGDpkCDzcv/bzx40dA3vHrnhn6cfYlX0IDc2tCxxqc5Rp0IJH9/8Pn8asQXlFuewbO24cbrrl5u+0WJKinEv4vlMInzZtmumgT5cOOvcp5wZa7E2ZNhVXXXuN+LgN6RksBSrL25ycHJlC/umnn2D37l1i2fhj7/zz/im8bNm0Cc898yzWrF0r+1jGjhs3FoMGDjjqB1hRFKU9mk2ZwUUdKcT6+vvLApm2gi1heZufly/7A4OCjhHOQ0NCEBoaKqL41q1bJBxbuMAlfXnTFYsFy/MVK1YiMT4eg4cPxZixY6RNHUor6pBgZJiwkhISj1k4nGVbc3OTxMGy7j5VeCw3+iXv5t4N8ea627Zuh5urOy6+5FK5H9vw6N4ksEegLJzJwUbG34Ki+J49e/DBe++juKjYpJmvHG97flVlFXJz8lotxrt3P6YdwVmo4tKlrM03extMp107d+I/z/8bCYcT0NjQKIK7NWvNij/X46CbllVr1khcbKmsrBRLe1qbK4qiKCfH/k+Gts+KoijfG2zk2jYkOytswPbt00esTHr27CGNd3YASJ1pyBaVluBgYTL6+IQg0M0XXbkg53lwX2eLuqYGPH7gbXwcswoFpUVoamxC3759ceutt2LKlKmmg/DjTZszhdZEfG++TaxlR+6tt/4neXfOnDkY+D0LZFVVVefs+kwfdjBpSfVdLcoIyySex+3byidegwt50VLsfCjLzge40DGtw+27OsgiYhyoyMnNlbzPNOZCb7SooxBDV1cUTn6Mac98zjy6d+9uvPvOO9i8ebPke75nQ4cOxZNPPonAwEAd2FEU5aRwkce9e/Zi3959CAsLw/Dhw74xU4oW0Mu++BxlpWWYPnMmevQwZXSbqyvOrGw07Twu+p2akoqCgnxU19SIL+9Dhw5j5coV2LZ1q7Sf/fz9pc5cu3oNtm7ZgsGmrLr6qqvg6+srZZW92YqKS5CUmCTt6JDQEHh7e8t1WOZxzQ+GVVpcihpT3hUWFiE1NUWswY93/9Ie8QkJOBR7SNzGtHRpwcDBgzB50iRzL1+Xk6xPGJeSElPXpGeIiyr69qaLE87M+eqrL5GYEI8BAwbI7wGmvho7duzRhS4Zz8SERGwxZbKTaRsEmHKYM3es9KI1elJSIpJN/Ua/7oWFhUjPyMRXXy5HorkWLedTUlLg1s0VM2bMQPfuX7sedHExbQ3Thj4YE2PqxxRkZWWgvKLS1ImZ2L//AD5fslQs2T3N8+th4qUoiqKcGBXGFUXpFLz//vv4cP6HyDcNQ1qoWI3fzoQluLCTQCuYvNxcaVCXmQY/p57SR2JzSzPya0tR4dSIGT2GwdPRTdyI/JjEGlqId+H81hYgtjAFf9vxHjKLc2mKJAMJN998E2677bZT6rgoX8OFnVavWo3PPvkUH338Mf73v/9h4cKF2L59u1gGURxsT3A+kTCelZWF+fPn48033xSxeuDAgcfkUxF6TcfzxRdfxIcffihiJEVKhmMLO7xPPPEEli1bJs/X33R2LQsyvhfsmC1evAjvvvuuXOuTTz7BooWLcCguznSoe0oH0rouO4VffvklXnvtNezYsQPjx48/oaBNf54LzP1/9NGHKDRp06dv36OdzV27d+P9997Dq6++ivfM308+/QRrVq0xxxWKn05Pz29fhIoia4LpkD/9z3+azvxKREZGyrtvm0a0xNq0aROefvppcbnysXkuixYtEmHS9IdFMPg+ByHOd5jWtBanldzh+CPIzsmRfcyvFByYR1ln1FTXSF7qGRws5bDtM/oxwHckMTEBXyz9HBtNfuTCsSTYpMejjz4qsx4o7vzY0kVRlO8G672YmIPiWoR1av8B/UXstoXly5rVq6UtMHfuRaZe9DxatrAs4uwquvjgopkUkg+a8Cje0l1KZVWlWDlTSKY/7+3btmH9+nXw8/fDtdddhzDTjmFYVngs+zMy0mXr0aMHIkw9TFiede3qKO0iWpNnpmfgyJEjKC0rFVeH9I3+bWRmZiEjM0OstcPNOdNFePZv+/VYPD29UF1TheSkFKQkJyMrIwP5BXkmHvYYP2GiOT8SCfHx0o4aPGTwMWlWVlaGeBPHkuJi0x9oxOjRo4+2kdhmodCekpwiYfN+ykx8OPtn0uRJ4qomNjYWYSZ+o0ePMu3mr9suTGu2SbhlZmUi9mCspDf/ZmSmmd+7om+/fujXv5/4VFcURVFOjArjiqJ87+zfvx///ve/sXjRIrGQoBVxeHg4amvrZGrh8au0dwYo1nC66e49e8RinAKN1ZCnMJxZWYgqhwYM9oqAl2O3H404znu3M//Km2rwXsEmfJ66FTtTYlDf2CBpdMUVV+CBBx4U607l1KisqsIXy5bh5ZdewocffSgWSjt27hSLrBjT2eT7ww6hnclfoWFhkjdtOZEwTqH79ddfF+GYnbgpU6aIsG1BgXHzli149tlnsGrVKnkP2Unz8/VtO8IcY55pelo6HnnkEWzdulWeb69evaTDtmvnLrzyyqvin/vzpUuxYeNGsXzixsW04kxnj9a/7MTSmpWwU05B/C9//YtYm82dO1eE8/YsXaOjo/HUU09h165dGD5sOIaPGCGdzLVr1uDF//xHxPy9e/fK9Gb6JxUfoHv3iGUWZy1w8K29cC0YlyNH4vHb3/xGpkozLhQaLfGdU5QXL16MZ555BkuWLEFcXBwa6hukE8t7OHQoDhUV5dKZt6zHlO8Oy026A2kwZcjnn3+OMlMnWFPG+RvLldycHJnFEx4WCj8//2PK4x86zMN7du+SMmL9+vXiloB5l1aJ9957L2666SZ5r38s6aEoyunDcoLlRaSpxymKc6D7+MFp1oHcP2z4MKnvbV2pELY1AgMDEEy3KqZNwsHonsE9ZX2eYcOHY6Spq2kVTjjA2aNnD4wdMxZ9+vSRfbZlFdsmvBb7BDI43WY0Y8UzKKiH+S3MhNETUX16Y8jQoXLcqbjpc3FxFYMCitlDhw1DpGmLHH+vFgyPdUtEZIS0WbgNNfc/YsRIWdi4Wzd3GQgfPHiQWMJb7QSJpzmXv/FabHtQhLd+J+7u3aS87mXaxf379zdxGXo0XBqQ+HfvLutEsC3RXlpzP++/V6/erX97R8r9jB03FkOHDjPp53fSto6iKIqiwriiKJ0AClZLly5FSmoqsrKzRPQIMQ3quvp6fPThh0hISBCRjC4KOoslORvrjAstdSm0USSzGp5sCLuZhvDe/Hi4enVDX88QeNi7/qDFcXZueG8OXexFUD1QnIRnkxZjS9J+VFRVyr4L587Frx75lVjL/FDT4WzAKbu0Dv/0k0/h6+OLmbNmikh7ySWXYJjp/DDf7d69W8RxisMRpgNp2wk6kTDOjt66tWuxc+dOeLi7S+cwzJxrQeH8448+wlpzDP058xnTLUOfqKi2I1otwjds2IiFCxfA33R+77v/fumkkU1m/xtvvG7e6RxMmDjRxPdiXH755TIdmJ3A6DZRn1OL2RnkO8V40R/nl8u/lGsGBQaZju4QmRptC6+7Zs0avP3222L9/YjJV+yIc2GsJ574swiovJcbb7wR1153LWbPmi1WUxXmfaUVG9PuRIK7BcVVTkl+++23pEyiNVu46eRbHVoOBNBSnOL75EkTccutt+Kaq64x9zpBOrgJR+IRbDr8zO9cNEs5fZgv/Hz9JE/SOpBWgcQqRyhmFBUVynOK6tNHxATm1x8yvL+6ulqxwty5YwdWrlghA8tMA1pL3njTTbj//p+Yz921vFUU5ZRgnci2LdvgrCPbE4pZHlPw5jEnEpJ5DN1+UKTu07cPBpj2BQ0iegT1kLYHr8NzKZpHRETKsSynji+rWN/yNwrRlihuwTBonc4yv3efKBGPedypiOKEgjTbKxTd2xsAOB7WKzyWAwa0pg8Pjzh6HttXnLFE621b0ZvwN4riUSaOlihue59s+/B3toM4ONAaHz8JlxvbS7zO8aK4BfdzNh/P7devn7TlmNasB1xdXU7azlEURVFaUWFcUZTvHU5FLCgoNA3ArvDy9BQrS05tzMnJxVdffoWlS5ZKx5+uE1JTU5GXm4f6unoRy9jg/L5gXCm+sYF75MhhE+/Kow17EWYam3GkJhv1zY0Idw2Er5MHmlp+eNP8KdDYdbFDbWM9UqrzsLMmCRvzD2LdoZ3i4qKpsVGsVv7yl79gyuTJ5nmrSPNdcDSdnqrKSvH3edONN+HOu+4UYZxuRmbNmiVWzHSnQmE8KqoPBg0aKB0ti5P5GE9NSxOr8+KiIgl//IQJsp/PlO6CXnj+BZSXlknnjFbXFMbHjRsnx5DSklLM/+ADHIg+IOLz3IsvOuqmhIMhnl6esnDl/fffj6uvvlrO5TZy5EjEHjwo7zMt4vsPGIBepgNtvT+8Fq20ae19xZVXSAcWdM/TBsuCJUuXYpcpF0aMGIEHH3xAOn8HY+Nk9gmnI//iF7/Ar371K7keBxCYXux4Dqcl1dixck8ng8J4ZlYWPvxwvqTHDTfeKIMOVqeX1uJ0AcUO6OOPPY6f/OQnIuIzbPrPDwoMxAUmvaOion5w7/z3AWdC8FnTRdPB2INH3alwY36nX1suilZfVydCCkUd/vZDgvdjvSMV5eUihtNtD13MHDp8SKbke3t5Yd5VV+GnJj/26tXqdkBRFOX7gnXt8WJxR8N20rkSgFn+ns61mAY870TtgdMN1xbrGoqiKMp3Q0tORVG+d9h5/+lPf4p//OMf+N1vf4eLL7oYDY1N4m7B39dPrLFjD8XhpZdfxoMPPogHH3gQT/3tKfFXvGLFCrEop/hH620LWhaedVHENGIpJl5/3XWYd+WVcHRstebgdSnQUIjMSsvEP7a+j5cOL0V6TQG62rcdI/8//+G92nexQ0NTA6KLkvB6ypd4OnkxlmZvR15+nvw+aNAgPPbYYxgxfMQJOwTKybnS5K8/P/FnXHzpxd+YNUHhedDAQWIlFRsbI6LxqUKBmtZFuXl5OHzkyNF3hqKwvHdxseb5Dca4ca1CMhc6tH3PqmuqxWUKzxs8dMgxgjynNNOS+4EHHhCrMVso5s+bd6VYax3Yv1/8YloEBAbgsssvE/E+7nCcuCpqaGhs+7UV7qOgzynL06dOk2MZB/r8b25ukmPonsU2PnwfKY5ffMklHdJJp99QWueKX/XuXy+IRdxcXXDd9ddJ2monteOgOH7r7bfJrAM+T+ZTpi993tJ9CPPsB++/jwWffYojhw/L4I6Vp89nrHvgvXLAif526Zf3s08/w4YNG2T2AtcDoLXipZdeirvvvksGgRRFURRFURRFOTnaW1MUpVNAcXz8+HGYd/U8/PnJJ8Rv73333oe+/frK1EBOFaSoSkErKydLFvCjNeg9d9+Nv/zlSfznxRdlIUL6HaaP302bNos1KoWRsw0XA7ru+hswevTYYwQMsV4012+uacBbR77CC3ELEV+cibrG+h9M4WtvZ4/Cpgqsz4nG64eXYVHyZmSkpiH6QLT8zimhjz32OC655CJ4eHQ+X/HnC8cLuRRkKQbSsjo+Pl4s9nkMhcHqqqq2o74dugYJ7tFDREUuxkmxl3BgiS5CmH8HDB6IyVMmi4hNn9uHDx+RYyjQ8Xr7DuyTz4MHDRIXQhbHD4JQxKSVLxdLpH/0LnYO8l7TLQrdplhQ8KSoxwEVQlctFeVf/85wDh06hN27don4PX3mzKOWVqGhIeK7lJ+3bNmCbdu2SRrxfjoaTm2mdTwH5RYtXGDS5TBKS1tdfChnBz5XDgzdeeddGD58uMwaYn5g3ucisMXFxaiprcVmU/6/+vLL4nu7tqam7eyvBebzCcaZ+ZvvKO+RM0PeefttvPTSS3Dv5i73z7qG79L06dNwzz33mLpoTNvZiqIoiqIoiqKcDHWloihKp4ICADv4XOiPoviMmTMxctRI8UVM8Y0iAf8SiiR0w8AV9CmALV++XCzIP/vsM3z++VITjiOionqLW5OzCeNM/34hoWFYuXIFampqjooZhD4Ug7oHYG/OEWxPO4AQ9+7wdvOEs12rO4vzkhagrrkBxdVleCNnDZ7c8z42xO1Ec1OziFUUVCmKP/Tww2LdSd/YHWGl+2OG4i6ttbOzc8TNCH1/r169Gh9+8CHWb1wv4rKPlw+mTpt6jIX2yVyp0KKa7xbdMfCdGzBggJxbXV2F/735hiwue+stt2DQoCHYvXuXuXYWhg0bao4bKHGhteqyZcvkHXv88cdFlLbyPeG7yveBAjr9H9Ply+dffIH33noHK1atEMtv5hW6hJk4cWLbWa1iYFV1NTZt2oQ6c/5M87u3j7eETXcRixcvwZYtmzF61ChxmcKygBstZgvy8s09Z0jcNpqNxzN+vFfmwVPNhxQcMzOzMH/+B/L5hhtukDxtnc/0LDdpzvTbs3evxJVW9UwD/uXGOCkdC9OUAyBcaOzgwYPIzcmWGThWvmP9QctyrlFB3/thYaFwMvndyTwv69nZls+dHcaT+S87KwubNm7EggWfYsmSpTIIwwVJ+X5ztsi8K68Q1z29o6La9XOrKIqiKIqiKMo3UWFcUZROBUUA242de1qq0pUEF7GrqqpGSUmxiGnW7xT5KJZQ7KAVLTeKhFxgb9SoUSJgnU0YD16fiwD5+vrJYoa1ta3iOPczLr1798KI4cORUZaPzxLWo8y7BSOdI2HPc9F6r6TF/DPf5HNnwTZOvKfGlibxlb6vMAE/Xf0c5u9ZLpaMxLLMnTJlCv7+979jxvQZaG5pFuGGQqFyejC/cybEu++8i3899xxee/01sYjmvi52XUT0ZT7jAMTsC2afsjDOfEef/dHRMSgvK5N8OnbsOFnE8plnnxXr7p/97GfiSmXdunVyzYEDB2HSpEkidtPPN10ezZoxE5ddfrkIkhYUxel65csvv8S///0CnnjiSaxcuVKEZC6yy2MZ59raWsyePfsYYZzx4+/z589Hckoyps2YgbDwMMlDu/fslhkjzSb8O+643bzjo9vOarWsHzFyJFzdXMUCPj0tDdt37MCqlavEqpZ+p2lxTPGUWO9de3ybMM4BL6ZzF/OO00c7F+Fds2YtVq1aZd4TWpR3N8+lmzn+xD5Fle8O05JbSEgwWpqbkJqaJnnRErv5rjCvX3bZZaitqsG69euwb89ehEdEyvMn58uARYspO2kpnpOdjc0bN2HJosXYs38vupu8xdkdHJzivT766KP4+c9/Ka6ReI98fzTPKYqiKIqiKMq3o8K4oiidHooY9ONLf94U9saMGQNPd080NTfJKuxcaCzC/OZl9qVnZoiIddFFc3HH7bfLqvnnQiDgNWgpzYX26AZi48aNIlpwNXmSlpYuC4byt4jIcKQV5WBp0mYE2HsgwM0H9NPNWHZGMYOiOEUn/qOV+M7cw0gtM/GvO4DN6dEoK291v8FjKIDPnDkTzz77rPhXprhJS+SuDg4q1JwmzM9ffbkcTz7xJD5bsECE2ZtvuhE///kvxFr65ptvlsVqYw7GwMPd4zsJ44J5LrTm3rV7l7gHoaBIEfn555/H0EFDcO1118p+Wt/Sl3EPk6dnzZ6Nwvx8vPvWO8gvLMC9990vri2scJkX6Pv/ueeek7xQWFCI6dNmmOPuw//936/axPZxMoiUk5PzDWGceYX3efBADFLTUmUxxSGDB0teWrRoET6cPx8DTP665957ERAQIMdb+YvvIcV73gcX9MzJyRZ3M/RJvuKrFWJ5O37C+G8VD79NGG8dDPOVeDPP87r5+XniwonW46tWrZR0i4iIMNdqFeKVjoHPjenfv/8ADBw0GFlZmTIwYeUDuudh/usRGGTqjRB5JvFH4tHQUA8f88xYTlnhdDb47hDmOYrfnPWwa+cOuR/Wb7xvvjP8y/rm4Yd/ZsqAm9CjR5DkaQ4edcb7UhRFURRFUZTOiM7xVRSl00ORgz6FaQlOlwiTJ0/G4799HC+88AJuu+12jBk9RhbvvPCiuSIMUFigCMiN4sG5gtfiFPYLLrhAREVaulPAoDVvaGgoCouL8OWKr7B+40Zk5mUjviQDD697AY+lfIA1OftQVV9zjGX29w2FcMI4MW4bCmLwQt0aPJX4KR4w8T5UloHAHoFw93AX6+CeQT0w98K58nzoA5tWuUwTCokq1Jw+mzZvxiuvvIrNW7ZgwoSJeO/9D/CLXz6CqVOnolevXgjo3l0GjpjWp5NvIiLC0bdvH7HcpoBIP80UrGn9P2TEsKNW4P3MMXRhkZOdg4z0DHHlsGXbVvN8HTB4yBDz7jnJcYQzO9599z188MEHMjj116f+hqeffRpXX32V+A7n4pu0bD3RLALmF77rN958k4iYtDqnWE8YRwqGFMs5MGYLz+NmvXPX33AD3jfpRctzumOh9fmnCz7DKy+/LP7OzxTG39PEky5oHvnVr/Dhhx/iiSeekEE8ivFPPvkk1q9f33a00tHwOU+cOEEW973ggjlSDvFd4LPnQMXGLZvwxbJlcHVxZaGK119/Dc/88x/YuWM7amqq20L5/rF9b5l/S0xd8e7bb+O1l17BG6+/gXXrNqC0pEzyLN8DHtO3b1/83/89KnnNev+t/K8oiqIoiqIoyqmhwriiKJ0GCnEUkvft2ycL7q1cuQr/ffFF/O2vT+H1V18XK8yKtqnjFMXoJoUidGBAAL766it8tWKFTDunv+/bbrsNPYOD20I+d1CUoFXr3Llz8fIrr+LySy9HfV0dnBydMGnCBET17o309HQRH8eOH4tBk0diV/Yh/Hr9y7h96zP4NHUjymur0NXOodXFignzXEvkliDeFQ44jDw8V7sKv02aj5+veB6vfjEfmVUFaHS3w4HYGCTEx6O8rFxE8fHjx2Pm7FniwobClAo0HUPMgRgcPBiLfv3749bbbhXLbLrx4HvAND7TQRRLSGS+tRb327d3j4Q7efIUWWCSDB8xQnyLJyYkYJN5P/MLClFXX4fg4J6ICA9H165fi9yxcbFiYU7/4rQMv+yyS2WgiNfgQMmpxJmDXBMnTZS4JSclISMjE9t37ETcoUMIDQnBhDar7xPBtKG4zsEDvo+//OUvMW/ePHG7QXcnHLzpKCiQd/f3F9H/pptuEn/rvN9Dh+IQZ9KitrbjrqUcC98Dlj1/feqv+MPv/4CeJt1ZD1x+xRUY2H+A+Jjff+AAnJwdpXzKycvD73/3Ozz2f49i/vvvIyYmWp6fNRPg+4DX5qK5Cz79xNzD7/DXv/4V7777LjZu3oTaulpk52Rjx84dMhjFQaVxo8dizOjR5t3gezBB3itFURRFURRFUb476kpFUZTvlcqqapkCTxcHq1auxOJFi2Uxv/S0dKxavRLLvvhCFrazXHFkZqQjJjoGa9esQVVFJfz8/fCFOeaVV14RC03qbb///e/FjYKtv+NzCeNJa0Va4lIoCwzqgaTkJBEcPb08RdhISkpCXV0tHLs6wtXZFXB1wIH0w9iTGot9pUlIcClGpWMDXKrt4O3kLiI5OVsiOcNn2JTi6dYlv6oY68pj8WbySny8fTlisxLR7GIHfx9/ZGdno6qyCvYO9hgxahRuv/12XH/D9ZgwaTKGDx8mriMotqow3jFwMVm65qFV96UmX4eHhbX90kpjQwOWL/tS3hMvT69vuFKhn+8333xTnkl7rlT4nAoLC7B3z15Z8DI4JETexeycHPz60UcRGBgox7i7e2DXrl3YuGkjAsw+zgjYvHkTZs+aZeJ16TFh7ti+HStXrEBxSYlYtl988cVtv7TC8Pbu24dly5eLH/PjXakQHkPBMi09HdEHDsDDo5tYqm/dshW9evcW/+JB5t2yoNjOc+hj+niRk3F1dXOThUu5KKdYo994o1gcn4hvc6VC8bXZXPP4WSm0cOfAxeLFi8WNzcSJk0S4VXcqZw8+38CgQPTr10+E8WRT3iYmJCK4R08Z2MnIzEBBYSFamlvg4+1tnl0DDh0+LP7xOTti67atKDa/czCjm7v70ZkMzFNWvupILOtu5lXOhKIv/K1bt+CLZV+IH3+64Yrq09vEuQC5ufkoLS2RAd+bb7kFt952O6644gpMMO8LB30CAwO+V1FfURRFURRFUc5nVBhXFOWcQgtSCqubN22Shfs+/vhjLFmyWMTtzZs3Y/eePSIg8xj+zcnNFStW8RmbmCCCAoUO+valf9XCwkI8/8ILOHjwoIQ/eNAg/P73v0P37q1+h79PKFZ0D+iO/v37mXjbm/uJF2tVulvh/XBafHpmpriwoEBCYaYcdajzskNCZTY2HtqNI4VpKPFpQpZjBewrm+Dn4gk72MOOPsnN7VHE5j8K2vzOez7ZxmPt20RwWoabveACb2nlefBydEN2RQEKa8qwPGc33oxfjvWHdqGsqFSsMpsam0QMzM3LFcGJ7iPuuOMOEQyHDR+OkOBgWYDUWthQ6Ri46OW+fXtlRkXfPn1kgT0LDiq9/vrr8g7l5OQiwOT72bNnHSOM0/XCwoULReCjBfjwEcO/8Yyam1uQnp6G3bv3yDsaHR2NyIgIGfSwLMZ5TkJ8Anbu2CluKOpMvs0w+ff666/HiBEjjoqJJD4h3rzPW0QYprA+btx4E46H/MbwF362AG+88Ya8twynPWGcMM60hv1y+XLk5eXJ9XNzczDnwgtx1VVXHSPGM32WL18m7jJ4PxyAsr1PDka99967SElJQZ+oPrjmmmuO+ppuj5MJ43Tl8umnn2KRSVc3N1dZS4DvF2GcN23aiKVLP5fyiYMCvDcuwqmcPViWMa+IWBwQiFLzjLZv2yazjLo6dpWyKy0tTSyzGxoa5dnwuYaHhaKstAzbzLEsn6MPREte6WIKSS9vL8kjrHf43LlJPmdZyo372wZtrd+5z/Z4frbgcRwQPXwoVlwS1Zh6gO/24sWLsHr1KnPdZFmQlvHqYsp2+k53cXYx5eswjB03DjNnzMSll1wig64UyjmwY+U7RVEURVEURVG+OyqMK4py1qFglZqaIhZxtAZfsmQJFixcIGI4LWEPHz6MvPw8lJWXi0BMAaO0rFRcHbDTP3TIELEQHTx4MC6cOxeTJrVaYFIcpwuV9959V3zLUry95NJLxW2Cq6tL29W/f2ipGxERKaIaoejPe6MgTZcQefn5YtHIdKLQ5+/jh/raOqRkZyC9uRgJDXnYkn4AsanxiClIRnbXCsQ35qKpvhGJtbk4gCxUohbN1fUor68+4VZRX4PkLkUmzCI419nB3dENDc1NSK3IxRele5FhrrW7MhnbCuKwOHkzdiZHo7qi1XUNBR4KSXweo0ePxqWXXoI+fftgzJhx4kPasWtXESF5nNKx0Hp0//794mefrhT4HCgo0+82rZK5cUYFF0H1M+/ELArjvXq1nQ0ZWNq5Y4dYjjc0NohVLMVqW1GZeZTC+mefforCggIZrLnkkksxa9asY8RjugCiaB4bexC5uXlwcnbCL37xSxNm0DECIMVCxjfGHEuLWAqOdJNEi3Munvn6a69Lfi8uKZZr8Tp8r4+HYdLCd/3adTKwxMUHff38xFf52LFj245qhe/U22+/hRdf/K8ImxQZObgWGxsrVrgUslnmMJ8+/PDDGDlq5DFpcDwUJ+m+5YP335fyRYTxsDDJ43SH9N//voS3/vemiP8pKalINtdLSkrEIvM83hcXHTGmzBqCm2668Ru+0JWzh6OTk6Q3rccLi4olz3NWBWfx9Db1SI3Jb60zdurk+dMtFwcKOQjLPFpTXYUd23dI/j0Sf8TUT4dkBlOWec7MTweiD6DavJMVpmzMSE/DkUOHRcym6B53MNaU71nIMdvhuMNISkwUa3C6GaquqWnzEZ6DbVu2muNTxUUK1w7Yu3evxIn1H+HgkYO9g4j8F8y+ABfOmSOLzbKspfsURVEURVEURVE6hi4tNG1SFEXpQFisUACgyJCQEG+2RBw5chh7aQ0enyDiHqHoRaGVxze3NNOEWUQnLspH4c7fvzvCw8MwY8Z09InqK0KsZb1Ktm7din/+82mxtKO4RqvNf/3rXyKMU+jrjDA91qxZK1P49+7bi2AT58qKSnHJQOGkoqwMJWWlaKhvOGrtyoGCSpOelZUVcPXohoH9B4rYM6QlCEUtVchzrUWkgx9CKt1MonaRdLSswfmfRZeWLsh0roCThwumewxCf89QeDY44sP0DdjalITa5kaxYOT0/YK8fPO5Rp6RVU1QQKJPd1rqcuG3avO7l5c3goICRDxXzg4UlV97/TW8+867MohE6CaI+YJ+x2dMny4C2n//+194unuIr+XpM2bIcSTXvIf87d//+Y+I5Lfeciue/MuT4rvblhUrVuCeu+9GUXGxzGr4+z//iXlXXHGMu5Ej8fF4+uln8N6774jl7OhRo7Fs+TIRz4+3XF36+ef4z7//g23mPa2qroK3t7fEm+fRV/mtt96Ct996SwbH/vzEE3jkkUfazjwWCtSvv/qaic8/ZOHNeVdeid/89rfHWM4TiopLly7FsmXLZUYKB5sYJwqiHFyguD1kyGBMmjQZf/nLX+Qej4+zLQyPPs2vvmqepPWChQsxaeJEeS85yECBn5b6cXGH5Bm5d3OHtwkzKSVZ7pUzKu6//36xGOd35dxTUlKK/fu5ZsUGGSBhXpaytKJCyizWG5x1kZCQIANGrH/6RPXGPlM+FxcViwW6r4+v1Ccc/KtvaECFKYf7REXB29RT5eVlKMwvRJA5l7OAigoL5RpdnRxRVVFl8rubCPVckNjJyVmK49yCPKQkJUt5TldDHChlHmceIsyTfJ+4JsXFl14qPvq9vb1g79BV8pH79+QiTFEURVEURVF+iKgw3olhp5ydeXbcuPhSdWWVdKIIO07c2NGnZRE77ezkUXRwNR04Z27mO0VEdtJsp7grSkdDy0/mQ+bV/Lw8JKekICsrC9HRB0RsozUlYZ51dnIy+fnrhehYBHl6eMLbx1sE8eDgEHE9MmTwYPQfMFCErPaskCmuv/XWW3j1lVfFupzXvvrqq/HMM89Ivj+Z4NUZoEBJ4ZA+1OkT18m8r3S34uHuhn3792Pv3n1iGUyxhO8yfRbTFzMHDPhO0zqxsblJfOY2mLLCgdbaDvaoq6mlw3ApA2rNMxFTSFvMd7qYiOrbB87VwMCWQHyas0WeAzdeg2UPBXEKitzX3NQslooUW2+//TYMGzbsGCti5exDq2uKvrR4ptU28wStYmfOmoULZs8WdxFcqJa5ni5CKJhb8N2kxfnbb78t+WbYkGF46OGH0DO4Z9sRrXBWx2effob4hAQRBB96+GcIMcfYvn98d7/6agWWLlkseWDQgEG4+967261jauvqsX3rVrFCPxx/RI6hi5cRw4dhztyLJewP53+IjRs3iO/0iy66qO3MY6FoSCv1e+65RxbmfeKJJ0VEd3Jq39q7vLwCC8x97I/eL+I43WQwPwcFBeLyyy7HXHMdCp3fVkawXo1PSMRL/31R4vDzn/9cBiCs9OC7Qct5zoKhOM6BQJaFTBem8SWXXiIuMDrrIN2PCT6/tWvX4vPPvzDlYjUie/dCUGCQ5En6sF+6ZAlSTb2VX1Agx1oDglG9o9DNlLdZOdniPodW5nz+LBsJ85CLi6spg+vEPz/zDOG5PCYgIEAsv8NCQ6VcZdiFpkznorUMjxuvRaw2Hb9zRtTcuRfi0ksvQ99+/eB0kpkNiqIoiqIoiqKcPiqMdyLo85LWRxQ9KIjTIi0vN9d8rjYdqQIUFuQjNS1djqXQUW86Vnx6FDp4DoUzWjGF9AyGj68vgsNC0K9vP7GKY8fcw90dbt3M5uYqHfeTTSFXlPZgp515k5ZxFID4nYuY0Q8v/fbm5eVj0/oN2LRlMyqrKuUcCnhc6I75jQM3oaFhSExMEIty5kNuI4ePxIhRI8Q1At2l2FqonoivVqwQ8evA/v3YtWc3Bg4ciPnz58vf9oT0zgjTMC4uDjEHD4rlrK+3L2bMnC5CC/09UwTctWs3yivKJd0JxRNaNlI057vNsoCDBNZ7Tj/MTGcKMiwbeA1LeCEUZvg8XFxdxPe0CVA8lBMKOfJczTHN5tlyoIL7vDy8cN3118lGS/FvExSVswefnzVwcTplOAdkKHqf62fIfMXBK177u8J75loEf/jDH0H/zM88+yyuveaatl9PDssoXpsC6NkeIKYoyrKR75fS+SgoKESjyQ+JCfGy6CuttiPCI8RNV1NTI1Z+tQK79+6WmTCsvyyRm/nPMjLg4AffO5bBlnhOgb3ClNGpprylSxWrvOVv3FgfBfUIMu25PMmLhGHwN6t85iwE/mXZzbbcfffdJ777/f395XhFURRFURRFUc4OKox/jzQ2NqG2tkYskMpNZyonO0cWYeIiY9ExMdLBCg8Nk44bLUHpRmL8hAkiKFJMow9LCliH4g6hoLAQvt60tg2Gk4szKssqEBQcJILXnn37xAfq0MFDMHL0aAwaNFB8HdMtAjt7FNMoflmdOUWxOvRNTc2m416P6qpqmT5eVlaOA9HROBh9AFmZJv81NaGLyTa79+yVgRwKCBTCKQQ4dnWUfMvBGfoO7hkSLNPAhwwZavJsrNniTJ7uh5EjR4jIQKHAEuu+TbTjdZ5//nmxbuWCkHGH43DllVfKYn4UGM4X4dYqfq30TkxMxKIFC7Fu/Xo4uzhh1KhRaGnugi+XLcO+6P1HhZrj74/nch//8l2mSxk+G7738oxsjreOtT5bf/n+s/yghTq/U8BkWvbs0ROXXnwJLp93BcLCwmQg43xJ3x8i1jOz+C7Pwvbcc/kMzzTOHBS68cYbsXLlSlx3/fX49aOPygDYqXCu7vlM7lE5N9g+I9Yh9DVOX+Iv/edF7NyzC5MnToKHp4cYJGzaskWsufkceaz1PBnGyZ7t8b+3953hceCS5TnbeVxEkzNyOKAybtxYzJgxE8OHD5e69GTXUhRFURRFURTlzFFh/BzD5LasytLTM7Bjxw4cjDmAzxYsFKH8wgsvEFcotCLqYmeHmqpqZGXliH9WWoJz/9Yd28TyjmE52NuL8MXFyGjhySm6hIJWREQEQnoEy/d+gwaItZOjoxNqa6qwaeMm5OcX4OKLLsaMWTMxaOBA+Pn7iThGqzp2xrRD9uPA6qgzH/Ez8wC/07K0oLAI+/buxdpVq5GQlIiqmmr4+/giMytLFsukeEoLZeYVnsd8N2n8RIRFhKJ//4EYNHiwLHZG/6hWuMz/lrUc91FE/675jfn8/Xffx9o1q8Vana5DXn/9dXHxcb5Yi7cHnwHTZ+OmTdi6ZYtM7adbFbo3oUU4/SvTWpi0l15MU9u05HdrX3tYv1nWtNwoqtPVxfU33IBRo0bLs+JzpUjD50VOFJ6idATMl3wXWF6wruMCu4899pj4Yn755Zdx6623ntfvudI5YD5jectFNj/+6CPQZcnG9RtNXZcgvvzdPTzEFzkHC1nmMT9+17LPKmOt+o+LcNrbO0i5yu8jRo7EzTffLAtMczaOg4O9/G7Vi4qiKIqiKIqinF1UGD9HMJnZCaLbgy1bNrcuOLZpM7p3D8B9996Lffv2wNvXDxmp6diybYt0xAK6d4cHp++6uMpWWlaG4KCeqKmtQUYWLUEbxQ+zl7cXKsorkJGeiYLiQlk8Lyc313Swukoni9ibzhjjMHTIUNPZgiyq18d0wvoPGoCmhkZkZWRh8LAh6BHUA2PGjIG/n59Y+2rH7IeH9cpbeZJbenq6CLAUw4N7Bkvn/dDhwyZfleOVV16RwRruZx6kz176O+Z5nHEQEhwiLnxmzp6NAQMHoldkhIioFFO5UWy1BFVek5v1/XTg+WvWrsWG9esRExON2Ng4ccFCa3GKDWcSdmeBs0jy8vOlvGD6JSUmYfPmTdiza7e4qbHEcSs9Cd9V2++2+y34+fjvbq6umDxxMoaMGCblSY8ePREeHgpfUx4xPS1sz1OUswktdaOjY8RtxX5TN87/8CP5/NOfPoCHHnoIkaaMUZSOguI4ZyXwL6EBwhYOTKalYdPGjThy5IjM1OMgMOsXlq0sD63y1vYzscpK6y9FblqE03XVzJkzMG7ceJlFxRk4LGNptGDVl4qiKIqiKIqinFtUGD9H0NLz86Wf4/PPP0dmVqZYaI8YNUp8TuaZDv/mLZsR1KOHdMQcHVvFxO7+3RESFor+Lj3Qr9wbXe0cMDKon3S26umn0jw6ujVIKMuEq70Tujt6mo5dE4pqSnEgNxF27KyZazc1N+HtjDUoaChHVUUVqk0Hj527rqZD1qtXBOZeOBdBgT3EGpj7M9MyMHLUSFww5wL1b/kDhIJ2rungFxUW4guTJw/ERCMpKUmEJw6MDBsyVKaYxyfGi3uUgoICyY/swNMVChfGdHToCg9PL8y9aC4GDx4iQi4tw+m//mx37hn/P/3pT4iLi0VxUTHKysvF9/Bll10qv1tixPkOLWYJ38m6unrxYUvxJjExyTyTfBQWFiH+yGFZ2JQzR7y8PcWS/vDhIyLscPFTS7ThVH2uQ0D/7f369jXlR72IMjNnXQA319ZBD9e2tQf4rPkMfyjpqJx/0Lc+BXDOqqqurhKh/IYbb8SvHnnElD8DTP7UxaSVjod1izWwWlVVLQtkxsXGSv1WX9+AmJgYMUhgfvT29kFBYQHiDsbC3b0bUlJTZAFWttv8/f3Q0NggRgbh4ZFSdk+ZOg2BAd1l3Qb6EeemQriiKIqiKIqifP+oMH6WKSoqxooVX+HDD+dj//4DCAoKRI/AINQ3NIpFdklpKQ7GHkSZ6ThNHDse0x36ws/JA719QhDk4QtHZyd0s3NGtwYHONjZw8OxdVFCS7Ti46uorxbR3KWrk+xrMB23ioZq86ntGPMvrTof9S1NiM1JREFlCXK61SAOuSgrLkVAYHfMnjEbxcVFuOjiS5CdmSVT1gODgjBq1EhxrcDOotVhVM5fiotLsHfvHrz//vtiBZeRniELO9IymdZytAynexQuUMZ93EhgYCAmTpwoHf2hQ4dK555W4RRcfX19RTTggM654POlS7B9507UmrhRqAgICMQLL7wgcfoxQNGbFuMUazjNn8+RU+9ZtmSZ95ZuV+hGiYtzcmCDC7nx+XFxVD6vXr0i0dLcIkK4f/cA2Ou7rXQy4uPj8eyzzyI/Lw/+AQHo368f5lxwAXpHRR0zi0FRzjYsZwlbypWVFVJP0nrcrVs3cSnWYr7TNzgHk+kvXNZr6WJn6tBGBJly19XNTcpsHx9fU2e2ttEURVEURVEURek8qDB+lqCgSHcP7737HnJyssV6kwvhhYaGIiQ4GMWlJSipLIO3Qzdc5DkMA/0jERQQhKaqOjSZTtTQ7lEIcvMznbFmEbath/T1p1b4nQtscq88yi78r/WfLfZcIdHsK62rQF1jPSocG1DcpRrZBXnYV56Eyn6ucsacC+YiNSUZPt4+COzR0+xrEdEtJCRYFkhUzi+am1tw8GAMdu7YjuzsHOw/EG32toj/1ISEBOnkUxTlQAs35iFazVnFAvdNnTIFkb174+abbsKAAQNEOHeiv+m248+VqMprMT6/+MXPxZWLu1s3saSeOXsWrr32WvntxwjXK+C9cxFda4CDz4jQNQ730zKRx3FKP4UbRenMtK7BkY76ujq4uLnB18dHZqv8WN9xpXNhWZbX1NSa8vSH4b5LURRFURRFUX6sqDDewbDDFBcXhwULFiAzIxN79+xB7759sHv/HtPJr0d3f3/YO3ZFP5cemOExCG4Ozpjo2x89uvmbk1uQWZWP2sZ6+Lt6w62rc1uoHUOriE4RlA++VTyvbaxDel0hkrsWI6kyB0melTgYHyeWTnMvmCvxpSDRq1cvsYpSOj/srNMtSlxsHHbt2ilufGhZnJSchIzMzKNiNq3bLHcdtmK4k6MThg8bhrHjxyEgIED8d3Phx379+omrje8Lxo8uYJ595mkRzvLzCiROP/v5z9Tlj6IoiqIoiqIoiqIoivKdUGG8A6EV66qVK/HFsmVIOBKPXpGRSEhMxJCRw+GRXIswtwB4+3iLq5M+zkGY5DHInNWE5hZurY+B1t/8j9/573jL747ECt/eXJXTfhPLsrCzPhX5ZYVIKcxCn0vGwCc8EN4eXhgyZIj4JFY6H3SrQf/RiQkJ4i6DbnqKi4qQkZ6Obdu3iZ/ebm7dUFpeKhaXPNb2tadFsZenF/y7+8sACJ/1yBEjMWbsGHGTQp/TnQHGedHChUg298jFyg4dOSKLRd59111tRyiKoiiKoiiKoiiKoijKqaHCeAdBVymLFi7CG2++jpKSUlx5+ZU4fCQOu/buxcWDp+DPA29GhEsQ0EILXbqgaEYjms6q8P1doWsMWpSjix1SS7JQFOGADTWHkNdSgdEjRmHQgEHw8vIUf8XK9wf9lRYVFUme46KZXByT1t8bN2xAYUEhHJ2cUFdbC7dubqisqkRpaRn8/Pzh4GCPvLw82QitrENCQkQMj4yIQHh4BEaMGin+fDsbLKaqqqvx6ccfwdPLW9z71NbWoP+AASKOK4qiKIqiKIqiKIqiKMp3QYXxM4QuKJKTk7FowUJ8+OGHSExJQlRUFCZNnoyFny3A1JBhuDV0BsZ27w83R5e2szo/Ykne0gXrGg8jP6AZzd26Irk6DwP69ceM6dPFYpf+itXn69mHeYy+osvKysRFCsVw+gfft28ftmzZIhbgdHnCxRaHDhmKpqZGWfS1rLxMzh0+bDguufRS88xckZqagoKCQvE5PWjgAEyYOAmRkZGycGVnfpZ0+RJ36DAVcnRz7yb36uHujvDwcPWZrSiKoiiKoiiKoiiKonxnVBg/A+jCgq5SXn/tdUTv34+ujo44EBON4sJCRPmG4qJJs/B4yBXwtHcFE/lsu0bpaKz4OrTYYW9TOla6JiKofwQGDxqMiPAIsR5XYfzswAUUq6qqUFpSiozMDMTEHERcbAxWrFgpec5a7Ov49KcQTov+sNBQtDS3iCsUWoJ3c3NFQI9AhIaFY/q0afD09Ow0LlJOBabH+vUbMHz4MBH1KYarIK4oiqIoiqIoiqIoiqKcLiqMnyZ0Z0GL3VdeeQUlxcUICQlGcnwSdm/egV4+wXhq0r0YFdgPjnYOPwjxuKWpGaUBQPo4Z7h5ecLB3RmBAd1FnKTAqgL5mUGL6Lq6OtTU1MjCktnZ2dizZy9Wr1iJDZs2oKKyUtLYWiSTwriV7jyP8DufB32GUzzu16cv5s2bh9lzLkCPHj3kNx5v+6zOl+fG+87OyYW/ny8cHR1l3/kSd0VRFEVRFEVRFEVRFKXzocL4d8BKKlqKHzhwAP967jl4eHmhq50DYmKiEdHsjXvC5mCgXwScHZxg38XuhyPemXtvseuC0sYqxDZkw+nKPiiprUREr14IDwuFs7OzCpXfEYrhtIRmfqK/8B07tmPt2rXYt28/MjIy5Ddrs/IeBXF+dnd3R+/eveHRzR279+4RUZyLo44ZPQozZ83GmDFjxD0KBXL+xvPO5+fDe+bGe9B8piiKoiiKoiiKoiiKopwpKox/B2i1SmveBQsW4LnnnkN4eBh69+qFzdu2onuxI3439hYM9e0NB3v7tjN+ODCTdDH/a25pRn1LI+DjjJqbeiG9NBfd/f3RvXt3teQ9CdZrZgm83OgnfNPGDSY/LUTMwYNoaKiHnZ29+G9PT0+X4620tM5nOnt5ecn30LAwXHTRRegTFYW+ffuKpTgHKLjROtxyt6IoiqIoiqIoiqIoiqIoyrGoMP4doMuK1avX4PHHH8OhQ4dkkc2a2hr4Bfrjp4OuwI1u42RByh8qls9xSyVvDnRFxbxgOAV4wMXZRQYOKOTSQlk5Flp95+TmIT8vFws/W4iEpARUVFSgsrJSFs+sra2Vz0VFRTLAQCtypiVdoOTm5sp3Lnw6ZtxYTJg4EUOGDBW3IhTJXV1dRQxXFEVRFEVRFEVRFEVRFOXUUGH8FKHbi7179+Kvf/0rVq5cKSK5XVd7XBExCbePvBRjevSHT7Mrms2/82mBzdPGZBtmnJbQbmiaF4laLwc8+49/oqGhEffffz8iIsJbj/uRQ/F7z+49WLr0c+zavQu1tTXISM9AN/duKCkpac1HbZbdFL+P+gu3d8CY0WMw64LZCAsPh7+fHwK7d4e3r4+4SKEgrhbhiqIoiqIoiqIoiqIoinJ6qDB+CuTk5ODzpUuxafNmEceTkpJEwJwXNQUPjbwa4wIGwNGhK5p+LKK4hck5dK/SFNkNtXOC8cX+ddi3YzemTpuGSy65pO2gHyeZmVk4FBeLxIQEREfHYOOmTYg7FCe/BQYGwsPDQ9yl0FKc1t6RkRHo168/QkPD4OvrY/6GIjIiEiHmr5+/H9xcXeVcRVEURVEURVEURVEURVHOHBXGT4F9+/bioYceQlzcIXGVQkvfkPBQPD/6J5gTOBJd7R3E9/aPzbc27zm9PA8BXb3gNCQQ1VP9sTp+B7JSM0Qc792rN9zcXH8U6dLQ0IDU1DTEREcjPSNd8srhQ3HiGqW8ogKlpaXiKoVERkaiV2QEHLo6ip/wcLPRwp6Lafr7dxfRnBbhiqIoiqIoiqIoiqIoiqKcHVQYPwlMmry8XHz88Sf485//LOIm91HMvGzgFPw84jJEOgegEU0/LkvxNhqbm7A1+yCG+PWCt50bmof4Iq1vC1Ye2or8rFxcevllGDliRNvR5x981tyqa2rg4uwsgyJ0qUP4l76/E+LjkZmVhbKyMqSlpWP7tq1ISkpGYVHh0WPpJ5xieBc7O3h6eKJ///4YPmwoAoOCENWnj7hJoV/xH9vAiqIoiqIoiqIoiqIoiqJ8X6gwfhLoQmXRwgV44803sX//AVlUsk+v3rhh6BzMcO6PAR5hcHP88S56SIvxhJIsONt3RYCbD5yb7GE/IgDb3LPwzqrP4OnpjV/+8hcICAiQ489H4ZeW4MnJKbJ4ZmVlBbKzssx9t8Dezl5co6QkJ2HT5i1i4d1Y34CDcbHo2rUr/Hx94evnJy5RBg8ejLFjx6KroyN8fXxlYMXHW32EK4qiKIqiKIqiKIqiKMr3hQrjJ6C5uQVfLl+GJ598Ejt27hRR3NvHGzdfcz1+73wxvOCCJnABypYfpbX4UUzuiStORaCbD3ycPYD6JlQO9cB7DTvw4nP/wUMPP4R5864UcZwW150d63Xgopm5OTnIyMzE3r37kJuXi/zcPKSnpYlfcEcnRxHNQ0NDkJ6RKcK3s6MzDh85LBbivXtFot+AASKKu3t4oJubmwjmiqIoiqIoiqIoiqIoiqJ8/6gw3g7V1dXIzc3D2++8jf+++KL4FHd1dcXwYcNwyfBpuNtxEjy7uLQdrVgwK3VpbEHzUB/sCizGC2+9JKLx7bffhltvvVXSsDNCa/CqqirxAc6NfsHT0tKwY/s27Nq1B6lpqXB1cUVoSCi6dXMT0bwZLQjpGYKKqgpEhkVg4JDBmDhpEsLDQmUxzebmZglbrcIVRVEURVEURVEURVEUpfOhwng7HIiOxicffoxFixeJBTBdgAQGBODBq+7AT7tOhWsX9Qd9Iuh3nL61S3ra4QvvRLz60stwcnLGq6++igEDBnQaq+m6ujqx/ObfrKws7N+/H4mJiUhNScHqNWsQHh6OwO4BaGlugX93fxG6m5qaUVFZAYeu9hg7ZiyGDB2GoUOHwNvbW6zh2xPBNZ8oiqIoiqIoiqIoiqIoSudDhfF2KCgsxO9++zu88cbrImzS0nlm/3H434Rfopuds4qdJ4Cpklqeh9SybCQ0F2Bj1xSzpwVffvmVLDj57rvvolevXuc8/ZjFudEynH/r6+uxY8dOrPjqK0RHRyM9Ix15eXkiboeEhCAsOBRDRw5H0pEEpKanwdfHB5MnT8GYcWNlEU1PTw9xrcPjufF+NE8oiqIoinK6WG0Vqz2h7QpFURRFURRFOfuoMH4cTI4lSxbjb3/7O3bu3IluHu6Y2GsYfh51BWb0HK6uMb4Fpt+a0hj8J20ZMgty4OTkBC93TxQUF+Khhx4Wf+NcqPJsY5utacHOhVRXrV4tfsHXmL+7d+8WUbtHYBD69O2DxuZm2U83KQMHDMDlV16J/v36oU+fPvD09ISLi4vcCy3eNQ8oiqIoitJRsM1SX9+A3Lw8+Pv7wdm0N7StoSiKoiiKoihnHxXGj6O8ogK/+Pkv8MWyz9HY0Ah3T3f85IIb8ROnqXBxcFILnpPArNTVzgHLS/fhxdyvUFZYgvjEBIweORo7du1Av379xKXKoEGD2s44e1RWViEvPw/FRUXIzs7GwZhoVFRUYvyECcjLy8eqFSvRgmY42DvA0bEr+g8YgD59+0mHtHv37uIexc3NTWYLaOdUURRFUZSzBQfw9+zdi4cffhgTxo7Db373W/j5+bX9qiiKoiiKoijK2UKF8TaYDPQj/exzz+E///43XJxd4Ovni4LSIlzYaxxe6Hc3Wsw/5eRw2KCksQory2PwRvpKpKWkwsPDA4cOHRIL7eee+xeuu+7as2o1XlNTg9KyMmRlZiEpKUki5ePtg7LSEiQnJ8lCmw0NTRg4eBCieveWxTJpFe7v7y+W4Tr4oSiKoig/DNi+Y1sgMDAQ3bp1a9vbeWDcFi1cgI2bNmP16tW4cPYFeOnVVyS+iqIoiqIoiqKcXez/ZPh/9u4DPIqyawPwE9J7JQlJII3ee5eqFOmIUhR7RVCxYK/YsXfE8lkQBQVFRaT33msIkEJ6773wzznZzR8iKCCBYJ6bay52Z2d3yk5m5z1z5rymx3WaBEOl5vSHH36II0eOaKC0uKwULoVWGOvXE208gk1T0t+RBqizpT2cym2QVpSNNMsCHD12VDu6lBrfDnb2aN++Pbx9vE3vuPCkXIqEtp2dnTTYHRAQAHcPD/j4+GgmeGjjUHTs1AntjOVo3KSJNj4lUC9lUmpbUFyyyL6fN0/3y9j4eDRo0EAvNBAREdHfk9/QqKgoFBYVwd34nbexsTG9UjtEREbi8zlz8Nnnn+PgwYN6nlRcWoIRI0Zqxjgv1BMRERER1SwGxg3ScAoLO4IvjIbJli2bkZ9fgNKyUqSlpaGNcyBmdJoIWytrWGi4lf6ONOLKT56EnYU1bOtZY1NBOMLDwzUbX6Snp8PH1xchoaFwcnTUcReaLIM0fp2dneHh4Q43V1cthyLB76DgYAQFBWkwXEql1OZGp2yzrKwsPProY/hp4U+INhr3bdu2RZMmTUxTEBER0ZnI+V1ERASys3Mqanfb2ZleufQkYWDx4sV47733EBMTq6XbZFx2dracyKB9u3a8EE5EREREVMNYPNkgAch9+/dpfUdpPElDRBpTVtZWCA0Mhpe9G4Pi5+CkxUnYW9shxKkBmsLb2MAVJWgkWzsxKVFvFY6OitZxNcHKyuqU7G/5X4Lj0uiUci6XG0cnBw3qy10Msl5ERER0dvLz85GYkICioiLTmEurpKQUe3bvwaezP8XXX3+NlJQUdO3SFWPHjoWnp6dOM/fbbzWDXO6AIyIiIiKimlPnA+NS+kMaS5s2bcKJEye0EWJra6sB1MbejdAjsC1OlpeZpqazIRcRyo1/HpaOGOXZBU2aNtHArtTvluD40fAjOBIWVmsaqbWVOcv9rrvuwtSpU3H//Q9oGRoiIiL6Z5L4IB1uy11kKSmpGiS/1DYa55tvvvkmnn/+eaxbtw6+vg0wfPhwTJp0PUJDQmFhUU/vFlu3di1SU1NN7yIiIiIioprAwPjJk3rbqtQXz8zM1PIa0iDJK8hHW8dA9LRtjDILdrp5rqSjUnsrW3Tyb44JfYajWeOmWppGLjqciInBxo0bEB8fb5qazkSC41JrdObMmbj22nFac5SIiIj+mQTG5U41JydH7Nq165Ked0j98PAj4Xj3nbcxf8F8ZGRm6HhXN1e0btsGLq6uaBgQAEvLenqn2y+//IJVK1bquSkREREREdUMllIxSMPJ29tby1RIZ40SHPf38kW34DZo5NJAg7x0bsxZ4zYl9dAu3Qs+bl6ahZ+YmIji4mItW7Nv3169MEFnJttHao7m5OSgoKBQ99XTkTsdpH57UlKSbuOMjAzNyOf2JSKiukp+A3Mk2SEvDxHHjyI7O8v0ykVkLIM5KP7aK69iy+YtWq5Pzok8PDzQrk0btGjRAg4O9mjYqCIwLst98NAhvPLKK1i3dp2+n4iIiIiILrw6HRiXhoc0TuQWW8kikufSUCkpL8WV9dthiHcnlJ8s1SAvnTvZbhKWlWBuSmqKjNAsKNnGO3fuxMaNmzToS2cm22779u348cefsHXbNq2BX5Xsv+kZGdi2fQdmf/opXnjhBTz7zNOYPXs21q9fj7i4OAbIiYioTpJzDhdXNxwJD0dWVrbcznZRyW9vUXEJjhw5glmvvY5ff/8N9g72qO9VH35+frh36lS88tpraNiwIYICA9GhY2c4OlR0DC53jB0KO4yVq1byDjsiIiIiohpi+ZzB9LjOkSzb6BMxCDt8GAsXLkTbVm00azwhJRGjAnthRJM+RqPm9Bm6dHZKy0uRUJiO3EZWyC0s0DI1EsyVgK+/vz/atGkLHx9v09RUnWSJPfbYY/jkk49RVFSI1q1b690NQhrckiH+wQcfYMYjD2utUums63BYGDZv3owffvgB+/btQ4DR4A4OCtKGNhERUV0hF9+/+eor5OXl6O9l506d0bBRI9OrNUuD4kVF2Gv8Dk9/cLrxG70Wzi4uCA0ORVCjQO075MabbsLRo0e1zIv0IeLtXR8Rx44jMipSz1HlM6T/G28fH3Tq1EmD5UREREREdOHU6TPswsIibN+2Da+++qrWcPQLaICsrEwU5xfCysoKlkYDhJm2/47UGW/tEYxDBw6j2GjkVQ3OxsScQGRkhOkZnY7sfwUFBXobuDTw5aKCmYxbtWoVPvrwQ+Tm5mLY1VfjySefwkcffYQnn3oKISEh2slp1HFuYyIiqlvk91NKt0VGR+nv58my8ot2TifzkY4+ly1bhkkTJ2Dnjh1o07qNdkAuCRfXXnstRo0eBSdHRz3XlAC6nB9JOb8Zjz2qQXLpk0UC4RLQl8/Ztn37RVt+IiIiIqK6os6nnuTn5+HAgQPaqeHxiEgkp6QgpHFjNGrYCDAaUcyy/Xdk+znZOqBZs2ZINbatuXSKjI+MjER4eLg+p9OT7VR9MJPG8urVqzRw3q9PPzzx5JO4+eabMWzYMNx0442YM2cOPjWG/gMHnPI+IiKiukDOOaKioiovzF+s30L5XV66dCkefvhhDW4PHTIEXp5eaNG8Ge666y4MGTYULi4uujzSL8iG9ev1fZKUIedLM198CaNHjoKbq6veYbd61Sp88vHHOHz4sE5HREREREQXRp0OjBcVF+LYsaOa1SMdF0qDIzsnG72cm6GNQ0OUn/z/7Fw6P5rbZLRDHZwdNHNLGnjSEJSGYmpqGiIiInQ8nbuc7BxEHouArY0NmjVviuDgYHh4uGvnsZKV1qFDB1zRpw8aXaTbxomIiGoTOzs7TXyQgLO6CBnXaWlpWsrsxx9/xMiRI9GtW1ekpKSgXYf2mHbf/Rg8dIguk5wLyZ1fcpFbzoUW/fwzfvv9dw3md+3aRcusNPDz08+Uu8JWrFiBX375Rc+jiIiIiIjowqjTgfHiwmJERkSivKxcGyeBjQJh7+CA9k5BCHXwQ/nF7qXpP0hys+xgjdGW7RFUPwBWNtZ6K7A0CKUsiGz34uKSionpnNjZ26G+jw/y8vOxYcMGLFu+TC/ymMk2trK01M5OiYiI6hL5DZTfv+zsbKSnpaOstMw4663Z0969e/fgy88/x7Yt2zSoLResbSytcc2112Hcddehc+cucHV11WUTubl5iI2N08SMr7/6Csv//BNJySmwtrJCj5498OKLL+LKK6/UQLrYvXsPs8aJiIiIiC6gOl9KpaiwSP+XDGZ7e3t4eHnC170+HKztWMvxArG2sEQXyyB0b98JTk5Op2Q7paSk4tjx46ZndC4aNGiAMWPHwL+BP7bv2KG18mfMmIHv532HhIQE01RERER1kwSgfby9tVxJnPG7KLW8a4qcM2ZlZSMtPUM7cs/LycWmTZvQu09fTJo4ES1bNIeV1akXqqWDbUkQkN9s6fMmLTXNOB+tCJpLqZVRo0ZpJ51dunRBUFAQWhifkZ9foK8TEREREdG/V2cD45KtLLe7Rp+IruzQMC09TW+7tbWzNVo4rC9+IZWiHO5u7poFVVVSUiKOhh8xPaNzIVlngwYNwsMPP4RrrrkG8bFx+PDDD/Hc88/j5ZdfxoIFCxAdHc0LPEREVOfIb59ciA8NCdWa3ylpKSgqrrnAuJSF8/PzR+cuXeDm4Y56FvU0oD16zGi4u7uZpjqVnGdKYoYsZ0Zmpma3Ozo46Diz/v37a2edvr4NtOxffHwswsLCNEDO33ciIiIion+nzgbGS8vKEJ+YiEOHDxuPS7VxYW6IaEODQfEL6uRJo9GXloGSktJTLjjk5eYiw2jo0fmRWuJTpt6LV155BQ8/9DBGDB+BwoIifPDBB3h0xgx89NFH2L17t2lqIiKiukMysjMzs2Bv7/D/dcZriAS3ZR6OTo4IbRyKG26ajAceeED7/jhTokVpaUllFruce+YX5BvLm1mZsCEkc3zQoMEadJfa5Z9//jneeustLP71V+OciqXoiIiIiIj+jTobGDdn6Uj9SXksZVQk20caUWdqwNC/YGxSc16TOcNJtnNGRiZiY2L1OZ2/Jk2aYNr99+Hd997FQw8+hKFDhiIzKwvvvfcePvvsMw0MEBER1RVyjiF3AZaUlSDA3x8ebm6wrFezfW5kZWVqGZUB/fujV8+eprFnJpnsWdkVv8/yPp/6PoiKivpLp+Qenh7o178fQkJC8Ouvv2lw/JWXX9ISMeyMk4iIiIjo/NXZwPhJoyFRVlqRKS6NJ09PT6SmpmpgXDsrNAVv6cKwMP65WtjD3sZOL0jIdpftnJySjIOHD5mmon9LOvqadv80zPlsDkaMGKFZZ/v3H8CePXtMUxAREdUNcr7RqkVL+Ph6w9/PX8uU1JSkpCRYWlmhY8eOaNiwoWns35PzT3MyhpyXygXtxMSkUzLGhb2dHUaPGolp06ZpIoeNjQ3y8/I0iM6scSIiIiKi81dnA+Ny62pKSrIGaGWQrBsZ18DHF86OTqap6EKxNHa1wdYt0NI3GLb2p3Zsav4O6NyYO+2S/bb69vPz80O3rt3ga+zPqakpRuM50vQKERHRf5/8LkqAOT4uHjHRscbvZT7Ka/Bcw9fXF41DQ+Hm6moac27yCwqweetmpKalouw0WeAS5G8c2hhDBw9Fr169cNNNN6Jt27aaaU5EREREROenzgbGc3NzcTgsrDJbx9/fH7a2tvqaZu8wUHtBSca4BMcTEhKQn59fmSElpOHKjKdzIw1+6Vjzs88+x59/LkO+0eCXW6/N21IeHzx0EHHxcXB2cYGXl5fpnURERP998jsp53rRsScQdSIaUTHRWsO7psg5pAxVz2/OlrxHlleC302bNIHNaYLdMk3HTh3x6Wefaom06Q8+pPXHz2d+RERERERUoe6WUjEaINKYCAgI0JIe5lrjMl6xoXHhGZtWbw82bXszCeJmZ+eYntHZkG22ddt2zJz5AqZPfwAPPfggPv/8C2zevBk//vQTnnv2Oaxds1Zrj0pN0p5nUeuUiIjov0IuEh8/flx/L319fBAY0Ai2NjamVy88Oa/5t0FqWdZNGzegsKDANOZUkh3u4eGBRo0awdHRUQPp/3aeRERERER1WZ0NjAsJ0iYnJ7PjoovFaLtpA65aI05KgaSnp5ueUVVyoUb2UxlkPzVfuJHGcccO7TFp0vW6/b6f/wNefHEmbr/9djzx+OP4dM6nSExKNF6fhPumTYObm5u+j4iIqC6Q38nQ0FBYWVnpIHW5raxqb9kRc2Dd3tERFvXOfHou00hAnIiIiIiI/r06e2YtDQsJMhYWFmrAUUp8SKaOBm7popLtX1rKUiqnI3cy3HDDDZgxYwZGjhoNHx9fHS+NYskEf+ihB/WW6scffxyDBg/W+qbNmjbFmDFjMWvWG3j22WfRqVMnNqKJiKhOkd89Z2dnPa/z9PRAZk4WCgpPn4ldW5w8WY7cnBwmbBARERERXSR1NlomQfDMjAx9LI0mBwcHBg+p1pHA+NChQ3HPPVMweNAgvYXaTLLfAgMDMWTIENxxxx147NFH8fwLz+OFmTMxY8YjGD9+PJo2bVpZO5+IiKiukOByTk4OPNzcjccnERUVpc9rk4KCAuRkZZmeVdwlJmVUTjIwTkRERER0UdTpjHEJhEsjRLNvg0NgZ2dnetVgKllBNU9ucXZwcDQ9o6pkP5UyKAEB/vDwcIe1tZXplVNJwLxZs2bo1KkzunbtqgFxBwd706tERER1j62NLbp1744j4eHIy8vTi821iZx/1qtly0REREREVJfU2cC4BMEbNmoEd3f3iiC5Mcj/Obk5KCoukoikaUq6YE5WZENVv+gg34W7h7vpGREREdG/I0FnF1cXtGzVSgPibq5ueqdVbSLLY2dvX3FuZLCwqAdHJycGy4mIiIiILpI6GxiXRkh5WTnsjQaJSE5NQUlJCTIyM5FfUGC0TnQ0XShGm082qZOjE6ysrSsbgUIyxp0cmTFOREREF450XJ2WmooO7dvrHVfSWXVt4uLighYtWmifIUKC+a5u7gyMExERERFdJHU2MC51HSMijiM+Pl4bTtJYkmBtSXGxPmdk/MI6aXESGbZFcHB1MhqnFYFxGaQRKPXda9vtzURERHR5k/O5o0fDUVxShOSUZO1wvTbx9/fHuGvGYfToMfrcfG4kAxERERER1bw6GxiXTHH/gAAtnyIdNEmAXDrkTEtORV5uHmBRUX+cLgzpRuqYcxaOp8SgID9ft7u5fnaDBg0qJiIiIiK6QOQ8w97BHuFHj2kHnLWtlEppaan+7+TkpP/L8spddPI/ERERERHVvDobGJdGSJvWrTV72dwAMf9fWl6GMmNgw+TCqXcSaJbsDIcSS9nQejGifv36aNu6DQIbNjJNRURERHRhyN1ozZu3REhQMLp17govTy/TK7WDBOpt7WyRmZWpz+Uuuvpe9WHFu+iIiIiIiC6KOhsYd3R0RPv27REcHPyXMh5hmScQl5vMYioXUOnJMsyJWob4gnRjp7PQbPzWrVtjyrSpGHvtONNURERERBeGnGukpKaguLgECUmJyM7JNr1SO0gChrubG5o2aaLLKs/NAxERERER1bw6GxiXRoeHhweGXn21Zo0Lc+mUg86piLLP0gAuXRjlxrY9eiIC+YUF+tzd3R1DhgzB1UOHooGvr44jIiIiulDkvE7qjG/bsQ1hR8KQlZVVea5XW0iWuJRPEXJuWr++l44jIiIiIqKaV6fPvKXXf1dXVzRs2LAya1waJYcijyI6MdZ4zFtZLxS5xFBaUoKT5eVaRkWyo/z8/FBmPCYiIiK60CQInpqSjJycHO1HJjY2VoPjtZUsb2Zmlp4nERERERFRzavTgXEJhrs4OxuNkEz4+PhUdsoUHxOHlJQUYwJ2wHkhlJSV4nBaFIrLS+TKg45zcHBAYUEBMtLT9TkRERHRhSTJDk5OzpXJD1JGz87OTh/XFnKeKYMsq/xfVFTEc08iIiIiooukTgfGHe3t0a1bN80az8/P19ttpUNIaUDFZiQhLS8T9UyBXDo/0rQrsSjDJrsTKLAoqSxOU9/bGyGhoVpShbcMExER0YUmwWZ7B4fK84yiokKUlJTo49pCAvVS2k+C4bKc7u5uPC8iIiIiIrpI6vSZt7WNjZZRkYC4NEKkAVVaWqqvbUo7jA2pB2BZzwonNbxL50NLqJwsx+aUw8gvLTKemzPGHdGgQQO4uLjodiciIiK6kCTYnJeTU3luV1om5dxq1zmdLKOch8r/cj4kWe0MjBMRERERXRw88zbY29tXllHJyMhASVEx9qQew6qYXcgszK0M5tK5Ky0vw4nMROzZvbfy9uC2bduia9eumqlPREREdKFJne68vDwcORKmWdlyN6CHu4cGnmsTCdoXFhZVllLJzc1jjXEiIiIiooukzgfGpdZ17169kJOdrcFxGaRxUpRbgH1Jx7A75zgsTjIwfj4k076kvBTH0mORlJKEstKKjKiRI0dh7Nix8Pb2Nk1JREREdOFIcDktLQ07d+3W55KFXVhYgOLiIn1eW8h5p/nuOVlm6RyUgXEiIiIiooujzgfGpUHSo2dP2Nnbw9nZGdbW1pW3sx4uiMP6rMOwtGBi/bmSoLhk2peUlyG2KA1ybUG2qZOTE/z9/WBvX7s6vyIiIqL/DjmXKygsQmJiEmJiYrS2+MGDhxAXF2ea4tKTZZQyKsXFxfpYyLmSDEREREREVPPqfMRXbq8dMngwvLy8kJ6WruU+pEEimUVJcQnYFbYfmRaFGuilsydBcWnkxeenYfbxJSgorcjQ6tWjJ7p3664XIYiIiIhqgjnALIP5bsDS0pJal40t550FBfm6fFZWVlr+hRnjREREREQXB1OhDU7Ozujftz+aNm0KW1vbyoxxcbAsDnOLNmugl86OOVs8uyQfG+P340RMTGUjr0+/fmjg16By+xIRERFdaHIuZz738Pf31+B4u3btEBgYqONqC0kU8PVtoHcsenp6Ys2qVcjNzTW9SkRERERENanOB8YlQCuNkQmTJqD8ZDkKCgo0W9wcHE9KTsbOfXu1E0nzba709yQobmFsqqTSbCwu2qPbTkjHV127dkH9+vX1OREREVFNkKB4Zka68ajifE7O7Xbu3ImIiIiKCWoBWa5k4zxz7969WupFSr5ERUejsLCQ55xERERERBcBM8YNErDt1KkTevfsjQF9+sPHx0cbVNKIys/Jw8pj2/BG4m8oA29tPVsZxblYH7EL67dvRll5mW7Lbl26ataWPCYiIiKqKZL0EBwcrBniSUlJGmx2dHTSOwNrEynp5+zspMsr50j+DfxwspxBcSIiIiKii4ERSoNk7EjDpP/AAejQuQOcnBxPKacSl5yApdtWw0J6kKS/JdvN0sIS4blx+CJqudbKlEB4o0aNcO+0aQho2NA0JREREVHNKC0tRUJCgiY/SAeXcn6Sm5ujAfLapLi4BEVFxfDz84OtjW2tC9wTEREREf2XMTBexYAB/TVbx8PdA05Ozpo1LsHxstIyHEuLxeyUFSguLzVNTadTz9heWUW52Bkfhj0xYbr9JAuqY8eO6N6jOxwdHU1TEhEREdUMOYeTi/Px8fEaJBf29g61LvDs6OigSQMuLi7w8fZGUkoyMrKyUFpWUYaOiIiIiIhqDgPjJhLA9fLyQmBQEBo3bgIPd/fK+o6W9eohozAHX25fjPCMGG2ssPbjX2m2eD0rbEk4iC/2/IqSwuLKkjQ33HCDNvgkcE5ERERUk8rLTyIrKws5OTmaMS6kjrc5SF5b5BcUaG1xKfeSk5uLY8ePIT4uDqXGshIRERERUc1iYLwayWxuHNpYb72VQK85a1waKEcijuLtHfNRUFqkwXIGx//fSeOfbJPckkLsSArD7uSjEimHo4MDbrzxRvTt21fL1RARERHVtIqM8Xw9VzOfrxUWFqC4lgWcI44fx++//4bU1FREREbostrZ2bI/FiIiIiKii4Bn3dU0bNgQHTp0QEBAAOp71Yd3fW/NNKpnUQ9FZSX47vByfB+9BrklBbA0xklAuK7ToLixK+WVFOLPyC1YGb1Dxzs4OmLglVfikUcegZOTk44jIiIiqmmS1GAe3NzcYGVlhcKCApQWF5umqB1yc3ORGB+v55ryuHv37noOKstLREREREQ1i4Hx0+jeqzvGXjMWHTt1QmCjQHh4eGgGj2TvODo5Yubub7EkZRdyywuNDWhR54Pj0impBMVXRO/A2zt/wJoTezTjPjQ0FHffc492vCnPiYiIiC6GqpniDg4OGmhOSUlBdnaOjqstpO8VGSSAb2Njgy5du2qQvLaVfCEiIiIi+i9iYPw0JFN89Ogx6N69G+zs7dCpY0dtrEhwV7KO0lPS8GrYfOzKPI6T5SdhIcFxU+OrLpLM+Q1x+/DatrnYGLu/Mjvrit5XoGePHvqciIiI6GIxB5pFQkICioqKUFpSWllvvLYoKChAUnKy6RkqM8dr23ISEREREf0XMTB+BoGBjTB48CB069YFvr4+aNCggTZS4uLi9P99e/fhtwPrcCw7vrIOeV0Ljsv6FpYWI7UsB+/vXYit8Yf04oFk1rdu3Vo73GQJFSIiIrrYLC3rwc3NVc9J5BxNzk+CQoLg5eVpmqJ2kMxwOa80Z7gXFxVpKRX2y0JEREREVPMYGD8DaUS1at0G/QdcaTRUKsZVDXxLCZX3dv2IT/ctRnROkr6mwfE6UlZF1reovARbkg/jmePfY09elOkVICQ4BCNHjEDnzp10m8hAREREdLGUlZUjLS1dkxeEj4+P1hjPyaldpVTS09ORmJio50olJSXYtX0ndu7cify8PNMURERERERUUxgY/xvOTk4IDg6Ct9GYktqUVQO88ri0vAwLEzfj68iViMxKMMZWlFX5r9OgeFkJdiSFYUHudizevgLJKSm6TUKCgnHvlCm46+67WVeciIguK/L7JoFUGeSxDHR5koxxyQ6XjHGRlJSEE9ExyM2tPQFn8z5m3s+Ki4uxbsN6LF36BzIzM3UcERERERHVHAbG/4YEeoODgzF16lTcc889Guit2kjW7J7yMixJ3o4vI5YhMlOC4/9d5mx4KZ+yJ/kocovysXb7BiSlpqC8rAyurq6YfNONuPmWmys7kpKBiIjocpCTm4ujx44hLCwMWVlZprF0OaqaMS7nbvJ/fEI8MrNqT8C5uLjE2OcqAvVyviTLWVRchMLCwspMdyIiIiIiqjkMjP8D6bgpsFEjjBkzBvfddz9sbW0rg+PSiMlIT8eRyGP4fMcv2vlkdFbCfy5n3Ly+1rBCQnEGno/9Ea8e/REfRf+B+KwUrY0pQfEpU6bglltugaubm05PRER0OVm5ciVuv+12PProo9i4adMpF8Pp70VFR+O7efPw+5IlelHhUgd2y8pKtURJmbEc5gv1xSUles5SW8g2Mi9P1X3NvLxERERERFSzGBg/Cxb16mlHSDfccD06tGuvZVWkAaONrOJi5Oflo9CiFKvTD+ClLV8jKisR9U7+Nxo0sp6WxvpnF+ZhZepefBC/FBvi9yHXsRxbovYhv7gQHu7uuP7663WQ7URERHQ5Sk1JwZ49u3H48GGt/czA+NmRMiU//fgjZr7wAl579VX89NOPWi/7UpISKk7OTqhnCjBLADo0JAQ+3t76vLaxtrbWjt717sTyulnGRy4UREZGYvZHnyA+IUG/M6kJ/9uvv2Lp0qXGfpZsmpKIiIiI6MJgYPwsSUOladOmmPHoowgMDNSguDk4Lo2vstIylFiWY295PJ7c8QWWnDxgNMbq6SAux+aNlE6xtrBEbmE+ViftxTsHfsK3235HxPEInIiKRlZGFpycnDB06FAMGDAA3rW0sUlERHQ25PdcApRyAVweM2v37EgQPDY2VkvQ7N69W4OalzpjXM7RJHlB/pfB09MTzk7OlTXHawMrK0vYGPubkO1VUFCgy+ri6qr74PmQYHJY2GEsWDAf69au1efymZeD1NRU/PD99/j0szmINs4zzcv+zTff4PXXX8f+/ftMUxIRERERXRgMjJ8DOzs7XD3satx99z0IDAzSceaGX35+PkqKS+DrUd94dhKfhy/Fx0d/Q3jGCWOik5BuKM01ui8H0omotYU1wuul4NOYZXh3x3ysOrYDCbFx2nCJOhGN9u3a4YEHHtAa7O2Mx1J2hoiIiOoWDw8PDB48GHffc4+WnbvqqkF6geFSkvOz3NxcLaUiXFxc9DytoKBIn9cGEq82nxtKEFjuUhA+Pr6wtrHVx+fqaHg4vvzyC7z80sv48MMPsXPnzkt+keJsyDIePHgI8+bN07KFHh7uehHD3t4e3r6+OHToEJYvX474+HjTO4iIiIiI/j0Gxs+RZI7fcuutmDZtKpo0aaKZLBIwl8zpjKxMJMbGw8fOXTuk/CZxrXbK+Xv6LmSXF2qNbsk9q80Bcitjl7CysEJmYQ62ZYdjYfZ2/JC6CVsTD6MwJ0+z5ySLqUOH9toh6YMPPoju3bsjJCREtwERERHVLQ4ODrjyyivx6quv4Yknn0C3rl3PO+P5QpHzFRnc3NwqO093cLSHrW3tuYgvwfCSklJ9LMvo7l4RDPbx8T7vZAMpa7N9+w7s2bsXW7dt00z+6qJPnMCyZcuwceOmymD8pZaSkoLVq1cjLj4e11xzjZ5Xyj4kF1ik/xrpDP+PP/7Ajh07TO8gIiIiIvr3GBg/R9rIcnXBfffdh7vvvhtt27SFs7OzNmCsLOohMisBH+/5WRs2Ls4uWJV3GM8dnIsfotdid2EUMusVwtpCws+X/vZsc4BessNl2cWegmisSdmHn6I34K2IX7Di+HagsAzOjk6azWNtNFJatWqJG66/HlcNHgxHR0d9n2yX2nR7MhERkVlJaakGIc/VpSxBIb+5stwXi6xrcXHJea+zBDFdXZzh6OBgGnNmum6mgHBNknMTOU+RoLPc2VfPUkrlXNqAfVX16llooN7WzrZyWeV/yW4/3+UMbdwEV189XC9UDBs2DB06dNDPrGr1qlV44vEnMHv27NMGzi+FgwcP4PfffkVQUBBGjhqp35lZh/btdT1iYmKwa9cuFBYWml4hIiIiIvp3LJ8zmB7TOZBGRteuXeHu5o6EhHjExsVpgLxNqzYoLCjQbBypbenn3QB5J1KxNTMcmy2iUGY0BO1K66HIogw2sIRNPWn4XNwguTR6Zfnln9xinF6UjeN5iYjKT8Jzx77H3GMrsSntMFLyMpCZkYkTMSf0dmRXV1etrz7umnG48qqrdH3NDU4iIqLaIi8vTzNnTxi/xeHh4Th46BAiIyKN8bk4afzume9wqh4wlPrYUq5Bftv69u2LNm3a6PiioiJERERoGQcJAMudYlXfK7+rUh/66NGjSE6WDgIl4Gn7lwvGslxRkVFISU3R12Qa8+fIOUNyUjLijPOJqKgoLR1xJPwoMjMzUFRYBAdHB/29NU8vnyXLI+soyyfB1OrrY5adna0B0ARTh4by+y1kuSVTNzo6GgcOHNBSFpKxm5lhzNP4TLnof7YlUTKM9xw7dgxZWVm6XvK+qssjdchleeX7OHToMI4cOWJsh2Q9vyg3lsPB3v6My38+JHi6fft2zTKW70a2l6ODI/r06YcmTRqbprq05ALBiRMx2LF9h24HWU7ZdmPHjkVo48Znve2rkv2gc+fOGDduHEaMGKG11atv198W/4plxn4e0DAA/fv3v+R9xMi+9ttvv2He9/MwYMBAzRCv+rcjy19q7D+79+zR7dS+fXv4+PiYXiUiIiIiOn9M8f0X5ER9/MTx+ODDD3HTTTfp86KSIm3QNG4cqo3NiKhITGpyJXo0bo+II8cxfcEsjFnzAmZFLsLqmN2IKUhFSkn2acur1FTJFVnOkvJSFJYWIz4vFV+HL8eE9S/j9s3vYP2OzSgtKsbJsnKtxZmZmalBgK5duuKmyTdi0qRJaNykCRo1agR/P79Lfqs0ERGRkCBvaWkpEhMT8fvvv+O5Z57DiOEjtHPo8dddh9GjR2HQoKvw+qzXtWM/CUqeDZkuMTEJ9957L0aOHIlFP/+i2cdVyXz37duHiRMn4jpjXnPnzkVGRqbp1QqyfPv27sNtt96G2267DRs3bqzM0JZg8tatW/Haa69i8g2TNaAp8xp3zVjN/H1w+oNYu249cvPydHoRHX3CmP51DB8+HDNnztSA4ZmsW78e9z9wP26+6WYs+GGBjpMAuQTLP/zoI1x//fXG9hmNG264HiONeUu98IcffgTr1q3TYO0/kWVasWKFLrOUWTt48OApGfoSFN+7dy8kF0M+e8SI4TqvUSNH6TZ7//339cKDbMcLRc515BxFOreUx0KWqbz83O8cqCmlpWW6fI1DQ9GsWTPNlpbzK3d3j3+VdCAXNOTix5nO0XQ7nCyv3C5nS94nFxzkIs75kL8lCYLL/mDej0VERCT27NmrAfouXTqbxp6qQ8eO2gn+zu07sHLFStNYIiIiIqJ/h4Hxf0EaFDKEGg2al19+Gc8884xmeP26eDFat2oFPz8/JKck4/mNX2D5gY1o5N8Q/v7+2gBedmgT7l37DiZseQ1PR32P5MIsZJXkIa+8CMXlJRUNlgucSZ5vfHZhWTHKjEZhVE4S1sTvwfzItZh99HeciInR8Q0aNNAsHQksSIPZz9cPzzz9LBb8+CNeMRrs9z/wgGYheXl5Va4/ERHRpSaBNqmXfP9992PatGn4efHPyM3L1drE0kG0BNUKCgrxv/99hScffwJpaWmnBOfORH4TpeazTC/Z2fv27kFycorp1QoSlN66dRuOHz+uw+5dkgGcY3q1ggR9jx47is1bN2sn1rJM5nIZ8+Z9hylT7sEXX36JyKhIzViX0hHNmzfX4OayFcswaeJEbNm8pTIo2axZU10u+b2WoLPUlT4dCUZu3bIVa9eshY2tDZq1aKbrLZntL7/0It57911dZtlOV115Fa7o1VvvEFu+fBnefvttDfj/E5mHZIxL5rmcO1TfrmFhYXqOJBcMJCjarGkzjBo+Er169NIs9s/mzMHsTz7RbXyh6Pfm7YOAgIDK7PWEpERkZp16weJSsrKyhIurM4JDgtCmdWvZiTX4nGUso2RInw/5LuTCjfwtyJ0C5u9C/pfnMj465gRycnK0nI2ck8o4GeSxvL/q9yeP5eKIfL+HDx/WOuBS51uSP3Jzcv8yvZBxkqEv75H3yuv5+QVaCmXTpk1a/zzbmL/5fdJh6I5t2+Dr64s+ffrquOrke2xoDClpqThw8KDOg4iIiIjo32Jg/AKQxpf0mi8ZVwsXLkT37t2w5I+l2tjr1L4j7BztkWA0XLfv3I7YuFiUnixDJ+9muLv9aCRnpWHhuiUYv+FlXLPhRTyTtQi/Jm1HQm4aSspKUVxeqtndEiyXx/LekipD1efyunk6fZ8xTgLs0vAoNf5/N3Ep5sWtw+a4A9h48jhmZ63GS2u/REx8nDa0pUErjX4ZPDw8MPnGG3HVoCvh4emut43LIB1sSSaSrDOD4kREVFvIb5J0tOjn2wCdO3TC0089jbVr12LDhg1YvHgxFixYgOnTH9RA3YrVK7Fz585/rFUsv5/yuZK9261rNy1TsWXTFkQcP26aokJGejpWLl+uQU15z/YdO/WOK3PgT0jWuZQqkd9PyQyWC8zyWKZxc3OHj48vbrhhMhYt+lmzyWWZlyz5A199/bV2RCjBzp9+WmAq1VLRWWOXLl3QsWMHnIg+gXVr1uhnVZ2nkOWQEicSqJSLAz179tSgopRr+WH+AhQZv/933HknfvjhB3z++ef4bt53xnx+wrPPPoPRo0ZqgP6fmOcrw+kCpXPmzNF1augfgJdffAkrV63Eex++jy++/ELX88bJN2Dy5Ml67nGhmM9R5FxMgvGyrSXwLsHf2sLSygp2tnYapN5h7I9Shk/OwWTfkHOu8yEXXV599VW0bNlSt6l5H5f9/vbbbzf2l476tyDf07Jlf+pdjm3bttXpR40apcsizN+nBNPnzJ6DIYOH6N0LUuZE3tO7V2+tUy77o3laMwmaP//88+jVsxc++ehj/cx58+ahX79+mDBhAoYPG4YVK1ZW3jGRlp6G+MQE/TuQi0GnO7+U769F8xZoYPx9Z2RmGEPt+R6JiIiI6PLFwPgFIifxkuElDc4XX3oZb8yapbcUHzkajit698LEiRO04SGB5ZysbCw7sBFfHlwCWxsbePv6wLG+K9JKcvDDkkV4eMm7uOrHBzFoyQzcffBjTD3yGcatfwm37nkXs4qW4bGY7zDjxFwdXitYimdTF+JRY5xMe+36l3Hdhpdww/ZZeP7EAmxLPIyi8hJ8VbYFYaUJ2O+cijk56/Dl7t9w4GgYckryKxvy0kiSLPdhV1+Nu+66CzffdBNGjxmNTp06wcWloh7p6RorREREl5r8Pkl29cMzHsHHsz/RAF6LFi20PIMEGps0aYJx11yDbl26aZBw5YrllUHAMzH/5klQbuCVV6J+/fra74YE8qrKyMzEpi2b0bBhQ/Ts1kPrm8vF5qqdZyYnJyEs7LBmY3fq2OGUeuGDBg3CJ598gqeffgrdunXV+smyzH5+DbQ/k2HDh8PaxhqbN20+JbDbrVt39O3bX2uWr1m3FolJFUHzqnbu2oXIyAj4NfAz5ttJ66tLsFSydyXYbmUsh5Qzke3j7uEOD09PtGrVCrfeehsmTbpeL4b/E1kP87pUfWwmgXkJsLZr3w69rrhCt6NcxPCq76XnGDNmPIoWLVuesfTH+ZJM8auHDtULGrIfSNaxub58bVBcVIy0tHTERMdqQHvI4MG6DeRcUfa58yHndLKtZR+seleEBqCN53KhwFwKSPYDCWxL7XeZXh5XvbCRkpqGmS++iLfefkvvZJB9qG2rNggNCUFBYQHm/TBPS+dIXfyqKrLes5CSkoykxCSsWrUKzz33rN5NYE6y8Da+e/l+5G9RSqnk5+fpXZV/V1fd08sTnp4eSDOWK8rYp4mIiIiI/i0Gxi8waUBKZtc148ZpI+C9D943Tv59kJudi359+2nJlU9nz8bEm29AekmuZmxJg2T33j2a8ZWakopSewuUuFnhUHo0ft66HAu3/Ik1h7dhya61+Pjnb/DdmsWYt+YXHWYvnouvlv2oj2Xa7TEHcSA10ph+O1ZF7sCs44vwQuxP+HHvChyNOo4/1q/AH1tXYe+Rg0gw5uvk6KTlU8yNoOBGQVqvVDJ6pHOj9u076Pr8m1qXREREF4MEZP0D/NEosBFc3VxPCS7K75i3jzdCQoO1UFlUZPRZ10qWz5HaxxLMTU1P1azeoqKK90qJlKTkZP2/W9eu6NqjuwY3t27bVpndLSQgKWVJJCu6/4ABlb+rsswyrnHjxvp7XD0Q7W7Ms3u3brA0luHY8eOa+W3m4eGOrl26ICgwUIOTW7du0aBkVYcOHEK88Vqr1q3RsVNHnZ/MQ+ZpvigecTxCs6rNZPllXV2N4UJwd3fXgKec58TFxJjGVpDxXvXr6//VA+r/zknje7PQecv3J9nq0mH6+Qaca4Js/6zsHJyIjdHvzcvLU4P3Ejg+320h7zO/V9ZVHst8JCD9zjvvaJBaLrbI/tqvX3989dVXemeFDN98843WJje//80338B3c+fq5zxw3/348n9fGue172H27E/x1ptvIjQ4RO/I+Pqr/yG9Shkceb/sQ1nZ2fju+3l44fnn0bJ5C3z//fearf7jjz/qOaZ8P/HxCYiKjoKXpxfatG5V+f7TadioEQIaNkJSUiKOhIWZxhIRERERnT8GxmuAnNBLdlJoaGOMGD4cg4cM0UEateFhRxB7IgbNmzXFM08/reVXpAEkmUKS4SPy8/KRnZmFAuP/XKPBJI+LCgpRXFiknWJmZmbA1sYWDvYORkMkHSlJyfq/TCvZ6Ompafo4/NhRrDmyHd9sWowde3cjPDxcOxzLzMis7DxJOkGSDCJpkF515ZW4dvx12mCXzp+kPIwsm62trS4XERFRbVY9oFZcUoJI43dvxfLl+HzOHLz79jtYv369jpe+Nc42MC6fK3dUSUar9It94MABREZG6mvyGyplWSTw2LVbNwwYOFDvINuzazdSUypqkUtgUgLXkjErGcsdOnSsDNCeLggoNcwl4Cjl2eQOtB++/0F/r+W3O9WYnzmILZ/RrHkzdO/eQ4PwS5YsqbzQLf/Le7Zv34bEpCS0bNkCraWOtUGCllJTvE+fK/SzXn31Fbw080X8ufTPynORC2no0KHG/EKw39hukn38+uuvY/uO09dEv3AsUF5+0jgnSoenpyeKios0y7k2KSoqRFZWBizqVZQBOnz4CBoFNDTOFy0rv8cLQT5LLsS0adMGvXr10u0hJIteguRXXHGFsS/00ex92TckSL9y5Ur8/ttveiHmtttuxS3GIHXxm7cw9qM2rfW89q6779Z97Mv//U8vDlUl+7XsW/EJ8Trv5194QTuVlfnJfCQAL2SflkHWX4Lef0fuopBBstHj4+JNY4mIiIiIzh8D4zVMgsr9B/THqNGjMPTqq9Gvf38EBgXr7anSGZXcRtu1axd0aNceDY3GkDRI5NZuqQkqDXZpTJgzfoQ0MqRTTnlNGhIyVl6XQaaV1+UWWckAk8+RAHlSQiKyjUaEPJeAvTTYpdHj7OSMVi1bonPnThh37bWY/uCDGDlqpGYrmRvsRERElxvJ6F7882I88/QzuP+++/D4E0/g9Vmz8PMvvyA9I0N/I3Pzc/+SXX0m8hssF5BbtWqpGchHDh+prDMugfFd23fo733v3r3Rvr10qmmNXTt3ankKkZKSqh1cym98i+bNNVu7ekBcfve3bN6MN2a9jqlT78Vjjz2GmTNnYv78+TgafhTlxrLKb3NhYZEuv1lgUCC69+iuAe3t27bpust6STB09+7dCDsSBjdXV63PLOcAQuYt2ekPP/ywlmmR6T786CM899xzePLJJ7Fw4SJdrwvlqqsG4e6770KLli2wecsWvPXWW3jC+E4ef/xxbDGeV12fC8tCz5XkYoSdnT083Su2u/nCwqUm35N8b5IcIcvk7u6GwqIinJSrLxdQ9X2t6sUTyRyvTpblB2O/k3I7nbt0waAhQ3R/qUoC2/3699PgekxMrNYVP93fU2BgIO686y7dR09XlkcuVhQY561Sb936H8r2OBv7r7OLM0pLSs/6ohYRERER0d9h9PMikAaw1NPs2aun1uweM3YMWrRoaTSGcrQhLXU97e0djMaQZHEXacNVGg9VG4rSqJHGi/TwL+PT09O10aqB8ioNHnlcdTCT98ggjXIfoxHTpXMX3HLLzUbD+3HtoOyhBx/UTpGk4cOgOBERXa62b9+uJSOee/45LJj/A7KyMrWPj+vGj8cNk29An7599bewnsW5dyLdo3sPBAT449jxYzhuDEICgrt379FM1saNQ7X0SUhwCNIzM7RcmgTwYmJOIDz8qGbqdu7U+S+/0VJS7bPPPtPA9Mcff4JDBw9pdvrgwYNx8y23GMt+HWxs7TSQWf29cpFbMsFDQ0M1EL9x44bKc4MtmzbrOClbIZ0rViV3hA0ceCVmPPIInn76aXTr3g0RUZFa7k0C8q+88ipWrFhxQYLWPj7eeofcM888iylTphjbsCFWGp8tmeNSw1rKzEkG/tleqDgbstzZOdlITU9DSnKydngqgXm5SFB1+11Kcr4l35VcFJFzOqkVn56R/pfv+GKT70EusuTm5mpnne7uHigoLERBQZXBeG5tbYPGoY31nDUyMqqydnlVkmwxevToymB8dZnGea0M8hmODo6msafnaOyzDg72erFDvlsiIiIion+LEdBLQALfQ4YMxvTp03Hb7behT5++6NOvj2aT9+8/AC1btECjho1gb2enwXDzIA0Vc4BbBmlkyCCPza/J/1Wnl+xwuf27Z4+eGDVqFK677jrcccedmhH20MMPY/yE8bhq0CB06NBBAwVERESXI/nNO3z4MN595x3M/uQTFBYX4YbJkzXoKhnKEuydOnWqBonN9b3PlWTP+vj4auebMbGxyMvP1wztpJQktGjRXAOFEtDs1q2bloY4euyYBj3j4mIRHn5EA+MtWrWsDBLK/3l5+fjmm2/x9ttvY/eePVr3+YXnX8Brr72OV199FQ888ACGDB2qgcMzBRelPvmYMWO0xMQvP/+i5S1ke+zcuUs7KuzYqROk5Ep18rvfvXt3vPDCCzrMmDFDzxXi4+O0vvQbb7yhAdILQTKLR48ehWeffVY7GZXvQsp6SIBcxsnFDLnIcKHI+ifEx2q5Egk6NwxspNtfsvlry/lO1e9TOqHcunWbLvf57p8XgiyTLIs5EePwocP4+uuv9Pt5+523Kwd5Pnv2bC0XJBd/5OKOBKyrkwQQuWh0JtLppgTUZTpzeZUzkb8tuaAlWebS4S0RERER0b/FwPglIg1mKWHSxWhkjxw5Uhvu0sB4/fVZmDB+Aq679jqMHTNW6z5Kto5kg0njtU2btvA1GuVNmjbV/yXw7erqqpllkpmuQfCePbWGozTMJ06ciLvvugvPP/88PvjgQ7z77rt49LFHtbRLw4YNTUtDRER0eZPgnNTkXvrnn3B0csL0Bx7Ao48+qsFX+Z00T1NWfv5ZyT4+PgjwD9AgdWZmFo4dPYbwo0f197d3r96aASzBu05dOmvHlUfCjiAxIQHRJ05oRrRMJ5nb5mxgCTxKVvk3336jNcLl4vWTTz2JsePGIigoUKcxX+j+O3K311VXXaV1ztetX6/106We+b4D+zTI2qplK71z7e/I+YjcPTbrjTdwyy236PnE1s1b8NX/vtJg6ZmC8udKvgsJvsvFildeeUUD+rI9P/jgAxw5ckTX90KQ5S0uKoKTk7OW6ZAtnp2VjYz0jH/cnheLBOnlOxMa9DX2H6npLVnkF2p7nyuZryyDef579u7BjwsW4NtvvsHcb7+tHOT5okULUVJWqueoch4q63M6f7cuNja2+v3L9y4XdP5OfkGBZqvL9A729qaxRERERETnj4HxS6xq2RK5/bpTp464e8o9uG/6A3jnvXcxb948vPnmm3qr8ccff4wXjf8nT56stUdvv/U2DaqPv3Y87rnrblw/aRLuuusufP755zqtNDo/+eQTPPX007jyqiv19m9zY5yIiOi/RIKdBw8c1L47evfqiW7dumq5kKokEC0dXJ8pUCfj/y6IJzq276AXpiWretu2bQg/Eq4Xu6VEiwShZejWrbsG0cPDwnDw4EENUktdZL8GDfSitPm3WOZ19OhRFBUW6Wf0NT4jJCREXzOTaaQOtSz7mX7DJQM61Hhf/779dDrpRPOPJUuRnZWDTh07apmV0zldEFpqQt9qnF8MGjQYmdlZOHj4kG7bf9ouf0fmU/39ssxyIf+pp57S4LBsN7lIINnKF4KcXzk4OSMquqKczYED+7WWt4UxvrYExiW5QS5YmAPKslySeS0Z7vI9Xgqyj8nfjXwn8ljKoLz66mt47733/zK8++57xrnm25g1axauvHKg1nI/V27u7jpIMF5KyfydvNxcY7pcODk6ob7X31/oISIiIiI6GwyM10LSQPLy9KjMAJes8WFXX601UgcNugqPzHgEN06ejOdmPo+vvvoKH378IR574nG89fbbWiKlWbNmWhqlR48epk8kIiL6b5PAq9RnLi0r1SCbDObgovwvHVBLJ5a7t+88Y2BUgrNWllY6/ZmmadayOfwbBmiwe9PGDTh65Ij+Xks5E/PFbu/6XmjerCli4mKxbPlyzSyXUiIdO3TU16uSUiulpSU6TymFYs6alfWR0hSRUVH4fcnvkD5I/o6HpycGXnWVBqGXLlmCxT//jPT0NPQyziGCgoNMU1WQaaT2+M6dO7Uz0qoB8vLykxWdd+fm6vrY29trgPRMQfm/I+tQEZQ+qJn18plVA+QyXymlYR4nmcBVEwb+Dfn+UpISkZiYqPPZt2+/lmpxcnI8Y2bzxSbfuQSTpQ63MG9n2Qbns73Plnl7l5eXnXY/l4B9cHCwfh/WVlbG+WcbDBjQ/4xD//799XxV/n7OlauLq95dIUHvtJRk09jTk+WWwbyNiIiIiIj+LZ5V1kLmhpF5kJN/yaySx1KDUWpkSuNDxpv/rzpUfz8REdF/XUW97G4aaFy5ajV+/30JoqOjNdgcERGBr7/+Gnffczd27tmlwUBzkK0qD3cPzQaXmsfxsTGavVx9mg6mDGypLb5i5UokJCagZ/eelUFB829vh/bt4evri+XLl2PDhg3wC/BHs5YtdBozmU7KoEjwWWo6//rrr9iwcaMGy1NSUrFy5SpMv/8BfPnFF5X1m0+33EIyznv37qXLsX7jBqxet0Y79e7atYsuR1USIH7v/fcxbtw4fPThhzh46JB26i2Z6XFxcVoiY/XqVbotevXoqecWf6fqMpkfm5+Hh4fj/vvvw/UTJuK7ud8hNjZO10+GgwcO4NNPP9XguXxvki1fPcv/fJnn79fATwPhkomdm1tRpqS2kGWUztd96/uYxlSQc72aPH8zf5/yt5FpDFXJfOX10GDjuzD2y43rNyAqMlKX1bxv/91wrtzcXPWOSblokpKcZhp7erLPZGRkwtnZCfW9mTFORERERP8eA+OXgdM1PGQgIiKiCtY2Nhh37XgtTSFBvPfff1/LQPTr109LlLz22mvaCeCtt92mZSLMF5Kr8vP3Q5PmTTXL+LPPpCzZRxq0rcrN1RVNmzTR98p0UgaiddvWf/ltbtGytc5PMrOlNEZwUDA6d+5ierWCTN+rV0+9I0wCwxJEnzhhAnr37o3hw4fj1ltvwaHDh3DTzTdrFm/Vi9/VyThZ9zHGOstFAsmSHjp0iAbxqwe2ZfvIxQEJNEqnn1cPHYqrr75ay7PJnWlS71uC5O06tMdkY95nmqeZ+XUZqi+jZEVLtnx0zAk88eQTevFCSqgMHjwYQ415zp+/QAPBTzzxJJqYtuu/Jesn658Qn6gXMKrX7K76+FIqKyvXCyKJyUmmMReHXIyxNf4GMjPSkZleUbZFtol5kAsJ4ydOQH3je9uzby/WrlunF1PM0wn5X57Ldq46/lxJsocMWcb+Fp8QX7kMpxMdFYUT0VHw9vFB02Z/7UyWiIiIiOhcMTBORERElz3LevXQpHGoBsAnTZgIW2sb7N+/H5kZmejRrTsefOghzJkzB+Ovuw59evdB1y5dNFO7qtDGjTUoLdnXcfHxWLt23V9KTUjgt2OnThg6ZCh6dO2OAQMGoEfPnn8J6LZp0xp9rrgCPbv3QK9uPdG1c2fU9/I0vVpB3iMZ0s899xwefHC6ZnZLADImJgb1jI+bNHEivvzfV5h2772YMP46DOjbTz/jTMFjd3d3TJh0vQaaRf/+AzQIWp0E0O+bNg0//fQTRo4YDmdnZxw4cACbNm3SOtxt27TBzJkv4O233kLDAH/Tu85Mlkc6X+zdo5exXbvCw8NYT9MyNm3aVPtKefGlF3HlwCt12Q4fPoxdu3YhJzsbfXpdgfffe0/7TzF3kvpvSaBW1iPqRDSKiosqA63unm56gaG2kOUqk+By2am13qWczvkGms+G1Lp3N7a1lJf5Yf4ChIVVdHqanFxR41vuOuhs7K99r+gDJ2N7yYWSp59+Glu2bkWR6c4Fuatiy5YteOapp7F58+bKOxrOlZRradSokf4fbXxff5fRL+V4jh47pmVbWrVqZRpLRERERHT+LIwT75o78yYiIiK6WIxTmvyCAiQmJCApOVmDdxJ4lsxtqcHt6eGh5VGio6JhbW2FhqaAnJkEKZOTkhERcVyDk1I7vE2bNpVlUswk01oCr4UFhXB0coR/QIDWYq4asJaAutQhl3rdMM60PDwr+g2pTk7DZEg2llcC4jK9zE+CxLLcPr6+GvSXzOcCY31kXhLIPl1wXJZZgpRSIkWy4ufPn4+uXbtqBvnpSBAyNjYG6ekZWpNdnkvgWi4M+Pr6wNPT64xB+Kpk+WWbxMXGwdbOFgENG8KuWjkQ8zaTCxXZOdn6HplG1tHP318z5s9mXmdDPltKuMidArI+sm0lcNu9azc8+dSTuHrYsL9k0V8K+fkFWPTzz3ji8cd0X5H1l4s1EnBu2bLleW2PBGPff/XVV/Hee++hV69eeheCuSNNs40bNuDRRx/Fxk2bdB8PCQk1prHVCyYvvPACWrRoofvg4UOH8fnnn+Hbud8iz9j3QoJDdN+Q/Un2FSlrkpKchBtvvBEPPfywdjgrZBmks/iPPvoIAwcOxLJly3T+Z1qfpX/8gccffxx2xrrPnTtX65ufbtrp06fjww8/xLRp07TDz9rwHRIRERHR5c3yOUlTIiIiIrrcWVhoGQh3Dw80bNhQa1bL/1KqQeolC+3gur6XBgSrB7zrGe+X+sWSwSrBOcngPl3wTQKN8n5vH2/N0pbPqR7Ik/dJEFHKiMh0Esw+HXPAUALDknUt8w0KCtJ5u7i4aFBcXpfPksClBHpPFzQUUif8lVde0YzswUOGYMyYMbp8ZyLLLa9LwD4wMFC3l6y7LLODg+MZ51OdTCcBXVlP2dbVLxII8zaTcjWyjuZ5SWD879bpfMhnyQUGyYiXgLw5m7lePUv07dcPrVtXlL651EpLy7Br924sNJbTfGeC7J8SaJYg8/ksY0lJKSIjIhF7IgZtWrfB1cOuruynxky+I9nucsEmOjIax44f04tInm4e6N6zR2VHmrK/NWnaxNgXG6CosAixMbE4HHYYx48f1+m9PDwxcdIk7SBe9llZdiG1y8MOhyElKRnt27XHsOHDdPwZ18cYHxkRgQMHD+odBqf7fiIjo/RCT7bx2VIuqEuXU8sSERERERGdD2aMExEREV3mJIN3+fIVuPHGydqR4VdffaV1ymtT6ZCLSTpe7dOnj3YmaiYXAd555x1cf/31pjGXVkFBIf5nfE9T7rlbg9dySi4XGNauXYsOHTqcV2C8uLgEEcePa8a8BL+7dO3yl8C4kMB2+JFwLaEjGfx6oae+N1q2aqkXRqpeEJILLjKtbMvMrEy9M8HdzR31jc9v276dTl+VXJQ4duwYYk7EaIBflkHmf6b1kQsX0jnuE088gSuvvFKzxmX+Vaef/8N8LTkUEhqiF3/kTg4iIiIion+LgXEiIiKiy5AEwCUjWjJ0JcD59dffYMWK5ejVuzc+mzPnjCUp6gIpPSOdfEoHqUJOd4MCA/H6rFm45pprdNylJh27fvXV17jzzjsqA+NS+mfbtm1o3ry5aaq6YePGjVoqRTp9Xbz4V4SGhlTe0VFUVIxHHn4YP85fgCnT7tUyMObsdCIiIiKif4PF+YiIiIguQ1Iy5bPPPsPLL7+Ml156EUuW/I7WrVth+gMPaKebdTUoLqQ8i9RXl7Ihkn0sQWdfH1+4ubqZprj0JBju5uaqwXBZPvNQvcRPXRAaGoqhV1+tdegXLlyonYHKthAHDh7A1m1bEdo4FL179WJQnIiIiIguGAbGiYiIiC5DiQmJWLN6NVYbQ0lJGYYNG477pk3DkCFDtCRHXSY120ePGYsWzVtoIFWCrJ5ennBydjJNcelJwF7KncggyycXMupq6Rupqd+/Xz/93ubP/0Ez/qXuupRZmf/D90iIT8BVgwahfYcOpncQEREREf17DIwTERERXYZatW6F2++4A4/OmIHXZ72OL7/8EjfdfAszag2yDaQTx5DgYNjY2Og4F9eK7OzaRMqpSM1uCZLLxQzJcDcvb13TvEUL3HX33bC0tNIa6dKRaFZ2DsLCjqB1q9bo17+/dkJLRERERHShsMY4ERER0WVITuGqnsaZS6fU5RIqZnl5eVi6dCnWr12HufPmIjU1DZMnT8aMGTM0YF5bzJ8/H5MmTdJgeEBAAFJSUrBlyxY0a9bMNEXdIfuyrP+ePXvRu3cv2NnZG/sysH79Bjg6OaFJk8ZwcXY2TU1ERERE9O8xY5yIiIjoMiQBcMk0Ng/ynEHxClKn293NXTvfLC4u0XEuLq61rsSMi4uLlhER5eXlGhyuizXGhey7UlZmwID++j3Jrizjevbsgfbt2sLZqfaUwSEiIiKi/wYGxomIiIjoP6WsrBwJiYnYsHGDZo9LgDU6OgqpKSmmKWoHqaMtgXApqRIbG6vB8bp8cUMu8EinpLINzNtBnss2qsvbhYiIiIhqBgPjRERERPSfUlxchIMH98PVzU0Dq/Xr18eVVw1C4yZNTFPUDh7uHvD19tGa6JI5LoFhIiIiIiK6OHj2TURERET/KZJd7OjohJCgis4327Rpg/bt2mmgvDaRoL2tja0GxG1tbXUcu/8hIiIiIro4GBinGlNaWoq4uDisWLES27ZtQ2FhoekVIiIiopojwfAWLVuioLBAy5W4uboaY0+ipKSi3nhtUVBQgKSUZA2GSzDf29tbg+VERERERFTzGBinGpOTk4M/ly3DrFmzsNz4Xxp/RERERBdDPYt6yM3L07rd2VnZyM3N1SB5bSK1syWIL8soj0ODQ/Q5ERERERHVPAbGqcZIhvjhw4exadNGxMXFagY5ERER0cUgQfCMjAz9XzrgzMrKRklxsenVS89cMsXT3RNubm6aMV5ujGMpFSIiIiKii4OBcaox0sCTW5bllmArK2vtWIqIiIiopsm5h7+/H4qLizUbW2t429jUus4tbWxt4OvfQDsHlYB4SmpKrctqJyIiIiL6r7IwTsIvm7QUuQU2JTkZ+fkFSM9IR1FREZwcHVHf2xve3j5wdnYyTXlupORHbEys8X828vLztTHlaHyuBnIrt85Jfd6kaVO91dVMNl9qaioSEhKQlZWlWdFOTk7w9PQ0GmT+lR0pVZVtzC8pMREWxr9GgY30lllZBlm3tPR0XU+Zv7xf1s3mHwLK6cZ7ZBnS0tJ0m8h7XVxcEBAQoI+ry8nJRXJSEsrKy+Dj46PTSkbV0aNHNaNKllk6qZLxQtZJ5pGSkoLMzExtZDo4OMDB3gEBDQPg6up6SkNTll+WJyoqCu+8/TZWrV6NESNG4O677oKbm7tuM5mvV32vU7alkG0o30VuXq7xPefrNpfP9/fzg4exTU9HPi8mJkbfK7U5ZZCyLTGxsbpNpYEp2zI4OPgv8yMiIqL/Hvntl35Opk6dilWrVqFpk6Z448030bdfX1jWouD4oUOH8Oqrr2LdunV6LuVnnO98//33eg5HREREREQ1q9YHxmXxpCRHXGwcNm/ZjDWrVyPmRAx27NyJjMwMNGrYCP369cOIkSNw1VVXaRD1bEmjKTExEStXrsT8739AVHQUEpOSYGVppYFYua1Vto4sQ7kxbX3v+vjyq//B2dlZ3y8B4hMnTuCXn3/Gz8YQduSIBnMbNWqEnj26Y/TYcejerSs8PDxOCchu3rIFc2Z/Cmsrazz86AzY2dpglbEMq1evwtZt23Hs2DGtMTlq9GiMu+5atG/X7i/Z1rJMsvyxsbH49bffsG7NWuw0tklKWgr8G/ihVavWGD9hvG4bLy+vUwLXO3fuwlf/+58GkiffeCNat26FH374Ae+99x6io6MRGhqqz1u2bKnB8PDwcGzauNFotK3Fnr37NADfsGFDBAcGYey4azB8+HBtwJk7i9q5Yye+nfstjh0Nx779B5BkbNMGxvaU5bI2tm1JaQluuvlmXDd+vPF9VQTfzdtytfH9/jh/AY5HRiD6RDRcXVzRtk1rjBw5CoOHDEFQUBDs7e31PWayHV588UWsX7sO10+erPvCrl27MHv2bKxds0Zfn2Y0jB97/HEN6BMREdF/m2SJy0X91197DV98+aVe9H991hsYO3YM7O3sTFNdenLec9uttxrnPCc0UWLggIGY89kcNGjQwDQFERERERHVFMvnDKbHtZI0bCQw+9iMR/HxJx/j+PHjSM/IhJ29nQbBJTN4566d2LdvH9w9PNCubVt9n5Tx+DvyuRKwffe99zBz5kwkJiVqI6Rbl644afyLiIhERGQEYuNikZmViZy8XM2wnjx5sjauJDAtgWjJ8vn222+RkpqqWdASFJds6f0HDmDhwp80e7xFi5anBGT37tqNr7/+BtEx0ZpZvuSPJXjnnXd0nrJcMm1ySopmD2VlZqFD+w7w9Pr/bGmZtwyHw8Lw2GOPaZBbgshyG66vj6+xfTIQfvQoli5dinqWlmjfvr0us3mbHDt2FD/+9BMOHTyg2dVhxuc888wz+rpcDOjcsTOuvvpqvSDxyiuv4IUXXsD6DRv0c+VzZLuXlJbqd/Hnn3/C2trGWMcWlUHuY0ePYdFPC7F9x47K2p4S+JZs9PTMDKSmpaJlq5bo2LGjrqtkpB88eBAvPP8c3nvvfSQkJmog383VTYPtsXFx+H3JEuzffwAhIcEIDAz8y/f78ccfY9ny5WgcGqrZ919+8QXWr1+vyyvZVxJUl33DHLwnIiKi/zY5p/ppwY+alS3nAxMnTECzZs3+8RzxYpLg/c7tO/Q8TgLj9g72uPbaa88p0YOIiIiIiM5Pra8xLo0XybZOy0zX4KvE8X9auBDbtm3H9h3b8eLMmWjRrLkGd//35ZcalJag8T+RIO2aNWvw6ezZWtLk6aefwY8//oRPPp2tAeVXX3kVwUHB8PH2xv3334e1a9car/+ogW75/NSUVA0mLzSWpVmzpnj//fc0ELts2TLN/rl36lSd7uWXX8aRI2HaOKvK0rKeMf4IHnvsUfxkfO6ECePx+eef6Xx++eUX9O7dW9d9x/btWLF8ueldFeRzJfj7rDH/FStWoEloY7z+2utY8sdSzX5fu3YdHnzwQc1e//ijj3Dw0GGt9X0Ko00oFxX+WPKHBr+7d++O//3vf/j119/w/Isz0cDfTzPjCwoL4enhiTtvvxNffPEFNmzYoNnYsq06deqkAewffvgehw8fqtzubdq1xWuzZuk2lExyaej179MPH374oV5EmDt3LiZOnKilWuQ9UnJlzpw5WGzM297BATfdOBm//fYbdu/ejXXr1uPhhx7W72L9+nV6ASE+PkHnU51sr7Vr1uKNWW/onQAzX3gBy1esxHfzvsfVQ4f+JeueiIiI/pvknMA8CDnfqPq8tvD19UX3nj31HEUu/DcOCeX5ChERERHRRVLrM8aF1Mnu3KUrbrvtVnTt2hUNAwI0aOvo4IgWLVtogHf5iuXakAgKDkbLFi1OKR1yOlIT/Ouv/qdZyH2v6IMHH3qwsia4nZ0dGjdurCVDlv65VAO7d955p2ZTy+dKkPvNN97A70t+h5+vnwahR48Zo8tkzqiWzOUjh8I061wy2aUsibkES/iRcK13KZnR0iB6/rnnjXW7Dc2bN9eyK5LFLescERGhWeE+xjRSo9vcmJM64j/Mn4958+ZpBvSzxld4zdhr4ObuBjvT/CVzXYLhO3bsQFZ6Jnpf0bty/lIuRTLAJcteyqn07NUTH330EVq3bm0sjw88jWWQdZZ1admqNcZdOw5XXz0UTZo00W0gWd71vbzQuk1b/Ll0qdb3lprkso5S5kQ6t5L64Xa2dti8YRMSk5PQu1cvTLr+el1HWTZZT1l2ySaXrHMphSLr/MD06bhv2n36PZprpUvGe2FRoa6LlFuRWvBDhw7VdZFtIo1duWghJWji4+MR0NBfP2P8hAm6fb08PeHk5KjfXW1rEBMREVHNkPOgnTt3YM/evXrOMXr0aC0XV5skJydj7bp1mnQg56H3TJmi51MMjhMRERER1bzLImNcgq1t27bRkhiSsS2NBRkvgwRPW7dqhWZNmmmGdMyJ6MrM5b9TKJ0zRsfoZ3Xq0qUy6G3m4uqCxk0a67yl0RIZGVEZhJVg8rIVy7X+9sRJE3H1sGGn1L2WDHcpqzJp8vUaRN69Y6eWFKlKgusSAJ84cQJGjxmtZVBsbe10GWSZJNAsdbwlcJxpzC8rO9v0zorA+IcffKBB4LFjr9GLBQ6ODqhnCvrKZ8h75VZcWV65aCAZ5lXJushnBwUH4f7779dgtVwQkIajDPK6fE5oSDCaN2um20cC5eZtJNO2M76TkJAQHXckPFzLvwhdB+MzJLhu/ixLK0t9bg64m8dHRkVh48aNmsEvAX25zdnb2HbyuvmznF2ccc0112DUqFG67SVALtn21b9neS4ldkaPHoORxrSyr1gZ34WVMW/5TmR+REREVDfI776cA8jPfwMfX02oqG3knC4lKUmD+JK04R/QkEFxIiIiIqKLpNYHxoU0bCTQWpUEhaUTyZ8XLdJyIsUlxdq4SE5IMk3x9yQwXVxcosHUosKCv5Q6EfJ5ko1uaczb2tpWx0kwWbLMJVgugdy27dpq0Lg6CRxLbXFp3EjwVwK/Vcl8bWysNfNasqKrk4sA7u7u+liC+Bnp6fpYllOCw9J4ktrcAwb0R3BwsL5WlQSWJdgtcnJz9KJBVSeNzzEH4Hv06HHGoLEElM3BcCGfc/jwYS1x8s3XX2kZFFmO5MREZGdnmaY6e/Gxsdi/d78Gsbt06qzrfbplkQwvWVbZbhLkl3Iq1QPjsm2aNW2inZWebpsSERFR3SHnBVL6rrSkDFnGOUpRcZHpldrDxtYWzsY5S8V5aTEv5BMRERERXUSXRWDcTEqALPzpJ0yZMgW33nor7rtvGp548kl89/08xCfEVwS5i4r/EjA9Hall3Sg4UBshe/bs+UsN7tzcXA2+S9BXgvK+DXy1oSKfHRUdpe+ToPnXX3+NRx99FDNmzDhleOSRR/Duu+8gMzNTp68emDY3euTzTre85mxrIcF48/LJ8sTFxelj+Yz58+drB5zV5y/DSy+9hAJT0F8yzuW9ZjJPaXxJeRXJav+7Rpgs+7q16/Ds08/ihhtu0O0v5WNeeeVVLaMin1VSUoyyKp9/ttLS07UTUlmG0MahGoQ/3bJIEN/Ly0sD6PLdhIeH/WW7yXNZn6rZ+0RERFQ3yXlBQUEhyk+Wa0fe2VXuvqstykpLjGXMrzzHzMrK1PM+IiIiIiKqeZdFYFyCwqtWr9aON1944QXtwDE3Nw9t27bF+PHjtcxGYGAjbVBIw+LvgrxmUrpkyJAhGmjdu28f5s39TrPAhXZK+ccfWL58uQZjr7jiCjjY2+vnSpA5MSFel6mwsBC7duzCqhWrjGHlKcPqlauwa+cuNPQPQOuWLbXky/mquk4S3I6NjdNGk4zbs3sPVi4/dd7mYduWbQgJDEHTxk00yF41kGz+vKrjTkfKlkgnmk89/RQ+/fRTHAk7Ah8fX/Tr1w+333GH1mI3B/DNn3kuJCtfsumlvIqP6eLDmcg0EvSWixJpp+lkVd77T+tDREREdYNcbHf3cNdEALnALv/XNhYW9YzltNTzSyHnVOdzPkVEREREROeu1gfGJWi6Zs0avP7665qd7dugAaZPn46ZM1/A888/j2effRa33nqL1ro+WX72QVEJiPft2xfXXXedliZ56+23jc+ciVmzZlX+f/ToUYwYPlyzpM2ksSI1KqWxJVnOo0aNxLRpU41h2l+G+4xBsrmfevppBAUFmT7h36mYr2NlEHi4sXxnmv/999+Hx594XDPaQ4KD9b3nIizsMD6dPRsffPABUlPTcMONk/XChGz354zhqaee0hIn0tA834C0vZ09XKRTUKMNWM9oHP4duRAh2evSaHR0cmbDkYiIiM6KlL+TMne1jZ29vXGOGIxGDRtpkNzR0emcz9eIiIiIiOj81Poz79S0NPzwww9YvWoVWrZogeeefVYDs/3799fOK4Vkb1dk2pxboFTKlUgdbmksNWzUEOvWrcOHH36g5UmsrKxx442Tceedd6JVq1amd1TU3G7XvoMGxSX76Iq+fXDjzTfhpltuPu0gr40eM0Yz1C8EmWfz5s200STB6I6dOmrA+nTz1sGYv7wutbvPNVNqwYIFWPzrYnh4emDq1Kl46eWXcc24a9CsWVM4OTpotre5PMsZg9SmePmZXnd1cYGvjy/ycnNx7NjRM04n329GRqZeKJEyOIFBQQyMExER0RnJuUOmce5QXlau5w9SVq62lSmRcn3+xjlal86dtc8aOc8jIiIiIqKLo9YHxrOzsrQkiZTQGDbsajRr3tz0yv+Thk9JcQksLM4+a1mC6fv378enc+agffv2mpH+6quvahb0M888gw8+/AAvv/IquvfoYXpHBQlIS/kQCaZLpvmWLVu1I8yLRYLbXl6e8PTwhJWlFVatWo3IyEjTqxeOBLylc9OkpGR06dIFAwcOgI31qR2gSmDanNV0uoxxGSf/tGGaKQ3TvzZGJejeKKiRsS2zsWPHTqSk/LVEipAyN9FRUTpPL09PvUjCwDgRERH9nYLCihrjGRkZxvlaYmXH67VJuSyPcTrl4uJsnDyV17rlIyIiIiL6r6r1gXEpnXHs2LGKjPB6luYE5EqSCXQs/Bji4xPOKVAqgdrNm7cgPT0d3bp1Q+vWrTF06FDcfvsduPHGG9GxQwfY2dqapv5/Mg9PTw8NFktw/OdFi/DH70uQk5NjmuL/SfBdGmJVO728ECS7aMSw4UYDygWLF/+C9evXn7ZDKcmKkvnLtjvXRpZkg5uzqiSgrdu/CilrcuTIEV1vee10216C5lbWVrodtu/YgZzcXNMr/08yv3v3vkIz8OXzJFtfvpuqZB9YsWI51q5do+vcsWNHBAYGMjBOREREpyXnPXIek5aW9v/nYSfLdVztCjxb6HnO4UNhmmghHaxf6PNGIiIiIiI6vVofGHd3d0ffK/pocPX3335D+JEjSE1NRUpKCiKjovDlF1/gzTffNB5HStTa9K5/Jg2jvPw8lBQXY8e27Th+/DiSkpKQlpqG9LT0yiEjPR25ubmVQWIht7lKaZFOnToh+kQ0Ppn9CRb+9CMSExM10C6NsPj4eGzbvgNz5szRx9UDy/+G1KOc9sB9aNK0iQa+3337XXw/73vExMTocwksS4b1vn378Pnnn5/X/CVQLUFoqee93dg+v//2u25zWTdptG3cuAl33XUX9u/bX7ltqjc07eztEBgcqONPnDiB3Xv2IjEhUT9Hsu2l4ScXFwYOHKi12mXZX3rpRfz555+6LjIv2aa///47Zn86BwcPHUKHDh0xceIk7YizKplH1YGIiIjqNums27+BX2V5korzpPRad2Hd1sYGQY0CtbyfnN/wwj8RERER0cVR6wPjnp6euHLwIG0ohIeH4+qrr8ZNN9yICeMn4MqBA/Hiyy+hnqUlOnXoeE6db0rAvXfv3tr4WLFqpQZnBw0ahFtvvRVTp9yLe6dMwZS778EDD0zHJ598jIjIKM2iFvKe5s2b4+577tHs5QMHD2LqtPt0eaZNmYo7b7sDI0aMwJjRo/DWW29hy5YtKCgo0PdeCDJ/qa/+5JNPoW3btgg/Fo6HHn4Io0aOwqOPzMAzTz+Nm2+8WdfnnXffxfwFC06bUf53ZB6DBl2FVi1bIiYuFm+9/RbGXzced9x+B0aOHInJk29AsbE9evXspTUxze+pSpZx7NhxcHR01Mbp7bfdiltvuRXXjL0Gr732mpaAkfdIaZrJk29E06ZNdTvdY2zXUaNG4U5jXv369sNtt92GXTt3om2bNrj5psno2rWLvq/q/CQ7vWJcxf9ERERUt0kZPnP3M3Ju8P7772PRokUVI2oZSTKQcnkNGjTQpAQiIiIiIqp5tT4wLkHXa64Zq9nJ0sCR0h3rN23A5i2btbOiN2bNwhdffoEBVw40BUbPLigqHW9KneqRI4YbDZF6mhV+9OhRrFmzBkv+/AN/LF2KP5Ytxc+//IyXX34F46+7FvPmzUNRcbHOQxovw66+Gh988AFuuOEG2NnZ4djx4/j9jyVYvmqFfpaPjw8efvgRXHHFFRWNsyokkGsO5p6JeT7mOt5m5vFXXXUlvv/+e9w39T54uHvg0OFDWPDTj/h27lxs3b4VDRs2xO23345RI0fC2dnZ9O4K8pnyGX83/2uuGYf7778fbdq00Szvbdu3Yf2G9fqesWPG4H9ffYUhw4bqZ7t7esHR0cn0zgqyjTt16qgBfJlGbhXesHEDtu/YjoiIiMryM5LJ1adPH92+90yZotntYWFhesEiKipKt60Ex6Ue/LhrrzttgzHAPwBOxvzdPTzgVG1diYiIqG6RcxW5gyw2LlYvzstzKQMnnXBWvQvwUpPTsMysLGzdsU3vjpRyKnJHHe9+IyIiIiKqeRbGiXetP/OWBowEZmNjY7UOtZ29Axr4+sK7vpcGn+0dHJCalobkxCR4eLjDPyDgbwO+Qj7v66+/xkcffoju3bvhjjvv0g6ZCouKtJFSkF+AEyeiNdt73bp1WiKlXbt2WL58uTEPD9OnVNQRl7IlUvZDSrFIyRAJgjdp0gROTk66fFIuRILQZlJGRMqbyHrVr19fM6urL68Eh2V95XOlpIm/v78GiKuTry8lOQUpqSm6DaT0iIwLDgrSiwqyrJIdXzUILhcBZDr5XzLyJYB+JrKsshyS3S2lTnx8G6BRwwBjnVyM5fbRxlyi0YhzNK2rfbVllPWQ0i7y/iRjO0kZHL8GDRAcHAxf4zuUbHIz2R7yujQKZV5SskW2j3yuDPL4dEFxWV/ZnrKtJAAv00opGCIiIqq75BxG7uDbtm2bBpvlPOO5557HIzMegUO1hIVLRfrIWTB/Pn768UcUFBVi8o036l1zkvzBzHEiIiIiopp1WQTGq5JMH0tLK9jZ/bVjzHOxceNG3HjTTXB2csaXX36B9u3bGw2mcpSXSxaRhfG4VOcVHR2tmcxSx1wCuatXr0HjxqGnbaxIg0veI69disCsfJGFppIt1TPU/y25ACClZOzs7I31+/8g/7koKSk1PqNQt031LPjqJKAuZVWkhA4bhkRERHSupIzc8OHDTwmMP/PMs3hkxgw4OdaOC+hxcfH47ddfsXnTRuw/eBADBw7A9OkP6kX+fzpXIiIiIiKif+eyO+OWDON/GxSXkh5S6uREdDTc3d3QokULzaaWgK+U/7CxsdbAspeXl77WrFkzfZ9cQ3B0cjxjQ0WysiW7+1JlK0s+uCz3hQ6KCyl3Ihnw5xsUF9bWVvoZZ9PQk2nku2ZQnIiIiM6VnLNJCRWf+t56DlNb80DknFPORW1sbSqWuahIkwIYFCciIiIiqnl18qxbguAySPaQlO04ePCQ6ZW/kteWLl2qweb+AwZoWRI2VoiIiIhqL7nzTBIh5O6zqkFxSa6wtbE2Pbv0JAHAzqGiDJ2cm8qySuKGucN3IiIiIiKqOXUywiu1ukNDQ9HYGKRzx7feegs/LvgRO3fuxL79+7HfGDZu2Igvv/wSr7/+GlatWqUdaE6bOlWzeIiIiIjo0pLSKH9HAs2Ozqfe6Sd391Xt96U2KC0p035fJJgvpKP38lqa4U5ERERE9F9i+ZzB9LjOkIaSBMcdHRyRnJKM9evXYfv2HThw8AA2bd6M9evWYfHixVj000LtpLL/gP644/bbMXDgQFgyW5yIiIjokpCM6vyCAmzauBE7duxATk6Olmmr3kG5TJeTk4uD+/dr0kNhYaGO79+/P3r06HFOwXEJwMtdhjURUJfM8KPhR7Ft6zZZaPj5NcDVVw+Du5ubnq8SEREREVHNqbNRXm9vb9x1912YOfNFTJw4Cf4B/khKSkJkZCROnIhBaVkpevXqhaeffgqzZs3CsOHDTe8kIiIiokuhtLQMu3buwmOPPYb77rsP77z9tgaWq9N63SXFyM7K0bv9zEFtCTafS8BZOlVPTk7W/2uCLKdFPQs4OznBr4Ef3NzdNcjPoDgRERERUc2r0+nP0lAaNOgqzJkzB8uXL8cvi3/Fwp8WYsmSJVi7di3m/fA9br3tNvj7+5veQURERESXimRub9myCZGREZrQsGfPXhw+dEhLkVQltbsb+PoiIDAADRs2hJ2pFJ4EomX4JzKNubN2SZqQDjxrgvkuRmdnZ82EDwoOrbF5ERERERHRqVgXxCCNH6k/6eNdHwEB/nBzc2UHm0RERES1jI2NDcaOHYfQ0CYaTD4RcwKfffEZVq9eVVmj20zO5bx9fDXQbA6Fn03GeJnxOZmZmdi5cxcys7LRuHFjODo6ml69sCRJw9bWHscjIrBx8yYkJyehtKzsrIL3RERERET07zD6azA3kqoPRERERFR71KtngcDARvjiyy/x+OOPYdTIUSguKsH2HTuRkZl1SkBZzuV8vH00e9x4QcdJkPxMtcLlvSUlJYiNjcPcud8i4vgxWFtZapC8pgLVxcXFSE5ORGx8nK6bp4cnSoxxDIwTEREREdU8BsaJiIiI6LIgwW4rS0s0aRyK22+/HTfedBM6d+qMiKPHsGzpH1pSpXpwXJMdTAkPZypTIu+RMi2Lfv4ZDz04HVu3bNXOOxMSErWDz5pKmJAMeGcXVw3W+/n5ISMjXZexpuZHRERERET/j4FxIiIiIrp8WFhoINnT0wvZWRmIjYvBhk0b8cknn2DZn39WBpUl2J2algovT09069INbm5uWje8rKxMX69KMsUlKL7iz+Xw9w9AsxYtcDQ8HJEREXBxcamxQLVks3u6u8Pbqz4SExMRHx+HcmP5GBgnIiIiIqp5DIwTERER0WVHgsehjZto/fCYmBjs2LkTL7/8Ml566SUtUSI1xgMbNUKbtu3Qo1cPNGnSBK6uf+1HRrK0v/ziC6xYthye9b3QKCgQ+/fvh5uHO4ZcPRQBAQGmKWuGvYM9Gvj5oqioSLPH652h1AsREREREV1YDIwTERER0WVHAuMtWrRAxw4d4W7KBt+9Zw/mzp2L33//TbPKu3TpggkTxqNv375o2bwl6nvVrwyMSyB6z+49+GzOZzh48AAy0tKxdt1abNu0BV2N9103fjxatWwJe3t7nb4myLLIUFJcCh8fHxQXFv6lE1EiIiIiIqoZDIwTERER0WXJ0dER48Zdg5EjR8HW1lbHRUVF4aMPP8LmLVtga2ODZs2aoX27dmjatAlcXJx1Gsko37FjBz7+5GNsWL8Bx44fx4GDB5AYl4DmzZvhuuuu06B49ezymlBaUoqc7JyKLHfJFmcZFSIiIiKii4KBcSIiIiK6bLVq3Ro33nQjunXrpnXFJRN8w8aNeOutt7Bx0yYUFBTA08sLbu6u2tml1BjfsGEDPvtsDsLDjyAiMhI7duxEPStL3H33XbjjzjtqvHyKmWSHyzI7Ojpo55/Ozs6wvAjBeCIiIiIiYmBcZWdnIysrSzteIiIiIqLLS+fOnTFx4kR4e3vrc8m+/u3XX/H9998jKSlZxzVt1hyOTk5Yu3Yt3n//PaxYsQLlZeUIOxKGhg0b4v7778M9905BgPH4YnV+KUFxG1sbBDcOQddu3TQwzo43iYiIiIguDsvnDKbHdYpk5Ujv/9u2bcO6deuwd+9e7bjJ2toaTkajycrKyjTlf5c5qyo3N1frcMrtwmyMERER0eVGMsElqJyRno59+/frOY6c10jgOyQ0BEGBgajv7Y19+/bhtddex/r164z32CLsyBG0b98ejz3+OCaMnwAHBwfTJ14ckr2ebixzckoqmjZtCjdXNzRv3ryyLAwREREREdWcOhkYl8ZSfHw83n//A0ydOg2//rpYs4cWLFgAV6NB0qpVK21c/ddJQ2zjxo1G43ADSstK4degAYPjREREdFlyc3MzzuNcceDAASQkJMDK0gqNQ0KRX5Cvwe8Vy5fhxRdfxM6dOyuTA9q2bYtHH3sMY8eM0eSIi01KqWRmZiLeWF5XF1dkZWehtXEeamdnZ5qCiIiIiIhqSp0spSLZ4lu3bsXbb79lPDuJBg0aYOjgoejVqxc6dOwId3f3igkvU9LYk7Iw+fn5KCws1Oens379etx111166/Adt9+OvLw80ytERERElxe5+6179x546qmntVPOktISbNm+Fbb29sg1znGiok4gJztXp5UkgDZVguLy3ktBEhI8PT21o0+Lehbw9fGtE3ctEhERERHVBnUyMC4lU9asXasBch8fH/z555+Y8/kcLFq0CEOHDL7sb18tLCzS24g///wLLF36pz4/HWkU1qtSQkW2BxEREdHlSM5lbG1t0K5tG1wzdowGmKVUSVJiArZv346Vq1bpHYOSGS41yR+dMQOjRo7UoPilultO5isJGc2aNdPMcU9Pj0sWpCciIiIiqmvqZGA8NSUV+/fuh5OjI3r16IlGjRrprbcySFD8UjWOLhSpGS510994YxZ+//VXFBUVml45Vc+ePfHmm2/iyaeeMqZ9Ay4uLqZXiIiIiC4/cg7n7eODa6+boOd0Uqrk119/wwcffIDDhw/B2cUZ999/P7777jsMGzbskp/3ybwlgC+lU7w8PfXx5X4eSkRERER0uaiTgXHJHiouKtSOmgIDG/3nMnMKCgs0K15qiOfl5mmj8HTk1t0hgwfjnrvvRv/+/TWDio0xIiIiupxJsFsywh9++BHtUD0nJwcHDx7U0nLDhg3H2LHXIDg4+KJ3tHk6ct4lg42xzC1btoJX/fp6Jx8REREREdW8OnnmLdk4Wj6kngVs7Ww1QP5fIusmwXD5X4YzdSYlr0kNzvpGI8ze3p5BcSIiIrrsyfmMu7sbrr56qGZiS0A8sGEgxo4Zi9tuuxVt27YxTVl7mPuHkY7QWWOciIiIiOjisDBOxE/fM+N/kNSVPHLkCFavWoXZs2ejsKgQffr0xaArr4KNjS2at2yOTp06ISMjQ2tRpqemorXReJKOnKqSTSbD77/9jqjISLRo2QIdjfd5eHjo6xKUTk5Oxh+/L4GDkwOGDBmqZVoOHTqE/fv26/9p6WlawqVDhw4YOHBgZcbQmcTFxWLlypUIDz+KtLQ0eHl5wae+N3r3uQItW7bU4H5SUhLCDodh3769WLhoka5Dp46dMHr0aDjY2+tytW3fzmgQtoWzs7Nuj82bNyMrMwtNmzVFjx49zpg9f+zYUaxdswZHjx1HVlaW1mZv4OOLvv37oUmTJqd9n3R0tXfPHoSHHdHt2L59e83W37ZtG3bt2omoqGh93rp1a1x11SCEhASb3klERER0/qTfFDlnGjfuGpSXluGBB6ajT98+CAwK1KSA2kaWV84/5W4+SVwgIiIiIqKaZ/mcwfT4P2/P7t2Y89lnWLhoIRKTkiCXBCSYvG3rNmzYsAGOTs5o374dDh06iE9nz8bvS5bAxdUVV1xxhekTKpgD4y+//BK+m/ud8T4ntO/YHq4urvp6qdEAO378GJ588kkcPXoUvXr3xrq1a/Hxxx/jhx9+wG+//YbNWzZr0FgCztI5Zrt27U4bXM7Ozsby5cvx/vvvG+/9Hr///ju2bt2qAe3du3bjcFgYbG3tEBAQgIMHDuDDDz7Aop8XGZ97HEVFRRrE3rF9O9avX68djrq5uemtuq6uLrpsX3zxBX5d/CusLK3Q+4ref8lSSktLx+LFv+Cjjz7CfGPZZZtIwF2WYc/uPThqLL+tnZ1mOFXvtDQ1NRXffvutMczV25WdnV3w1ddfY86cOVi4cBFWr16tQXK5vTktPR1+fn7w9vZm5joRERH9K+a8D+nMsl+/fhg1ZowGxWvrXYLmu/h4DkREREREdPHUqcB4amoKYmNjtdd/CRhLo8nXxxet27SGn78/unXvhrZt2uDAgQMaLD52/LhmMw8ePNj0Caf66JOPsWfvXrQx3iONLsnCFpIFfeJEDD744H0NDhcWFWHBggUahJfsaplPo0YNkZySgr3G+yMiIjB8xAi4GO+vmiVUWFiIP/9chldeeRVLlvwOdzcPDdL36dNHs77LcRJbt2xBSEgounXriuycXERGRur7pLa41Br39fFByzatNHDu28BXa25KhrnU3JQ65H8sWYJ9+/YjJCgYQ4YOgVWVsit5eXn46aef8Oprr2LdmnVo2LARhgwZopnlgUFBuh3XrFmD6OhoBAYG6jyqlm2RzPbFv/yM9Rs2GMuTqwHwP5b8AXsHe3Tt2lUzyKWBGhYWhvDwcL3dua+xbrIN2DAkIiKi8yXnEk5OjujYsSPaGOdMcoGe5xZERERERFRVnQqMS7a0NJCkDIhkPRcXF2PEsOF48qknMXz4cH1Npjl44CA2bdqkt7RKAHfQoEGmTzjVd999h+PHj+s0Eqw2B8bLy08iITEBc+fO1eCxzEuC51OmTME999yD8ePHo0uXLnrb7K5du7SmZKtWrdC0aZNTAsvyvnfeeVuzvbt27oKp06Ziyr334oYbbtDlbdy4cUUHmkMGa8Dd08sLXbp2Q+PQEBw+FIaUlGT069MPzz73LEaOHImhQ4dqZrrU3ZTsdCmlsnbtWsTFxaFN6zYYevXQUzLG5bVZs2Zp6Ze+ffpi+vTpeODB6VqaRUrQ+Pr6IDYmFjt37kSGsZ5NmzbV4Li54SkXHyRTXgLvkVFRyMvPx5hRYzDtvmm4/fbbdXkkQ1wuVkhJmlJjO8h6ScYUbyMmIiKiC0HOSxgUJyIiIiKi6upU9FGyhSQoHhwUDC8PT1hZWcKrvidCQkJ0cHd314bTSYsLU3ZdPksCvJJN/uyzz2LChAlaLkSCz02aNMW4cddqnXEJjG/asEFLqpjl5ORg4cKFmpEdGtoYd9xxB+64807NzBbyuRKMf+mll9C7d299bm9nB18fb/j6NsDJsjKUG9PJMsh7zOsoHW2ezW3EBQUF+P7777Fnzx60bNESdxrzvnb8tVqrXHh718f119+Au+++W4PhUuJlyZIlGgyvTpZBtu2D06fjqWeeQq9evTT4LRcSJDh+7bXX6jaQALlkj0vGPREREREREREREVFNqZNpuea6k2bVn1sY/y6UevUs8eBDD6N9hw6mMf/PztYWAX4B2ilmelqG/m924MB+7NmzV8uidOjYAWOvHWd65SxZ/P9aVF+/syGdlEp5E8lql9IvV/Q9tc66kID36DFjEBQUpIF56fRTAtvVSXa6XACQrHXphLQqCY5LYF1IQFxqmlfdDkREREREREREREQXGutVXEI2trao7+0lkWsNClcNYEuJlsTEeM2sDg0JgVu1gHJNOxIejvT0dK1FLmVefH19Ta+cSkrP9OjeAx4eHkhJTkFWZqbplbNn7nRUAu3mgYiIiIiIiIiIiKimMDB+CZmDwKXSWWdczCklRNJS0pCVmQ0Pdw/4evtc9GBxSlKSllORTHAZTjd/8/J7+3rDydER4UePIio62vTq2bvY60ZERERERERERER1GwPjl5jEhCVTvHrGeGJyEjIyM+Di6gxPLw/T2ItHsr/z8/JR39ML7m7uprGnZw6cS9kV1gcnIiIiIiIiIiKi2o6B8VrAnHldNXM6ODgIvj4+yM8rQG5OnmnsxRMUEqz1wDOzMpGbm2sae3rpqenILyiAl6cn3FzdTGOJiIiIiIiIiIiIaicGxk9DMrfN2dtnKvNxpvIiF4rU9Pbw9ER8QjwOHDxgGnt2zmb5/4mfnz+cnJ2QkZmJuPi403aIaZ6PvC7B86DgYPj7+5leJSIiIiIiIiIiIqqdGBg/DUdHJ9g5OKCoqAhpaWmmsf9Pgs2rVq5EQkKCacyF17x5Sw1OFxYW4uDhwzhw4OyD4zY21nBxc9GyJilpKZVB8nPRqlVLuLi4aHmUPbt3Y+/ePaZXThUWdgSHw8KQl5engfGAhg1NrxARERERERERERHVTgyMn4Z/QAC8vLw0sBweHo6dO3eYXgGKi4uxds0avPHGLBw/ftw09sILCgpE9+7d4Ovrg/379+Ojjz7C4cOHTa9WkCxuCdBv3LgRGRmZprGArZ0d6nvX16D28YgI5PxDKZTT8ff3x7Bhw9CoUSNs3rIFX3/1FSIjI02vVpALA++//54G7WV5e/XsoZnuRERERERERERERLUZA+OnERwUhDatWsPJyQmHDh3C22+9jQULFuD777/H22+/jRdmvoC8vAINnktJlfPJyK5K3l9uKktiZmNjg2HDrsaIESNQkJeP7777Dq+++io+//xz/Ln0T/y44Ee8//77eO655/DRBx/iaHi46Z2Am7s7WhnLL0F8CV7P/mQ2fvv1VyxauBDrN2w4bRZ8dZIVP2HCBIwZM0Yz57//YT7eMtZ90aJFWPbnn5g3b55ui6+//hqWxja4ftIkDBgwEI6OjqZP+P9SK6dbv6rONJ6IiIiIiIiIiIioJtTJwLhkWpeUlOggWeHVA7Pu7u4YMmQIBg4YiMKCAsz97jvcc889mDJlCp599lnk5ORi+oMPon+//rCystLM7KqfoYFgYx4SmJZBHp8u+Cvj5L2yDPa2tn+pB966dRvceuttGH/deO0I89tvv8Xtt9+OB415T7l3Ch555BFERUfD1nivBOjNPD08MHDgQHTr1g35+fl45ZWX8fBDD+vyv/feu4iIiNDpZLlk/rKM1ddBBAQE4PrrJ2HSpIk6j8/mzMG9U+7V+U+dOlUD85JZfvNNN2Py5JsQGBhoemcFWSZra5vK9au6jFVZWlrqIN/HmbYVERERERERERER0YVi+ZykHNcxWVlZiI6KgourC7p3746OHTtqgLsqCQpLWZCS4mLUs7TUTGgJAvfp0wfPPPMM+vbti+ysbK2t3bFzR3Tu3LkyW1oCuzk5OZptLnXCR44coZ8nmdVVSdA6OjoaFsb4Pr37oE/fPrCzszO9WkHe17FTR7i6ucHB3l7nUVZeptnqXbt2xQ033IC7p9yDFi1amN5Rke0twf1WrVpp+RPpxFPGuRmfIbXDu3bpCh8fH2RnZyM2JkaD3l06d0GPnj1gWW07yDp36NDBmF99lBvzleC2BLrl/T179sSNN92Eu+6+CwENA0zv+H8SbE/LyEBebi569+ptbLN+cHBwML36/2Q5JLNd5iVZ5xJgl0A5ERERERERERERUU2wOFkH03NPt8rVs7XN00g2dXJyMjIzMxESEgJ7e/u/TGtmHn+mTXqmeVR1us82TycB6dTUVCQlJWnQ3tPTszKAfKbPlvckJiYZ70uBn58fPDw89D0y/fnMPyMjQ4PY8lkSfDdngf/d+6r6N9MRERERERERERERXQh1MjB+LmTzmDeROVh7qYK25uWQ/892WS7k8p/P/ImIiIiI6NzJObfcgSmlBq2trc9YlvBiktKHcses/C93glbvX0jGy52zsswuLi7ab1JNtxckeUe2k7k8I9snRJc/+buWO+ylvzP5u5bjiTkpkIjoQrr0Z1e1nJxYyUmoDPL4Up5omed/Lstinv5CLL/5/bVhWxARERER/VdJkFkCQtu3b8eSJUv0jlHpzP5S27lzl5ZylJKNb731lmlsBbnTdsuWLVp6Ul5fuXJlZWJNTZHg2dGjR3UbHThwgP0VEf1HJMTH48knnkCnTp0wduxYxBvPiYhqAgPjRERERERUp0jwtOpQ20iQefPmzbjzzjtx33334dNPP9VyhpeaZISnp6cjJSUFubm5prEVZDvKcstrMkhgv6a37batW/Hss89gypR78fDDD2sfTxIcJ6LLm1z0kr7IpKxtWlqaPiciqgkMjBMRERERUZ2SnpGpGc2LF/+KqKgo09jaQ4K7UpJEli02NhZhhw8j13h+qZnvHjU/rsp8R2nV16tPc6FJcD4uLg6JiQmIiYlBQUFBrbzQQUTnpurxxHzHOhFRTWBgnIiIiIiI6pTdu3fhvffew7fffo0TJ6JNY2sPqc3drl173H///XjwwYdw4003aef7dKq2bdvilltu1e1zxx13onHjxqxDTERERGeNgXEiIiIion+QlZ2N7OwcZGVla4aqZPEeOnQYe/fuNZ7Ho6yM5RsuJ6lpaQgLC0PMiRMoLCw0ja09JLjbsGEA7r77bi2lMmDAAO18jk7l4+uL0WPG4NEZM3DDDdfDw8ODmaW1iNz5oMdNY4iPT6i4+8H4u9u3b78eO+U5EdVtcozIzslBTk6u1pI3HyfkGHEiJhYlpaWmKYlqhsVJ3mtGRERERISCwkLk5eYiIuI44uPikZ6egfyCfK2bLI02C+OfBHri4mJRajTU8vPzNSDu7u4OLy9P2Nraws7ODu5u7vD08EBAYCN4GK81atQI9vb2prlQbfD1119h5swX4eNdHy/MnIkBAwaaXqG/s2HDRjz22KPYuHEjHn30Ubz66qumV6A1xTds2IDrr79eOwtdtGgRRo4cWVlahf6b5HsvNY6DWVmZOHokXDtNlEBWRmaGvpafX4Dyk+V6TC0pKdZyN6WlUi/6JNzc3ODn56fHTbmo4e7qBmdXZ2O8O/z9/dGwYUPeAVBHnYiOxjPPPIP5CxagadOm+OWXXxAYGGh6lS43hcaxINn4XYiNidE+KDIyMpCbl6f9VkhgXM6tMjMzkZOTrdPLcUOOFy6urqjv5aXnUHInlZfxuFHDALgaxwh3dw8EBwcbxw9bfQ/R+WJgnIiIiIjqLOnYK0mGhAQci4hEdlYmDh48iLLSUg2UZxkNNScXF9jb2WkmqtR9jo6KQmlZKYoKihAXH68Bccnmlc7BJNDTrn07NG/aDPZOjkhNTUVwUBBcjcads5Mz6nvX18a9r28D4/NMC0EXhVzMOHrsmNbqnvfdXHw373t4G9/H5Mk3olPHTjhpNMydnJ3RtHkzpCanID4uDrZGg7tN27ZwdHQ0fcqppFEfGxunQRxnVxc0b9YMDg4Oul9ERUbCwWjMNzXGSeBP6oVHHo9AbHycfp6ri6sG/oKCg0574UQy2bdt3WYsdwlatmqN+vW9zhgklP34kLHfZhj7qwQXZH4+Pj5o3ry5Bh5PRzLzkhITEW/s+7KfymfLMgUZ+2uLli1hZfXXeZ1vYFy25dGjR2FjY4vgkGBdtjNldkdHReNIWBhcjb+lxk0a/20WuFyckm0fcyIGbh7u6Ny581+mlWmOhh81vqcYZGZl6Xfm6emJRsa2b2psH/nbpnMjFwvlO05KSsT+/QeQm5ePYuP7j4k+YexTCSgrP4nCkiLd/y0s5MLISYQfOWIcUwtQXFiMrJxs3b9tbWyMfdVej6FNjO+6VcvWCGjoj5zcXP0eJTguf09yfPU39uMA4zuT747+n/zuSKBRLkroMahFC+kJV++GiTYG+Z7kecOGjdDAr4GxnZuY3nkqOR4cM/5GHRwc0ap1a+M7scFh4+9QxkmHuwHGd9GpUyd4VNn+cpEjPDzc+P1M1OOa8TXr8ca3ga8Gs+W7+yeyjBIsjY2JRXFJsf5WBjYKNP7+XfHGG2/gyy+/1GWuHhiXrOKI48dhbW1jHEOD0cCYZ3Wyj4XLxRrjGBcYFKjHwzORzzth7L8SsJWLOpbGcUuOz37GeoeEhJimOpX0cRAREYFIY5Bjr5urm14ol2Bto8BGpqlOJcG35KRk7N2zB9nG34F0MCr7t4uzC5oZvz0BAQH/iYtBEmaU/SZBfmOM30j5njOM57HG/3nGMTk3LxcpqSlwNtZb9pPysnIcPnxIf6cLCgp128ix2s7WzpjG2TgewPgtsUTHTh3RrVtXTUqQ/T44OMTYfs56XJBB9r8z/eYRnQkD40RERERUZ0ijSwIAiUZjLS83D/v2768ojWI01vILCxAZGamZS63btDEaua4oKS7WYEz9+t44YUyTlpZqNO7SUFJ6EpkZWdizd6/RCPNFQIMGml0u2U3NW7aAr48Pjhw5gsOHDqG4uEQD4v4N/OBmNJq9jdck+BhoNJyl4d3AeC+zImteXl4eXn99Fnbt2qnfjQRCJCDn7e0NJ3tH3TckiP3E008h4tgxvP/ee5qJNvOll9ChQwdYWVmZPun/paWla63y1atW4arBg3DnHXdo0Pf333/H5599pncPTLp+kjbiF/28CBvXb8D+gwd03/L3D0Cnzp0xYeIE9OrZ85RSKdJEk2DO5Otv0Isxzzz3PAYM6PeXQJOsk1zI+fPPP/GbdCR6IlqD5BJob9miBa4aNAhjxozR5be2ttZAg3yuBLNWr16DAwf2Y//+fcZ+H6XrJ8Gvbt2648abb8aVAwca77E6JdB8voHx5cuW4YP330dBYRGuG38dbr311tNmkstnfP7Z5/j4o4902zzz7DP6t3KmrHP5m/zmq68xf/58Xccv/vflKdNKkGvZsuX4ccF87NyxE8mpKboNfH190MX4/KHDRmBA/376d3i675f+nwQZZXtnpGcY2zUdO3ftQoyxv0n5g5iYWJQa29Xbx1v/ZiQYHhwSggY+vhqUTU5JxrFjR1FkfEZOZjbiEhMqgqAurnCwd9Bt793AByGhTeDh4a6dzYYZf6PyNylBMQ1QGsdJTy8vDZLKYzkuy99aXSfB6TVr1uCtN96Ev7FNbrxxMlKM7b3c2O+379iOsLAj+h107twFHTp2wE033oS27drqsa+qxb/8grfeegshwaF47MknkG78rXz0ySdYuWKF/maOGj0KL74wU38b5TdSxkkHxnKsO7j/AA6FHdbPkYvCLVu3xnXXXYt+/frp8bX6xSo5vsl3e8RYtrnffYctmzZhh3FclotY/n7+6NKlC/obx5+dO3dg/g8/nDYwvsD4m/7ogw81c/gm43g1Zsxo0yv/Ty76vfn6G1hmHB8n3XA9Hn/icdMrFWQ5io39Vo733xvHkPVr1iEqOgoxsTGwMn6TO3fqjA6dO2H0qFHo1atX5TaT9ZcLcqtXr8YffyzFRuO4F2/s077G/i53iPXt29c4zl2Ltm3awqbKdpZjT/jRo8Y6LcCin35EXEK8Ht9lH5e/lSsHXYVRxrw6dOyovxGXGzl+y34hAeuc7BzsML4/OV6kpqQiITHeOIYUwd7GFm6eHrC2tYaNlbVxfA+Gh7sboozfoOPHj6K0rAyZaRnGdxdvnFMVaLJBA+PcSX6LiopL0axFxcWDY8eP68XggvwCvSjSzPjtdnR0gpOzkz6Wiyt63hXgj3p6cY7ozCyfM5geExERERH9J0mDOyYmBnv27MHin3/Bwh9/0sdr165FSVExrG2sjQZ/W82AtLG2R0pyCg4fDkP0iRgN6sjtvQsXLkS4Zp7G4mRxBFCWCC+Pk3BwcEZyWj4ijQb1sWPHsWPHTqwyGsxHwsLRwNcPjg4O6Gw09BsZjXrJnPpjyRKsXrMKiYlJ2ggsNwYJEkhwvHqwgi4cCUqsWrkae/fu0YshEuiTgI2t0VC3tLZESWkJ3IwGugSE63t7Y/ans7Hb2EdCQ0PQokXLvwSlJagi+8Ljjz+GI0fCMWniRO0MUr7DfcY8fvllMcKPhmsw8Sdjf9uxYwecXF0QZOwHEgRPSk7C5s2bdL8MbNRIA8DmCyTy2RLgfvGlFxEZFYkBA/oby9DilP1D9ukN69fj5ZdewhdffqkBHh8fXwQHB8HT0wtp6WlYu2YNTsIC/fr1N95roxmOslyPP/441q1bq4F1CTxIwEluUZeSQVu2btFge48ePTSAXDWodcL4e1ixYoUuc+/evXHllVeaXqnIXJV1lb8T+dwJEyZogELen24sy/oNG/DnsmW6r48de41mpFcPmEkZo2++/RZrjL/Lxo1Dccedd+o01aczS0pKxpI//sAfS//Q7P7bbrtNA+Oy/cSPxnZ//vnnNcAmGeitW7dGq1atdBnkb/WPP5agQ4eO+h3LhQM6lWzHrKwszYrdtGkTFhv7ztIlf2D//v3YvGUz8vPycUWfK2BtZaV/CxL8OnbsGA4fPISk1DTE5uTjYGQkfvpzKQ5ERCEiMxvx5UAW6sHawwsFxv4eFhWFuNRUHN2/TwOka1avQkJ8AlycnI3jpy86duqk+7VcUPrt11+Nv5nNyEhLN/bvdM0mzc/PM757uzr7/Un2/q5du/HV118hyjhWSBb1ooWLcPDQIc3Glax7uRNGXtuyZYveuSF/AxKwrnpBdsPGjfjqq6/0ONjAxwdzPpujF8DMWbgDB16Jbt27a0Z3jPFdz579KWbOfEH3BcnuDg0N1emKiouwbdtW7Ny+U+/GCDH+tpycnExzqSDHit27d+PFmTMx97u5+l1KsFOOgXJRTy5QLzX+NuV4IscSOTZNNI6vcqwyk4sB386dqyV8WrVsqctWnVygmztvLjZu2oimzZpi2LBhplcq9m1ZDtmvJXj+zbffIDUtFZ5enhrclgvYicb5wGbjdQn2Dh8+vPLOnojjEfjwgw/0ouix48fg5++ny+5iHN8zjeWRZZOM/bZt2+kdL+btLOv19ltv4a233tTncrdQt27d9A6fPGM/XrVqlWaUt2vXTtf5ciEXZ6Kjo3V/+WXRz8Y51mL97Zw//wdY1bOCl3d9Pf+RY4T8vUYYx165QF2Qm49s4zfpuHFcmLdsBQ4Z++7RuHgkFJUgz8kVhXYOSDVej0pIRKTxmxMbcRS7d+3SC9ESFPep763nV4MGD4a/sf8cNz5XLgjJdyp3hiUZ5262xnFByrjIbyeP8XQmDIwTERER0X+WZGNJ9tLates0A/i7efOQnJyiWUpSRkFKSZQUl2DZihVYvXoVLI1GnKtLOZydSuHuajx2toRvfQe0bB6Arp2ao4sx9OjWFG8+4YZpNzfA7ZP80aBBKDy8WyA00BNODicREuSF4EAv+Pm6GJ9/HMcj47Bp81asWrkS0RIEDQrUTNo+ffogJTlZM30jIyM020oa0NJIlgzKMwUD6fzItpUSIVdeOVAb6FLaJCQ4GFPvnYrpD07XTL0hQ4agcePGcHZ0wvGjx3D02FEtq9O1a1f4+p56q758Xzt27sQXX3wJJ0cHPP7EExrcke9NbgmXxrl00CoBAx9fb0y5Zwqee/4F3H//fRgxchSsjX0tOjpKOxiTYK4EQ6qWiZCSKJ9//rnOZ8SIERrMMgfGJaCza9cuvPLqKxpElsD27bfdimeNpt2DDz2E6669DkFa495D9zPJFJXlkosDsjwS/B7YbwBmPDoDDz/8MO69917NLLe3d8DRo+HGfpuE4sIiDBoyWJfNvC+eb2Dcw8MTGRmZ+l75HvoPGKB1Y6tngktg6Mcff4S1pRWuHXctuvfsoePP9Lcg/QDIdpYgi2QVS2BcppWgl1w4kG0tF0IGGsv5/PPP4fHHn9CM9muuGWdssyBjmUtxxx13aPmDM82jLpLvUgLix49HYMmSP/DmG2/gp59+hIebBzzre8Dd+O7yc/L0zptFP/9sfO/RqGfsO3Bygb23L1yMv4MyXz8kd+iGLL9GcOjUDc5desB74k3wm/Iw3AcNh23XnrBs2wn2jZvBtUVbeFtbwdP4TtwaNkJqYTFi5M4G42/0+LFj2Lx+vWaRt2/fztjP79ByPKtWrMKmjRtx8PDBipIs9hUlWaoGe+sCucgjWeFy14j81skFt7at2+I+Y99/6qmncNddd6N7D+Pv6GS5ZuFLRrQEk3tWu0tFLhSvXLVSA4pSUkTKTt115x16t8rkG29E1y5dtS8NqR//9Vdf4c0339SLi927d8drr72Op59+CjfccINeaJILXIfDDiM8/Ah8vL21NIv5e5Fs67S0NDxp/C3+uXyZ1o2+8aab8Oyzz+qx6LrrrtPjRm5ObuVdA6cLjMuFRsnYdnCw14t4EmCuTu8Y+XOZ3iEjx/CqgXFZDgmc3zdtGlYY6y2/u3feeRdeeOF5PPDAA3qckGC3HH/HXnON3pEi6yDr/M7bb+Orr7+GjZ2tsX3vMtb/NUyfPl3Xv3379sYx9JgGiR2dnPW4LRnhckxavHgx3jbeK+txy003Y9abb+CWW27Bjcb2le1WVFSIkcaxXtan+rGxtpH1keO8/JbKBRe5e+izzz4ztk+B3skhdxYUGb8hUqLst99/11JKhRb1UGR83/WM7eLcwA9lxu9sqr0T4jvIseEW2AU3hlOnrvCecAsa3Hkf3IeOgn2zlrBv3gruoU1R384GHoHBxnEiGK7+DXE8Lg5RxnDk0CEs++MPvRgk5bcmTpqkdz6FGfvg8qXL9IKERT1LLY9jPr8iqoqBcSIiIiL6T5EGmzReJSj+/Q8/4OWXX8b//vc/baRJI14yx+LjY/Hbb7/jiNFwl2zh0pIsnIQl2rRujheme2L6bfa4bqgzJgx3xqgrrdGrfVbl0KNtNpwdylERR7NAsH8herXLxKBeJRg/3Anjh1UME0c44+Zr/ZFdEIJ6lrbwru+CstI8Dcju3X8IUZERGgjt2au3NuYkk/3bud8ioGGjyiCsrEttbyBfLiTw6ezspI32fXv2Yt++/fDzb4AxY8egR4+eWtJGsiglq0ymlTrJq1atxN59+9C/f3+tT1v1u5AglFxo2bN7Nwb2H4hx48ZpAERICR0pKyKBwz5XXIGPPvoYQ4cOhbu7mwZXnJwcje+9J45HRODw4cPIzMhAw4BGWj/VTII6FYGGwr8ExmXe38/7XjM8AwIaYtasWRq8knWQEgASLJIM84FXDkRLrRdeEQiQIJSUJRg6ZCjGTxivjyWbU9ZL6p7Lfid1YdetX6eZoxIsl/Hm9T7fwLhkh0sZjQP79yM2Lg5Ojvbo2bPXKQEKeb+US1i8+FdjXVvjlttuRcOGFRcazkSW1RwYl4sSVQPjYWFhmD9/gQa/JPg0YcJEDYrIusj2admyhV6gkgxYec/fzacukG0mwcKC/HzExsfj09mf4plnnsbylSv070ICqfV9vLF3914s+uVnRMTGwt7dHQWlZbB3dALad0H50DFwGH8THCbfCdvBI+FojHNs1wlOOnSGXcMg1LO3R1l2JiydnOHYqh2c2naCY5cesB1+DWxGjIPtiGvhNelWWNX3gV2zVnAw9vnSzDRkF5UgNTMTx48fR2piEtq2b6f1/+Uipxw3pR62lAKSoKOsS135TuVil+zrf/65VP/ubjb29WefeUbLmEjg28bGWkvPtGnTRkvgSPkvCRTLhUDJJjdvI8ngXrliJVLT0ozfwpO4847b8cD0BzVr39X4HClTIX/HG42/N6n7LfOUechvq3y2HFvk+CQlwqQUimT0StawZEA3a/b/fR3I8Wz9+vV4/4MP9Df60Ucfw733TtFjkXyGHG/kN1rqmScmJOh85HeyemB8+/bteiHN3t4OPbqfOTAuFwxkfWWZqgbG5cLZF198occcWSYJzN999116kVF+A2Rd5Jg/evRovRNIxsl+Jdngn3wy2ziOxWLq1KmYMWOGLp8cV+R4Jr8vckyVZZPA7MCBA/XYJMe3P/74A0uWLNH66zMee1TXWX4PZJALe7J8ctyW57Vx35X1F7K9pF+Kxb/+ioceekjLhp0sK0f/fgMQ0jgUB/cfxLz5P+CE8XdaZnynWca2zi4ogEX3K2A3bjKsrhwG62Fj4XD9HbAbNAIOrdvD1s8fjsb/FceJQBQnxcPSwQlObYxxcozo3gc2w8fpMUKHYdcY43rBJigEtvl5cDa+ryJj+Q4Z37X8zqQbx30HJwf06NVLj11vv/UmVq1cpdtZviPzulT9Tae6i3sBEREREf0nmAM70hj+dM4cbUg/ZzR2161bh7ZGw93b1xubNm/ShrI02DMzktCsaTAGDeyCtQt6YPrUa/DKI27o2qYMtlb1YG9XMdjZWsDGuvyUwcLipDE/CcBZwMrypI6ztTlZ+R7zIBnnz00rw48femHxp37YtKglvp09QQMKZaWFRqOs3Bgs9BbtO+66Gy+9/LLWNd+9e5fWgJYgEF0YEmiQRrAEHeR/c+DMPK7qeAmCSJ1YCXRLQEOyE+V2ejPZ1+TOAymLI+8bNHgQHJ1O7aBT9kW51bt/v/4anJagj/nz5X8JvEjmtARHIqOisO/A/srG+j/Zt3eflrSQQEzr1q0wWOZvCmCb10vWQfYrma+ZjJf5hoQEa2kYc2Ba5iuDBKLl84TcHi8lZ852mf6OzFfKBvS+4goNhm3VTkVLT/lsCbZLR44yX8kI7lTlIsH5cHNzr7yQIBmqEkSX70Tmad4+5kC5PK/LZJtIJrDsh88/+zzuvvMu4xj6qR5L27aRbN96esFi587d2LRzO0qsrOF23WRYP/Ak/F//BE7PzILLvY/AuUtPGBsWFnb2sLA1tq3xuOpgIQE/Y362fgGw8fXT5/qasY/qe0yDZJ97jboWfrdPhfvMdxCwcDVaLloJz8dfRHKz1ohKiEep8UHpGelay1yCmlIHWrJXJcN9586dGiSui0aNHIkmTZvo/m3et+UY5ePbAOOuHW/8zVf0NbBt23a9K6Uq2Q/kb6Zjx464Z8q9eoyQz6gYKv5Gtm/bpsdDKdk0evQoDfrK58t8zPOS4O6VA6/Umtvr1q/XoL2ZdDY577t5+v1IEHrw4MEaNK/6GXJckuWQ/+X5hSbrKfP/6KOPdB8fdvXVGDRokGamVz2GyvzlGCHb0rwcq1eu1mOV9N8wZOjQym0kZBp5ftVVV+n/cqFQfjfkuCPrJ8djmUbK36SkpFYej4S8bs5mNs+rNpHllN9C2WckW17utHnyiSewf98+dOjQHkEhQdi2YxtWrVqNuOREzQZ3u+E2WD7wNALf/gwh734B/+lPwXXAEDi06wzbwFA9RpiPE5XHAtNju0bBsPb0rBxvUe0YYWFsXwmk+0y4GW5vzIbTFz/Bd/b3aPjMqyjv0BXRCXEoLi1DUmoKcnNzMOPRR/HIY48iOuaE1saXC0FyvCASDIwTERER0X+CNPal1uojDz2itzp7GY0qyQySBmdEZCSkHrHcFm1n54SbxnfCpoXt8cN73njk5lSEBlrhvkmZaN2k2JheGoHVG6by/NRB2q4V7deq46uqmMbZ6SS83OvBy8PS+N8WfTum4LXpmfjyNQeM6n0MW7duwdf/+xqfz5mD33/9VbPiJGDg6elxSlCTLh4JTLi4OGPE8OEaLJFOM6WurJm5JInUU5agSe8remsgpCoJJMi+Zw7wVGUOfEgASfZRCThI6Yqc3Fwd/0+kFq50tCnvlfqq5oBLdTKu+nh5bg5CCQlUywWYP5Yu1Qx1yZIXso5SB98cuPm3JPjVvUd3zTYMOxKOAwcO6DzMdmhHgYe1trhk2ct2PV+ybn5+DdCje3fjOOClGa5Tp96LX375GRmZWaapyEy+E+mgcMYjj2Dl6pVaMkOyXqX2c0JcAk6WlKFefR8ca9MZAbM+QctFqxEw7VE4XzEQVg0awK5lG9g0DIJtA3/Y+DWUnd/0yadhvGZhaaUBr7+brp6dPSwdHFHPxQ2WnvVhH9pUS7B43f8ESl98H0sDmmPb3v34ZeFPmP3xJ1izeo3Wc5YLTfK3WP1vrq44U6kIyRyXYLY5wJ2QIJ0hFupjM/lbl85Pu3TuVHknRXUSFJbgaHBwCHr3vqIykFyVzL9Hr556J5TcDSMBYjMJCkuJKpnX4CFDtD63ObB8sci8JSAufS7I4379+2sm8T8th0y7afMmvSDTonlz7S+i+rrLczkeywUD+Tzp7FiC8DK+TZvWekySDPbHH38UH3zwvvZjIsf/2k4uWMrdOU8+/iRef+01BAUH6/mJLHthfgEK8gpRbOxPufYOKB1+LYJe/RC+t98Hp1594dS9N2z8A2Dp6Ix6xu+hOfhtbFDTp/+VhVwgqHfmaWR7WlhZw9KYXz03D9Rz94Rdk+bwGjEO3o+/iKJn38H6Vt3wTWwKvvz6G/zvsy+w6McFCDD2N+lk28XFVcsvEQkGxomIiIjosifZoJ9//gXuuON2bN+xTRtsUjbD2toWo8dci9at2hsN1caYcnMLfDTTBreMyUfTxo4IbmgJb49i1LMoh6dbMaytJIOrIqB94UhmeUX7rrzcAnbWRfCvX4JAv3poHpSDO0aH485xCcY8i7By1Vq9dXzL1q1ITkmpzHili0sa3RI8vm7CRPj4+kLuMJBO1syklMnWbVs1ANS5U2cNUFcPqlQPmJxO/fr1tUSBkE7Jqmdwnol0zCmda0qWuNTBPVcSzNi8eQtee+U1jL9uPK699lqtq/vSSy9h2bJlOo0Egapndf8bEuhu0rgx+vfri8yMdMz/4QcNtphJaZvIyCi0bNkKXbt1NY09P7LtZX733TdN1w3lJ/HHH0sxY8ajuGHSJHz4wYfG9sswTV13yXcrHWs+/cRTeOyxx5CdkQWf+j6Ij41Fy8ahaD/2WqS274qYLr1hf/MU2HS/Aq79B8G+WQtYe9XXoJRdYAisPb1gIQFS4+9Bsr/1YHcmVf8uzupAqwdO/XwprWBtLF+94MYo7NANsTffh9Utu2JD2BFsW78ee3ft0drW8nsgwUn6f/I3IUFzKZ8ix6rkpMTTBsblmGa+0Fb9GCZBXjn2yXRSpsXXt4Hplb+Ssk7msjY5ObnINgYh85RyYpItHRwUDOmg82KTC3JyN4wsgwgJ+WsHodXJtHLxMjsnWx9L1rH0TSF1xasPUtJJSmTJ8VOO1RKAF92798CDDz2Ijh07YO/efXjzzbcwaeIEPPHY49i8abNeuK+NpBzV7NmztXTM5q2b0dA/AJmp6WgRHIJW9z+K9AFXI6FHP1hOeQS2dz0Izxtuh2ufAbCRY4TcAWIMcpywNM7JTjk2nM3f/9lMI58pxwjjN1tKNFn5NEC9xs1wstsVKB85Afu79scaWycsNY4Rh/YdwJ5du/UuIud/+M6p7mBgnIiIiIguazt37NSG5ffff68dZHXt1g3Z2TlGwz8Nj9zhgqfuLsHT957E01PKMH7oSbRpZgFfz0KUlWpbymhTScOroiyK/H827bDzVfHZFig35lVWZgFbm3I0DSxCp1bluGd8Fp6ZWg9pyQexbesebNm8BWvXrNVgIV18Ejxq1aolunbqrN/b1q1bK0vbyC3YUpJHgilyC74EnM4mEF6dBG8lAC8kWC1ldP6JTCcZiBJ0kQsn0rnd2c5bglRS91yCoNLR3dvvvIWUlGS0bdMWt916K9555x3ccsutOq05MHY+63Um0uHluGuvQ15+vpa8kGx1DZzl5uHIkSMoLirSTkhDQkJN7/h3Qhs31k7xPv3sM9xw/WRkZWbhj6V/4I033sAdt9+uHfJWDc7XJZK5u3TpUu08cPPWLVpHv8Q4KB4+uB8JLTog+/bpcJj2ODxvmwrbMZPg0H8wnFq1q+hks+LAqZ+jGZtW1uce8DoXlZ9nzMOYjzyzcnFFadMWKO7cExbGcsaNmoTtqek4sG0rdm7bpnWss7KyK95GSv6WJZte/pcAtTkwbPZPf+vytyL7jZCLz46Op94lU5Vk71e96JeRnlbxt278zcvnyGP5jH/K0q4JFYHxihInss4S5P+nO1TMAX7zNss3jsHxMfGIPB75lyEm+gQCAxqhfdt2CA1tbGzzijJbMp+rrhqE11+fhVdeeRWNQ0O048rPv/hCA+bPPPU09u7Z+5fv5VKSv6Np06ZpfxptjWNzs6ZNkBAXi5MlRbC6ZQqcb7oHTuNugO3oCXAYNBL2PfpomSRLO2PfMB0TZK+Suz8kw9s87oIz77vy+cZvpHyv1q5usAsKRb0+V8J2/E0ov/8p/JBfjuXbd2DdqhVYsWK5XrggYmCciIiIiC5b0pHV888/j2/nzkW80ViTTuL2HzgAaxsrjBucg1FX2qBV43R0bJmLru3y4eNRiLLiisD0P8QAalzF/I1lKZdb0U+iTdM8DOpjh6u6RmNE73DUd8tEUnImthoN5/Xr19WqxnJdIA1rO1tb9Os/AH7+/lqrXuqSCsk2PGjsZ3IrttSaPd+SN9IBXElJRaBJsjSrdi53JrJc5vlJkEo7yzvLYINke77++uvaYd7BgwcwfuIEvDBzJh5/4nFMmTIF1113HXr16mWa+sJzcXXRDnAbh4Qa+3aSsQwHNUvy0KGDiD5xQrNZmzdrdkGzfaXe8jXjrsEjMx7Bm2+9hSn3ToGDoz0WLVqonaIuXPhTZUZnXSEXRz77/HO9Q0AyW50cnTQb9mjYYeR37wvbayYhr+sVKGnSEo7NWsK+URCsXN1g6ezyf+ydBWBdRfbGv7i7J00aqbu70CIVipXizi6yf1icxW1hF5bF3W1xCi0Uq1BvqUva1NO4u3vef76T90JaUtc051cuee++K3Pn3jl35pszZ0TkapXjbVDNM29nbKKTt494suPMs7F71JlY1XMwdrl5ITs1BevWrZPJIpUm+A6hEMi/UVEd/xT+6UDQPtn2YbndX7kpLi5BZVWlfGYHHkVh0tJWlpSWSAff4UCbd7B2b2/YGWmLJ044keSBvLVpdz29miYqJkOHDsMdd9yORx59pJXlUfzr6X/j6Weewemnj9/DG535MHr0aOmQeuKfT8rk4H379cGqVatkbhTGPU/YnGDd+sTBeztz5ky8/PLLEkKFnZYRYaHYuWMnCjvGIe/cS1E66nQgLAJuHTrCtUOUsRE+IoCbB8wcYR/35njYCds5aCNMOiiQu3fqBtcxZyJ/xDhs6tYf2W7eKMvLx8rfl2P+gvlN2yvtFhXGFUVRFEVRlDYHRZxvvvkGP/70EzKzMtFoYYM/H3PmLISjXT3+cXMkpp5lGuTOjWios0djgx0a608OQbx1TNokjcCA7uUYO7QYk0YVItA7B5u3JGLdunhs2bJVhrKzsaccORRVKHZw2RfcZuxpYxAWFi7xxLlw8rjE3U3xxgcOGIC4uNhmr+9DZef27eKxTRgWhXF9DwSFGYorFJtYDjZtjLf+sn94LRT0P/nkE/E4v+GGG3HfP+7H5MmTJda57dwt434fbZh25uUZZ5wp+T5/3m+oKK/AgvnzkZSUJN7i3bp1s2599OAd7tq1C66++ircf/8DuOfuezB8+HAkJSdJWBXGG24v7Ny5E999+63kOUOO0J5kpKZgxe+/w2Hq5Qi79V549ugDB3Ov7OrNs9DQ8IeHOJeTDaapthbOHp6o7N4P2SPOQOqw8djkFYiNK1cgcds2Ef/5XB+ukHoqwOtnhwifdQrjjBF9qMI4bQTtFOGzw5Ao+2LXrp3IMeejbWSoKT8/PynzFIkpsPNzXm7uYdsbD5N2duiQfdlwnru132g7OQEx4TPBmN+06/uDx/H28pLrEBvs64Ohw4dh4qSJrS4TJk6Qv4xd7uj45/eDn5+vTMJ911134eGHH5aROg5mO3bULf99udyjEwU7T6ZPn45ZP/4o4b2YX+XmXbMuPh4Z3foi6MY7UDRmAmpd3ZtsBNN6stsI2rHaGnh16orqEeOQOXYSVvmFYu6mrUjblSiTpBaba2zPNqI9o8K4oiiKoiiK0qagGEhPJi5OTo7o2aOHaXiHo2MHb4zqX4IHb+uFW6/ygbOTvWmrnaxC+L5pbLBHQ60jOnXIQe+OG9E7NgWdoiqQmpYl3sEHO0Gjsm/Y+KXQUVhUtN9wC9yGE6H26d1LvJgZj/n333/HujXrJD74+eefv0/xxdbAtnkYtgbj1FJsZ9iBqKioVifNa42IDh3QuUsXFBUWYdXKVaiq2jNWcGtwG5uwT6/NK668EqGhodZf/2B/ggyvaV/Cge23ff1ug+LamRPOFEGM8czz8vOxctUqmaRvwMCBiI07OmFU9kWkybsLp03DpZddJvdt3fr1Et6hPbAlIUEmIF27Zo3Edu4QHoayikqkuXnC7fxLEXnfP+HerWfTxHh8DtqK8WQ6zXNHkc7N3R35kXFY1KELNoZFIy2qM7Zs2SKC8IGezVOBfdkQdobNmztPyjfF6ejojhIC6lDgsWmnaK84oebatWtlfWv5utqU6eSkJGMnAxHTYh4E2p4ePbqLXVy7do2xYYXWX/aEZbPa2Kx93TN3N3d4eXrJqBuOhGkNTphckF9g/fYHPDcF7ojwcLHfv69YccCQGkwP9+vXvz98fH2xbOlSrDHl6Eih6Dx+/Om4++67JewK3/Fp6emorT12HZT7g/f166+/xq+/zpbnIy4mBvamXNl5eCFn4ChE3PkQfMecIaFnOGKjzdgIwrTW18PV2wdpkZ0wNzQW8XE9UdSpJ3Zu24ZC8z5tr6G12jsqjCuKoiiKoihtBjbafvjhB/z000/SaCspLkZaWiYG9ovBw3f2xyv/jsbZY7Kt4l7bE8VtMN0NdQ7o26UKl5y1G2P6bEdkSJlp09khO7cAiabBf7hD0BWKM04i8iQnJWP37iTr2j9jE7zPnjJFQnwwlMqnn36GNWtWS9iPUaNG7VP4FmGHE82lJCMlJWUPwZlxwlevXo1fZ89GdnYOhg4dgtPHj7P+emB69uyJSRMnorauFqvWrsbsObObvH9bwDArFATpIUwYKiAvL1+EJqYlLzfH/G2Q3wgFAV7fsmXLrGv+DEWtfXnHMx9sk/aRfUmQ7u5u6NevLzp06ICt27fhl19+wc4dO5o6IPr0aQ65cCTwGjnPAOPC79ixszkucjPMg/qmOLQUCffXGXAqwOuLj4/He+++h/gN8bB3dECaeSbTi0oQfeX1CLvjAbjd8RBvsAhHgvU+timsaXaor0NtaAQSJlyIeTE9kejohsKi4uaOoVP5flOslpFFLaiursIqUxa++fpruXaOlujWrfshC+NkvLFTQ4cMEZs2+9fZ2L5tW3OZJzw+Q9j88uuvyMnNxaBBgzDEbG/D08MDEydMMHbEHsuX/y6jvvYWpdmJsXrVapl3YF/COMNYeZiySzFzrTlfQcEf9o+iMsv++++/L6MFWoOe7xdOnSY2a9mSJRKWbe984zuWo4M2b9osNpvXee6556JLly5yjRy1xuO3lkaOzqFob/uN9pdlcOHCha0K+RYLn8mmbTlaY1/XfSzhqJ3/ffqpeZ/MMc+GC2pN+rdlZsFn9Hh0+dsd8LztAbh0iJLwJEJbtREmb+3ra+EbHYuqcZPxS0g04suqUFNViWzzDKSnZxzTkVPKyYfD4wbrZ0VRFEVRFEU5KWGjNCk5Ge+8844M8e3du7cMf166bAViOwbglmsicM74EokfDgsba22wwbYX0n5jiBWLA1wciuHYuBupWS7w9WrE2g27EBQULI36fQmzyr6haLF69SoRQmze2lWVlSgoKBDBnF58LcWekNBQbIrfJEPcExN3SWxcxo696qqrW83/rVu2SFxWiippaWkoKSmGq6ubeG1SBGJsbQ6fp8chPRevueZaTL3wwj2ORXHovffeE3H9nHPOETGc6SIMRUBRi0I2JwSl4EKBl/szNAnPsWbtGplkctu27RLTlhPl0Wv8hx++F5HG3sEBAQEBIhpTqFm2bDleevFFGYnB4uPl5YWJEyeiS5fOzWI4hXROOkqBkSFPhgweAlc3VzmvLb8+//xzGdUxYMBARMdES7iG1vKoqqpSOge4cDLTCy64QEQnpulgYWcA83ndurUitP/lL3+RdFCcW758KR544EFs3pwgIhjTXlFebu5xPn5f/jvefvNt5OTlSucGY6sfDUH+ZIPiGsW5zZs3m7x4AOnmWWRs5YTNm7AlJRWB066A+z+egFts5z8sZovnvs1iroFXYW+uv9a8O3bUNqCrlzuS1q6Gi5OTePweaLLFtgIFvG3btply+avYCsaq5nuD5b2ygt7UuViydAleffU1rFi5Qryk77vvPglb1DLeN4VejuBgp+HQoUMxfPiIPWygDYZCop3keZJ2JyHT2NLQsDCxKQzVQtv26KOPysiamJgY3Hzz33COKdc2nMw5OWcDPZJ5nA0bNoiN4LuM5Zn28ueffsbLL72MxKRE1Jv7R5tw6aWX7jEHQ70pz9t3bMcGYwNpwzw9PeQYtH3r1q/DU089ZfJlqzz/zJfBgwfj7LPPtu7dFGYltlMnLFu+DLuNDaWQTttPu8cRJIw7vtrY53fffRc//fAjzpxwlqQzumNHpKWmNttdengzfXx/sNOFHuq8H5999pmcg5MjOxu7zet6+umnZZ4D5jtDwXAfjgDjb++88zaWLFkq55g27SIMGTLYmtJji8X8a2xolHv54osvYOmSJehqbHuWua+zlyxDce9B8LrzEdQNHgW7Fh2pbR7rs21vaUQ565c1DYhEA5wqy5Fp3ke+5r3MzoHW3l3KqYcK44qiKIqiKMpJDUUuCpj/evKf+PjjTxBhGubOTo7YsnUbhg3tiwf+HoeRfVJgkUksTwFRZy+arsgOrk41iApIgJ9LArr3vxwp6cXw9PSS/OHSUpxU9k94eIR4GVLk3rhxI+bOnYtFCxbhx59/Qrh5vvaOG+7s5ITCggJs3LBBJons2DEK06ZNw4ABA1rNcwrjFDko0lCAozj9v//9T0Y6fPXVV3j77bdl9AOFnr/85a+48sorm2PwEgqaLYXxKVOmoEePHs3COOH2DEtCgSonOwc//vijiNZLFy/Bp599KhNs0gOQaeW+DJtC0SstORW7k3aLID1v3jzZfvr0b/D1N1/L8YcMGoyy8jJTniyYMGEiOnf+QxineLxgwQIRWnPNOetq69DdHJtiEuF29Iik0L1+/ToRf7i/7XcbFKACg0Iw87sZEtuV1/uXv/4VY8eMld8OFgpr9HCnqEcP/uuvv17KATvS5pi8WGnyZsWK3/Hrr79I2BqGd/j22+/w7H//i4KiQkRHR8sElPQAPZTzthXo8cr7QaGSwl9kZAdUVVQiv7QUfpdcDddb74edyatTGQkL4xeINc4eODs2Es5lpfDy8JD7TVGZz17Lst7WaCmMUwSmXaB3ODuQF8xfgK+NvXnjzTfNOzQbUVEdcN211+Lyy6+QjrSWtit+Yzzm/TZPbMSIESMwZOjQVkVB7hMaGmY+WcQOxG/ahM8/+xzr167H+x+8jzfNudLT0sW23XDDDSJoU+xteS526tHbe4fMsZAngjw75Dga7JNPPpGyy4kuhw4eil3GRjNG+d7CeFBgoAjpLP+0AyzftH9ff/21pIcjUx555BERzSnW03O9pTDO9HiZNHSM6igid05ODubPn2/sw7dYvGiReNe/8sorMuKGnYgTJk6Cv8lb5glHt/C46elp0gHAc/427zcsWbQYM2fMxNPPPC2CP2OL9+vXT+7JbmOLVxmby3BG88z7hsL5ZpPntE+vvf66KaeL6MiMm266GRdddJG51gPPN3E0YN2BHcX3/+M+TP/uW+kIbaipQ/y2HWg4fRI6/P0fcA4JMzWQ4+/BfrywN+/ouoAgbPP0xzB3Z0TExKKxphpuZj3fJVq/OvVRYVxRFEVRFEU5KaFgwYWNX4qJr7/xhnjc2jvYY9OmzejTpyfuuNYLQ3plmo3ZYDmVGy1/hIWxs9QAVcvgF3oG3DxDsWTJMpnEjF6QLYVTZd/Qs5AexuxwoSBCATE3L1fyb8DAAejVq9ceYhkbxJQFNickiAjFEQv0hAwODm61sUxhfPHixeaTHa675lpcedWVEhaAQjmfYZ6H4sq/n34G119/nRxnbxGK3ocUt7iegg49tFveX3oddu3aFeNOG2eOmyOxuimM8Tq4L70Y//rXv+KOO+5Ep06d5DgUqLr36I7cnFzkmH24PfejSDh+/Hjcc++9GD9unMRSLy+vwFlnnWX2jWvOC14rvRzT0tKRnpEORydH6RygKG3Lo6rq6uaYzmHh4eKZyutrCbdljOtN8fEi3vP3a66+WgTq1vJzXxQXl4jX/I4d28U79aqrrpL9ea39+vWXkBFeHp4iYLFDIzUtDZnmnlPg52/04Bw2bJjk66Gc92SGNtP2l4LhPffcI6I4R0bQM9XOwRFhN96O+iv+CvtTV+tqpum+2qHR/FlmccJAT1d08jHPhHmGN23aJAIn82bv8tdWaCmM07YwfEj/vv0khBAnl+XoFgrKFLvvu+8BmVtgb1GcUBzdbPLD1d0NEydNQs8ePVstE1zn4+ONwUOGSNnOy8lDTl5Osz2hXWKoFZatyy67TDrvWuYt96e96dG9O+Li4sRW0UOboZyY/pDgEFx5+ZX4x/33obc5/vz5v2FA3/6YfPZkSbcNHod2h7aDNoQdiDwGbfnoEaPw4COPYIKxXxS9KYzTTk2YMMG6d9P+XDhaiJMBuzi5iH0uLimWSRg59wSPfdG0i/DvZ55BZ2MHmW7uw/zkSBPanLzcPGRlZ6O8olxsS15+ntjZiy6ahhtvvEmukfaTnuODBw1CTHSMXDPtdFZONnbtSpTrZjr+9re/4ZprrjGfI+U8xxLaBwq+9Hj/8IMP8PkXnxubXy4TqpZWVMLj4qvge+UNcA4NP+ZpOdHI9Zml1tiJJfbu+KXeAWP8vRFkDCQ7PnLNPQ4MDDhlRpkof8bOFIh28DpUFEVRFEVR2hps8Ns8we644w4UFxfLehdnB5x++pm4969uGNKnDI6m8WKxtN144oeMqb5beLH2PrAPeQrPv/QDVq9YgasRPzRkAADE3klEQVSuvRpnT2nyiDvVG7JHAz5fDPnBuNsUNhwd7EWYpXfz3h6OZMOGjXjiicclJjZDdrz88ssieLSW199O/wZPPfUvEU1uu+02/P322+T5pXckPaQpilOM8/bxgWsroiybaPRU4/PPzxRy6WW5t3jH3ygEUdCgKJSZlS2xwymyMGQGr4OLTdi2HZfCDMMe0LObIk94eLiITu4eHjIJFYf3M3943r1FY54nPSMTqSkp5thu0olg8wjn8SmO7dyViOysTElHbGyspL0l3I5pvvX/bsGM72eK9/39998v+X8o8NopKtkEOeZpy7Tyd6aXC2NMM+/tYUF0TIykmYtMItfKPWyr8JoZ1oLP22OPPIpvv/tORgDw2QkOCETInQ/C9dLr0WiedztzH8zFW/c8tRHRw1yvu/l0n0sd/HdvxyeffSpi56233ioiZ1t8Dvjsz5gxE3feeYfYF74vGQqF5YKjUmjjIiMjm+3BvjqBKCzbJqGlLWCZ3V9+sAyzU6G8rFzEZArxfqb8hYeHyUgRHoNlcl/HsO3PdNpCqPCctBneXsbeubmi0WzDSXl5HNqilp2VhMKulO3CItm/rKxUOgttZZv78Zp4DnaGUqRvjYaGRpOPFbIdY6dzfgJ6qVMMZRgmercz7nfLa2H6Wc64D/M4w9iWSvOZHa70EOd+zG+bmE6YXpuAz/0yMrPM9RWK/aUIzzQznXtf57GAdoLPx+dffIFXX3lF7gGvidBLPOiKv8IxJBR2fOdw/X6ehVOFZmHUfPAyl/2Utx1++c+T2LRlq3QyT5g4UX7eX7lQ2iYqjCuKoiiKoignJQmbN+O9997FmrXrpNFLjza2F796vQ8G9gtDgI8FLs4Nps3WjkRxG9YqvMUxGIV2f8Uvv2WYRr8Hhg8bJg1rNrCVg4NiRV1dvTxDFFL2xYsvvohnnnlGQpI88OCDuPSSS6y//BkK4//6178lxMmdd96Je/5xr6ynKE3Bmec5Fh6qFDu4HMzxed0UpijccDkUmvKsTgSC1oTl+voGs9TJcVvrPGAad+7ahXOmnIOkpN0SPuHCCy/8k4B+NKHIxtAv9GtnzN9TFd5Thgl64vHHJXQMRb5GSyNCAwMRcu9jcDn/Ms6ACjtzD9uf4eRzAPiiEdc3lqJ/WT627EpErXkeTxt7GoICDz6+/cnC3sI4w4GMG9c0kS/LGW0Oy+ixsDc2bCIxy/rheNVyfz63TOPheuXSHvFaj9SG2PLMZrsOBqaf56ddPBTbbkszr/l4iOEt4YSiDCO1eMliSTM7DRvMtYfddh+CL70GzuGR7UoU35s6c9mPNhajX0MVfpk7F47m/lww9UJ4e3sd93ulHHuOnXVUFEVRFEVRlCOA3qy//Dpb4gdzIizTOkP/vgPRp0cQOoTVt19RnPCied312Qhy+BSnDXNDdmY+nvvvf7Fo0cKmbZSDgiKGi4vzfkVxmeh16TIZas+Y2aeNHWv9Zf/sLQizQU3h5liJVBRzDvb43IbbHqooTpryzEXyrDXvOcbWtR27td/pLfn+u+9JCKDevXqje7duRyxoHQh7kw65z6ewKE7ojRofv8k8r0tRUloqonhYUBB8LrseDmPPgp2nZ7sVxUWATUlEXnkF/ufog52RnRDk7YlF8+fjA/M8Mp40xc1TBZY/ltNjZW9ssIyz/B6uqM39mc7D3Z9w36NhQ2x5dijiJ9NPW8jzH0pe29J8vIVWiv/JqSlYu26thBJjh0pDfQN8zpoC/7Onwjkiqt2K4paGBlQl7oR9TTU+tPfENjdvDBvQXzoYX37xJSxessS6pXIqcWwtpKIoiqIoiqIcIgwfwfjM3//wg8S7rKysQr1prEw4czyeuDMIwf52aKznlu1UFG+G1++Ahuod8HCtQ1znbiL+bd2yVTzRlMOH4hjjVxeZZdny5RIvl5MYdu/eHZMnT/5TzGzlwDB0CmMBc8K+Tz7+GN9887WIuNf/5S+IiY21bqUcCQzpwAkM33j9NQnZQJEu1Dyr3pdeC7epl8EhOJTDFtqd2NUSR78AWApykVZUgg+q7JAY1xMjBw3Etq1bJbyQvX27fqkopzicV2PWD7Mw/etvxEuc4nd1XT3C/nYnAs+7GM5hEe3aU5zX7OgfgNrMdCRX1uDdemekhEShX/duqGuow66dO60bKqcSKowriqIoiqIoJxXpGRn4Zvp0fP/9TBme7ebqhmGDeuCeG30xfngD3N2aYoorTdjZOcO1YTH6dqtFeGQcFi9egu++/U5EHo2aeHgwPAFDp9x5xx146KGH8OWXX5rnzhVXX3UVJk2adECvQOZ7Y2ODDJM/lTxQDxeGqlmwYIGElbnvvvvw8isvIy09HRdOmyZx8TlxrHJksONh7dq1+OH7HxAfH99U9u3s4D3tSrhdeAWcouNgz9EB7dgm0LPX0dcPDj5+cHFyQlKdBb94BCGn33D4+fni7bffkYmdWW7biu1ssjWNkmbbd0VpDT4bjKE+Y+YM/PTTTxIT3c7FFb5nTETQ5dfDe8QYOHh4NNmIdtp5xk4BRz9/OHr7wNnRAbvtnPC1gxdKevRF99hoLJg/H3PnzpGOc4bnUk4NVBhXFEVRFEVRTho4KSDj4i5auBCZmVkyPDkkNBT9+/bE8D7FsLdrQGO79xTfGwe42SXA3+FH9OpcCwcnd5kYcs7s2eI5rkLJocOh5hvWr8NC0wjOzszE8OHDcfvtt+PSSy9FWFiYdat94+TsguDgUERHR8MvwN+6tv3CCfC2bd2GFb+vkNi2nJyOEx7ee++9iIqMlJEOypGRmpoiYteKFSuk48bOyQnug4bBbuQ4OEaYPGa4hnYseDVj8sDJP0AEQBc7C7ZV12GLTxAG9e2DdWvW4IMPPpA8ZMzrtgDvNeeU6BjVER0jo455SCKlbcLOE4YCW7d2Ldabd1t+QT6cnBzhHxgA99794RQUDKfAYNg7OTfZiXYMLSTzw97FFc4mLxIa7THTLQBZ0d1QW1ODF154AUuWLNZO71MIh8cN1s+KoiiKoiiKcsJIT8/Ahg0bMP2bb0SYoDjp7eOHUcP7Y8rprugcVQUHezZaVET7E3aOsKtPR3iIvfkYip9mr5Fh0v369UNQUNABPZyVP+Ph4YH+/frjjDNPx3nnn49Jkycj9CBEcdJgGszBJt8HDhpkloEyYWd7hiM/+Ax269INY08biylTzsa1116HmJgYncjsCKGncFFREX7++Wd8+un/sDspSSaK8wkJg9/VN8C9Sw84+fnDzsFRRfG9of5n8sTT0oAIswSgEXPnzUNBYSEGmbJLwbm1GPknGxQ4Q4KDMWTIEAwdOtS8N32svyhKEwyhsmzZMglRt379etTX1sLF1xcRUy6E44AhcI3p1GQjiNqJPXA07660imo4GYMxyqEB38+ahZzcXAwcMBC+Jg+1ftX2UWFcURRFURRFOSlISkrG7F9/xbx582RCKAfTSOvaOQy3XNcNU8flmMYHt9IGW2vQwYseoaUl+cjJq0VBeQRWrGzyehw4YADc3d3bhMBzssAJ2BhPfNDgwejTty86dux4SJ6YFMX7mv3YMdHeRXHCvKMIPnTYUJOng9C167GfbLO9QGF8x46d+OyzT7Fo0WIRaZxdXBE2bCQ8p14O107dYH8Ekxqe0tAm1tYgIy8fyXl5GNBQhR3bd2DLli3oGBWNmNgYuJ7kk7WyYykgIAADBg7AEBXFlX2QkpKKmd/NxLy5c8Vb3MHVDe6DR8D/nsfgOWBoU5gl5c8YG9FQXYW6nCx4puxCRGE2KsorsWDRQnh7e6NXr55wc3PT+lUbR7s2FEVRFEVRlJOCsLBQiS/OhcKkf0AIRg8NxdTTs9AoMcW14bEv7OwsKKl0xPfzXPDWZ1WoramCn68vPvv0U4ntzIn4FEU59aCtzMrOappIz0AR3CE6DrVjzoRLbJemECrKPmmoqACy0pC9djU+/OBDOJn8y8vLw1tvvCET7dlidytKW4ad4+kZ6UjPzICzvT08YzshYNoVcI2MMjUrDbe2PxpKS9BYmI/N69biiy++gL2jA1ycnfHll19g9Zq1MiJKaduoMK4oiqIoiqKcUBgDm+IDwwAsXLBAGhkBAYEYPLAHBg+IQ6PqEgfEzsGC9Vt8MW+lIzZuWotVq1YhinGF7ezx+WefS2xRjYepKKceJSUl+H7mTCxfvhwuTo5wi4iC/7TL4d1/sLEL2tw/EI5BIXCuq0Pjz9+h0nxfu24toqKisHFzPBYuXChhahSlLcO5Rr764gusWb1aRpS4+/ggvG9/ePbsZ35Vh4MD4RwWATtjW2uzM5FdWoYlS5diQP+BMrLx808/kb86l0vbRt+UiqIoiqIoygmDjQkKtsnJKZgx43ukpacjMDAQHTrEYNxQF1w8Mdu6pbI/LA12GD2oEBOGF8LT0xehoWEycWmfXr2x/Pfl+Omnn1FSUmrdWlGUUwGGSvpx1iyZsNjP1w+dOnVGSGgI7N3c4dq5G+MrWbdU9oVdYwMagkNRcfrZqBw4HI7GbjI8grOTE9544w1s3rxZOxWVNomtfsVneO5v81BdW4OQwADUBYagfuhouMZ2sm6p7BeThy4hEXAeNR5VfQY1dSWYvOX8LbN+/Akb4+NRU9M2JutVWkeFcUVRFEVRFOWEYGu05efn49FHH8GGjevRq0dPeHl6IXF3IoqLC+DsbDHbqUfTgWAeOdo3oGNUCIYNGQR3NzfMX7QAK1atREVFBebOnoPCwkLJc0VR2jYsx1w4UeRbb7+NjMxMdO7cGcGBwYyrBDsHh6ZF494eGPMOco2Jg9+5F8HOyRnVNTWYNetHlBu7mZycjHXr1olXvqK0JWw2IjMrCw88+KBMvBkSHAI//yA45GTCdWs87OzVRhwMzEenoGC4xHSCu7c3fPz8sPT3ZWIfqqqq8P2M75CenibbKW0TFcYVRVEURVGUEwIbEWVlZZgzdy5WrFiBivIK7EpMRJppYHh5eMHPz99sJDqPcgCYR431dhjcqxzXnF8LX9P4ZVzxmtoaCVOzaPFCzJ49W8MCKMopwo4dO/Ddd99h67ZtUq63bN2CNWvXoNjOAQFTphqjoE39g8K8h+wcHOEcHAKfvgPRoUMHsZ02L/EPPvgAq1evls+K0lZg/Yqd4e+9/Q42btwo4VR2796NpKREOPbsC/sp08xGOhLiYLCjjTB/3eK6wPeSa1AzYJh0oNXX10s+fzdjpoRdYn1WaZvo21JRFEVRFEU5IVB4KCwqwqoVK1FcXCwNjIrKCokxfvoI4JJzKfZaN1YOCL3G3V0aMbRvCa45r0LCqdAbjPlaahps8+bMlVjjiqK0cUyZzs3NQ8LmzSg2NpS2tLy0FHX+AXA/7Sw4+fqrJ+jBwnwy+eng7gn3QcPQMHQ04OQkdpN5uH37dqxdu1a9xpU2BW0CJ+Rdt34dys37n88y61fODvYI6dUXLn0GyHOvHARWG2Hv4gJ7/0DYe/siPCJC4rXTTtA2LF2yxOR3hnUHpa2hwriiKIqiKIpyQmB83JUrV2LBggUoLy9HSEgIPDw84Obmjc4xXugQ3mgaHSruHCxsuzU22sHDvR4dw2rh4OAqHk1sEDNvV65cIQIPQ6soitI2kfBTBYWYOfN7JCUlwc/PDz4+PhxcA9eISHgPHcWNmjZWDg6K4Pb2cAwMhuvQ0QgND4eD+R4cHGzsqAMWzF+ATfGbrBsryslPfV0dfvxhFjZt3iwjIFgPEM/nyGjY9+wHexfXpkqDcnA0VbDg5B8E/3Fnwt3ZGWhomhk+NDQUCxctNPWrdagzdS6l7aHCuKIoiqIoinJCqKysxIzvvsPupN0iknOht3h4h2hEmAX1jdpuO0Sk7VZvhw5hjrj7xlCMGT0CTk5O8Pb2RmFxEZYuXYrs7LY1oaktpAGHgjOep6K0Z1getmzdivnz5yEvL0/KhQzpN785+PjCvUsP9QQ9VGg4rR6hngOHwnXYaAR1iESDyVd/f39s2rRJOnGZ14pyskMbUVBYiO9mzEBGRobYBxsijHfr1SzqKoeAsREO7h5w6zcE9udeDM/xE2Dv6gZvLy/k5ORi1erVyMrKsm6stCVUGFcURVEURVFOCByCWltTLcNRY6JjUFdbBy8vX5x3VhiGDnCCpVHFncOBYUNDgx1wyRQf+Pp6Sz7bJt6cP38+du7cad3y5IaTsjJmZ2lpmYj5XNiZoijtHW8vTykL4WFNns0cceMe1wU+4yeKOK49ioeByTPGGncMDkVtdCf4+AeYfC2TDtuCwgJsjI9HWlq6deOTCwqhtO+KYsPePM8uDP1h7EN0x47w8vSEU3gkvIeNhmt0nHaeHQ7iedAAi5sbHIafBn9fP4k9zvoVyyDnytm2dWvTtkqbQoVxRVEURVEU5YTg6OgIb4YAMA20sNAwacR1iuuCSWM90S222LQ/tKp6OIgmZtq8FRW1yMnOhbu7uzTc6DXGCfvi4zeJkHaywueBot/cOXOwdctWCf2SkpIqHllOHL6sKO0YhvZg6BT+DQoKgqenp5QZryEjEXDBZbDUq1fzkWDhCJWGBtSGhAMurigsKBBP8c2bN2Ht2jXWrU4snFC5tqZG0sVRA7SRKowrNiiGsz7l4+0DO/OPIYHczXePgUPgO/ZMOBr7ocL4YcIKFrOutgb2pUXw8vBAcUmJ1K8450N8fLyObGuDaGtDURRFURRFOa6wUV9uGvIc4rtmzVpERkYiKyfLrCuHX0Ag3Ny9zUbq9HhkWODo6ITwsEh0iusEZ2fnZuGEAk9ycrJ8Phmhh+bcefOwetUabN22VTywSk3D09fXR4YsK0p7hbaTQ/WXLF4in2tqqs1SC2cHB7gHBsLRP0DiCCuHj8Qa9w9ETZ8BcAkMhpOjowiNnIRz/fr1e4SlON5wkurE3buRmpaGIvM5JycHiYmJYjNVGFcI7QI7wpPMO37dhnXwD/BHbl4eSkpL4BISBifzTJuNtIJ1JJiy1ujkjOo+gxFs6q8upn4lk5uaeu2WLVuQkZlp3VBpK6gwriiKoiiKohxXODnRrl2J+OKLLyU8xtlnny2xxblERTgjMMBRnZmOEE5a6uxkQXREA7w83EXYYcON7Nq1ExkZJ2dIgCbPzM149513EBIaiizzfHw/c6a5nkbExcVZt1KU9gkn0ZszZy4WLVognuIMpeLs7ATvwED4hIY3eTur4HVE2Dk6waN7LzhVVcHfyxPOLi6ynqNYkpNTJHbziYDiN+eI+PTTTyXeeWpauojiXl5ezSMIFIU2YsOGDfjll1/kfXramDFobGhARXUN7CngOjlZt1QOF3aeObi5SVgV5rdtHhSSmpoqi9K2UGFcURRFURRFOa44mgZ8QX4eXn31FRlyGr8hHlWVVbC3d8BpfXehS3QGLI1aTT0S2LEQ6A/85aIabE5YK403QoF8x46dEpqkZWPuZMAW6uWF557HiJEjkbBpE1avWIXJZ5+N08aNs26lKO0XlpHNm+Mx8/sfxHs4MzsLZSXFqO/aE3VmsaMnqHJE0PPaYvLRZcsGZO/cIe8oW6ciO3J3Gvt5vGGatm7dilUrVqKirBwlxSVY8ftysfPdunVTUVzZA3qMP/fcc9KZk56WYZ7hati7usI1KkZi6CtHhp2LC1w7dYWdq5t4h7PTStYbO5GclIzkxN3yXWk7aItDURRFURRFOa5QaGBc1NDQUGnwp6SloLauFuERUfD28YRdI8Ud9Xo8Eph7BcVO+OCHjggMjpJ47rLeNNzYaE40DTeGszlZ4PBverI/+vCjSEzaLbFRGSO1Z6+eiO0UBycnp2ZxSlHaK7SX9XV1zZMtUqitqKyCW2wXuMR0MhucXJ1dbRHaGTsnZ1QOGoEGL2/pZZR1ZknavRurV6y0bnns4T3mvS4oKMBHH36I9KxMsZWLFyyAs5MjBg0auMdoIEWhlzhD7PC5CQsLw4ZNG1FYkA/f086CW+/+TWFUlCNC7IGzMzx69BVbYVvHspiUnIQtW7ecdI4Hyv5RYVxRFEVRFEU5rjBkSmZmFtLT06WRn5aWhsDAQAwfNhghwUEiBihHDrOxvt5OvAnZaGO+2v4y7zPMcjLA9CQlJeH5557HkqVLEOgfgBXLlqP/wAG4+pqrERsTo8KPohjombhm7ToZAcI5GhhGI7ZjRwT36AXn8A5NhV45IuwcHeHauRvsPTzNlya5xPZOKiwqREZWZvP3YwnPwSU7JwcPPfQQysrLMXz4cOTk5qKqphoXTL0QHh4e1q0VpQl6iSds3iSjSzIzMxEQEABXZ2e4d+sJ14goWMTxQDliautQuTUeFuucAyyrrKdQEGcIONpnpe2gwriiKIqiKIpy3KEgzoYbGxIhISEoKCzCRWdmomeXalgaVAQ9Uijb+PvU4W8X52LY4D5wdm6Kk2sjjXEwU06OCTg5emDGjBn4/vvvERQchA4dIuDj543Txp2G6OjoZm93RVGaOhYpwtB+sjHf0Ks/GmK7NHUeHQfB9lSH+ejg5o6Acy9Cx1594ObiIvlNb9Dy8nKkpacdN29Qvic//uAj/Pzzz+IFvHH9egT4++P6v/xVOpOZVrnvimKFzyq9xptthHluiWt0JzgFh+jkvEcJezc3BJx3MQIvuwaOfv4m4/+wCWVlZTIyT2k7qDCuKIqiKIqiHFcqysuRtDtRPrPRFhsdA9O8h79XNdxcG0yDThv6Rwrz0MnRgk5RNbj9qhL4eDH0QtNvFFISTf7v2Hn8Y+XuDcWeTz75H1599VVUVVcjOrIjKiuqcPnlVyI2NlZFcUWxUt/QIN7C9AJtKcxa3D3Q6OLSJHipSHp0MPnbWFaK+v5DYAkKke+0m+INmpUlEwQfSyhqVlRU4LPPPsVnX3wGfz8/kwYLXF1cZbLq004b2yx4KkpLGKpuc0JTKA8+sxGh4Yju2BGe/uYZcjDvUxXGjwp2Dg5wCgo2S4hM2MsyayMnJxvJSRpnvC2h1lRRFEVRFEU5brCxtnPnTvz080/SkOD37Tt2SGiAJkGcHnBN2yqHjy0Pq6otmLu01jSWm4b52uBw64qKSuu3EwO9L6dPn4433ngdxUXF6BTXCanpaZh8zjno178fXF1drVsqilJaUoIfZ81CiflLu0n7mZ+XZ8pxuXQsquE8eoi3bXExHDJSYV9l7GSLvK2trTP3oNT67dhAj9/58+cb2/gmtm3bhqioKAQGBmDAwIEYNnwYPD09rVsqyh9QFE9ISJBnhjaC7NqdiOzcXNSZ51ZQO3H0oBhuFcRb1q+KCouQnZVj/aa0BVQYVxRFURRFUY4b4nVnGhKlpWXN3729vNT77ZhgQV29PeJ3BaC6lvnb1IBjXrMBTYHtREGvy/ff/wBvvvmmeMAGhwSL2NO3fz+ccebpcHVzs26pKAqhWMsY47SZXLp27iJludqUZZs4oxwd7Ey+Mma7S34O7CvKYWkhetGTOyc7y/rt6MPwF2vXrsPLr7yC9RvWIzYm1tjqYvTt1w9jxo6Bt7e3dUtF2RPaA05UzU5nm+MBJzZ3dHTQOtYxgpbX1lFJaJvZcZaXny/flbaBlg5FURRFURTluMFGg7u7u0wIyYYEv3NyKMZLlbAZKvAcNZiVdnb28PHxhr+//x55zjjF2dnZJ0QcZ9zcuXPn4u233xbvNjbYufTs1RO33XYb/H19Yd9CiFIUBVJ+fX39pPxy8THlxNnZGc5BIXD08YXF6iGqHDkUxhkioS62Cxo8PPeIy5yXl4P169dZvx1dKLovXLgQzz//PJYuXiKhpYLMuzGqYzRGjxmDDh06WLdUlD9De+Dn5yfvU9oIvvcplPv6+MDFGitfOXpIfcrYXeY5895WvyopLZG5CDjyQ2kbqDCuKIqiKIqiHFforVxQUCCNCHra5OTlihccG25mpXUr5UhhA83JsRH9u5ajQ0RTA7llw5gizPGeIIrekElJSfjxxx+xu0Wc+W7duuL666/HkMGDYe/gIOvbC7wn7CywlYdaa2O6prZW1vOv7TdO6lVaWioNbuYlPQOLi4ulTNHzPj09Q+5pcnIyUlJSTF4nY7fJb8Zy53Zc+DuXxMREpKamyT4ZZuF92bFjhyzc37Z9UVGRHDsjI0PKbXY2j1Uizw8XejGzg4Ux4rl9ZmYWys16pp3b5+bmSjqZfsLtuZ2tU4bX1PK53Be2/W3wu20d92dnD+F5SX1DvfwlXMcY3a1hy38ey3Yc5ifzV/LfetwTDe95ZtYf8cXz8vNQY/LcJSwCTv6BKowfdSywDB0DS1Bo83uJNrW6usaUn2L5fjRhOLFVq1bhv889h2+/nS7r3N09ENEhAtdeey169Ogh6xRlX9BG5Fs9lfmsUqylDa4x9oxdzVynHD2aOtCC4eLhAXu7JmmV9Rm+M3gfTpZ3h3Jg7MzLX1sfiqIoiqIoynGBDbcZM2bgkksukQYEvSBjYmLMXye893QgRgx2Q+MfepZyxFhQXdOAs65Kxur16WhoqJPGMUW/qVOn4plnnkHnzp2t2x472OTgOeM3xuOHWbPwv/99IkIsGTlyJP5x770YOWqUPA+M4csGPWMnUyyi+NfQwInEZHNzHIrF+29w8jljo7SlEMDPgQGB6NK1i5yHHM7knrwOHp8x0Cnq2s7h5eUlsdvZAcFnmwI2RYlakw5Hs07SY7Zj66uyqlLEYtuwd+7HtNjbNw159/BwR2ZWNpydHEUop9coz1NSXAJ7B3sEB4fAzc0VhQWFIpDWmTRlZWaJaOru7oaU1FQ5ToPJq8bGBtney8tTzuHn6yvCdXx8PAIDg6RDijGqCwrzUVTcJPh5eXpKuSQ8JoV03gM/P1+T1ir4mmPwPIQjQCiee5rrLzZ/C0yaunTtCneTvt27d5vrrkVQUCBCQ8MQEOCPvLw8pFrTx3OkpaUhJCRE8tPFLD7sJHN2QVV1lZyX123LT+YXv/N54l8+J9KhZmD+8voovHt4eKDRpJd5xX3z8vLlmeG1+/j4wM3VTURvi/nH2Lv08OMEh07meEwvbxS/c1uOumB85xMNOycefOABfPX11/L8Me9yzTrvG29H6PW3wMk82zYBVzly+IyVb1iDlEfukr8O5tniM8PRTdddfS3+89yz1i2PDuyQevrpZ/DRRx+KfeLz3bNnTzz77LMYO3Zs83Pe1mCeEZZDXhOhTXM2Zbk1mO+0ObZyb8PWcfXH5yabzjAhtuPa9rN9bwl/azCLk/U+EuYzP9vStr/92wK0l59++inuueceySs+M7SLYV26IfjJF+A8crx5gakX89HCYp6dioSN2HXLNahJ2gV782wRqV9deCE+/PBDCRWonPyoMK4oiqIoiqIcN+gl+tlnn+Guu+6SBikbbkFBFOfc8OGzIRg+yFWF8aNMeUU9hp63DjsSS02Dv0lQZMPtrLPOwhNP/BPDhg21bnns4PkYNuXZZ/6Dn37+GY2WRhGSg4KCcd111+Kyyy7DokWL4evrg9zcPHh6esgEYsnJScjJykZZWbl5Xhrh5OCIqtpqpGek71e8sHlG27Zhk4ei6sjhI/DAQw+KJ2ZtbY0In4xtvq9jUXhl2imY2KAHNIXsqMhIk8btIrhSYOndqxd2JSZKaCAHRyesW7sGSxYvQWF+Pjy9PZGfVyDnaWy0ICMrAympKfD3898j3jsF3dDQUBEzKITammrh4eGSljDzW4B/ILy9veDu4S7XmZKcgnUb1iMiIkLEZXqK790pQHgNvNb+ffuZ82ciPS0NwSEhclxuSxGf6dhXXhCmp+l3iwhTe8PfeDwRbU0+MX08L/ejmM5ro8DNGPNEjte0o3wOM9cZFxMrYkJ2To7EWGYehYaFisc600fxm+cICQ6Bh3lOeK28Ll8fX/GoJq4uroiOikKa2aeiskLOx3vGexNhzhEcGCyiODsEmL6k1GT06tlD0hdqfnf34PF80KlTJ+lMCQoOknS6ubk15w9tl03APB6kmvt66y23YtGSxXIt0dHRIox73XAbwv5yqwrjRxk+j7lffYyCd19B5c7taLQ+o3z2zj//fHzxxRfWLY8MHpO26uuvv8Zjjz0mnqZ8rjp27ChzMAw3NsvFxVnel7RFtk5CPrf8zjteX0exk5/+eBYbrNuyc4i2j88rR2bx2AcLz8n0cWG5s4nIPDefQX5nftCGEXbYcOH2TA7tvGxn0mLrWOD58/ILEBvT0WwHsQfcn+WIC8szj8Ht2OnGa+Rf2hKem+srzDHpue/k6CA2nKEsuB3zju8VHoe2kNuzc5XwuLS9/n60E1lSltnJwd/Zmcbv/Mvr5PkkccJe5dt85XYOkhYKoX/kO20K/2Ncb0Lxv6V94Jbcj/Aavcz94Lm4HA07kpaejldffRVvvP66HJ82It2scz/7AkTcei/cO3fng2PdWjlSRBjfvAFpd9+Eih1bxUbwPvJZPOfcc/HOO+8iNCTYurVyMqPCuKIoiqIoinLcoLfpjz/9hHvuvks8R8PCwkS0CguPwGcvRqowfgyoqGzAOTekY8XqZNNga5q8jw03emg//PDDmDhhgnXLYwObGxQ1brv17+be/4jKqipMnjwJZ5x+Bvr264/evXuBXrorVqwQwSUnJxu5ZknenYyErVtQUlraLLJSXKUISpH0QEICz2vbxtbkoagSFRUlIhGFZ4ohFFX2bhLxO0WVDmERyCvIkzAhtmMxjZ4eHggLCROxJT0rQ9ZHR3VEbn4e/H39xCN7566d4kndWjpbOx/Ze1uub3ne4OBgdIprEmszMtKxcVO8iOmE3uEMu0BxiF7ovMe2fSlIEX6n8MPfWh7bxt7pagn34/a2YzEvmSYu/EyYZyzT0VHRKCgsQFJyknjVEwpYXCjAOzjYPEGbvEKZnkZz3D59+ojAXVBUKGFa6CE/ZBDD69jDydEJa9atgaOzEzpGRsHNxQ25ebkoKimW8zPtTk5NXvcRoeHoEBWBTZs2y/nzzTmDg4JNvgUgMztLroULxaOmZy5H8nbQoEEYNHCQeI6XlpXKOe3sTRqZb05O6NWrl3icMs2xsbESw3fvPDxW0Mv+9r/fhi3btkrnB0X8ApNu35vvVI/xYwCfJwrjdjM+R0H8BpSa59H2/NODm7HAjxQ+e1lZ2Xjv/ffw5htviL2gTWKZvu/++3Heueei2thGTrBK8Zx2j52E9uaZpO1hGWN68o19tFgaWcDluOzwKTH2srSk3BzLDaERYejatRsmTpwIH28f8yw7NpdfXiefZy4tv7Ns0ObymkvNOTtEhKOsvEJGsbCDavnvv8vv7Gjatn27lN9c8zzmZOWgjl7J5lH08/eVY5YWl6GiuhI5uTlS7mjDhw0dgmyzbeLu3didtFsEap6b57WVKX5nOhlbnfaanegUkfk+sHUm8li0OcwP1iW4rc0e8TicS4PnpAgeGhoCP2Off509W0Tj2OgYBAYFYNPmBHi6e5jFU8Rtbk/BnzA9/M60MK/5e77Jd25Pe8brpCc6k+xgbA9tWXJaiuwXbtLl5dHkMczfeYvczf3w8fVBVVW1TDbdu3dvWXg+5jvTzoWfDxV2JtJjnM8SnxV2ljJPPKdMFWHcrUsPvgysWytHik0Yr/nPI8hcswJVpqzymeMzcOaZZ+Lll19B9+7drFsrJzMqjCuKoiiKoijHDTakP/nkE/EYZwOCC6ujkVEd8flLURg20EWF8aMMPcYHTVmNXUkUVJrEAjbcjocwzntLj8FFixbhxhtvRFZmJgb0G4Crr7tGwgQQihoUGVvC9C1YsABvmAb+6tWrUVFeTv2hWTiwiSc2kbYlNnGHvxPb55YL13E7Ho+Lbf3e8Fzcdu/zcB9LY9MxGhqbvChjY2IkPjo/U2ilkMV9+V2EFbM9HQtt5+c12tJ2MNi2pYBLz2eKaEzXeeedC18/f2yJ3yy/BwT6Y9uOHeKhT5HNlh7C7xRUGb6Ead/73LZz2OKl2tJLbB7pFJrYscCwKLZY4/Rot23HYzNdkkfmeDwP4ecQk/ZhQ4chKDhQ1nGfwOAQJO7YZfLaDpHRHeHh4dnssblj+zaz3hHOLs44bew48XD/9defkZebi927k5BqzkXPbldXN/Ocl2PAgP4Sa7sgrxBBIYEoyC8Uz/pQ84yZAyI7M0vWeft4IzouFgmbNnM1uvfqIXlD8Zz3payiDB7uHiLSU7Dy9/eTZyHIpJXXFRISDDeTF0y/7bqPJcy7tNRU8Rj/bcF8EQGZjgaKb3c8oML4MYB5njf9U2S//hyqd+2gMZB7zefjaAnjRUXFePTRR/Hee+/Kcbt164YLLpiKXFPGnvzXU1i/foN5xlOxxTyn202Z3mbKAzuUmQ56P4sYbmBa94brbAuF9u7du6N/v34oNM9/UEgQQkyZKDXv4+rqKvj4+sHLlKPyslIR4b29fZCfl2uOYuxJUBC2JWzFoMGD4eDkgJzsLGxJ2IK169Yh16TF0eSLzT7yXLbyTmxlw7aeZSkuLk5E8T59+2PposXYvnMHqqorERQYLIL3DvPdVq64X2ufeSx+J/xuszVcbDZ7723ZqUrbSe90dizRi56dpMxPm8e6lClzLVEdImW+C9o/iv4RYRHye0Z2pmwr7y6T/9LBYPYpLiqBq5ursU9BEpopw9gZ3je+p/r26W0O0/TeIi4urujdt490yHId84TvB8KOO9o4vhM5KuhQoT186aWX8Pprr8l1267ff+qlKowfA2zCeNLtf0HVru172IhRpn71zDP/wciRI6xbKyczKowriqIoiqIoxw2KeR9//LEI42yEEjYkoqI64lP1GD8mnEiPcXoBUhS/5ZZbmgVTCgEMtdE5rhPCI8JFBOjWo6eIJRRwKGCQDRs24P1330NJSTE8vTxQVFgCf4bCiIjAmtWr4e3jhXXr15tjNgkANjGEHtPsgLGJJYQiCD0Jbc8cvekocNADkV5/jKkt4TWs29MrkMei0MF9ExK2mO+M2V0PV3c3EaYp2FMk5j487sgRI5vCAlRXiRjBdNA7moI546jnZuc2xQc3x8zLyceyFcvF69GWptZgGmzwPIzFzXvH9RSp6Q1I0TYyMkrWdwiPEG9GeoxTlOGxuS3LHdNm86bktq3BdHt7eSMkKFjCIDg6OCI4NIgJQVFBkXg60iubx2xKgxu8zf3ieXhfu3XtCobCyc7JRkx0tOQt7wVhiAPeWwp0TAMFNR6DnQn1dSY95lK53pZmwmsgTedyFQGpqKhQvGb5mfeGnpcMjVBbU40uXbrwMOLxzXQyzjgnSOO95nEp6NOzVSZNM/syJAJh2iUtZj3zmfnAz1yYMJuHO9PK4zOdtjQeD5imHdu345677sHc+fOan4FG81eF8WMD87wyYSOSH7wD5etW7hE/+GgI43zGGD7qqaeexPz582W0wq23/h1xcbEi2NIu8vmnzeRzWlBYKILnrFmzpGOEtqfp+WxK6/7gs8Lnnc85j8fnlwvTwH1tz3rLZ59/bWWC52fZ4feGhnrzvWkOB9s2Ng6UDh6L5dbV1cWkxUU6Tfv17YcAduxt24LS8jJzkKZwVdyW7OuYtvPyd37mX16TzUuaIjhtBuHvHDnCzkrCPOD2/H3wwEEoLC6SdxU77uqMLeJoEYZj4jwOtId5Bfno2CEKXXt2x2LzPmNnIAX10tISY9P8ZOSIu5s7gs37JD0zQ47Pe8cwJuy84PwKPL63pxcGDhwoHYO0QbwfPXv2lo42Xq+ffwAijY2mKG67/kOBc0u8+OKL8pzY4HWqMH5soDBevnkDdv/9OlTv3rmHjaAwzjkDRo0aKeuUkxsVxhVFURRFUZTjRmZmFt5++208+eQ/peHHhd6mbqZR+cF/QjCcHuMNx09wag/sK8b4iJEjRRifNHGidcujD8/DCRj//a+nRBiYPWeuCKXOLi5wdXYWYcDe0QFhoWGYNvVCXHP99YgID5M0cvvCggI0WgUPHouhLRzM9hnpGcjOyTKfnVFSXCQiSGJiouxH8djJyawvLRFBh4JFeXkZQsw5OCEkQxP4eHs1C6s2kYifKco0Yx5DruMxKeDYmX8UzAmFD4o3PH5lVTWKCgvh4e4uMWMphthEGE542X/AQAm9QnG2wqSDE1Pu3LETP//8o/m7S47BcxB6gVIUiY6LEW/Ort16iGhiE7FYVihIMb5uk/DjImmktzN/Z37y794w77gfxS0ey3a+1pC8MPlMuJnki/lLT0jGCWYYB8JWpMTZtYoBPCbTwclR6+pqRXTisXhuws9cmIYjgc1XXiNtB8/J78xD/rUJ3Htfny1PDkdsOhng9a1cuQp///ut2LJli1wPBcAC8wz6WUOpOPoHiGivHB34PBXMmo6MF/+N6p3b9hC9xowZIx1+R8K306fj9TfeMPd1pZRNjpLo2qUrTh8/HqNGj0ZKShKuvOrqpnAdBobS+fjDj2TeAsbNLywqRHiYsQfGFqxau1qE2H0933tLPnt/JzwPyzo79FiORJwPDhUvaXZq9urRUyb55bnZoUf7xpBOfXv3kdApqelp0uHIZ7Nl+eO5uM7W6Um7yQ668JAwrNu4XkKxeHh6GtvcZDuSU5NRXlYuHtUMn3IgeHzaGoZK4fZMuy3kCtPBc0d37CidsMWFRaisqEJAkL/JKwcEh4Zi8ODBkob6hka4GtvEiY/5bmBe0r4xhBLzlsd1M8fke6ayolI6OTnZMMOocK4Mvlto5/m+ItyH5+ZxeDw+N87mvUT7TjvIrRiiice0vWe4nuc5XDu1c+dO/POJx/HlV1/L8fi+4Gghr3MuRLjGGD/q2DzGd992PaoTd8CuhY0444wz8NJLL6Nnzx6yTjm5UWFcURRFURRFOW5QYPz+++/FY5weV2wIMtZnXl4Bpr/VCeNH+anH+FGGHuMTr03CmvXpaGhoCkEiDbczz8QTjz+BESOGW7c8+rCpQVHP5i3OhvsnH32C2XN+RWlZWbOAQuGAnnITJk7ErbfeKiEF9icOMP18liiy8vgURuglTSiIMPwGxVkKEzw2RQqK5fT85TqKD0eCTewhvC7GSKdnII9LAZznEyHEfGdYAnpfmw1kPWPi2jwOK8ormo/TBIfnO8mkkvW1nJyNYUKaPDUJj8dz00ueE/Lx2pRTHz4jLDtPPPG4COTsfImMjERedhaczjoHEbfcA4+efdUb9CjCcsYY41mvP4fapEQRvWy245xzzpHJMo+E11971bwLZ2HDhvXIy8+XMs4OKYq6FIWrqioxYuQI3HTTzeJNTvvGDjXaTQf7pjBSTGPClq0iUnPi4uTkZGMv3MQu0uuZVoMjNZhm2sXS0jIJgcRwSnz3siOL8Fj8TIGWtokde/zr4uwiHtAU5SM7RIrNzaZQnpou9qxXn97SqVlp0hodE4sP338Py5Ytb4oxboXnjQiPQJSx74EMNWJsYAdzLE6AzGtm3O/AoGARiWnmJOKU+cuJKxnyhO8BHx9fEaLNKU2amrzeOSKEtpQ2kMfheWh7mSc2UZzwO0V5LhzxQ/GdoZn4O98bzB/+RlGMe9iOty+aBG921trLKBx+9/H1lbkHmKcnEr5TvvziC/z3ueekA4J1K757A2LjEPLEC3AcOQ52Le6NcmTsTxhnjHFOhNq1a1dZp5zcqDCuKIqiKIqiHDc4BHvOnDm4447bmxu9bLylpKZh1gc9ceZpQWis0+rp0aSyqhEX/C0by1YkoqamKaQEG24XXHAB/v3vf4sIfbxg02NT/CYkJGzGzz/9jNmzZ8swdfGgM7/R64+i0/nnn4/x48eLwKEoSlPs9gfvf0AmXKVITm/Q/Nwc2A8bg4jbH4DP4OGwmHKtHB1oj/K+/kSE8Zrdu5qFcYqpU6dOxf/+9z/rlofHpk2bxOM4Ny8f88w78YcfZiEz+w8PaYqzFGz79u2Lv//9Npxx+nh4ejXFnaa95O/sFKSHN206hW2GTKKwy4Ve6MQ2SoSiN9dxO4rB3H9fQi6PSyGeeUCxmQs7Fps6JCukQ8/R0UFCW/EYXM/Y2AnmmlLNu5zx/rkv08Xz0xvd38+/qZPPmla+5RnH393dzXx3R31DvQjTHE1EkZxQnLcJ2AxlxRE7DMFkE6b3lf7jBa+b13kgMf14wdBdM2bMwAsvvCCe7cxn6UA2eRX92ifwOmcah/5Yt1aOFFsolcRbr0VN0q49RpWce+65ePfdd2Vkl3Ly4/C4wfpZURRFURRFUY4pbKStWrUK338/UxrpbDjTO66ktBSXnR+EuGgPWOcTU44SdfUWfP1zBVLTC8H4sGzAU+AZOnSoCDxsPB8veO6Q0BD07t1b4kFT6GE8anq6ET4TSUlJIvz1799fPBv5jChKe6ekuBgzvpuBnbt2iWBIu8lJae06xsJ72Gi4hkVQzbVurRwNKrZuQtmqZWgoKhRBl57KjCc9ftw4jD/9dOtWhwc9w9kp3KNHd3Tv3g0dIiPlnvIFmJObK6IvvZHprc1Jbt083BEeFibhSGgTuVDspujs7e0tdpxp4+/8zmNx4Wd6VrOTkYI4t7Ptvy94bm7Hfbg/51TgcXl8hqriaAWG8rGdj38pgHN9r169MGDAAFlow/v06SO2PjIqEmHhTXNKsAM0yCxMO8/h7OwkYUx4DIrMPL8tDRTFm8R+B/nLdPO3/aX/eGFLy8kgihN2jDBePcP8sK7F9ynvHTsyvCadB48evanaNrnkK0eOsbf1ebmwX7UEtfm5ElbHVr/is3/55ZfL86Gc/GgtU1EURVEURTmu1NbWNE/IR28rfqaHjSNrpnYW1XaOMi3zmI02ficUVeiReKLo1bsX/vZ/f8MDDzyAqRdcgNDgpokl2bhfunSpTCLGYfn0VlQUpSnkBcNmUHhhnOfaujo452bBsagAFjtt2h9VjJ10SkuGA72frasIhVyG/zhSWgq7cZ064a83/FXmfLjrrrtx+ulnyD3mQmFt1aqVEpaB4Vs46aai7AvaBL5DCZ8xvvPpgV9fVIgG8yyrKH70sJjyWZOVDovJc5uyaqtfMd9Zx1LaBvr2VBRFURRFUY4bjH8aFhYOd4+mEBls+NNbmLE/tyV7oKjYCXb2qowfDWwdDPb2jcjPzxPvQ8J4s35WL78T7XXHYcZXX301nn32Wdx0000YNWpUk3hvfvvuu29lota5c+dg165dzTHEFaU94mTKbUSHDiKUUnxh2ITauno07NyGhvQUFnTrlspRwdghl8RtcCgrhcXkLd9Vbub9xYkjg4OPXBjfG3pDMx7x5VdcgYcfeRjTpk1Dx6iO8htjWa9ZvRrvvfcevv3uO2Tn5Mh6RWkJRwbExsRavzXB+lWtqV/V0aPZPMsqjB89LI0NqErZjdyMdHCeEcJyzFER0TEx8l1pG2goFUVRFEVRFOW4wbigZaaRv3DBIvEEpocwYVvN3m0w+nZ1RnhwJSwWFXmOFDs7C+rq7ZCw0w6fz0xHWTnjoTaie/fuGDVyJM484wwZ9n4yQJF+9JjRkjaK4FT1IyI6oKqyCtt3bEdCwhbz7DjKMH5OZKmeWEp7gx1GFLgWzF+A6upqWceOrcrqGrgNHwPvEaM5M6AKX0cBdjw0lJehfu5PKElKRI3JV3ZI9O7ZC5dfdgVOP+N0CSFyLOB5GGLlDGOfnYzNq7HG+2bcb3qL5+TkykgfL0/P5rAqikLY6c3nhBOc00bwOZbno7ER3qPHw7PvINi7ulq3Vo6YhnpUL56H8o3r0FhdZeomFgkbNO2iiyTGOEMLKW0DFcYVRVEURVGU4wqF8W1bt6KouAhlZWXSeAPsJH7qaUPs0SGUAq6KO0cK9bHiMuAfzwJbtqZJfHE2kq+88ipcc+016Nmrl8ScPVlg2jihIGP3+vv5wtvTGyNHj0ZWZha+/e5bpKSkNgnijRTNI2QfioWK0h7gs85l+fLlyM3NkbAqgrGfXgOHwbP/YNhpPNujAifVq9q5DdULfkVpWqqEp+B8B9MumoYrr7pS7M+xFqQZX3vEyJEYaRaKnDnZOSgtK4WPlzfKSsqwbv1a+PkHwN1sx9jcKpArMtrKvB937dyJHTt37GEjvHv0hkevfrD38TO1LR2VdzSw1FSj9rX/oDQ1GfWNjVIGr7nmGtz8t7/JyBKWYaVtoMK4oiiKoiiKclxxcXUVL7ivvvoKTo5OaGhsarxx0sXTR7igVy9vNOr8UEcM86+8ohHvfJGJrOwCCQXA0CVsuJ1++unidXiyTQzFhr2vjw8GDRqM3n37oVv3bigqLMKObduxfsN6rFu7Fp4enuJdzkaoCuNKe4HPu5OTI5YtXoLklGRrhyIkzq2dkxNcOkTBpWMc7KzrlSPA5GF9fg7SvvkMVdlZIiMOHzFCOhU5qoXhEo6H7eE95mgantvDzQ3pGRmIiY1Bl25dMWfOHHw7fbrYcE6QyU5OdhyqTWzfcERVcUkJFi9eLO98wufXPS0JHp27wbHPAJ2A8yjRWFuDXa8/j9qiQsljTqh7ySWXYPTo0dJhpWWx7aDdioqiKIqiKMpxhY0FCgv0chsyaLD85TqKALV1dqhvoGekijtHTlOesnHMv1worlXX1CIpKRmZmZnW7U4e+BxwodjTISJcvK7OO/889B84QNbl5OZgQ/wGVFZWWvdQlPaBrWwwXEKHiAh07Nix2XZS6OIEcPJZOXJoL2trpNPB9iby9/OXEU6bNm06bvlsu+c+3t7464034LPPPsMdd9whYbCuuOJK+e3f//43pkyZggUL/gixo7Rf6hsaUFZehqioSLNESWcJ3/u5+XkoLiyUZ9s8ONatlcNF6lZ1tU11K+u68NAwVFdWITU1VesobQwVxhVFURRFUZTjiru7u0wyxnjRa9evQ01NjQxNd3NzwXfzA7E23gd2DiqMHw04lDo9La05lntocAgiO0QgJiZawpacrFDwYWPewSyxsbG48qqrMGnSJJx11lkySScnGVOU9gaF8LHjTkNRURFSUlJknoaQsDA47tyC0hVLGKDauqVyRNTXwfLR60BWOuyMDSKenh7o1asnevbsKd+PJ7SHrq6u8t5kaJXBg4ega7dusp4CHJ+H+E2bVIxTZOTAiOEjxPkgKytLYo5zMkh38/xUZaSiLjvLuqVyJDRWViD/28/RUFEOdjNQIPfz90Nc507SIcF6rtJ2UGFcURRFURRFOa5Q8AwMCETHDlGormmaICovL08acOvjk7E7KadZjFAODzqFEWZjXV2d5DEJCg6SYff0Om0rE1iygT/utNPw4osv4qWXXsJp5jOfIYpCitKeYFmIjIoUD0XaS0JRtKSwELWZ6bIoR4mS4j1CTjBMAr30T2TcYNtIK29vL/Tt0xtjxo6VEUG0h/0HDIC7u4d1S6W94mLe7ez45vvR9u4vKChAVXUNapISUZ26GxZ77UA7IlifMgsn6G2ubBmiY2LERti89JW2g94tRVEURVEU5bjDRgM94GyTmNmGgGdlpqKwMA9wYBgQWaUcBvb2FmTm1OPB/xaisropIymgxMTGwT/AX763JeghHhcXh06dOqknltJusXdwQGBQkNhMTgZJkZYjbuqNsbSsXYHGn7+FRb3Gj4jG+npUJe9GZlqaTLpJuxnVIRKRER1EZDwZoOgZHR2N+/7xD0yfPh1vv/02hg5uCkumtG/4bNg6vTkqjJ9Zv2K08fJVy1G++nfYOTruIegqh4jJ48bqKhT/+gMaKivku5+fn3iK0/FAaXuoMK4oiqIoiqIcd9w93NG7bx9psHFCSHowk7q6Gizf6IlN23xh79A0cZRy6LBxXFJai+9np6C2tsmjcPDgwZhy9tkIDzt5Q6goirJvGFooIjwcISGhIojTI5RlneW7PC0FRZs3wt7RSUWvw4UdDCZPyzasQXlRIRqs8zNcMHUqJkycIPl8skARvFu3bphq0jZt2jQR5uztdRSN0vRsDBkyROxDYGCgOCFQvK0rLkR18i7Um2eb35XDwNiDRpOv1SnJJi93w8L5HczqM888SyY152S5SttDhXFFURRFURTluEOvmlGjR8lkZuLN1NgkglN4mL80E4uWZcLOWb3GDwfJM3s7ODk2orqqzHxvEndGjhyFvn37qMe1orRRaB9pO/v06SXzBtjCqVAcr2loQHFqMio2rVfR63BhvtXXwWHFIthzFJP5Tq/8wUMGIzYuTkKZnIywY5nPgKIQCuGjRo+WOQgqKiqa61ekYeNaNCyex7g81jXKIWHKWWNVJco3GztrrZ8yf/v27Yvu3bs3dUIobQ4VxhVFURRFUZTjDj2aunTpIkNPS0tLJVQGh/yycZ+dlYIlK3OxM8kHdvaqjB8qzLOcvHp8N6fSNNjsJE8ppg0fPhw+vr7WrRRFaYs4ODhg0sRJ8PHxEbvp6uIqHV/2ppxXbd8iE8LhJPJsbjOYPLQ0NKAuJwsV61ej0Tr/xdChQyVsiaK0FVi/6te3r3iLszPNFgKIc7dUbd2E0kVzUL9XfGzlIGB+mTxsKCuRMCqW+lqpX4WHhZn6bGd1OmjD6BtTURRFURRFOe6wMcFG23nnnieNCXq8tRymvibBHnOXWGDvSG9n60rlgEi7zdEOyanVePbNTNQ3WERIGzBgAAYNHiRCmqIobRd6LY8//XR07tQZXl5esHdoEr7sTDmvzctF+erlInrZxDDlIGBemXcSxfCy+LXIzc01trNB8nDy5MniCaoobQXaiJiYGAmfxtAerG/xWWYdq6K2DoWbN6L+90WmsqDzERwSzEdjF2qyMlH2+2IJo8I8HTv2NPTr1++ETsyrHBkqjCuKoiiKoignBAriF067UGKjlpSUSGgAwoZGVmYa1m1MRHa+h2mLqMBzsDCvSsvssS2xHkVFudIYZiP57ClT4Kve4orS5qF9pM08ffx4EXQZjorCF+H/G4sLUbN8kXxXDhIKXo2N0rFQsmiehFNhnrLjoUePHho3WGlz8L1/7nnnobKSI8caZUSedKAZ+1G/LQGVM79CQ3XTqAjlIGA+mbxrLCpArXQqNEmpzL9xxhYHBgbJd6VtosK4oiiKoiiKckJgQ61r164yVL1H9+5wc3WTRgaFn6rKUvy2tBSfznRTYfwgkbxzBDYmNOClj+pMPjZNyscwKiNGjISXeosryikBRdtxp5+OmNhYGQXCETciejk4oDEtGTWfvIX6gnwRe5UDQMHL5GdjaSkqF8xG0Y/fobGmRn46bcxpEu5LUdoarF+dNnas2IhYq52gQM46QVl1NbJ2bEPN+pXWrZUDQhtRV4faTetR89l7QEOD2GF2Ug4ZMhi+vj7WDZW2iArjiqIoiqIoygmDsTDvvPNO9O83QIah2ob8MvxHSspuzJm7EJXV9HSy7qDsE+ZdVa0ddiRmY2P8eslHxh8+68yzEBPdUTzIFEVp+7CsDx06BJMmTML4seMQ2SHS+gtQXVOLlE3xyPniAzRaJ+eEbZY45c/wnWOWxpRE1H34erPgJSOaLroQHTt2tG6oKG0HPsMc6XDDDTdg6OAh8HDn6Lum+hW9xhsTd6Luk7dhqauVdcq+kfwxddLqxO3InP4ZMrKyZD0n2rz00ksRHBws35W2iwrjiqIoiqIoygmD3kv0yPP09EBERIR4N/+BBTtSnPDOt8HacDsI7JyAWbPL8eRrhaYB3JRffv5+uOeee5rjjCqK0vZhWabtHD1mNDy8PODo5IigoKAmO2l+qyvMQ8E3n6KxssJqO7Xs7xOTX43FRSjeuA7pqSmSX+xEnHrBBRgzZoyEU1GUtobNRvTu1Uu8mkNDQ+Wv7bcqYxvStm9F5eaNEjdb2TdNHQqAY3oKXNb+3mwjOOLxpptuUmH8FECFcUVRFEVRFOWEwYYbJ+G88KJpGDhwIIYOGoKoyKjmIb/pGdn4buYcmURSxfEDYBpvOXnFSEtr8mZiTPGpF5yP6Jho8cBXFOXUYsjQIRg3fhx69eiJAD9/sZFNIo4F9YUFyJv+KRoqykXUUVrH4uCIxu0JqP/sbTRYBUKGobjokksRFhYm+akobRE+u7169cKZEyagf7/+MiEnxXGpS5k6QdXunUh5/F5Yamu0frU/TF5VbtmI9B+mIyczQ1ZxhOOUKVPEoYN1VaVto3dQURRFURRFOWGw4UbPm86dOyMuLhaZOZnIzMqUhkaTwFOPzduKceeT+aitY8ONAnnTvkoTzA97J+Cr78vx9ufFaGysF2GnZ8+euP76vzSHqFEU5dSCQ/m7d+8JD09PFBUXybomcdxeBPG8T95F5eYNsNTVNBkK5U80lBShaPNG5GzfLt+Zp9dcey0GDugvob4Upa3C9z7nH+jZq5d4NZcWl8hE51zPpbG+HjXJicj//ms01lRb91L2gPbU1KcqNqxF4ewfUd9okfpVp06dcPXVV8uIEq1ftX1UGFcURVEURVFOOAz1MWLkSLi7e0ijg97O9N5jg6OsvAYzfknDSx85o6yCDToVeFpi79CIpeuD8Nn39di6I1fWsRF82WWXo0vXruotriinMH369DZLH2M3naUTjCNwhMZG1KanIPWpB1GbmwM4Oqk43hLmhYsrLJvWo27mF6iur5cOWcYU/+tf/iL5qIKXcioQFhqC7j26w9XDXYRy1rekfmWe9/ryMuR8+CaqdmyVySXVRrSAeWHsakVCPEqXL0RDWamMZqTX/S233ILIyEitX50iqDCuKIqiKIqinFAoPlAM79u3LwYPGmwacWHw8fGRhd6PTk4OcHRywaffbpXGnL19U6gApUkUt3N3wNz5u7B0xS40NtQiPDwcV1xxBc4//zzxeFRxR1FOXTgvw4CBA8V+hoeFoUN4h+aQICz7nlmpqH/7BTSmJas4boN54OqGhuULUPz2iyjcvBFOzs4SM/jBBx9E9+7ddbJi5ZSBYviw4cMwdvRYdOBcLqZuZYs3TlnXp6QQ2S/8C/UcdcLnXm1EsyheuW0zcj56E6VLFqDRrGas9htvvAnnnHOOiuKnEA6PG6yfFUVRFEVRFOWEQRGXnky1dbVwNA0OZ2cnZGRkmsaHozRAcvNyUFnVgMF9veHh4UiHSLRnzbfRtNtWxPvj65kZ+HJGAlLTi6UBPHz4CNx2+20SnkZFcUU59WEoFXd3d9TW1sJCw2hgaBWWfxdXV1Rs3ojG4BA4x3WGg7uHbNNubQMFL2cXEcUL33ge2Yvmoby2ToTCC6dNE09Q7VBUTjXYgRYUFIiKikrUVNeY590XaWlpUrdiJ1DJ1s3wdnKAS48+sPPyBti51p7LgL0DKnckIPeTd1E0azpq83NNvdMD48eNx7333iOxxdVGnDqoMK4oiqIoiqKcNHTo0ME04LyQk5uDgvwC1NXVo6S0BFVVVSKEL19TLA26Hp3d4OFu167FcQcHC175nz1efJuieKGsY2Nt2rRpmDx5MpydnGSdoiinNhTFO3SIQG1NHbZt3SodjIXFRaiurkZlZSUqampQm58DBw8vOIdHmr8eEmqlXRpPR0dUpSaj8PXnkPfrLFTUcxSSvXiJ33nXXYiOjtbJ9JRTDj7TYeFhIoIXFRairrbW1LNyxUawfsWwKo1bN8HF/O4U0wl23r7GRrRPcdwCOzSUFiHn/TeQP+NLNOTnibd4XFwcbrrxRowcOVJEcRXGTx3U4iuKoiiKoignFd2790C3bt3FU5xefJ6entKoYyPEwcEO/307E598W4y8wgY4OLavyTibrpWT6wHrEhyxas0mVFcVy2/0CBs3bhwmTZoID3d3WacoSvuAtnLosCHo2q2rdCbavJ6b7KYDKjdtRPaHb6J0+SJY6usBO3ubQWk/mGuuSU9F5cwvUbB+NSpMPjAsV1hYGKZddBGGDhmiYpdyymJvnn/OR9B/QH9UVlbJCDM+76xfsRwUlJYh+60XUTJ7Fuorytj7LuvbE7za+rISVGyOR8mi31BPUdzkUWBgECZOnIjTzzhDOhfUTpxaqMe4oiiKoiiKclLBCeTCwsKRm5eLxUsWyffyinLY8Z9pjFRVlWPlxjqEBvmgc6wL3FwtsDTyN+sBTkHYNuWkow72ptHWYMGaTbV48rVq/L460eRHBby8vDDJNNpuueX/MHjwYOteiqK0JzhhZHBICH7+5RdkZWahpqZG1ouIYxa7wnzYNdTDISwSTsEhsHNoPzFyKXjVZmcg57P30Dh7Fmoy01FdWysdChdddBHuv/9+edeo4KWcytDRgM/59h3bkZCwRTzGie25p2d0dWkJ7H394BIRBXtnZ1sFRH4/JbFeH21EQ0kxapb8hqLF81Cxab1MTsqY7LQRt99+u0zOq5x6qDCuKIqiKIqinHQwliMFi+KiIqxZswYN9X9MJkfq62uQmhOIAB8vxERb4OJEz/FTUxy3ieJ19fYoKHFGeg5w80OZWL5yE2pqqiVP6CV+7733SnxxRVHaL/QC9fcLQF1NLZJTklFXVyfr6fkZGByMhqSdKM9Ig0tsJzgFBksIhVMSm9hl/jYaO1lv3iUFs75BHmMG79qB2vp6ec9cfPHFeOihhxAcFGTdUVFObTw8vSTsGsOpxG/aJGXE5hkeEhqKuvRUVKQmw8HYEdeOMbBztE7IeepWsGBpaEBdYT6qd25D9cv/Ru5vv6K2tEQmhj/n3HNx2223oVevXtadlFMNFcYVRVEURVGUk5KQkBDExsQiaddupKSk7NF449B3+jZt3mkHZ0c39OhigZMD2zinljjO6+X1cB6shN0ueOXzUCxe64TdSZkoKiqSbRj38o477sQZZ5xhtj0FG66Kohw0rq6u6BAZCRhTkJSUhPz8fGM/GsQ2lJeXw9PbG3ZZaSjcvhUe3XvBKSCIAYi5+amDTewyfxvLy1C5+ncUz/kRdSVFqNq6CQ1mnZOzMy688ELcddfd6NSpk9pOpd3g6OiA8PBwhJll1apVyMnJaa5blZWVwT8gAPXZmShO3AEn/wC4Mub4qTa6xGojxE7U16MuJQkFM74AnJyQNms66kpLJQTV4IGDcOutt2L06NFqI05hVBhXFEVRFEVRTjrYAOESEBiALl27YMmSJSgsLGxuvHFCueLiYmRmZWBnij2cnQLRp0c9HE8x70fmQSMsWLnBAU+/WYc16zdj+fKVyMvLk7zgsN7//ve/OPvss8WzSVGU9g1thouLMyIjI2VSvbVr1zZNrme1qQydUF1dI7G2axJ3wL1XXzj6+TeJ4+b3UwJzHbSPDZy4ecViWN78Lxy2b0bO0kWoLS6Cvfl9ypQp4gXar18/EcAUpb1gswUMvdSzZ0/MnDmzOaQKYf2qtqYG9TnZYiccfHzhFtP51LMRnIDYLPWb1qH64dsBYyPSvvsKdcZG2NnbYVD/QXjk0UdwxplnSlxx5dRFhXFFURRFURTlpIWTQjF+to+PD+bOnYt6ThpnoOhhW0pKSrFsdSp2JZXj3LOCzLqmhl/bxhoaxgn4cV4FHnsxD2Xl9ZIPycnJct0Uxf/zn//grLPOgrtOtqkoihXaP06+GRsbi7LSEuzcuRNVVdXNk+w1NjbCy9MT3nW1yFw0z9gZF7h37WEMrkObt528Pk7GUJOShML/vQvHWV8DJcXiFVpE7/m6Opx3wQW46667MHjQIAk9oyjtEdoDX19feHp6YeXKlSKOs/yLjTCLv58fXGtrULLkN3hkpsJpzBkiKJM2byfMtVds3YSS916B3fRP0GDsQ0WvASiLXwc7Yx8HDRiEhx5+COPGj5NROMqpjQrjiqIoiqIoykkNPaE57NfV1Q2rV6+WCeXYoGPDjAJPh4gI9OjWB5k59liyYjemTgyBvQMbd3+Mlm1LiK7jDHw/1xWPPJeBj7/aip1JhSgqLJAJSdk5MHzocNx3//3SaRAcHCSxchVFUWzQPtIudO/eXUSvjIwMCalC20ka6mrR6OsP5649UDz7B9i5ucO9W0/YOVkn22trxpPpNddWz8nzfpqB0leeRtaC2ShLS0VJaSlKSkpE+OMkm6NGjpJYygH+ASqMK+0W2gg+/zExMagz9YqELVtkdInNRjAGOTpEwbN7bzhvXo96hiGKjIajf6Ds2yYrWMTZBfXff4WC/z6OrCULmmxEcTHK01KAygpMmnAWLrv8ckR1jJKOA05WqpzaqDCuKIqiKIqinNSwAUaPaMbSphfkxo0bZahvc+PNNOg8zO8dozuh1hKABb/nYeHvVRg92A0udPRpZPutLcQet9BhE/ZOwLe/OOPl91Mwf8ku5BdWmvTXS/gDdhJcc+21uPueezBq1CgEBgaIOK5hVBRFaQntJhdfXz9ER0ejrKRUxPHKqkoJHdLYaEFddTUcPL0QcP4lqC3IR94n76C+pAgu0bFw8PCUMAMnveFk+rgYG1hbXIy6n75FycdvIWfdatRVlKOOk+rV1yEkOAT/fOIJXHX11ejevZuEkXB3d9MwKkq7hjbC09NT4uzn5eYgMTFRxHGWC3ak1VEoN7bAoc8AqWvZrV6OCrPOJa4z7E19TMTxtiCQM33mmmrMNZavW4Xcrz5G4eL5xgZWoc7YuVrz17WhHv93y6249dZbMGzYcAQFNTkdaBiVUx8VxhVFURRFUZSTHjbeGEaEjTd68CQkJKC0tBR+fn6mTWaRyaOqqipRVl6NnUk12JlcjfWbMlFc1QmxkQ5w86yDHcNJnmQCeVN70iJiuJ29A35eGoTpP+Zj6WonJGdUoKysEHV1tXB2dpGYwcOGDsXks8+W8Clurq7SoFVRXFGU1qDdJFFRUejSpTOKCoslFJNN+GqsqUFNYQGcXYwtyc1CdX09ipcuhMvOrXCN6wL7iAj219Fwnnzil0kLk1aXl4O60hLU/fgt6n/4CjUZqWisrYGFE22a63NydESfXn0wZuxY3HDTjZIXFLvoBaqiuKI02QnWpeJiY+Ht7Y3ExN0yh4uPqWu5mN+LMzNQa2xDXW42vLLS0JCyG/nLF8E+IBDOoR1gZxXILZbGZptzQrHZKi729rA4OKIuOxNlG9agYdbXqE7eBYuxGzBLdW2t2AiOShwxYrixETdj0KBBUreijVBRvH2gwriiKIqiKIrSZqA4ztAAFDSysrJkeLy/nz/CwsJQWlqGXbt2ws3VGZERkcgq8MDytYXYvjMNxWVBCAr0gLd/DexMm6mx8cQK5Gy3OdibNptpT9ZUO2D6L/b46vtE/LzIEYtWFqG8sh6VFaUoLCqS7SnmjB93Gi66+GL5HBoSqqKOoigHhEIVR9fQRrJzjd7TaWmpKCsrQ3BICAb07oWt82bDvrgQDd6+cO3aE66b16JsawLqdu2AQ3UVQHtDD3JC43UisIldHClkPtcV5KO+tBjZ77wCrP0ddovmAJvXo7y8HGUVlajLy5VQW3379MU555yDocOGood5dzBe8Ekh3inKSQbtQbdu3eRzbm6uOB9wXXR4OIp3bkdpaoqMzHDqGIPy3BxUbNkMx907UF+UB4uXD5wDOcfLCbIPNsRO2MucAnWFBWgwS/33XyL7uy/QuGopnOLXwqG8FA3G3pXlZEtoOoaSmThpEi68cBq6de0GLy/P5hGJSvtAhXFFURRFURSlTUEvnp49eyI0NFTEndLSEgQFBkrjhmRkZsLP1xd9+/RCcXEBFi7PxPqt9sjJK0VBfh0cHT0REmYRccTSKLscN9hmc3CwwN7FDtk5jZj5Swl+XZiLNz6twKoNNSgx11NeXoJC05grKi5GcHAwBg8ZgkEDB2Lo0GEYN248Qk1DlSEAVNxRFOVQCI8IR1xcrEy8WV5eIcJxn759xfOaHqKliTvg0XcgPLr1RCnF87k/oXrrZlTk5aI2PRV2zs5wDg5t6tUT/esYimA0li3FKfO5sb4etXk5qEzYiPzpn6Fs5VLU/vQt3JN3orqkGOW1tSgy6aZna1ynzhg9ejT69O6L0WNHo3fvXhIaQTsUFWXfMDQbR+aFhoahpLgEpSWmfhUSBP+AQHh6eiDV1K8awjrAc8gI1KQmw3HlEpTHrxV70VhRJp1X9sZO2HPeExGpj3E9peXx+dnYCYuxa5XbE5D7v/dQ9vsilH32PirMdfgW56PG1BcrsjNRkZONYFOHHDlyJAYMGIhRxlaMHTMW3t5eErJP61ftCzvLCe/SURRFURRFUZTDY926tXjzzTexdMkyhJlGjq+fL1atXo3KikrExsQgLDwMFeUV2LhpI4qKyxEV2QlnnxGMM4abRpKXM8aNCrAeycBqsVkYVpcxyYm9vQX81HDYHuaWJm3Htq/5m5HlgO1JVVi0PAevfFyEmqoKuLo6oHNcJ+Tm5yEtLU2G+g8ZMhRnnz0Zffv1g6uLK9zcXCXOOhuuiqIohwvnaPjtt9/wySefSGiV0NAQVFRUYPPmBBTm5SHw6hth7+aO6mULUL0tQbwq3cPC4TJuIvzHT4Cnrx/su/aEQ0Bgswe3GM59sV/Jgb8Zw2gzsLZtzfeG8nIR48Uu11SjIScT5bNnIW/FUpQumgtPNzeEdYhETW2tjCBiOoOCgzF86DBcNG0aevfri7TUVMTGxorYp16ginJwUCZctnQZ3n7rLSxbvgwx0TGIjIrEwoWLUFJSDPvBI2Dn44eIolzkmfpVQX4+3GNi4Tx0NNy69IBb527w6j8Ydg4OsPfyNsWZdsJqI1qUcVkYqulAnWzcR2wEl6Zt+f/G8jKxVY11tbDU1EgYperEncj/9nMUfPGhzE9jZ+pPTsNHw2X3DuTu2imh6YYOHYppF12EwYMHo9bYD1dXFxmNqCNK2icqjCuKoiiKoihtml2Jifjwww8x64cf0NjQKDHIi4qLkJ+Xh/KKCnTv2h3pGWkSIzMiPBxVVTVISU1H904eeP2pOGlr2ZtGm4+Pt2kUuSEsqA7ubg1y7LJyR1RUOSA0sEa+HyzNVWyLHdJzXVBRWS/rHJyAX+bb49WPkpCYmCDe74xtSUEnPT1d4lrSE75Lp8648uqrMWnSJBnWqyiKcjShPdq8aTNee/U1LFy8EN27dcOWrVslhEI9BSbzO2MMc8K9xoYG+IWGIau4GE6lJfAPC4PD5TfAtXd/uHp7wc7bF2Zj2DszIrEVMYHmf8bAOrh7mL8Upbnyz6KTpbEBjZWV/AR7sy2FqcbqalQkbIS9i6tZa0F9ZhrsNq5B8ecfIDsvH45OThIehmJ3QUGBxAKm+D1o8GBccMEFOH38eBW4FOUI2bFjB9584w0RxAP9A0RELiwpRH5OnqkflaFz5y7Iz883da1yuJnfi8or4FBSBIfAIAT87R5Tfp3h260X47TA3tgJO0cnWUd70FBWKh1eDt4+TeW+2Ta0YifMV4ZHaayugoMb7YmxCcZmVMavg6NfABrM+RtKisWLveCHb1C6YglcXF2lfkVbl56aKvYsIDAQ0R2jceONN+L8C87XzjJFUGFcURRFURRFadOwOtvQ0IAlS5bgiSf+iczMDPESCvDzR01dLRITE8WDnJNYRnaIRKBpsOXm55rvdcjLy5Oh9TU1NRg8cBA6RHXE5ZOK0C22XI69JsEbu9I8cc25BeYckH0IJ7ykmM3Jpv5owDE8i70Mw6X3Eb9XVzfivZnh2L6zFNVVlahvqEdBYSGSkpNEzGkp3Pj5+eL0cWfg2uuuRYlpMDLcwYABA0QoVxRFOZrYZICioiL879NP8f5778lnd3cPuBob5uzibL4XIicnF67OzvDr3hMVkTFwXrkEGenpsPPyRkN5GcICA2E3cBjsB4+CS4ixVdbj2lMQd3QUj1GHjjGwd3CCo5OjhG+hvf7D9tmhobIcNSlJcPD1g1vn7rAz+9Vu3YSyLfGoKyuBndnHKXEHqlcvQ05unnW/JmiLOZJmzJjRMimxo6OTSbsLRgwfLh2NiqIcPrQTjNu/YMECvPrqq9i9e7eUq7DgUFTVVCNxdyJKS0rRWF8H+87d4GMWt/jVqKtvkE42wjjldcZGOA8aAScffzgZO8FwKxS1G/Pz4DlgMFxjO5v6kalkGfMhdqLB2InGlnYC0llWb2yOa1xnsTO1m9ajbNtm1FdVwb62VrzGy+LXo3z5Isass+7VBEOkXHLJJTj/ggtQXlYOP39/DBw4ED7e3tYtlPaMCuOKoiiKoihKm4dVWgoulZVV2Lp1G94wDbj5ixbgwmnTUJCbJw2hiqpKpKSmIDMzU4RwCiodo6IQYhptK1eukkYYRXI78C8bY6bhVdsAdw9PRHYIE08penWTDh06iKheZRpktoYbz+9hGoyc4K1v3z7iZZmTzW3qRCvKycvB7qQkaUTaM0avdR+ek17ul116Kc6ecjYGDRoswhEFdoZUUa9HRVGOFbSd7PBjKJVFixbh/fc/oGFCUFAg3NzdJURJplkqja3bvmOHxPmGszP8z78EJXN+Qn1RARydnGHn6ABjrGBpbOqopP2K6BAh39OM3aTo1SEiQiZMLi0r28NTkx7jjt6+CLjsOglfTnHMZeVi1EREoT4sEi6J21GzboWI9HZmP+7Lc7ADlKL4lClTMHXqVESY43MUDtdzG7WdinLk2OpXFMjXrl2LLz//EpsTNmPYiOEoyi+UOOTVFMmTk5HKGP/W+hXLI8nIyECDOYa9IzvGLKYM28mIFHdXV5kzxRRWU/9qlPpVfX2DqW91kE66MnM+m52wmPLuHBaBwPOmGTtjynZDPdxXLUFF556o8/WH+5YNKI1fjwKzHyVx2glb/Yrh5y6+aBquvuY6dO7SGY5mnbOxYRpLXLGhwriiKIqiKIpyysCqLQUTThr16+zZWLxwIYoKixAV0xGTJk2WhtA333yD77+fISKLDe7DRhx/p3BOYYXHovjNIfpsXLGRZas6szHV8jthg49hTyiacx/CRl56epoIT7a0cfHz85NYlmz89erVC+edfz7OPnsKOneKk/WE59BGm6IoxxqbHWOHYXZ2NhYtXoyZM2eitKgYp407DWefMwXpaem48447kJ2TIyKWhSKX2Z6CVUhoaPPcB6Wlpca25oig1dTRaOyg2YZ/7a12lMsemO8Ofv4ImnYFPNatgH1tDTJSklFdWwc4mmOY/S3GhtJ2UvjmJJocccM44lNM2jgxsW1iTbWbinJsoJ2wdaJ99fXXWLtqTVMdpncvnHHmmaauVYDXX39d7Idtey4s7wxpwnoV7QvrR05mybXWr/auT+39XTCfXd09EBkXZ1sB1NYiw9Tjqo29EBtRXy82grbIx8dHQrwwbvhf/3oDTjttLKKjo0UQt9kHtROKDRXGFUVRFEVRlFMOVnEp0BQWFsrkcjt37ULizl2orqpCcGiwhFNJTU3DF198LpNdcnt6OLGhxBApNi8lNgI5bJge3RwW3NIDir+1bFjxGNzPJorbsIniLaGAw3WBgYHiyTRy1BhMnjxJGo7aWFMU5URBQYp2k57dO7bvwNatW7Bjx3YUFpdgQP/+Etpp/vzfMGPGTBkxQ2jzbDaT+9OGEtpUbk+vc/5lxyOFMXqe2rYntIUScsXTC/bV5piWRmM3m+ZlsNHSLrLzkCIXQyNMmzZNJtek4KUoyrGH5ZL1IY6iS0lOQWLSbqxauRK5OTno27cvIjt2xIrff8eHH32EelP/IbQFLPM228DyzLqRraOLNoLiOW0J61fspDuY+hWPT+/zlnA71qVoI8aMHoXzL5gqk21q/UrZFyqMK4qiKIqiKKccLau41dXVIsRQKN8YH495c+diw4YNKCstQ3hYuHg/rduwTkRqeiGyQdYSiths1LERSGGHcBsKQHs3svZVteZ6bk8vpiFDhqC/CExh6N6jB7p27gRvH1+JMd5SLFIURTkR2OwYhW8K5Lk5uVi1ejUW/PYbiktLUMxJOO0dkZ2XIx6aHFlT1iI8Cu0ij8HvFKxpL2k7+Z2fuU+rtpPLXuu5rbe3DzpEhKNb1+4YMmyosdUBiOgQiZ49uouoxmOr4KUoxweWVVv5ttWv6J29atUqLFw4H0nJqUhLTUVocCiyc7KQnpEh9SvWwVjfallWbfUr2gV2ePE3HvNw6ld0Yhg9ejRGjhwlYaD69OmNmOhoOTe9yLV+pewLFcYVRVEURVGUdgOH7i5auAi7du1CcHAQtm3bjuysTBkWzEYTPZhsDbKWjbK9G2ik5TpblZrr+Jlijg02ynr06C5CeP8BAzBq1Ch07NgRHqbh5uXtLUOKFUVRTma2btmKX375Bf4BASgpKRbP7zlz52LXzp0ijNFuEpvttNnClnbSRst1LeUIHqPld4paHaM6IrZTLIYNG4FBgwZKqCoKaM7OLnBxUS9xRTlZyMjIxPLfl5s6VZZ0Vu3cuQvr167FkqVLJOY3vcVtnWKHYyNs27esXzEsHed1CY+IQK9evXH66ePRqVNnEdy9Tf3K2dnJuqWi7BsVxhVFURRFUZR2AxtUJSWl0kDz8fHG9u3bReTZtGmzhFTZFL8RZeVlqKqsQV5+ngg+No+o/cEhuqSyslI8k04/4wwRvAcMGCAiOEOw0Fs8NCwMQYGB6rmkKEqbgp6ejCfs5++PSvOZccQTtmxBSXExFi9ahPzCAtRU1aAgLx+lZaVITU8Tm0fv8v1Bb1GGU6DHeY9u3REQGICO0dESkqFTXJwI8RxNExYWgYAAf+teiqKcbLBeVWHqQJbGxiZhfNcu5GRlI3F3IhISEsQxIT01DWWlpcgvKEBObo7UlzgqZX+wI4whVFgP43HPmjBBRqIMGTxYOsoYgoXh7oJDQhASHCyiuKIcCiqMK4qiKIqiKIqBYVS2bkmQ8AH0fMrMzDa1Zf5ikWHCXBccEowK0zjbsX07HExDjYJ3eUWFeIXHxcahpqZavJRGjxkjgk/PHj2kIacoinKqsnnTJhQUFopwlZ2Zhbz8AqRnpKFz585I3L0b2VnZEvKEInlqagrcXF3h4+uHysoKEbQGDx4s+4oQ7u+PiA4dZNI87UBUlFMDOh5QGKc3eUZ6BpKSdqPS1LUobPM3juLr2rWr2IHt27eZPexE8K6prZUONnqF8zeK5OPGj4ezqV/17t1b5xZQjgoqjCuKoiiKoijKXtAzsrq6Bt7eXiJs19bWySSeHK5bVlqC+PiNcHJyFm9wNtYYz7JLl65wdFAhR1GU9gk9RhkruLKqGpbGBgQHB6OktBQZ6ekICQ1FYUGBhF5x9/CAv38AKiorJKQUBS5FUdoH9BAvLCqEl6cXAgICUFpWhoTNm2WUiMwFs3GD2cpO6lcUxm1OBopyrFBhXFEURVEURVEURVEURVEURWlXqEuLoiiKoiiKoiiKoiiKoiiK0q5QYVxRFEVRFEVRFEVRFEVRFEVpV6gwriiKoiiKoiiKoiiKoiiKorQrVBhXFEVRFEVRFEVRFEVRFEVR2hUqjCuKoiiKoiiKoiiKoiiKoijtChXGFUVRFEVRFEVRFEVRFEVRlHaFCuOKoiiKoiiKoiiKoiiKoihKu0KFcUVRFEVRFEVRFEVRFEVRFKVdocK4oiiKoiiKoiiKoiiKoiiK0q5QYVxRFEVRFEVRFEVRFEVRFEVpV6gwriiKoiiKoiiKoiiKoiiKorQrVBhXFEVRFEVRFEVRFEVRFEVR2hUqjCuKoiiKoiiKoiiKoiiKoijtChXGFUVRFEVRFEVRFEVRFEVRlHaFCuOKoiiKoiiKoiiKoiiKoihKu0KFcUVRFEVRFEVRFEVRFEVRFKVdocK4oiiKoiiKoiiKoiiKoiiK0q5QYVxRFEVRFEVRFEVRFEVRFEVpV6gwriiKoiiKoiiKoiiKoiiKorQrVBhXFEVRFEVRFEVRFEVRFEVR2hUqjCuKoiiKoiiKoiiKoiiKoijtChXGFUVRFEVRFEVRFEVRFEVRlHaFCuOKoiiKoiiKoiiKoiiKoihKu0KFcUVRFEVRFEVRFEVRFEVRFKVdYWcxWD8riqIoiqIoitDY2IiGhgbY2dnBwcFB/p5oWG1tbLSYv40nTZoURVEURVEURWmbqDCuKIqiKIqi/In8/Hxs374dHh4e6NOnj4jQJ1qIplCfmpaOvNwcdO3aFT4+PtZfDh5WfW3VX9v1nIoCO6+R+cUODl6fo6PjYV1nfX198zHYGWFvrwNOFUU5udnbzp+KNl5RFEU5OmjNVlEURVEURfkT8fHxuO+++/DKK6+gpqbGuvbEUlVVhYcefAD3338/EhMTrWsPDV7Ljh07sGLFCpSVlVnXnnrk5eXhxZdewvDhw3HZZZfJ98Phtddek2Ncd911WP7779a1iqIoJy8pKSmYP3/BYb8nFEVRlPaDCuOKoiiKoijKHuxOSsIPP/wg4kLnLl3E2/hkwNHRAYMHD8HOnTsx8/vvkZmZaf3l4Pn111/xt7/9DbfddhueffbZZq/CU426ujpkZWVh8+bNkl/8fjjYjkGB6VTuSFAU5dRgzerV+NdTTxkb/3c89NBDYv846kVRFEVRWkOFcUVRFEVRFGUPVvz+O7799lv07NkTl15yyUkTz9vJyRlTp16AqKgofPq//2HTpk3WXw6ehIQELFy4EOvWrROv+L2FcX5ft349fpg1C9t37LCubXvYQp+wU+Nww6gQ2zE0jIqiKEeD9Rs2iH3dsmWLhHs62jAMGG371q1bscGcq6Sk5JTtAFVOLgoKCvDxRx/iH//4B+688058+umnzaO1WJ94+umnccUVV+DNN9+UdTZsz+f27TukXJSWlsp35eSEDgN33XUXrrnmGnz99dd/ul+1tXVISU01Nmib2LjjZX/S0tLw8ssv49Zbb8XDDz2MH2f9iMqqKuuvyv7Q2q2iKIqiKIrSDBtxa9askYr+4EGDEBMTc9LEZ6UwGxERgXHjx6OosFDSWVhYZP314Bg1ajRuvPEmaZwyxMje11ZeXiGN2f8++yzWrl1rXasoiqIcDaZ/8w2eevJJzJkz55gI4926d8e0iy7ClHPOwSWXXCIdqdqppxxr2CHz9Vdf4oUXX8Q35hnniLuy8vLm0QqsW82fPx+ff/45ft8rLBmF05WrVuG555+TUHEzZsxQcfwkhveGoyq/+OIL6XxrGW6wpqYWP/74I+65+x6xc99N//a4jlhhR+DmTZvNs/gV/vOf/2D69OnWX5T9oW8IRVEURVEUpZktCVuwbu16dIrrhPGnny7rThZhnOmgwHHWWRMQHhGBFb+vwO5DjCE7cuRIPPjQQ7j3H//A+eef/6dro8cXvckpuucfZlxuRVEUpXXoyb169WokJSUdE0/K6OhoXHnllXj44Yfx17/+FSEhISfNO0w5dUlNTcUbb7xpnutkXH/99fj7bbfhrDPPbJ4knHUXZ2dnuLi4wMnJSdbZYDlgyLKff/4Zs2bNwty585Cbe+T1Dwqy9EBnfYbC/PHyXD5W8HqKi4uxYeNG7Nq1C7W1tdZfji+8l7yPrq6uci9b2heGrVu2bBmmT/8GM2fOxIL5C45avldUVMh181lp7X4GBQVh2kXTcPfdd2PY8GFYtXoVZs6YIfu19Xt/rFFhXFEURVEURWkm3jQ4tiRsRpeuXTFk6DDr2pMHNkD69u2DiA4dsG7tWhFZDqXCzzjlHaMi0ad3b7i5uf1JMKmtrWErVRo7J0tsdUVRlFMB2mqb9zbt694C4dEiLCwMQ4cMQceOHa1rFOXYQsF2c0ICOpi6CecwGXfaaYiLixPx9ECwHtKpUyecZvYZMWIEevXqdVD7HQiOyHjvvffwr3//Wzyb23qsfYrOrPM999xz+OCDD0/KeU+cnByljjp69GiMMsvgoUOOWsdcamoKPvvsMwnFw2dt77ovn5ke3XvgnHPPwaRJk+Dn6ycdLLmnQKfIscbhcYP1s6IoiqIoitKOqa6uxudffI5169fhPFOxPvPMM6y//BmGHMnOykJySjK2b98ukzPm5OTIME5WzukZtXdjoL6+QSrp3JbnoicVK+ucRDM1JRUJWxJk+HFxcRGcHJ3g7u5u3fMPeExXFxcRxZcuX4aYmFgMHTpUvHcOBqaP58gz6WDcbKaVaeDQ2IyMDGzcuBHz5tFbKxddu3ZFSHAwsrOzUVhQADt7e9l+7+vKycmWCd62bdsm18Yh1RTYvby8Wh3Cz99tk1l6enrJOsaGZIOPecm0eHp6Sh4SDtNl3qalpWLHjh2yDb9XlJfD3cOjVXGJx16xYoV4ZgYGBooHJa+XeZ2YuEvSmp6ejsqKStnewxynNX777TesXLlShKaxY8eik2notwYb4MwnWz7s3r0bBQX50pDdVz4oSnugqqrKlLsMKW87TfllOaet4XoHB0fpoDtcaCtSklOQuDtRbAO9VisrKtDQ2Cg2pDUqK6vE3tAG0fuQf8uNvaD3JcvqvkScstIybN2yFUVFhQgICJDtioqKzPmTkZCwRTzAaVdpC7x9vJuPQ/tKe89z7tq5Cz/M+gHJZh8KgRSu84ytzc8ztqK+TtLc8vy0Y/KeMcfeZn3P5Obkyno/P79W7QrtJWMA707cbd5T5fD3998jLUxzclKyXI+La5P3LkXNRJMXLe0r7SXfQQeyXfTcTNqdhM0Jm2V/fqfd25dncHV1jZyryLzn+D7hNjwf58zguZkWvhuPZG4I5fjDdx9DqLDewFBte9dJ0kz5X7J4sZSTPn364LzzzrP+0gTDxHXr1g0jR47C+PHjzPdw6y+HD8viPffcg6VLlmDUqFHo379/m34XV1ZWYsmSpXjuv/819ag8XHzxxc0e+ceTwsJCfPnll2J/hw8fLnVQW32V5ZZ2jXk9fMRwTJhwVqv14cNh8+ZNeP+997B2/XoMHDgQvXv12uf9pF1euWIVHBztMXHCBB05cwBUGFcURVEURVEEipmMm1hbU4OpU6eiV+/e1l+asAkcFHh++22eTDr04Ycf4pVXXsEHH3wg8TPXrV4L2NuJkLq3qFBVVY2ffvoZzzz9NAoK8jB48FDEx2/Exx9/jI8/+gj/NY2dr03Dcs2a1bAz/2JjYkT4bY2szExs2LDeNDhcxDsnNDTU+sv+WbtmDV55+RURv318/dClS2fU19dLzM9333kb//vfpyK+sAGWnpYu4VoYL3Ll7yvh7ulpGq5dRTAhHJ7KYcpffP4ZXnr5JRlGTW+eBQsWiGePl5e3iDJ7N4rmzJmN/5g82LUrURrIObk5ePmllyQe5GuvvYaiwgIMMI0eitUUm5cvXy4Nbk44+sqrr+Ktt97C3LlzsW3rVtkmODj4T4I9hSNe05rVq0XEoicaY6bzGPQ24j374fsfsH3bdhSXlqBjZJSIYqTlcQ5GGKf4tHbdenz6ySd49dVXTD68IXFUFy9eJIIghXk2Xo9W41BRTnZoKynQUgBftGgRPvv0U3z55Vd405SNN0z5+/7775Foyj870BgDu7XRK/uCx6bnZ1ZmFn7++Re89867eO/dd/GmsQvTv5kudiErJweBptz7+vqKDbYdm8I1Jx/+4P0P8M5b7+Cdd98xtvdjbNmcgGRjs/zM9rQDrZXV+I3xuOO228WOnDXhLGRnZeO772bg3bffwTPGdrFTlcemzeoQ2UHsEo9BcS4pOcXYuBfw9VdfY7M5V0VlBUpLSrHK2JYff/zJ2IrFqDLvlkGDBkl6ab/YgTlnzlx8Y94zfL/QZn1k3hPzF8zHpvh4hISGICQkVDw0W6Y1y5z/i8+/wAvPPy/i0KTJk5t/Z97xXHwH0PaFGrtWVVWJGTNnGtv7qrFfr+Ltt9+WdxnfVxQrabtsNr8lvL8U+nlNb735lsmDZyR9C+cvMO+ODNg72IvtbdnpyPuWkpqGp/75JNasXYPOnTvLcT784EM89sijYt/ZATBhwgR4eXubV+nBPRPKiYfCOMVSeoxffvnlhySM8/nkM0bxkqKq7V18pLCz6/3335eOfp5vwIABfyrXbQnWy1auXGVs6kKpV7ADwtuUk+PN/oRxwvoYnwOGdWLH19HK86Sk3VhA22Rs5fjx42Xk476OzU7SpUuXyOdzzz232R4rraPCuKIoiqIoiiLQu5jCOEWas6dMQWxsrPWXP9ixYycefPBBEVfjN20Sz3EPD3cRDyiab922VURbf/8A9OjRfQ9vyPqGemkYfvDB+3BwdERgUDDuu+8fEo+xwDQ0KIJbLI0So5MhXZydnDF4yJBWRQl63S1dulS8F9nY69Kli/WX/bNuzVqZXJMell3NPsOHD0NdfT2WmWN9++13IuRSqCCNJi0UcPILCkTAio2LxRCTHgo3DQ2N+PXXX3HnnXdJHEmbiBIZGSke4YxTTtGIwgfz0eb9TebPX4APP/pIjh8dEy0dDF9//ZX5xU4aeaeZBs+okSOlYfPss//FSy+9YO7NGhQVF8txKHbRI3FjfLzkQXh4OOI6xe3REBeP8ZUrsWrVKrkHqSnJMvSYHvHsCKBnJgWrbeZ+0bM8LydXGnh7C3T7E8Zt4h+Frbvvukvue21tneQB05Rjjrlhw0ZJg62RqOFplPYABdDUtHQ89vAjePnlV8RW0hPY0clJPJ0J48Sy7LFM04YdrIDCY7Pz7umn/i1C7pZtW0xZhIhprm6uIsD9vnw5EhISZDg9hVkel3bpjdffkI7JFStXiD3mbx6eHsjKzpKONJZ32gZOurz3iB0e799P/xvFJSXo1bsPnje26cuvvkR6RqYcgzadAtzSZUvFE/2cc85pHpGTYuzP++9/IO+H8opyWcfroH0tKCwQcbpDeAeMGzcOdvZ2WLhwER555GF8/PFH2LJ1qwhBTCuvkR2S9M6m3RlhbFZ4RPgediUnOwc/zJolnunOxiYy3nPLfKWw/9VXXyEvL1feLTNnUBR/zbxLisWG8rqZV7StnDyxd+/eInC3hPaXnbr3/eM+fP7lFyg07yHaZd7bemNXOepqkbkGS6MFQ4cNbU4fr3u3efe8/sbrxubmoWvXLpg9Z46Eu6gRj31PiRPM2OjOR1FQU449HBHBjvHDEcb5XLBOwRFtfHfzvrc22oDvbtoRbse/3NZWX7GNMOB2fD75e7pJEzupOXcKhdTYmFhT1qqkrkb2PsfhwPNRsOb5OBqDaeN3OlgQW7pag9dTWlomnWS0Ayzb1aYuxe1ZNm37cTv+xnLJ8suyyboS7Ru34/m4DT+3Vl88HGif2Olvuy6K4Mw3Xi/znTZkX8I4tysx+9WYv0xPy87JljDNTHupyTPW73gu27Uw32z78Z7xnKtXrcHsX2ejwdIgHuPsVOVvVWYfvltanocdmT/9+DPc3N1kPh3aldbSoDTRdsdRKIqiKIqiKEeV3bt2IyMtXbyvWxPFiX9AAMpNAyXONLDuuO0OaQiKZ/KaNSK8du/eXRplFDToOchGhA1bpZy/L1myBDfdeKOERXn88SdEZOa6f/3rX+hhjpFqGnTzFy4QAag1GLvTz88fBfmFKC4ssa49dJg8ChBsYNHTmbFBKXCzUcTGBL2CeI2vv/EmLrhgqjRyGs1OFHro4b11awJGjhyBt958UzxDZ8+ejV9+/hnTLrxQvLXoBU8Pex6vJWzAcDj/66++hh++/x7XXXcdZpq/v5hGD/OF3j1sCGVnZyEsLBwPPvgApk+fLkIahWp6JjKd9Ejl+u3btlmPvCc8LxviPC6HUr/yysuSzuXmnr1qzk1PcjZkfzH5/+XXX4s4czDYGunsTPnnP58QTybmFz3b6ZE5Z84cfPfdd5g8aaJ41TOv2Dhv+TwoyqkKbZ23lycStm5BUHAQ7rrrbnz51ddYtmy5CDvvvP02hg0ZKmE36KFMUW1vG9EaLD8UiJ7/73OY8f0MEZnPP+98fPzJx1IWV61abY73DiaceZaIxrZwKuwEe/P1N/Dhhx8gOydbJiGmhzn3YcckOzoZ15j25K677pJRKtynNSh+X33VVVi8bAmuuPJKfGXsBo9Br+4xY8bItfN6aFOYXto6dly++OKLePLJJyWECo9N4fyLL76Qjsp333sPN/7tZjg6NQnIFIUoEnXv2h1PPPa4vB+YbzzPM888I++nysoKvGZsWEH+odsVpnG1eWdR6Odx/3LdX0Sc5vG//ma6dFTQ1nOETXx8/B73huei/acH+/IVv6Nr1254/fXXxS6z45FpveGGG1BZVYmffvlZ8pL77J3GnLwcPG2uhaMHJk2abO7hJ/jJvDuefvrpP4mqyskPnyneYz7bh/o8Eo4c43vyL9ddjzmmHtESHo8C6Mb4Tbj37ntNXeQCEWPZkXTzzTeJSJuZlSXvZNavtpr6wNP//hcef/QxKa8wVa+vvvwKt//9Nvztxpvx0IMPYc7cudajHz4sF7RhX331JW40zzzrE8OGDZP6z9133m2e7R9MOS75k23j9VDQZ+cg44Vff+114nQwZcoU3HTDjZgxY4Yc17YfnQT+Z8riU0/+09THPpW6FeuGD97/AG752//hZnNNb1onPj1SmDbmIcMxvf/+e7jmmqvFXjL2+1XG7n304YfiMb6/e7zC2AU6Czz5zycltNze2/I7r4EdiJ+b+uXf/36rdFxwxMyFJu/+9dSTMgqPIjm35QiWRx95FC++8AJ27U6U0FMfvv8+bv2/W/B/N/8f/n7r301ddFsrNtsCjqr0tXbGKvvBZLSiKIqiKIqiWB599FGLm6ur5frrr7dUVFRY1/6BaaRYTMPLsjkhwWIaJZbS0lKLadzIei7lZp+ff/nV4uPjY3Fzc7N89tlnlrKyMuveFktlVZXlxRdfYgtBtrnsksssG9avl+PwuKZSL+e95ZZbZJvu3btbPvzwA+vee8LzTp061eLp6Wl56aWXrGsPzIxvv7P07N7DEhUZaXnh+efNOesl7Tw3j/nZ559bevTsKcd94YUXLKbxIuu5MI3ctrq62nLv3fdYAgICLOPGnWaZM2eOxTRarWewWEyjymIaQ5azJ062+Pv7W9588y1LUVGR9VeL5fXXX5f1DvYOlqioKMtDDz5gyc/Pt9Sa/erMOVqeZ8eOnZaELVslH5mW5rwuL7c8b9IXERFhcXFxsXz00Uey3kZGRoblnnvvld/c3d0tTz/9jMU0Gi2moSXXym2Z5tm//moZNHCQ3K+zzjrLUlBQsMdxHnjgAdnfNAwtv86ebV3b9CyYxqHlnHPOkX2vuPJKy5q1ayWNNvh59erVlq5du8r1Mo2814pyqsPyQTuwdt16S3Jyijz3tvJLqk3Z+37mTIu9vb3F18/P8qKxYQdTNlh+v/nmG7Eb3PeJJ54w5TppDztcVVUt5bikpKR53aZNm6QMc5+pUy+0LF/+u5R/2++0u2vWrLGMGDFCbMall1ws+7Rktin/tMv8vV+/fmIPaLdqrNdFe/XZp59ZunXpagkKDLI8cN/9zbaGf3n9GzdutIwdO1aOc/vtt4sd29u+cmHauC1tFrfhb4S/ZWZmWp555hmxO34m71auXCnHt7F9+w7LX/7yVzkHr5n72ODnL774Qt4t/L1//35il4qLiyX9DQ3Mi0rLrFmzxLZym+eee24P+81t33nnHbGLoaGhlgULF4l9tp2Had25c6flhhtukG1uuukmeRb4O39jemkTeS+cnZ0td9xxpyXd2Guen9u1fE6UtsPChQstdnZ2lujo6D2eFxvLli+3TJ48WcoP61gt4fMbby2jLuaZePbZZ62/NMFn7oMPPpRje3l5WTw8PCxxcXGWkJAQ+c736/kXXGDK8FqxET/88IMlPDxcfnNycrI4ODjIPqx3sW7TpXMXy3//s+c5DoecnFzLpZdeavH19ZXjszzExsbKOXiuSFPPstVvWsLy8v77H1h69eol+7Iu1aVLF9nHdj2PPvqYJTU1TcrCKlNmLpx6gfzmauqojo6Ocl3eXt6yD899+RVXWNauXWc9w+HBc7EMst5yySWXyPWwDNPWcOH5eU28T507d5brZL05Ly/PeoQmXnnlFdl+oKlbzZv32x72idAOfP31V5bTThtr8TPX7+Pt3XweHpN2jef59ttvxS488sgjcj957byXvHbb/fQ2+wYGBlrm/TZfbLEN1nW7mvs8duxplqzsbLUpB0A9xhVFURRFURTBVJxl0jYOf+eyN/SIohcdJ5fiUHvTSGiORcvFw90dfXr3kpAZJCsrW0KetEZwSAhuv/MOdO/RQ47D49Kz0DQO0KdXH0R1iERpcQmy0rOse+wJhwDz3PSe5PDaw8ViaUo7z83j2Yb98jvPYTsPF6bRNGjEy+mXX3+R4bUXXXSxeGK3zC8eg6FHzpo4Qb7PnT1bJu/cG3pH9uvXD7fc+neJRe5k9nM05+B5mAbTgEZcXKyEfDGNJUmLLa9NAwoTJk4Ur/mamhrJg5qaP3t78zp4ry644HxERUXKflzHYzDNfc35zzv/PDkGJwXkYhqG1r33DbfhtvSQpCcbh4X37tVrj6HZ/MywKkwnn63169bKxICKcqrD8sVyTHvYsWNT/H5b+SUupuzFxsVh8KDBsJiykZaaclDljvbuvffeR54p7wP6DcCZZ5wpw+lb2mFXVxexJww1wO8sezOmfyeTUdKOnH76ePGIZvm37UO7y4n/GELLx8dH5oLgRJCtwWu5/vq/YNjQoRJixBbyQ+xVpzh0MvaKIQhS0lJle/5ms6dMJz+Tluts9tWWHqatR4+eknceHh7yG+FvjMM8duxpsn91ddOcF/x7qPA6Lr74EkydeoFcM9Nvb0/b6irhEWw2nSNdmO82OBfHdyY/mfbzzzsX/fr2bQ5XQ5hWvgPpAct3QcKWLcgvKJTfbHBb3hd62J5njhFu3hc8P7dv+ZwobQc+L3zvNxyGx7g8D2Y/voc5aov1jJZwJMcTTzwuXsx83j768CMJe8f5TDjPC8Oc+ZpnmOWFz09fsw1HVtx0880S3odpYkghjgzh6Iann3kak8+ZYj364fPZ//6H5cuWS3qvufZafP/DLPz8888Skulxk17ah779+jeXJRscTfbss/+RsEfnTjlXRk3wejia7emnn5HyxJj/nN+l1uRHtKnD/O2Wv+OxRx9F/779pJywXvPkU09KGCRe08033WTKXUfrGQ4fjqDjqBmem6Mezz57iowcZLxu/p069UKZxJx2Z1/3mbac9SLez9aehwULF8rInuXLf5cRRbffcTt++eVXGRFI7/+zJ08W+8R487yfHNFIz/prTR7TrgcFBeLaa66WUSsMp/XSSy+hZ4/uUn/cE76H7GVkprJ/VBhXFEVRFEVRBIqrrNCzIm4TL1qDle+WDXc2JNauWydD6j/79H/SaGBjIDcvd5+CBc8RHBoqDZy9CTYNhUBT8a+vb/hTA9GG7fxscOxrm4PhUPUHihkZGZkSZ7dHt+7obxp9FJv3hkJTp86dJB+379iBispK6y9N8DiBgQEinrAxvS+4Pxs2NhhegLF+Gdf8q8+/QGFhk+DO4coVFeXy2QbzhvlEwYWNqdbuqTRcTSOa6WFDjg3wg8lPNlY3bdokQ3379+0v4j3Frb2hENe1S1dJR1paOmoPQvxTlFMBPvN72zeKrOvXb8BPP/2E6d98LeFAKIhlZ2YfsNyxPDO8EmNb15tyNO708YjqGLVfW02435ZtW43NKsaQoUOlvLu4/LmsUqw/88yzRCRmbG2GKqBt3xsKv4xX21p59/HxlTBQ1TXVEk5lb0HoUHB0/OM9I++T3FwJ/cJwTbNn/yLrSE5OTqudgvuD6eJ1sAOBkyS3hOek/eY8CXxP8b1Iod8GO0S379guMcXPO/9889enOZ02eN8jwiMQFhKKCrNvQX5eq3lxxhlnSPiEvfdX2h6sO7F8MhSdrSPnUOAzYHsOWj4PdXX1yLAKsSxzt/79NkyYNBE9evSQ0HWTJ08WEZxzv1AE57n57DJU0ZlnnikiM+H2DFXCidUnTpyIzp06yfojYd5v85CZlSlhQC6//AoMNs8yHSdYr7n6qqslvBKf8ZZ1pKVLlkjoleTkZBH0H3v8MemI4n60TZdddhkuvugiRn/B7F9/kXoGy+mIEcMxcdIkRMd0lPxhGeUktQzhxmsaPHiwlMkjgR1gjMlO5wd+vvcf/wCnZDzrrLMwYMBAuZa7774L//znP/c7mWXL+2hbCG1AYWER3nv3PQlBGBsbg1tvuRV/+9v/YdSokRJ7nud4zJyTecfOStp3OlDwfjJ/eCx3D08MGDio+drpmLB3DHGey2JpNHU7U0e22kpl36gwriiKoiiKoggUsVmZblm53hcUTH7+6Wfcc9fduOKKK/D3W2/Fo48+ipdfeaU5/iLF08bGfVfI6SnZGvSk5mKq9ftNC0VdNgJbExyOFRRjtm3bItfGmKD02Lnnnnv+tNx7770SE5ONK8aapfDcEqaZjVwf7yZRZn/XSWGGQvgtt9yCK6+8EjfffDMeevhhvPXWW83e8vX1dX8S1vZuJLUGBRx6JhFeW3ZOTrPgtD94/evXrkdtTS0yszMllnpr+cCFHm0U0JOTU8SDSlHaE/Q6/PWXX6QssPzeeustuP/++/H2O+8icfduES5YLg5kx1jmUlJSpCyRfv37w9d3/7FjeUyW59S0VDlHTHQMgoKCrb/uib2xFxyhwo40QiG6tLRUPu/N/uwJxWT+bnufHAm0GV9/9TXuuvMuXHX11TIHxCOPPIJ33n5HhEgev+k90/q7ZF/YbOP+0mcbXcPjt7SJfL9xslKKoF9++ZV4l+5t87i89fZbEveZ+Z6b27owTiGTnYdK24bvXnYE8S9Hux2os+pQ4KNqe7753LIDq6UHMJ9TxvDnRN+sD3Eb23vd2yy2tHAdRXI+bxSVWU6PFE64y+eadTlnU2ezFiuBYnZ/Y6P4jLfMj3nz5slcCxR5//LXv8ik5i1/9/f3w6WXXYa4Tp0k/j9jdPO63Mx1M+2sN9nKL79z4bXSK/1I851l2lZfGTp0CC6cOlUmkbd5vPPcHAXH+O7No0QOwcbxPs6bN0eui+c444wzcfEll0hnii3tPAfnYbCdg/Ae266dx+C2fA543bY8sN17G/6BAQiLCJdJTTlqpeVvyp85sidHURRFURRFOWWgt83+hGbb+vnzfsMTjz8uQjgnpszKzDINs67i5XPDDTeiQ4cOUnFnRfxIKuMH2peCxf6EjWMBGyUUoylE15lG8MaNG7BowSIsnL9wj2XJ4iXYuX0HYqNj0MU0WPceymq7tgOln0OlKQQ99tjjMhFccVEhevbsKZNbcfgtG1TkSPLati/TQiG/8SDylPlQYPKhobFp+Pf6dev/lAdcViz/HUWFhegUG4eu3bo2i26K0h6QCR7//W8pw++//76EQujZq5dMsMZh8T26d2suf1z2B8VZjhhhOeW2tNcHEre4Lb2dKfiwzNrCdbQGj+np4dEs0NDOlZr9DpeDuabWYJoperNj8eGHH8YTTzyBH3+chVpjZxhe5eqrr8bV11wj1247x+Gc52BpeXzmIfOSoj87BbckbMGSRYv/ZPcWLViIpN1JCAkORnTHjibPW/cgPpD9V05uqs0zuXbNOvz32f9K+eaksGdNmLDPMnY4sE7G5yjOvEOrq6rx2quv4ovPP0N6eoZ1i9bhs7X383W0n7ehw4YhMDAQq1avwvvvvYffTN1wX51ppMqUm+SUFHGsYD2G3tGtwVEUDJnEjnp2LNo4ltfDMILs9OJIGdrayZMmN4cF3C+HYHuY3vgNG1Fqrr9TXBzGjBkt13kotLR1+7t+dpaMHj1a6mnPPfushJvhROwHMyKwPaLCuKIoiqIoiiLQ64SiyL48hlkJX7t2DV597VXTCHofjs5OuPn//g9PPvkkHnvsMTz88CO48847paJvE1eOJaWlJXIepvt4wUaJp9ULiyEHpk2bhttvv+3Py238ezseeOAB/J/JI8ZUP1QWL16M555/Hp9/9jlcnJ1x191344l//lPymkIbvdIPtVG1N7ynNm9VNsDDGN7G/D0QvH4v76Z8iIuJxdVXX/XnPDAL0/y4SS+HedPTnV5kinKqQ2GXYT9efOEFvP322+JZyef/qaeeaiq/jz4qI0B69eoFO/uDE1YottH7kjaI5ZXx+hsaDixytOzsZLik2rp9hx1p6blOr1LaneMNxWfG8uUolG+++Vpi8NJT/Emr7aNYzrw7Gh6vh4PtvE2hHCbilltv/ZPdY3r/YewzO49vvulmxMXF7SFoKacG5WXlEhbp6X8/jaVLl0potUmTJx3VZ5PPDecR4EiTXr16Yt68uXjmP/8xtuRJCbcRHx+PmtoTMxLrvHPPxdQLL0RtbR0+/vgTUxf8J5599ll8++234kG/N5kZmSgqKpbPFGnZ+cUOhb0XXleq1QOfnYH7qpMeTWj7du9Okvzm0n/AgCMOzbI3tK1bt26TzjV2DByU8H6YMEQfOx7YWcN46f8xz8zy5cvl3aT8GRXGFUVRFEVRFMHVpWmILhsIe1eeWaGnYPHee+/JxEFxnTvhnnvuFYF28tmTERMTLXFrj8bw+YOBMWUZe5MNUNtw06MB076/9FNkiomJNed1Fq+n0WPG4Mqrr8JV11zd6nLFVVfi3PPOE0HrUGDD6YsvvsDs2bNlKO8/n3hCRKHTTz9DGjy87pYi1uHSFFc8Uz7z2hiz9GAa9RTpOASa21ZVVcsEm61d/1Umb5g/l195BcaYvDqa90pRTlZYrmbMmCGiGcWP++67TzoQGeM3IjwcDvZ/DtFxIFjmWPZtwnhGRrqcZ3/YOg55TmdjsziHAL0iW4NpSU1NlXQRpptxdI8mB7Kv/K2ktFS8G7ds2YIxY8dKPN/b77gDo0aPlgmECW3fiYD5yRBeAf4BEu4rrlMsrrn2mlZtn+29cA4n1zT5z32VUwuOBOgYHYXhI4cjpmNHEXETd+2SutLRhPWH666/HnffczcuvfQyYwPspcPtgfvux9NPP43PPv0MO7bvsG59/GDHHjv+b7v9dowcPQpbtm3Dv/71LwkV9fLLr8hEnBx1YivzDM/Eug3ZvGkzXnrxJbzcyvLSCy+ipKgYwUFBcHdz36/NOFrU1daJfeS9o42l7TvaI9x4HTsSd6Kqugruxi47Ox+7EXScJ4LPIzvwGGZn/Pjx8LV2rCp/Rq2zoiiKoiiKIgQHBcPfz1+Eibz8pkkdbbBCX15RIbPoUxA+7bRxGDpkiGnsn5hKNkMSlJWVi+jDiv/RgjEc6TFNTyWKTns3yChO9TaNQXoSsdGxKT6+uaF3NKG3FSenajDpGDBwICZOnmT9pQk2btiA21+DseVv+xJlKIovWbJErov3PyIiQj4fCDYY6VFFMX3Lti0yQda+JlpVlPYGOxbXrF4tYvPZU6ZIaIDWyhXDceAgNR+WYU6iG+DvL58XLlq0R5iBfUFbMXTIMBHXtm3ZIiE+WrMbtCeM/1tSUgovTy+xBUd7NA47FGkzCPPIJsLboN3dnbgbObm5kncUAUeMGGn99Q8OZPuOJQxrMcDYPtr9BfPnN3vAKu0P1gOuueYaEanPOPMM/Db/N7zx+htHveOGZZhlkRNcvvb6a3jk4Ydx8cUXwy/AH9999x3uvedeCbGya+cu6x7Hj149e8qosDdefx233norhg0bhkpTd3r++efAUXM//PCDhGgjdJ5wcmqygzExMbho2jRMu7D15fprr8NNN9xkyv+Ig6qTHCmsyzKWN/OatoWTvx/tDg4e2xabnKGhjmVYk+SkZHGu2BS/CTffdBPeeOMNnD15cnO8dGVPVBhXFEVRFEVRhKCQIPibhlZ2VhZ2JyZa1/4BhQCbGGHq9bLY4HoK5rbZ/I+1aLF7924UFhaga9cu6NQpzrr2yAkKDBKhnRMj0XvS1qCz0eQxHiPCCBuq33zzjcQBb81zs7auTvLscBpXFRWVMjyZUDza+/hFRUVYtWq1dA7sC1sDj/umtpi0zwbTtnTpEtNw/V4mcZo4YYKEOmkponP/P+75HzecnuJ9+vSRYbr8zMb5qtWrJebq3jD9paWHlw+K0hah4LE5IUEEMnpo7y0AM+73rp07kZSUcki2kqLGuVPOlb8zZ8zAnDlzmifgtcFyxnOmp6eLuMxyO3jYEISGhyE5NQWLFy9CcnLqHufldvR05ZwRBQX5GDtmLHp077HPDrXDhfal5eSe9NBsCdPOTs9664ilqsoK1LUI/cJ0sjNg1apVsu2h5N3RIig4GIOHDpF7+9PPP2PpsmXSSbo3vOe8z8dS/FJODji64tzzzpfykpaRfkzfdewY4+SUnCTymWeexoQJZ8lcHww/9O677zaXCf61LccDxrR+9JFHRIzlZOydO3eROhRHuzFsCvOEXti2yb779O2D+x98AI8+8ViryyOPP4p//utJnDbuNNmeHMvrEeeAkODmelPTxLl72u1WOcT0REVGif1mPbu4uMi69uA52OvPzspEssn3mNgYGbVI0V/ZNyqMK4qiKIqiKALjoHaIjLQK43t6HrGxEBQYKHG1KQ6vWrlSFoobeXl52LVrF7766ivxEEpPa2oYHssGWW5ujgwVjY6ORaRpaBwtQkzDiII3r5fXtGLFSuTk5KCgoKB5Uin+fu2116GraQhycr0333oLc+fOFUGnIL9A8oMe39x3+vRvRcRumRf83HJpjaAg5rW3pGPHjh0ivjMd+Xn54knOvL7xxhtMwzNFtt/7OLbvvA8pKSl48IEH8euvs2Vfpo/i0ncmbS8+/6KIOmzYX3zpJeIx3xKK3lwoAvE6bAI908WJPx999DFpEM+aNQsvPP+8xFnlM8EJn3geNoyX/74C3333rYhE+7peRTmVoMjSo0cPKTu/zZuHDRs2SPll2WB5/H7mTDz+2ONI2JJwSGWCotLf77gNHWVCR0eJw/3xJ58gMXG3HJvn4OiNd95+Fw+ZMm8LmzJ50iSMHzfO2JUgY5Om4+VXXsK27dtl+7zcPMRvjMcD9z2AhIQEEW2uuvYadDfpb4ktnQebXm6397be3l7ijc53yNatW7Fo0cKmNBhbwYXreV4f3/9v7z7AoyjXt4E/tNASSkIgCYRACEXpIB2RJkVQmvQqTYqgoqigR7oUwd498vdYQA6fBSz0XqQjJSGhl5CENEhIIQXmm/vJTlzCJgQPCLL3j2uvhJ3ylpmd7DzzzjMl9BizceNG2WH3dwb1Q4oGpG+wgv630H23BR4ujQdN16xZS++SeXXyJPnJ3J64WIs64m9ARHiEHguX//yLnDqdcYym+xu+G+FBlGFhYQ4D444+D/8LBDqfeKKLzJkzVzp3flyiYqLlwMEDmd+98NnA5wk/AZ8XR/Wyh3lupY5Z58X/cWzCs2Ywih7HP1z8woAJXJjHXSg4BqFeeB/pkm6F1SaUgwtOOdUV09De3LYpv1lX1A11RjlB5rEmLs7x3SBYZ2b5tv7NDay3kvmdFcfAI8HB5jHj9A1pC3OC8rCOa1ev3XCxNavEhES5dPGSjlDHMYtyxsA4ERERESnf8uXF28dH4uPiJfJC5A0nEzhh6Natq1SsUEF27tolz0+YIAP6D5BhTw2T7t27ay5YBG6aN2umucrvBNQJr6DDgRITFS3lzZMw5G+9XTACuk6dOpp2YP369TJkyGDp3auXPDtuvHz4wft6EoNRYY888ojeQo2g8OZNm6R///7S/tF2OlJqxLAR8vjjj0t3s69ef/1fegJkP2oQy+OFE5zsRmTiYVsYkY0T7Z07d8qwYcOk55M95ekRI6Vnz54yc8YMqVW9ptSsXkMDWVm3FdaNF4JnOFE9FHhYA+mPdepkbq+h0umxTjJ23DNy7PgxzSs+bvx4qV27tp502nvQnObvX1H2798vC+bPlxUrV+r71rqRt3Lw4EEaWMfo1ZEjRsiAfv3lmbHPyPChwzSn8pM9uutDBzGCNWs9ie5HuOsEn1mMkETgF8eKnj16yqCBg+TRdu00J290TLQ0a9o022OAI5gXx7spU6ZK1apV9WLVlNdfl0cfbSuDBgzUY1WLR1rI3LlzZOfuXRISEqLHHiw34YUXpXfvPnrx6/PPPtNlevfqLUMGDZY2bdvI2vXrdDT306NGSePGjTTtgT3rmIJXTqzPuHWMs4fjS+NGjc2/IRU1MD5l6lSzTr1luPk3ZIR57ECwx7dcWWnbsrWmdsJD44YNHSoDBw7U1Ap9+vSR/y5ZIm3M6biQm/V49XdAm3Dcnz1njlSr9oBe/MMF4SeeeEKPrfgb8Nhjj5l/K7vJzOnT5Kfvv7ctSfc76/uJI9hv8JnA9JsFqO1hfvs7T6z1W+vz8vbOfBYAArbWXW6Y7u5RSv9OAy7cO7qzAbBOXLg+dvy4DgK42V0OVhtw1xnKQ7mAMvHCd0UPj4wHbWNe1B3PhMG0+vXqi39Ff9m2bZs+aBMXl6xgvjU/XmirtV4Ljk+lS5fR+fG5s7+L0R7eQ58h+B5y9JjDtHhZIYVeubJl9bON48rGdevlnFmGfR2wDtQXZWPww83WmRW2V6s2rcWnrI9uC1z4w8WBrGWg/9GvmcF3GyyfN19eiTOXDToUeF2/ZQfrRl9QzhgYJyIiIiJVzM1NqlSuLInJSRpUsU8jYp3wDB06TEaNHqXpRHCitf337bJ7724p5ekpE196SW/vbd7iYSlStKh+ic8K68CJWk4BDcyD6Xg5WgdOcn7fuUOuGdekckClW8oxbr9u/J4V3h/7zDjp26+fjgzHCMA9e/fK6jWrZdfuPXqSgeWQJxMPw1q4cKEGqnHCduzEcflt5QrZsHGD3jrs6+srEye+pMFl6+QUPEq6Sxnz5K5IUVftN0fQ7mHDhsuLL74olcyTSJys7tu/TzZt3azTXpk0Wd778H15uPnD4mquJ2s/IfiFwBLa8KRZv0WLF0v3Lt0k3jyhWm/W70jwEZ2nS9cu8sknn+gISGuklL36Dz0k1apV099PnDihOXUtmBfBs1GjRsuCBQukXbv2enK9fcfvsmLVSu2HCxEXpHXLVjJ//nwN0Dvqc6L7DS5WderUSS844YGZCEzsP7BftmzdIoXNY8XkSZNkydKl0rNXLyngUsDhcc4RfH7wue3YsYN8++0ivQhXskRJDQDhc7dnzx59iHK3rl11JDlSPuFzDT7eXjJlyuv6cDzkBcbFz7379sqWbVu1flWqVtF1vmwex/GwzqyfVYw8xAU7HMty+hyjLRjNiuNfVljuqaFDNOctguOxMbGy1zy+rt+0QY4dO6ajSrH+Zyc8J72e7KnPvEDbEETbu2+fjjh96ZWXZe6bc81jX7PMnMBZoQ7Z/Z3B/Hj/Zu2w5nG0bbB9mzdrav69WygD+vfTvwc4Pm7asllWmH8DEPRH+xHsx4OHs8pN+fTPgoAp9tXsFC9WTIoXL6EBX4wqx3cJBDVvFtjE9zDckdC2bVu9M8sKmGJ5/Nypn/tduk/ibyz+5gP2LfeSJXQ/gz17dpufsaO6jLU8oHwEmAcNGqTp1IYOGSr79u67ab0Q2MX3E1zcwohwa5144YIdnkeDwC329YDKVczvaRmpPPAw2jZmW9CO5cuWy7w58/T7jbUs1oNA+rLlyzVobF8P/V5Txkvbhvm2bNmqZVllozxAGrtVq9dIkyZNzGNhF/n3F1/oHYY5wToxsOOpp4bqsxzwHfOdd96RQ4cO6vqten3//fcyefJk/T/k3EvXQxm4cNmhfQf9fvbTTz/K3LnzzDIy+g8vfL/dvn27bo/fd+y4bkQ5ctp7eXpJYlKinDx9UtNoWcs5DpLnMfvlmiTz+S83lcfsvFvZlkRERER0H1u3bp1MmzZNT5TmzJ0r7du1s03JOIHCF3ucHODEDoEAfGnHbZoYsYT8sTihwEkObn3HqGuMeMbJDOCLO6ZhWZzEVahYUVwcBGORsgSjLNNS08SjlIeUKVPGNiVjHTjhGjXqaU37Ms08KWvUqJFt6s0hDzrSiGA9qBteWcu/ak5D/c+HhmpdcaKCgAwCXLggYB8oQfsxL07Ows15o8wTlVLmCY+nWW8EktAv6BP7ZXBCifYB2oaTHUdQR8yLkdYYoYQTSYzMRr9ivbh1+4LZlpiYWM0Nj9uArZNgnCihTqgbcuLipBx9j3Jxyz/qg+2GdCiog7WNssJJPIL8CPRcuZIRPKtXt65t6p8Q0MJJGvYN1Bc5xUuX8dSc7dZ+kF0Qi+h+hONlrO24gJHb+D8+b/js4rOK4wKOs/i8uLm6Slnz82h9fnMDD4eLjo7Sz120eQxAeqkC5vIBAQHi4e5hfu4z0gJkheNrRmqSaAk3jx9pqSlSuXJlDagh8I1jsyM4/uA4hHZ4e/toqqesQWME2HExEccetA/rc/SZx3EC68LLSrGAYwTqgUAajn1RZh3PnQuV02dO63uYx/o7g7ri2HfRPD5iBGlJuwAg6hAZGWWWEaPHYIwst+qAuuNvgP59MY/dOKZ7eHjoNHsoH2mn0GYcn7G9HPULgnHoSxxb0WYERnGhFsdUHPcyUmKVyOwnlI+/JxhtikAqjsGOyqd/Hoz+bWd+X6pfv76sWrVK93972JfeeOMNffmW85Wxo8fI8KdH6H6C/RMpkIYPHy67d++W2bNnyyuvvKLL4e/17DdmyZf/+UovtlSvXl0q+PqJdzlvOXPmrOzYsUPTrSF107Rp06Vz5066HPY1/P0ePXKU/PDTj5J+NV2Xrf5gdT3eVK9eQ0aOGpm5r+MuOOy/uMiP8ocMGZLtdxPs95s3b5Hx48eb+/JZ/VxWf+BBvess7Wqa7NmzV4Pa+Jw/8XhnmffmfN3X0U6Ut3PnLplrfr/E803wucf3qqZNmprr8ZSDZj/gIhm+p+Fho2PHjtGAP+B7zYEDB/TOERw78DlDuyv6VdDPGu6Ia9ykiT6899///kJee3WyHjvwvQnp6BxdrLOnxx3z+DVu7Dj5beVv5rJ5zTK8pHat2nrcOXrsqH52cSwoUay43on37HPPyfhx47QdlrfeekteeOEFTbeEQQNt2rS+7lgZHByid1giMI76YZT6A9UekJJmf+M5EPh7gYEnWMeoUaP07wZgOy2Yv0AfwIptg2N9o4aN9O4j3KHUrFmzzIEiP37/g0yaNFncS7nryHwMcOD3rxyYHxgiIiIiImWeyBjml3GjaNGixgsvvmh71zHzxN5ISkqy/e/vYZ4YGTOmzTA83N2NWW+8YcTFxdmm3Bloo3lCa5gnTLZ3speWlmYkJCToz9stJSVF63E7JCcn6yu30Hb0A9pmnmjb3s0e6qr9YG4rIjL0OInXzY8if83Vq1eNRHP9t/K5Bsx/u44rf8XNjq94H/12q+26G1BXtAVtIuezdu1ao2DBgsYjjzxixMfH2979E/aPb7/51ihfrjwGphp16tQx9u7dq98X8Pndv3+/Ubt2bZ02Y8YM21KG/i3dtWuX8Yb5fadRg4ZGoUKFDFdXV6NM6dJGkSJF9LtamzZtjUWLFt3wfQjrPXjgoDGgX3/D1ZwP69ZlzFeXJ7ro32rUKyYmxhjQv5+5riI6z/ARI4zg4GDbWm6EZSIjo4yff/7V6NO7j+Hm6mbkkTxGKY9ShoeHu64D9Rw9Zoyxb98+LcdeUlKy2d4/jKlTpxlVKlfR+YsXL26UKVNa+7BEiRJGhw4djGXLlmn77V26dMl47733DH9/f10ub968RuHChY16deoaP/y/73UeHC9++/U3o1bNWjodffT7jp25+m6GPgsKDDImT37VKG32McpwKeCi7fHy8jLGmm36+eefjfHjx+t6J02ebPZFpG3pDJ9++qnh4uJiVKlS1Vi5cpV+b7WHegQGBhrTpk01KlXKaAfWj37EcmXLljWef36C9p39sQ/fv9Zv2GC0adtWl8HLzc3NXLaw8c477+p2tKw2y21o7i+NGjUyDh48qNuMsscR40RERESUCV8Nf/jhB3n11ck6KvCbb77RUXVZRwbeDRilhBEzGMmUnJQkc+fNkzZt2timEhEREf39Vq5cKV27dtX0HcuXL9e0HFnhDjSMlg4JCdaR2Rj5jNHW+H6Fu8PwPBHcfYDnnGB0tz2MZA4JDpFzoedsd0TEiqtrUb2TIiCgslStWkXvIrNnhfoOHzosBw8d1Af/YtQw7lLwr+QvrVq20hHL+G51+NAh+fI//9HvfF3MdkycOFEfMJ4T3LWCtmCEN+qNF+7YQJtQBkaQ446N7L4/4s6NQwcPSVh4mLYpPj5On6GAkeAYJY4R0VlH3qOuKAcpmI6fOCkx0VE66r6CXwWpW6+u3qUCePAknhMzd84cCTl6VDZu3iS1atbM9XfZs+fOycEDB+Ts2XM6IrtI4cI6shvbBSPPsc6Q4GCpbL6HfsIocgvuskNaq8KFi0j9+vV0xLej0drYH5CGRsuIjpbU1BRdd8ZI+OpmW3xvqG9CQoIEBgVJoLkc7lLBHUAYEd+wYSOzvyrpfgVIezdlyhRJSU2Vf//731KjRg2OGM8BA+NEREREdB3cTrtgwXz58sv/6K2cL7/88i3d4n+nJCcny4fvfyizZs+SZ54Zp7fYWreYEhEREd0Na9as0VQqCEAiwJ3Ts08uX06Q9PQ0DWQjWHmrAcvU1DRNw1S4cKFbesYKgqiQNdhseWXSJPn4o4/0O9+YMWOyTaWSncTERE1RZLXrVuD7HdIqIcid2+B1SkqqJCRc1vY4ShuFdH/du3WTAvkLyI/LfrppKhVHrl27pumXEPhGOrg7xdon0P7cQn+h3xylY1q1cqVMnjRZChctIl999ZWmq2FgPHt3f+gPEREREd1TMAIJD1JETsLzYX8+JOpuu2bWITwiXOrUqSuPmiegyJ1NREREdDchOOvt5aWjoLds2SJxcfE6otrRdyc3N9fMAPBfCVa6uBQQDw/3WwqKA+qYNSiO+iEX+Vazzr/9+qu4u5fUkd5ZR5/nBnL6I5j+V9qEoDMCvLkNigMe/o1lsgbFEczG6Hg8HP3kqVPyRJcu2V4MuBnUB9vqTgbFwdonbgW2v31QHNsSFybw/IiDBw/KmbNndFCLuzkPx0PnLN9Uk+13IiIiIiKFh5vhFlE8SAqjbP7qCdztVqhQQWnSpLHUq1f3lk8KiYiIiG63jJHF8RqQxMMwo6KjJI/5r1Qpj8z0FvcipD5BIH/+gvkSFRklTw0ZIu07dPhLgfF7BdKgfPTxx/rQSaS2Gf/seE0JiLQx9zOkVvnttxXy448/yI8//aT/79Sps3R67LF75jv8vYqpVIiIiIiIiIiIiP6C9PR0CToSLG+/tUAD40hx0advXxk0cOA9nfINuc3fffcd+eWXX6Vr1y4ycuRI8fT8Z9+Nt3nzFpn86mQp5eEhEye+JI0bN7rvg+Jw8uRJmTVrluzdu0+KFC0iTRo3lhEjRkq1alVtc1B2GBgnIiIiIiIiIiL6H2DkeHjEBbkYGyOlSpVymOrjXoIR40eOHJGYmFgNICMdyj9deHiEHD12TNMBlvYs5TQjpa9cuSKhoaGaNqV0mTJSzM2No8RziYFxIiIiIiIiIiKi/4EVXsNPKyh5LwcnUU+rzqjn/RBItdr0T+j/28najvacpe3/KwbGiYiIiIiIiIiIiMip5P6Rr0RERERERERERERE9wEGxomIiIiIiIiIiIjIqTAwTkREREREREREREROhYFxIiIiIiIiIiIiInIqDIwTERERERERERERkVNhYJyIiIiIiIiIiIiInAoD40RERERERERERETkVBgYJyIiIiIiIiIiIiKnwsA4ERERERERERERETmVPIbJ9jsRERERERERERHR3wrhyWvXrsmlS5ckJSVFihZ1FTc3V8mb9/4f04u2p6WlaftdXFwkT548+qI7jyPGiYiIiIiIiIiI6K6KiY2V4cNHSPXq1WXevHmSmJRsm3L/QlD88uXLsnXrVvn1198k1uwDBMjp78HAOBEREREREREREd011ohxBIkxajwpKUnfu9+lpaXLzl27ZfDgwTJhwvMyf/58iYmJsU2lO42BcSIiIiIiIiIiIrprrPQhVgoRZ0knkpqaIuFh5+X8+fMSEREh0dFRcvXqVdtUutMYGCciIiIiIiIiIiL6mxUqVEiaNm0qs2fPluEjRsjgwUOkRIkStql0pzEwTkRERERERERERPQ3y58/v/j7+8uwYcPkueeek0aNGmmwnP4eDIwTERERERERERHRveP+Ty+eKW/evFKqVCmpHBAgLi4uTpFC5l6Rx3CGTPZEREREREREREQ3ER8fLyEhRzPyPoeFSfHixaVE8RI6qte/kr8GLrNKS0uToKAgc5kwOXP2rBQuXFiXKe9XXipXrixFixa1zfknhOMuJyTIH/v2i0tBF3nggQe0rNDQUAkMPCzh4RGSmpoq/hUqSkCVylK+fHkNoALmOXXqlJwzy4pPuCw+3j5SvXp1qVSpkk7P6ohZt+PHjktF/4pSo2ZNbeMff+w313NeH3Tp5uYmPj7eUqtmLfEsXdq21J9SU9PkzOlTcubMWSlbtqz4B1SSq+npsnfvXjly5IjmxK5m1r9Vy5a2JTIgb/bxo8ckMjpKYmNjpWiRotonFStWFF9fX9tcGdAfkVFRMqD/AFm7do08//wEmTFzply7mm5ujxAJOx9mbo/z2kflypWVBg0aaj/nJDo6Wg4eOKh5u2PM8t1LlpRyZrkBAQFSpkwZ21wZUD4e/rnj9x2a97tGzRri6VlaLl68KEfN/QFtuRB5Qdzd3aW8uY7adepo+Y6C2Ngfjh49avbxH9q/WLdvOV/xKesjVatWlWLFitnmzBAfFy+/b98uefPlM/uxmnh7e+tI8qyw3hPHT8jJkyflUtwliYuLk7I+ZaV4iWJSo0ZN8fDwsM15PSz3x/79cjH2ojRo1FBKmv1wyVwW2+b48eO6LrznVcZLmjRt4nAfv18xME5ERERERERERE4NQWgEHNesXStrVq+RoMBAOXHyhOZ7LuvtowHF7t27S7NmzTQ4ChrMjYyU9evXy7Jly3SZQ4cPayDc28tb6tatKx0f6yitWrYSvwp+1wVREUwOOXpMJr30krgUKijPPvecuLm6ypIlS+TXX34xpx2VlJQUafhQQ3n4kRby7LPjNSgdEhwsixYvlk0bN8mhQ4c0qFmlalXp3KmTpuOoVq1aZgDdMm/OXPm/hf8nXbp1kSFPPSXLly+TX8wyDh8O1MBvsWJu8uCDD0rXLl2lW/ceEhBQ6bp1xMdflsWLF8mib76Vdu3bSb9+/WTP3r3ywQcfyObNmyV/vvwyevRoee/993R+tA0XCpYuXSob1q2X42Y/xsTE6MUC1K9Fy0ekb+/e8oBZpvWQTe1L+8D4hAny1JCnZNOmjbJq1SoJDjqi60Hwt2bNmjJo4EB5/IkndKR1VunpGcH0n376SX5e/rOcOnVSLl66JJ6lPG3lt5AuT3SRWrVqZbYTQXHsA0MGD5HQ0LMybfoM8fPz03WsXbPW3LZBcu78OfHy8pK6depIL7P+3bp100C9vfi4ONn++++yaNFi+fnn5RoYRxn+Ff2lqll28+bNpEOHjlKjRvXM4HewuU0H9BsgBQu6yIQXXzSnt7/hYkpUZJRs3bpFfja32+6du+R8eJhuu0r+lcz9wkf7onPnznoBJ2tgGxdCRo4YLsePnZBPPv3ErHMJWblqpaxeuVp27Pxdos1t4222q0rlqjL4qcHSo0cPvVjiKOh/v8k31WT7nYiIiIiIiIiIyOns27dP3n77bfn4o4/k7Nmz4uXtLQGVKknp0qUl+UqybNu2TdJSU3WksDXa+MKFC/L119/IlClT5PDhw1LS3V1HBCN4es0wZMeOHeZyW+VqWrqO5saoXAuCx6dPnZLPPv9Mly2QP7+sXr1aVqxYIYUKF9agrKubm4SEBMuePbt1FDEC5e+++66sW7vOXP818S7rI8XMec6dO6cjwBMSLkurVq1vSMex+LvvZMXKFXLlyhUNGH9ktrFgwUI6Ch3l4PfAwCDZvn27XL12TapUqaKjqy3JycmyecsWDRK7uRaVxMREXQfKxby1a9eRtq1bS526dXV0cmBgoMydO0cWfvGFpJptx+jwhx56SNtw7Nhx2bZ1q0RHRUu9+vV19LRV18SkJPnhhx/0AgUCtUePhsiXX/5HkpISxd3DXS8MJJvzBB05ovXBOhEItg/iI7iNUexvv/OOfPD++xp89jXbidzdJUqWkOMnjsv6deslIiJCl7ffJgiov/nmm7Jr927dxmvXrpWFCxfKldQUKV2mtJT18dG+OHDggOw252nevLn4mO/ly5dPl0fbt5v7yZSpU2TNmjVSoUIFveCAh2uK2USMIsdFFKwbI94LFMgIjKMfZ86aqaPamzd/WJexzzMeF3dJ+2Xa1GmyYeNG3S+w7ay2B5vbFBcoMEIe76NO9ts/ISFBXnrpZTl2/LhOX75sufy/pUvl0uVLUq6cr+7rly9flsOBh2XDhg3Spk0b3VZWu+5rGDFORERERERERETkjC5cuGAMGzbMkDxilC1b1hgzZowRGBhoJCQkGMnJyca6deuNgQMHGt9++61x8eJFXSYxMdFYuHCh4enpabi5uRlPPvmksWPHDiMpKUmX2b17j9G7d2+dVtbbx5gxdbq5TJIuC2lpaTp/lSpVkMnBKFSwkFG9enXjtddeMw4ePKjl/PLLL0aTJk2MQoUKGRUqVDCqVatm+Pv7GzNmzDBCQkKM2NiLxsqVq4zHOnTUdfj6+pr1DtJ12xs3bpxOL1CggM4zePAQbVN8fLy2cdOmzcajjz5qFC5c2ChWrJgxd+5cIzU11ba0YVy6dMl4Y/Zso2TJkkbTRk0Mz1KljNq1axuffPKJceLESePsuVAjKirauHbtmhEaGmr079/fKFKkiFGuXDnjgw8+1GmQlJRs9uEi48EHHzR8fHyMOWY5V65c0eWuXr1qRJjboW3bR7Wu+fLlM/z8/IxnnhlnbNu23YiJiTHOnTtnzJn9huHt7a3zTJkyxYiIiNB1A9Zz4sQJY+jQoUbBggW1r77++pvMbYay/rvkv0aDhxrodp71xiyznWm6HF7YbvXr18/sq1Lmtu3bt5+xavVqrdvp06eNd95913B3dzdcXFyMf732uhF2PkzXDWFhYcbLL7+sy2NbrVmzVteJdcfFxRlffvl/xtTX/2Xs3LnDtkSG/fv36/rQ959++pnOa8G2XLbsJ6Nhw4baJvxctHix7rMpKSlGUFCQMXbsWG0Pyh0xYoQRHZ3R3xb0Hfo7b968Wk7p0qWNUaNGGVu2btW+OXnqlPG62ZcoH/vrxIkTzW0WZVv6/sbAOBEREREREREROSUEZN97512jgl8Fo0TJEsZzzz1nxMbG6vtWwDQ9PV0D4QgW4/+wccMGo3WrVkb+/PmNhx56SIO2CGJay2D5kydPGoMGDdJ5mjZpYqxfv0GXhayB8cYNGxs//vCjBjutshG0RKDU1dVVA7XVq9cwflq2TIPZ1jyo03fffadBTwQ8EXhGXe1ZgXG/8n7GGzNnGfHxl7VN9nVFgLVNmzZGnjx5NLCNALPFCowXL15c24KgL4L2aIN9PyEI/NuKlRpgRfB4yZIlGnzHNMDPxKQk49PPPtMALdaDwLa1DvvAOILf06dP1+Wt6fiJPmnfvr0GiR/r2MHYuXOnrhvQF0uXLtV1Y/lvvvn2hvIRHJ/9xmyjgNkOXHQ4dfpM5vrtA+Ply5c33n7nHb34YN9X58+f1+UKFypkPPJwC+PAH3/oumG/+Xuv3r21/C5dumQGxQE/09PTjDSzjijPXk6B8VOnThnDhw/X7Yu6rV+//ob9DNt7woQJunytmjWNb7/5OrNcsALj2LbY3z788KPr+h0/Q4JD9AILLo7UqVNHy3UG1ycdIiIiIiIiIiIichIXL16S7Tt2yNlzZ+Wh+g2kZ89emlccKSqQjgIv/I4HLSItB/5vGIbmEkc6D6SmGDFypKbHQOoJ+2UwrXXLVlLBr4I+LHPr5s22Um/Uu29vad+hvRQoUCCzbOR5rlevrv4f+vTpIw0bNJQiRYpkzoM6IcUI0mdcu3ZNwiPC9acjVatVlSe6dhFX16KZy1t1RUoUPMAT7QwOPqKpWRxB20eNGiWNGzfWsu3XExUVJT98v1R/f7JHd0014urqqv8H/CxcqJDUqllT6tSuo2lJ8PDHq1ev6nR73bp1l6dHjdbl7csoVLCg+PmW11QjUZHRkpiQaFsiIyUJUo0UNOdp06q1dOzY4YbyXVxcpEaNGlK1clXN/430Jo706tXLbEMPc18oft12LVKksDR46CFxMcs4dz5Uksw2WDAddYW0tDTNP4/ULugzyJcvv+S3bd/c2mruY9u2bNX21q9fX/s0636GbdaqdWtNwRIYFCTr1m9w2KfQo8eT0qlTJ/H09MzsV/wsVryY1KidkXMdKWWsOt/vGBgnIiIiIiIiIiKnhHzWkZEXNJhcsWIFDUQjWGjPCkJa7ydfuSLR0TEaQMTDF/EwRivIaA8BzIqV/MU/oJJciIyUnbt3acDRUdARgU8Ebe3XgXXi4ZLWujEPAuf28+B3TEdZqE9kRES2QVEEshE0xjL26wAsj4eMFi9WXGJjL0p0ZLRtyp+wDILwyNdtn5vbgkAz8qqjPnXq1tMHSKKt6Fvrhf8XLVJEvLzLaH0jIjL6Pmt9UE8EfO3f13qb68aymG6tzxITHS2HDxzU5Wqb2xH95ah85GavXLWK5lyPiAi/bh0WLGv1lT0Et73NPkB/oZ/tl61SubI0athQ24V+GD1mjPznq6/0goFVtqOychJubs+w8DDNJ96yZcsbtj/g/3goLC5uoE4oLzQ01Db1TygbbcJ+hm1kz8WloObGxzy4wIDAvjNgYJyIiIiIiIiIiJxSVFSkPngQwVQEfREQvZnw8HA5fz4j8Ijgb0BAwA3BSgsCyO4l3TUwinLwIMTcwjqt0cE5KVSwkHiX8dLf/5fRvp6epaR48WISGxMrFyIv2N79E+qBwCyCq1kDq4BA88mTpyQhMVEWLFgggwYN0lHu9q++ffvKc88/L5s3b9Hga8SFCO2b3EId/hy5f32AP97s33OhoRIXFyeffPyxDBgwwGH5EyZMkI2bNkpqaopEmuXfSn/Zl2+9LNh3Hn/8cXn55Zc1+Lxh/XqZOXOmjtD+8MMP5fTp07fUVsADXi+b+0zx4iXM/bOc7d0blSheXB9kCng4alSU4wsb2dF25cuvfYHt8lf3oX8aBsaJiIiIiIiIiMgpRUVekISEy5mjqXMj5coVDQIDlkPKk+yCjkjLghdcvXrNLCvxtgcdETy3Rjdbr7+igEt+yZc/n6Smp0pKaqrt3dxDQBX9gmBjMddiEhsVIxFh4de9ws+HyZXEZPH3qyh1a9eRCuX9HAbZcyNrMzFaOiU1Rfs3JSVFLoRHOCw/NTlF/Hz9pE6tOhps/qv9lRXW4+fnJ2PHjpXPP/9chg4dJulmn+zZs0fmL1ggAwcOlAVvvSVnz561LXFzSDeDYDq2MS5KZAdlW/2Iiy+44PNXWPvP7eqTex0D40RERERERERE5JRKeZYWV1c3DehipHFuIMc3XpB+9aoGu7ODYHF6ekZaivz58+mo3ns16JgQnyjJyVfEzewPjEC+VRgljdzVyL/dsnUreXnSKzJ12tQbXjNmzZQ3F8yXf73+ujRs1FADvrfjYgHyl2N0Pkb/t27VSl577TWH5c96Y5YseGu+vPrqq9KiRYu/HJh3BBdKcOcBRolPmPC8fPDBB1oPnzJeml7l/fffl+++WyIRERG2JXKGOw7QrykpV/SOg5xYo9FxFwNS8NDNMTBOREREREREREROqZyvr+YJRwAbaStyExxH0BEP24SkpCQ5c+ZMtoHdSHOdSL2C4Ku7u7sULVrkng2Mhxw9KlGRUfogz/Ll/Wzv5h4uFpQv56tDua+mp0uLR1pI6zZtHLxa66tZ82aZD4G8HYHxIkWL6nbB+jzcPaRdh/ZZyrUvv400adZUg9h3YntgncgL3r17d3n22Wdl2vRp0rF9R4mOipKfly+XQwcP2ebMmZfZHtxxEBsbK2dPn7a9e6OwsDDNew8IplesWFF/p5wxME5ERERERERERE7Jx9tbHzqIYOrx48dl3959tinZc3V1lQp+FaRkiRIa+F67dm22o44PHDgghw8f0mB6rdq1be/eHenpVyU1mxQpyH99KPCwXE64LBX9/eXBGtVtU3IPKWVq16kjaWYZWzZv1gebZvcg0KxuR3AaFx6qPVhNc2zv27dPQkJCbjmn952Abd++Qwdp06a1lPb0lPDz4RIeFmabmjP/iv76igiPkD1795rbz/FDMffs3isnTpzIuCjg4ZGZvodyxsA4ERERERERERE5JYxYbtKkqfj6+srhQ4dl8aLFEhwcbJv6JwQdEeS+ePGi/r9WrVrS4uEWcv78eVm69L+ye9fu64Kw+H3f/v3y8y+/yJkzZ3X+xx57zDb17sCI+N27d+voY3sYafzll1/qiHGMNq5Xt64EVAqwTc09BKaRQsSzlKcEBh+R77//XgPuWUeD60M3Iy5IfHz8bRkpbsFo8datMoLPu/fukU8//UyOHTt2Qxl4QOmlS5du6UGouREZGSnbtm3TnOIoI6srqSmSfjVdXAoWMF8utndzVqtObWnQsKEkJiXK1u3bZN26dTfkf0cfr1q5Qo6bba1SpYo83KJFjvnI6U8MjBMRERERERERkdNq166ddOjQUR/cuGTpEpk1c6YGOI8cOSJHgo7Ili1bZN68eTJt6hQNjkPtOrWld9++mnbkwB9/yGuvviorVqyQwMBAnWf16jUybdo02bhxo6a16NixozRs0ECXdQTB29sZJHbk2LGj8vHHH8vXX38t+/fv1/bt3btXvvrqK/niiy/kfGiotGrZUh599FEpVCh3DyK1h9zWyNndo1t3cTV/xzoXLlwomzZtksDDgRISHKI/0TcLzWmbN23O9Yjy3EAqlyZNmsjgIYOlSOHCZls/Ml+faPlBgUFa/uHDh83yV8s333wjmzdvti15e+zZvVtemjhRXnjhBfn1txXyh7lfYNQ8LrSgLOwLsbEXJaBKgPiWL29bKmflypUzt0dbqV27tpwy1zV9+jT55ZdfdbsFBQXpfvr222/L9z9+L1eNa9KnT1958sknbUtnsPatO71//RMxME5ERERERERERE4rIKCS9O/fVzp37iQFCxaU75YskQ4dOsi4Mc/I2NFj9PfvFi+W0PNhmlMcMCIXqTFefHGilPHyku07fpdu3brJqBFPS7++/aR7926ycsUKKV++vAwdOlR69eqly1msQKU1yhypRBylE7HmwSu74GZu5gHUGfnO586dK3369JExT4+Wvn37yqRJr0hc3CWpW7eu9OrdW+rVq2dbIoO1TvsyslOseDF5esxoad26tT6I8s0339Syhg0bJuOfGSfDzL54+umRGjDfuWOnrg/sy7D/f1b28zmqC9LiDBs2XHp076EjyD///DMZOHCgjBwxQssfMniIPPXUUzJn9hzZsGGDbanbU35CYqJcSUmRQ4cOyYD+/aRfv77y2quT5Vmz3M6dO8umjZvMfS3A3Bd6SwO7iyRZ12e/Tmjb9lF5ZdJkqV69ugbD+/bpLb3N7TRm1GjdNz/66CNzWUP3sS5du+hDSO1hv7JGkDtaP1jvO2rX/YyBcSIiIiIiIiIicmpNmzaTd999T6ZOnaoBSIx+PnwkUI4cDdF8zb169ZRPP/lER5dbkIZlxIgR8u23i+TxTo9rIPboiWMSExuj+babNm4iM6fPkJdeeklHltuzgpXIP126dGl9AKijPOX58uXT6Vg3HtzpaB6sB2lMMB/KzS7fefPmzeXzzz+XIUOGaB7ukONH5fLly7ps927d5PPPPpMePXpoQNse1of+wPrRZivI6gjqW7lygI4Wnz5jhtSsVUuDrKfPnJaDgYfk9Nkzmtf9mXFjZfjIEZlloT9QzvXtuPFCAeYrWtRV50EubReXG1OS+Pn5yZx5c+WVSZOkWbNmut5jJ45r+aHnQ8W3nK+MHzdenp/wgm2JPy9MYJ1YN/LIO+pH7YsiRRz2BR60iZQ0o0aNkmrVqklcXLxs2LjJLDdQ+6/VIy1lxvSZ0qVLl+uWw+/Yvlhn4cKFbygXo/e7d+uq+1+vnj213ISERAk2903UE/sr9tsZ06dLrZo1bUv9CX2MVD5IF4R6YBtlhTIx4h71wCvrPnC/ymPunM5xCYCIiIiIiIiIiCgbGCmbkpKiQWPkEj9z5oy4u3uIT1kfDYYiaImgIgKoFoTVkE8aI8mxHNJmFHV1k7I+3hq0xDII3tovA9ZyyHONdCKYt1CWkb6AaXFxcTo/ApcY0Z41cIr1oGzMi+lZg6vjx4+X999/X3Ocv/XWW5qeAwHx8IgLul5vrzJm+UXN5Yo4DIiiX65cuaIvtANB65wCp1aoEX2ZnJys+byRix11QtlYHm1Fv+A9rBPL4HX5coKkpaVqG9BeR/2GdaIuWBaBXkeBesyHeVCHmJgYCQ0NlXz5C4iPuV3w0FT0E+pg9ZNVZ/Q1+hNl20+3WOtFHVA3bDf78rEsyrT2o6NHj0rxEiXFq0xGsN3R/oBlUC6gPVa/2EO52L4oN9Hc18LOh0lsbIyOQC9WrJiu19G+Adh+2N4oB/M5ape171t3ROBikKMA+v2GgXEiIiIiIiIiIiI7CBTiIZEIDt7K6FkEFxF0xDJZg7p3ixUYR57z9957T4OpgEAp3OnRwQg9oi/RH3ejX7AtM9taoIDk/ZvKR7tTU1MlL/ahLBdU/ldoDwLlji66UO7deBmBiIiIiIiIiIjIiSG4jRG4txo0xjIYQXwvBiuz1gltu9NBcUC5CODerX7BtkT5OhL7bywfbdX94Q5cDMB2w7rvRn/eTxgYJyIiIiIiIiIiIiKnwsA4ERERERERERHRfQqpROx/ElEGBsaJiIiIiIiIiIjuU6U9PcW3bDn9ibzURJSBD98kIiIiIiIiIiK6T23ftl3279sn5f3KS4OGDcXLy8s2hci5MTBORERERERERERERE6FqVSIiIiIiIiIiIiIyKkwME5EREREREREREREToWBcSIiIiIiIiIiIiJyKgyMExEREREREREREZFTYWCciIiIiIiIiIiIiJwKA+NERERERERERERE5FQYGCciIiIiIiIiIiIip8LAOBERERERERERERE5FQbGiYiIiIiIiIiIiMipMDBORERERERERERERE6FgXEiIiIiIiIiIiIicioMjBMRERERERERERGRU2FgnIiIiIiIiIiIiIicCgPjRERERERERERERORUGBgnIiIiIiIiIiIiIqfCwDgRERERERERERERORUGxomIiIiIiIiIiIjIqTAwTkREREREREREREROhYFxIiIiIiIiIiIiInIqDIwTERERERERERERkVNhYJyIiIiIiIiIiIiInAoD40RERERERERERETkVBgYJyIiIiIiIiIiIiKnwsA4ERERERERERERETkVBsaJiIiIiIiIiIiIyKkwME5EREREREREREREToWBcSIiIiIiIiIiIiJyKgyMExEREREREREREZFTYWCciIiIiIiIiIiIiJwKA+NERERERERERERE5FQYGCciIiIiIiIiIiIiJyLy/wEQWYSiBaaxkQAAAABJRU5ErkJggg==\" />"
   ]
  },
  {
   "cell_type": "code",
   "execution_count": 66,
   "metadata": {},
   "outputs": [
    {
     "data": {
      "text/plain": [
       "list_iterator"
      ]
     },
     "execution_count": 66,
     "metadata": {},
     "output_type": "execute_result"
    },
    {
     "data": {
      "text/plain": [
       "0"
      ]
     },
     "execution_count": 66,
     "metadata": {},
     "output_type": "execute_result"
    },
    {
     "data": {
      "text/plain": [
       "3"
      ]
     },
     "execution_count": 66,
     "metadata": {},
     "output_type": "execute_result"
    }
   ],
   "source": [
    "#可迭代对象Iterable：可以用for循环遍历的对象，如：list,str,dict\n",
    "#迭代器Iterator：将可迭代对象变成一个可以用next逐个取值的容器：下蛋鸡\n",
    "#作用：将一个大List存进内存会占用很大空间，而改用指针方式取出会优化这个过程\n",
    "\n",
    "# 构造Iterator：使用iter将一个可迭代对象变为迭代器\n",
    "l1=[0,3,6,9,12,15,18,21,24,27]\n",
    "l2=iter(l1)\n",
    "type(l2)\n",
    "next(l2)\n",
    "l2.__next__()\n",
    "\n",
    "# 注意：直接对非迭代器对象变量用next()命令会报错\n",
    "#next(l1) #TypeError: 'list' object is not an iterator\n"
   ]
  },
  {
   "cell_type": "code",
   "execution_count": 62,
   "metadata": {},
   "outputs": [
    {
     "data": {
      "text/plain": [
       "6"
      ]
     },
     "execution_count": 62,
     "metadata": {},
     "output_type": "execute_result"
    },
    {
     "data": {
      "text/plain": [
       "9"
      ]
     },
     "execution_count": 62,
     "metadata": {},
     "output_type": "execute_result"
    }
   ],
   "source": [
    "# 这里可以一直运行这个cell，直至迭代完一遍，运行到末段即停止\n",
    "next(l2)\n",
    "l2.__next__()"
   ]
  },
  {
   "cell_type": "code",
   "execution_count": 23,
   "metadata": {},
   "outputs": [
    {
     "name": "stdout",
     "output_type": "stream",
     "text": [
      "2\n",
      "3\n",
      "5\n",
      "7\n"
     ]
    }
   ],
   "source": [
    "#生成器Generator：迭代器的一种，会按需生成其内容（即满足要求会返回其结果）\n",
    "#列表是一次性生成，缺点是当内容过大时会占用大量内容，那能不能用到多少生成多少呢？\n",
    "#Python里一边循环一边计算(惰性计算)的迭代器Iterator称为生成器（Generator）\n",
    "\n",
    "# 构造Generator\n",
    "#1.直接从列表推导式生成\n",
    "g1= (x**2 for x in range(30) if x%2==0)\n",
    "type(g1)\n",
    "next(g1),next(g1),next(g1),next(g1),g1.__next__(),g1.__next__()\n",
    "\n",
    "# 注意：列表推导式外加[]生成List，外加()才能生成generator\n",
    "L1 = [x**2 for x in range(30) if x%2==0]\n",
    "type(L1)\n",
    "\n",
    "# 注意：想要遍历的但是不知道有多少循环的时候，用while和try...except结构来取\n",
    "# 以下用迭代器来访问l列表中的元素\n",
    "\n",
    "l = [2,3,5,7]\n",
    "it = iter(l)\n",
    "\n",
    "try:\n",
    "    while True:\n",
    "        x = next(it) #获取一个数据并绑定到x\n",
    "        print(x)  #2,3,5,7\n",
    "except StopIteration:\n",
    "    pass"
   ]
  },
  {
   "cell_type": "code",
   "execution_count": 22,
   "metadata": {},
   "outputs": [
    {
     "data": {
      "text/plain": [
       "(0, 1, 4, 9, 16, 25, 36)"
      ]
     },
     "execution_count": 22,
     "metadata": {},
     "output_type": "execute_result"
    }
   ],
   "source": [
    "#2.函数生成，与yield关键字\n",
    "# yield弱于return：yield可以返回后继续循环，并且构成generator结构；但return只是普通返回数值，没有generator作用，返回一次就结束。\n",
    "def g2_func(n):\n",
    "    for i in range(n):\n",
    "        yield i**2\n",
    "    \n",
    "g2=g2_func(7)\n",
    "next(g2),next(g2),g2.__next__(),g2.__next__(),g2.__next__(),g2.__next__(),g2.__next__()\n"
   ]
  },
  {
   "cell_type": "code",
   "execution_count": 10,
   "metadata": {},
   "outputs": [
    {
     "data": {
      "text/plain": [
       "('C', 'h')"
      ]
     },
     "execution_count": 10,
     "metadata": {},
     "output_type": "execute_result"
    }
   ],
   "source": [
    "#yield from/子迭代器，后面直接是可迭代对象。\n",
    "def yield_from_iter(iter_object):\n",
    "    yield from iter_object\n",
    "    \n",
    "y1=yield_from_iter('China')\n",
    "y1.__next__(),next(y1)"
   ]
  },
  {
   "cell_type": "code",
   "execution_count": 20,
   "metadata": {},
   "outputs": [
    {
     "data": {
      "text/plain": [
       "('2', '0')"
      ]
     },
     "execution_count": 20,
     "metadata": {},
     "output_type": "execute_result"
    }
   ],
   "source": [
    "# 注意：可迭代对象：字典，字符串，List\n",
    "def test(iter_object):\n",
    "    yield from '200200'\n",
    "    \n",
    "y = test(None)\n",
    "y.__next__(),next(y)"
   ]
  },
  {
   "cell_type": "markdown",
   "metadata": {},
   "source": [
    "## Python基础练习\n",
    "### 第一题"
   ]
  },
  {
   "cell_type": "markdown",
   "metadata": {},
   "source": [
    "1.实现一个功能，用户输入一个字符串，修改字符串中哪个位置，程序就会输出修改后的结果。（输入用input函数）\n",
    "\t比如输入： 'fkjava.ipg'\n",
    "\t\t 6 -\n",
    "\t程序输出：'fkjava-ipg'"
   ]
  },
  {
   "cell_type": "code",
   "execution_count": 133,
   "metadata": {},
   "outputs": [
    {
     "name": "stdout",
     "output_type": "stream",
     "text": [
      "请输入内容：阿瓦群奥奥\n",
      "请输入修改位置（0为起始位置）：1\n",
      "请输入修改内容：l\n"
     ]
    },
    {
     "ename": "TypeError",
     "evalue": "'list' object is not callable",
     "output_type": "error",
     "traceback": [
      "\u001b[0;31m---------------------------------------------------------------------------\u001b[0m",
      "\u001b[0;31mTypeError\u001b[0m                                 Traceback (most recent call last)",
      "\u001b[0;32m<ipython-input-133-3c806cf09225>\u001b[0m in \u001b[0;36m<module>\u001b[0;34m()\u001b[0m\n\u001b[1;32m     13\u001b[0m     \u001b[0mprint\u001b[0m\u001b[0;34m(\u001b[0m\u001b[0;34m\"修改后的内容为：%s\"\u001b[0m \u001b[0;34m%\u001b[0m\u001b[0mcommand\u001b[0m\u001b[0;34m)\u001b[0m\u001b[0;34m\u001b[0m\u001b[0m\n\u001b[1;32m     14\u001b[0m \u001b[0;34m\u001b[0m\u001b[0m\n\u001b[0;32m---> 15\u001b[0;31m \u001b[0mmodify\u001b[0m\u001b[0;34m(\u001b[0m\u001b[0;34m)\u001b[0m\u001b[0;34m\u001b[0m\u001b[0m\n\u001b[0m",
      "\u001b[0;32m<ipython-input-133-3c806cf09225>\u001b[0m in \u001b[0;36mmodify\u001b[0;34m()\u001b[0m\n\u001b[1;32m      7\u001b[0m \u001b[0;34m\u001b[0m\u001b[0m\n\u001b[1;32m      8\u001b[0m     \u001b[0;31m# 2.处理函数（先转成字符串List，在List中修改，再拼接回str）\u001b[0m\u001b[0;34m\u001b[0m\u001b[0;34m\u001b[0m\u001b[0m\n\u001b[0;32m----> 9\u001b[0;31m     \u001b[0mcommand\u001b[0m \u001b[0;34m=\u001b[0m \u001b[0mlist\u001b[0m\u001b[0;34m(\u001b[0m\u001b[0mcommand\u001b[0m\u001b[0;34m)\u001b[0m\u001b[0;34m\u001b[0m\u001b[0m\n\u001b[0m\u001b[1;32m     10\u001b[0m     \u001b[0mcommand\u001b[0m\u001b[0;34m[\u001b[0m\u001b[0mpos\u001b[0m\u001b[0;34m]\u001b[0m \u001b[0;34m=\u001b[0m \u001b[0mchanges\u001b[0m\u001b[0;34m\u001b[0m\u001b[0m\n\u001b[1;32m     11\u001b[0m     \u001b[0mcommand\u001b[0m \u001b[0;34m=\u001b[0m \u001b[0;34m''\u001b[0m\u001b[0;34m.\u001b[0m\u001b[0mjoin\u001b[0m\u001b[0;34m(\u001b[0m\u001b[0mcommand\u001b[0m\u001b[0;34m)\u001b[0m\u001b[0;34m\u001b[0m\u001b[0m\n",
      "\u001b[0;31mTypeError\u001b[0m: 'list' object is not callable"
     ]
    }
   ],
   "source": [
    "# 我的答案\n",
    "def modify():\n",
    "    # 1.输入函数(内容，位置，修改内容)\n",
    "    command = input(\"请输入内容：\")\n",
    "    pos = int(input(\"请输入修改位置（0为起始位置）：\"))\n",
    "    changes = input(\"请输入修改内容：\")\n",
    "    \n",
    "    # 2.处理函数（先转成字符串List，在List中修改，再拼接回str）\n",
    "    command = list(command)\n",
    "    command[pos] = changes\n",
    "    command = ''.join(command)\n",
    "    \n",
    "    print(\"修改后的内容为：%s\" %command)\n",
    "    \n",
    "modify()"
   ]
  },
  {
   "cell_type": "code",
   "execution_count": 40,
   "metadata": {},
   "outputs": [
    {
     "name": "stdout",
     "output_type": "stream",
     "text": [
      "请输入一个字符串：阿瓦群奥奥\n",
      "请输入要修改的位置和要修改成的符号，用空格分开：1l 2g\n",
      "结果是： 阿 群奥奥\n"
     ]
    }
   ],
   "source": [
    "# 参考答案\n",
    "s = input('请输入一个字符串：')\n",
    "k = input('请输入要修改的位置和要修改成的符号，用空格分开：')\n",
    "num = int(k[0])   # 要修改的index\n",
    "sub = k[2]        # 要替换的字符\n",
    "list_s = list(s)  # 因为字符串是不可变的数据类型，我们字符串变成列表\n",
    "list_s[num] = sub  # 替换对应位置的字符\n",
    "s = ''.join(list_s)\n",
    "print('结果是：', s)"
   ]
  },
  {
   "cell_type": "markdown",
   "metadata": {},
   "source": [
    "### 第二题\n",
    "2.用户输入一个字符串和一个子串，程序会输出给定的子串在目标字符串中出现的次数。字符串遍历从左到右，而不是从右到左。\n",
    "\t例如给定 'ABCDCDC' 和 'CDC' ，程序输出 '2'"
   ]
  },
  {
   "cell_type": "code",
   "execution_count": 134,
   "metadata": {},
   "outputs": [
    {
     "name": "stdout",
     "output_type": "stream",
     "text": [
      "请输入一个字符串：啊、\n",
      "请输入要查询的子串a\n",
      "0\n"
     ]
    }
   ],
   "source": [
    "# 我的答案：\n",
    "string = input(\"请输入一个字符串：\")\n",
    "sub_str = input(\"请输入要查询的子串\")\n",
    "sub_len = len(sub_str)\n",
    "num = 0\n",
    "for i in range(len(string)):\n",
    "    if string[i:sub_len+i]==sub_str:\n",
    "        num+=1\n",
    "print(num)"
   ]
  },
  {
   "cell_type": "code",
   "execution_count": 135,
   "metadata": {},
   "outputs": [
    {
     "name": "stdout",
     "output_type": "stream",
     "text": [
      "请输入一个字符串：abab\n",
      "请输入要查找的字串：a\n",
      "2\n"
     ]
    }
   ],
   "source": [
    "# 参考答案\n",
    "s = input('请输入一个字符串：')\n",
    "ss = input('请输入要查找的字串：')\n",
    "num = 0                              # 创建最后输出用的变量\n",
    "len_ss = len(ss)                     # 我们的思路是通过切片来取出 s 中的一部分判断是否和子串 ss 一致，所以这里要先知道 ss 的长度\n",
    "for i in range(len(s) - len_ss + 1): # 防止后面做切片的时候索引超出上界，这里我们先减掉 ss 的长度，最后一位数不被包括，所以 +1\n",
    "    if s[i] == ss[0]:                # 判断每个字符和 ss 开头字符是否匹配\n",
    "        if s[i:i+len_ss] == ss:      # 判断接下来的 len_ss 长度的字符是否与 ss 一致\n",
    "            num += 1\n",
    "print(num)"
   ]
  },
  {
   "cell_type": "markdown",
   "metadata": {},
   "source": [
    "### 第三题\n",
    "3.提示用户输入N个字符串（N自己定义），将他们封装成元组，然后计算该元组乘以3再加上（'hello','world'）的结果。"
   ]
  },
  {
   "cell_type": "code",
   "execution_count": 62,
   "metadata": {},
   "outputs": [
    {
     "name": "stdout",
     "output_type": "stream",
     "text": [
      "请输入多个字符串，并以,隔开wo,shi,wang,ye\n",
      "('wo', 'shi', 'wang', 'ye', 'wo', 'shi', 'wang', 'ye', 'wo', 'shi', 'wang', 'ye', 'hello', 'world')\n"
     ]
    }
   ],
   "source": [
    "# 我的答案：\n",
    "str = input(\"请输入多个字符串，并以,隔开\")\n",
    "# str = list(str) 无需转化成字符串列表\n",
    "new_str = str.split(\",\")\n",
    "new_tuple = tuple(new_str*3 + ['hello','world'])\n",
    "print(new_tuple)"
   ]
  },
  {
   "cell_type": "code",
   "execution_count": 137,
   "metadata": {},
   "outputs": [
    {
     "name": "stdout",
     "output_type": "stream",
     "text": [
      "请输入一些字符串，用空格隔开：wo,shi,wang,ye\n",
      "('wo,shi,wang,ye', 'wo,shi,wang,ye', 'wo,shi,wang,ye', 'hello', 'world')\n"
     ]
    }
   ],
   "source": [
    "# 参考答案：\n",
    "s = input('请输入一些字符串，用空格隔开：')\n",
    "list_s = s.split(' ')\n",
    "tuple_s = tuple(list_s)\n",
    "result = tuple_s * 3 + ('hello', 'world')\n",
    "print(result)                                \n",
    "# 主要观察结果的呈现形式，重点理解 元组 * 数字 的含义以及元组之间加法的用法"
   ]
  },
  {
   "cell_type": "markdown",
   "metadata": {},
   "source": [
    "### 第四题\n",
    "4.用户输入一个整数n，生成长度为n的列表，并将n个随机数放入列表中。（随机数可以参考random库，百度搜索 python random 即可）"
   ]
  },
  {
   "cell_type": "code",
   "execution_count": 65,
   "metadata": {},
   "outputs": [
    {
     "name": "stdout",
     "output_type": "stream",
     "text": [
      "请输入一个整数8\n",
      "[0.2860304236207315, 0.5222306229679211, 0.09470793244234976, 0.4797546976976692, 0.5247640318457283, 0.08927824050099797, 0.15537390227430758, 0.7588213605539298]\n"
     ]
    }
   ],
   "source": [
    "# 我的答案：\n",
    "import random\n",
    "num = int(input(\"请输入一个整数\"))\n",
    "ran_list=[]\n",
    "for i in range(num):\n",
    "    ran_list.append(random.random())\n",
    "print(ran_list)"
   ]
  },
  {
   "cell_type": "code",
   "execution_count": 139,
   "metadata": {},
   "outputs": [
    {
     "name": "stdout",
     "output_type": "stream",
     "text": [
      "请用户输入一个整数：8\n",
      "[0.7400338706038501, 0.04726084801694985, 0.43063549591623773, 0.19969972440514516, 0.7805769299612269, 0.2671747617756949, 0.2648589546806024, 0.9060283244604027]\n"
     ]
    }
   ],
   "source": [
    "# 参考答案：\n",
    "num = int(input('请用户输入一个整数：'))  # 这里要注意input函数返回的是字符串类型，需要转成整型\n",
    "l = []                                # 定义一个空列表，用来装后面生成的随机数\n",
    "for i in range(num):                  # 循环n次\n",
    "    l.append(random.random())              # 这里数字范围不限，可以用random库里不同的函数来实现\n",
    "print(l)"
   ]
  },
  {
   "cell_type": "markdown",
   "metadata": {},
   "source": [
    "### 第五题\n",
    "5.用户输入一个整数n，生成长度为n的列表，并将n个随机的奇数放入列表中。"
   ]
  },
  {
   "cell_type": "code",
   "execution_count": 70,
   "metadata": {},
   "outputs": [
    {
     "name": "stdout",
     "output_type": "stream",
     "text": [
      "请输入一个整数2\n",
      "[47, 65]\n"
     ]
    }
   ],
   "source": [
    "# 我的答案：\n",
    "import random\n",
    "num = int(input(\"请输入一个整数\"))\n",
    "ran_list=[]\n",
    "count=0\n",
    "\n",
    "while count<=num-1:\n",
    "    random_num = int(random.random()*100)\n",
    "    if random_num%2 != 0:\n",
    "        ran_list.append(random_num)\n",
    "        count+=1\n",
    "        \n",
    "print(ran_list)"
   ]
  },
  {
   "cell_type": "code",
   "execution_count": 141,
   "metadata": {},
   "outputs": [
    {
     "name": "stdout",
     "output_type": "stream",
     "text": [
      "请用户输入一个整数：2\n",
      "[19, 79]\n"
     ]
    }
   ],
   "source": [
    "# 参考案例：\n",
    "num = int(input('请用户输入一个整数：'))\n",
    "l = [0] * num                           # 这道题我们换一个思路，先生成列表，用0站位，然后我们替换里面的数字\n",
    "for i in range(num):                    # 遍历l，对每个0做替换\n",
    "    while True:                         # while True 为死循环，当满足条件时我们用break打破循环\n",
    "        n = random.randint(1, 100)           # 生成1-100之间的随机整数\n",
    "        if n%2 == 1:\n",
    "            l[i] = n\n",
    "            break\n",
    "print(l)"
   ]
  },
  {
   "cell_type": "markdown",
   "metadata": {},
   "source": [
    "### 第六题\n",
    "6.用户输入一个整数n，**生成长度为n的列表**，并将n个随机的大写字符放入列表中。"
   ]
  },
  {
   "cell_type": "code",
   "execution_count": 93,
   "metadata": {},
   "outputs": [
    {
     "name": "stdout",
     "output_type": "stream",
     "text": [
      "请输入一个整数8\n",
      "['DGLUWONC', 'KFZVGJJA', 'KFHQJYDX', 'RYNKAIJB', 'KUKTMFAV', 'EPWRHDTY', 'HDBKPWVV', 'UBEHWZSF']\n"
     ]
    }
   ],
   "source": [
    "# 我的答案\n",
    "import random\n",
    "import string\n",
    "num = int(input(\"请输入一个整数\"))\n",
    "ran_list=[]\n",
    "for i in range(num):\n",
    "    salt = ''.join(random.sample(string.ascii_letters , num))\n",
    "    ran_list.append(salt.upper())\n",
    "    \n",
    "print(ran_list)"
   ]
  },
  {
   "cell_type": "code",
   "execution_count": 142,
   "metadata": {},
   "outputs": [
    {
     "name": "stdout",
     "output_type": "stream",
     "text": [
      "请用户输入一个整数：8\n",
      "['P', 'Y', 'M', 'Q', 'I', 'Q', 'G', 'I']\n"
     ]
    }
   ],
   "source": [
    "# 参考答案\n",
    "num = int(input('请用户输入一个整数：')) \n",
    "l = []                                \n",
    "for i in range(num):                  \n",
    "    l.append(random.choice('abcdefghijklmnopqrstuvwxyz').upper())   # 用upper()变成大写，可以思考还有其他生成随机字符的方式吗？\n",
    "print(l)"
   ]
  },
  {
   "cell_type": "markdown",
   "metadata": {},
   "source": [
    "### 第七题\n",
    "7.用户输入以空格分隔的多个整数，输出这些整数的最大值。"
   ]
  },
  {
   "cell_type": "code",
   "execution_count": 100,
   "metadata": {},
   "outputs": [
    {
     "name": "stdout",
     "output_type": "stream",
     "text": [
      "请输入多个整数，以空格隔开：6 1 2 8 3\n",
      "这些整数的最大值为：8\n"
     ]
    }
   ],
   "source": [
    "# 我的答案：\n",
    "int_num = input(\"请输入多个整数，以空格隔开：\")\n",
    "splited = int_num.split(\" \")\n",
    "after_sort = sorted(splited, reverse = True)\n",
    "print(\"这些整数的最大值为：\" + after_sort[0])"
   ]
  },
  {
   "cell_type": "code",
   "execution_count": 143,
   "metadata": {},
   "outputs": [
    {
     "name": "stdout",
     "output_type": "stream",
     "text": [
      "请输入一些整数，以空格分隔：6 2 1 8 3\n",
      "最大的数为： 8\n"
     ]
    }
   ],
   "source": [
    "# 参考答案：\n",
    "nums = input('请输入一些整数，以空格分隔：')\n",
    "list_nums = nums.split(' ')\n",
    "list_int_nums = []\n",
    "for i in range(len(list_nums)):    # 第一个循环，我们把所有数字从字符串变成整型\n",
    "    num = int(list_nums[i])\n",
    "    list_int_nums.append(num)\n",
    "a = -99999999\n",
    "for i in list_int_nums:            # 第二个循环，a为目前最大数，遍历列表，如果当前数字比a大，把当前值赋值给a\n",
    "    if i > a:\n",
    "        a = i\n",
    "print('最大的数为：', a)"
   ]
  },
  {
   "cell_type": "markdown",
   "metadata": {},
   "source": [
    "### 第八题\n",
    "8.用户输入N个大写字母，使用dict统计用户输入的每个字母的次数。  "
   ]
  },
  {
   "cell_type": "code",
   "execution_count": 105,
   "metadata": {},
   "outputs": [
    {
     "name": "stdout",
     "output_type": "stream",
     "text": [
      "请输入一些大写字母：KLKDFF\n",
      "{'K': 2, 'L': 1, 'D': 1, 'F': 2}\n"
     ]
    }
   ],
   "source": [
    "# 参考答案\n",
    "# Note:给的参考答案中，利用先else再if的技巧，先判断是否重复出现，再看是否第一次出现。\n",
    "# 思路：先将输入字符逐个遍历，再将每个字符进行判断是否有备案。\n",
    "s = input('请输入一些大写字母：')\n",
    "# 新建一个空dict()\n",
    "d = dict()\n",
    "for i in s:\n",
    "# 如果dict的keys中有i，那么value再+1\n",
    "    if i in d.keys():\n",
    "        d[i] += 1\n",
    "    else:\n",
    "# 如果keys中还没有出现i，则新建一个key-value，记录value为1，表示第一次出现。\n",
    "        d[i] = 1\n",
    "print(d)"
   ]
  },
  {
   "cell_type": "markdown",
   "metadata": {},
   "source": [
    "### 第九题\n",
    "9.使用循环输出等腰三角形，层数由用户输入（input），输出结果如下（输入3）：\n",
    "\n",
    "      *\n",
    "\t ***\n",
    "\t*****\n",
    "    \n",
    "分析：层数n-1，每层个数2n-1，第一层n-1个空格，第二层n-2个空格"
   ]
  },
  {
   "cell_type": "code",
   "execution_count": 112,
   "metadata": {},
   "outputs": [
    {
     "name": "stdout",
     "output_type": "stream",
     "text": [
      "请输入等腰三角形层数：10\n",
      "           *\n",
      "          ***\n",
      "         *****\n",
      "        *******\n",
      "       *********\n",
      "      ***********\n",
      "     *************\n",
      "    ***************\n",
      "   *****************\n",
      "  *******************\n"
     ]
    }
   ],
   "source": [
    "# 我的答案：\n",
    "n = int(input(\"请输入等腰三角形层数：\"))\n",
    "for i in range(n):\n",
    "    print(\" \"*(n-i+1)+\"*\"*(2*i+1))"
   ]
  },
  {
   "cell_type": "code",
   "execution_count": 144,
   "metadata": {},
   "outputs": [
    {
     "name": "stdout",
     "output_type": "stream",
     "text": [
      "请输入三角形的层数：10\n",
      "          *          \n",
      "         ***         \n",
      "        *****        \n",
      "       *******       \n",
      "      *********      \n",
      "     ***********     \n",
      "    *************    \n",
      "   ***************   \n",
      "  *****************  \n",
      " ******************* \n"
     ]
    }
   ],
   "source": [
    "# 参考答案：\n",
    "n = int(input('请输入三角形的层数：'))\n",
    "for i in range(1, n+1):\n",
    "    print((n-i+1)*' ' + (2*i-1)*'*' + (n-i+1)*' ')"
   ]
  },
  {
   "cell_type": "markdown",
   "metadata": {},
   "source": [
    "10.使用循环输出九九乘法表。输入结果如下：  \n",
    "\t1 \\* 1 = 1  \n",
    "\t1 \\* 2 = 2  2 \\* 2 = 4  \n",
    "\t......."
   ]
  },
  {
   "cell_type": "code",
   "execution_count": 131,
   "metadata": {},
   "outputs": [
    {
     "name": "stdout",
     "output_type": "stream",
     "text": [
      "\n",
      "\n",
      "1 * 1 = 1  \n",
      "\n",
      "1 * 2 = 2  2 * 2 = 4  \n",
      "\n",
      "1 * 3 = 3  2 * 3 = 6  3 * 3 = 9  \n",
      "\n",
      "1 * 4 = 4  2 * 4 = 8  3 * 4 = 12  4 * 4 = 16  \n",
      "\n",
      "1 * 5 = 5  2 * 5 = 10  3 * 5 = 15  4 * 5 = 20  5 * 5 = 25  \n",
      "\n",
      "1 * 6 = 6  2 * 6 = 12  3 * 6 = 18  4 * 6 = 24  5 * 6 = 30  6 * 6 = 36  \n",
      "\n",
      "1 * 7 = 7  2 * 7 = 14  3 * 7 = 21  4 * 7 = 28  5 * 7 = 35  6 * 7 = 42  7 * 7 = 49  \n",
      "\n",
      "1 * 8 = 8  2 * 8 = 16  3 * 8 = 24  4 * 8 = 32  5 * 8 = 40  6 * 8 = 48  7 * 8 = 56  8 * 8 = 64  \n",
      "\n",
      "1 * 9 = 9  2 * 9 = 18  3 * 9 = 27  4 * 9 = 36  5 * 9 = 45  6 * 9 = 54  7 * 9 = 63  8 * 9 = 72  9 * 9 = 81  "
     ]
    }
   ],
   "source": [
    "# 我的答案：\n",
    "# 管第二个数：\n",
    "for i in range(1,10):\n",
    "# 管第一个数：\n",
    "    print(\"\\n\")\n",
    "    for j in range(i):\n",
    "#       print((j+1)+\"*\"+(i)+\"=\"(j+1)*i)\n",
    "        string = '{} * {} = {}'.format(j+1,i,(j+1)*i)\n",
    "#         string\n",
    "        print(string, end=\"  \")"
   ]
  },
  {
   "cell_type": "code",
   "execution_count": 145,
   "metadata": {},
   "outputs": [
    {
     "name": "stdout",
     "output_type": "stream",
     "text": [
      "1x1=1\t\n",
      "1x2=2\t2x2=4\t\n",
      "1x3=3\t2x3=6\t3x3=9\t\n",
      "1x4=4\t2x4=8\t3x4=12\t4x4=16\t\n",
      "1x5=5\t2x5=10\t3x5=15\t4x5=20\t5x5=25\t\n",
      "1x6=6\t2x6=12\t3x6=18\t4x6=24\t5x6=30\t6x6=36\t\n",
      "1x7=7\t2x7=14\t3x7=21\t4x7=28\t5x7=35\t6x7=42\t7x7=49\t\n",
      "1x8=8\t2x8=16\t3x8=24\t4x8=32\t5x8=40\t6x8=48\t7x8=56\t8x8=64\t\n",
      "1x9=9\t2x9=18\t3x9=27\t4x9=36\t5x9=45\t6x9=54\t7x9=63\t8x9=72\t9x9=81\t\n"
     ]
    }
   ],
   "source": [
    "# 参考答案\n",
    "for i in range(1, 10):\n",
    "    for j in range(1, i+1):\n",
    "        print('{}x{}={}\\t'.format(j, i, i*j), end='')      # \\t为制表符\n",
    "    print()"
   ]
  },
  {
   "cell_type": "markdown",
   "metadata": {},
   "source": [
    "## 异常与调试\n",
    "目的：添加异常处理，防止程序中断带来的影响\n",
    "\n",
    "#### 异常/exception对象\n",
    "异常同样也是Python对象，表示一个在程序执行过程中发生了影响正常运行时而产生的一个事件(产生一个traceback.)   \n",
    "\n",
    "|常见异常|说明|\n",
    "|---:|--:--|\n",
    "|NameError|尝试访问一个没有申明的变量|\n",
    "|ZeroDivisionError|除数为0|\n",
    "|SyntaxError|语法错误|\n",
    "|IndexError|索引超出序列范围|\n",
    "|KeyError|请求一个不存在的字典关键字|\n",
    "|IOError|输入输出错误（比如你要读的文件不存在）|\n",
    "|AttributeError|尝试访问未知的对象属性|\n",
    "|ValueError|传给函数的参数类型不正确，比如给int()函数传入字符串形|"
   ]
  },
  {
   "cell_type": "markdown",
   "metadata": {},
   "source": [
    "#### 捕获并处理异常对象\n",
    "  \n",
    "捕获异常对象，使用try/except或try/else,try/finally 语句。即使出错了也不报错，而是使用try...except的表达方式指出来规定好的错误的具体内容（虽然不说具体的错误名）。\n",
    "\n",
    "try语句用来检测try语句块中的错误，从而让except语句捕获异常信息并处理"
   ]
  },
  {
   "cell_type": "code",
   "execution_count": 150,
   "metadata": {},
   "outputs": [
    {
     "name": "stdout",
     "output_type": "stream",
     "text": [
      "name 'never_named_value' is not defined\n"
     ]
    }
   ],
   "source": [
    "#try except else \n",
    "# else只有在不报错的情况下才会输出\n",
    "try:\n",
    "    a=never_named_value\n",
    "#     a=2\n",
    "    print(int(a))\n",
    "except Exception as e:\n",
    "    print(e)\n",
    "else:\n",
    "    print('Everything is fine')\n",
    "    \n",
    "# 这里输出错误具体内容，而不显示错误名NameError,ZeroDivisionError等"
   ]
  },
  {
   "cell_type": "code",
   "execution_count": 151,
   "metadata": {},
   "outputs": [
    {
     "name": "stdout",
     "output_type": "stream",
     "text": [
      "division by zero!\n",
      "executing finally clause\n"
     ]
    }
   ],
   "source": [
    "#try-finally 无法是否捕获了异常，都会执行finally后的语句\n",
    "x = 5\n",
    "#y = 2\n",
    "y = 0\n",
    "try:\n",
    "    result = x / y\n",
    "except ZeroDivisionError:\n",
    "    print(\"division by zero!\")\n",
    "else:\n",
    "    print(\"result is\", result)\n",
    "finally:\n",
    "    print(\"executing finally clause\")"
   ]
  },
  {
   "cell_type": "markdown",
   "metadata": {},
   "source": [
    "## 函数\n",
    "\n",
    "\n",
    "你可以定义一个由自己想要功能的函数，以下是简单的规则：\n",
    "\n",
    "- 函数代码块以 def 关键词开头，后接函数标识符名称和圆括号()。\n",
    "- 任何传入参数和自变量必须放在圆括号中间。圆括号之间可以用于定义参数。\n",
    "- 函数的第一行语句可以选择性地使用文档字符串—用于存放函数说明。\n",
    "- 函数内容以冒号起始，并且缩进。\n",
    "- return [表达式] 结束函数，选择性地返回一个值给调用方。不带表达式的return相当于返回 None。\n",
    "\n",
    "\n",
    "### 函数定义"
   ]
  },
  {
   "cell_type": "code",
   "execution_count": null,
   "metadata": {},
   "outputs": [],
   "source": [
    "def my_sum(a, b):\n",
    "    \"我是一个求和函数\"\n",
    "    return a+b+1\n",
    "my_sum(4,5)"
   ]
  },
  {
   "cell_type": "code",
   "execution_count": 3,
   "metadata": {},
   "outputs": [
    {
     "name": "stdout",
     "output_type": "stream",
     "text": [
      "1 1 2 3 5 8 13 21 34 55 \n"
     ]
    }
   ],
   "source": [
    "# 定义斐波那契数列\n",
    "def fib(n):\n",
    "    a, b =1, 1\n",
    "    for i in range(n):\n",
    "        print(a, end=\" \")\n",
    "        a,b = b,a+b\n",
    "    print()\n",
    "\n",
    "fib(10)"
   ]
  },
  {
   "cell_type": "code",
   "execution_count": 4,
   "metadata": {},
   "outputs": [
    {
     "name": "stdout",
     "output_type": "stream",
     "text": [
      "姓名: 隔壁老王\n",
      "年龄: 50\n",
      "姓名: 隔壁老王\n",
      "年龄: 35\n"
     ]
    }
   ],
   "source": [
    "# 函数默认参数\n",
    "def printinfo(name, age = 35):\n",
    "   print(\"姓名:\", name)\n",
    "   print(\"年龄:\", age)\n",
    "   return\n",
    " \n",
    "#调用printinfo函数\n",
    "printinfo(age=50, name=\"隔壁老王\");\n",
    "printinfo(name=\"隔壁老王\");"
   ]
  },
  {
   "cell_type": "markdown",
   "metadata": {},
   "source": [
    "### 变长参数函数\n",
    "\"\\*\"号有收集的功能"
   ]
  },
  {
   "cell_type": "code",
   "execution_count": 6,
   "metadata": {},
   "outputs": [
    {
     "name": "stdout",
     "output_type": "stream",
     "text": [
      "输出:\n",
      "10\n",
      "()\n",
      "输出:\n",
      "70\n",
      "(60, 50)\n",
      "(70, 60, 50)\n"
     ]
    }
   ],
   "source": [
    "# 变长参数函数：除了正常对应位置的参数，其他剩余输入参数均被收集到一个tuple中\n",
    "def printinfo(arg1, *vartuple):\n",
    "   \"打印任何传入的参数\"\n",
    "   print(\"输出:\")\n",
    "   print(arg1)\n",
    "   print(vartuple)\n",
    "   return\n",
    "\n",
    "def another_exp(*vartuple):\n",
    "    return vartuple\n",
    " \n",
    "# 调用printinfo 函数\n",
    "printinfo(10)\n",
    "printinfo(70, 60, 50)\n",
    "\n",
    "print(another_exp(70, 60, 50))"
   ]
  },
  {
   "cell_type": "markdown",
   "metadata": {},
   "source": [
    "### 匿名函数\n",
    "* 并不以def的形式去命名一个函数名称，但是却实现了一个函数的功能  \n",
    "* 格式：`lambda 参数:运算操作&返回值`  \n",
    "* 注意：这里可以使用变长参数*及tuple相关操作"
   ]
  },
  {
   "cell_type": "code",
   "execution_count": 7,
   "metadata": {},
   "outputs": [
    {
     "name": "stdout",
     "output_type": "stream",
     "text": [
      "相加后的值为: 30\n",
      "相加后的值为: 50\n"
     ]
    }
   ],
   "source": [
    "# python 使用 lambda 来创建匿名函数。lambda [arg1,arg2,.....argn]:expression\n",
    "sum = lambda arg1, arg2: arg1 + arg2;\n",
    " \n",
    "# 调用sum函数\n",
    "print(\"相加后的值为:\", sum( 10, 20 ))\n",
    "print(\"相加后的值为:\", sum( 20, 30 ))"
   ]
  },
  {
   "cell_type": "markdown",
   "metadata": {},
   "source": [
    "### 内置高阶函数\n",
    "python中有很多非常实用的內建函数和高阶函数\n",
    "#### filter\n",
    "* **解释**：filter()函数接收一个函数 f 和一个list，这个函数 f 的作用是对每个List中的元素进行判断，返回 True或 False，filter()根据判断结果自动过滤掉不符合条件的元素，返回由符合条件元素组成的新list。\n",
    "* **作用**：将给定List数据用function函数进行***规则筛选***，返回需要的List数组"
   ]
  },
  {
   "cell_type": "code",
   "execution_count": 21,
   "metadata": {},
   "outputs": [
    {
     "data": {
      "text/plain": [
       "[1, 3, 5]"
      ]
     },
     "execution_count": 21,
     "metadata": {},
     "output_type": "execute_result"
    }
   ],
   "source": [
    "#判断是否为正数\n",
    "def is_positive(x):\n",
    "    return x > 0\n",
    "\n",
    "result = filter(is_positive,[1,-6,3,5,-1,-10,0])\n",
    "\n",
    "# result是一个filter对象，而非直接是List，因此py3中需要在最外面加上list()函数，在py2中则需要直接输出list\n",
    "list(result)"
   ]
  },
  {
   "cell_type": "markdown",
   "metadata": {},
   "source": [
    "#### map\n",
    "* **解释**：map()称为映射函数，是 Python 内置的高阶函数，它接收一个函数 f 和一个 list，并通过把函数 f 依次作用在 list 的每个元素上，得到一个新的 list 并返回。\n",
    "* **作用**：对List中的元素进行函数操作\n",
    "* filter和map的对比\n",
    "    * filter：函数规则输出应为逻辑型，然后返回List中逻辑为True的值\n",
    "    * map：函数处理完是什么就显示什么，即使是逻辑型也原样输出，不会回List将判断后为True的值返回"
   ]
  },
  {
   "cell_type": "code",
   "execution_count": 22,
   "metadata": {},
   "outputs": [
    {
     "data": {
      "text/plain": [
       "[1, 9, 25, 1, 100, 0]"
      ]
     },
     "execution_count": 22,
     "metadata": {},
     "output_type": "execute_result"
    }
   ],
   "source": [
    "## 每个元素求平方\n",
    "def f(x):\n",
    "    return x * x\n",
    "result = map(f,[1,3,5,-1,-10,0])\n",
    "list(result)"
   ]
  },
  {
   "cell_type": "markdown",
   "metadata": {},
   "source": [
    "#### reduce\n",
    "* **解释**：reduce()函数也是Python内置的一个高阶函数。reduce()函数接收的参数和 map()类似，一个函数 f，一个list，但行为和 map()不同，reduce()传入的函数 f 必须接收两个参数，reduce()对list的每个元素反复调用函数f，并返回最终结果值。\n",
    "* **区分**：map和reduce\n",
    "    * map：单个变量处理\n",
    "    * reduce：List中两个元素一组，一起处理：例子中：1+3=4, 4+5=9, 9+(-1)=8, 8+(-10)=-2, (-2)+0=-2"
   ]
  },
  {
   "cell_type": "code",
   "execution_count": 41,
   "metadata": {},
   "outputs": [
    {
     "data": {
      "text/plain": [
       "9"
      ]
     },
     "execution_count": 41,
     "metadata": {},
     "output_type": "execute_result"
    }
   ],
   "source": [
    "from functools import reduce\n",
    "## 求和\n",
    "def add(x,y):\n",
    "    return x + y\n",
    "result = reduce(add,[1,3,5,-1,-10,0])\n",
    "result"
   ]
  },
  {
   "cell_type": "markdown",
   "metadata": {},
   "source": [
    "##### filter与map换过来用"
   ]
  },
  {
   "cell_type": "code",
   "execution_count": 35,
   "metadata": {},
   "outputs": [
    {
     "name": "stdout",
     "output_type": "stream",
     "text": [
      "<filter object at 0x113025f98>\n",
      "[1, -6, 3, 5, -1, -10]\n"
     ]
    }
   ],
   "source": [
    "# 将map中的function应用于filter()\n",
    "#判断是否为正数\n",
    "def is_positive(x):\n",
    "    return x*x\n",
    "result = filter(is_positive,[1,-6,3,5,-1,-10,0])\n",
    "print(result)\n",
    "print(list(result))"
   ]
  },
  {
   "cell_type": "code",
   "execution_count": 36,
   "metadata": {},
   "outputs": [
    {
     "name": "stdout",
     "output_type": "stream",
     "text": [
      "<map object at 0x113034470>\n",
      "[True, True, True, False, False, False]\n"
     ]
    }
   ],
   "source": [
    "# 将filter中的function应用于map()\n",
    "def f(x):\n",
    "    return x > 0\n",
    "result = map(f,[1,3,5,-1,-10,0])\n",
    "print(result)\n",
    "print(list(result))"
   ]
  },
  {
   "cell_type": "markdown",
   "metadata": {},
   "source": [
    "## 文件与目录操作\n",
    "### 读文件\n",
    "\n",
    "* `open()`函数：要以读文件的模式打开一个文件对象，使用Python内置的open( )函数，传入文件名和标示符(具体操作命令：只读，读，写)：\n",
    "\n",
    "* `read()`方法：如果文件打开成功，接下来，调用read( )方法可以**一次性读取文件的全部内容，Python把内容读到内存，用一个str对象表示，并用返回值返回**：\n",
    "\n",
    "* `close()`方法：最后一步是调用close( )方法关闭文件。文件使用完毕后必须关闭，因为文件对象会占用操作系统的资源"
   ]
  },
  {
   "cell_type": "code",
   "execution_count": 52,
   "metadata": {},
   "outputs": [
    {
     "name": "stdout",
     "output_type": "stream",
     "text": [
      "<_io.TextIOWrapper name='print_str.py' mode='r' encoding='UTF-8'>\n",
      "print(\"hello!\")\n"
     ]
    }
   ],
   "source": [
    "# 要以读文件的模式打开一个文件对象，使用Python内置的`open()`函数，传入文件名和标示符：\n",
    "f = open('print_str.py', 'r')\n",
    "# 如果文件打开成功，接下来，调用read()方法可以一次读取文件的全部内容，Python把内容读到内存，用一个str对象表示：\n",
    "print(f.read())\n",
    "# 最后一步是调用close()方法关闭文件。文件使用完毕后必须关闭，因为文件对象会占用操作系统的资源\n",
    "f.close()"
   ]
  },
  {
   "cell_type": "markdown",
   "metadata": {},
   "source": [
    "#### 使用异常处理模板打开文件"
   ]
  },
  {
   "cell_type": "code",
   "execution_count": 55,
   "metadata": {},
   "outputs": [
    {
     "name": "stdout",
     "output_type": "stream",
     "text": [
      "[Errno 2] No such file or directory: '/path/to/file'\n"
     ]
    },
    {
     "ename": "NameError",
     "evalue": "name 'f1' is not defined",
     "output_type": "error",
     "traceback": [
      "\u001b[0;31m---------------------------------------------------------------------------\u001b[0m",
      "\u001b[0;31mNameError\u001b[0m                                 Traceback (most recent call last)",
      "\u001b[0;32m<ipython-input-55-82981705a507>\u001b[0m in \u001b[0;36m<module>\u001b[0;34m()\u001b[0m\n\u001b[1;32m      6\u001b[0m     \u001b[0mprint\u001b[0m\u001b[0;34m(\u001b[0m\u001b[0me\u001b[0m\u001b[0;34m)\u001b[0m\u001b[0;34m\u001b[0m\u001b[0m\n\u001b[1;32m      7\u001b[0m \u001b[0;32mfinally\u001b[0m\u001b[0;34m:\u001b[0m\u001b[0;34m\u001b[0m\u001b[0m\n\u001b[0;32m----> 8\u001b[0;31m     \u001b[0;32mif\u001b[0m \u001b[0mf1\u001b[0m\u001b[0;34m:\u001b[0m\u001b[0;34m\u001b[0m\u001b[0m\n\u001b[0m\u001b[1;32m      9\u001b[0m         \u001b[0mf1\u001b[0m\u001b[0;34m.\u001b[0m\u001b[0mclose\u001b[0m\u001b[0;34m(\u001b[0m\u001b[0;34m)\u001b[0m\u001b[0;34m\u001b[0m\u001b[0m\n",
      "\u001b[0;31mNameError\u001b[0m: name 'f1' is not defined"
     ]
    }
   ],
   "source": [
    "# 使用异常处理模式来打开文件（模板）（防止文件不存在的情况，返回具体的错误内容）\n",
    "try:\n",
    "    f1 = open('/path/to/file', 'r')\n",
    "    f1.read()\n",
    "except Exception as e:\n",
    "    print(e)\n",
    "finally:\n",
    "    if f1:\n",
    "        f1.close()"
   ]
  },
  {
   "cell_type": "markdown",
   "metadata": {},
   "source": [
    "#### 逐行读取\n",
    "* 将file的每一行使用readlines( )函数读成一个List，然后用for循环遍历取出来\n",
    "* 使用with... as...命令：进行了`open('test.py','r')`操作，并且返回此操作句柄`f`"
   ]
  },
  {
   "cell_type": "code",
   "execution_count": 76,
   "metadata": {},
   "outputs": [
    {
     "name": "stdout",
     "output_type": "stream",
     "text": [
      "\n",
      "新款Powerbaets 4耳机来啦！外形像有线版Powerbeats Pro\n",
      "\n",
      "从更新的插图中我们可以看到Powerbaets 4与Powerbaets Pro非常相似，采用了更加弯曲的耳挂设计，与Powerbaets Pro有角度基本相同的环绕式耳钩，耳塞部分仍采用Powerbaets 3的设计，可以说是完美的将Powerbaets 3与Powerbaets Pro进行了融合。\n",
      "\n",
      "另外，我们可以清楚地看到在图片中耳钩的底部是有一条向下延伸的电线的，这说明Powerbaets 4并不是真无线耳机，应该还是回归系列的蓝牙运动耳机设计。\n",
      "\n",
      "\n",
      "值得一提的是，此次的Powerbaets 4将和Powerbaets Pro采用同款H1芯片，这是苹果真无线蓝牙耳机AirPods二代与AirPods Pro上的芯片。这会使得Powerbaets 4具有更好的连接性，还将能支持“Hey Siri”语音指令以及“通过Siri阅读消息”等功能。除了不是真无线耳机，Powerbaets 4的功能配置与Powerbaets Pro几乎和完全相同，价格可能会与Powerbaets 3类似，是一款性价比很高的选择。\n",
      "\n",
      "目前该款耳机的发布时间还不能确定，但从此前AirPods Pro曝光的时间来看，系统内出现产品图片后应该很快就会发布新品，大家敬请期待吧！（编辑：NJNR315）\n"
     ]
    }
   ],
   "source": [
    "# 完整代码\n",
    "with open('test.py', 'r') as f:\n",
    "    for line in f.readlines():\n",
    "        print(line.strip())"
   ]
  },
  {
   "cell_type": "code",
   "execution_count": 84,
   "metadata": {},
   "outputs": [
    {
     "name": "stdout",
     "output_type": "stream",
     "text": [
      "另外，我们可以清楚地看到在图片中耳钩的底部是有一条向下延伸的电线的，这说明Powerbaets 4并不是真无线耳机，应该还是回归系列的蓝牙运动耳机设计。\n",
      "另外，我们可以清楚地看到在图片中耳钩的底部是有一条向下延伸的电线的，这说明Powerbaets 4并不是真无线耳机，应该还是回归系列的蓝牙运动耳机设计。\n",
      "\n"
     ]
    }
   ],
   "source": [
    "# 修改测试（其中f.readlines()是List型）\n",
    "with open('test.py', 'r') as f:\n",
    "#     以下两条包含readlines的语句只能运行一个：\n",
    "#     f.readlines() # 返回有每行值的List\n",
    "    value = f.readlines()[5] # 返回具体某行的值str\n",
    "    print(value.strip())\n",
    "    print(value)\n",
    "    \n",
    "    for line in f.readlines():\n",
    "        print(line.strip())"
   ]
  },
  {
   "cell_type": "code",
   "execution_count": 86,
   "metadata": {},
   "outputs": [
    {
     "name": "stdout",
     "output_type": "stream",
     "text": [
      "\n",
      "新款Powerbaets 4耳机来啦！外形像有线版Powerbeats Pro\n",
      "\n",
      "从更新的插图中我们可以看到Powerbaets 4与Powerbaets Pro非常相似，采用了更加弯曲的耳挂设计，与Powerbaets Pro有角度基本相同的环绕式耳钩，耳塞部分仍采用Powerbaets 3的设计，可以说是完美的将Powerbaets 3与Powerbaets Pro进行了融合。\n",
      "\n",
      "另外，我们可以清楚地看到在图片中耳钩的底部是有一条向下延伸的电线的，这说明Powerbaets 4并不是真无线耳机，应该还是回归系列的蓝牙运动耳机设计。\n",
      "\n",
      "\n",
      "值得一提的是，此次的Powerbaets 4将和Powerbaets Pro采用同款H1芯片，这是苹果真无线蓝牙耳机AirPods二代与AirPods Pro上的芯片。这会使得Powerbaets 4具有更好的连接性，还将能支持“Hey Siri”语音指令以及“通过Siri阅读消息”等功能。除了不是真无线耳机，Powerbaets 4的功能配置与Powerbaets Pro几乎和完全相同，价格可能会与Powerbaets 3类似，是一款性价比很高的选择。\n",
      "\n",
      "目前该款耳机的发布时间还不能确定，但从此前AirPods Pro曝光的时间来看，系统内出现产品图片后应该很快就会发布新品，大家敬请期待吧！（编辑：NJNR315）\n"
     ]
    }
   ],
   "source": [
    "# 对比一下使用f.read()读取的效果：f.read()是str型（没有遍历的必要了），f.readlines()是List型\n",
    "with open('test.py') as f2:\n",
    "    print(f2.read())"
   ]
  },
  {
   "cell_type": "markdown",
   "metadata": {},
   "source": [
    "### 写文件"
   ]
  },
  {
   "cell_type": "code",
   "execution_count": 87,
   "metadata": {},
   "outputs": [
    {
     "data": {
      "text/plain": [
       "14"
      ]
     },
     "execution_count": 87,
     "metadata": {},
     "output_type": "execute_result"
    },
    {
     "data": {
      "text/plain": [
       "8"
      ]
     },
     "execution_count": 87,
     "metadata": {},
     "output_type": "execute_result"
    }
   ],
   "source": [
    "# 一条条str输进去\n",
    "with open('test.txt', 'w') as f:\n",
    "    f.write('Hello, world!\\n') # 想换行一定要自己加\\n\n",
    "    f.write('new line')"
   ]
  },
  {
   "cell_type": "code",
   "execution_count": 92,
   "metadata": {},
   "outputs": [
    {
     "data": {
      "text/plain": [
       "2"
      ]
     },
     "execution_count": 92,
     "metadata": {},
     "output_type": "execute_result"
    },
    {
     "data": {
      "text/plain": [
       "2"
      ]
     },
     "execution_count": 92,
     "metadata": {},
     "output_type": "execute_result"
    },
    {
     "data": {
      "text/plain": [
       "2"
      ]
     },
     "execution_count": 92,
     "metadata": {},
     "output_type": "execute_result"
    },
    {
     "data": {
      "text/plain": [
       "2"
      ]
     },
     "execution_count": 92,
     "metadata": {},
     "output_type": "execute_result"
    },
    {
     "data": {
      "text/plain": [
       "2"
      ]
     },
     "execution_count": 92,
     "metadata": {},
     "output_type": "execute_result"
    }
   ],
   "source": [
    "# for遍历版本\n",
    "with open('test_new.txt', 'w') as f:\n",
    "    for i in range(5):\n",
    "        f.write(str(i) + '\\n')\n",
    "    f.close()"
   ]
  },
  {
   "cell_type": "code",
   "execution_count": 95,
   "metadata": {},
   "outputs": [],
   "source": [
    "# 将文本每一行作为元素输入List,通过List一通写入文档\n",
    "lines = ['Hello, python!\\n', 'New text!\\n', '恭喜恭喜恭喜发大财']\n",
    "with open('new.txt', 'w') as f:\n",
    "    f.writelines(lines)"
   ]
  },
  {
   "cell_type": "code",
   "execution_count": 97,
   "metadata": {},
   "outputs": [
    {
     "data": {
      "text/plain": [
       "2"
      ]
     },
     "execution_count": 97,
     "metadata": {},
     "output_type": "execute_result"
    },
    {
     "data": {
      "text/plain": [
       "2"
      ]
     },
     "execution_count": 97,
     "metadata": {},
     "output_type": "execute_result"
    },
    {
     "data": {
      "text/plain": [
       "2"
      ]
     },
     "execution_count": 97,
     "metadata": {},
     "output_type": "execute_result"
    },
    {
     "data": {
      "text/plain": [
       "2"
      ]
     },
     "execution_count": 97,
     "metadata": {},
     "output_type": "execute_result"
    },
    {
     "data": {
      "text/plain": [
       "2"
      ]
     },
     "execution_count": 97,
     "metadata": {},
     "output_type": "execute_result"
    }
   ],
   "source": [
    "# 异常处理模式\n",
    "try:\n",
    "    f1 = open('exception_model.txt', 'w')\n",
    "    for i in range(5):\n",
    "        f1.write(str(i) + '\\n')\n",
    "except Exception as e:\n",
    "    print(e)\n",
    "finally:\n",
    "    if f1:\n",
    "        f1.close()"
   ]
  },
  {
   "cell_type": "markdown",
   "metadata": {},
   "source": [
    "### 目录操作\n",
    "涉及到的操作：\n",
    "* `os.path.abspath()` 展示绝对路径\n",
    "* `os.mkdir()` 新建文件夹\n",
    "* `os.rename()` 重命名文件\n",
    "* `os.listdir()` 列出文件夹\n",
    "* `os.path.isdir()` 判断是否为文件夹\n",
    "* `os.path.isfile()` 判断是否为文件\n",
    "\n",
    "列表推导式的正确打开姿势：\n",
    "* **列出当前路径下的所有文件夹**  \n",
    "`[x for x in os.listdir('.') if os.path.isdir(x)]`\n",
    "    * 指令：\n",
    "        * `for x in os.listdir('.')`：取出当前路径下的所有元素\n",
    "        * `if os.path.isdir(x)`：如果这个元素是一个路径\n",
    "    * `[x 指令]`：取出所有符合条件的x\n",
    "\n",
    "* **列出当前路径下的所有python脚本文件**  \n",
    "`[x for x in os.listdir('.') if os.path.isfile(x) and os.path.splitext(x)[1]=='.py']`\n",
    "    * 指令：\n",
    "        * `for x in os.listdir('.')`：取出当前路径下的所有元素\n",
    "        * `if os.path.isfile(x) and os.path.splitext(x)[1]=='.py']`：如果这个元素是一个文件 & 是以.py为扩展名的（`os.path.splitext(x)`的作用是分离文件名和扩展名，所以返回List中第一个元素[0]是文件名，第二个元素[1]是扩展名）  \n",
    "    * `[x 指令]`：取出所有符合条件的x"
   ]
  },
  {
   "cell_type": "code",
   "execution_count": 98,
   "metadata": {},
   "outputs": [
    {
     "data": {
      "text/plain": [
       "'/Users/ye/GitHubFile/ChinaHadoop/A1_python'"
      ]
     },
     "execution_count": 98,
     "metadata": {},
     "output_type": "execute_result"
    },
    {
     "data": {
      "text/plain": [
       "['testdir', '.ipynb_checkpoints']"
      ]
     },
     "execution_count": 98,
     "metadata": {},
     "output_type": "execute_result"
    },
    {
     "data": {
      "text/plain": [
       "['print_str.py', 'test.py']"
      ]
     },
     "execution_count": 98,
     "metadata": {},
     "output_type": "execute_result"
    }
   ],
   "source": [
    "# 需要用到os内置模块\n",
    "import os\n",
    "# 列举当前绝对路径\n",
    "os.path.abspath('.')\n",
    "# 新建文件夹\n",
    "os.mkdir('./testdir')\n",
    "# 文件重命名\n",
    "os.rename('test.txt', 'test2.txt')\n",
    "# 列出当前路径下的所有文件夹\n",
    "[x for x in os.listdir('.') if os.path.isdir(x)]\n",
    "# 列出当前路径下的所有python脚本文件\n",
    "[x for x in os.listdir('.') if os.path.isfile(x) and os.path.splitext(x)[1]=='.py']"
   ]
  },
  {
   "cell_type": "code",
   "execution_count": 101,
   "metadata": {},
   "outputs": [
    {
     "data": {
      "text/plain": [
       "['exception_model.txt', '.DS_Store', 'Python基础（第一周）--消灭一集是一集.ipynb', 'test2.txt', 'print_str.py', 'test.py', 'test_new.txt', 'new.txt']"
      ]
     },
     "execution_count": 101,
     "metadata": {},
     "output_type": "execute_result"
    },
    {
     "data": {
      "text/plain": [
       "['exception_model.txt', '.DS_Store', 'Python基础（第一周）--消灭一集是一集.ipynb', 'test2.txt', 'print_str.py', 'test.py', 'testdir', '.ipynb_checkpoints', 'test_new.txt', 'new.txt']"
      ]
     },
     "execution_count": 101,
     "metadata": {},
     "output_type": "execute_result"
    }
   ],
   "source": [
    "[x for x in os.listdir('.') if os.path.isfile(x)]\n",
    "[x for x in os.listdir('.')]"
   ]
  },
  {
   "cell_type": "markdown",
   "metadata": {},
   "source": [
    "## 面向对象\n",
    "寒小阳blog：https://blog.csdn.net/han_xiaoyang\n",
    "\n",
    "### 面向对象编程\n",
    "\n",
    "- 类class与对象object \n",
    "> - 对属于同一类事物的抽象叫类class\n",
    ">   - 比如汽车，蛋糕，猫。 \n",
    ">   - 之前学习使用的都是Python自带的数据类，这节课我们学习自己定义类class\n",
    "> - 某类事物中的一个具体的实例叫对象Object\n",
    ">   - 比如小区门口的那辆黑色的奥迪汽车，好利来里的那种奶油芝士蛋糕，隔壁小花家的那只小花猫。\n",
    "\n",
    "- 类与对象的关系\n",
    "> - 类定义封装了数据与方法，类就是对象的模板，可以批量生产出许多的对象。\n",
    ">   - 比如`a=7`,7其实是整形数字int类的一个实例。那int这个类还可以’复刻’出许许多多的整形对象。这些对象共有的特征就是：整数性。\n",
    "> - 类(class)的变量是所有对象共享使用, 只有一个拷贝, 所有对象修改, 都可以被其他对象所见; \n",
    "> - 对象(object)的变量由类的每个对象所拥有, 每个对象都包含自己的一份拷贝, 不会影响其他对象;"
   ]
  },
  {
   "cell_type": "markdown",
   "metadata": {},
   "source": [
    "### 类的设计与创建\n",
    "* `empCount` 变量是一个<font color=#FF0000>**类成员变量**</font>，它的值将在这个类的所有实例之间共享。你可以在**内部类或外部类**使用 `Employee.empCount` 访问。\n",
    "* 第一种方法`__init__()`方法是一种特殊的方法，被称为类的<font color=#FF0000>**构造函数/初始化方法**</font>，当**创建了这个类的实例时**就会调用该方法\n",
    "* `self` 代表**<font color=#FF0000>类的实例**</font>，self 在**定义类的方法时是必须有**的，虽然在**调用时不必传入相应的参数**。\n",
    "* `displayCount()`和`displayEmployee()`称为**<font color=#FF0000>类函数/类方法</font>**\n",
    "\n",
    "区分：\n",
    "* 类变量：调用 -> 类调用`Employee.empCount`\n",
    "* 实例变量：调用 -> 内部实例调用`self.name`或`self.salary`，即**self.参数名**。而从外部调用则使用**实例变量名.类函数名**"
   ]
  },
  {
   "cell_type": "code",
   "execution_count": 103,
   "metadata": {},
   "outputs": [],
   "source": [
    "# 使用 class 语句来创建一个新类，class 之后为类的名称（标识符规范->首字母大写）并以冒号结尾，类的主体由类成员，方法，数据属性组成\n",
    "\n",
    "class Employee:\n",
    "    \"所有员工的基类\"\n",
    "    empCount = 0\n",
    "\n",
    "    def __init__(self, name, salary):\n",
    "        self.name = name\n",
    "        self.salary = salary\n",
    "        Employee.empCount += 1\n",
    "\n",
    "    def displayCount(self):\n",
    "        print(\"总共雇员数量 %d\" % Employee.empCount)\n",
    "\n",
    "    def displayEmployee(self):\n",
    "        print(\"姓名: \", self.name,  \", 工资: \", self.salary)\n",
    "        "
   ]
  },
  {
   "cell_type": "code",
   "execution_count": 104,
   "metadata": {},
   "outputs": [
    {
     "data": {
      "text/plain": [
       "'创建 Employee 类的第一个对象'"
      ]
     },
     "execution_count": 104,
     "metadata": {},
     "output_type": "execute_result"
    },
    {
     "data": {
      "text/plain": [
       "'创建 Employee 类的第二个对象'"
      ]
     },
     "execution_count": 104,
     "metadata": {},
     "output_type": "execute_result"
    }
   ],
   "source": [
    "# 创建对象\n",
    "\"创建 Employee 类的第一个对象\"\n",
    "emp1 = Employee(\"张三\", 2000)\n",
    "\"创建 Employee 类的第二个对象\"\n",
    "emp2 = Employee(\"李四\", 5000)"
   ]
  },
  {
   "cell_type": "code",
   "execution_count": 106,
   "metadata": {},
   "outputs": [
    {
     "name": "stdout",
     "output_type": "stream",
     "text": [
      "姓名:  张三 , 工资:  2000\n",
      "姓名:  李四 , 工资:  5000\n",
      "总共雇员数2\n"
     ]
    }
   ],
   "source": [
    "# 调用成员函数\n",
    "emp1.displayEmployee()\n",
    "emp2.displayEmployee()\n",
    "print(\"总共雇员数%d\" % Employee.empCount)"
   ]
  },
  {
   "cell_type": "code",
   "execution_count": 107,
   "metadata": {},
   "outputs": [
    {
     "name": "stdout",
     "output_type": "stream",
     "text": [
      "Employee.__doc__: 所有员工的基类\n",
      "Employee.__name__: Employee\n",
      "Employee.__module__: __main__\n",
      "Employee.__bases__: (<class 'object'>,)\n",
      "Employee.__dict__: {'__module__': '__main__', '__doc__': '所有员工的基类', 'empCount': 2, '__init__': <function Employee.__init__ at 0x11301f598>, 'displayCount': <function Employee.displayCount at 0x112ed4c80>, 'displayEmployee': <function Employee.displayEmployee at 0x112ed4048>, '__dict__': <attribute '__dict__' of 'Employee' objects>, '__weakref__': <attribute '__weakref__' of 'Employee' objects>}\n"
     ]
    }
   ],
   "source": [
    "# 类的固有属性\n",
    "\n",
    "#__dict__ : 类的属性（包含一个字典，由类的数据属性组成）\n",
    "#__doc__ :类的文档字符串\n",
    "#__name__: 类名\n",
    "#__module__: 类定义所在的模块（类的全名是'__main__.className'，如果类位于一个导入模块mymod中，那么className.__module__ 等于 mymod）\n",
    "#__bases__ : 类的所有父类构成元素（包含了一个由所有父类组成的元组）\n",
    "print(\"Employee.__doc__:\", Employee.__doc__)\n",
    "print(\"Employee.__name__:\", Employee.__name__)\n",
    "print(\"Employee.__module__:\", Employee.__module__)\n",
    "print(\"Employee.__bases__:\", Employee.__bases__)\n",
    "print(\"Employee.__dict__:\", Employee.__dict__)"
   ]
  },
  {
   "cell_type": "markdown",
   "metadata": {},
   "source": [
    "## 第三方库使用\n",
    "\n",
    "一般来说，第三方库都会在Python官方的pypi.python.org网站注册，要安装一个第三方库，必须先知道该库的名称，可以在官网或者pypi上搜索。\n",
    "\n",
    "第三方库——Python Imaging Library，这是Python下非常强大的处理图像的工具库。比如Python Imaging Library的名称叫pillow，因此，安装Python Imaging Library的命令就是："
   ]
  },
  {
   "cell_type": "code",
   "execution_count": 110,
   "metadata": {},
   "outputs": [
    {
     "name": "stdout",
     "output_type": "stream",
     "text": [
      "Requirement already satisfied: pillow in /Users/ye/anaconda3/lib/python3.6/site-packages (5.0.0)\r\n"
     ]
    }
   ],
   "source": [
    "!pip install pillow"
   ]
  },
  {
   "cell_type": "code",
   "execution_count": 116,
   "metadata": {},
   "outputs": [
    {
     "name": "stdout",
     "output_type": "stream",
     "text": [
      "JPEG (1870, 434) RGB\n",
      "JPEG (400, 92) RGB\n"
     ]
    }
   ],
   "source": [
    "from PIL import Image\n",
    "im = Image.open('./python.png')\n",
    "print(im.format, im.size, im.mode)\n",
    "\n",
    "#本地弹窗显示图片\n",
    "im.show()\n",
    "\n",
    "#对图片进行resize（保大不保小）\n",
    "im.thumbnail((400, 100))\n",
    "\n",
    "#存储图片\n",
    "im.save('python.jpg', 'JPEG')\n",
    "\n",
    "im1 = Image.open('./python.jpg')\n",
    "print(im1.format, im1.size, im1.mode)\n",
    "im1.show()"
   ]
  },
  {
   "cell_type": "markdown",
   "metadata": {},
   "source": [
    "## Python速查表\n",
    "![](./python-cheatsheet1.png)\n",
    "高版本中用`'sex' in d`而不用`d.has_key('sex')`\n",
    "![](./python-cheatsheet2.png)\n",
    "python3中try用以下写法\n",
    "```\n",
    "try:\n",
    "    statement\n",
    "except Exception as e:\n",
    "    print(\"Error happen...\")\n",
    "```"
   ]
  },
  {
   "cell_type": "code",
   "execution_count": null,
   "metadata": {},
   "outputs": [],
   "source": []
  }
 ],
 "metadata": {
  "kernelspec": {
   "display_name": "Python 3",
   "language": "python",
   "name": "python3"
  },
  "language_info": {
   "codemirror_mode": {
    "name": "ipython",
    "version": 3
   },
   "file_extension": ".py",
   "mimetype": "text/x-python",
   "name": "python",
   "nbconvert_exporter": "python",
   "pygments_lexer": "ipython3",
   "version": "3.6.4"
  },
  "toc": {
   "base_numbering": 1,
   "nav_menu": {},
   "number_sections": true,
   "sideBar": true,
   "skip_h1_title": false,
   "title_cell": "Table of Contents",
   "title_sidebar": "Contents",
   "toc_cell": false,
   "toc_position": {},
   "toc_section_display": true,
   "toc_window_display": false
  }
 },
 "nbformat": 4,
 "nbformat_minor": 2
}
