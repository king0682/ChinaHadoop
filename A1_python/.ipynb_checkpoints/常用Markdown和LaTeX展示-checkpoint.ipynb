{
 "cells": [
  {
   "cell_type": "markdown",
   "metadata": {},
   "source": [
    "### 给出的Markdown & LaTeX参考案例\n",
    "\n",
    "LaTeX实现的原理类似于HTML，Notebook中的Markdown格式解释器中内置Latex渲染器，可以将由\\$与\\$包裹的内容进行渲染并产生最终效果。\n",
    "\n",
    "\n",
    "#### 希腊字母   \n",
    "|希腊字母小写/大写|LaTeX形式|希腊字母小写/大写|LaTeX形式|\n",
    "|:---|:---|:---|:---|\n",
    "|α A|\\alpha A\t|μ N|\t\\mu N|\n",
    "|β B|\\beta B|ξ Ξ|\\xi \\Xi|\n",
    "|γ Γ\t|\\gamma \\Gamma\t|o O|o O|\n",
    "|δ Δ\t|\\delta \\ Delta\t|π Π|\t\\pi \\Pi|\n",
    "|ϵ ε E\t|\\epsilon \\varepsilon E\t|ρ ϱ P\t|\\rho \\varrho P|\n",
    "|ζ Z\t|\\zeta Z\t|σ Σ|\t\\sigma \\Sigma|\n",
    "|η H\t|\\eta H\t|τ T\t|\\tau T|\n",
    "|θ ϑ Θ\t|\\theta \\vartheta \\Theta|\tυ Υ|\t\\upsilon \\Upsilon|\n",
    "|ι I\t|\\iota I\t|ϕ φ Φ|\t\\phi \\varphi \\Phi|\n",
    "|κ K\t|\\kappa K\t|χ X\t|\\chi X|\n",
    "|λ Λ\t|\\lambda \\Lambda\t|ψ Ψ|\t\\psi \\Psi|\n",
    "\n",
    "#### 不同字体\n",
    "mathbb:$\\mathbb{ABCDEFGHIJKLMNOPQRSTUVWXYZ,abcdefghijklmnopqrstuvwxyz}$   \n",
    "mathscr:$\\mathscr{ABCDEFGHIJKLMNOPQRSTUVWXYZ,abcdefghijklmnopqrstuvwxyz}$   \n",
    "mathcal:$\\mathcal{ABCDEFGHIJKLMNOPQRSTUVWXYZ,abcdefghijklmnopqrstuvwxyz}$   \n",
    "mathbf:$\\mathbf{ABCDEFGHIJKLMNOPQRSTUVWXYZ,abcdefghijklmnopqrstuvwxyz}$\n",
    "\n",
    "#### 取消默认斜体\n",
    "默认倾斜：$ x_{z}$   \n",
    "取消默认倾斜$\\rm x_{z}$\n",
    "\n",
    "#### 特殊符号\n",
    "$\\bigcap_{i=1}^{n} \\bigcup_{i=1}^n  \\binom{5}{3}$   \n",
    "$\\forall$- 全称量词,表示任意的，$\\exists$- 存在量词,表示存在/至少一个   \n",
    "$\\partial$ 偏导符号， $\\propto$ 正比符号，$\\mathop{\\lim}_{n \\to \\infty }f(x)$无穷符号及极限\n",
    "\n",
    "#### 简单公式\n",
    ">$y=x^2$\n",
    "\n",
    ">$e^{i\\pi} + 1 = 0$\n",
    "\n",
    ">$e^x=\\sum_{i=0}^\\infty \\frac{1}{i!}x^i$\n",
    "\n",
    ">独占一行：$$\\frac{n!}{k!(n-k)!} = {n \\choose k}$$\n",
    "\n",
    "#### 矩阵\n",
    "$A_{m,n} =\n",
    " \\begin{pmatrix}\n",
    "  a_{1,1} & a_{1,2} & \\cdots & a_{1,n} \\\\\n",
    "  a_{2,1} & a_{2,2} & \\cdots & a_{2,n} \\\\\n",
    "  \\vdots  & \\vdots  & \\ddots & \\vdots  \\\\\n",
    "  a_{m,1} & a_{m,2} & \\cdots & a_{m,n}\n",
    " \\end{pmatrix}$"
   ]
  },
  {
   "cell_type": "code",
   "execution_count": null,
   "metadata": {},
   "outputs": [],
   "source": []
  }
 ],
 "metadata": {
  "kernelspec": {
   "display_name": "Python 3",
   "language": "python",
   "name": "python3"
  },
  "language_info": {
   "codemirror_mode": {
    "name": "ipython",
    "version": 3
   },
   "file_extension": ".py",
   "mimetype": "text/x-python",
   "name": "python",
   "nbconvert_exporter": "python",
   "pygments_lexer": "ipython3",
   "version": "3.6.4"
  },
  "toc": {
   "base_numbering": 1,
   "nav_menu": {},
   "number_sections": true,
   "sideBar": true,
   "skip_h1_title": false,
   "title_cell": "Table of Contents",
   "title_sidebar": "Contents",
   "toc_cell": false,
   "toc_position": {},
   "toc_section_display": true,
   "toc_window_display": false
  }
 },
 "nbformat": 4,
 "nbformat_minor": 2
}
